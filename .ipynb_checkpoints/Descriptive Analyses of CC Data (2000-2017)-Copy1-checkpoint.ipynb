{
 "cells": [
  {
   "cell_type": "markdown",
   "metadata": {},
   "source": [
    "This notebook contains code and output of descriptive analyses for the 2000-2017 CC dataset after cleaning"
   ]
  },
  {
   "cell_type": "code",
   "execution_count": 1,
   "metadata": {},
   "outputs": [
    {
     "name": "stderr",
     "output_type": "stream",
     "text": [
      "C:\\Users\\Christopher\\Anaconda3\\lib\\site-packages\\ggplot\\utils.py:81: FutureWarning: pandas.tslib is deprecated and will be removed in a future version.\n",
      "You can access Timestamp as pandas.Timestamp\n",
      "  pd.tslib.Timestamp,\n",
      "C:\\Users\\Christopher\\Anaconda3\\lib\\site-packages\\ggplot\\stats\\smoothers.py:4: FutureWarning: The pandas.lib module is deprecated and will be removed in a future version. These are private functions and can be accessed from pandas._libs.lib instead\n",
      "  from pandas.lib import Timestamp\n",
      "C:\\Users\\Christopher\\Anaconda3\\lib\\site-packages\\statsmodels\\compat\\pandas.py:56: FutureWarning: The pandas.core.datetools module is deprecated and will be removed in a future version. Please use the pandas.tseries module instead.\n",
      "  from pandas.core import datetools\n"
     ]
    }
   ],
   "source": [
    "import pandas as pd\n",
    "import numpy as np\n",
    "from ggplot import *\n",
    "#Magic to make plots display\n",
    "\n",
    "%matplotlib notebook"
   ]
  },
  {
   "cell_type": "markdown",
   "metadata": {},
   "source": [
    "Run the following chunk if running from local folder"
   ]
  },
  {
   "cell_type": "code",
   "execution_count": 2,
   "metadata": {
    "collapsed": true
   },
   "outputs": [],
   "source": [
    "df=pd.read_csv('C:\\\\Users\\\\Christopher\\\\Google Drive\\\\TailDemography\\\\outputFiles\\\\cleaned CC data 2000-2017_.csv')"
   ]
  },
  {
   "cell_type": "markdown",
   "metadata": {},
   "source": [
    "Run the following chunk if running from google sheets"
   ]
  },
  {
   "cell_type": "markdown",
   "metadata": {
    "collapsed": true
   },
   "source": [
    "import gspread\n",
    "from oauth2client.service_account import ServiceAccountCredentials\n",
    "#use creds to create a client to interact with the Google Drive API\n",
    "scope = ['https://spreadsheets.google.com/feeds']\n",
    "creds = ServiceAccountCredentials.from_json_keyfile_name('TD_client.json', scope)\n",
    "client = gspread.authorize(creds)\n",
    "\n",
    "data = client.open(\"cleaned CC data 2000-2017_.csv\").sheet1\n",
    "df=pd.DataFrame(data.get_all_records())"
   ]
  },
  {
   "cell_type": "markdown",
   "metadata": {},
   "source": [
    "Now we read the data in from Google Sheets"
   ]
  },
  {
   "cell_type": "markdown",
   "metadata": {},
   "source": [
    "## Analyze the data"
   ]
  },
  {
   "cell_type": "markdown",
   "metadata": {},
   "source": [
    "## Reducing the analyses sample by date range and capture"
   ]
  },
  {
   "cell_type": "code",
   "execution_count": 3,
   "metadata": {
    "collapsed": true
   },
   "outputs": [],
   "source": [
    "# convert date to pandas datetime\n",
    "df.date=pd.to_datetime(df.date)\n",
    "# limiting months to between May and August\n",
    "df = df.loc[(df.date.dt.month>=5) & (df.date.dt.month<=8)]\n",
    "# limit to first captures\n",
    "df_first = df.sort_values(by=['lizardNumber','date'])\n",
    "df_first = df_first.loc[~df_first.duplicated(subset='lizardNumber')]"
   ]
  },
  {
   "cell_type": "markdown",
   "metadata": {},
   "source": [
    "### Reducing data to species and sex of interest"
   ]
  },
  {
   "cell_type": "code",
   "execution_count": 4,
   "metadata": {},
   "outputs": [
    {
     "name": "stdout",
     "output_type": "stream",
     "text": [
      "\n",
      "941 of the original data set are entries belonging to a species of interest ['j']\n",
      "\n",
      "941 of the original data set are entries belonging to a sex categories of interest ['m', 'f']\n"
     ]
    }
   ],
   "source": [
    "species2keep=['j']\n",
    "df_first = df_first.loc[df_first.species.isin(species2keep)]\n",
    "print (\"\\n{} of the original data set are entries belonging to a species of interest {}\"\\\n",
    "       .format(df_first.shape[0],species2keep))\n",
    "sex2keep=['m','f']\n",
    "df = df_first.loc[df_first.sex.isin(sex2keep)]\n",
    "print (\"\\n{} of the original data set are entries belonging to a sex categories of interest {}\"\\\n",
    "       .format(df_first.shape[0],sex2keep))"
   ]
  },
  {
   "cell_type": "markdown",
   "metadata": {},
   "source": [
    "## Number of lizards (_Sj_) by year and sex"
   ]
  },
  {
   "cell_type": "code",
   "execution_count": 7,
   "metadata": {},
   "outputs": [
    {
     "name": "stderr",
     "output_type": "stream",
     "text": [
      "C:\\Users\\Christopher\\Anaconda3\\lib\\site-packages\\pandas\\core\\indexing.py:517: SettingWithCopyWarning: \n",
      "A value is trying to be set on a copy of a slice from a DataFrame.\n",
      "Try using .loc[row_indexer,col_indexer] = value instead\n",
      "\n",
      "See the caveats in the documentation: http://pandas.pydata.org/pandas-docs/stable/indexing.html#indexing-view-versus-copy\n",
      "  self.obj[item] = s\n"
     ]
    }
   ],
   "source": [
    "df.loc[:,'year'] = pd.to_numeric(df.loc[:,'year'])"
   ]
  },
  {
   "cell_type": "code",
   "execution_count": 9,
   "metadata": {
    "scrolled": false
   },
   "outputs": [
    {
     "data": {
      "application/javascript": [
       "/* Put everything inside the global mpl namespace */\n",
       "window.mpl = {};\n",
       "\n",
       "\n",
       "mpl.get_websocket_type = function() {\n",
       "    if (typeof(WebSocket) !== 'undefined') {\n",
       "        return WebSocket;\n",
       "    } else if (typeof(MozWebSocket) !== 'undefined') {\n",
       "        return MozWebSocket;\n",
       "    } else {\n",
       "        alert('Your browser does not have WebSocket support.' +\n",
       "              'Please try Chrome, Safari or Firefox ≥ 6. ' +\n",
       "              'Firefox 4 and 5 are also supported but you ' +\n",
       "              'have to enable WebSockets in about:config.');\n",
       "    };\n",
       "}\n",
       "\n",
       "mpl.figure = function(figure_id, websocket, ondownload, parent_element) {\n",
       "    this.id = figure_id;\n",
       "\n",
       "    this.ws = websocket;\n",
       "\n",
       "    this.supports_binary = (this.ws.binaryType != undefined);\n",
       "\n",
       "    if (!this.supports_binary) {\n",
       "        var warnings = document.getElementById(\"mpl-warnings\");\n",
       "        if (warnings) {\n",
       "            warnings.style.display = 'block';\n",
       "            warnings.textContent = (\n",
       "                \"This browser does not support binary websocket messages. \" +\n",
       "                    \"Performance may be slow.\");\n",
       "        }\n",
       "    }\n",
       "\n",
       "    this.imageObj = new Image();\n",
       "\n",
       "    this.context = undefined;\n",
       "    this.message = undefined;\n",
       "    this.canvas = undefined;\n",
       "    this.rubberband_canvas = undefined;\n",
       "    this.rubberband_context = undefined;\n",
       "    this.format_dropdown = undefined;\n",
       "\n",
       "    this.image_mode = 'full';\n",
       "\n",
       "    this.root = $('<div/>');\n",
       "    this._root_extra_style(this.root)\n",
       "    this.root.attr('style', 'display: inline-block');\n",
       "\n",
       "    $(parent_element).append(this.root);\n",
       "\n",
       "    this._init_header(this);\n",
       "    this._init_canvas(this);\n",
       "    this._init_toolbar(this);\n",
       "\n",
       "    var fig = this;\n",
       "\n",
       "    this.waiting = false;\n",
       "\n",
       "    this.ws.onopen =  function () {\n",
       "            fig.send_message(\"supports_binary\", {value: fig.supports_binary});\n",
       "            fig.send_message(\"send_image_mode\", {});\n",
       "            if (mpl.ratio != 1) {\n",
       "                fig.send_message(\"set_dpi_ratio\", {'dpi_ratio': mpl.ratio});\n",
       "            }\n",
       "            fig.send_message(\"refresh\", {});\n",
       "        }\n",
       "\n",
       "    this.imageObj.onload = function() {\n",
       "            if (fig.image_mode == 'full') {\n",
       "                // Full images could contain transparency (where diff images\n",
       "                // almost always do), so we need to clear the canvas so that\n",
       "                // there is no ghosting.\n",
       "                fig.context.clearRect(0, 0, fig.canvas.width, fig.canvas.height);\n",
       "            }\n",
       "            fig.context.drawImage(fig.imageObj, 0, 0);\n",
       "        };\n",
       "\n",
       "    this.imageObj.onunload = function() {\n",
       "        this.ws.close();\n",
       "    }\n",
       "\n",
       "    this.ws.onmessage = this._make_on_message_function(this);\n",
       "\n",
       "    this.ondownload = ondownload;\n",
       "}\n",
       "\n",
       "mpl.figure.prototype._init_header = function() {\n",
       "    var titlebar = $(\n",
       "        '<div class=\"ui-dialog-titlebar ui-widget-header ui-corner-all ' +\n",
       "        'ui-helper-clearfix\"/>');\n",
       "    var titletext = $(\n",
       "        '<div class=\"ui-dialog-title\" style=\"width: 100%; ' +\n",
       "        'text-align: center; padding: 3px;\"/>');\n",
       "    titlebar.append(titletext)\n",
       "    this.root.append(titlebar);\n",
       "    this.header = titletext[0];\n",
       "}\n",
       "\n",
       "\n",
       "\n",
       "mpl.figure.prototype._canvas_extra_style = function(canvas_div) {\n",
       "\n",
       "}\n",
       "\n",
       "\n",
       "mpl.figure.prototype._root_extra_style = function(canvas_div) {\n",
       "\n",
       "}\n",
       "\n",
       "mpl.figure.prototype._init_canvas = function() {\n",
       "    var fig = this;\n",
       "\n",
       "    var canvas_div = $('<div/>');\n",
       "\n",
       "    canvas_div.attr('style', 'position: relative; clear: both; outline: 0');\n",
       "\n",
       "    function canvas_keyboard_event(event) {\n",
       "        return fig.key_event(event, event['data']);\n",
       "    }\n",
       "\n",
       "    canvas_div.keydown('key_press', canvas_keyboard_event);\n",
       "    canvas_div.keyup('key_release', canvas_keyboard_event);\n",
       "    this.canvas_div = canvas_div\n",
       "    this._canvas_extra_style(canvas_div)\n",
       "    this.root.append(canvas_div);\n",
       "\n",
       "    var canvas = $('<canvas/>');\n",
       "    canvas.addClass('mpl-canvas');\n",
       "    canvas.attr('style', \"left: 0; top: 0; z-index: 0; outline: 0\")\n",
       "\n",
       "    this.canvas = canvas[0];\n",
       "    this.context = canvas[0].getContext(\"2d\");\n",
       "\n",
       "    var backingStore = this.context.backingStorePixelRatio ||\n",
       "\tthis.context.webkitBackingStorePixelRatio ||\n",
       "\tthis.context.mozBackingStorePixelRatio ||\n",
       "\tthis.context.msBackingStorePixelRatio ||\n",
       "\tthis.context.oBackingStorePixelRatio ||\n",
       "\tthis.context.backingStorePixelRatio || 1;\n",
       "\n",
       "    mpl.ratio = (window.devicePixelRatio || 1) / backingStore;\n",
       "\n",
       "    var rubberband = $('<canvas/>');\n",
       "    rubberband.attr('style', \"position: absolute; left: 0; top: 0; z-index: 1;\")\n",
       "\n",
       "    var pass_mouse_events = true;\n",
       "\n",
       "    canvas_div.resizable({\n",
       "        start: function(event, ui) {\n",
       "            pass_mouse_events = false;\n",
       "        },\n",
       "        resize: function(event, ui) {\n",
       "            fig.request_resize(ui.size.width, ui.size.height);\n",
       "        },\n",
       "        stop: function(event, ui) {\n",
       "            pass_mouse_events = true;\n",
       "            fig.request_resize(ui.size.width, ui.size.height);\n",
       "        },\n",
       "    });\n",
       "\n",
       "    function mouse_event_fn(event) {\n",
       "        if (pass_mouse_events)\n",
       "            return fig.mouse_event(event, event['data']);\n",
       "    }\n",
       "\n",
       "    rubberband.mousedown('button_press', mouse_event_fn);\n",
       "    rubberband.mouseup('button_release', mouse_event_fn);\n",
       "    // Throttle sequential mouse events to 1 every 20ms.\n",
       "    rubberband.mousemove('motion_notify', mouse_event_fn);\n",
       "\n",
       "    rubberband.mouseenter('figure_enter', mouse_event_fn);\n",
       "    rubberband.mouseleave('figure_leave', mouse_event_fn);\n",
       "\n",
       "    canvas_div.on(\"wheel\", function (event) {\n",
       "        event = event.originalEvent;\n",
       "        event['data'] = 'scroll'\n",
       "        if (event.deltaY < 0) {\n",
       "            event.step = 1;\n",
       "        } else {\n",
       "            event.step = -1;\n",
       "        }\n",
       "        mouse_event_fn(event);\n",
       "    });\n",
       "\n",
       "    canvas_div.append(canvas);\n",
       "    canvas_div.append(rubberband);\n",
       "\n",
       "    this.rubberband = rubberband;\n",
       "    this.rubberband_canvas = rubberband[0];\n",
       "    this.rubberband_context = rubberband[0].getContext(\"2d\");\n",
       "    this.rubberband_context.strokeStyle = \"#000000\";\n",
       "\n",
       "    this._resize_canvas = function(width, height) {\n",
       "        // Keep the size of the canvas, canvas container, and rubber band\n",
       "        // canvas in synch.\n",
       "        canvas_div.css('width', width)\n",
       "        canvas_div.css('height', height)\n",
       "\n",
       "        canvas.attr('width', width * mpl.ratio);\n",
       "        canvas.attr('height', height * mpl.ratio);\n",
       "        canvas.attr('style', 'width: ' + width + 'px; height: ' + height + 'px;');\n",
       "\n",
       "        rubberband.attr('width', width);\n",
       "        rubberband.attr('height', height);\n",
       "    }\n",
       "\n",
       "    // Set the figure to an initial 600x600px, this will subsequently be updated\n",
       "    // upon first draw.\n",
       "    this._resize_canvas(600, 600);\n",
       "\n",
       "    // Disable right mouse context menu.\n",
       "    $(this.rubberband_canvas).bind(\"contextmenu\",function(e){\n",
       "        return false;\n",
       "    });\n",
       "\n",
       "    function set_focus () {\n",
       "        canvas.focus();\n",
       "        canvas_div.focus();\n",
       "    }\n",
       "\n",
       "    window.setTimeout(set_focus, 100);\n",
       "}\n",
       "\n",
       "mpl.figure.prototype._init_toolbar = function() {\n",
       "    var fig = this;\n",
       "\n",
       "    var nav_element = $('<div/>')\n",
       "    nav_element.attr('style', 'width: 100%');\n",
       "    this.root.append(nav_element);\n",
       "\n",
       "    // Define a callback function for later on.\n",
       "    function toolbar_event(event) {\n",
       "        return fig.toolbar_button_onclick(event['data']);\n",
       "    }\n",
       "    function toolbar_mouse_event(event) {\n",
       "        return fig.toolbar_button_onmouseover(event['data']);\n",
       "    }\n",
       "\n",
       "    for(var toolbar_ind in mpl.toolbar_items) {\n",
       "        var name = mpl.toolbar_items[toolbar_ind][0];\n",
       "        var tooltip = mpl.toolbar_items[toolbar_ind][1];\n",
       "        var image = mpl.toolbar_items[toolbar_ind][2];\n",
       "        var method_name = mpl.toolbar_items[toolbar_ind][3];\n",
       "\n",
       "        if (!name) {\n",
       "            // put a spacer in here.\n",
       "            continue;\n",
       "        }\n",
       "        var button = $('<button/>');\n",
       "        button.addClass('ui-button ui-widget ui-state-default ui-corner-all ' +\n",
       "                        'ui-button-icon-only');\n",
       "        button.attr('role', 'button');\n",
       "        button.attr('aria-disabled', 'false');\n",
       "        button.click(method_name, toolbar_event);\n",
       "        button.mouseover(tooltip, toolbar_mouse_event);\n",
       "\n",
       "        var icon_img = $('<span/>');\n",
       "        icon_img.addClass('ui-button-icon-primary ui-icon');\n",
       "        icon_img.addClass(image);\n",
       "        icon_img.addClass('ui-corner-all');\n",
       "\n",
       "        var tooltip_span = $('<span/>');\n",
       "        tooltip_span.addClass('ui-button-text');\n",
       "        tooltip_span.html(tooltip);\n",
       "\n",
       "        button.append(icon_img);\n",
       "        button.append(tooltip_span);\n",
       "\n",
       "        nav_element.append(button);\n",
       "    }\n",
       "\n",
       "    var fmt_picker_span = $('<span/>');\n",
       "\n",
       "    var fmt_picker = $('<select/>');\n",
       "    fmt_picker.addClass('mpl-toolbar-option ui-widget ui-widget-content');\n",
       "    fmt_picker_span.append(fmt_picker);\n",
       "    nav_element.append(fmt_picker_span);\n",
       "    this.format_dropdown = fmt_picker[0];\n",
       "\n",
       "    for (var ind in mpl.extensions) {\n",
       "        var fmt = mpl.extensions[ind];\n",
       "        var option = $(\n",
       "            '<option/>', {selected: fmt === mpl.default_extension}).html(fmt);\n",
       "        fmt_picker.append(option)\n",
       "    }\n",
       "\n",
       "    // Add hover states to the ui-buttons\n",
       "    $( \".ui-button\" ).hover(\n",
       "        function() { $(this).addClass(\"ui-state-hover\");},\n",
       "        function() { $(this).removeClass(\"ui-state-hover\");}\n",
       "    );\n",
       "\n",
       "    var status_bar = $('<span class=\"mpl-message\"/>');\n",
       "    nav_element.append(status_bar);\n",
       "    this.message = status_bar[0];\n",
       "}\n",
       "\n",
       "mpl.figure.prototype.request_resize = function(x_pixels, y_pixels) {\n",
       "    // Request matplotlib to resize the figure. Matplotlib will then trigger a resize in the client,\n",
       "    // which will in turn request a refresh of the image.\n",
       "    this.send_message('resize', {'width': x_pixels, 'height': y_pixels});\n",
       "}\n",
       "\n",
       "mpl.figure.prototype.send_message = function(type, properties) {\n",
       "    properties['type'] = type;\n",
       "    properties['figure_id'] = this.id;\n",
       "    this.ws.send(JSON.stringify(properties));\n",
       "}\n",
       "\n",
       "mpl.figure.prototype.send_draw_message = function() {\n",
       "    if (!this.waiting) {\n",
       "        this.waiting = true;\n",
       "        this.ws.send(JSON.stringify({type: \"draw\", figure_id: this.id}));\n",
       "    }\n",
       "}\n",
       "\n",
       "\n",
       "mpl.figure.prototype.handle_save = function(fig, msg) {\n",
       "    var format_dropdown = fig.format_dropdown;\n",
       "    var format = format_dropdown.options[format_dropdown.selectedIndex].value;\n",
       "    fig.ondownload(fig, format);\n",
       "}\n",
       "\n",
       "\n",
       "mpl.figure.prototype.handle_resize = function(fig, msg) {\n",
       "    var size = msg['size'];\n",
       "    if (size[0] != fig.canvas.width || size[1] != fig.canvas.height) {\n",
       "        fig._resize_canvas(size[0], size[1]);\n",
       "        fig.send_message(\"refresh\", {});\n",
       "    };\n",
       "}\n",
       "\n",
       "mpl.figure.prototype.handle_rubberband = function(fig, msg) {\n",
       "    var x0 = msg['x0'] / mpl.ratio;\n",
       "    var y0 = (fig.canvas.height - msg['y0']) / mpl.ratio;\n",
       "    var x1 = msg['x1'] / mpl.ratio;\n",
       "    var y1 = (fig.canvas.height - msg['y1']) / mpl.ratio;\n",
       "    x0 = Math.floor(x0) + 0.5;\n",
       "    y0 = Math.floor(y0) + 0.5;\n",
       "    x1 = Math.floor(x1) + 0.5;\n",
       "    y1 = Math.floor(y1) + 0.5;\n",
       "    var min_x = Math.min(x0, x1);\n",
       "    var min_y = Math.min(y0, y1);\n",
       "    var width = Math.abs(x1 - x0);\n",
       "    var height = Math.abs(y1 - y0);\n",
       "\n",
       "    fig.rubberband_context.clearRect(\n",
       "        0, 0, fig.canvas.width, fig.canvas.height);\n",
       "\n",
       "    fig.rubberband_context.strokeRect(min_x, min_y, width, height);\n",
       "}\n",
       "\n",
       "mpl.figure.prototype.handle_figure_label = function(fig, msg) {\n",
       "    // Updates the figure title.\n",
       "    fig.header.textContent = msg['label'];\n",
       "}\n",
       "\n",
       "mpl.figure.prototype.handle_cursor = function(fig, msg) {\n",
       "    var cursor = msg['cursor'];\n",
       "    switch(cursor)\n",
       "    {\n",
       "    case 0:\n",
       "        cursor = 'pointer';\n",
       "        break;\n",
       "    case 1:\n",
       "        cursor = 'default';\n",
       "        break;\n",
       "    case 2:\n",
       "        cursor = 'crosshair';\n",
       "        break;\n",
       "    case 3:\n",
       "        cursor = 'move';\n",
       "        break;\n",
       "    }\n",
       "    fig.rubberband_canvas.style.cursor = cursor;\n",
       "}\n",
       "\n",
       "mpl.figure.prototype.handle_message = function(fig, msg) {\n",
       "    fig.message.textContent = msg['message'];\n",
       "}\n",
       "\n",
       "mpl.figure.prototype.handle_draw = function(fig, msg) {\n",
       "    // Request the server to send over a new figure.\n",
       "    fig.send_draw_message();\n",
       "}\n",
       "\n",
       "mpl.figure.prototype.handle_image_mode = function(fig, msg) {\n",
       "    fig.image_mode = msg['mode'];\n",
       "}\n",
       "\n",
       "mpl.figure.prototype.updated_canvas_event = function() {\n",
       "    // Called whenever the canvas gets updated.\n",
       "    this.send_message(\"ack\", {});\n",
       "}\n",
       "\n",
       "// A function to construct a web socket function for onmessage handling.\n",
       "// Called in the figure constructor.\n",
       "mpl.figure.prototype._make_on_message_function = function(fig) {\n",
       "    return function socket_on_message(evt) {\n",
       "        if (evt.data instanceof Blob) {\n",
       "            /* FIXME: We get \"Resource interpreted as Image but\n",
       "             * transferred with MIME type text/plain:\" errors on\n",
       "             * Chrome.  But how to set the MIME type?  It doesn't seem\n",
       "             * to be part of the websocket stream */\n",
       "            evt.data.type = \"image/png\";\n",
       "\n",
       "            /* Free the memory for the previous frames */\n",
       "            if (fig.imageObj.src) {\n",
       "                (window.URL || window.webkitURL).revokeObjectURL(\n",
       "                    fig.imageObj.src);\n",
       "            }\n",
       "\n",
       "            fig.imageObj.src = (window.URL || window.webkitURL).createObjectURL(\n",
       "                evt.data);\n",
       "            fig.updated_canvas_event();\n",
       "            fig.waiting = false;\n",
       "            return;\n",
       "        }\n",
       "        else if (typeof evt.data === 'string' && evt.data.slice(0, 21) == \"data:image/png;base64\") {\n",
       "            fig.imageObj.src = evt.data;\n",
       "            fig.updated_canvas_event();\n",
       "            fig.waiting = false;\n",
       "            return;\n",
       "        }\n",
       "\n",
       "        var msg = JSON.parse(evt.data);\n",
       "        var msg_type = msg['type'];\n",
       "\n",
       "        // Call the  \"handle_{type}\" callback, which takes\n",
       "        // the figure and JSON message as its only arguments.\n",
       "        try {\n",
       "            var callback = fig[\"handle_\" + msg_type];\n",
       "        } catch (e) {\n",
       "            console.log(\"No handler for the '\" + msg_type + \"' message type: \", msg);\n",
       "            return;\n",
       "        }\n",
       "\n",
       "        if (callback) {\n",
       "            try {\n",
       "                // console.log(\"Handling '\" + msg_type + \"' message: \", msg);\n",
       "                callback(fig, msg);\n",
       "            } catch (e) {\n",
       "                console.log(\"Exception inside the 'handler_\" + msg_type + \"' callback:\", e, e.stack, msg);\n",
       "            }\n",
       "        }\n",
       "    };\n",
       "}\n",
       "\n",
       "// from http://stackoverflow.com/questions/1114465/getting-mouse-location-in-canvas\n",
       "mpl.findpos = function(e) {\n",
       "    //this section is from http://www.quirksmode.org/js/events_properties.html\n",
       "    var targ;\n",
       "    if (!e)\n",
       "        e = window.event;\n",
       "    if (e.target)\n",
       "        targ = e.target;\n",
       "    else if (e.srcElement)\n",
       "        targ = e.srcElement;\n",
       "    if (targ.nodeType == 3) // defeat Safari bug\n",
       "        targ = targ.parentNode;\n",
       "\n",
       "    // jQuery normalizes the pageX and pageY\n",
       "    // pageX,Y are the mouse positions relative to the document\n",
       "    // offset() returns the position of the element relative to the document\n",
       "    var x = e.pageX - $(targ).offset().left;\n",
       "    var y = e.pageY - $(targ).offset().top;\n",
       "\n",
       "    return {\"x\": x, \"y\": y};\n",
       "};\n",
       "\n",
       "/*\n",
       " * return a copy of an object with only non-object keys\n",
       " * we need this to avoid circular references\n",
       " * http://stackoverflow.com/a/24161582/3208463\n",
       " */\n",
       "function simpleKeys (original) {\n",
       "  return Object.keys(original).reduce(function (obj, key) {\n",
       "    if (typeof original[key] !== 'object')\n",
       "        obj[key] = original[key]\n",
       "    return obj;\n",
       "  }, {});\n",
       "}\n",
       "\n",
       "mpl.figure.prototype.mouse_event = function(event, name) {\n",
       "    var canvas_pos = mpl.findpos(event)\n",
       "\n",
       "    if (name === 'button_press')\n",
       "    {\n",
       "        this.canvas.focus();\n",
       "        this.canvas_div.focus();\n",
       "    }\n",
       "\n",
       "    var x = canvas_pos.x * mpl.ratio;\n",
       "    var y = canvas_pos.y * mpl.ratio;\n",
       "\n",
       "    this.send_message(name, {x: x, y: y, button: event.button,\n",
       "                             step: event.step,\n",
       "                             guiEvent: simpleKeys(event)});\n",
       "\n",
       "    /* This prevents the web browser from automatically changing to\n",
       "     * the text insertion cursor when the button is pressed.  We want\n",
       "     * to control all of the cursor setting manually through the\n",
       "     * 'cursor' event from matplotlib */\n",
       "    event.preventDefault();\n",
       "    return false;\n",
       "}\n",
       "\n",
       "mpl.figure.prototype._key_event_extra = function(event, name) {\n",
       "    // Handle any extra behaviour associated with a key event\n",
       "}\n",
       "\n",
       "mpl.figure.prototype.key_event = function(event, name) {\n",
       "\n",
       "    // Prevent repeat events\n",
       "    if (name == 'key_press')\n",
       "    {\n",
       "        if (event.which === this._key)\n",
       "            return;\n",
       "        else\n",
       "            this._key = event.which;\n",
       "    }\n",
       "    if (name == 'key_release')\n",
       "        this._key = null;\n",
       "\n",
       "    var value = '';\n",
       "    if (event.ctrlKey && event.which != 17)\n",
       "        value += \"ctrl+\";\n",
       "    if (event.altKey && event.which != 18)\n",
       "        value += \"alt+\";\n",
       "    if (event.shiftKey && event.which != 16)\n",
       "        value += \"shift+\";\n",
       "\n",
       "    value += 'k';\n",
       "    value += event.which.toString();\n",
       "\n",
       "    this._key_event_extra(event, name);\n",
       "\n",
       "    this.send_message(name, {key: value,\n",
       "                             guiEvent: simpleKeys(event)});\n",
       "    return false;\n",
       "}\n",
       "\n",
       "mpl.figure.prototype.toolbar_button_onclick = function(name) {\n",
       "    if (name == 'download') {\n",
       "        this.handle_save(this, null);\n",
       "    } else {\n",
       "        this.send_message(\"toolbar_button\", {name: name});\n",
       "    }\n",
       "};\n",
       "\n",
       "mpl.figure.prototype.toolbar_button_onmouseover = function(tooltip) {\n",
       "    this.message.textContent = tooltip;\n",
       "};\n",
       "mpl.toolbar_items = [[\"Home\", \"Reset original view\", \"fa fa-home icon-home\", \"home\"], [\"Back\", \"Back to  previous view\", \"fa fa-arrow-left icon-arrow-left\", \"back\"], [\"Forward\", \"Forward to next view\", \"fa fa-arrow-right icon-arrow-right\", \"forward\"], [\"\", \"\", \"\", \"\"], [\"Pan\", \"Pan axes with left mouse, zoom with right\", \"fa fa-arrows icon-move\", \"pan\"], [\"Zoom\", \"Zoom to rectangle\", \"fa fa-square-o icon-check-empty\", \"zoom\"], [\"\", \"\", \"\", \"\"], [\"Download\", \"Download plot\", \"fa fa-floppy-o icon-save\", \"download\"]];\n",
       "\n",
       "mpl.extensions = [\"eps\", \"jpeg\", \"pdf\", \"png\", \"ps\", \"raw\", \"svg\", \"tif\"];\n",
       "\n",
       "mpl.default_extension = \"png\";var comm_websocket_adapter = function(comm) {\n",
       "    // Create a \"websocket\"-like object which calls the given IPython comm\n",
       "    // object with the appropriate methods. Currently this is a non binary\n",
       "    // socket, so there is still some room for performance tuning.\n",
       "    var ws = {};\n",
       "\n",
       "    ws.close = function() {\n",
       "        comm.close()\n",
       "    };\n",
       "    ws.send = function(m) {\n",
       "        //console.log('sending', m);\n",
       "        comm.send(m);\n",
       "    };\n",
       "    // Register the callback with on_msg.\n",
       "    comm.on_msg(function(msg) {\n",
       "        //console.log('receiving', msg['content']['data'], msg);\n",
       "        // Pass the mpl event to the overriden (by mpl) onmessage function.\n",
       "        ws.onmessage(msg['content']['data'])\n",
       "    });\n",
       "    return ws;\n",
       "}\n",
       "\n",
       "mpl.mpl_figure_comm = function(comm, msg) {\n",
       "    // This is the function which gets called when the mpl process\n",
       "    // starts-up an IPython Comm through the \"matplotlib\" channel.\n",
       "\n",
       "    var id = msg.content.data.id;\n",
       "    // Get hold of the div created by the display call when the Comm\n",
       "    // socket was opened in Python.\n",
       "    var element = $(\"#\" + id);\n",
       "    var ws_proxy = comm_websocket_adapter(comm)\n",
       "\n",
       "    function ondownload(figure, format) {\n",
       "        window.open(figure.imageObj.src);\n",
       "    }\n",
       "\n",
       "    var fig = new mpl.figure(id, ws_proxy,\n",
       "                           ondownload,\n",
       "                           element.get(0));\n",
       "\n",
       "    // Call onopen now - mpl needs it, as it is assuming we've passed it a real\n",
       "    // web socket which is closed, not our websocket->open comm proxy.\n",
       "    ws_proxy.onopen();\n",
       "\n",
       "    fig.parent_element = element.get(0);\n",
       "    fig.cell_info = mpl.find_output_cell(\"<div id='\" + id + \"'></div>\");\n",
       "    if (!fig.cell_info) {\n",
       "        console.error(\"Failed to find cell for figure\", id, fig);\n",
       "        return;\n",
       "    }\n",
       "\n",
       "    var output_index = fig.cell_info[2]\n",
       "    var cell = fig.cell_info[0];\n",
       "\n",
       "};\n",
       "\n",
       "mpl.figure.prototype.handle_close = function(fig, msg) {\n",
       "    var width = fig.canvas.width/mpl.ratio\n",
       "    fig.root.unbind('remove')\n",
       "\n",
       "    // Update the output cell to use the data from the current canvas.\n",
       "    fig.push_to_output();\n",
       "    var dataURL = fig.canvas.toDataURL();\n",
       "    // Re-enable the keyboard manager in IPython - without this line, in FF,\n",
       "    // the notebook keyboard shortcuts fail.\n",
       "    IPython.keyboard_manager.enable()\n",
       "    $(fig.parent_element).html('<img src=\"' + dataURL + '\" width=\"' + width + '\">');\n",
       "    fig.close_ws(fig, msg);\n",
       "}\n",
       "\n",
       "mpl.figure.prototype.close_ws = function(fig, msg){\n",
       "    fig.send_message('closing', msg);\n",
       "    // fig.ws.close()\n",
       "}\n",
       "\n",
       "mpl.figure.prototype.push_to_output = function(remove_interactive) {\n",
       "    // Turn the data on the canvas into data in the output cell.\n",
       "    var width = this.canvas.width/mpl.ratio\n",
       "    var dataURL = this.canvas.toDataURL();\n",
       "    this.cell_info[1]['text/html'] = '<img src=\"' + dataURL + '\" width=\"' + width + '\">';\n",
       "}\n",
       "\n",
       "mpl.figure.prototype.updated_canvas_event = function() {\n",
       "    // Tell IPython that the notebook contents must change.\n",
       "    IPython.notebook.set_dirty(true);\n",
       "    this.send_message(\"ack\", {});\n",
       "    var fig = this;\n",
       "    // Wait a second, then push the new image to the DOM so\n",
       "    // that it is saved nicely (might be nice to debounce this).\n",
       "    setTimeout(function () { fig.push_to_output() }, 1000);\n",
       "}\n",
       "\n",
       "mpl.figure.prototype._init_toolbar = function() {\n",
       "    var fig = this;\n",
       "\n",
       "    var nav_element = $('<div/>')\n",
       "    nav_element.attr('style', 'width: 100%');\n",
       "    this.root.append(nav_element);\n",
       "\n",
       "    // Define a callback function for later on.\n",
       "    function toolbar_event(event) {\n",
       "        return fig.toolbar_button_onclick(event['data']);\n",
       "    }\n",
       "    function toolbar_mouse_event(event) {\n",
       "        return fig.toolbar_button_onmouseover(event['data']);\n",
       "    }\n",
       "\n",
       "    for(var toolbar_ind in mpl.toolbar_items){\n",
       "        var name = mpl.toolbar_items[toolbar_ind][0];\n",
       "        var tooltip = mpl.toolbar_items[toolbar_ind][1];\n",
       "        var image = mpl.toolbar_items[toolbar_ind][2];\n",
       "        var method_name = mpl.toolbar_items[toolbar_ind][3];\n",
       "\n",
       "        if (!name) { continue; };\n",
       "\n",
       "        var button = $('<button class=\"btn btn-default\" href=\"#\" title=\"' + name + '\"><i class=\"fa ' + image + ' fa-lg\"></i></button>');\n",
       "        button.click(method_name, toolbar_event);\n",
       "        button.mouseover(tooltip, toolbar_mouse_event);\n",
       "        nav_element.append(button);\n",
       "    }\n",
       "\n",
       "    // Add the status bar.\n",
       "    var status_bar = $('<span class=\"mpl-message\" style=\"text-align:right; float: right;\"/>');\n",
       "    nav_element.append(status_bar);\n",
       "    this.message = status_bar[0];\n",
       "\n",
       "    // Add the close button to the window.\n",
       "    var buttongrp = $('<div class=\"btn-group inline pull-right\"></div>');\n",
       "    var button = $('<button class=\"btn btn-mini btn-primary\" href=\"#\" title=\"Stop Interaction\"><i class=\"fa fa-power-off icon-remove icon-large\"></i></button>');\n",
       "    button.click(function (evt) { fig.handle_close(fig, {}); } );\n",
       "    button.mouseover('Stop Interaction', toolbar_mouse_event);\n",
       "    buttongrp.append(button);\n",
       "    var titlebar = this.root.find($('.ui-dialog-titlebar'));\n",
       "    titlebar.prepend(buttongrp);\n",
       "}\n",
       "\n",
       "mpl.figure.prototype._root_extra_style = function(el){\n",
       "    var fig = this\n",
       "    el.on(\"remove\", function(){\n",
       "\tfig.close_ws(fig, {});\n",
       "    });\n",
       "}\n",
       "\n",
       "mpl.figure.prototype._canvas_extra_style = function(el){\n",
       "    // this is important to make the div 'focusable\n",
       "    el.attr('tabindex', 0)\n",
       "    // reach out to IPython and tell the keyboard manager to turn it's self\n",
       "    // off when our div gets focus\n",
       "\n",
       "    // location in version 3\n",
       "    if (IPython.notebook.keyboard_manager) {\n",
       "        IPython.notebook.keyboard_manager.register_events(el);\n",
       "    }\n",
       "    else {\n",
       "        // location in version 2\n",
       "        IPython.keyboard_manager.register_events(el);\n",
       "    }\n",
       "\n",
       "}\n",
       "\n",
       "mpl.figure.prototype._key_event_extra = function(event, name) {\n",
       "    var manager = IPython.notebook.keyboard_manager;\n",
       "    if (!manager)\n",
       "        manager = IPython.keyboard_manager;\n",
       "\n",
       "    // Check for shift+enter\n",
       "    if (event.shiftKey && event.which == 13) {\n",
       "        this.canvas_div.blur();\n",
       "        // select the cell after this one\n",
       "        var index = IPython.notebook.find_cell_index(this.cell_info[0]);\n",
       "        IPython.notebook.select(index + 1);\n",
       "    }\n",
       "}\n",
       "\n",
       "mpl.figure.prototype.handle_save = function(fig, msg) {\n",
       "    fig.ondownload(fig, null);\n",
       "}\n",
       "\n",
       "\n",
       "mpl.find_output_cell = function(html_output) {\n",
       "    // Return the cell and output element which can be found *uniquely* in the notebook.\n",
       "    // Note - this is a bit hacky, but it is done because the \"notebook_saving.Notebook\"\n",
       "    // IPython event is triggered only after the cells have been serialised, which for\n",
       "    // our purposes (turning an active figure into a static one), is too late.\n",
       "    var cells = IPython.notebook.get_cells();\n",
       "    var ncells = cells.length;\n",
       "    for (var i=0; i<ncells; i++) {\n",
       "        var cell = cells[i];\n",
       "        if (cell.cell_type === 'code'){\n",
       "            for (var j=0; j<cell.output_area.outputs.length; j++) {\n",
       "                var data = cell.output_area.outputs[j];\n",
       "                if (data.data) {\n",
       "                    // IPython >= 3 moved mimebundle to data attribute of output\n",
       "                    data = data.data;\n",
       "                }\n",
       "                if (data['text/html'] == html_output) {\n",
       "                    return [cell, data, j];\n",
       "                }\n",
       "            }\n",
       "        }\n",
       "    }\n",
       "}\n",
       "\n",
       "// Register the function which deals with the matplotlib target/channel.\n",
       "// The kernel may be null if the page has been refreshed.\n",
       "if (IPython.notebook.kernel != null) {\n",
       "    IPython.notebook.kernel.comm_manager.register_target('matplotlib', mpl.mpl_figure_comm);\n",
       "}\n"
      ],
      "text/plain": [
       "<IPython.core.display.Javascript object>"
      ]
     },
     "metadata": {},
     "output_type": "display_data"
    },
    {
     "data": {
      "text/html": [
       "<img src=\"data:image/png;base64,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\" width=\"1100\">"
      ],
      "text/plain": [
       "<IPython.core.display.HTML object>"
      ]
     },
     "metadata": {},
     "output_type": "display_data"
    },
    {
     "data": {
      "text/plain": [
       "<ggplot: (-9223371918955767727)>"
      ]
     },
     "execution_count": 9,
     "metadata": {},
     "output_type": "execute_result"
    }
   ],
   "source": [
    "svlTl = ggplot(aes(x = 'svl',y = 'tl',fill = 'sex'), data=df)\n",
    "svlTl + geom_point() \n"
   ]
  },
  {
   "cell_type": "markdown",
   "metadata": {
    "collapsed": true
   },
   "source": [
    "def mySummary (df, plotType = 'bar' , figsize = None, title = None , ylabel= None , percFormat = False , rot = 0, \\\n",
    "               xticks = None, x = None , y = None,legend = False, ax_other = None, hline = None, hlcolor = 'r',\\\n",
    "               hlstyle = '-', vline = None, vlcolor = 'r',ylim = None,vlstyle = '--'):\n",
    "    import pandas as pd\n",
    "    import matplotlib as plt\n",
    "    %matplotlib notebook\n",
    "    assert (isinstance(df,pd.DataFrame)|isinstance(df,pd.Series)|isinstance(df,pd.core.groupby.DataFrameGroupBy)\\\n",
    "           |isinstance(df,pd.core.groupby.SeriesGroupBy))\n",
    "    assert ((figsize is None) | (isinstance (figsize, tuple)))\n",
    "    assert isinstance (percFormat,bool)\n",
    "    ax = df.plot(x=x , y=y , figsize = figsize, kind = plotType , rot = rot , title = title,\\\n",
    "                 legend = legend, ax = ax_other,ylim = ylim)\n",
    "    ax.set_ylabel(ylabel)\n",
    "    ax.axhline(y = hline, color = hlcolor, linestyle = hlstyle)\n",
    "    ax.axvline(x = vline,color = vlcolor, linestyle = vlstyle)\n",
    "    if percFormat == False:\n",
    "        res = ax\n",
    "    else:\n",
    "        vals = ax.get_yticks()\n",
    "        ax.set_yticklabels(['{:3.2f}%'.format(x*100) for x in vals])\n",
    "        res = ax\n",
    "    return res"
   ]
  },
  {
   "cell_type": "markdown",
   "metadata": {},
   "source": [
    "maleSjXYr = pd.Series(df.loc[df.sex=='m'].groupby('year',as_index = False).\\\n",
    "                      lizardNumber.nunique())\n",
    "femaleSjXYr = pd.Series(df.loc[df.sex=='f'].groupby('year',as_index = False).\\\n",
    "                        lizardNumber.nunique())\n",
    "years = df.year.astype('int').unique()\n",
    "SjSexXYr = pd.concat([maleSjXYr,femaleSjXYr],axis=1,keys = ['males','females'])\n",
    "SjSexXYr['year'] = str(SjSexXYr.index+2000)\n",
    "SjSexXYr.head()"
   ]
  },
  {
   "cell_type": "markdown",
   "metadata": {},
   "source": [
    "## Number of recaptured lizards by sex and year"
   ]
  },
  {
   "cell_type": "code",
   "execution_count": 15,
   "metadata": {},
   "outputs": [
    {
     "name": "stderr",
     "output_type": "stream",
     "text": [
      "C:\\Users\\Christopher\\Anaconda3\\lib\\site-packages\\pandas\\core\\indexing.py:517: SettingWithCopyWarning: \n",
      "A value is trying to be set on a copy of a slice from a DataFrame.\n",
      "Try using .loc[row_indexer,col_indexer] = value instead\n",
      "\n",
      "See the caveats in the documentation: http://pandas.pydata.org/pandas-docs/stable/indexing.html#indexing-view-versus-copy\n",
      "  self.obj[item] = s\n"
     ]
    },
    {
     "data": {
      "text/plain": [
       "array([nan, 'recap', 'new', 'r', 'n'], dtype=object)"
      ]
     },
     "execution_count": 15,
     "metadata": {},
     "output_type": "execute_result"
    }
   ],
   "source": [
    "newRecapKeep = ['recap', 'new', 'r', 'n']\n",
    "df.loc[~df['new.recap'].isin(newRecapKeep),'new.recap'] = np.nan\n",
    "df['new.recap'].unique()"
   ]
  },
  {
   "cell_type": "code",
   "execution_count": 17,
   "metadata": {},
   "outputs": [
    {
     "data": {
      "application/javascript": [
       "/* Put everything inside the global mpl namespace */\n",
       "window.mpl = {};\n",
       "\n",
       "\n",
       "mpl.get_websocket_type = function() {\n",
       "    if (typeof(WebSocket) !== 'undefined') {\n",
       "        return WebSocket;\n",
       "    } else if (typeof(MozWebSocket) !== 'undefined') {\n",
       "        return MozWebSocket;\n",
       "    } else {\n",
       "        alert('Your browser does not have WebSocket support.' +\n",
       "              'Please try Chrome, Safari or Firefox ≥ 6. ' +\n",
       "              'Firefox 4 and 5 are also supported but you ' +\n",
       "              'have to enable WebSockets in about:config.');\n",
       "    };\n",
       "}\n",
       "\n",
       "mpl.figure = function(figure_id, websocket, ondownload, parent_element) {\n",
       "    this.id = figure_id;\n",
       "\n",
       "    this.ws = websocket;\n",
       "\n",
       "    this.supports_binary = (this.ws.binaryType != undefined);\n",
       "\n",
       "    if (!this.supports_binary) {\n",
       "        var warnings = document.getElementById(\"mpl-warnings\");\n",
       "        if (warnings) {\n",
       "            warnings.style.display = 'block';\n",
       "            warnings.textContent = (\n",
       "                \"This browser does not support binary websocket messages. \" +\n",
       "                    \"Performance may be slow.\");\n",
       "        }\n",
       "    }\n",
       "\n",
       "    this.imageObj = new Image();\n",
       "\n",
       "    this.context = undefined;\n",
       "    this.message = undefined;\n",
       "    this.canvas = undefined;\n",
       "    this.rubberband_canvas = undefined;\n",
       "    this.rubberband_context = undefined;\n",
       "    this.format_dropdown = undefined;\n",
       "\n",
       "    this.image_mode = 'full';\n",
       "\n",
       "    this.root = $('<div/>');\n",
       "    this._root_extra_style(this.root)\n",
       "    this.root.attr('style', 'display: inline-block');\n",
       "\n",
       "    $(parent_element).append(this.root);\n",
       "\n",
       "    this._init_header(this);\n",
       "    this._init_canvas(this);\n",
       "    this._init_toolbar(this);\n",
       "\n",
       "    var fig = this;\n",
       "\n",
       "    this.waiting = false;\n",
       "\n",
       "    this.ws.onopen =  function () {\n",
       "            fig.send_message(\"supports_binary\", {value: fig.supports_binary});\n",
       "            fig.send_message(\"send_image_mode\", {});\n",
       "            if (mpl.ratio != 1) {\n",
       "                fig.send_message(\"set_dpi_ratio\", {'dpi_ratio': mpl.ratio});\n",
       "            }\n",
       "            fig.send_message(\"refresh\", {});\n",
       "        }\n",
       "\n",
       "    this.imageObj.onload = function() {\n",
       "            if (fig.image_mode == 'full') {\n",
       "                // Full images could contain transparency (where diff images\n",
       "                // almost always do), so we need to clear the canvas so that\n",
       "                // there is no ghosting.\n",
       "                fig.context.clearRect(0, 0, fig.canvas.width, fig.canvas.height);\n",
       "            }\n",
       "            fig.context.drawImage(fig.imageObj, 0, 0);\n",
       "        };\n",
       "\n",
       "    this.imageObj.onunload = function() {\n",
       "        this.ws.close();\n",
       "    }\n",
       "\n",
       "    this.ws.onmessage = this._make_on_message_function(this);\n",
       "\n",
       "    this.ondownload = ondownload;\n",
       "}\n",
       "\n",
       "mpl.figure.prototype._init_header = function() {\n",
       "    var titlebar = $(\n",
       "        '<div class=\"ui-dialog-titlebar ui-widget-header ui-corner-all ' +\n",
       "        'ui-helper-clearfix\"/>');\n",
       "    var titletext = $(\n",
       "        '<div class=\"ui-dialog-title\" style=\"width: 100%; ' +\n",
       "        'text-align: center; padding: 3px;\"/>');\n",
       "    titlebar.append(titletext)\n",
       "    this.root.append(titlebar);\n",
       "    this.header = titletext[0];\n",
       "}\n",
       "\n",
       "\n",
       "\n",
       "mpl.figure.prototype._canvas_extra_style = function(canvas_div) {\n",
       "\n",
       "}\n",
       "\n",
       "\n",
       "mpl.figure.prototype._root_extra_style = function(canvas_div) {\n",
       "\n",
       "}\n",
       "\n",
       "mpl.figure.prototype._init_canvas = function() {\n",
       "    var fig = this;\n",
       "\n",
       "    var canvas_div = $('<div/>');\n",
       "\n",
       "    canvas_div.attr('style', 'position: relative; clear: both; outline: 0');\n",
       "\n",
       "    function canvas_keyboard_event(event) {\n",
       "        return fig.key_event(event, event['data']);\n",
       "    }\n",
       "\n",
       "    canvas_div.keydown('key_press', canvas_keyboard_event);\n",
       "    canvas_div.keyup('key_release', canvas_keyboard_event);\n",
       "    this.canvas_div = canvas_div\n",
       "    this._canvas_extra_style(canvas_div)\n",
       "    this.root.append(canvas_div);\n",
       "\n",
       "    var canvas = $('<canvas/>');\n",
       "    canvas.addClass('mpl-canvas');\n",
       "    canvas.attr('style', \"left: 0; top: 0; z-index: 0; outline: 0\")\n",
       "\n",
       "    this.canvas = canvas[0];\n",
       "    this.context = canvas[0].getContext(\"2d\");\n",
       "\n",
       "    var backingStore = this.context.backingStorePixelRatio ||\n",
       "\tthis.context.webkitBackingStorePixelRatio ||\n",
       "\tthis.context.mozBackingStorePixelRatio ||\n",
       "\tthis.context.msBackingStorePixelRatio ||\n",
       "\tthis.context.oBackingStorePixelRatio ||\n",
       "\tthis.context.backingStorePixelRatio || 1;\n",
       "\n",
       "    mpl.ratio = (window.devicePixelRatio || 1) / backingStore;\n",
       "\n",
       "    var rubberband = $('<canvas/>');\n",
       "    rubberband.attr('style', \"position: absolute; left: 0; top: 0; z-index: 1;\")\n",
       "\n",
       "    var pass_mouse_events = true;\n",
       "\n",
       "    canvas_div.resizable({\n",
       "        start: function(event, ui) {\n",
       "            pass_mouse_events = false;\n",
       "        },\n",
       "        resize: function(event, ui) {\n",
       "            fig.request_resize(ui.size.width, ui.size.height);\n",
       "        },\n",
       "        stop: function(event, ui) {\n",
       "            pass_mouse_events = true;\n",
       "            fig.request_resize(ui.size.width, ui.size.height);\n",
       "        },\n",
       "    });\n",
       "\n",
       "    function mouse_event_fn(event) {\n",
       "        if (pass_mouse_events)\n",
       "            return fig.mouse_event(event, event['data']);\n",
       "    }\n",
       "\n",
       "    rubberband.mousedown('button_press', mouse_event_fn);\n",
       "    rubberband.mouseup('button_release', mouse_event_fn);\n",
       "    // Throttle sequential mouse events to 1 every 20ms.\n",
       "    rubberband.mousemove('motion_notify', mouse_event_fn);\n",
       "\n",
       "    rubberband.mouseenter('figure_enter', mouse_event_fn);\n",
       "    rubberband.mouseleave('figure_leave', mouse_event_fn);\n",
       "\n",
       "    canvas_div.on(\"wheel\", function (event) {\n",
       "        event = event.originalEvent;\n",
       "        event['data'] = 'scroll'\n",
       "        if (event.deltaY < 0) {\n",
       "            event.step = 1;\n",
       "        } else {\n",
       "            event.step = -1;\n",
       "        }\n",
       "        mouse_event_fn(event);\n",
       "    });\n",
       "\n",
       "    canvas_div.append(canvas);\n",
       "    canvas_div.append(rubberband);\n",
       "\n",
       "    this.rubberband = rubberband;\n",
       "    this.rubberband_canvas = rubberband[0];\n",
       "    this.rubberband_context = rubberband[0].getContext(\"2d\");\n",
       "    this.rubberband_context.strokeStyle = \"#000000\";\n",
       "\n",
       "    this._resize_canvas = function(width, height) {\n",
       "        // Keep the size of the canvas, canvas container, and rubber band\n",
       "        // canvas in synch.\n",
       "        canvas_div.css('width', width)\n",
       "        canvas_div.css('height', height)\n",
       "\n",
       "        canvas.attr('width', width * mpl.ratio);\n",
       "        canvas.attr('height', height * mpl.ratio);\n",
       "        canvas.attr('style', 'width: ' + width + 'px; height: ' + height + 'px;');\n",
       "\n",
       "        rubberband.attr('width', width);\n",
       "        rubberband.attr('height', height);\n",
       "    }\n",
       "\n",
       "    // Set the figure to an initial 600x600px, this will subsequently be updated\n",
       "    // upon first draw.\n",
       "    this._resize_canvas(600, 600);\n",
       "\n",
       "    // Disable right mouse context menu.\n",
       "    $(this.rubberband_canvas).bind(\"contextmenu\",function(e){\n",
       "        return false;\n",
       "    });\n",
       "\n",
       "    function set_focus () {\n",
       "        canvas.focus();\n",
       "        canvas_div.focus();\n",
       "    }\n",
       "\n",
       "    window.setTimeout(set_focus, 100);\n",
       "}\n",
       "\n",
       "mpl.figure.prototype._init_toolbar = function() {\n",
       "    var fig = this;\n",
       "\n",
       "    var nav_element = $('<div/>')\n",
       "    nav_element.attr('style', 'width: 100%');\n",
       "    this.root.append(nav_element);\n",
       "\n",
       "    // Define a callback function for later on.\n",
       "    function toolbar_event(event) {\n",
       "        return fig.toolbar_button_onclick(event['data']);\n",
       "    }\n",
       "    function toolbar_mouse_event(event) {\n",
       "        return fig.toolbar_button_onmouseover(event['data']);\n",
       "    }\n",
       "\n",
       "    for(var toolbar_ind in mpl.toolbar_items) {\n",
       "        var name = mpl.toolbar_items[toolbar_ind][0];\n",
       "        var tooltip = mpl.toolbar_items[toolbar_ind][1];\n",
       "        var image = mpl.toolbar_items[toolbar_ind][2];\n",
       "        var method_name = mpl.toolbar_items[toolbar_ind][3];\n",
       "\n",
       "        if (!name) {\n",
       "            // put a spacer in here.\n",
       "            continue;\n",
       "        }\n",
       "        var button = $('<button/>');\n",
       "        button.addClass('ui-button ui-widget ui-state-default ui-corner-all ' +\n",
       "                        'ui-button-icon-only');\n",
       "        button.attr('role', 'button');\n",
       "        button.attr('aria-disabled', 'false');\n",
       "        button.click(method_name, toolbar_event);\n",
       "        button.mouseover(tooltip, toolbar_mouse_event);\n",
       "\n",
       "        var icon_img = $('<span/>');\n",
       "        icon_img.addClass('ui-button-icon-primary ui-icon');\n",
       "        icon_img.addClass(image);\n",
       "        icon_img.addClass('ui-corner-all');\n",
       "\n",
       "        var tooltip_span = $('<span/>');\n",
       "        tooltip_span.addClass('ui-button-text');\n",
       "        tooltip_span.html(tooltip);\n",
       "\n",
       "        button.append(icon_img);\n",
       "        button.append(tooltip_span);\n",
       "\n",
       "        nav_element.append(button);\n",
       "    }\n",
       "\n",
       "    var fmt_picker_span = $('<span/>');\n",
       "\n",
       "    var fmt_picker = $('<select/>');\n",
       "    fmt_picker.addClass('mpl-toolbar-option ui-widget ui-widget-content');\n",
       "    fmt_picker_span.append(fmt_picker);\n",
       "    nav_element.append(fmt_picker_span);\n",
       "    this.format_dropdown = fmt_picker[0];\n",
       "\n",
       "    for (var ind in mpl.extensions) {\n",
       "        var fmt = mpl.extensions[ind];\n",
       "        var option = $(\n",
       "            '<option/>', {selected: fmt === mpl.default_extension}).html(fmt);\n",
       "        fmt_picker.append(option)\n",
       "    }\n",
       "\n",
       "    // Add hover states to the ui-buttons\n",
       "    $( \".ui-button\" ).hover(\n",
       "        function() { $(this).addClass(\"ui-state-hover\");},\n",
       "        function() { $(this).removeClass(\"ui-state-hover\");}\n",
       "    );\n",
       "\n",
       "    var status_bar = $('<span class=\"mpl-message\"/>');\n",
       "    nav_element.append(status_bar);\n",
       "    this.message = status_bar[0];\n",
       "}\n",
       "\n",
       "mpl.figure.prototype.request_resize = function(x_pixels, y_pixels) {\n",
       "    // Request matplotlib to resize the figure. Matplotlib will then trigger a resize in the client,\n",
       "    // which will in turn request a refresh of the image.\n",
       "    this.send_message('resize', {'width': x_pixels, 'height': y_pixels});\n",
       "}\n",
       "\n",
       "mpl.figure.prototype.send_message = function(type, properties) {\n",
       "    properties['type'] = type;\n",
       "    properties['figure_id'] = this.id;\n",
       "    this.ws.send(JSON.stringify(properties));\n",
       "}\n",
       "\n",
       "mpl.figure.prototype.send_draw_message = function() {\n",
       "    if (!this.waiting) {\n",
       "        this.waiting = true;\n",
       "        this.ws.send(JSON.stringify({type: \"draw\", figure_id: this.id}));\n",
       "    }\n",
       "}\n",
       "\n",
       "\n",
       "mpl.figure.prototype.handle_save = function(fig, msg) {\n",
       "    var format_dropdown = fig.format_dropdown;\n",
       "    var format = format_dropdown.options[format_dropdown.selectedIndex].value;\n",
       "    fig.ondownload(fig, format);\n",
       "}\n",
       "\n",
       "\n",
       "mpl.figure.prototype.handle_resize = function(fig, msg) {\n",
       "    var size = msg['size'];\n",
       "    if (size[0] != fig.canvas.width || size[1] != fig.canvas.height) {\n",
       "        fig._resize_canvas(size[0], size[1]);\n",
       "        fig.send_message(\"refresh\", {});\n",
       "    };\n",
       "}\n",
       "\n",
       "mpl.figure.prototype.handle_rubberband = function(fig, msg) {\n",
       "    var x0 = msg['x0'] / mpl.ratio;\n",
       "    var y0 = (fig.canvas.height - msg['y0']) / mpl.ratio;\n",
       "    var x1 = msg['x1'] / mpl.ratio;\n",
       "    var y1 = (fig.canvas.height - msg['y1']) / mpl.ratio;\n",
       "    x0 = Math.floor(x0) + 0.5;\n",
       "    y0 = Math.floor(y0) + 0.5;\n",
       "    x1 = Math.floor(x1) + 0.5;\n",
       "    y1 = Math.floor(y1) + 0.5;\n",
       "    var min_x = Math.min(x0, x1);\n",
       "    var min_y = Math.min(y0, y1);\n",
       "    var width = Math.abs(x1 - x0);\n",
       "    var height = Math.abs(y1 - y0);\n",
       "\n",
       "    fig.rubberband_context.clearRect(\n",
       "        0, 0, fig.canvas.width, fig.canvas.height);\n",
       "\n",
       "    fig.rubberband_context.strokeRect(min_x, min_y, width, height);\n",
       "}\n",
       "\n",
       "mpl.figure.prototype.handle_figure_label = function(fig, msg) {\n",
       "    // Updates the figure title.\n",
       "    fig.header.textContent = msg['label'];\n",
       "}\n",
       "\n",
       "mpl.figure.prototype.handle_cursor = function(fig, msg) {\n",
       "    var cursor = msg['cursor'];\n",
       "    switch(cursor)\n",
       "    {\n",
       "    case 0:\n",
       "        cursor = 'pointer';\n",
       "        break;\n",
       "    case 1:\n",
       "        cursor = 'default';\n",
       "        break;\n",
       "    case 2:\n",
       "        cursor = 'crosshair';\n",
       "        break;\n",
       "    case 3:\n",
       "        cursor = 'move';\n",
       "        break;\n",
       "    }\n",
       "    fig.rubberband_canvas.style.cursor = cursor;\n",
       "}\n",
       "\n",
       "mpl.figure.prototype.handle_message = function(fig, msg) {\n",
       "    fig.message.textContent = msg['message'];\n",
       "}\n",
       "\n",
       "mpl.figure.prototype.handle_draw = function(fig, msg) {\n",
       "    // Request the server to send over a new figure.\n",
       "    fig.send_draw_message();\n",
       "}\n",
       "\n",
       "mpl.figure.prototype.handle_image_mode = function(fig, msg) {\n",
       "    fig.image_mode = msg['mode'];\n",
       "}\n",
       "\n",
       "mpl.figure.prototype.updated_canvas_event = function() {\n",
       "    // Called whenever the canvas gets updated.\n",
       "    this.send_message(\"ack\", {});\n",
       "}\n",
       "\n",
       "// A function to construct a web socket function for onmessage handling.\n",
       "// Called in the figure constructor.\n",
       "mpl.figure.prototype._make_on_message_function = function(fig) {\n",
       "    return function socket_on_message(evt) {\n",
       "        if (evt.data instanceof Blob) {\n",
       "            /* FIXME: We get \"Resource interpreted as Image but\n",
       "             * transferred with MIME type text/plain:\" errors on\n",
       "             * Chrome.  But how to set the MIME type?  It doesn't seem\n",
       "             * to be part of the websocket stream */\n",
       "            evt.data.type = \"image/png\";\n",
       "\n",
       "            /* Free the memory for the previous frames */\n",
       "            if (fig.imageObj.src) {\n",
       "                (window.URL || window.webkitURL).revokeObjectURL(\n",
       "                    fig.imageObj.src);\n",
       "            }\n",
       "\n",
       "            fig.imageObj.src = (window.URL || window.webkitURL).createObjectURL(\n",
       "                evt.data);\n",
       "            fig.updated_canvas_event();\n",
       "            fig.waiting = false;\n",
       "            return;\n",
       "        }\n",
       "        else if (typeof evt.data === 'string' && evt.data.slice(0, 21) == \"data:image/png;base64\") {\n",
       "            fig.imageObj.src = evt.data;\n",
       "            fig.updated_canvas_event();\n",
       "            fig.waiting = false;\n",
       "            return;\n",
       "        }\n",
       "\n",
       "        var msg = JSON.parse(evt.data);\n",
       "        var msg_type = msg['type'];\n",
       "\n",
       "        // Call the  \"handle_{type}\" callback, which takes\n",
       "        // the figure and JSON message as its only arguments.\n",
       "        try {\n",
       "            var callback = fig[\"handle_\" + msg_type];\n",
       "        } catch (e) {\n",
       "            console.log(\"No handler for the '\" + msg_type + \"' message type: \", msg);\n",
       "            return;\n",
       "        }\n",
       "\n",
       "        if (callback) {\n",
       "            try {\n",
       "                // console.log(\"Handling '\" + msg_type + \"' message: \", msg);\n",
       "                callback(fig, msg);\n",
       "            } catch (e) {\n",
       "                console.log(\"Exception inside the 'handler_\" + msg_type + \"' callback:\", e, e.stack, msg);\n",
       "            }\n",
       "        }\n",
       "    };\n",
       "}\n",
       "\n",
       "// from http://stackoverflow.com/questions/1114465/getting-mouse-location-in-canvas\n",
       "mpl.findpos = function(e) {\n",
       "    //this section is from http://www.quirksmode.org/js/events_properties.html\n",
       "    var targ;\n",
       "    if (!e)\n",
       "        e = window.event;\n",
       "    if (e.target)\n",
       "        targ = e.target;\n",
       "    else if (e.srcElement)\n",
       "        targ = e.srcElement;\n",
       "    if (targ.nodeType == 3) // defeat Safari bug\n",
       "        targ = targ.parentNode;\n",
       "\n",
       "    // jQuery normalizes the pageX and pageY\n",
       "    // pageX,Y are the mouse positions relative to the document\n",
       "    // offset() returns the position of the element relative to the document\n",
       "    var x = e.pageX - $(targ).offset().left;\n",
       "    var y = e.pageY - $(targ).offset().top;\n",
       "\n",
       "    return {\"x\": x, \"y\": y};\n",
       "};\n",
       "\n",
       "/*\n",
       " * return a copy of an object with only non-object keys\n",
       " * we need this to avoid circular references\n",
       " * http://stackoverflow.com/a/24161582/3208463\n",
       " */\n",
       "function simpleKeys (original) {\n",
       "  return Object.keys(original).reduce(function (obj, key) {\n",
       "    if (typeof original[key] !== 'object')\n",
       "        obj[key] = original[key]\n",
       "    return obj;\n",
       "  }, {});\n",
       "}\n",
       "\n",
       "mpl.figure.prototype.mouse_event = function(event, name) {\n",
       "    var canvas_pos = mpl.findpos(event)\n",
       "\n",
       "    if (name === 'button_press')\n",
       "    {\n",
       "        this.canvas.focus();\n",
       "        this.canvas_div.focus();\n",
       "    }\n",
       "\n",
       "    var x = canvas_pos.x * mpl.ratio;\n",
       "    var y = canvas_pos.y * mpl.ratio;\n",
       "\n",
       "    this.send_message(name, {x: x, y: y, button: event.button,\n",
       "                             step: event.step,\n",
       "                             guiEvent: simpleKeys(event)});\n",
       "\n",
       "    /* This prevents the web browser from automatically changing to\n",
       "     * the text insertion cursor when the button is pressed.  We want\n",
       "     * to control all of the cursor setting manually through the\n",
       "     * 'cursor' event from matplotlib */\n",
       "    event.preventDefault();\n",
       "    return false;\n",
       "}\n",
       "\n",
       "mpl.figure.prototype._key_event_extra = function(event, name) {\n",
       "    // Handle any extra behaviour associated with a key event\n",
       "}\n",
       "\n",
       "mpl.figure.prototype.key_event = function(event, name) {\n",
       "\n",
       "    // Prevent repeat events\n",
       "    if (name == 'key_press')\n",
       "    {\n",
       "        if (event.which === this._key)\n",
       "            return;\n",
       "        else\n",
       "            this._key = event.which;\n",
       "    }\n",
       "    if (name == 'key_release')\n",
       "        this._key = null;\n",
       "\n",
       "    var value = '';\n",
       "    if (event.ctrlKey && event.which != 17)\n",
       "        value += \"ctrl+\";\n",
       "    if (event.altKey && event.which != 18)\n",
       "        value += \"alt+\";\n",
       "    if (event.shiftKey && event.which != 16)\n",
       "        value += \"shift+\";\n",
       "\n",
       "    value += 'k';\n",
       "    value += event.which.toString();\n",
       "\n",
       "    this._key_event_extra(event, name);\n",
       "\n",
       "    this.send_message(name, {key: value,\n",
       "                             guiEvent: simpleKeys(event)});\n",
       "    return false;\n",
       "}\n",
       "\n",
       "mpl.figure.prototype.toolbar_button_onclick = function(name) {\n",
       "    if (name == 'download') {\n",
       "        this.handle_save(this, null);\n",
       "    } else {\n",
       "        this.send_message(\"toolbar_button\", {name: name});\n",
       "    }\n",
       "};\n",
       "\n",
       "mpl.figure.prototype.toolbar_button_onmouseover = function(tooltip) {\n",
       "    this.message.textContent = tooltip;\n",
       "};\n",
       "mpl.toolbar_items = [[\"Home\", \"Reset original view\", \"fa fa-home icon-home\", \"home\"], [\"Back\", \"Back to  previous view\", \"fa fa-arrow-left icon-arrow-left\", \"back\"], [\"Forward\", \"Forward to next view\", \"fa fa-arrow-right icon-arrow-right\", \"forward\"], [\"\", \"\", \"\", \"\"], [\"Pan\", \"Pan axes with left mouse, zoom with right\", \"fa fa-arrows icon-move\", \"pan\"], [\"Zoom\", \"Zoom to rectangle\", \"fa fa-square-o icon-check-empty\", \"zoom\"], [\"\", \"\", \"\", \"\"], [\"Download\", \"Download plot\", \"fa fa-floppy-o icon-save\", \"download\"]];\n",
       "\n",
       "mpl.extensions = [\"eps\", \"jpeg\", \"pdf\", \"png\", \"ps\", \"raw\", \"svg\", \"tif\"];\n",
       "\n",
       "mpl.default_extension = \"png\";var comm_websocket_adapter = function(comm) {\n",
       "    // Create a \"websocket\"-like object which calls the given IPython comm\n",
       "    // object with the appropriate methods. Currently this is a non binary\n",
       "    // socket, so there is still some room for performance tuning.\n",
       "    var ws = {};\n",
       "\n",
       "    ws.close = function() {\n",
       "        comm.close()\n",
       "    };\n",
       "    ws.send = function(m) {\n",
       "        //console.log('sending', m);\n",
       "        comm.send(m);\n",
       "    };\n",
       "    // Register the callback with on_msg.\n",
       "    comm.on_msg(function(msg) {\n",
       "        //console.log('receiving', msg['content']['data'], msg);\n",
       "        // Pass the mpl event to the overriden (by mpl) onmessage function.\n",
       "        ws.onmessage(msg['content']['data'])\n",
       "    });\n",
       "    return ws;\n",
       "}\n",
       "\n",
       "mpl.mpl_figure_comm = function(comm, msg) {\n",
       "    // This is the function which gets called when the mpl process\n",
       "    // starts-up an IPython Comm through the \"matplotlib\" channel.\n",
       "\n",
       "    var id = msg.content.data.id;\n",
       "    // Get hold of the div created by the display call when the Comm\n",
       "    // socket was opened in Python.\n",
       "    var element = $(\"#\" + id);\n",
       "    var ws_proxy = comm_websocket_adapter(comm)\n",
       "\n",
       "    function ondownload(figure, format) {\n",
       "        window.open(figure.imageObj.src);\n",
       "    }\n",
       "\n",
       "    var fig = new mpl.figure(id, ws_proxy,\n",
       "                           ondownload,\n",
       "                           element.get(0));\n",
       "\n",
       "    // Call onopen now - mpl needs it, as it is assuming we've passed it a real\n",
       "    // web socket which is closed, not our websocket->open comm proxy.\n",
       "    ws_proxy.onopen();\n",
       "\n",
       "    fig.parent_element = element.get(0);\n",
       "    fig.cell_info = mpl.find_output_cell(\"<div id='\" + id + \"'></div>\");\n",
       "    if (!fig.cell_info) {\n",
       "        console.error(\"Failed to find cell for figure\", id, fig);\n",
       "        return;\n",
       "    }\n",
       "\n",
       "    var output_index = fig.cell_info[2]\n",
       "    var cell = fig.cell_info[0];\n",
       "\n",
       "};\n",
       "\n",
       "mpl.figure.prototype.handle_close = function(fig, msg) {\n",
       "    var width = fig.canvas.width/mpl.ratio\n",
       "    fig.root.unbind('remove')\n",
       "\n",
       "    // Update the output cell to use the data from the current canvas.\n",
       "    fig.push_to_output();\n",
       "    var dataURL = fig.canvas.toDataURL();\n",
       "    // Re-enable the keyboard manager in IPython - without this line, in FF,\n",
       "    // the notebook keyboard shortcuts fail.\n",
       "    IPython.keyboard_manager.enable()\n",
       "    $(fig.parent_element).html('<img src=\"' + dataURL + '\" width=\"' + width + '\">');\n",
       "    fig.close_ws(fig, msg);\n",
       "}\n",
       "\n",
       "mpl.figure.prototype.close_ws = function(fig, msg){\n",
       "    fig.send_message('closing', msg);\n",
       "    // fig.ws.close()\n",
       "}\n",
       "\n",
       "mpl.figure.prototype.push_to_output = function(remove_interactive) {\n",
       "    // Turn the data on the canvas into data in the output cell.\n",
       "    var width = this.canvas.width/mpl.ratio\n",
       "    var dataURL = this.canvas.toDataURL();\n",
       "    this.cell_info[1]['text/html'] = '<img src=\"' + dataURL + '\" width=\"' + width + '\">';\n",
       "}\n",
       "\n",
       "mpl.figure.prototype.updated_canvas_event = function() {\n",
       "    // Tell IPython that the notebook contents must change.\n",
       "    IPython.notebook.set_dirty(true);\n",
       "    this.send_message(\"ack\", {});\n",
       "    var fig = this;\n",
       "    // Wait a second, then push the new image to the DOM so\n",
       "    // that it is saved nicely (might be nice to debounce this).\n",
       "    setTimeout(function () { fig.push_to_output() }, 1000);\n",
       "}\n",
       "\n",
       "mpl.figure.prototype._init_toolbar = function() {\n",
       "    var fig = this;\n",
       "\n",
       "    var nav_element = $('<div/>')\n",
       "    nav_element.attr('style', 'width: 100%');\n",
       "    this.root.append(nav_element);\n",
       "\n",
       "    // Define a callback function for later on.\n",
       "    function toolbar_event(event) {\n",
       "        return fig.toolbar_button_onclick(event['data']);\n",
       "    }\n",
       "    function toolbar_mouse_event(event) {\n",
       "        return fig.toolbar_button_onmouseover(event['data']);\n",
       "    }\n",
       "\n",
       "    for(var toolbar_ind in mpl.toolbar_items){\n",
       "        var name = mpl.toolbar_items[toolbar_ind][0];\n",
       "        var tooltip = mpl.toolbar_items[toolbar_ind][1];\n",
       "        var image = mpl.toolbar_items[toolbar_ind][2];\n",
       "        var method_name = mpl.toolbar_items[toolbar_ind][3];\n",
       "\n",
       "        if (!name) { continue; };\n",
       "\n",
       "        var button = $('<button class=\"btn btn-default\" href=\"#\" title=\"' + name + '\"><i class=\"fa ' + image + ' fa-lg\"></i></button>');\n",
       "        button.click(method_name, toolbar_event);\n",
       "        button.mouseover(tooltip, toolbar_mouse_event);\n",
       "        nav_element.append(button);\n",
       "    }\n",
       "\n",
       "    // Add the status bar.\n",
       "    var status_bar = $('<span class=\"mpl-message\" style=\"text-align:right; float: right;\"/>');\n",
       "    nav_element.append(status_bar);\n",
       "    this.message = status_bar[0];\n",
       "\n",
       "    // Add the close button to the window.\n",
       "    var buttongrp = $('<div class=\"btn-group inline pull-right\"></div>');\n",
       "    var button = $('<button class=\"btn btn-mini btn-primary\" href=\"#\" title=\"Stop Interaction\"><i class=\"fa fa-power-off icon-remove icon-large\"></i></button>');\n",
       "    button.click(function (evt) { fig.handle_close(fig, {}); } );\n",
       "    button.mouseover('Stop Interaction', toolbar_mouse_event);\n",
       "    buttongrp.append(button);\n",
       "    var titlebar = this.root.find($('.ui-dialog-titlebar'));\n",
       "    titlebar.prepend(buttongrp);\n",
       "}\n",
       "\n",
       "mpl.figure.prototype._root_extra_style = function(el){\n",
       "    var fig = this\n",
       "    el.on(\"remove\", function(){\n",
       "\tfig.close_ws(fig, {});\n",
       "    });\n",
       "}\n",
       "\n",
       "mpl.figure.prototype._canvas_extra_style = function(el){\n",
       "    // this is important to make the div 'focusable\n",
       "    el.attr('tabindex', 0)\n",
       "    // reach out to IPython and tell the keyboard manager to turn it's self\n",
       "    // off when our div gets focus\n",
       "\n",
       "    // location in version 3\n",
       "    if (IPython.notebook.keyboard_manager) {\n",
       "        IPython.notebook.keyboard_manager.register_events(el);\n",
       "    }\n",
       "    else {\n",
       "        // location in version 2\n",
       "        IPython.keyboard_manager.register_events(el);\n",
       "    }\n",
       "\n",
       "}\n",
       "\n",
       "mpl.figure.prototype._key_event_extra = function(event, name) {\n",
       "    var manager = IPython.notebook.keyboard_manager;\n",
       "    if (!manager)\n",
       "        manager = IPython.keyboard_manager;\n",
       "\n",
       "    // Check for shift+enter\n",
       "    if (event.shiftKey && event.which == 13) {\n",
       "        this.canvas_div.blur();\n",
       "        // select the cell after this one\n",
       "        var index = IPython.notebook.find_cell_index(this.cell_info[0]);\n",
       "        IPython.notebook.select(index + 1);\n",
       "    }\n",
       "}\n",
       "\n",
       "mpl.figure.prototype.handle_save = function(fig, msg) {\n",
       "    fig.ondownload(fig, null);\n",
       "}\n",
       "\n",
       "\n",
       "mpl.find_output_cell = function(html_output) {\n",
       "    // Return the cell and output element which can be found *uniquely* in the notebook.\n",
       "    // Note - this is a bit hacky, but it is done because the \"notebook_saving.Notebook\"\n",
       "    // IPython event is triggered only after the cells have been serialised, which for\n",
       "    // our purposes (turning an active figure into a static one), is too late.\n",
       "    var cells = IPython.notebook.get_cells();\n",
       "    var ncells = cells.length;\n",
       "    for (var i=0; i<ncells; i++) {\n",
       "        var cell = cells[i];\n",
       "        if (cell.cell_type === 'code'){\n",
       "            for (var j=0; j<cell.output_area.outputs.length; j++) {\n",
       "                var data = cell.output_area.outputs[j];\n",
       "                if (data.data) {\n",
       "                    // IPython >= 3 moved mimebundle to data attribute of output\n",
       "                    data = data.data;\n",
       "                }\n",
       "                if (data['text/html'] == html_output) {\n",
       "                    return [cell, data, j];\n",
       "                }\n",
       "            }\n",
       "        }\n",
       "    }\n",
       "}\n",
       "\n",
       "// Register the function which deals with the matplotlib target/channel.\n",
       "// The kernel may be null if the page has been refreshed.\n",
       "if (IPython.notebook.kernel != null) {\n",
       "    IPython.notebook.kernel.comm_manager.register_target('matplotlib', mpl.mpl_figure_comm);\n",
       "}\n"
      ],
      "text/plain": [
       "<IPython.core.display.Javascript object>"
      ]
     },
     "metadata": {},
     "output_type": "display_data"
    },
    {
     "data": {
      "text/html": [
       "<img src=\"data:image/png;base64,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\" width=\"1100\">"
      ],
      "text/plain": [
       "<IPython.core.display.HTML object>"
      ]
     },
     "metadata": {},
     "output_type": "display_data"
    },
    {
     "ename": "AttributeError",
     "evalue": "'Series' object has no attribute 'find'",
     "output_type": "error",
     "traceback": [
      "\u001b[1;31m---------------------------------------------------------------------------\u001b[0m",
      "\u001b[1;31mAttributeError\u001b[0m                            Traceback (most recent call last)",
      "\u001b[1;32mC:\\Users\\Christopher\\Anaconda3\\lib\\site-packages\\IPython\\core\\formatters.py\u001b[0m in \u001b[0;36m__call__\u001b[1;34m(self, obj)\u001b[0m\n\u001b[0;32m    670\u001b[0m                 \u001b[0mtype_pprinters\u001b[0m\u001b[1;33m=\u001b[0m\u001b[0mself\u001b[0m\u001b[1;33m.\u001b[0m\u001b[0mtype_printers\u001b[0m\u001b[1;33m,\u001b[0m\u001b[1;33m\u001b[0m\u001b[0m\n\u001b[0;32m    671\u001b[0m                 deferred_pprinters=self.deferred_printers)\n\u001b[1;32m--> 672\u001b[1;33m             \u001b[0mprinter\u001b[0m\u001b[1;33m.\u001b[0m\u001b[0mpretty\u001b[0m\u001b[1;33m(\u001b[0m\u001b[0mobj\u001b[0m\u001b[1;33m)\u001b[0m\u001b[1;33m\u001b[0m\u001b[0m\n\u001b[0m\u001b[0;32m    673\u001b[0m             \u001b[0mprinter\u001b[0m\u001b[1;33m.\u001b[0m\u001b[0mflush\u001b[0m\u001b[1;33m(\u001b[0m\u001b[1;33m)\u001b[0m\u001b[1;33m\u001b[0m\u001b[0m\n\u001b[0;32m    674\u001b[0m             \u001b[1;32mreturn\u001b[0m \u001b[0mstream\u001b[0m\u001b[1;33m.\u001b[0m\u001b[0mgetvalue\u001b[0m\u001b[1;33m(\u001b[0m\u001b[1;33m)\u001b[0m\u001b[1;33m\u001b[0m\u001b[0m\n",
      "\u001b[1;32mC:\\Users\\Christopher\\Anaconda3\\lib\\site-packages\\IPython\\lib\\pretty.py\u001b[0m in \u001b[0;36mpretty\u001b[1;34m(self, obj)\u001b[0m\n\u001b[0;32m    381\u001b[0m                             \u001b[1;32mif\u001b[0m \u001b[0mcallable\u001b[0m\u001b[1;33m(\u001b[0m\u001b[0mmeth\u001b[0m\u001b[1;33m)\u001b[0m\u001b[1;33m:\u001b[0m\u001b[1;33m\u001b[0m\u001b[0m\n\u001b[0;32m    382\u001b[0m                                 \u001b[1;32mreturn\u001b[0m \u001b[0mmeth\u001b[0m\u001b[1;33m(\u001b[0m\u001b[0mobj\u001b[0m\u001b[1;33m,\u001b[0m \u001b[0mself\u001b[0m\u001b[1;33m,\u001b[0m \u001b[0mcycle\u001b[0m\u001b[1;33m)\u001b[0m\u001b[1;33m\u001b[0m\u001b[0m\n\u001b[1;32m--> 383\u001b[1;33m             \u001b[1;32mreturn\u001b[0m \u001b[0m_default_pprint\u001b[0m\u001b[1;33m(\u001b[0m\u001b[0mobj\u001b[0m\u001b[1;33m,\u001b[0m \u001b[0mself\u001b[0m\u001b[1;33m,\u001b[0m \u001b[0mcycle\u001b[0m\u001b[1;33m)\u001b[0m\u001b[1;33m\u001b[0m\u001b[0m\n\u001b[0m\u001b[0;32m    384\u001b[0m         \u001b[1;32mfinally\u001b[0m\u001b[1;33m:\u001b[0m\u001b[1;33m\u001b[0m\u001b[0m\n\u001b[0;32m    385\u001b[0m             \u001b[0mself\u001b[0m\u001b[1;33m.\u001b[0m\u001b[0mend_group\u001b[0m\u001b[1;33m(\u001b[0m\u001b[1;33m)\u001b[0m\u001b[1;33m\u001b[0m\u001b[0m\n",
      "\u001b[1;32mC:\\Users\\Christopher\\Anaconda3\\lib\\site-packages\\IPython\\lib\\pretty.py\u001b[0m in \u001b[0;36m_default_pprint\u001b[1;34m(obj, p, cycle)\u001b[0m\n\u001b[0;32m    501\u001b[0m     \u001b[1;32mif\u001b[0m \u001b[0m_safe_getattr\u001b[0m\u001b[1;33m(\u001b[0m\u001b[0mklass\u001b[0m\u001b[1;33m,\u001b[0m \u001b[1;34m'__repr__'\u001b[0m\u001b[1;33m,\u001b[0m \u001b[1;32mNone\u001b[0m\u001b[1;33m)\u001b[0m \u001b[1;32mnot\u001b[0m \u001b[1;32min\u001b[0m \u001b[0m_baseclass_reprs\u001b[0m\u001b[1;33m:\u001b[0m\u001b[1;33m\u001b[0m\u001b[0m\n\u001b[0;32m    502\u001b[0m         \u001b[1;31m# A user-provided repr. Find newlines and replace them with p.break_()\u001b[0m\u001b[1;33m\u001b[0m\u001b[1;33m\u001b[0m\u001b[0m\n\u001b[1;32m--> 503\u001b[1;33m         \u001b[0m_repr_pprint\u001b[0m\u001b[1;33m(\u001b[0m\u001b[0mobj\u001b[0m\u001b[1;33m,\u001b[0m \u001b[0mp\u001b[0m\u001b[1;33m,\u001b[0m \u001b[0mcycle\u001b[0m\u001b[1;33m)\u001b[0m\u001b[1;33m\u001b[0m\u001b[0m\n\u001b[0m\u001b[0;32m    504\u001b[0m         \u001b[1;32mreturn\u001b[0m\u001b[1;33m\u001b[0m\u001b[0m\n\u001b[0;32m    505\u001b[0m     \u001b[0mp\u001b[0m\u001b[1;33m.\u001b[0m\u001b[0mbegin_group\u001b[0m\u001b[1;33m(\u001b[0m\u001b[1;36m1\u001b[0m\u001b[1;33m,\u001b[0m \u001b[1;34m'<'\u001b[0m\u001b[1;33m)\u001b[0m\u001b[1;33m\u001b[0m\u001b[0m\n",
      "\u001b[1;32mC:\\Users\\Christopher\\Anaconda3\\lib\\site-packages\\IPython\\lib\\pretty.py\u001b[0m in \u001b[0;36m_repr_pprint\u001b[1;34m(obj, p, cycle)\u001b[0m\n\u001b[0;32m    699\u001b[0m     \u001b[1;34m\"\"\"A pprint that just redirects to the normal repr function.\"\"\"\u001b[0m\u001b[1;33m\u001b[0m\u001b[0m\n\u001b[0;32m    700\u001b[0m     \u001b[1;31m# Find newlines and replace them with p.break_()\u001b[0m\u001b[1;33m\u001b[0m\u001b[1;33m\u001b[0m\u001b[0m\n\u001b[1;32m--> 701\u001b[1;33m     \u001b[0moutput\u001b[0m \u001b[1;33m=\u001b[0m \u001b[0mrepr\u001b[0m\u001b[1;33m(\u001b[0m\u001b[0mobj\u001b[0m\u001b[1;33m)\u001b[0m\u001b[1;33m\u001b[0m\u001b[0m\n\u001b[0m\u001b[0;32m    702\u001b[0m     \u001b[1;32mfor\u001b[0m \u001b[0midx\u001b[0m\u001b[1;33m,\u001b[0m\u001b[0moutput_line\u001b[0m \u001b[1;32min\u001b[0m \u001b[0menumerate\u001b[0m\u001b[1;33m(\u001b[0m\u001b[0moutput\u001b[0m\u001b[1;33m.\u001b[0m\u001b[0msplitlines\u001b[0m\u001b[1;33m(\u001b[0m\u001b[1;33m)\u001b[0m\u001b[1;33m)\u001b[0m\u001b[1;33m:\u001b[0m\u001b[1;33m\u001b[0m\u001b[0m\n\u001b[0;32m    703\u001b[0m         \u001b[1;32mif\u001b[0m \u001b[0midx\u001b[0m\u001b[1;33m:\u001b[0m\u001b[1;33m\u001b[0m\u001b[0m\n",
      "\u001b[1;32mC:\\Users\\Christopher\\Anaconda3\\lib\\site-packages\\ggplot\\ggplot.py\u001b[0m in \u001b[0;36m__repr__\u001b[1;34m(self)\u001b[0m\n\u001b[0;32m    114\u001b[0m \u001b[1;33m\u001b[0m\u001b[0m\n\u001b[0;32m    115\u001b[0m     \u001b[1;32mdef\u001b[0m \u001b[0m__repr__\u001b[0m\u001b[1;33m(\u001b[0m\u001b[0mself\u001b[0m\u001b[1;33m)\u001b[0m\u001b[1;33m:\u001b[0m\u001b[1;33m\u001b[0m\u001b[0m\n\u001b[1;32m--> 116\u001b[1;33m         \u001b[0mself\u001b[0m\u001b[1;33m.\u001b[0m\u001b[0mmake\u001b[0m\u001b[1;33m(\u001b[0m\u001b[1;33m)\u001b[0m\u001b[1;33m\u001b[0m\u001b[0m\n\u001b[0m\u001b[0;32m    117\u001b[0m         \u001b[1;31m# this is nice for dev but not the best for \"real\"\u001b[0m\u001b[1;33m\u001b[0m\u001b[1;33m\u001b[0m\u001b[0m\n\u001b[0;32m    118\u001b[0m         \u001b[1;32mif\u001b[0m \u001b[0mos\u001b[0m\u001b[1;33m.\u001b[0m\u001b[0menviron\u001b[0m\u001b[1;33m.\u001b[0m\u001b[0mget\u001b[0m\u001b[1;33m(\u001b[0m\u001b[1;34m\"GGPLOT_DEV\"\u001b[0m\u001b[1;33m)\u001b[0m\u001b[1;33m:\u001b[0m\u001b[1;33m\u001b[0m\u001b[0m\n",
      "\u001b[1;32mC:\\Users\\Christopher\\Anaconda3\\lib\\site-packages\\ggplot\\ggplot.py\u001b[0m in \u001b[0;36mmake\u001b[1;34m(self)\u001b[0m\n\u001b[0;32m    634\u001b[0m                         \u001b[1;32mif\u001b[0m \u001b[0mkwargs\u001b[0m\u001b[1;33m==\u001b[0m\u001b[1;32mFalse\u001b[0m\u001b[1;33m:\u001b[0m\u001b[1;33m\u001b[0m\u001b[0m\n\u001b[0;32m    635\u001b[0m                             \u001b[1;32mcontinue\u001b[0m\u001b[1;33m\u001b[0m\u001b[0m\n\u001b[1;32m--> 636\u001b[1;33m                         \u001b[0mlayer\u001b[0m\u001b[1;33m.\u001b[0m\u001b[0mplot\u001b[0m\u001b[1;33m(\u001b[0m\u001b[0max\u001b[0m\u001b[1;33m,\u001b[0m \u001b[0mfacetgroup\u001b[0m\u001b[1;33m,\u001b[0m \u001b[0mself\u001b[0m\u001b[1;33m.\u001b[0m\u001b[0m_aes\u001b[0m\u001b[1;33m,\u001b[0m \u001b[1;33m**\u001b[0m\u001b[0mkwargs\u001b[0m\u001b[1;33m)\u001b[0m\u001b[1;33m\u001b[0m\u001b[0m\n\u001b[0m\u001b[0;32m    637\u001b[0m \u001b[1;33m\u001b[0m\u001b[0m\n\u001b[0;32m    638\u001b[0m             \u001b[0mself\u001b[0m\u001b[1;33m.\u001b[0m\u001b[0mapply_limits\u001b[0m\u001b[1;33m(\u001b[0m\u001b[1;33m)\u001b[0m\u001b[1;33m\u001b[0m\u001b[0m\n",
      "\u001b[1;32mC:\\Users\\Christopher\\Anaconda3\\lib\\site-packages\\ggplot\\geoms\\geom_line.py\u001b[0m in \u001b[0;36mplot\u001b[1;34m(self, ax, data, _aes)\u001b[0m\n\u001b[0;32m     47\u001b[0m             \u001b[0mx\u001b[0m\u001b[1;33m,\u001b[0m \u001b[0my\u001b[0m \u001b[1;33m=\u001b[0m \u001b[0mx\u001b[0m\u001b[1;33m.\u001b[0m\u001b[0miloc\u001b[0m\u001b[1;33m[\u001b[0m\u001b[0morder\u001b[0m\u001b[1;33m]\u001b[0m\u001b[1;33m,\u001b[0m \u001b[0my\u001b[0m\u001b[1;33m.\u001b[0m\u001b[0miloc\u001b[0m\u001b[1;33m[\u001b[0m\u001b[0morder\u001b[0m\u001b[1;33m]\u001b[0m\u001b[1;33m\u001b[0m\u001b[0m\n\u001b[0;32m     48\u001b[0m \u001b[1;33m\u001b[0m\u001b[0m\n\u001b[1;32m---> 49\u001b[1;33m         \u001b[0max\u001b[0m\u001b[1;33m.\u001b[0m\u001b[0mplot\u001b[0m\u001b[1;33m(\u001b[0m\u001b[0mx\u001b[0m\u001b[1;33m,\u001b[0m \u001b[0my\u001b[0m\u001b[1;33m,\u001b[0m \u001b[1;33m**\u001b[0m\u001b[0mparams\u001b[0m\u001b[1;33m)\u001b[0m\u001b[1;33m\u001b[0m\u001b[0m\n\u001b[0m",
      "\u001b[1;32mC:\\Users\\Christopher\\Anaconda3\\lib\\site-packages\\matplotlib\\__init__.py\u001b[0m in \u001b[0;36minner\u001b[1;34m(ax, *args, **kwargs)\u001b[0m\n\u001b[0;32m   1895\u001b[0m                     warnings.warn(msg % (label_namer, func.__name__),\n\u001b[0;32m   1896\u001b[0m                                   RuntimeWarning, stacklevel=2)\n\u001b[1;32m-> 1897\u001b[1;33m             \u001b[1;32mreturn\u001b[0m \u001b[0mfunc\u001b[0m\u001b[1;33m(\u001b[0m\u001b[0max\u001b[0m\u001b[1;33m,\u001b[0m \u001b[1;33m*\u001b[0m\u001b[0margs\u001b[0m\u001b[1;33m,\u001b[0m \u001b[1;33m**\u001b[0m\u001b[0mkwargs\u001b[0m\u001b[1;33m)\u001b[0m\u001b[1;33m\u001b[0m\u001b[0m\n\u001b[0m\u001b[0;32m   1898\u001b[0m         \u001b[0mpre_doc\u001b[0m \u001b[1;33m=\u001b[0m \u001b[0minner\u001b[0m\u001b[1;33m.\u001b[0m\u001b[0m__doc__\u001b[0m\u001b[1;33m\u001b[0m\u001b[0m\n\u001b[0;32m   1899\u001b[0m         \u001b[1;32mif\u001b[0m \u001b[0mpre_doc\u001b[0m \u001b[1;32mis\u001b[0m \u001b[1;32mNone\u001b[0m\u001b[1;33m:\u001b[0m\u001b[1;33m\u001b[0m\u001b[0m\n",
      "\u001b[1;32mC:\\Users\\Christopher\\Anaconda3\\lib\\site-packages\\matplotlib\\axes\\_axes.py\u001b[0m in \u001b[0;36mplot\u001b[1;34m(self, *args, **kwargs)\u001b[0m\n\u001b[0;32m   1404\u001b[0m         \u001b[0mkwargs\u001b[0m \u001b[1;33m=\u001b[0m \u001b[0mcbook\u001b[0m\u001b[1;33m.\u001b[0m\u001b[0mnormalize_kwargs\u001b[0m\u001b[1;33m(\u001b[0m\u001b[0mkwargs\u001b[0m\u001b[1;33m,\u001b[0m \u001b[0m_alias_map\u001b[0m\u001b[1;33m)\u001b[0m\u001b[1;33m\u001b[0m\u001b[0m\n\u001b[0;32m   1405\u001b[0m \u001b[1;33m\u001b[0m\u001b[0m\n\u001b[1;32m-> 1406\u001b[1;33m         \u001b[1;32mfor\u001b[0m \u001b[0mline\u001b[0m \u001b[1;32min\u001b[0m \u001b[0mself\u001b[0m\u001b[1;33m.\u001b[0m\u001b[0m_get_lines\u001b[0m\u001b[1;33m(\u001b[0m\u001b[1;33m*\u001b[0m\u001b[0margs\u001b[0m\u001b[1;33m,\u001b[0m \u001b[1;33m**\u001b[0m\u001b[0mkwargs\u001b[0m\u001b[1;33m)\u001b[0m\u001b[1;33m:\u001b[0m\u001b[1;33m\u001b[0m\u001b[0m\n\u001b[0m\u001b[0;32m   1407\u001b[0m             \u001b[0mself\u001b[0m\u001b[1;33m.\u001b[0m\u001b[0madd_line\u001b[0m\u001b[1;33m(\u001b[0m\u001b[0mline\u001b[0m\u001b[1;33m)\u001b[0m\u001b[1;33m\u001b[0m\u001b[0m\n\u001b[0;32m   1408\u001b[0m             \u001b[0mlines\u001b[0m\u001b[1;33m.\u001b[0m\u001b[0mappend\u001b[0m\u001b[1;33m(\u001b[0m\u001b[0mline\u001b[0m\u001b[1;33m)\u001b[0m\u001b[1;33m\u001b[0m\u001b[0m\n",
      "\u001b[1;32mC:\\Users\\Christopher\\Anaconda3\\lib\\site-packages\\matplotlib\\axes\\_base.py\u001b[0m in \u001b[0;36m_grab_next_args\u001b[1;34m(self, *args, **kwargs)\u001b[0m\n\u001b[0;32m    405\u001b[0m                 \u001b[1;32mreturn\u001b[0m\u001b[1;33m\u001b[0m\u001b[0m\n\u001b[0;32m    406\u001b[0m             \u001b[1;32mif\u001b[0m \u001b[0mlen\u001b[0m\u001b[1;33m(\u001b[0m\u001b[0mremaining\u001b[0m\u001b[1;33m)\u001b[0m \u001b[1;33m<=\u001b[0m \u001b[1;36m3\u001b[0m\u001b[1;33m:\u001b[0m\u001b[1;33m\u001b[0m\u001b[0m\n\u001b[1;32m--> 407\u001b[1;33m                 \u001b[1;32mfor\u001b[0m \u001b[0mseg\u001b[0m \u001b[1;32min\u001b[0m \u001b[0mself\u001b[0m\u001b[1;33m.\u001b[0m\u001b[0m_plot_args\u001b[0m\u001b[1;33m(\u001b[0m\u001b[0mremaining\u001b[0m\u001b[1;33m,\u001b[0m \u001b[0mkwargs\u001b[0m\u001b[1;33m)\u001b[0m\u001b[1;33m:\u001b[0m\u001b[1;33m\u001b[0m\u001b[0m\n\u001b[0m\u001b[0;32m    408\u001b[0m                     \u001b[1;32myield\u001b[0m \u001b[0mseg\u001b[0m\u001b[1;33m\u001b[0m\u001b[0m\n\u001b[0;32m    409\u001b[0m                 \u001b[1;32mreturn\u001b[0m\u001b[1;33m\u001b[0m\u001b[0m\n",
      "\u001b[1;32mC:\\Users\\Christopher\\Anaconda3\\lib\\site-packages\\matplotlib\\axes\\_base.py\u001b[0m in \u001b[0;36m_plot_args\u001b[1;34m(self, tup, kwargs)\u001b[0m\n\u001b[0;32m    355\u001b[0m         \u001b[0mret\u001b[0m \u001b[1;33m=\u001b[0m \u001b[1;33m[\u001b[0m\u001b[1;33m]\u001b[0m\u001b[1;33m\u001b[0m\u001b[0m\n\u001b[0;32m    356\u001b[0m         \u001b[1;32mif\u001b[0m \u001b[0mlen\u001b[0m\u001b[1;33m(\u001b[0m\u001b[0mtup\u001b[0m\u001b[1;33m)\u001b[0m \u001b[1;33m>\u001b[0m \u001b[1;36m1\u001b[0m \u001b[1;32mand\u001b[0m \u001b[0mis_string_like\u001b[0m\u001b[1;33m(\u001b[0m\u001b[0mtup\u001b[0m\u001b[1;33m[\u001b[0m\u001b[1;33m-\u001b[0m\u001b[1;36m1\u001b[0m\u001b[1;33m]\u001b[0m\u001b[1;33m)\u001b[0m\u001b[1;33m:\u001b[0m\u001b[1;33m\u001b[0m\u001b[0m\n\u001b[1;32m--> 357\u001b[1;33m             \u001b[0mlinestyle\u001b[0m\u001b[1;33m,\u001b[0m \u001b[0mmarker\u001b[0m\u001b[1;33m,\u001b[0m \u001b[0mcolor\u001b[0m \u001b[1;33m=\u001b[0m \u001b[0m_process_plot_format\u001b[0m\u001b[1;33m(\u001b[0m\u001b[0mtup\u001b[0m\u001b[1;33m[\u001b[0m\u001b[1;33m-\u001b[0m\u001b[1;36m1\u001b[0m\u001b[1;33m]\u001b[0m\u001b[1;33m)\u001b[0m\u001b[1;33m\u001b[0m\u001b[0m\n\u001b[0m\u001b[0;32m    358\u001b[0m             \u001b[0mtup\u001b[0m \u001b[1;33m=\u001b[0m \u001b[0mtup\u001b[0m\u001b[1;33m[\u001b[0m\u001b[1;33m:\u001b[0m\u001b[1;33m-\u001b[0m\u001b[1;36m1\u001b[0m\u001b[1;33m]\u001b[0m\u001b[1;33m\u001b[0m\u001b[0m\n\u001b[0;32m    359\u001b[0m         \u001b[1;32melif\u001b[0m \u001b[0mlen\u001b[0m\u001b[1;33m(\u001b[0m\u001b[0mtup\u001b[0m\u001b[1;33m)\u001b[0m \u001b[1;33m==\u001b[0m \u001b[1;36m3\u001b[0m\u001b[1;33m:\u001b[0m\u001b[1;33m\u001b[0m\u001b[0m\n",
      "\u001b[1;32mC:\\Users\\Christopher\\Anaconda3\\lib\\site-packages\\matplotlib\\axes\\_base.py\u001b[0m in \u001b[0;36m_process_plot_format\u001b[1;34m(fmt)\u001b[0m\n\u001b[0;32m     92\u001b[0m     \u001b[1;31m# handle the multi char special cases and strip them from the\u001b[0m\u001b[1;33m\u001b[0m\u001b[1;33m\u001b[0m\u001b[0m\n\u001b[0;32m     93\u001b[0m     \u001b[1;31m# string\u001b[0m\u001b[1;33m\u001b[0m\u001b[1;33m\u001b[0m\u001b[0m\n\u001b[1;32m---> 94\u001b[1;33m     \u001b[1;32mif\u001b[0m \u001b[0mfmt\u001b[0m\u001b[1;33m.\u001b[0m\u001b[0mfind\u001b[0m\u001b[1;33m(\u001b[0m\u001b[1;34m'--'\u001b[0m\u001b[1;33m)\u001b[0m \u001b[1;33m>=\u001b[0m \u001b[1;36m0\u001b[0m\u001b[1;33m:\u001b[0m\u001b[1;33m\u001b[0m\u001b[0m\n\u001b[0m\u001b[0;32m     95\u001b[0m         \u001b[0mlinestyle\u001b[0m \u001b[1;33m=\u001b[0m \u001b[1;34m'--'\u001b[0m\u001b[1;33m\u001b[0m\u001b[0m\n\u001b[0;32m     96\u001b[0m         \u001b[0mfmt\u001b[0m \u001b[1;33m=\u001b[0m \u001b[0mfmt\u001b[0m\u001b[1;33m.\u001b[0m\u001b[0mreplace\u001b[0m\u001b[1;33m(\u001b[0m\u001b[1;34m'--'\u001b[0m\u001b[1;33m,\u001b[0m \u001b[1;34m''\u001b[0m\u001b[1;33m)\u001b[0m\u001b[1;33m\u001b[0m\u001b[0m\n",
      "\u001b[1;32mC:\\Users\\Christopher\\Anaconda3\\lib\\site-packages\\pandas\\core\\generic.py\u001b[0m in \u001b[0;36m__getattr__\u001b[1;34m(self, name)\u001b[0m\n\u001b[0;32m   2968\u001b[0m             \u001b[1;32mif\u001b[0m \u001b[0mname\u001b[0m \u001b[1;32min\u001b[0m \u001b[0mself\u001b[0m\u001b[1;33m.\u001b[0m\u001b[0m_info_axis\u001b[0m\u001b[1;33m:\u001b[0m\u001b[1;33m\u001b[0m\u001b[0m\n\u001b[0;32m   2969\u001b[0m                 \u001b[1;32mreturn\u001b[0m \u001b[0mself\u001b[0m\u001b[1;33m[\u001b[0m\u001b[0mname\u001b[0m\u001b[1;33m]\u001b[0m\u001b[1;33m\u001b[0m\u001b[0m\n\u001b[1;32m-> 2970\u001b[1;33m             \u001b[1;32mreturn\u001b[0m \u001b[0mobject\u001b[0m\u001b[1;33m.\u001b[0m\u001b[0m__getattribute__\u001b[0m\u001b[1;33m(\u001b[0m\u001b[0mself\u001b[0m\u001b[1;33m,\u001b[0m \u001b[0mname\u001b[0m\u001b[1;33m)\u001b[0m\u001b[1;33m\u001b[0m\u001b[0m\n\u001b[0m\u001b[0;32m   2971\u001b[0m \u001b[1;33m\u001b[0m\u001b[0m\n\u001b[0;32m   2972\u001b[0m     \u001b[1;32mdef\u001b[0m \u001b[0m__setattr__\u001b[0m\u001b[1;33m(\u001b[0m\u001b[0mself\u001b[0m\u001b[1;33m,\u001b[0m \u001b[0mname\u001b[0m\u001b[1;33m,\u001b[0m \u001b[0mvalue\u001b[0m\u001b[1;33m)\u001b[0m\u001b[1;33m:\u001b[0m\u001b[1;33m\u001b[0m\u001b[0m\n",
      "\u001b[1;31mAttributeError\u001b[0m: 'Series' object has no attribute 'find'"
     ]
    }
   ],
   "source": [
    "capStatusXyear = ggplot(aes(x = 'year', y='new.recap'),data = df)\n",
    "capStatusXyear + geom_line()"
   ]
  },
  {
   "cell_type": "code",
   "execution_count": null,
   "metadata": {},
   "outputs": [],
   "source": [
    "# clean new.recap\n",
    "new = ['new', 'n', 'new?']\n",
    "recap = ['recap', 'r']\n",
    "df.loc[df['new.recap'].isin(new),'new.recap'] = 'n'\n",
    "df.loc[df['new.recap'].isin(recap),'new.recap'] = 'r'"
   ]
  },
  {
   "cell_type": "code",
   "execution_count": null,
   "metadata": {},
   "outputs": [],
   "source": [
    "#overall new.recap\n",
    "SjNewXYr = pd.Series(df.loc[df['new.recap']=='n'].groupby(['year'],as_index = False).\\\n",
    "                     lizardNumber.nunique())\n",
    "SjRecapXYr = pd.Series(df.loc[df['new.recap']=='r'].groupby(['year'],as_index = False).\\\n",
    "                       lizardNumber.nunique())\n",
    "SjCapXYr = pd.concat([SjNewXYr,SjRecapXYr],axis=1,keys = ['new','recap'])\n",
    "SjCapXYr.plot(kind = 'bar', title = 'S. jarrovii Capture status')"
   ]
  },
  {
   "cell_type": "code",
   "execution_count": null,
   "metadata": {},
   "outputs": [],
   "source": [
    "#Males\n",
    "MSjNewXYr = pd.Series(df.loc[(df['new.recap']=='n') & (df.sex == 'm') ].groupby(['year'],as_index = False).lizardNumber.nunique())\n",
    "MSjRecapXYr = pd.Series(df.loc[(df['new.recap']=='r')& (df.sex == 'm')].groupby(['year'],as_index = False).lizardNumber.nunique())\n",
    "MSjCapXYr = pd.concat([MSjNewXYr,MSjRecapXYr],axis=1,keys = ['new','recap'])\n",
    "MSjCapXYr.plot(kind = 'bar', title = 'Distribution of recaptures by year among male _S.jarrovii_')"
   ]
  },
  {
   "cell_type": "code",
   "execution_count": null,
   "metadata": {
    "scrolled": false
   },
   "outputs": [],
   "source": [
    "#Female\n",
    "FSjNewXYr = pd.Series(df.loc[(df['new.recap']=='n') & (df.sex == 'f') ].groupby(['year'],as_index = False).lizardNumber.nunique())\n",
    "FSjRecapXYr = pd.Series(df.loc[(df['new.recap']=='r')& (df.sex == 'f')].groupby(['year'],as_index = False).lizardNumber.nuniqugcefe())\n",
    "FSjCapXYr = pd.concat([FSjNewXYr,FSjRecapXYr],axis=1,keys = ['new','recap'])\n",
    "FSjCapXYr.plot(kind = 'bar', title = 'Distribution of recaptures by year among female _S.jarrovii_')"
   ]
  },
  {
   "cell_type": "markdown",
   "metadata": {},
   "source": [
    "### Notes:\n",
    "- limit range of summary analysis to captures in May-August\n",
    "- only use last/first capture of an individual (based on lizardNumber) in that period\n",
    "\n",
    "#### Analyses\n",
    "(For _Sj_ only)\n",
    "- By year X sex\n",
    "    - N animals (unique)\n",
    "        - N recaptured\n",
    "            - N  years each animal appears\n",
    "            - \\* Growth over period between recaptures (first SVL as a covariate)\n"
   ]
  },
  {
   "cell_type": "markdown",
   "metadata": {},
   "source": [
    "## Number of years captured"
   ]
  },
  {
   "cell_type": "code",
   "execution_count": null,
   "metadata": {
    "collapsed": true
   },
   "outputs": [],
   "source": [
    "print(\"\\nThere are {} entries and {} unique lizards.\".format(df.shape[0],df.lizardNumber.unique()))"
   ]
  },
  {
   "cell_type": "code",
   "execution_count": null,
   "metadata": {
    "collapsed": true
   },
   "outputs": [],
   "source": [
    "\n",
    "#yearsCap = []\n",
    "#for liz in df.loc['lizardNumber'].unique():\n",
    "#    print(df.loc[df.lizardNumber == liz,'year'].unique())\n"
   ]
  },
  {
   "cell_type": "code",
   "execution_count": null,
   "metadata": {
    "collapsed": true
   },
   "outputs": [],
   "source": [
    "df.year.unique()"
   ]
  },
  {
   "cell_type": "code",
   "execution_count": null,
   "metadata": {
    "collapsed": true
   },
   "outputs": [],
   "source": [
    "print(df.columns)"
   ]
  },
  {
   "cell_type": "markdown",
   "metadata": {},
   "source": [
    "Here we remove unnecessary columns from df."
   ]
  },
  {
   "cell_type": "markdown",
   "metadata": {
    "scrolled": true
   },
   "source": [
    "keepCols = ['autotomized','date','location','mass','meters','misc','new.recap','paint.mark'\\\n",
    "         ,'painted','rtl','sex','sighting','species','svl','tl','toes','vial','year']\n",
    "print(df[keepCols].columns)"
   ]
  },
  {
   "cell_type": "markdown",
   "metadata": {},
   "source": [
    "In order to plot the data, we need to force svl, tl, rtl and mass to numeric variables."
   ]
  },
  {
   "cell_type": "code",
   "execution_count": null,
   "metadata": {
    "collapsed": true,
    "scrolled": true
   },
   "outputs": [],
   "source": [
    "print(\"\\nThere are {} data points in our data set.\".format(df.shape[0]))\n",
    "print(\"\\nThe columns in the data have the following data types:\\n{}\".format(df.dtypes))"
   ]
  },
  {
   "cell_type": "markdown",
   "metadata": {},
   "source": [
    "The following tables exclude non-ideal values for the variables in question, but once the columns are cleaned in the source file, this won't be an issue."
   ]
  },
  {
   "cell_type": "markdown",
   "metadata": {},
   "source": [
    "Drop data for species other than 'j' and 'v'."
   ]
  },
  {
   "cell_type": "code",
   "execution_count": null,
   "metadata": {
    "collapsed": true
   },
   "outputs": [],
   "source": [
    "species2keep=['j','v']\n",
    "df = df.loc[df.species.isin(species2keep)]\n",
    "print (\"\\n{} of the original data set are entries belonging to a species of interest {}\".format(df.shape[0],species2keep))"
   ]
  },
  {
   "cell_type": "markdown",
   "metadata": {},
   "source": [
    "Dropping non-ideal data for sex."
   ]
  },
  {
   "cell_type": "code",
   "execution_count": null,
   "metadata": {
    "collapsed": true
   },
   "outputs": [],
   "source": [
    "print(df.shape[0])\n",
    "sex2keep=['m','f']\n",
    "df = df.loc[df.sex.isin(sex2keep)]\n",
    "print (\"\\n{} of the original data set are entries belonging to a sex categories of interest {}\".format(df.shape[0],sex2keep))"
   ]
  },
  {
   "cell_type": "raw",
   "metadata": {},
   "source": [
    "Creating tl/svl and mass/svl indices"
   ]
  },
  {
   "cell_type": "code",
   "execution_count": null,
   "metadata": {
    "collapsed": true
   },
   "outputs": [],
   "source": [
    "df['tl_svl']=(df.tl/df.svl)\n",
    "df['mass_svl']=(df.mass/df.svl)"
   ]
  },
  {
   "cell_type": "markdown",
   "metadata": {},
   "source": [
    "Create age_class index\n",
    "Let's change the terminology: \n",
    "    - we know nothing about reproductive capability\n",
    "- S. jarrovii: Ballinger\n",
    "- S. virgatus: Rose 1981 although Smith, Ballinger and Rose 1985 seems makes a case for moving female demarcation closer to 50mm\n",
    "**NOTE:** confirm cut point for size at maturity"
   ]
  },
  {
   "cell_type": "markdown",
   "metadata": {},
   "source": [
    "Not implementing the chunk below b/c of discussion "
   ]
  },
  {
   "cell_type": "markdown",
   "metadata": {},
   "source": [
    "df['age_class']=pd.np.nan\n",
    "df['age_class'].loc[(df.svl>=56)&(df.species=='j'),]='adult'\n",
    "df['age_class'].loc[(df.svl<56)&(df.species=='j'),]='juvenile'\n",
    "#Rose 1981 although Smith, Ballinger and Rose 1985 seems makes a case for moving female demarcation closer to 50mm\n",
    "df['age_class'].loc[(df.svl>=51)&(df.species=='v')&(df.sex=='m'),]='adult'\n",
    "df['age_class'].loc[(df.svl>=56)&(df.species=='v')&(df.sex=='f'),]='adult'\n",
    "df['age_class'].loc[(df.svl<51)&(df.species=='v')&(df.sex=='m'),]='juvenile'\n",
    "df['age_class'].loc[(df.svl<56)&(df.species=='v')&(df.sex=='f'),]='juvenile'"
   ]
  },
  {
   "cell_type": "markdown",
   "metadata": {},
   "source": [
    "Create boolean flag to drop data from analyses"
   ]
  },
  {
   "cell_type": "code",
   "execution_count": null,
   "metadata": {
    "collapsed": true
   },
   "outputs": [],
   "source": [
    "df['myDrop']= pd.np.nan\n",
    "df['dropReason']= pd.np.nan"
   ]
  },
  {
   "cell_type": "markdown",
   "metadata": {},
   "source": [
    "Populate 'myDrop' column bsed on outliers in data"
   ]
  },
  {
   "cell_type": "markdown",
   "metadata": {},
   "source": [
    "df.loc[((df.svl>75)& (df.species=='v')),'myDrop']=True\n",
    "df.loc[((df.svl>75)& (df.species=='v')),'dropReason']='svl;species'\n",
    "df.loc[((df.species=='j')&(df.mass>40)),'myDrop']=True\n",
    "df.loc[((df.species=='j')&(df.mass>40)),'dropReason']='svl;mass'\n",
    "df.loc[((df.species=='v')&(df.mass>25)),'myDrop']=True\n",
    "df.loc[((df.species=='v')&(df.mass>25)),'dropReason']='svl;mass'\n",
    "df.loc[df.meters< -50,'myDrop']=True\n",
    "df.loc[df.meters< -50,'dropReason']='meters'\n",
    "df.myDrop.value_counts()"
   ]
  },
  {
   "cell_type": "code",
   "execution_count": null,
   "metadata": {
    "collapsed": true
   },
   "outputs": [],
   "source": [
    "df.loc[df.myDrop==True].reset_index()"
   ]
  },
  {
   "cell_type": "markdown",
   "metadata": {
    "collapsed": true
   },
   "source": [
    "data = client.open(\"Outliers to check(2000-2017).csv\").sheet1\n",
    "dfChecked=pd.DataFrame(data.get_all_records())"
   ]
  },
  {
   "cell_type": "markdown",
   "metadata": {},
   "source": [
    "dfChecked.columns=['index',dfChecked.columns[1:len(dfChecked.columns)]]"
   ]
  },
  {
   "cell_type": "markdown",
   "metadata": {},
   "source": [
    "#This chunk merges in changes to data made in \"Outliers to check (2000-2017).csv\"\n",
    "print (df.shape)\n",
    "df.merge(copy=dfChecked,how='inner',right_on=)"
   ]
  },
  {
   "cell_type": "markdown",
   "metadata": {},
   "source": [
    "Create a dataframe of values based on myDrop==True and export to csv."
   ]
  },
  {
   "cell_type": "code",
   "execution_count": null,
   "metadata": {
    "collapsed": true
   },
   "outputs": [],
   "source": [
    "df2run=df.loc[df.myDrop!=True]\n",
    "df2Check=df.loc[df.myDrop==True,]\n",
    "df2Check.head()"
   ]
  },
  {
   "cell_type": "code",
   "execution_count": null,
   "metadata": {
    "collapsed": true
   },
   "outputs": [],
   "source": [
    "df2Check.to_csv(\"Outliers to check(2000-2017).csv\")"
   ]
  },
  {
   "cell_type": "code",
   "execution_count": null,
   "metadata": {
    "collapsed": true
   },
   "outputs": [],
   "source": [
    "df.to_csv(\"Descriptive Analyses of CC Data (2000-2017).csv\")"
   ]
  },
  {
   "cell_type": "markdown",
   "metadata": {},
   "source": [
    "## Summary Analyses"
   ]
  },
  {
   "cell_type": "markdown",
   "metadata": {},
   "source": [
    "### Tables\n",
    "\n",
    "**NOTE:**  We need to format these into laTex tables or something else that has borders.\n",
    "try pd.DataFrame.crosstab"
   ]
  },
  {
   "cell_type": "code",
   "execution_count": null,
   "metadata": {
    "collapsed": true
   },
   "outputs": [],
   "source": [
    "df.loc[df.myDrop!=True].groupby(['species','sex'])['autotomized'].count()"
   ]
  },
  {
   "cell_type": "code",
   "execution_count": null,
   "metadata": {
    "collapsed": true
   },
   "outputs": [],
   "source": [
    "df.loc[df.myDrop!=True].groupby(['species','sex','autotomized'])['new.recap'].count()"
   ]
  },
  {
   "cell_type": "markdown",
   "metadata": {},
   "source": [
    "**NOTE:  The plots below need to be edited to better label the axes.**"
   ]
  },
  {
   "cell_type": "markdown",
   "metadata": {},
   "source": [
    "**NOTE** exclude outliers and rerun (include if mass_svl<0.6)"
   ]
  },
  {
   "cell_type": "markdown",
   "metadata": {},
   "source": [
    "## Adult lizards"
   ]
  },
  {
   "cell_type": "markdown",
   "metadata": {},
   "source": [
    "### S. jarrovii\n",
    "#### SVL"
   ]
  },
  {
   "cell_type": "code",
   "execution_count": null,
   "metadata": {
    "collapsed": true
   },
   "outputs": [],
   "source": [
    "species=['S. jarrovii', 'S. virgatus']\n",
    "print(species)\n",
    "sex=['female','male']\n",
    "print(sex)"
   ]
  },
  {
   "cell_type": "code",
   "execution_count": null,
   "metadata": {
    "collapsed": true,
    "scrolled": true
   },
   "outputs": [],
   "source": [
    "# pull out all individuals that we've recaught for Sj and writes to csv\n",
    "multicapToes=df2run.loc[(df2run.species=='j')& (df2run.toes!=\"\")& (df2run.toes!='NA')].toes.value_counts()[df2run.loc[df2run.species=='j'].toes.value_counts()>1].index.tolist()\n",
    "df2run.loc[df2run.toes.isin(multicapToes)].sort_values(by=['toes','date']).to_csv('multicaps.csv')"
   ]
  },
  {
   "cell_type": "markdown",
   "metadata": {},
   "source": [
    "# Create function to generate lizardNumber \n",
    " lizard number is a numeric identifier of unique animals in the data set\n",
    "function takes the following arguments:\n",
    "    - *x*: series object on which function acts on\n",
    "    - *sortCriteria*: list of strings of column names on which to sort data.  data are sorted by columns from left to right\n",
    "    - *validationCriteria*: dictionary of dictionaries that identify columns to validate and validation expression of the form {{'column':'column_2 >= column_1'},{'otherColumn':'column_2 >= column_1'}}\n",
    "    - *result*: dictionary of of dictionaries detailing the value *x* takes if validations are True or False of the form: {{'True':x=x[i]},{'False':x=x[i]+1},{errors: 'raise'}}, errors may be 'raise' *default* (terminates function and returns an error) or 'ignore' (returns 'NA')\n",
    "Function action:\n",
    "- first sort data by species, toes, then date\n",
    "\n",
    "- for time points 1 and , with 2 being later: \n",
    "    - toes2 == toes1\n",
    "    - svl2-svl1 >=-2\n",
    "    - year2-year1 <=7\n",
    "    - for species ==j:\n",
    "        - if svl >=56:\n",
    "            - if sex2==sex1:\n",
    "                lizardNumber[i+1]=lizardNumber[i]\n",
    "          else:\n",
    "            - lizardNumber[i+1]=lizardNumber[i]+1\n",
    "    "
   ]
  },
  {
   "cell_type": "code",
   "execution_count": null,
   "metadata": {
    "collapsed": true
   },
   "outputs": [],
   "source": [
    "df.sort_values(by='date').groupby('toes').toes.value_counts()"
   ]
  },
  {
   "cell_type": "code",
   "execution_count": null,
   "metadata": {
    "collapsed": true
   },
   "outputs": [],
   "source": [
    "#This is the function\n",
    "#First, sort by date and groupby toes\n",
    "tmp=df.sort_values(by='date').groupby('toes')\n",
    "tmp['lizardNumber']=pd.nan\n",
    "for i in 1:len(tmp.count.max()) in tmp:\n",
    "    try:\n",
    "        if tmp.loc[obs,'toes'] == tmp.loc[(obs-1),'toes']:\n",
    "            tmp.lizardNumber=\n"
   ]
  },
  {
   "cell_type": "code",
   "execution_count": null,
   "metadata": {
    "collapsed": true
   },
   "outputs": [],
   "source": [
    "ax=df2run.loc[(df.species=='j')&(df.sex=='m')].svl.plot(kind='kde',color='b',xlim=(0,120))\n",
    "jSvlKde=df2run.loc[(df.species=='j')&(df.sex=='f')].svl.plot(kind='kde',color='r',xlim=(0,120),ax=ax)"
   ]
  },
  {
   "cell_type": "code",
   "execution_count": null,
   "metadata": {
    "collapsed": true
   },
   "outputs": [],
   "source": [
    "jSvl=df2run.loc[df2run.species=='j'].boxplot(column='svl',by=['sex','age_class'])\n",
    "jSvl.set_title(species[0])\n",
    "jSvl.set_ylabel('SVL (mm)')\n",
    "jSvl.set_ylim(0,110)\n",
    "plt.suptitle(\"\")"
   ]
  },
  {
   "cell_type": "markdown",
   "metadata": {},
   "source": [
    "May want to consider running growth by month and see where these outliers end up"
   ]
  },
  {
   "cell_type": "code",
   "execution_count": null,
   "metadata": {
    "collapsed": true,
    "scrolled": true
   },
   "outputs": [],
   "source": [
    "vSvl=df2run.loc[df2run.species=='v'].boxplot(column='svl',by=['sex','age_class'])                                \n",
    "vSvl.set_title(species[1])\n",
    "vSvl.set_ylabel('SVL (mm)')\n",
    "vSvl.set_ylim(0,110)\n",
    "plt.suptitle(\"\")"
   ]
  },
  {
   "cell_type": "markdown",
   "metadata": {},
   "source": [
    "#### TL\n",
    "\n",
    "There are some hi juveniles values here"
   ]
  },
  {
   "cell_type": "code",
   "execution_count": null,
   "metadata": {
    "collapsed": true,
    "scrolled": true
   },
   "outputs": [],
   "source": [
    "jTL=df2run.loc[df2run.species=='j'].boxplot(column=['tl'],by=['sex', 'age_class'])\n",
    "jTL.set_title(species[0])\n",
    "jTL.set_ylabel('TL (mm)')\n",
    "jTL.set_ylim(0,140)\n",
    "plt.suptitle(\"\")"
   ]
  },
  {
   "cell_type": "code",
   "execution_count": null,
   "metadata": {
    "collapsed": true,
    "scrolled": true
   },
   "outputs": [],
   "source": [
    "df2runa=df2run[df2run.age_class=='adult']\n",
    "jTL=df2runa.loc[df2runa.species=='j'].boxplot(column=['tl'],by=['sex', 'autotomized'])\n",
    "jTL.set_title(species[0])\n",
    "jTL.set_ylabel('TL (mm)')\n",
    "jTL.set_ylim(0,140)\n",
    "plt.suptitle(\"\")"
   ]
  },
  {
   "cell_type": "markdown",
   "metadata": {},
   "source": [
    "Investigate f and m sj  intact, but <40; recalculate autotomized label"
   ]
  },
  {
   "cell_type": "code",
   "execution_count": null,
   "metadata": {
    "collapsed": true,
    "scrolled": false
   },
   "outputs": [],
   "source": [
    "vTL=df2run.loc[df2run.species=='v'].boxplot(column=['tl'],by=['sex', 'age_class'])\n",
    "vTL.set_title(species[1])\n",
    "vTL.set_ylabel('TL (mm)')\n",
    "vTL.set_ylim(0,140)\n",
    "plt.suptitle(\"\")"
   ]
  },
  {
   "cell_type": "markdown",
   "metadata": {},
   "source": [
    "Why is it that outliers for both species start at around 45mm?"
   ]
  },
  {
   "cell_type": "code",
   "execution_count": null,
   "metadata": {
    "collapsed": true,
    "scrolled": false
   },
   "outputs": [],
   "source": [
    "vTL=df2runa.loc[df2runa.species=='v'].boxplot(column=['tl'],by=['sex', 'autotomized'])\n",
    "vTL.set_title(species[1])\n",
    "vTL.set_ylabel('TL (mm)')\n",
    "vTL.set_ylim(0,140)\n",
    "plt.suptitle(\"\")"
   ]
  },
  {
   "cell_type": "markdown",
   "metadata": {},
   "source": [
    "investigate m intact <40 and female autotomized ~10"
   ]
  },
  {
   "cell_type": "markdown",
   "metadata": {},
   "source": [
    "#### mass\n",
    "\n",
    "**NOTE:** There are still some low mass Sj adults that we need to investigate"
   ]
  },
  {
   "cell_type": "code",
   "execution_count": null,
   "metadata": {
    "collapsed": true
   },
   "outputs": [],
   "source": [
    "jMass=df2run.loc[df2run.species=='j'].boxplot(column=['mass'],by=['sex', 'age_class'])\n",
    "jMass.set_title(species[0])\n",
    "jMass.set_ylabel('Mass (g)')\n",
    "jMass.set_ylim(0,35)\n",
    "plt.suptitle(\"\")"
   ]
  },
  {
   "cell_type": "markdown",
   "metadata": {},
   "source": []
  },
  {
   "cell_type": "code",
   "execution_count": null,
   "metadata": {
    "collapsed": true
   },
   "outputs": [],
   "source": [
    "vMass=df2run.loc[df2run.species=='v'].boxplot(column=['mass'],by=['sex', 'age_class'])\n",
    "vMass.set_title(species[1])\n",
    "vMass.set_ylabel('Mass (g)')\n",
    "vMass.set_ylim(0,35)\n",
    "plt.suptitle(\"\")"
   ]
  },
  {
   "cell_type": "markdown",
   "metadata": {},
   "source": [
    "#### TL/SVL Ratio\n",
    "**NOTE:** There are still some low SVL/TL ratios here for adults that we need to look into"
   ]
  },
  {
   "cell_type": "code",
   "execution_count": null,
   "metadata": {
    "collapsed": true
   },
   "outputs": [],
   "source": [
    "jTlSvl=df2run.loc[df2run.species=='j'].boxplot(column=['tl_svl'],by=['sex', 'age_class'])\n",
    "jTlSvl.set_title(species[0])\n",
    "jTlSvl.set_ylabel('TL/SVL')\n",
    "jTlSvl.set_ylim(0,2.25)\n",
    "plt.suptitle(\"\")"
   ]
  },
  {
   "cell_type": "code",
   "execution_count": null,
   "metadata": {
    "collapsed": true
   },
   "outputs": [],
   "source": [
    "vTlSvl=df2run.loc[df2run.species=='v'].boxplot(column=['tl_svl'],by=['sex', 'age_class'])\n",
    "vTlSvl.set_title(species[1])\n",
    "vTlSvl.set_ylabel('TL/SVL')\n",
    "vTlSvl.set_ylim(0,2.25)\n",
    "plt.suptitle(\"\")"
   ]
  },
  {
   "cell_type": "code",
   "execution_count": null,
   "metadata": {
    "collapsed": true,
    "scrolled": true
   },
   "outputs": [],
   "source": [
    "jMassSvl=df2run.loc[df2run.species=='j'].boxplot(column=['mass_svl'],by=['sex', 'age_class'])\n",
    "jMassSvl.set_title(species[0])\n",
    "jMassSvl.set_ylabel('Mass/SVL (g/mm)')\n",
    "jMassSvl.set_ylim(0,.8)\n",
    "plt.suptitle(\"\")"
   ]
  },
  {
   "cell_type": "code",
   "execution_count": null,
   "metadata": {
    "collapsed": true
   },
   "outputs": [],
   "source": [
    "jMaleMassSvl=df2run.loc[(df2run.species=='j')&(df2run.sex=='m')].plot.scatter(x='svl',y='mass',edgecolors='red',facecolors='none')\n",
    "jFeMassSvl=df2run.loc[(df2run.species=='j')&(df2run.sex=='f')].plot.scatter(x='svl',y='mass',edgecolors='blue', facecolors='none',ax=jMaleMassSvl)\n",
    "jFeMassSvl.set_title(species[0])\n",
    "jFeMassSvl.set_xlabel('SVL (mm)')\n",
    "jFeMassSvl.set_ylabel('Mass (g)')\n",
    "#vFeMassSvl.set_ylim(0,.5)\n",
    "plt.suptitle(\"\")"
   ]
  },
  {
   "cell_type": "code",
   "execution_count": null,
   "metadata": {
    "collapsed": true,
    "scrolled": true
   },
   "outputs": [],
   "source": [
    "vMassSvl=df2run.loc[df2run.species=='v'].boxplot(column=['mass_svl'],by=['sex'])\n",
    "vMassSvl.set_title(species[1])\n",
    "vMassSvl.set_ylabel('Mass/SVL (g/mm)')\n",
    "vMassSvl.set_ylim(0,.5)\n",
    "plt.suptitle(\"\")"
   ]
  },
  {
   "cell_type": "code",
   "execution_count": null,
   "metadata": {
    "collapsed": true
   },
   "outputs": [],
   "source": [
    "vMaleMassSvl=df2run.loc[(df2run.species=='v')&(df2run.sex=='m')].plot.scatter(x='svl',y='mass',edgecolors='red',facecolors='none')\n",
    "vFeMassSvl=df2run.loc[(df2run.species=='v')&(df2run.sex=='f')].plot.scatter(x='svl',y='mass',edgecolors='blue', facecolors='none',ax=jMaleMassSvl)\n",
    "vFeMassSvl.set_title(species[1])\n",
    "vFeMassSvl.set_xlabel('SVL (mm)')\n",
    "vFeMassSvl.set_ylabel('Mass (g)')\n",
    "vFeMassSvl.set_xlim(left=0,right=100)\n",
    "plt.suptitle(\"\")"
   ]
  },
  {
   "cell_type": "code",
   "execution_count": null,
   "metadata": {
    "collapsed": true
   },
   "outputs": [],
   "source": [
    "df2run.loc[(df2run.sex=='m')].groupby(['species','sex']).plot.scatter(x='svl',y='tl',edgecolors=['red','blue'],facecolors='none')\n",
    "#MassSVLdf2run.loc[(df2run.sex=='m')].groupby('species').plot.scatter(x='svl',y='mass',edgecolors='red',facecolors='none')"
   ]
  },
  {
   "cell_type": "code",
   "execution_count": null,
   "metadata": {
    "collapsed": true
   },
   "outputs": [],
   "source": [
    "juvMassSVL=df.loc[(df.age_class=='juvenile')&(df.myDrop!=True),].groupby('species').boxplot(column=['mass_svl'],by=['sex'])"
   ]
  },
  {
   "cell_type": "code",
   "execution_count": null,
   "metadata": {
    "collapsed": true
   },
   "outputs": [],
   "source": [
    "adultMassSVL=df2run.loc[(df2run.sex=='m')].groupby(['species','sex']).plot.scatter(x='svl',y='mass',edgecolors=['red','blue'],facecolors='none')\n",
    "#MassSVLdf2run.loc[(df2run.sex=='m')].groupby('species').plot.scatter(x='svl',y='mass',edgecolors='red',facecolors='none')\n",
    "#adultMassSVL.set_title(species)\n",
    "#adultMassSVL.set_ylabel('Mass/SVL (g/mm)')\n",
    "#adultMassSVL.set_ylim(0,.5)\n",
    "#plt.suptitle(\"\")"
   ]
  },
  {
   "cell_type": "markdown",
   "metadata": {},
   "source": [
    "Add groupby arguments that include species ageclass and sex for all summaries\n",
    "    - consider adding year\n",
    "Types of visualizations:\n",
    "- tables (autotomy, new/recap (1st sightings only)\n",
    "- boxplots (svl, tl, rtl, mass)\n",
    "- histograms (age class (svl), meters (location))"
   ]
  },
  {
   "cell_type": "markdown",
   "metadata": {},
   "source": [
    "For inferential stats\n",
    "- differences:\n",
    "    - between seasons within years \n",
    "    - between years (weather and fire)\n",
    "    - population density (revist how to calculate this)\n",
    "        - ran study until flatline\n",
    "        - do we need to account for person-hours still?"
   ]
  },
  {
   "cell_type": "markdown",
   "metadata": {},
   "source": [
    "The following histograms show the distribution of animals linearly along the site.  The x-axis is location in meters and the y axis in the number of animals.  The graphs are separated by sex and species."
   ]
  },
  {
   "cell_type": "markdown",
   "metadata": {},
   "source": [
    "The differences between the adults and juvenile are interesting, no?"
   ]
  },
  {
   "cell_type": "markdown",
   "metadata": {},
   "source": [
    "Adults"
   ]
  },
  {
   "cell_type": "code",
   "execution_count": null,
   "metadata": {
    "collapsed": true,
    "scrolled": false
   },
   "outputs": [],
   "source": [
    "#Scale the figures so that the y axes are the same\n",
    "df2run.loc[(df2run.myDrop!=True)&(df2run.species=='v')].groupby('year').hist(column='svl',by=['sex'])\n",
    "#df.loc[(df.myDrop!=True)].groupby(df.date.mo).hist(column='svl',by=['sex'])"
   ]
  },
  {
   "cell_type": "markdown",
   "metadata": {},
   "source": [
    "Juveniles"
   ]
  },
  {
   "cell_type": "code",
   "execution_count": null,
   "metadata": {
    "collapsed": true
   },
   "outputs": [],
   "source": [
    "df.loc[(df.myDrop!=True)&(df.age_class=='juvenile')].groupby('species').hist(column='svl',by=['sex'])"
   ]
  },
  {
   "cell_type": "markdown",
   "metadata": {},
   "source": [
    "TL - Adults"
   ]
  },
  {
   "cell_type": "code",
   "execution_count": null,
   "metadata": {
    "collapsed": true,
    "scrolled": true
   },
   "outputs": [],
   "source": [
    "#Standardize x and y axes\n",
    "df.loc[(df.myDrop!=True)&(df.age_class=='adult')].groupby('species').hist(column='tl',by=['sex'])"
   ]
  },
  {
   "cell_type": "markdown",
   "metadata": {},
   "source": [
    "Juveniles"
   ]
  },
  {
   "cell_type": "code",
   "execution_count": null,
   "metadata": {
    "collapsed": true
   },
   "outputs": [],
   "source": [
    "df.loc[(df.myDrop!=True)&(df.age_class=='juvenile')].groupby('species').hist(column='tl',by=['sex'])"
   ]
  },
  {
   "cell_type": "markdown",
   "metadata": {},
   "source": [
    "Overall view of tail loss\n",
    "**NOTE:** The autotomized==True argumetn is throwing an error here for some reason and rtl!=0 may exclude autotomized individuals which haven't regrown tail. Have to chase this down later"
   ]
  },
  {
   "cell_type": "code",
   "execution_count": null,
   "metadata": {
    "collapsed": true,
    "scrolled": false
   },
   "outputs": [],
   "source": [
    "#df.loc[(df.myDrop!=True)&(df.age_class=='adult')&(df.autotomized==True)].hist(column='rtl',by=['species','sex'])\n",
    "#df.loc[(df.myDrop!=True)&(df.age_class=='juvenile')&(df.autotomized==True)].hist(column='rtl',by=['species','sex'])\n",
    "#df.loc[df.rtl!=0].hist(column='rtl',by=['species','sex'])"
   ]
  },
  {
   "cell_type": "markdown",
   "metadata": {},
   "source": [
    "Adults"
   ]
  },
  {
   "cell_type": "code",
   "execution_count": null,
   "metadata": {
    "collapsed": true,
    "scrolled": true
   },
   "outputs": [],
   "source": [
    "df.loc[((df.age_class=='adult')&(df.myDrop!=True)),].groupby('species').hist(column='tl',by=['sex'])"
   ]
  },
  {
   "cell_type": "markdown",
   "metadata": {},
   "source": [
    "Juveniles"
   ]
  },
  {
   "cell_type": "code",
   "execution_count": null,
   "metadata": {
    "collapsed": true
   },
   "outputs": [],
   "source": [
    "df.loc[(df.myDrop!=True)&(df.age_class=='juvenile')].groupby('species').hist(column='svl',by=['sex'])"
   ]
  },
  {
   "cell_type": "code",
   "execution_count": null,
   "metadata": {
    "collapsed": true,
    "scrolled": false
   },
   "outputs": [],
   "source": [
    "df.loc[((df.myDrop!=True)&(df.age_class=='adult')),].groupby('species').hist(column='mass',by=['sex'])"
   ]
  },
  {
   "cell_type": "code",
   "execution_count": null,
   "metadata": {
    "collapsed": true
   },
   "outputs": [],
   "source": []
  }
 ],
 "metadata": {
  "kernelspec": {
   "display_name": "Python 3",
   "language": "python",
   "name": "python3"
  },
  "language_info": {
   "codemirror_mode": {
    "name": "ipython",
    "version": 3
   },
   "file_extension": ".py",
   "mimetype": "text/x-python",
   "name": "python",
   "nbconvert_exporter": "python",
   "pygments_lexer": "ipython3",
   "version": "3.6.1"
  }
 },
 "nbformat": 4,
 "nbformat_minor": 2
}
