{
 "cells": [
  {
   "cell_type": "markdown",
   "metadata": {},
   "source": [
    "# Table of Contents\n",
    "1. [Things to Do](#Things-to-Do)\n",
    "1. [Introduction](#Introduction)\n",
    "1. [Set up Python](#Set-up-Python)\n",
    "2. [Functions](#Functions)\n",
    "3. [Getting Data](#Get-Data)\n",
    "4. [Analyze Data](#Analyze-Data):\n",
    "    - [Population Size](#Population-Size)\n",
    "    - [Species Distribution](#Species-Distribution)\n",
    "    - [Sex Distribution](#Sex-Distribution)\n",
    "    - [Tail Condition Distribution](#Tail-Condition-Distribution)\n",
    "    - [Location](#Location)\n",
    "    - [Morphometrics](#Morphometrics):\n",
    "        - [SVL](#SVL)\n",
    "        - [TL](#TL)\n",
    "        - [RTL](#RTL)\n",
    "        - [Mass](#Mass)\n",
    "    - [(REMOVE)Survival and Rates and Likelihood of Recapture](#Survival-and-Rates-and-Likelihood-of-Recapture)\n",
    "    - [Captures](#Captures)\n",
    "    - [(REMOVE)Growth](#Growth)\n",
    "        - [(REMOVE)SVL Growth](#SVL-Growth)\n",
    "5. [Export Files](#Export-Files)"
   ]
  },
  {
   "cell_type": "markdown",
   "metadata": {},
   "source": [
    "# Things to Do\n",
    "\n",
    "\n",
    "## [Resume Here](#resume)"
   ]
  },
  {
   "cell_type": "markdown",
   "metadata": {},
   "source": [
    "## Introduction\n",
    "\n",
    "This notebook contains code and output of descriptive analyses for the 2000-2017 CC dataset after cleaning.\n",
    "\n",
    "The objectives of this notebook are to describe the community of the _Sceloporus jarrovii_ and _Sceloporus virgatus_ lizards in the Crystal Creek wash from 2000 until 2017.  The population demographic metrics we examine are: [population size](#Population-Size), [sex distribution](#Sex-Distribution), [tail condition distribution](#Tail-Condition-Distribution), [location](#Location), [morphometrics](#Morphometrics) -- [SVL](#SVL), [TL](#TL), [RTL](#RTL), [mass](#Mass) --,  [survival and rates and likelihood of recapture](#Survival-and-Rates-and-Likelihood-of-Recapture), and [growth](#Growth).\n",
    "\n",
    "We will examine these metrics and interactions among them with particular interest in the impact of environmental factors from year to year.\n"
   ]
  },
  {
   "cell_type": "markdown",
   "metadata": {},
   "source": [
    "##  Set up Python\n",
    "\n",
    "First we will need to set up the python environment, importing the necessary packages and setting the display options.\n",
    "\n",
    "[Top](#TOC)"
   ]
  },
  {
   "cell_type": "code",
   "execution_count": 1,
   "metadata": {},
   "outputs": [
    {
     "data": {
      "text/html": [
       "<script>requirejs.config({paths: { 'plotly': ['https://cdn.plot.ly/plotly-latest.min']},});if(!window.Plotly) {{require(['plotly'],function(plotly) {window.Plotly=plotly;});}}</script>"
      ],
      "text/vnd.plotly.v1+html": [
       "<script>requirejs.config({paths: { 'plotly': ['https://cdn.plot.ly/plotly-latest.min']},});if(!window.Plotly) {{require(['plotly'],function(plotly) {window.Plotly=plotly;});}}</script>"
      ]
     },
     "metadata": {},
     "output_type": "display_data"
    }
   ],
   "source": [
    "import pandas as pd\n",
    "import numpy as np\n",
    "import os, glob, logging\n",
    "from summary_functions import *\n",
    "from scipy import stats\n",
    "from monthlit import *\n",
    "from prettyprint import *\n",
    "\n",
    "\n",
    "import plotly\n",
    "import plotly.plotly as py\n",
    "import plotly.figure_factory as ff\n",
    "import plotly.graph_objs as go\n",
    "from plotly.offline import download_plotlyjs, init_notebook_mode, plot, iplot\n",
    "\n",
    "init_notebook_mode(connected=True)\n",
    "plotly.tools.set_config_file(world_readable=True)\n",
    "\n",
    "\n",
    "# increase print limit\n",
    "pd.options.display.max_rows = 99999\n",
    "pd.options.display.max_columns = 50"
   ]
  },
  {
   "cell_type": "markdown",
   "metadata": {},
   "source": [
    "### Setting File Locations"
   ]
  },
  {
   "cell_type": "code",
   "execution_count": 2,
   "metadata": {},
   "outputs": [],
   "source": [
    "deviceDict = {'dataBig':{'source':'S:/Chris/TailDemography/TailDemography/outputFiles'\n",
    "                         ,'log':'S:/Chris/TailDemography/TailDemography/Scripts and notes/Descriptive/'\n",
    "                         ,'output':'S:/Chris/TailDemography/TailDemography/outputFiles/'},\n",
    "              'silverSurfer':{'source':'C:\\\\Users\\\\craga_eowcrpe\\\\Google Drive\\\\TailDemography\\\\outputFiles'\n",
    "                              ,'log':'C:\\\\Users\\\\craga_eowcrpe\\\\Google Drive\\\\TailDemography\\\\Scripts and notes\\\\Descriptive\\\\'\n",
    "                              ,'output':'C:\\\\Users\\\\craga_eowcrpe\\\\Google Drive\\\\TailDemography\\\\outputFiles\\\\Descriptive\\\\'}\n",
    "              ,'dataPers':{'source':'C:/Users/Christopher/Google Drive/TailDemography/outputFiles'\n",
    "                           ,'log': 'C:\\\\Users\\\\craga_eowcrpe\\\\Google Drive\\\\TailDemography\\\\Scripts and notes\\\\Descriptive\\\\'\n",
    "                           ,'output':'C:/Users/Christopher/Google Drive/TailDemography/outputFiles/Descriptve/'}}"
   ]
  },
  {
   "cell_type": "markdown",
   "metadata": {},
   "source": [
    "### Choose Device"
   ]
  },
  {
   "cell_type": "code",
   "execution_count": 3,
   "metadata": {},
   "outputs": [
    {
     "data": {
      "text/plain": [
       "{'source': 'S:/Chris/TailDemography/TailDemography/outputFiles',\n",
       " 'log': 'S:/Chris/TailDemography/TailDemography/Scripts and notes/Descriptive/',\n",
       " 'output': 'S:/Chris/TailDemography/TailDemography/outputFiles/'}"
      ]
     },
     "execution_count": 3,
     "metadata": {},
     "output_type": "execute_result"
    }
   ],
   "source": [
    "device = deviceDict['dataBig']\n",
    "device"
   ]
  },
  {
   "cell_type": "markdown",
   "metadata": {},
   "source": [
    "# Source Data\n"
   ]
  },
  {
   "cell_type": "markdown",
   "metadata": {},
   "source": [
    "### Logging"
   ]
  },
  {
   "cell_type": "code",
   "execution_count": 4,
   "metadata": {},
   "outputs": [],
   "source": [
    "logging.basicConfig(filename=device['log']+'Desriptive Analyses.log'\n",
    "                    , filemode='a',\n",
    "                    format='%(funcName)s - %(levelname)s - %(message)s - %(asctime)s', level=logging.DEBUG)"
   ]
  },
  {
   "cell_type": "markdown",
   "metadata": {},
   "source": [
    "## Functions\n",
    "\n",
    "This section contains functions that were created for this notebook.\n",
    "\n",
    "- [distribution](#distribution) #delete this we will use scipy stats describe instead\n",
    "- [monthlit](#monthlit)\n",
    "- [description](#description)\n",
    "- [vocab_run](#vocab_run)"
   ]
  },
  {
   "cell_type": "markdown",
   "metadata": {},
   "source": [
    "### distribution\n",
    "[Back to Top](#TOC)\n",
    "\n",
    "[Back to Functions](#Functions)\n",
    "\n",
    "*distribution* takes a series or list of numeric objects, *x*, and returns descriptive stats of x including\n",
    "        n, minimum, maximum, median, sIQR, mean, and stdev\n",
    "    \n",
    "Here are a few examples of how *distribution* works."
   ]
  },
  {
   "cell_type": "code",
   "execution_count": 5,
   "metadata": {},
   "outputs": [],
   "source": [
    "foo = [0,1,2,'r']\n",
    "distribution(foo)"
   ]
  },
  {
   "cell_type": "code",
   "execution_count": 6,
   "metadata": {},
   "outputs": [
    {
     "data": {
      "text/html": [
       "<div>\n",
       "<style scoped>\n",
       "    .dataframe tbody tr th:only-of-type {\n",
       "        vertical-align: middle;\n",
       "    }\n",
       "\n",
       "    .dataframe tbody tr th {\n",
       "        vertical-align: top;\n",
       "    }\n",
       "\n",
       "    .dataframe thead th {\n",
       "        text-align: right;\n",
       "    }\n",
       "</style>\n",
       "<table border=\"1\" class=\"dataframe\">\n",
       "  <thead>\n",
       "    <tr style=\"text-align: right;\">\n",
       "      <th></th>\n",
       "      <th>n</th>\n",
       "      <th>minimum</th>\n",
       "      <th>maximum</th>\n",
       "      <th>median</th>\n",
       "      <th>siqr</th>\n",
       "      <th>mean</th>\n",
       "      <th>stdev</th>\n",
       "    </tr>\n",
       "  </thead>\n",
       "  <tbody>\n",
       "    <tr>\n",
       "      <th>0</th>\n",
       "      <td>3</td>\n",
       "      <td>0</td>\n",
       "      <td>2</td>\n",
       "      <td>1.0</td>\n",
       "      <td>0.5</td>\n",
       "      <td>1.0</td>\n",
       "      <td>1.0</td>\n",
       "    </tr>\n",
       "  </tbody>\n",
       "</table>\n",
       "</div>"
      ],
      "text/plain": [
       "   n  minimum  maximum  median  siqr  mean  stdev\n",
       "0  3        0        2     1.0   0.5   1.0    1.0"
      ]
     },
     "execution_count": 6,
     "metadata": {},
     "output_type": "execute_result"
    }
   ],
   "source": [
    "bar = [0,1,2]\n",
    "distribution(bar)"
   ]
  },
  {
   "cell_type": "markdown",
   "metadata": {},
   "source": [
    "[Back to Functions](#Functions)"
   ]
  },
  {
   "cell_type": "markdown",
   "metadata": {},
   "source": [
    "## monthlit\n",
    "[Back to Top](#TOC)\n",
    "\n",
    "[Back to Functions](#Functions)"
   ]
  },
  {
   "cell_type": "markdown",
   "metadata": {},
   "source": [
    "Here are a few examples of how _monthlit_ works."
   ]
  },
  {
   "cell_type": "code",
   "execution_count": 7,
   "metadata": {},
   "outputs": [
    {
     "data": {
      "text/html": [
       "<div>\n",
       "<style scoped>\n",
       "    .dataframe tbody tr th:only-of-type {\n",
       "        vertical-align: middle;\n",
       "    }\n",
       "\n",
       "    .dataframe tbody tr th {\n",
       "        vertical-align: top;\n",
       "    }\n",
       "\n",
       "    .dataframe thead th {\n",
       "        text-align: right;\n",
       "    }\n",
       "</style>\n",
       "<table border=\"1\" class=\"dataframe\">\n",
       "  <thead>\n",
       "    <tr style=\"text-align: right;\">\n",
       "      <th></th>\n",
       "      <th>dates</th>\n",
       "    </tr>\n",
       "  </thead>\n",
       "  <tbody>\n",
       "    <tr>\n",
       "      <th>0</th>\n",
       "      <td>2018-12-09</td>\n",
       "    </tr>\n",
       "    <tr>\n",
       "      <th>1</th>\n",
       "      <td>2019-08-05</td>\n",
       "    </tr>\n",
       "    <tr>\n",
       "      <th>2</th>\n",
       "      <td>2017-07-04</td>\n",
       "    </tr>\n",
       "    <tr>\n",
       "      <th>3</th>\n",
       "      <td>NaT</td>\n",
       "    </tr>\n",
       "    <tr>\n",
       "      <th>4</th>\n",
       "      <td>NaT</td>\n",
       "    </tr>\n",
       "  </tbody>\n",
       "</table>\n",
       "</div>"
      ],
      "text/plain": [
       "       dates\n",
       "0 2018-12-09\n",
       "1 2019-08-05\n",
       "2 2017-07-04\n",
       "3        NaT\n",
       "4        NaT"
      ]
     },
     "execution_count": 7,
     "metadata": {},
     "output_type": "execute_result"
    }
   ],
   "source": [
    "dates = pd.DataFrame(data={'dates':['2018-12-9','2019-8-5', '2017/7/4',np.nan,None]})\n",
    "dates.dates = pd.to_datetime(dates.dates)\n",
    "dates"
   ]
  },
  {
   "cell_type": "code",
   "execution_count": 8,
   "metadata": {},
   "outputs": [
    {
     "data": {
      "text/plain": [
       "True"
      ]
     },
     "execution_count": 8,
     "metadata": {},
     "output_type": "execute_result"
    }
   ],
   "source": [
    "np.isnan(np.nan)"
   ]
  },
  {
   "cell_type": "code",
   "execution_count": 9,
   "metadata": {},
   "outputs": [
    {
     "data": {
      "text/plain": [
       "'Dec'"
      ]
     },
     "execution_count": 9,
     "metadata": {},
     "output_type": "execute_result"
    }
   ],
   "source": [
    "monthlit(dates.dates.dt.month[0])"
   ]
  },
  {
   "cell_type": "code",
   "execution_count": 10,
   "metadata": {
    "scrolled": true
   },
   "outputs": [
    {
     "data": {
      "text/plain": [
       "0    Dec\n",
       "1    Aug\n",
       "2    Jul\n",
       "3    NaN\n",
       "4    NaN\n",
       "Name: dates, dtype: object"
      ]
     },
     "execution_count": 10,
     "metadata": {},
     "output_type": "execute_result"
    }
   ],
   "source": [
    "dates.dates.dt.month.apply(monthlit)"
   ]
  },
  {
   "cell_type": "markdown",
   "metadata": {},
   "source": [
    "[Back to Functions](#Functions)"
   ]
  },
  {
   "cell_type": "markdown",
   "metadata": {},
   "source": [
<<<<<<< HEAD:python notebooks/Descriptive Analyses of CC Data (2000-2017)-Copy1.ipynb
    "## Get Data\n",
    "[Top](#TOC)\n",
    "\n",
    "Here we can set the locations from which we get data and to which we export it."
=======
    "## description\n",
    "[Back to Top](#TOC)\n",
    "\n",
    "[Back to Functions](#Functions)"
   ]
  },
  {
   "cell_type": "code",
   "execution_count": 11,
   "metadata": {},
   "outputs": [],
   "source": [
    "def description(x,gvariables,variable,percentage=False):\n",
    "    if percentage:\n",
    "            res = x.groupby(gvariables)[variable].describe()\n",
    "            res[['mean','std','min','25%','50%','75%','max']] = res[['mean','std','min','25%','50%','75%','max']]\\\n",
    "            .apply(lambda x:x*100) \n",
    "#Need to Add CI calculation to this function\n",
    "#             meanCI = 'not calculated'\n",
    "    else:\n",
    "        res = x.groupby(gvariables)[variable].describe() \n",
    "    res['siqr'] = (res['75%']-res['25%'])/2\n",
    "    res['meanCI'] = 'not calculated'\n",
    "    return res"
   ]
  },
  {
   "cell_type": "markdown",
   "metadata": {},
   "source": [
    "### vocab_run\n",
    "[Back to Top](#TOC)\n",
    "\n",
    "[Back to Functions](#Functions)\n",
    "\n",
    "*vocab_run* takes a list, joins its the first the elements with a separator placing a different separator between\n",
    "     the penultimate and final members of the list and returns the result as a string\n",
    "     :param x: a list of strings to be concatenated\n",
    "     :param connector_dict: a dictionary with keys describing the size of the list and values indicating the type of\n",
    "     connectors separate the list elements.\n",
    "    \n",
    "Here are a few examples of how *vocab_run* works."
   ]
  },
  {
   "cell_type": "code",
   "execution_count": 12,
   "metadata": {},
   "outputs": [
    {
     "name": "stdout",
     "output_type": "stream",
     "text": [
      "Could you bring some foo, bar and stuffkins please?\n"
     ]
    }
   ],
   "source": [
    "print(\"Could you bring some {} please?\".format(vocab_run(['foo','bar','stuffkins'])))"
   ]
  },
  {
   "cell_type": "code",
   "execution_count": 13,
   "metadata": {},
   "outputs": [
    {
     "name": "stdout",
     "output_type": "stream",
     "text": [
      "You can either have foo, bar or stuffkins.  You'll have to make a choice.\n"
     ]
    }
   ],
   "source": [
    "print(\"You can either have {}.  You'll have to make a choice.\"\\\n",
    "      .format(vocab_run(['foo','bar','stuffkins'],connector_dict={1: None, 2: ' or ', 'run': ', '})))"
   ]
  },
  {
   "cell_type": "markdown",
   "metadata": {},
   "source": [
    "[Back to Functions](#Functions)"
   ]
  },
  {
   "cell_type": "markdown",
   "metadata": {},
   "source": [
    "We'll display all files in the source folder with the prefix _'cleaned CC data 2000-2017'_. The file names will be saved in a variable, _mysourcefiles_."
>>>>>>> dcf246b4afe37ef97be77537ce2cce1f5e03a67a:python notebooks/Descriptive Analyses of CC Data (2000-2017)-Overall.ipynb
   ]
  },
  {
   "cell_type": "markdown",
   "metadata": {},
   "source": [
    "We'll display all files in the source folder with the prefix _'cleaned CC data 2000-2017'_. The file names will be saved in a variable, _mysourcefiles_."
   ]
  },
  {
   "cell_type": "code",
   "execution_count": 14,
   "metadata": {},
   "outputs": [
    {
     "data": {
      "text/plain": [
       "['cleaned CC data 2000-2017_2019-01-31 01hrs43min.csv',\n",
       " 'cleaned CC data 2000-2017_2019-03-10 14hrs42min.csv',\n",
       " 'cleaned CC data 2000-2017_2019-03-12 21hrs48min.csv',\n",
       " 'cleaned CC data 2000-2017_2019-03-12 22hrs52min.csv',\n",
       " 'cleaned CC data 2000-2017_2019-03-12 22hrs55min.csv',\n",
       " 'cleaned CC data 2000-2017_2019-04-25 00hrs58min.csv',\n",
       " 'cleaned CC data 2000-2017_2019-04-25 01hrs00min.csv',\n",
       " 'cleaned CC data 2000-2017_2019-05-02 00hrs17min.csv',\n",
       " 'cleaned CC data 2000-2017_2019-05-02 01hrs03min.csv',\n",
       " 'cleaned CC data 2000-2017_2019-05-02 01hrs08min.csv',\n",
       " 'cleaned CC data 2000-2017_2019-05-04 00hrs33min.csv']"
      ]
     },
     "execution_count": 14,
     "metadata": {},
     "output_type": "execute_result"
    }
   ],
   "source": [
    "os.chdir(device['source'])\n",
    "mysourcefiles = glob.glob('cleaned CC data 2000-2017_*.csv')\n",
    "mysourcefiles"
   ]
  },
  {
<<<<<<< HEAD:python notebooks/Descriptive Analyses of CC Data (2000-2017)-Copy1.ipynb
=======
   "cell_type": "code",
   "execution_count": 15,
   "metadata": {},
   "outputs": [
    {
     "data": {
      "text/plain": [
       "Timestamp('2019-01-31 00:00:00')"
      ]
     },
     "execution_count": 15,
     "metadata": {},
     "output_type": "execute_result"
    }
   ],
   "source": [
    "pd.to_datetime(mysourcefiles[0].split(\"_\")[1].split(\".csv\")[0].split(' ')[0])"
   ]
  },
  {
>>>>>>> dcf246b4afe37ef97be77537ce2cce1f5e03a67a:python notebooks/Descriptive Analyses of CC Data (2000-2017)-Overall.ipynb
   "cell_type": "markdown",
   "metadata": {},
   "source": [
    "Automate getting the latest file"
   ]
  },
  {
   "cell_type": "code",
<<<<<<< HEAD:python notebooks/Descriptive Analyses of CC Data (2000-2017)-Copy1.ipynb
   "execution_count": 12,
=======
   "execution_count": 16,
>>>>>>> dcf246b4afe37ef97be77537ce2cce1f5e03a67a:python notebooks/Descriptive Analyses of CC Data (2000-2017)-Overall.ipynb
   "metadata": {},
   "outputs": [
    {
     "data": {
      "text/plain": [
       "'cleaned CC data 2000-2017_2019-05-04 00hrs33min.csv'"
      ]
     },
<<<<<<< HEAD:python notebooks/Descriptive Analyses of CC Data (2000-2017)-Copy1.ipynb
     "execution_count": 12,
=======
     "execution_count": 16,
>>>>>>> dcf246b4afe37ef97be77537ce2cce1f5e03a67a:python notebooks/Descriptive Analyses of CC Data (2000-2017)-Overall.ipynb
     "metadata": {},
     "output_type": "execute_result"
    }
   ],
   "source": [
    "latestTest = [latestFile for latestFile in mysourcefiles if \\\n",
    " max({pd.to_datetime(afile.split(\"_\")[1].split(\".csv\")[0].split(' ')[0]) \\\n",
    "      for afile in mysourcefiles}) == pd.to_datetime(latestFile.split(\"_\")\\\n",
    "                                                     [1].split(\".csv\")[0].split(' ')[0])]\n",
    "latest = latestTest[0] if len(latestTest)==1 else \"You must manually select a value for 'latest'.\"\n",
    "latest"
   ]
  },
  {
   "cell_type": "code",
<<<<<<< HEAD:python notebooks/Descriptive Analyses of CC Data (2000-2017)-Copy1.ipynb
   "execution_count": 13,
=======
   "execution_count": 17,
>>>>>>> dcf246b4afe37ef97be77537ce2cce1f5e03a67a:python notebooks/Descriptive Analyses of CC Data (2000-2017)-Overall.ipynb
   "metadata": {},
   "outputs": [
    {
     "data": {
      "text/plain": [
       "'0017'"
      ]
     },
<<<<<<< HEAD:python notebooks/Descriptive Analyses of CC Data (2000-2017)-Copy1.ipynb
     "execution_count": 13,
=======
     "execution_count": 17,
>>>>>>> dcf246b4afe37ef97be77537ce2cce1f5e03a67a:python notebooks/Descriptive Analyses of CC Data (2000-2017)-Overall.ipynb
     "metadata": {},
     "output_type": "execute_result"
    }
   ],
   "source": [
    "min({afile.split(' ')[-1].replace('hrs','').replace('min.csv','') for afile in mysourcefiles})"
   ]
  },
  {
<<<<<<< HEAD:python notebooks/Descriptive Analyses of CC Data (2000-2017)-Copy1.ipynb
=======
   "cell_type": "code",
   "execution_count": 18,
   "metadata": {},
   "outputs": [
    {
     "data": {
      "text/plain": [
       "'cleaned CC data 2000-2017_2019-05-04 00hrs33min.csv'"
      ]
     },
     "execution_count": 18,
     "metadata": {},
     "output_type": "execute_result"
    }
   ],
   "source": [
    "latest = mysourcefiles[-1]\n",
    "latest"
   ]
  },
  {
>>>>>>> dcf246b4afe37ef97be77537ce2cce1f5e03a67a:python notebooks/Descriptive Analyses of CC Data (2000-2017)-Overall.ipynb
   "cell_type": "markdown",
   "metadata": {},
   "source": [
    "The most recent file is the one we will use as _df_ in our descriptive analysis."
   ]
  },
  {
   "cell_type": "code",
<<<<<<< HEAD:python notebooks/Descriptive Analyses of CC Data (2000-2017)-Copy1.ipynb
   "execution_count": 14,
=======
   "execution_count": 19,
>>>>>>> dcf246b4afe37ef97be77537ce2cce1f5e03a67a:python notebooks/Descriptive Analyses of CC Data (2000-2017)-Overall.ipynb
   "metadata": {},
   "outputs": [
    {
     "data": {
      "text/html": [
       "<div>\n",
       "<style scoped>\n",
       "    .dataframe tbody tr th:only-of-type {\n",
       "        vertical-align: middle;\n",
       "    }\n",
       "\n",
       "    .dataframe tbody tr th {\n",
       "        vertical-align: top;\n",
       "    }\n",
       "\n",
       "    .dataframe thead th {\n",
       "        text-align: right;\n",
       "    }\n",
       "</style>\n",
       "<table border=\"1\" class=\"dataframe\">\n",
       "  <thead>\n",
       "    <tr style=\"text-align: right;\">\n",
       "      <th></th>\n",
       "      <th>species</th>\n",
       "      <th>toes_orig</th>\n",
       "      <th>sex</th>\n",
       "      <th>date</th>\n",
       "      <th>svl</th>\n",
       "      <th>tl</th>\n",
       "      <th>rtl</th>\n",
       "      <th>autotomized</th>\n",
       "      <th>mass</th>\n",
       "      <th>location</th>\n",
       "      <th>meters</th>\n",
       "      <th>newRecap</th>\n",
       "      <th>painted</th>\n",
       "      <th>sighting</th>\n",
       "      <th>paint.mark</th>\n",
       "      <th>vial</th>\n",
       "      <th>misc</th>\n",
       "      <th>rtl_orig</th>\n",
       "      <th>toes</th>\n",
       "      <th>toe_pattern</th>\n",
       "      <th>description</th>\n",
       "      <th>action</th>\n",
       "      <th>pattern_b</th>\n",
       "      <th>replacement</th>\n",
       "      <th>year</th>\n",
       "      <th>tl_svl</th>\n",
       "      <th>mass_svl</th>\n",
       "      <th>all_meters</th>\n",
       "      <th>initialCaptureDate</th>\n",
       "      <th>year_diff</th>\n",
       "      <th>smallest_svl</th>\n",
       "      <th>svl_diff</th>\n",
       "      <th>liznumber</th>\n",
       "      <th>sex_count</th>\n",
       "      <th>daysSinceCapture</th>\n",
       "      <th>capture</th>\n",
       "      <th>month</th>\n",
       "    </tr>\n",
       "  </thead>\n",
       "  <tbody>\n",
       "    <tr>\n",
       "      <th>0</th>\n",
       "      <td>j</td>\n",
       "      <td>3-7-11-19</td>\n",
       "      <td>m</td>\n",
       "      <td>2002-07-14</td>\n",
       "      <td>63.0</td>\n",
       "      <td>92.0</td>\n",
       "      <td>0.0</td>\n",
       "      <td>False</td>\n",
       "      <td>10.0</td>\n",
       "      <td>halfway up to site</td>\n",
       "      <td>-200</td>\n",
       "      <td>N</td>\n",
       "      <td>NaN</td>\n",
       "      <td>NaN</td>\n",
       "      <td>b101t</td>\n",
       "      <td>toes in vial 58-02</td>\n",
       "      <td>NaN</td>\n",
       "      <td>0.0</td>\n",
       "      <td>3-7-11-19</td>\n",
       "      <td>NaN</td>\n",
       "      <td>NaN</td>\n",
       "      <td>NaN</td>\n",
       "      <td>NaN</td>\n",
       "      <td>NaN</td>\n",
       "      <td>2002</td>\n",
       "      <td>1.460317</td>\n",
       "      <td>0.158730</td>\n",
       "      <td>['-200']</td>\n",
       "      <td>2002-07-14</td>\n",
       "      <td>0</td>\n",
       "      <td>63.0</td>\n",
       "      <td>0.0</td>\n",
       "      <td>375</td>\n",
       "      <td>1</td>\n",
       "      <td>0</td>\n",
       "      <td>1</td>\n",
       "      <td>Jul</td>\n",
       "    </tr>\n",
       "    <tr>\n",
       "      <th>1</th>\n",
       "      <td>j</td>\n",
       "      <td>3-7-11-18</td>\n",
       "      <td>m</td>\n",
       "      <td>2002-07-14</td>\n",
       "      <td>66.0</td>\n",
       "      <td>92.0</td>\n",
       "      <td>0.0</td>\n",
       "      <td>False</td>\n",
       "      <td>10.8</td>\n",
       "      <td>left downstream 100m v 1 falls</td>\n",
       "      <td>-100</td>\n",
       "      <td>N</td>\n",
       "      <td>NaN</td>\n",
       "      <td>NaN</td>\n",
       "      <td>b102t</td>\n",
       "      <td>toes in vial 59-02</td>\n",
       "      <td>NaN</td>\n",
       "      <td>0.0</td>\n",
       "      <td>3-7-11-18</td>\n",
       "      <td>NaN</td>\n",
       "      <td>NaN</td>\n",
       "      <td>NaN</td>\n",
       "      <td>NaN</td>\n",
       "      <td>NaN</td>\n",
       "      <td>2002</td>\n",
       "      <td>1.393939</td>\n",
       "      <td>0.163636</td>\n",
       "      <td>['-100' '87']</td>\n",
       "      <td>2002-07-14</td>\n",
       "      <td>0</td>\n",
       "      <td>66.0</td>\n",
       "      <td>0.0</td>\n",
       "      <td>374</td>\n",
       "      <td>1</td>\n",
       "      <td>0</td>\n",
       "      <td>1</td>\n",
       "      <td>Jul</td>\n",
       "    </tr>\n",
       "    <tr>\n",
       "      <th>2</th>\n",
       "      <td>j</td>\n",
       "      <td>3-7-12-16</td>\n",
       "      <td>m</td>\n",
       "      <td>2002-07-14</td>\n",
       "      <td>68.0</td>\n",
       "      <td>103.0</td>\n",
       "      <td>0.0</td>\n",
       "      <td>False</td>\n",
       "      <td>10.3</td>\n",
       "      <td>90m v 1 falls</td>\n",
       "      <td>-90</td>\n",
       "      <td>N</td>\n",
       "      <td>NaN</td>\n",
       "      <td>NaN</td>\n",
       "      <td>b103t</td>\n",
       "      <td>toes in vial 60-02</td>\n",
       "      <td>NaN</td>\n",
       "      <td>0.0</td>\n",
       "      <td>3-7-12-16</td>\n",
       "      <td>NaN</td>\n",
       "      <td>NaN</td>\n",
       "      <td>NaN</td>\n",
       "      <td>NaN</td>\n",
       "      <td>NaN</td>\n",
       "      <td>2002</td>\n",
       "      <td>1.514706</td>\n",
       "      <td>0.151471</td>\n",
       "      <td>['-90']</td>\n",
       "      <td>2002-07-14</td>\n",
       "      <td>0</td>\n",
       "      <td>68.0</td>\n",
       "      <td>0.0</td>\n",
       "      <td>376</td>\n",
       "      <td>1</td>\n",
       "      <td>0</td>\n",
       "      <td>1</td>\n",
       "      <td>Jul</td>\n",
       "    </tr>\n",
       "    <tr>\n",
       "      <th>3</th>\n",
       "      <td>j</td>\n",
       "      <td>10</td>\n",
       "      <td>m</td>\n",
       "      <td>2002-07-14</td>\n",
       "      <td>85.0</td>\n",
       "      <td>118.0</td>\n",
       "      <td>0.0</td>\n",
       "      <td>False</td>\n",
       "      <td>19.5</td>\n",
       "      <td>sb - trail intersection v 1 falls</td>\n",
       "      <td>-20</td>\n",
       "      <td>R</td>\n",
       "      <td>toe loss may be natural</td>\n",
       "      <td>NaN</td>\n",
       "      <td>b104t</td>\n",
       "      <td>NaN</td>\n",
       "      <td>NaN</td>\n",
       "      <td>0.0</td>\n",
       "      <td>10</td>\n",
       "      <td>NaN</td>\n",
       "      <td>NaN</td>\n",
       "      <td>NaN</td>\n",
       "      <td>NaN</td>\n",
       "      <td>NaN</td>\n",
       "      <td>2002</td>\n",
       "      <td>1.388235</td>\n",
       "      <td>0.229412</td>\n",
       "      <td>['-20' '-12' '-35']</td>\n",
       "      <td>2002-07-14</td>\n",
       "      <td>0</td>\n",
       "      <td>85.0</td>\n",
       "      <td>0.0</td>\n",
       "      <td>830</td>\n",
       "      <td>2</td>\n",
       "      <td>0</td>\n",
       "      <td>1</td>\n",
       "      <td>Jul</td>\n",
       "    </tr>\n",
       "    <tr>\n",
       "      <th>4</th>\n",
       "      <td>v</td>\n",
       "      <td>10-16</td>\n",
       "      <td>f</td>\n",
       "      <td>2002-07-03</td>\n",
       "      <td>63.0</td>\n",
       "      <td>49.0</td>\n",
       "      <td>21.0</td>\n",
       "      <td>True</td>\n",
       "      <td>11.6</td>\n",
       "      <td>left side @ base juniper 8 m ^ sb; 15m v 1 falls</td>\n",
       "      <td>-15</td>\n",
       "      <td>N</td>\n",
       "      <td>painted; gravid; &lt;5 mites in pockets</td>\n",
       "      <td>NaN</td>\n",
       "      <td>w1a</td>\n",
       "      <td>toes in vial 34-02 (10-16)</td>\n",
       "      <td>NaN</td>\n",
       "      <td>21.0</td>\n",
       "      <td>10-16</td>\n",
       "      <td>NaN</td>\n",
       "      <td>NaN</td>\n",
       "      <td>NaN</td>\n",
       "      <td>NaN</td>\n",
       "      <td>NaN</td>\n",
       "      <td>2002</td>\n",
       "      <td>0.777778</td>\n",
       "      <td>0.184127</td>\n",
       "      <td>['-15']</td>\n",
       "      <td>2002-07-03</td>\n",
       "      <td>0</td>\n",
       "      <td>63.0</td>\n",
       "      <td>0.0</td>\n",
       "      <td>1414</td>\n",
       "      <td>1</td>\n",
       "      <td>0</td>\n",
       "      <td>1</td>\n",
       "      <td>Jul</td>\n",
       "    </tr>\n",
       "  </tbody>\n",
       "</table>\n",
       "</div>"
      ],
      "text/plain": [
       "  species   toes_orig sex       date   svl     tl   rtl autotomized  mass  \\\n",
       "0       j   3-7-11-19   m 2002-07-14  63.0   92.0   0.0       False  10.0   \n",
       "1       j   3-7-11-18   m 2002-07-14  66.0   92.0   0.0       False  10.8   \n",
       "2       j   3-7-12-16   m 2002-07-14  68.0  103.0   0.0       False  10.3   \n",
       "3       j          10   m 2002-07-14  85.0  118.0   0.0       False  19.5   \n",
       "4       v       10-16   f 2002-07-03  63.0   49.0  21.0        True  11.6   \n",
       "\n",
       "                                           location meters newRecap  \\\n",
       "0                                halfway up to site   -200        N   \n",
       "1                    left downstream 100m v 1 falls   -100        N   \n",
       "2                                     90m v 1 falls    -90        N   \n",
       "3                 sb - trail intersection v 1 falls    -20        R   \n",
       "4  left side @ base juniper 8 m ^ sb; 15m v 1 falls    -15        N   \n",
       "\n",
       "                                painted  sighting paint.mark  \\\n",
       "0                                   NaN       NaN      b101t   \n",
       "1                                   NaN       NaN      b102t   \n",
       "2                                   NaN       NaN      b103t   \n",
       "3               toe loss may be natural       NaN      b104t   \n",
       "4  painted; gravid; <5 mites in pockets       NaN        w1a   \n",
       "\n",
       "                         vial misc  rtl_orig        toes  toe_pattern  \\\n",
       "0          toes in vial 58-02  NaN       0.0   3-7-11-19          NaN   \n",
       "1          toes in vial 59-02  NaN       0.0   3-7-11-18          NaN   \n",
       "2          toes in vial 60-02  NaN       0.0   3-7-12-16          NaN   \n",
       "3                         NaN  NaN       0.0          10          NaN   \n",
       "4  toes in vial 34-02 (10-16)  NaN      21.0       10-16          NaN   \n",
       "\n",
       "  description action pattern_b replacement  year    tl_svl  mass_svl  \\\n",
       "0         NaN    NaN       NaN         NaN  2002  1.460317  0.158730   \n",
       "1         NaN    NaN       NaN         NaN  2002  1.393939  0.163636   \n",
       "2         NaN    NaN       NaN         NaN  2002  1.514706  0.151471   \n",
       "3         NaN    NaN       NaN         NaN  2002  1.388235  0.229412   \n",
       "4         NaN    NaN       NaN         NaN  2002  0.777778  0.184127   \n",
       "\n",
       "            all_meters initialCaptureDate  year_diff  smallest_svl  svl_diff  \\\n",
       "0             ['-200']         2002-07-14          0          63.0       0.0   \n",
       "1        ['-100' '87']         2002-07-14          0          66.0       0.0   \n",
       "2              ['-90']         2002-07-14          0          68.0       0.0   \n",
       "3  ['-20' '-12' '-35']         2002-07-14          0          85.0       0.0   \n",
       "4              ['-15']         2002-07-03          0          63.0       0.0   \n",
       "\n",
       "   liznumber  sex_count  daysSinceCapture  capture month  \n",
       "0        375          1                 0        1   Jul  \n",
       "1        374          1                 0        1   Jul  \n",
       "2        376          1                 0        1   Jul  \n",
       "3        830          2                 0        1   Jul  \n",
       "4       1414          1                 0        1   Jul  "
      ]
     },
<<<<<<< HEAD:python notebooks/Descriptive Analyses of CC Data (2000-2017)-Copy1.ipynb
     "execution_count": 14,
=======
     "execution_count": 19,
>>>>>>> dcf246b4afe37ef97be77537ce2cce1f5e03a67a:python notebooks/Descriptive Analyses of CC Data (2000-2017)-Overall.ipynb
     "metadata": {},
     "output_type": "execute_result"
    }
   ],
   "source": [
    "df=pd.read_csv(latest)\n",
    "df.date=pd.to_datetime(df.date)\n",
    "df['month']=df.date.dt.month.apply(monthlit)\n",
    "df.head()"
   ]
  },
  {
   "cell_type": "code",
   "execution_count": 21,
   "metadata": {},
   "outputs": [
    {
     "name": "stdout",
     "output_type": "stream",
     "text": [
      "There are 5 individuals (4 Sj; 1 Sv; 0 other species) captured for the first time in Oct or Dec. These are excluded for further analyses.\n"
     ]
    }
   ],
   "source": [
    "monthsExcluded = ['Oct','Dec']\n",
    "idx_exclusion = (df.month.isin(monthsExcluded))&(df.capture==1)\n",
    "print(\"There are {} individuals ({} Sj; {} Sv; {} other species) captured for the first time in {}. \\\n",
    "These are excluded for further analyses.\".format(df.loc[idx_exclusion].liznumber.nunique(),\n",
    "        df.loc[(idx_exclusion)&(df.species=='j')].liznumber.nunique(),\n",
    "        df.loc[(idx_exclusion)&(df.species=='v')].liznumber.nunique(),\n",
    "        df.loc[(idx_exclusion)&(df.species=='other')].liznumber.nunique(),\n",
    "        vocab_run(monthsExcluded,{1: None, 2: ' or ', 'run': ', '}))\n",
    "       )"
   ]
  },
  {
   "cell_type": "markdown",
   "metadata": {},
   "source": [
    "## Reducing the analyses sample by date range and capture"
   ]
  },
  {
   "cell_type": "code",
<<<<<<< HEAD:python notebooks/Descriptive Analyses of CC Data (2000-2017)-Copy1.ipynb
   "execution_count": 15,
=======
   "execution_count": 22,
>>>>>>> dcf246b4afe37ef97be77537ce2cce1f5e03a67a:python notebooks/Descriptive Analyses of CC Data (2000-2017)-Overall.ipynb
   "metadata": {},
   "outputs": [],
   "source": [
    "# convert date to pandas datetime\n",
    "#df.date=pd.to_datetime(df.date)\n",
    "# limiting months to between May and August\n",
    "# df = df.loc[(df.date.dt.month>=5) & (df.date.dt.month<=8)]\n",
    "# limit to first captures\n",
    "df_lastInYear = df.loc[~df.duplicated(subset=['liznumber','year'],keep='last')]\n",
    "df_firstInYear = df.loc[~df.duplicated(subset=['liznumber','year'])]"
   ]
  },
  {
   "cell_type": "code",
   "execution_count": 23,
   "metadata": {},
   "outputs": [
    {
     "data": {
      "text/plain": [
       "j        1493\n",
       "v         716\n",
       "other     215\n",
       "sj?         1\n",
       "Name: species, dtype: int64"
      ]
     },
     "execution_count": 23,
     "metadata": {},
     "output_type": "execute_result"
    }
   ],
   "source": [
    "df_firstInYear.species.value_counts(dropna=False)"
   ]
  },
  {
   "cell_type": "markdown",
   "metadata": {},
   "source": [
    "These values should only be _'j', 'v', and 'other'_ any other values will be removed in the cleaning notebook and excluded from further analyses here."
   ]
  },
  {
   "cell_type": "code",
   "execution_count": 24,
   "metadata": {},
   "outputs": [
    {
     "data": {
      "text/plain": [
       "j        1493\n",
       "v         716\n",
       "other     215\n",
       "Name: species, dtype: int64"
      ]
     },
     "execution_count": 24,
     "metadata": {},
     "output_type": "execute_result"
    }
   ],
   "source": [
    "df_firstInYear = df_firstInYear.loc[df_firstInYear.species.isin(['j','v','other'])]\n",
    "df_firstInYear.species.value_counts(dropna=False)"
   ]
  },
  {
   "cell_type": "markdown",
   "metadata": {},
   "source": [
    "## Analyze Data\n",
    "[Top](#Table-of-Contents)\n",
    "\n",
    "We will first examine the range and distribution of number of variables in our data set:\n",
    "- [Population Size](#Population-Size)\n",
    "- [Species Distribution](#Species-Distribution)\n",
    "- [Sex Distribution](#Sex-Distribution)\n",
    "- [Tail Condition Distribution](#Tail-Condition-Distribution)\n",
    "- [Location](#Location)\n",
    "- [Morphometrics](#Morphometrics):\n",
    "    - [SVL](#SVL)\n",
    "    - [TL](#TL)\n",
    "    - [RTL](#RTL)\n",
    "    - [Mass](#Mass)\n",
    "- [Captures](#Captures)\n",
    "- [(REMOVE) Growth](#Growth)\n",
    "    - [SVL Growth](#SVL-Growth)\n",
    "    - [TL Growth](#TL-Growth)\n",
    "    - [RTL Growth](#RTL-Growth)\n",
    "    - [Mass Growth](#Mass-Growth)\n",
    "    \n",
    "We will use first captures of each lizard in a year for these analyses with the exception of the growth analyses."
   ]
  },
  {
   "cell_type": "markdown",
   "metadata": {},
   "source": [
    "## Population Size\n",
    "\n",
    "We will begin by examining the range and distribution of _species_ values.\n",
    "\n",
    "[Back to Top](#Table-of-Contents)\n",
    "\n",
    "[Back to Analyze Data](#Analyze-Data)"
   ]
  },
  {
   "cell_type": "code",
<<<<<<< HEAD:python notebooks/Descriptive Analyses of CC Data (2000-2017)-Copy1.ipynb
   "execution_count": 16,
   "metadata": {},
=======
   "execution_count": 25,
   "metadata": {
    "scrolled": true
   },
>>>>>>> dcf246b4afe37ef97be77537ce2cce1f5e03a67a:python notebooks/Descriptive Analyses of CC Data (2000-2017)-Overall.ipynb
   "outputs": [
    {
     "data": {
      "text/html": [
       "<div>\n",
       "<style scoped>\n",
       "    .dataframe tbody tr th:only-of-type {\n",
       "        vertical-align: middle;\n",
       "    }\n",
       "\n",
       "    .dataframe tbody tr th {\n",
       "        vertical-align: top;\n",
       "    }\n",
       "\n",
       "    .dataframe thead th {\n",
       "        text-align: right;\n",
       "    }\n",
       "</style>\n",
       "<table border=\"1\" class=\"dataframe\">\n",
       "  <thead>\n",
       "    <tr style=\"text-align: right;\">\n",
       "      <th></th>\n",
       "      <th>year</th>\n",
       "      <th>species</th>\n",
       "      <th>liznumber</th>\n",
       "    </tr>\n",
       "  </thead>\n",
       "  <tbody>\n",
       "    <tr>\n",
       "      <th>0</th>\n",
       "      <td>2000</td>\n",
       "      <td>j</td>\n",
       "      <td>155</td>\n",
       "    </tr>\n",
       "    <tr>\n",
       "      <th>1</th>\n",
       "      <td>2001</td>\n",
       "      <td>j</td>\n",
       "      <td>137</td>\n",
       "    </tr>\n",
       "    <tr>\n",
       "      <th>2</th>\n",
       "      <td>2001</td>\n",
       "      <td>other</td>\n",
       "      <td>1</td>\n",
       "    </tr>\n",
       "    <tr>\n",
       "      <th>3</th>\n",
       "      <td>2002</td>\n",
       "      <td>j</td>\n",
       "      <td>121</td>\n",
       "    </tr>\n",
       "    <tr>\n",
       "      <th>4</th>\n",
       "      <td>2002</td>\n",
       "      <td>other</td>\n",
       "      <td>20</td>\n",
       "    </tr>\n",
       "    <tr>\n",
       "      <th>5</th>\n",
       "      <td>2002</td>\n",
       "      <td>v</td>\n",
       "      <td>80</td>\n",
       "    </tr>\n",
       "    <tr>\n",
       "      <th>6</th>\n",
       "      <td>2003</td>\n",
       "      <td>j</td>\n",
       "      <td>103</td>\n",
       "    </tr>\n",
       "    <tr>\n",
       "      <th>7</th>\n",
       "      <td>2003</td>\n",
       "      <td>other</td>\n",
       "      <td>25</td>\n",
       "    </tr>\n",
       "    <tr>\n",
       "      <th>8</th>\n",
       "      <td>2003</td>\n",
       "      <td>v</td>\n",
       "      <td>74</td>\n",
       "    </tr>\n",
       "    <tr>\n",
       "      <th>9</th>\n",
       "      <td>2004</td>\n",
       "      <td>j</td>\n",
       "      <td>73</td>\n",
       "    </tr>\n",
       "    <tr>\n",
       "      <th>10</th>\n",
       "      <td>2004</td>\n",
       "      <td>other</td>\n",
       "      <td>19</td>\n",
       "    </tr>\n",
       "    <tr>\n",
       "      <th>11</th>\n",
       "      <td>2004</td>\n",
       "      <td>v</td>\n",
       "      <td>61</td>\n",
       "    </tr>\n",
       "    <tr>\n",
       "      <th>12</th>\n",
       "      <td>2005</td>\n",
       "      <td>j</td>\n",
       "      <td>80</td>\n",
       "    </tr>\n",
       "    <tr>\n",
       "      <th>13</th>\n",
       "      <td>2005</td>\n",
       "      <td>other</td>\n",
       "      <td>21</td>\n",
       "    </tr>\n",
       "    <tr>\n",
       "      <th>14</th>\n",
       "      <td>2005</td>\n",
<<<<<<< HEAD:python notebooks/Descriptive Analyses of CC Data (2000-2017)-Copy1.ipynb
       "      <td>sj?</td>\n",
       "      <td>1</td>\n",
       "    </tr>\n",
       "    <tr>\n",
       "      <th>15</th>\n",
       "      <td>2005</td>\n",
=======
>>>>>>> dcf246b4afe37ef97be77537ce2cce1f5e03a67a:python notebooks/Descriptive Analyses of CC Data (2000-2017)-Overall.ipynb
       "      <td>v</td>\n",
       "      <td>59</td>\n",
       "    </tr>\n",
       "    <tr>\n",
<<<<<<< HEAD:python notebooks/Descriptive Analyses of CC Data (2000-2017)-Copy1.ipynb
       "      <th>16</th>\n",
=======
       "      <th>15</th>\n",
>>>>>>> dcf246b4afe37ef97be77537ce2cce1f5e03a67a:python notebooks/Descriptive Analyses of CC Data (2000-2017)-Overall.ipynb
       "      <td>2006</td>\n",
       "      <td>j</td>\n",
       "      <td>66</td>\n",
       "    </tr>\n",
       "    <tr>\n",
<<<<<<< HEAD:python notebooks/Descriptive Analyses of CC Data (2000-2017)-Copy1.ipynb
       "      <th>17</th>\n",
=======
       "      <th>16</th>\n",
>>>>>>> dcf246b4afe37ef97be77537ce2cce1f5e03a67a:python notebooks/Descriptive Analyses of CC Data (2000-2017)-Overall.ipynb
       "      <td>2006</td>\n",
       "      <td>other</td>\n",
       "      <td>24</td>\n",
       "    </tr>\n",
       "    <tr>\n",
<<<<<<< HEAD:python notebooks/Descriptive Analyses of CC Data (2000-2017)-Copy1.ipynb
       "      <th>18</th>\n",
=======
       "      <th>17</th>\n",
>>>>>>> dcf246b4afe37ef97be77537ce2cce1f5e03a67a:python notebooks/Descriptive Analyses of CC Data (2000-2017)-Overall.ipynb
       "      <td>2006</td>\n",
       "      <td>v</td>\n",
       "      <td>60</td>\n",
       "    </tr>\n",
       "    <tr>\n",
<<<<<<< HEAD:python notebooks/Descriptive Analyses of CC Data (2000-2017)-Copy1.ipynb
       "      <th>19</th>\n",
=======
       "      <th>18</th>\n",
>>>>>>> dcf246b4afe37ef97be77537ce2cce1f5e03a67a:python notebooks/Descriptive Analyses of CC Data (2000-2017)-Overall.ipynb
       "      <td>2007</td>\n",
       "      <td>j</td>\n",
       "      <td>96</td>\n",
       "    </tr>\n",
       "    <tr>\n",
<<<<<<< HEAD:python notebooks/Descriptive Analyses of CC Data (2000-2017)-Copy1.ipynb
       "      <th>20</th>\n",
=======
       "      <th>19</th>\n",
>>>>>>> dcf246b4afe37ef97be77537ce2cce1f5e03a67a:python notebooks/Descriptive Analyses of CC Data (2000-2017)-Overall.ipynb
       "      <td>2007</td>\n",
       "      <td>other</td>\n",
       "      <td>12</td>\n",
       "    </tr>\n",
       "    <tr>\n",
<<<<<<< HEAD:python notebooks/Descriptive Analyses of CC Data (2000-2017)-Copy1.ipynb
       "      <th>21</th>\n",
=======
       "      <th>20</th>\n",
>>>>>>> dcf246b4afe37ef97be77537ce2cce1f5e03a67a:python notebooks/Descriptive Analyses of CC Data (2000-2017)-Overall.ipynb
       "      <td>2007</td>\n",
       "      <td>v</td>\n",
       "      <td>43</td>\n",
       "    </tr>\n",
       "    <tr>\n",
<<<<<<< HEAD:python notebooks/Descriptive Analyses of CC Data (2000-2017)-Copy1.ipynb
       "      <th>22</th>\n",
=======
       "      <th>21</th>\n",
>>>>>>> dcf246b4afe37ef97be77537ce2cce1f5e03a67a:python notebooks/Descriptive Analyses of CC Data (2000-2017)-Overall.ipynb
       "      <td>2008</td>\n",
       "      <td>j</td>\n",
       "      <td>89</td>\n",
       "    </tr>\n",
       "    <tr>\n",
<<<<<<< HEAD:python notebooks/Descriptive Analyses of CC Data (2000-2017)-Copy1.ipynb
       "      <th>23</th>\n",
=======
       "      <th>22</th>\n",
>>>>>>> dcf246b4afe37ef97be77537ce2cce1f5e03a67a:python notebooks/Descriptive Analyses of CC Data (2000-2017)-Overall.ipynb
       "      <td>2008</td>\n",
       "      <td>other</td>\n",
       "      <td>6</td>\n",
       "    </tr>\n",
       "    <tr>\n",
<<<<<<< HEAD:python notebooks/Descriptive Analyses of CC Data (2000-2017)-Copy1.ipynb
       "      <th>24</th>\n",
=======
       "      <th>23</th>\n",
>>>>>>> dcf246b4afe37ef97be77537ce2cce1f5e03a67a:python notebooks/Descriptive Analyses of CC Data (2000-2017)-Overall.ipynb
       "      <td>2008</td>\n",
       "      <td>v</td>\n",
       "      <td>31</td>\n",
       "    </tr>\n",
       "    <tr>\n",
<<<<<<< HEAD:python notebooks/Descriptive Analyses of CC Data (2000-2017)-Copy1.ipynb
       "      <th>25</th>\n",
=======
       "      <th>24</th>\n",
>>>>>>> dcf246b4afe37ef97be77537ce2cce1f5e03a67a:python notebooks/Descriptive Analyses of CC Data (2000-2017)-Overall.ipynb
       "      <td>2009</td>\n",
       "      <td>j</td>\n",
       "      <td>105</td>\n",
       "    </tr>\n",
       "    <tr>\n",
<<<<<<< HEAD:python notebooks/Descriptive Analyses of CC Data (2000-2017)-Copy1.ipynb
       "      <th>26</th>\n",
=======
       "      <th>25</th>\n",
>>>>>>> dcf246b4afe37ef97be77537ce2cce1f5e03a67a:python notebooks/Descriptive Analyses of CC Data (2000-2017)-Overall.ipynb
       "      <td>2009</td>\n",
       "      <td>other</td>\n",
       "      <td>5</td>\n",
       "    </tr>\n",
       "    <tr>\n",
<<<<<<< HEAD:python notebooks/Descriptive Analyses of CC Data (2000-2017)-Copy1.ipynb
       "      <th>27</th>\n",
=======
       "      <th>26</th>\n",
>>>>>>> dcf246b4afe37ef97be77537ce2cce1f5e03a67a:python notebooks/Descriptive Analyses of CC Data (2000-2017)-Overall.ipynb
       "      <td>2009</td>\n",
       "      <td>v</td>\n",
       "      <td>45</td>\n",
       "    </tr>\n",
       "    <tr>\n",
<<<<<<< HEAD:python notebooks/Descriptive Analyses of CC Data (2000-2017)-Copy1.ipynb
       "      <th>28</th>\n",
=======
       "      <th>27</th>\n",
>>>>>>> dcf246b4afe37ef97be77537ce2cce1f5e03a67a:python notebooks/Descriptive Analyses of CC Data (2000-2017)-Overall.ipynb
       "      <td>2010</td>\n",
       "      <td>j</td>\n",
       "      <td>54</td>\n",
       "    </tr>\n",
       "    <tr>\n",
<<<<<<< HEAD:python notebooks/Descriptive Analyses of CC Data (2000-2017)-Copy1.ipynb
       "      <th>29</th>\n",
=======
       "      <th>28</th>\n",
>>>>>>> dcf246b4afe37ef97be77537ce2cce1f5e03a67a:python notebooks/Descriptive Analyses of CC Data (2000-2017)-Overall.ipynb
       "      <td>2010</td>\n",
       "      <td>other</td>\n",
       "      <td>3</td>\n",
       "    </tr>\n",
       "    <tr>\n",
<<<<<<< HEAD:python notebooks/Descriptive Analyses of CC Data (2000-2017)-Copy1.ipynb
       "      <th>30</th>\n",
=======
       "      <th>29</th>\n",
>>>>>>> dcf246b4afe37ef97be77537ce2cce1f5e03a67a:python notebooks/Descriptive Analyses of CC Data (2000-2017)-Overall.ipynb
       "      <td>2010</td>\n",
       "      <td>v</td>\n",
       "      <td>26</td>\n",
       "    </tr>\n",
       "    <tr>\n",
<<<<<<< HEAD:python notebooks/Descriptive Analyses of CC Data (2000-2017)-Copy1.ipynb
       "      <th>31</th>\n",
=======
       "      <th>30</th>\n",
>>>>>>> dcf246b4afe37ef97be77537ce2cce1f5e03a67a:python notebooks/Descriptive Analyses of CC Data (2000-2017)-Overall.ipynb
       "      <td>2011</td>\n",
       "      <td>j</td>\n",
       "      <td>46</td>\n",
       "    </tr>\n",
       "    <tr>\n",
<<<<<<< HEAD:python notebooks/Descriptive Analyses of CC Data (2000-2017)-Copy1.ipynb
       "      <th>32</th>\n",
=======
       "      <th>31</th>\n",
>>>>>>> dcf246b4afe37ef97be77537ce2cce1f5e03a67a:python notebooks/Descriptive Analyses of CC Data (2000-2017)-Overall.ipynb
       "      <td>2011</td>\n",
       "      <td>other</td>\n",
       "      <td>4</td>\n",
       "    </tr>\n",
       "    <tr>\n",
<<<<<<< HEAD:python notebooks/Descriptive Analyses of CC Data (2000-2017)-Copy1.ipynb
       "      <th>33</th>\n",
=======
       "      <th>32</th>\n",
>>>>>>> dcf246b4afe37ef97be77537ce2cce1f5e03a67a:python notebooks/Descriptive Analyses of CC Data (2000-2017)-Overall.ipynb
       "      <td>2011</td>\n",
       "      <td>v</td>\n",
       "      <td>15</td>\n",
       "    </tr>\n",
       "    <tr>\n",
<<<<<<< HEAD:python notebooks/Descriptive Analyses of CC Data (2000-2017)-Copy1.ipynb
       "      <th>34</th>\n",
=======
       "      <th>33</th>\n",
>>>>>>> dcf246b4afe37ef97be77537ce2cce1f5e03a67a:python notebooks/Descriptive Analyses of CC Data (2000-2017)-Overall.ipynb
       "      <td>2012</td>\n",
       "      <td>j</td>\n",
       "      <td>51</td>\n",
       "    </tr>\n",
       "    <tr>\n",
<<<<<<< HEAD:python notebooks/Descriptive Analyses of CC Data (2000-2017)-Copy1.ipynb
       "      <th>35</th>\n",
=======
       "      <th>34</th>\n",
>>>>>>> dcf246b4afe37ef97be77537ce2cce1f5e03a67a:python notebooks/Descriptive Analyses of CC Data (2000-2017)-Overall.ipynb
       "      <td>2012</td>\n",
       "      <td>other</td>\n",
       "      <td>9</td>\n",
       "    </tr>\n",
       "    <tr>\n",
<<<<<<< HEAD:python notebooks/Descriptive Analyses of CC Data (2000-2017)-Copy1.ipynb
       "      <th>36</th>\n",
=======
       "      <th>35</th>\n",
>>>>>>> dcf246b4afe37ef97be77537ce2cce1f5e03a67a:python notebooks/Descriptive Analyses of CC Data (2000-2017)-Overall.ipynb
       "      <td>2012</td>\n",
       "      <td>v</td>\n",
       "      <td>23</td>\n",
       "    </tr>\n",
       "    <tr>\n",
<<<<<<< HEAD:python notebooks/Descriptive Analyses of CC Data (2000-2017)-Copy1.ipynb
       "      <th>37</th>\n",
=======
       "      <th>36</th>\n",
>>>>>>> dcf246b4afe37ef97be77537ce2cce1f5e03a67a:python notebooks/Descriptive Analyses of CC Data (2000-2017)-Overall.ipynb
       "      <td>2013</td>\n",
       "      <td>j</td>\n",
       "      <td>55</td>\n",
       "    </tr>\n",
       "    <tr>\n",
<<<<<<< HEAD:python notebooks/Descriptive Analyses of CC Data (2000-2017)-Copy1.ipynb
       "      <th>38</th>\n",
=======
       "      <th>37</th>\n",
>>>>>>> dcf246b4afe37ef97be77537ce2cce1f5e03a67a:python notebooks/Descriptive Analyses of CC Data (2000-2017)-Overall.ipynb
       "      <td>2013</td>\n",
       "      <td>other</td>\n",
       "      <td>11</td>\n",
       "    </tr>\n",
       "    <tr>\n",
<<<<<<< HEAD:python notebooks/Descriptive Analyses of CC Data (2000-2017)-Copy1.ipynb
       "      <th>39</th>\n",
=======
       "      <th>38</th>\n",
>>>>>>> dcf246b4afe37ef97be77537ce2cce1f5e03a67a:python notebooks/Descriptive Analyses of CC Data (2000-2017)-Overall.ipynb
       "      <td>2013</td>\n",
       "      <td>v</td>\n",
       "      <td>31</td>\n",
       "    </tr>\n",
       "    <tr>\n",
<<<<<<< HEAD:python notebooks/Descriptive Analyses of CC Data (2000-2017)-Copy1.ipynb
       "      <th>40</th>\n",
=======
       "      <th>39</th>\n",
>>>>>>> dcf246b4afe37ef97be77537ce2cce1f5e03a67a:python notebooks/Descriptive Analyses of CC Data (2000-2017)-Overall.ipynb
       "      <td>2014</td>\n",
       "      <td>j</td>\n",
       "      <td>44</td>\n",
       "    </tr>\n",
       "    <tr>\n",
<<<<<<< HEAD:python notebooks/Descriptive Analyses of CC Data (2000-2017)-Copy1.ipynb
       "      <th>41</th>\n",
=======
       "      <th>40</th>\n",
>>>>>>> dcf246b4afe37ef97be77537ce2cce1f5e03a67a:python notebooks/Descriptive Analyses of CC Data (2000-2017)-Overall.ipynb
       "      <td>2014</td>\n",
       "      <td>other</td>\n",
       "      <td>11</td>\n",
       "    </tr>\n",
       "    <tr>\n",
<<<<<<< HEAD:python notebooks/Descriptive Analyses of CC Data (2000-2017)-Copy1.ipynb
       "      <th>42</th>\n",
=======
       "      <th>41</th>\n",
>>>>>>> dcf246b4afe37ef97be77537ce2cce1f5e03a67a:python notebooks/Descriptive Analyses of CC Data (2000-2017)-Overall.ipynb
       "      <td>2014</td>\n",
       "      <td>v</td>\n",
       "      <td>53</td>\n",
       "    </tr>\n",
       "    <tr>\n",
<<<<<<< HEAD:python notebooks/Descriptive Analyses of CC Data (2000-2017)-Copy1.ipynb
       "      <th>43</th>\n",
=======
       "      <th>42</th>\n",
>>>>>>> dcf246b4afe37ef97be77537ce2cce1f5e03a67a:python notebooks/Descriptive Analyses of CC Data (2000-2017)-Overall.ipynb
       "      <td>2015</td>\n",
       "      <td>j</td>\n",
       "      <td>82</td>\n",
       "    </tr>\n",
       "    <tr>\n",
<<<<<<< HEAD:python notebooks/Descriptive Analyses of CC Data (2000-2017)-Copy1.ipynb
       "      <th>44</th>\n",
=======
       "      <th>43</th>\n",
>>>>>>> dcf246b4afe37ef97be77537ce2cce1f5e03a67a:python notebooks/Descriptive Analyses of CC Data (2000-2017)-Overall.ipynb
       "      <td>2015</td>\n",
       "      <td>other</td>\n",
       "      <td>31</td>\n",
       "    </tr>\n",
       "    <tr>\n",
<<<<<<< HEAD:python notebooks/Descriptive Analyses of CC Data (2000-2017)-Copy1.ipynb
       "      <th>45</th>\n",
=======
       "      <th>44</th>\n",
>>>>>>> dcf246b4afe37ef97be77537ce2cce1f5e03a67a:python notebooks/Descriptive Analyses of CC Data (2000-2017)-Overall.ipynb
       "      <td>2015</td>\n",
       "      <td>v</td>\n",
       "      <td>49</td>\n",
       "    </tr>\n",
       "    <tr>\n",
<<<<<<< HEAD:python notebooks/Descriptive Analyses of CC Data (2000-2017)-Copy1.ipynb
       "      <th>46</th>\n",
=======
       "      <th>45</th>\n",
>>>>>>> dcf246b4afe37ef97be77537ce2cce1f5e03a67a:python notebooks/Descriptive Analyses of CC Data (2000-2017)-Overall.ipynb
       "      <td>2016</td>\n",
       "      <td>j</td>\n",
       "      <td>61</td>\n",
       "    </tr>\n",
       "    <tr>\n",
<<<<<<< HEAD:python notebooks/Descriptive Analyses of CC Data (2000-2017)-Copy1.ipynb
       "      <th>47</th>\n",
=======
       "      <th>46</th>\n",
>>>>>>> dcf246b4afe37ef97be77537ce2cce1f5e03a67a:python notebooks/Descriptive Analyses of CC Data (2000-2017)-Overall.ipynb
       "      <td>2016</td>\n",
       "      <td>other</td>\n",
       "      <td>11</td>\n",
       "    </tr>\n",
       "    <tr>\n",
<<<<<<< HEAD:python notebooks/Descriptive Analyses of CC Data (2000-2017)-Copy1.ipynb
       "      <th>48</th>\n",
=======
       "      <th>47</th>\n",
>>>>>>> dcf246b4afe37ef97be77537ce2cce1f5e03a67a:python notebooks/Descriptive Analyses of CC Data (2000-2017)-Overall.ipynb
       "      <td>2016</td>\n",
       "      <td>v</td>\n",
       "      <td>36</td>\n",
       "    </tr>\n",
       "    <tr>\n",
<<<<<<< HEAD:python notebooks/Descriptive Analyses of CC Data (2000-2017)-Copy1.ipynb
       "      <th>49</th>\n",
=======
       "      <th>48</th>\n",
>>>>>>> dcf246b4afe37ef97be77537ce2cce1f5e03a67a:python notebooks/Descriptive Analyses of CC Data (2000-2017)-Overall.ipynb
       "      <td>2017</td>\n",
       "      <td>j</td>\n",
       "      <td>75</td>\n",
       "    </tr>\n",
       "    <tr>\n",
<<<<<<< HEAD:python notebooks/Descriptive Analyses of CC Data (2000-2017)-Copy1.ipynb
       "      <th>50</th>\n",
=======
       "      <th>49</th>\n",
>>>>>>> dcf246b4afe37ef97be77537ce2cce1f5e03a67a:python notebooks/Descriptive Analyses of CC Data (2000-2017)-Overall.ipynb
       "      <td>2017</td>\n",
       "      <td>other</td>\n",
       "      <td>2</td>\n",
       "    </tr>\n",
       "    <tr>\n",
<<<<<<< HEAD:python notebooks/Descriptive Analyses of CC Data (2000-2017)-Copy1.ipynb
       "      <th>51</th>\n",
=======
       "      <th>50</th>\n",
>>>>>>> dcf246b4afe37ef97be77537ce2cce1f5e03a67a:python notebooks/Descriptive Analyses of CC Data (2000-2017)-Overall.ipynb
       "      <td>2017</td>\n",
       "      <td>v</td>\n",
       "      <td>30</td>\n",
       "    </tr>\n",
       "  </tbody>\n",
       "</table>\n",
       "</div>"
      ],
      "text/plain": [
       "    year species  liznumber\n",
       "0   2000       j        155\n",
       "1   2001       j        137\n",
       "2   2001   other          1\n",
       "3   2002       j        121\n",
       "4   2002   other         20\n",
       "5   2002       v         80\n",
       "6   2003       j        103\n",
       "7   2003   other         25\n",
       "8   2003       v         74\n",
       "9   2004       j         73\n",
       "10  2004   other         19\n",
       "11  2004       v         61\n",
       "12  2005       j         80\n",
       "13  2005   other         21\n",
<<<<<<< HEAD:python notebooks/Descriptive Analyses of CC Data (2000-2017)-Copy1.ipynb
       "14  2005     sj?          1\n",
       "15  2005       v         59\n",
       "16  2006       j         66\n",
       "17  2006   other         24\n",
       "18  2006       v         60\n",
       "19  2007       j         96\n",
       "20  2007   other         12\n",
       "21  2007       v         43\n",
       "22  2008       j         89\n",
       "23  2008   other          6\n",
       "24  2008       v         31\n",
       "25  2009       j        105\n",
       "26  2009   other          5\n",
       "27  2009       v         45\n",
       "28  2010       j         54\n",
       "29  2010   other          3\n",
       "30  2010       v         26\n",
       "31  2011       j         46\n",
       "32  2011   other          4\n",
       "33  2011       v         15\n",
       "34  2012       j         51\n",
       "35  2012   other          9\n",
       "36  2012       v         23\n",
       "37  2013       j         55\n",
       "38  2013   other         11\n",
       "39  2013       v         31\n",
       "40  2014       j         44\n",
       "41  2014   other         11\n",
       "42  2014       v         53\n",
       "43  2015       j         82\n",
       "44  2015   other         31\n",
       "45  2015       v         49\n",
       "46  2016       j         61\n",
       "47  2016   other         11\n",
       "48  2016       v         36\n",
       "49  2017       j         75\n",
       "50  2017   other          2\n",
       "51  2017       v         30"
      ]
     },
     "execution_count": 16,
=======
       "14  2005       v         59\n",
       "15  2006       j         66\n",
       "16  2006   other         24\n",
       "17  2006       v         60\n",
       "18  2007       j         96\n",
       "19  2007   other         12\n",
       "20  2007       v         43\n",
       "21  2008       j         89\n",
       "22  2008   other          6\n",
       "23  2008       v         31\n",
       "24  2009       j        105\n",
       "25  2009   other          5\n",
       "26  2009       v         45\n",
       "27  2010       j         54\n",
       "28  2010   other          3\n",
       "29  2010       v         26\n",
       "30  2011       j         46\n",
       "31  2011   other          4\n",
       "32  2011       v         15\n",
       "33  2012       j         51\n",
       "34  2012   other          9\n",
       "35  2012       v         23\n",
       "36  2013       j         55\n",
       "37  2013   other         11\n",
       "38  2013       v         31\n",
       "39  2014       j         44\n",
       "40  2014   other         11\n",
       "41  2014       v         53\n",
       "42  2015       j         82\n",
       "43  2015   other         31\n",
       "44  2015       v         49\n",
       "45  2016       j         61\n",
       "46  2016   other         11\n",
       "47  2016       v         36\n",
       "48  2017       j         75\n",
       "49  2017   other          2\n",
       "50  2017       v         30"
      ]
     },
     "execution_count": 25,
>>>>>>> dcf246b4afe37ef97be77537ce2cce1f5e03a67a:python notebooks/Descriptive Analyses of CC Data (2000-2017)-Overall.ipynb
     "metadata": {},
     "output_type": "execute_result"
    }
   ],
   "source": [
    "populationSize = df_firstInYear.groupby(['year','species']).liznumber.nunique().reset_index()\n",
    "populationSize"
   ]
  },
  {
   "cell_type": "code",
<<<<<<< HEAD:python notebooks/Descriptive Analyses of CC Data (2000-2017)-Copy1.ipynb
   "execution_count": 17,
   "metadata": {},
=======
   "execution_count": 26,
   "metadata": {
    "scrolled": true
   },
>>>>>>> dcf246b4afe37ef97be77537ce2cce1f5e03a67a:python notebooks/Descriptive Analyses of CC Data (2000-2017)-Overall.ipynb
   "outputs": [
    {
     "data": {
      "application/vnd.plotly.v1+json": {
       "data": [
        {
         "name": "S. jarrovii",
         "type": "scatter",
<<<<<<< HEAD:python notebooks/Descriptive Analyses of CC Data (2000-2017)-Copy1.ipynb
         "uid": "cdd0b85a-a024-11e9-83f4-90324b8dd25e",
=======
         "uid": "08a11a54-47b6-4e24-9186-8b5607416969",
>>>>>>> dcf246b4afe37ef97be77537ce2cce1f5e03a67a:python notebooks/Descriptive Analyses of CC Data (2000-2017)-Overall.ipynb
         "x": [
          2000,
          2001,
          2002,
          2003,
          2004,
          2005,
          2006,
          2007,
          2008,
          2009,
          2010,
          2011,
          2012,
          2013,
          2014,
          2015,
          2016,
          2017
         ],
         "y": [
          155,
          137,
          121,
          103,
          73,
          80,
          66,
          96,
          89,
          105,
          54,
          46,
          51,
          55,
          44,
          82,
          61,
          75
         ]
        },
        {
         "name": "S. virgatus",
         "type": "scatter",
<<<<<<< HEAD:python notebooks/Descriptive Analyses of CC Data (2000-2017)-Copy1.ipynb
         "uid": "cdd0b85b-a024-11e9-b251-90324b8dd25e",
=======
         "uid": "a85e891f-e7a3-49fc-ae06-d22cb99c34a2",
>>>>>>> dcf246b4afe37ef97be77537ce2cce1f5e03a67a:python notebooks/Descriptive Analyses of CC Data (2000-2017)-Overall.ipynb
         "x": [
          2002,
          2003,
          2004,
          2005,
          2006,
          2007,
          2008,
          2009,
          2010,
          2011,
          2012,
          2013,
          2014,
          2015,
          2016,
          2017
         ],
         "y": [
          80,
          74,
          61,
          59,
          60,
          43,
          31,
          45,
          26,
          15,
          23,
          31,
          53,
          49,
          36,
          30
         ]
        }
       ],
       "layout": {
        "title": "Population Size for Sceloporus jarrovii and S. virgatus 2000-2017",
        "titlefont": {
         "size": 20
        },
        "xaxis": {
         "dtick": 1,
         "range": [
          1999.5,
          2017.5
         ],
         "title": "Year",
         "titlefont": {
          "size": 18
         }
        },
        "yaxis": {
         "title": "Number of Lizards",
         "titlefont": {
          "size": 18
         }
        }
       }
      },
      "text/html": [
<<<<<<< HEAD:python notebooks/Descriptive Analyses of CC Data (2000-2017)-Copy1.ipynb
       "<div id=\"d40891f9-82f1-44f3-94e2-7459326f64ff\" style=\"height: 525px; width: 100%;\" class=\"plotly-graph-div\"></div><script type=\"text/javascript\">require([\"plotly\"], function(Plotly) { window.PLOTLYENV=window.PLOTLYENV || {};window.PLOTLYENV.BASE_URL=\"https://plot.ly\";\n",
       "        Plotly.plot(\n",
       "            'd40891f9-82f1-44f3-94e2-7459326f64ff',\n",
       "            [{\"name\": \"S. jarrovii\", \"x\": [2000.0, 2001.0, 2002.0, 2003.0, 2004.0, 2005.0, 2006.0, 2007.0, 2008.0, 2009.0, 2010.0, 2011.0, 2012.0, 2013.0, 2014.0, 2015.0, 2016.0, 2017.0], \"y\": [155.0, 137.0, 121.0, 103.0, 73.0, 80.0, 66.0, 96.0, 89.0, 105.0, 54.0, 46.0, 51.0, 55.0, 44.0, 82.0, 61.0, 75.0], \"type\": \"scatter\", \"uid\": \"cdd0b85a-a024-11e9-83f4-90324b8dd25e\"}, {\"name\": \"S. virgatus\", \"x\": [2002.0, 2003.0, 2004.0, 2005.0, 2006.0, 2007.0, 2008.0, 2009.0, 2010.0, 2011.0, 2012.0, 2013.0, 2014.0, 2015.0, 2016.0, 2017.0], \"y\": [80.0, 74.0, 61.0, 59.0, 60.0, 43.0, 31.0, 45.0, 26.0, 15.0, 23.0, 31.0, 53.0, 49.0, 36.0, 30.0], \"type\": \"scatter\", \"uid\": \"cdd0b85b-a024-11e9-b251-90324b8dd25e\"}],\n",
       "            {\"title\": \"Population Size for Sceloporus jarrovii and S. virgatus 2000-2017\", \"titlefont\": {\"size\": 20}, \"xaxis\": {\"dtick\": 1, \"range\": [1999.5, 2017.5], \"title\": \"Year\", \"titlefont\": {\"size\": 18}}, \"yaxis\": {\"title\": \"Number of Lizards\", \"titlefont\": {\"size\": 18}}},\n",
       "            {\"showLink\": true, \"linkText\": \"Export to plot.ly\"}\n",
       "        ).then(function () {return Plotly.addFrames('d40891f9-82f1-44f3-94e2-7459326f64ff',{});}).then(function(){Plotly.animate('d40891f9-82f1-44f3-94e2-7459326f64ff');})\n",
       "        });</script>"
      ],
      "text/vnd.plotly.v1+html": [
       "<div id=\"d40891f9-82f1-44f3-94e2-7459326f64ff\" style=\"height: 525px; width: 100%;\" class=\"plotly-graph-div\"></div><script type=\"text/javascript\">require([\"plotly\"], function(Plotly) { window.PLOTLYENV=window.PLOTLYENV || {};window.PLOTLYENV.BASE_URL=\"https://plot.ly\";\n",
       "        Plotly.plot(\n",
       "            'd40891f9-82f1-44f3-94e2-7459326f64ff',\n",
       "            [{\"name\": \"S. jarrovii\", \"x\": [2000.0, 2001.0, 2002.0, 2003.0, 2004.0, 2005.0, 2006.0, 2007.0, 2008.0, 2009.0, 2010.0, 2011.0, 2012.0, 2013.0, 2014.0, 2015.0, 2016.0, 2017.0], \"y\": [155.0, 137.0, 121.0, 103.0, 73.0, 80.0, 66.0, 96.0, 89.0, 105.0, 54.0, 46.0, 51.0, 55.0, 44.0, 82.0, 61.0, 75.0], \"type\": \"scatter\", \"uid\": \"cdd0b85a-a024-11e9-83f4-90324b8dd25e\"}, {\"name\": \"S. virgatus\", \"x\": [2002.0, 2003.0, 2004.0, 2005.0, 2006.0, 2007.0, 2008.0, 2009.0, 2010.0, 2011.0, 2012.0, 2013.0, 2014.0, 2015.0, 2016.0, 2017.0], \"y\": [80.0, 74.0, 61.0, 59.0, 60.0, 43.0, 31.0, 45.0, 26.0, 15.0, 23.0, 31.0, 53.0, 49.0, 36.0, 30.0], \"type\": \"scatter\", \"uid\": \"cdd0b85b-a024-11e9-b251-90324b8dd25e\"}],\n",
       "            {\"title\": \"Population Size for Sceloporus jarrovii and S. virgatus 2000-2017\", \"titlefont\": {\"size\": 20}, \"xaxis\": {\"dtick\": 1, \"range\": [1999.5, 2017.5], \"title\": \"Year\", \"titlefont\": {\"size\": 18}}, \"yaxis\": {\"title\": \"Number of Lizards\", \"titlefont\": {\"size\": 18}}},\n",
       "            {\"showLink\": true, \"linkText\": \"Export to plot.ly\"}\n",
       "        ).then(function () {return Plotly.addFrames('d40891f9-82f1-44f3-94e2-7459326f64ff',{});}).then(function(){Plotly.animate('d40891f9-82f1-44f3-94e2-7459326f64ff');})\n",
       "        });</script>"
=======
       "<div>\n",
       "        \n",
       "        \n",
       "            <div id=\"bc9d1b8e-e496-4c4d-9274-f092b42c805b\" class=\"plotly-graph-div\" style=\"height:525px; width:100%;\"></div>\n",
       "            <script type=\"text/javascript\">\n",
       "                require([\"plotly\"], function(Plotly) {\n",
       "                    window.PLOTLYENV=window.PLOTLYENV || {};\n",
       "                    window.PLOTLYENV.BASE_URL='https://plot.ly';\n",
       "                    \n",
       "                if (document.getElementById(\"bc9d1b8e-e496-4c4d-9274-f092b42c805b\")) {\n",
       "                    Plotly.newPlot(\n",
       "                        'bc9d1b8e-e496-4c4d-9274-f092b42c805b',\n",
       "                        [{\"name\": \"S. jarrovii\", \"type\": \"scatter\", \"uid\": \"20cb630c-1d33-4094-81b8-bf157c8aaa89\", \"x\": [2000, 2001, 2002, 2003, 2004, 2005, 2006, 2007, 2008, 2009, 2010, 2011, 2012, 2013, 2014, 2015, 2016, 2017], \"y\": [155, 137, 121, 103, 73, 80, 66, 96, 89, 105, 54, 46, 51, 55, 44, 82, 61, 75]}, {\"name\": \"S. virgatus\", \"type\": \"scatter\", \"uid\": \"fa7b14b5-a941-4ec5-a58e-75c9b6ecf15b\", \"x\": [2002, 2003, 2004, 2005, 2006, 2007, 2008, 2009, 2010, 2011, 2012, 2013, 2014, 2015, 2016, 2017], \"y\": [80, 74, 61, 59, 60, 43, 31, 45, 26, 15, 23, 31, 53, 49, 36, 30]}],\n",
       "                        {\"title\": {\"font\": {\"size\": 20}, \"text\": \"Population Size for Sceloporus jarrovii and S. virgatus 2000-2017\"}, \"xaxis\": {\"dtick\": 1, \"range\": [1999.5, 2017.5], \"title\": {\"font\": {\"size\": 18}, \"text\": \"Year\"}}, \"yaxis\": {\"title\": {\"font\": {\"size\": 18}, \"text\": \"Number of Lizards\"}}},\n",
       "                        {\"showLink\": false, \"linkText\": \"Export to plot.ly\", \"plotlyServerURL\": \"https://plot.ly\", \"responsive\": true}\n",
       "                    ).then(function(){\n",
       "                            \n",
       "var gd = document.getElementById('bc9d1b8e-e496-4c4d-9274-f092b42c805b');\n",
       "var x = new MutationObserver(function (mutations, observer) {{\n",
       "        var display = window.getComputedStyle(gd).display;\n",
       "        if (!display || display === 'none') {{\n",
       "            console.log([gd, 'removed!']);\n",
       "            Plotly.purge(gd);\n",
       "            observer.disconnect();\n",
       "        }}\n",
       "}});\n",
       "\n",
       "// Listen for the removal of the full notebook cells\n",
       "var notebookContainer = gd.closest('#notebook-container');\n",
       "if (notebookContainer) {{\n",
       "    x.observe(notebookContainer, {childList: true});\n",
       "}}\n",
       "\n",
       "// Listen for the clearing of the current output cell\n",
       "var outputEl = gd.closest('.output');\n",
       "if (outputEl) {{\n",
       "    x.observe(outputEl, {childList: true});\n",
       "}}\n",
       "\n",
       "                        })\n",
       "                };\n",
       "                });\n",
       "            </script>\n",
       "        </div>"
>>>>>>> dcf246b4afe37ef97be77537ce2cce1f5e03a67a:python notebooks/Descriptive Analyses of CC Data (2000-2017)-Overall.ipynb
      ]
     },
     "metadata": {},
     "output_type": "display_data"
    }
   ],
   "source": [
    "Sjarrovii = go.Scatter(x = populationSize.loc[populationSize.species=='j'].year\n",
    "           , y = populationSize.loc[populationSize.species=='j'].liznumber\n",
    "          ,name = 'S. jarrovii')\n",
    "Svirgatus = go.Scatter(x = populationSize.loc[populationSize.species=='v'].year\n",
    "           , y = populationSize.loc[populationSize.species=='v'].liznumber\n",
    "          ,name = 'S. virgatus')\n",
    "data = [Sjarrovii, Svirgatus]\n",
    "layout = go.Layout(\n",
    "    title = 'Population Size for Sceloporus jarrovii and S. virgatus 2000-2017',\n",
    "    titlefont = dict(\n",
    "        size = 20),\n",
    "    xaxis = dict(\n",
    "        dtick = 1,\n",
    "        title = 'Year',\n",
    "        titlefont = dict(\n",
    "            size = 18),\n",
    "        range = [1999.5,2017.5]),\n",
    "    yaxis = dict(\n",
    "        title = 'Number of Lizards',\n",
    "        titlefont = dict(\n",
    "            size = 18))\n",
    ")\n",
    "fig = go.Figure(\n",
    "        data = data,\n",
    "        layout = layout)\n",
    "plot(fig, filename = 'Population Size for Sceloporus jarrovii and S. virgatus 2000-2017.html')\n",
    "iplot(fig, filename = 'Population Size for Sceloporus jarrovii and S. virgatus 2000-2017.html')\n",
    "# pio.to_image(fig, format='html')"
   ]
  },
  {
   "cell_type": "code",
<<<<<<< HEAD:python notebooks/Descriptive Analyses of CC Data (2000-2017)-Copy1.ipynb
   "execution_count": 18,
   "metadata": {},
   "outputs": [
    {
     "data": {
      "text/plain": [
       "j        1493\n",
       "v         716\n",
       "other     215\n",
       "sj?         1\n",
       "Name: species, dtype: int64"
      ]
     },
     "execution_count": 18,
     "metadata": {},
     "output_type": "execute_result"
    }
   ],
=======
   "execution_count": null,
   "metadata": {},
   "outputs": [],
>>>>>>> dcf246b4afe37ef97be77537ce2cce1f5e03a67a:python notebooks/Descriptive Analyses of CC Data (2000-2017)-Overall.ipynb
   "source": [
    "description(populationSize,['species'],'liznumber')"
   ]
  },
  {
   "cell_type": "markdown",
   "metadata": {},
   "source": [
<<<<<<< HEAD:python notebooks/Descriptive Analyses of CC Data (2000-2017)-Copy1.ipynb
    "These values should only be _'j', 'v', and 'other'_ any other values will be removed in the cleaning notebook and excluded from further analyses here."
   ]
  },
  {
   "cell_type": "code",
   "execution_count": 19,
   "metadata": {},
   "outputs": [
    {
     "data": {
      "text/plain": [
       "j        1493\n",
       "v         716\n",
       "other     215\n",
       "Name: species, dtype: int64"
      ]
     },
     "execution_count": 19,
     "metadata": {},
     "output_type": "execute_result"
    }
   ],
   "source": [
    "df_firstInYear = df_firstInYear.loc[df_firstInYear.species.isin(['j','v','other'])]\n",
    "df_firstInYear.species.value_counts(dropna=False)"
=======
    "[Back to Top](#Table-of-Contents)\n",
    "\n",
    "[Back to Analyze Data](#Analyze-Data)"
>>>>>>> dcf246b4afe37ef97be77537ce2cce1f5e03a67a:python notebooks/Descriptive Analyses of CC Data (2000-2017)-Overall.ipynb
   ]
  },
  {
   "cell_type": "markdown",
   "metadata": {},
   "source": [
    "### Sex Distribution\n",
    "\n",
    "We will begin by examining the range and distribution of _sex_ values.\n",
    "\n",
    "[Back to Top](#Table-of-Contents)\n",
    "\n",
    "[Back to Analyze Data](#Analyze-Data)"
   ]
  },
  {
   "cell_type": "code",
<<<<<<< HEAD:python notebooks/Descriptive Analyses of CC Data (2000-2017)-Copy1.ipynb
   "execution_count": 20,
   "metadata": {},
   "outputs": [
    {
     "data": {
      "text/plain": [
       "f       1250\n",
       "m       1143\n",
       "NaN       26\n",
       "n          2\n",
       "f`         1\n",
       "[m]        1\n",
       "male       1\n",
       "Name: sex, dtype: int64"
      ]
     },
     "execution_count": 20,
     "metadata": {},
     "output_type": "execute_result"
    }
   ],
=======
   "execution_count": null,
   "metadata": {},
   "outputs": [],
>>>>>>> dcf246b4afe37ef97be77537ce2cce1f5e03a67a:python notebooks/Descriptive Analyses of CC Data (2000-2017)-Overall.ipynb
   "source": [
    "df_firstInYear.sex.value_counts(dropna=False)"
   ]
  },
  {
   "cell_type": "markdown",
   "metadata": {},
   "source": [
    "These values should only be _'m' and 'f'_.  Any other values will be removed in the cleaning notebook and excluded from further analyses here."
   ]
  },
  {
   "cell_type": "code",
<<<<<<< HEAD:python notebooks/Descriptive Analyses of CC Data (2000-2017)-Copy1.ipynb
   "execution_count": 21,
   "metadata": {},
   "outputs": [
    {
     "data": {
      "text/plain": [
       "f    1250\n",
       "m    1143\n",
       "Name: sex, dtype: int64"
      ]
     },
     "execution_count": 21,
     "metadata": {},
     "output_type": "execute_result"
    }
   ],
=======
   "execution_count": null,
   "metadata": {},
   "outputs": [],
>>>>>>> dcf246b4afe37ef97be77537ce2cce1f5e03a67a:python notebooks/Descriptive Analyses of CC Data (2000-2017)-Overall.ipynb
   "source": [
    "df_firstInYear = df_firstInYear.loc[df_firstInYear.sex.isin(['m','f'])]\n",
    "df_firstInYear.sex.value_counts(dropna=False)"
   ]
  },
  {
   "cell_type": "code",
   "execution_count": null,
   "metadata": {},
   "outputs": [],
   "source": [
    "populationSize_sex_species = df_firstInYear.groupby(['year','species','sex']).liznumber.nunique().reset_index()\\\n",
    ".merge(df_firstInYear.groupby(['year','species']).liznumber.nunique().reset_index()\\\n",
    "       .rename(columns={'liznumber':'liznumberYear'}),\n",
    "       on=['year','species'])\n",
    "populationSize_sex_species\\\n",
    ".loc[populationSize_sex_species.sex=='m','propMale'] = populationSize_sex_species\\\n",
    ".loc[populationSize_sex_species.sex=='m'].liznumber/populationSize_sex_species\\\n",
    ".loc[populationSize_sex_species.sex=='m'].liznumberYear\n",
    "populationSize_sex_species\\\n",
    ".loc[populationSize_sex_species.sex=='f','propFemale'] = (populationSize_sex_species\\\n",
    ".loc[populationSize_sex_species.sex=='f'].liznumber/populationSize_sex_species\\\n",
    ".loc[populationSize_sex_species.sex=='f'].liznumberYear)\n",
    "populationSize_sex_species"
   ]
  },
  {
   "cell_type": "code",
<<<<<<< HEAD:python notebooks/Descriptive Analyses of CC Data (2000-2017)-Copy1.ipynb
   "execution_count": 22,
   "metadata": {},
   "outputs": [
    {
     "data": {
      "text/html": [
       "<iframe id=\"igraph\" scrolling=\"no\" style=\"border:none;\" seamless=\"seamless\" src=\"https://plot.ly/~cragard/105.embed\" height=\"525px\" width=\"100%\"></iframe>"
      ],
      "text/plain": [
       "<plotly.tools.PlotlyDisplay object>"
      ]
     },
     "execution_count": 22,
     "metadata": {},
     "output_type": "execute_result"
    }
   ],
=======
   "execution_count": null,
   "metadata": {
    "scrolled": false
   },
   "outputs": [],
>>>>>>> dcf246b4afe37ef97be77537ce2cce1f5e03a67a:python notebooks/Descriptive Analyses of CC Data (2000-2017)-Overall.ipynb
   "source": [
    "Sjarrovii = go.Scatter(x = populationSize_sex_species.loc[(populationSize_sex_species.species=='j')\n",
    "                                                          &(populationSize_sex_species.propMale.notna())].year\n",
    "           , y = populationSize_sex_species.loc[(populationSize_sex_species.species=='j')\n",
    "                                                &(populationSize_sex_species.propMale.notna())].propMale\n",
    "          ,name = 'S. jarrovii')\n",
    "Svirgatus = go.Scatter(x = populationSize_sex_species.loc[(populationSize_sex_species.species=='v')\n",
    "                                                          &(populationSize_sex_species.propMale.notna())].year\n",
    "           , y = populationSize_sex_species.loc[(populationSize_sex_species.species=='v')\n",
    "                                                &(populationSize_sex_species.propMale.notna())].propMale\n",
    "          ,name = 'S. virgatus')\n",
    "data = [Sjarrovii,Svirgatus]\n",
    "layout = go.Layout(\n",
    "    title = 'Proportion of Males by Species and Year for Sceloporus jarrovii and S. virgatus 2000-2017',\n",
    "    titlefont = dict(\n",
    "        size = 20),\n",
    "    xaxis = dict(\n",
    "        dtick = 1,\n",
    "        title = 'Year',\n",
    "        titlefont = dict(\n",
    "            size = 18),\n",
    "        range = [1999.5,2017.5]),\n",
    "    yaxis = dict(\n",
    "        tickformat = \".2%\",\n",
    "        title = 'Percentage of Males',\n",
    "        titlefont = dict(\n",
    "            size = 18),\n",
    "    range = [0,1])\n",
    "    \n",
    ")\n",
    "fig = go.Figure(\n",
    "        data = data,\n",
    "        layout = layout)\n",
    "plot(fig, filename = 'Proportion of Males by Species and Year for Sceloporus jarrovii and S. virgatus 2000-2017.html')\n",
    "iplot(fig, filename = 'Proportion of Males by Species and Year for Sceloporus jarrovii and S. virgatus 2000-2017.html')"
   ]
  },
  {
   "cell_type": "code",
   "execution_count": null,
   "metadata": {},
   "outputs": [],
   "source": [
    "description(populationSize_sex_species,'species','propMale',True)"
   ]
  },
  {
   "cell_type": "markdown",
   "metadata": {},
   "source": [
    "[Back to Top](#Table-of-Contents)\n",
    "\n",
    "[Back to Analyze Data](#Analyze-Data)"
   ]
  },
  {
   "cell_type": "markdown",
   "metadata": {},
   "source": [
    "### Tail Condition Distribution\n",
    "\n",
    "Here we look at the proportion of individuals in our data who have experienced autotomy.\n",
    "\n",
    "[Back to Top](#Table-of-Contents)\n",
    "\n",
    "[Back to Analyze Data](#Analyze-Data)"
   ]
  },
  {
   "cell_type": "code",
   "execution_count": null,
   "metadata": {},
   "outputs": [],
   "source": [
    "df_firstInYear.autotomized.value_counts(dropna=False)"
   ]
  },
  {
   "cell_type": "markdown",
   "metadata": {},
   "source": [
    "These values should only be _'False'_ and _'True'_.  Any other values will be removed in the cleaning notebook and excluded from further analyses here."
   ]
  },
  {
   "cell_type": "code",
   "execution_count": null,
   "metadata": {},
   "outputs": [],
   "source": [
    "df_firstInYear_aut = df_firstInYear.loc[df_firstInYear.autotomized.isin([False,True])]\n",
    "df_firstInYear_aut.autotomized.value_counts(dropna=False)"
   ]
  },
  {
   "cell_type": "code",
   "execution_count": null,
   "metadata": {},
   "outputs": [],
   "source": [
    "populationSize_aut_species = df_firstInYear_aut.groupby(['year','species','autotomized']).liznumber.nunique()\\\n",
    ".reset_index()\\\n",
    ".merge(df_firstInYear_aut.groupby(['year','species']).liznumber.nunique().reset_index()\\\n",
    "       .rename(columns={'liznumber':'liznumberYear'})\n",
    "       ,on=['year','species'])\n",
    "populationSize_aut_species\\\n",
    ".loc[populationSize_aut_species.autotomized,'propAutotomized'] = populationSize_aut_species\\\n",
    ".loc[populationSize_aut_species.autotomized].liznumber/populationSize_aut_species\\\n",
    ".loc[populationSize_aut_species.autotomized].liznumberYear\n",
    "populationSize_aut_species\\\n",
    ".loc[~populationSize_aut_species.autotomized,'propIntact'] = (populationSize_aut_species\\\n",
    ".loc[~populationSize_aut_species.autotomized].liznumber/populationSize_aut_species\\\n",
    ".loc[~populationSize_aut_species.autotomized].liznumberYear)\n",
    "populationSize_aut_species"
   ]
  },
  {
   "cell_type": "code",
   "execution_count": null,
   "metadata": {},
   "outputs": [],
   "source": [
    "Sjarrovii = go.Scatter(x = populationSize_aut_species.loc[(populationSize_aut_species.species=='j')\n",
    "                                                              &(populationSize_aut_species.propAutotomized.notna())].year\n",
    "           , y = populationSize_aut_species.loc[(populationSize_aut_species.species=='j')\n",
    "                                               &(populationSize_aut_species.propAutotomized.notna())].propAutotomized\n",
    "          ,name = 'Autotomized S. jarrovii')\n",
    "Svirgatus = go.Scatter(x = populationSize_aut_species.loc[(populationSize_aut_species.species=='v')\n",
    "                                                              &(populationSize_aut_species.propAutotomized.notna())].year\n",
    "           , y = populationSize_aut_species.loc[(populationSize_aut_species.species=='v')\n",
    "                                                &(populationSize_aut_species.propAutotomized.notna())].propAutotomized\n",
    "          ,name = 'Autotomized S. virgatus')\n",
    "\n",
    "\n",
    "data = [Sjarrovii, Svirgatus]\n",
    "layout = go.Layout(\n",
    "    title = 'Proportion Autotomized by Species and Year for Sceloporus jarrovii and S. virgatus 2000-2017',\n",
    "    titlefont = dict(\n",
    "        size = 20),\n",
    "    xaxis = dict(\n",
    "        dtick = 1,\n",
    "        title = 'Year',\n",
    "        titlefont = dict(\n",
    "            size = 18),\n",
    "        range = [1999.5,2017.5]),\n",
    "    yaxis = dict(\n",
    "        tickformat=\".2%\",\n",
    "        title = 'Proportion of Autotomized Lizards',\n",
    "        titlefont = dict(\n",
    "            size = 18),\n",
    "    range=[0,1])\n",
    ")\n",
    "fig = go.Figure(\n",
    "        data = data,\n",
    "        layout = layout)\n",
    "iplot(fig, filename = 'Proportion Autotomized by Species and Year for Sceloporus jarrovii and S. virgatus 2000-2017.html')\n",
    "plot(fig, filename = 'Proportion Autotomized by Species and Year for Sceloporus jarrovii and S. virgatus 2000-2017.html')"
   ]
  },
  {
   "cell_type": "code",
   "execution_count": null,
   "metadata": {
    "scrolled": true
   },
   "outputs": [],
   "source": [
    "description(populationSize_aut_species,'species','propAutotomized',True)"
   ]
  },
  {
   "cell_type": "markdown",
   "metadata": {},
   "source": [
    "[Back to Top](#Table-of-Contents)\n",
    "\n",
    "[Back to Analyze Data](#Analyze-Data)"
   ]
  },
  {
   "cell_type": "markdown",
   "metadata": {},
   "source": [
    "### Morphometrics\n",
    "\n",
    "In this section we describe the distributions of various morphometrics.\n",
    "\n",
    "- [SVL](#SVL)\n",
    "- [TL](#TL)\n",
    "- [RTL](#RTL)\n",
    "- [Mass](#SVL)\n",
    "\n",
    "[Back to Top](#Table-of-Contents)\n",
    "\n",
    "[Back to Analyze Data](#Analyze-Data)"
   ]
  },
  {
   "cell_type": "markdown",
   "metadata": {},
   "source": [
    "#### SVL\n",
    "\n",
    "Now we examine the range and distribution of svl values by species.\n",
    "\n",
    "[Back to Morphometrics](#Morphometrics)\n"
   ]
  },
  {
   "cell_type": "markdown",
   "metadata": {},
   "source": [
    "We will use the [distribution](#distribution) function to do this and then plot these values.\n",
    "\n",
    "- [Histogram of SVL](#SVLhist)"
   ]
  },
  {
   "cell_type": "code",
<<<<<<< HEAD:python notebooks/Descriptive Analyses of CC Data (2000-2017)-Copy1.ipynb
   "execution_count": 23,
   "metadata": {
    "scrolled": true
   },
   "outputs": [
    {
     "name": "stdout",
     "output_type": "stream",
     "text": [
      "SVL values in the data set range from 13.0 to 112.0 for and are distributed across species and sex as displayed here:\n"
     ]
    },
    {
     "data": {
      "text/html": [
       "<div>\n",
       "<style scoped>\n",
       "    .dataframe tbody tr th:only-of-type {\n",
       "        vertical-align: middle;\n",
       "    }\n",
       "\n",
       "    .dataframe tbody tr th {\n",
       "        vertical-align: top;\n",
       "    }\n",
       "\n",
       "    .dataframe thead th {\n",
       "        text-align: right;\n",
       "    }\n",
       "</style>\n",
       "<table border=\"1\" class=\"dataframe\">\n",
       "  <thead>\n",
       "    <tr style=\"text-align: right;\">\n",
       "      <th></th>\n",
       "      <th></th>\n",
       "      <th></th>\n",
       "      <th>n</th>\n",
       "      <th>minimum</th>\n",
       "      <th>maximum</th>\n",
       "      <th>median</th>\n",
       "      <th>siqr</th>\n",
       "      <th>mean</th>\n",
       "      <th>stdev</th>\n",
       "    </tr>\n",
       "    <tr>\n",
       "      <th>species</th>\n",
       "      <th>sex</th>\n",
       "      <th></th>\n",
       "      <th></th>\n",
       "      <th></th>\n",
       "      <th></th>\n",
       "      <th></th>\n",
       "      <th></th>\n",
       "      <th></th>\n",
       "      <th></th>\n",
       "    </tr>\n",
       "  </thead>\n",
       "  <tbody>\n",
       "    <tr>\n",
       "      <th rowspan=\"2\" valign=\"top\">j</th>\n",
       "      <th>f</th>\n",
       "      <th>0</th>\n",
       "      <td>795</td>\n",
       "      <td>13.0</td>\n",
       "      <td>86.0</td>\n",
       "      <td>65.0</td>\n",
       "      <td>9.5</td>\n",
       "      <td>61.542138</td>\n",
       "      <td>14.155369</td>\n",
       "    </tr>\n",
       "    <tr>\n",
       "      <th>m</th>\n",
       "      <th>0</th>\n",
       "      <td>676</td>\n",
       "      <td>24.0</td>\n",
       "      <td>98.0</td>\n",
       "      <td>73.0</td>\n",
       "      <td>14.0</td>\n",
       "      <td>68.008876</td>\n",
       "      <td>18.280204</td>\n",
       "    </tr>\n",
       "    <tr>\n",
       "      <th rowspan=\"2\" valign=\"top\">other</th>\n",
       "      <th>f</th>\n",
       "      <th>0</th>\n",
       "      <td>129</td>\n",
       "      <td>32.0</td>\n",
       "      <td>105.0</td>\n",
       "      <td>48.0</td>\n",
       "      <td>2.0</td>\n",
       "      <td>49.310078</td>\n",
       "      <td>9.934786</td>\n",
       "    </tr>\n",
       "    <tr>\n",
       "      <th>m</th>\n",
       "      <th>0</th>\n",
       "      <td>83</td>\n",
       "      <td>40.0</td>\n",
       "      <td>112.0</td>\n",
       "      <td>49.0</td>\n",
       "      <td>1.5</td>\n",
       "      <td>51.409639</td>\n",
       "      <td>12.600848</td>\n",
       "    </tr>\n",
       "    <tr>\n",
       "      <th rowspan=\"2\" valign=\"top\">v</th>\n",
       "      <th>f</th>\n",
       "      <th>0</th>\n",
       "      <td>326</td>\n",
       "      <td>31.0</td>\n",
       "      <td>66.0</td>\n",
       "      <td>56.0</td>\n",
       "      <td>3.5</td>\n",
       "      <td>55.070552</td>\n",
       "      <td>5.885936</td>\n",
       "    </tr>\n",
       "    <tr>\n",
       "      <th>m</th>\n",
       "      <th>0</th>\n",
       "      <td>384</td>\n",
       "      <td>28.0</td>\n",
       "      <td>79.0</td>\n",
       "      <td>51.0</td>\n",
       "      <td>3.0</td>\n",
       "      <td>50.533854</td>\n",
       "      <td>4.898862</td>\n",
       "    </tr>\n",
       "  </tbody>\n",
       "</table>\n",
       "</div>"
      ],
      "text/plain": [
       "                 n  minimum  maximum  median  siqr       mean      stdev\n",
       "species sex                                                             \n",
       "j       f   0  795     13.0     86.0    65.0   9.5  61.542138  14.155369\n",
       "        m   0  676     24.0     98.0    73.0  14.0  68.008876  18.280204\n",
       "other   f   0  129     32.0    105.0    48.0   2.0  49.310078   9.934786\n",
       "        m   0   83     40.0    112.0    49.0   1.5  51.409639  12.600848\n",
       "v       f   0  326     31.0     66.0    56.0   3.5  55.070552   5.885936\n",
       "        m   0  384     28.0     79.0    51.0   3.0  50.533854   4.898862"
      ]
     },
     "execution_count": 23,
     "metadata": {},
     "output_type": "execute_result"
    }
   ],
=======
   "execution_count": null,
   "metadata": {
    "scrolled": true
   },
   "outputs": [],
>>>>>>> dcf246b4afe37ef97be77537ce2cce1f5e03a67a:python notebooks/Descriptive Analyses of CC Data (2000-2017)-Overall.ipynb
   "source": [
    "print(\"SVL values in the data set range from {} to {} for and are distributed across species and sex \\\n",
    "as displayed here:\"\\\n",
    "      .format(df_firstInYear.svl.min(), df_firstInYear.svl.max()))\n",
    "description(df_firstInYear,gvariables=['species','sex'],variable='svl')"
   ]
  },
  {
   "cell_type": "markdown",
   "metadata": {},
   "source": [
    "Let's plot these values. "
   ]
  },
  {
   "cell_type": "markdown",
   "metadata": {},
   "source": [
    "##### Histogram of SVL values\n",
    "\n",
    "[Back to Top](#Table-of-Contents)\n",
    "\n",
    "[Back to Analyze Data](#Analyze-Data)\n"
   ]
  },
  {
   "cell_type": "code",
<<<<<<< HEAD:python notebooks/Descriptive Analyses of CC Data (2000-2017)-Copy1.ipynb
   "execution_count": 24,
   "metadata": {},
   "outputs": [
    {
     "data": {
      "text/html": [
       "<iframe id=\"igraph\" scrolling=\"no\" style=\"border:none;\" seamless=\"seamless\" src=\"https://plot.ly/~cragard/101.embed\" height=\"525px\" width=\"100%\"></iframe>"
      ],
      "text/plain": [
       "<plotly.tools.PlotlyDisplay object>"
      ]
     },
     "execution_count": 24,
     "metadata": {},
     "output_type": "execute_result"
    }
   ],
=======
   "execution_count": null,
   "metadata": {},
   "outputs": [],
>>>>>>> dcf246b4afe37ef97be77537ce2cce1f5e03a67a:python notebooks/Descriptive Analyses of CC Data (2000-2017)-Overall.ipynb
   "source": [
    "femaleSj = go.Histogram(x = df_firstInYear.loc[(df_firstInYear.species=='j')&(df_firstInYear.sex=='f')].svl,name='Sj females')\n",
    "maleSj = go.Histogram(x = df_firstInYear.loc[(df_firstInYear.species=='j')&(df_firstInYear.sex=='m')].svl,name='Sj males')\n",
    "femaleSv = go.Histogram(x = df_firstInYear.loc[(df_firstInYear.species=='v')&(df_firstInYear.sex=='f')].svl,name='Sv females')\n",
    "maleSv = go.Histogram(x = df_firstInYear.loc[(df_firstInYear.species=='v')&(df_firstInYear.sex=='m')].svl,name='Sv males')\n",
    "\n",
    "data = [maleSj,maleSv,femaleSj,femaleSv]\n",
    "layout = go.Layout(\n",
    "    title = 'Histogram of SVL at Capture for CC 2000-2017',\n",
    "    titlefont = dict(\n",
    "        size = 20),\n",
    "    xaxis = dict(\n",
    "        dtick = 1,\n",
    "        title = 'SVL at time of capture',\n",
    "        titlefont = dict(\n",
    "            size = 18)),\n",
    "    yaxis = dict(\n",
    "        title = 'Number of Lizards',\n",
    "        titlefont = dict(\n",
    "            size = 18)))\n",
    "\n",
    "fig = go.Figure(\n",
    "        data = data,\n",
    "        layout = layout)\n",
    "iplot(fig, filename = 'Histogram of SVL at Capture for CC 2000-2017.html')\n",
    "plot(fig, filename = 'Histogram of SVL at Capture for CC 2000-2017.html')"
   ]
  },
  {
   "cell_type": "markdown",
   "metadata": {},
   "source": [
    " Outliers will be addressed in the Cleaning notebook, but will be removed for the remained of the analyses here."
   ]
  },
  {
   "cell_type": "code",
<<<<<<< HEAD:python notebooks/Descriptive Analyses of CC Data (2000-2017)-Copy1.ipynb
   "execution_count": 25,
   "metadata": {
    "scrolled": true
   },
   "outputs": [
    {
     "name": "stdout",
     "output_type": "stream",
     "text": [
      "svl values in the data set range from 13.0 to 112.0 for and are distributed across species and sex as displayed here:\n"
     ]
    },
    {
     "data": {
      "text/html": [
       "<div>\n",
       "<style scoped>\n",
       "    .dataframe tbody tr th:only-of-type {\n",
       "        vertical-align: middle;\n",
       "    }\n",
       "\n",
       "    .dataframe tbody tr th {\n",
       "        vertical-align: top;\n",
       "    }\n",
       "\n",
       "    .dataframe thead th {\n",
       "        text-align: right;\n",
       "    }\n",
       "</style>\n",
       "<table border=\"1\" class=\"dataframe\">\n",
       "  <thead>\n",
       "    <tr style=\"text-align: right;\">\n",
       "      <th></th>\n",
       "      <th></th>\n",
       "      <th></th>\n",
       "      <th>n</th>\n",
       "      <th>minimum</th>\n",
       "      <th>maximum</th>\n",
       "      <th>median</th>\n",
       "      <th>siqr</th>\n",
       "      <th>mean</th>\n",
       "      <th>stdev</th>\n",
       "    </tr>\n",
       "    <tr>\n",
       "      <th>species</th>\n",
       "      <th>sex</th>\n",
       "      <th></th>\n",
       "      <th></th>\n",
       "      <th></th>\n",
       "      <th></th>\n",
       "      <th></th>\n",
       "      <th></th>\n",
       "      <th></th>\n",
       "      <th></th>\n",
       "    </tr>\n",
       "  </thead>\n",
       "  <tbody>\n",
       "    <tr>\n",
       "      <th rowspan=\"2\" valign=\"top\">j</th>\n",
       "      <th>f</th>\n",
       "      <th>0</th>\n",
       "      <td>795</td>\n",
       "      <td>13.0</td>\n",
       "      <td>86.0</td>\n",
       "      <td>65.0</td>\n",
       "      <td>9.5</td>\n",
       "      <td>61.542138</td>\n",
       "      <td>14.155369</td>\n",
       "    </tr>\n",
       "    <tr>\n",
       "      <th>m</th>\n",
       "      <th>0</th>\n",
       "      <td>676</td>\n",
       "      <td>24.0</td>\n",
       "      <td>98.0</td>\n",
       "      <td>73.0</td>\n",
       "      <td>14.0</td>\n",
       "      <td>68.008876</td>\n",
       "      <td>18.280204</td>\n",
       "    </tr>\n",
       "    <tr>\n",
       "      <th rowspan=\"2\" valign=\"top\">other</th>\n",
       "      <th>f</th>\n",
       "      <th>0</th>\n",
       "      <td>129</td>\n",
       "      <td>32.0</td>\n",
       "      <td>105.0</td>\n",
       "      <td>48.0</td>\n",
       "      <td>2.0</td>\n",
       "      <td>49.310078</td>\n",
       "      <td>9.934786</td>\n",
       "    </tr>\n",
       "    <tr>\n",
       "      <th>m</th>\n",
       "      <th>0</th>\n",
       "      <td>83</td>\n",
       "      <td>40.0</td>\n",
       "      <td>112.0</td>\n",
       "      <td>49.0</td>\n",
       "      <td>1.5</td>\n",
       "      <td>51.409639</td>\n",
       "      <td>12.600848</td>\n",
       "    </tr>\n",
       "    <tr>\n",
       "      <th rowspan=\"2\" valign=\"top\">v</th>\n",
       "      <th>f</th>\n",
       "      <th>0</th>\n",
       "      <td>326</td>\n",
       "      <td>31.0</td>\n",
       "      <td>66.0</td>\n",
       "      <td>56.0</td>\n",
       "      <td>3.5</td>\n",
       "      <td>55.070552</td>\n",
       "      <td>5.885936</td>\n",
       "    </tr>\n",
       "    <tr>\n",
       "      <th>m</th>\n",
       "      <th>0</th>\n",
       "      <td>383</td>\n",
       "      <td>28.0</td>\n",
       "      <td>60.0</td>\n",
       "      <td>51.0</td>\n",
       "      <td>3.0</td>\n",
       "      <td>50.459530</td>\n",
       "      <td>4.683468</td>\n",
       "    </tr>\n",
       "  </tbody>\n",
       "</table>\n",
       "</div>"
      ],
      "text/plain": [
       "                 n  minimum  maximum  median  siqr       mean      stdev\n",
       "species sex                                                             \n",
       "j       f   0  795     13.0     86.0    65.0   9.5  61.542138  14.155369\n",
       "        m   0  676     24.0     98.0    73.0  14.0  68.008876  18.280204\n",
       "other   f   0  129     32.0    105.0    48.0   2.0  49.310078   9.934786\n",
       "        m   0   83     40.0    112.0    49.0   1.5  51.409639  12.600848\n",
       "v       f   0  326     31.0     66.0    56.0   3.5  55.070552   5.885936\n",
       "        m   0  383     28.0     60.0    51.0   3.0  50.459530   4.683468"
      ]
     },
     "execution_count": 25,
     "metadata": {},
     "output_type": "execute_result"
    }
   ],
=======
   "execution_count": null,
   "metadata": {
    "scrolled": true
   },
   "outputs": [],
>>>>>>> dcf246b4afe37ef97be77537ce2cce1f5e03a67a:python notebooks/Descriptive Analyses of CC Data (2000-2017)-Overall.ipynb
   "source": [
    "df_firstInYear.loc[(df_firstInYear.species=='v')&(df_firstInYear.svl==79)] = None\n",
    "print(\"svl values in the data set range from {} to {} for and are distributed across species and sex \\\n",
    "as displayed here:\"\\\n",
    "      .format(df_firstInYear.svl.min(), df_firstInYear.svl.max()))\n",
    "description(df_firstInYear,gvariables=['species','sex'], variable='svl')"
   ]
  },
  {
   "cell_type": "markdown",
   "metadata": {},
   "source": [
    "#### TL\n",
    "\n",
    "Now we examine the range and distribution of TL values by species.\n",
    "\n",
    "[Back to Morphometrics](#Morphometrics)\n"
   ]
  },
  {
   "cell_type": "markdown",
   "metadata": {},
   "source": [
    "We will use the [distribution](#distribution) function to do this and then plot these values.\n",
    "\n",
    "- [Histogram of TL](#TLhist)"
   ]
  },
  {
   "cell_type": "code",
<<<<<<< HEAD:python notebooks/Descriptive Analyses of CC Data (2000-2017)-Copy1.ipynb
   "execution_count": 26,
   "metadata": {},
   "outputs": [
    {
     "name": "stdout",
     "output_type": "stream",
     "text": [
      "tl values among intact lizards in the data set range from 7.0 to 165.0 for and are distributed across species and sex as displayed here:\n"
     ]
    },
    {
     "data": {
      "text/html": [
       "<div>\n",
       "<style scoped>\n",
       "    .dataframe tbody tr th:only-of-type {\n",
       "        vertical-align: middle;\n",
       "    }\n",
       "\n",
       "    .dataframe tbody tr th {\n",
       "        vertical-align: top;\n",
       "    }\n",
       "\n",
       "    .dataframe thead th {\n",
       "        text-align: right;\n",
       "    }\n",
       "</style>\n",
       "<table border=\"1\" class=\"dataframe\">\n",
       "  <thead>\n",
       "    <tr style=\"text-align: right;\">\n",
       "      <th></th>\n",
       "      <th></th>\n",
       "      <th></th>\n",
       "      <th>n</th>\n",
       "      <th>minimum</th>\n",
       "      <th>maximum</th>\n",
       "      <th>median</th>\n",
       "      <th>siqr</th>\n",
       "      <th>mean</th>\n",
       "      <th>stdev</th>\n",
       "    </tr>\n",
       "    <tr>\n",
       "      <th>species</th>\n",
       "      <th>sex</th>\n",
       "      <th></th>\n",
       "      <th></th>\n",
       "      <th></th>\n",
       "      <th></th>\n",
       "      <th></th>\n",
       "      <th></th>\n",
       "      <th></th>\n",
       "      <th></th>\n",
       "    </tr>\n",
       "  </thead>\n",
       "  <tbody>\n",
       "    <tr>\n",
       "      <th rowspan=\"2\" valign=\"top\">j</th>\n",
       "      <th>f</th>\n",
       "      <th>0</th>\n",
       "      <td>574</td>\n",
       "      <td>10.0</td>\n",
       "      <td>121.0</td>\n",
       "      <td>84.0</td>\n",
       "      <td>15.000</td>\n",
       "      <td>79.606272</td>\n",
       "      <td>19.699798</td>\n",
       "    </tr>\n",
       "    <tr>\n",
       "      <th>m</th>\n",
       "      <th>0</th>\n",
       "      <td>462</td>\n",
       "      <td>12.0</td>\n",
       "      <td>132.0</td>\n",
       "      <td>95.0</td>\n",
       "      <td>23.375</td>\n",
       "      <td>87.729437</td>\n",
       "      <td>26.880759</td>\n",
       "    </tr>\n",
       "    <tr>\n",
       "      <th rowspan=\"2\" valign=\"top\">other</th>\n",
       "      <th>f</th>\n",
       "      <th>0</th>\n",
       "      <td>89</td>\n",
       "      <td>37.0</td>\n",
       "      <td>129.0</td>\n",
       "      <td>67.0</td>\n",
       "      <td>4.500</td>\n",
       "      <td>67.438202</td>\n",
       "      <td>11.809044</td>\n",
       "    </tr>\n",
       "    <tr>\n",
       "      <th>m</th>\n",
       "      <th>0</th>\n",
       "      <td>64</td>\n",
       "      <td>58.0</td>\n",
       "      <td>132.0</td>\n",
       "      <td>78.0</td>\n",
       "      <td>5.250</td>\n",
       "      <td>80.328125</td>\n",
       "      <td>13.935287</td>\n",
       "    </tr>\n",
       "    <tr>\n",
       "      <th rowspan=\"2\" valign=\"top\">v</th>\n",
       "      <th>f</th>\n",
       "      <th>0</th>\n",
       "      <td>267</td>\n",
       "      <td>30.0</td>\n",
       "      <td>83.0</td>\n",
       "      <td>69.0</td>\n",
       "      <td>4.000</td>\n",
       "      <td>68.640449</td>\n",
       "      <td>7.468098</td>\n",
       "    </tr>\n",
       "    <tr>\n",
       "      <th>m</th>\n",
       "      <th>0</th>\n",
       "      <td>297</td>\n",
       "      <td>30.0</td>\n",
       "      <td>86.0</td>\n",
       "      <td>69.0</td>\n",
       "      <td>5.000</td>\n",
       "      <td>67.323232</td>\n",
       "      <td>7.973556</td>\n",
       "    </tr>\n",
       "  </tbody>\n",
       "</table>\n",
       "</div>"
      ],
      "text/plain": [
       "                 n  minimum  maximum  median    siqr       mean      stdev\n",
       "species sex                                                               \n",
       "j       f   0  574     10.0    121.0    84.0  15.000  79.606272  19.699798\n",
       "        m   0  462     12.0    132.0    95.0  23.375  87.729437  26.880759\n",
       "other   f   0   89     37.0    129.0    67.0   4.500  67.438202  11.809044\n",
       "        m   0   64     58.0    132.0    78.0   5.250  80.328125  13.935287\n",
       "v       f   0  267     30.0     83.0    69.0   4.000  68.640449   7.468098\n",
       "        m   0  297     30.0     86.0    69.0   5.000  67.323232   7.973556"
      ]
     },
     "execution_count": 26,
     "metadata": {},
     "output_type": "execute_result"
    }
   ],
=======
   "execution_count": null,
   "metadata": {},
   "outputs": [],
>>>>>>> dcf246b4afe37ef97be77537ce2cce1f5e03a67a:python notebooks/Descriptive Analyses of CC Data (2000-2017)-Overall.ipynb
   "source": [
    "print(\"tl values among intact lizards in the data set range from {} to {} for and are \\\n",
    "distributed across species and sex as displayed here:\"\\\n",
    "      .format(df_firstInYear.tl.min(), df_firstInYear.tl.max()))\n",
    "description(df_firstInYear.loc[df_firstInYear.autotomized==False],gvariables=['species','sex'],variable='tl')"
   ]
  },
  {
   "cell_type": "code",
<<<<<<< HEAD:python notebooks/Descriptive Analyses of CC Data (2000-2017)-Copy1.ipynb
   "execution_count": 27,
   "metadata": {
    "scrolled": true
   },
   "outputs": [
    {
     "name": "stdout",
     "output_type": "stream",
     "text": [
      "tl values among autotomized lizards in the data set range from 7.0 to 165.0 for and are distributed across species and sex as displayed here:\n"
     ]
    },
    {
     "data": {
      "text/html": [
       "<div>\n",
       "<style scoped>\n",
       "    .dataframe tbody tr th:only-of-type {\n",
       "        vertical-align: middle;\n",
       "    }\n",
       "\n",
       "    .dataframe tbody tr th {\n",
       "        vertical-align: top;\n",
       "    }\n",
       "\n",
       "    .dataframe thead th {\n",
       "        text-align: right;\n",
       "    }\n",
       "</style>\n",
       "<table border=\"1\" class=\"dataframe\">\n",
       "  <thead>\n",
       "    <tr style=\"text-align: right;\">\n",
       "      <th></th>\n",
       "      <th></th>\n",
       "      <th></th>\n",
       "      <th>n</th>\n",
       "      <th>minimum</th>\n",
       "      <th>maximum</th>\n",
       "      <th>median</th>\n",
       "      <th>siqr</th>\n",
       "      <th>mean</th>\n",
       "      <th>stdev</th>\n",
       "    </tr>\n",
       "    <tr>\n",
       "      <th>species</th>\n",
       "      <th>sex</th>\n",
       "      <th></th>\n",
       "      <th></th>\n",
       "      <th></th>\n",
       "      <th></th>\n",
       "      <th></th>\n",
       "      <th></th>\n",
       "      <th></th>\n",
       "      <th></th>\n",
       "    </tr>\n",
       "  </thead>\n",
       "  <tbody>\n",
       "    <tr>\n",
       "      <th rowspan=\"2\" valign=\"top\">j</th>\n",
       "      <th>f</th>\n",
       "      <th>0</th>\n",
       "      <td>221</td>\n",
       "      <td>7.0</td>\n",
       "      <td>102.0</td>\n",
       "      <td>66.0</td>\n",
       "      <td>11.00</td>\n",
       "      <td>63.914027</td>\n",
       "      <td>19.096569</td>\n",
       "    </tr>\n",
       "    <tr>\n",
       "      <th>m</th>\n",
       "      <th>0</th>\n",
       "      <td>214</td>\n",
       "      <td>7.0</td>\n",
       "      <td>125.0</td>\n",
       "      <td>76.0</td>\n",
       "      <td>13.00</td>\n",
       "      <td>72.929907</td>\n",
       "      <td>24.716035</td>\n",
       "    </tr>\n",
       "    <tr>\n",
       "      <th rowspan=\"2\" valign=\"top\">other</th>\n",
       "      <th>f</th>\n",
       "      <th>0</th>\n",
       "      <td>40</td>\n",
       "      <td>13.0</td>\n",
       "      <td>165.0</td>\n",
       "      <td>55.0</td>\n",
       "      <td>5.75</td>\n",
       "      <td>58.200000</td>\n",
       "      <td>29.722822</td>\n",
       "    </tr>\n",
       "    <tr>\n",
       "      <th>m</th>\n",
       "      <th>0</th>\n",
       "      <td>19</td>\n",
       "      <td>14.0</td>\n",
       "      <td>78.0</td>\n",
       "      <td>59.0</td>\n",
       "      <td>10.50</td>\n",
       "      <td>56.368421</td>\n",
       "      <td>15.553530</td>\n",
       "    </tr>\n",
       "    <tr>\n",
       "      <th rowspan=\"2\" valign=\"top\">v</th>\n",
       "      <th>f</th>\n",
       "      <th>0</th>\n",
       "      <td>59</td>\n",
       "      <td>10.0</td>\n",
       "      <td>63.0</td>\n",
       "      <td>49.0</td>\n",
       "      <td>5.75</td>\n",
       "      <td>46.559322</td>\n",
       "      <td>10.614355</td>\n",
       "    </tr>\n",
       "    <tr>\n",
       "      <th>m</th>\n",
       "      <th>0</th>\n",
       "      <td>85</td>\n",
       "      <td>12.0</td>\n",
       "      <td>68.0</td>\n",
       "      <td>49.0</td>\n",
       "      <td>7.00</td>\n",
       "      <td>45.352941</td>\n",
       "      <td>13.916166</td>\n",
       "    </tr>\n",
       "  </tbody>\n",
       "</table>\n",
       "</div>"
      ],
      "text/plain": [
       "                 n  minimum  maximum  median   siqr       mean      stdev\n",
       "species sex                                                              \n",
       "j       f   0  221      7.0    102.0    66.0  11.00  63.914027  19.096569\n",
       "        m   0  214      7.0    125.0    76.0  13.00  72.929907  24.716035\n",
       "other   f   0   40     13.0    165.0    55.0   5.75  58.200000  29.722822\n",
       "        m   0   19     14.0     78.0    59.0  10.50  56.368421  15.553530\n",
       "v       f   0   59     10.0     63.0    49.0   5.75  46.559322  10.614355\n",
       "        m   0   85     12.0     68.0    49.0   7.00  45.352941  13.916166"
      ]
     },
     "execution_count": 27,
     "metadata": {},
     "output_type": "execute_result"
    }
   ],
=======
   "execution_count": null,
   "metadata": {
    "scrolled": true
   },
   "outputs": [],
>>>>>>> dcf246b4afe37ef97be77537ce2cce1f5e03a67a:python notebooks/Descriptive Analyses of CC Data (2000-2017)-Overall.ipynb
   "source": [
    "print(\"tl values among autotomized lizards in the data set range from {} to {} for and are \\\n",
    "distributed across species and sex as displayed here:\"\\\n",
    "      .format(df_firstInYear.tl.min(), df_firstInYear.tl.max()))\n",
    "description(df_firstInYear.loc[df_firstInYear.autotomized==True],gvariables=['species','sex'],variable='tl')"
   ]
  },
  {
   "cell_type": "markdown",
   "metadata": {},
   "source": [
    "#### RTL\n",
    "\n",
    "Now we examine the range and distribution of RTL values by species.\n",
    "\n",
    "[Back to Morphometrics](#Morphometrics)\n"
   ]
  },
  {
   "cell_type": "markdown",
   "metadata": {},
   "source": [
    "We will use the [distribution](#distribution) function to do this and then plot these values.\n",
    "\n",
    "- [Histogram of RTL](#RTLhist)"
   ]
  },
  {
   "cell_type": "code",
<<<<<<< HEAD:python notebooks/Descriptive Analyses of CC Data (2000-2017)-Copy1.ipynb
   "execution_count": 28,
   "metadata": {
    "scrolled": true
   },
   "outputs": [
    {
     "name": "stdout",
     "output_type": "stream",
     "text": [
      "rtl values among autotomized lizards in the data set range from 0.0 to 75.0 for and are distributed across species and sex as displayed here:\n"
     ]
    },
    {
     "data": {
      "text/html": [
       "<div>\n",
       "<style scoped>\n",
       "    .dataframe tbody tr th:only-of-type {\n",
       "        vertical-align: middle;\n",
       "    }\n",
       "\n",
       "    .dataframe tbody tr th {\n",
       "        vertical-align: top;\n",
       "    }\n",
       "\n",
       "    .dataframe thead th {\n",
       "        text-align: right;\n",
       "    }\n",
       "</style>\n",
       "<table border=\"1\" class=\"dataframe\">\n",
       "  <thead>\n",
       "    <tr style=\"text-align: right;\">\n",
       "      <th></th>\n",
       "      <th></th>\n",
       "      <th></th>\n",
       "      <th>n</th>\n",
       "      <th>minimum</th>\n",
       "      <th>maximum</th>\n",
       "      <th>median</th>\n",
       "      <th>siqr</th>\n",
       "      <th>mean</th>\n",
       "      <th>stdev</th>\n",
       "    </tr>\n",
       "    <tr>\n",
       "      <th>species</th>\n",
       "      <th>sex</th>\n",
       "      <th></th>\n",
       "      <th></th>\n",
       "      <th></th>\n",
       "      <th></th>\n",
       "      <th></th>\n",
       "      <th></th>\n",
       "      <th></th>\n",
       "      <th></th>\n",
       "    </tr>\n",
       "  </thead>\n",
       "  <tbody>\n",
       "    <tr>\n",
       "      <th rowspan=\"2\" valign=\"top\">j</th>\n",
       "      <th>f</th>\n",
       "      <th>0</th>\n",
       "      <td>221</td>\n",
       "      <td>0.0</td>\n",
       "      <td>58.0</td>\n",
       "      <td>18.0</td>\n",
       "      <td>14.500</td>\n",
       "      <td>19.113122</td>\n",
       "      <td>15.872242</td>\n",
       "    </tr>\n",
       "    <tr>\n",
       "      <th>m</th>\n",
       "      <th>0</th>\n",
       "      <td>214</td>\n",
       "      <td>0.0</td>\n",
       "      <td>60.0</td>\n",
       "      <td>18.5</td>\n",
       "      <td>15.000</td>\n",
       "      <td>19.883178</td>\n",
       "      <td>16.924866</td>\n",
       "    </tr>\n",
       "    <tr>\n",
       "      <th rowspan=\"2\" valign=\"top\">other</th>\n",
       "      <th>f</th>\n",
       "      <th>0</th>\n",
       "      <td>40</td>\n",
       "      <td>0.0</td>\n",
       "      <td>75.0</td>\n",
       "      <td>19.0</td>\n",
       "      <td>15.125</td>\n",
       "      <td>21.725000</td>\n",
       "      <td>18.905958</td>\n",
       "    </tr>\n",
       "    <tr>\n",
       "      <th>m</th>\n",
       "      <th>0</th>\n",
       "      <td>19</td>\n",
       "      <td>4.0</td>\n",
       "      <td>45.0</td>\n",
       "      <td>26.0</td>\n",
       "      <td>10.250</td>\n",
       "      <td>26.000000</td>\n",
       "      <td>13.042665</td>\n",
       "    </tr>\n",
       "    <tr>\n",
       "      <th rowspan=\"2\" valign=\"top\">v</th>\n",
       "      <th>f</th>\n",
       "      <th>0</th>\n",
       "      <td>59</td>\n",
       "      <td>0.0</td>\n",
       "      <td>39.0</td>\n",
       "      <td>26.0</td>\n",
       "      <td>13.250</td>\n",
       "      <td>20.491525</td>\n",
       "      <td>13.369256</td>\n",
       "    </tr>\n",
       "    <tr>\n",
       "      <th>m</th>\n",
       "      <th>0</th>\n",
       "      <td>85</td>\n",
       "      <td>0.0</td>\n",
       "      <td>39.0</td>\n",
       "      <td>17.0</td>\n",
       "      <td>11.000</td>\n",
       "      <td>17.670588</td>\n",
       "      <td>12.746977</td>\n",
       "    </tr>\n",
       "  </tbody>\n",
       "</table>\n",
       "</div>"
      ],
      "text/plain": [
       "                 n  minimum  maximum  median    siqr       mean      stdev\n",
       "species sex                                                               \n",
       "j       f   0  221      0.0     58.0    18.0  14.500  19.113122  15.872242\n",
       "        m   0  214      0.0     60.0    18.5  15.000  19.883178  16.924866\n",
       "other   f   0   40      0.0     75.0    19.0  15.125  21.725000  18.905958\n",
       "        m   0   19      4.0     45.0    26.0  10.250  26.000000  13.042665\n",
       "v       f   0   59      0.0     39.0    26.0  13.250  20.491525  13.369256\n",
       "        m   0   85      0.0     39.0    17.0  11.000  17.670588  12.746977"
      ]
     },
     "execution_count": 28,
     "metadata": {},
     "output_type": "execute_result"
    }
   ],
=======
   "execution_count": null,
   "metadata": {
    "scrolled": true
   },
   "outputs": [],
   "source": [
    "print(\"rtl values among autotomized lizards in the data set range from {} to {} for and are \\\n",
    "distributed across species and sex as displayed here:\"\\\n",
    "      .format(df_firstInYear.rtl.min(), df_firstInYear.rtl.max()))\n",
    "description(df_firstInYear.loc[df_firstInYear.autotomized==True],gvariables=['species','sex'],variable='rtl')"
   ]
  },
  {
   "cell_type": "markdown",
   "metadata": {},
   "source": [
    "#### Mass\n",
    "\n",
    "Now we examine the range and distribution of mass values by species.\n",
    "\n",
    "[Back to Morphometrics](#Morphometrics)\n"
   ]
  },
  {
   "cell_type": "markdown",
   "metadata": {},
>>>>>>> dcf246b4afe37ef97be77537ce2cce1f5e03a67a:python notebooks/Descriptive Analyses of CC Data (2000-2017)-Overall.ipynb
   "source": [
    "We will use the [distribution](#distribution) function to do this and then plot these values.\n",
    "\n",
    "- [Histogram of mass](#masshist)"
   ]
  },
  {
   "cell_type": "code",
   "execution_count": null,
   "metadata": {
    "scrolled": true
   },
   "outputs": [],
   "source": [
    "print(\"Mass values among autotomized lizards in the data set range from {} to {} for and are \\\n",
    "distributed across species and sex as displayed here:\"\\\n",
    "      .format(df_firstInYear.mass.min(), df_firstInYear.mass.max()))\n",
    "description(df_firstInYear,gvariables=['species','sex'],variable='mass')"
   ]
  },
  {
   "cell_type": "markdown",
   "metadata": {},
   "source": [
    "## Captures\n",
    "\n",
    "[Back to Top](#Table-of-Contents)\n",
    "\n",
    "[Back to Analyze Data](#Analyze-Data)"
   ]
  },
  {
   "cell_type": "markdown",
   "metadata": {},
   "source": [
    "Let's take a look at the number of times that lizards have been captured.  To do this, we will group lizards by lizard number and then look at the maximum number of captures for each lizard and finally count the number of lizards that have a given number of captures.  We will use all captures for this"
   ]
  },
  {
   "cell_type": "code",
<<<<<<< HEAD:python notebooks/Descriptive Analyses of CC Data (2000-2017)-Copy1.ipynb
   "execution_count": 29,
   "metadata": {
    "scrolled": true
   },
   "outputs": [
    {
     "name": "stdout",
     "output_type": "stream",
     "text": [
      "The maximum number of captures among lizards in the data set range from 1.0 to 18.0 for and are distributed across species and sex as displayed here:\n"
     ]
    },
    {
     "data": {
      "text/html": [
       "<div>\n",
       "<style scoped>\n",
       "    .dataframe tbody tr th:only-of-type {\n",
       "        vertical-align: middle;\n",
       "    }\n",
       "\n",
       "    .dataframe tbody tr th {\n",
       "        vertical-align: top;\n",
       "    }\n",
       "\n",
       "    .dataframe thead th {\n",
       "        text-align: right;\n",
       "    }\n",
       "</style>\n",
       "<table border=\"1\" class=\"dataframe\">\n",
       "  <thead>\n",
       "    <tr style=\"text-align: right;\">\n",
       "      <th></th>\n",
       "      <th></th>\n",
       "      <th></th>\n",
       "      <th>n</th>\n",
       "      <th>minimum</th>\n",
       "      <th>maximum</th>\n",
       "      <th>median</th>\n",
       "      <th>siqr</th>\n",
       "      <th>mean</th>\n",
       "      <th>stdev</th>\n",
       "    </tr>\n",
       "    <tr>\n",
       "      <th>species</th>\n",
       "      <th>sex</th>\n",
       "      <th></th>\n",
       "      <th></th>\n",
       "      <th></th>\n",
       "      <th></th>\n",
       "      <th></th>\n",
       "      <th></th>\n",
       "      <th></th>\n",
       "      <th></th>\n",
       "    </tr>\n",
       "  </thead>\n",
       "  <tbody>\n",
       "    <tr>\n",
       "      <th rowspan=\"2\" valign=\"top\">j</th>\n",
       "      <th>f</th>\n",
       "      <th>0</th>\n",
       "      <td>221</td>\n",
       "      <td>1.0</td>\n",
       "      <td>18.0</td>\n",
       "      <td>1.0</td>\n",
       "      <td>0.50</td>\n",
       "      <td>1.642534</td>\n",
       "      <td>1.490516</td>\n",
       "    </tr>\n",
       "    <tr>\n",
       "      <th>m</th>\n",
       "      <th>0</th>\n",
       "      <td>214</td>\n",
       "      <td>1.0</td>\n",
       "      <td>6.0</td>\n",
       "      <td>1.0</td>\n",
       "      <td>0.50</td>\n",
       "      <td>1.420561</td>\n",
       "      <td>0.811159</td>\n",
       "    </tr>\n",
       "    <tr>\n",
       "      <th rowspan=\"2\" valign=\"top\">other</th>\n",
       "      <th>f</th>\n",
       "      <th>0</th>\n",
       "      <td>40</td>\n",
       "      <td>1.0</td>\n",
       "      <td>3.0</td>\n",
       "      <td>1.0</td>\n",
       "      <td>0.50</td>\n",
       "      <td>1.450000</td>\n",
       "      <td>0.677476</td>\n",
       "    </tr>\n",
       "    <tr>\n",
       "      <th>m</th>\n",
       "      <th>0</th>\n",
       "      <td>19</td>\n",
       "      <td>1.0</td>\n",
       "      <td>2.0</td>\n",
       "      <td>1.0</td>\n",
       "      <td>0.00</td>\n",
       "      <td>1.052632</td>\n",
       "      <td>0.229416</td>\n",
       "    </tr>\n",
       "    <tr>\n",
       "      <th rowspan=\"2\" valign=\"top\">v</th>\n",
       "      <th>f</th>\n",
       "      <th>0</th>\n",
       "      <td>59</td>\n",
       "      <td>1.0</td>\n",
       "      <td>5.0</td>\n",
       "      <td>1.0</td>\n",
       "      <td>0.25</td>\n",
       "      <td>1.474576</td>\n",
       "      <td>0.988833</td>\n",
       "    </tr>\n",
       "    <tr>\n",
       "      <th>m</th>\n",
       "      <th>0</th>\n",
       "      <td>85</td>\n",
       "      <td>1.0</td>\n",
       "      <td>7.0</td>\n",
       "      <td>1.0</td>\n",
       "      <td>0.00</td>\n",
       "      <td>1.411765</td>\n",
       "      <td>0.967251</td>\n",
       "    </tr>\n",
       "  </tbody>\n",
       "</table>\n",
       "</div>"
      ],
      "text/plain": [
       "                 n  minimum  maximum  median  siqr      mean     stdev\n",
       "species sex                                                           \n",
       "j       f   0  221      1.0     18.0     1.0  0.50  1.642534  1.490516\n",
       "        m   0  214      1.0      6.0     1.0  0.50  1.420561  0.811159\n",
       "other   f   0   40      1.0      3.0     1.0  0.50  1.450000  0.677476\n",
       "        m   0   19      1.0      2.0     1.0  0.00  1.052632  0.229416\n",
       "v       f   0   59      1.0      5.0     1.0  0.25  1.474576  0.988833\n",
       "        m   0   85      1.0      7.0     1.0  0.00  1.411765  0.967251"
      ]
     },
     "execution_count": 29,
     "metadata": {},
     "output_type": "execute_result"
    }
   ],
=======
   "execution_count": null,
   "metadata": {
    "scrolled": true
   },
   "outputs": [],
>>>>>>> dcf246b4afe37ef97be77537ce2cce1f5e03a67a:python notebooks/Descriptive Analyses of CC Data (2000-2017)-Overall.ipynb
   "source": [
    "print(\"The maximum number of captures among lizards in the data set range from {} to {} for and are \\\n",
    "distributed across species and sex as displayed here:\"\\\n",
    "      .format(df_firstInYear.groupby('liznumber').capture.max().min(), df_firstInYear.groupby('liznumber').capture.max().max()))\n",
    "description(df_firstInYear,gvariables=['species','sex'],variable='capture')"
   ]
  },
  {
   "cell_type": "markdown",
   "metadata": {},
   "source": [
    "## Years\n",
    "\n",
    "[Back to Top](#Table-of-Contents)\n",
    "\n",
    "[Back to Analyze Data](#Analyze-Data)"
   ]
  },
  {
   "cell_type": "markdown",
   "metadata": {},
   "source": [
    "Let's take a look at the number of years over which that lizards have been captured.  To do this, we will group lizards by lizard number and then look at the maximum number of years over which each lizard was captures and finally count the number of lizards that have a given number of years over which they were captured.  We will use all captures for this."
   ]
  },
  {
   "cell_type": "code",
<<<<<<< HEAD:python notebooks/Descriptive Analyses of CC Data (2000-2017)-Copy1.ipynb
   "execution_count": 30,
   "metadata": {},
   "outputs": [
    {
     "data": {
      "text/html": [
       "<iframe id=\"igraph\" scrolling=\"no\" style=\"border:none;\" seamless=\"seamless\" src=\"https://plot.ly/~cragard/109.embed\" height=\"525px\" width=\"100%\"></iframe>"
      ],
      "text/plain": [
       "<plotly.tools.PlotlyDisplay object>"
      ]
     },
     "execution_count": 30,
     "metadata": {},
     "output_type": "execute_result"
    }
   ],
=======
   "execution_count": null,
   "metadata": {},
   "outputs": [],
   "source": [
    "(df_firstInYear.groupby('liznumber').year_diff.max()+1).value_counts(normalize=True).reset_index()\\\n",
    ".rename(columns={'index':'year_diff','year_diff':'count'}).sort_values('year_diff')"
   ]
  },
  {
   "cell_type": "code",
   "execution_count": null,
   "metadata": {
    "scrolled": true
   },
   "outputs": [],
   "source": [
    "print(\"The maximum number of years over which lizards were capured among lizards in the data set range from {} to {}\\\n",
    "for and are distributed across species and sex as displayed here:\"\\\n",
    "      .format(df_firstInYear.groupby('liznumber').year_diff.max().min()+1, \n",
    "              df_firstInYear.groupby('liznumber').year_diff.max().max()+1))\n",
    "description(df_firstInYear,gvariables=['species','sex'],variable='year_diff')"
   ]
  },
  {
   "cell_type": "code",
   "execution_count": null,
   "metadata": {},
   "outputs": [],
>>>>>>> dcf246b4afe37ef97be77537ce2cce1f5e03a67a:python notebooks/Descriptive Analyses of CC Data (2000-2017)-Overall.ipynb
   "source": [
    "Sj = go.Histogram(x = df_firstInYear.loc[(df_firstInYear.species=='j')].groupby('liznumber').capture.max(),name='Sj')\n",
    "Sv = go.Histogram(x = df_firstInYear.loc[(df_firstInYear.species=='v')].groupby('liznumber').capture.max(),name='Sv')\n",
    "\n",
    "data = [Sj,Sv]\n",
    "layout = go.Layout(\n",
    "    title = 'Histogram of Maximum Number of Captures for CC 2000-2017',\n",
    "    titlefont = dict(\n",
    "        size = 20),\n",
    "    xaxis = dict(\n",
    "        dtick = 1,\n",
    "        title = 'Maximum Number of Captures',\n",
    "        titlefont = dict(\n",
    "            size = 18)),\n",
    "    yaxis = dict(\n",
    "        title = 'Number of Unique Lizards',\n",
    "        titlefont = dict(\n",
    "            size = 18)))\n",
    "\n",
    "fig = go.Figure(\n",
    "        data = data,\n",
    "        layout = layout)\n",
    "iplot(fig, filename = 'Histogram of Maximum Number of Captures for CC 2000-2017.html')\n",
    "plot(fig, filename = 'Histogram of Maximum Number of Captures for CC 2000-2017.html')"
   ]
  },
  {
   "cell_type": "code",
<<<<<<< HEAD:python notebooks/Descriptive Analyses of CC Data (2000-2017)-Copy1.ipynb
   "execution_count": 31,
   "metadata": {},
   "outputs": [
    {
     "data": {
      "text/html": [
       "<iframe id=\"igraph\" scrolling=\"no\" style=\"border:none;\" seamless=\"seamless\" src=\"https://plot.ly/~cragard/118.embed\" height=\"525px\" width=\"100%\"></iframe>"
      ],
      "text/plain": [
       "<plotly.tools.PlotlyDisplay object>"
      ]
     },
     "execution_count": 31,
     "metadata": {},
     "output_type": "execute_result"
    }
   ],
=======
   "execution_count": null,
   "metadata": {},
   "outputs": [],
   "source": [
    "# drop this fig"
   ]
  },
  {
   "cell_type": "code",
   "execution_count": null,
   "metadata": {},
   "outputs": [],
>>>>>>> dcf246b4afe37ef97be77537ce2cce1f5e03a67a:python notebooks/Descriptive Analyses of CC Data (2000-2017)-Overall.ipynb
   "source": [
    "SjIntact = go.Histogram(x = df_firstInYear.loc[(df_firstInYear.species=='j')&(df_firstInYear.autotomized==False)]\\\n",
    "                  .groupby('liznumber').capture.max(),name='Sj-Intact')\n",
    "SvIntact = go.Histogram(x = df_firstInYear.loc[(df_firstInYear.species=='v')&(df_firstInYear.autotomized==False)]\\\n",
    "                  .groupby('liznumber').capture.max(),name='Sv-Intact')\n",
    "SjAut = go.Histogram(x = df_firstInYear.loc[(df_firstInYear.species=='j')&(df_firstInYear.autotomized==True)]\\\n",
    "                  .groupby('liznumber').capture.max(),name='Sj-Autotomized')\n",
    "SvAut = go.Histogram(x = df_firstInYear.loc[(df_firstInYear.species=='v')&(df_firstInYear.autotomized==True)]\\\n",
    "                  .groupby('liznumber').capture.max(),name='Sv-Autotomized')\n",
    "data = [SjIntact,SvIntact,SjAut,SvAut]\n",
    "layout = go.Layout(\n",
    "    title = 'Histogram of Maximum Number of Captures for CC 2000-2017 by Autotomy Status',\n",
    "    titlefont = dict(\n",
    "        size = 20),\n",
    "    xaxis = dict(\n",
    "        dtick = 1,\n",
    "        title = 'Maximum Number of Captures',\n",
    "        titlefont = dict(\n",
    "            size = 18)),\n",
    "    yaxis = dict(\n",
    "        title = 'Number of Unique Lizards',\n",
    "        titlefont = dict(\n",
    "            size = 18)))\n",
    "\n",
    "fig = go.Figure(\n",
    "        data = data,\n",
    "        layout = layout)\n",
    "py.iplot(fig, filename = 'Histogram of Maximum Number of Captures for CC 2000-2017 by Autotomy Status')"
   ]
  },
  {
   "cell_type": "markdown",
   "metadata": {},
   "source": [
    "### Number of lizards (*Sj*) by year and sex"
   ]
  },
  {
   "cell_type": "code",
<<<<<<< HEAD:python notebooks/Descriptive Analyses of CC Data (2000-2017)-Copy1.ipynb
   "execution_count": 32,
   "metadata": {},
   "outputs": [
    {
     "data": {
      "text/plain": [
       "year    sex\n",
       "2000.0  f       84\n",
       "        m       69\n",
       "2001.0  f       72\n",
       "        m       64\n",
       "2002.0  f      117\n",
       "        m      101\n",
       "2003.0  f      108\n",
       "        m       88\n",
       "2004.0  f       82\n",
       "        m       68\n",
       "2005.0  m       90\n",
       "        f       69\n",
       "2006.0  m       83\n",
       "        f       65\n",
       "2007.0  f       82\n",
       "        m       66\n",
       "2008.0  f       67\n",
       "        m       57\n",
       "2009.0  f       83\n",
       "        m       72\n",
       "2010.0  m       43\n",
       "        f       40\n",
       "2011.0  f       36\n",
       "        m       28\n",
       "2012.0  f       47\n",
       "        m       35\n",
       "2013.0  f       51\n",
       "        m       46\n",
       "2014.0  f       58\n",
       "        m       50\n",
       "2015.0  f       81\n",
       "        m       79\n",
       "2016.0  m       58\n",
       "        f       49\n",
       "2017.0  f       59\n",
       "        m       45\n",
       "Name: sex, dtype: int64"
      ]
     },
     "execution_count": 32,
     "metadata": {},
     "output_type": "execute_result"
    }
   ],
=======
   "execution_count": null,
   "metadata": {},
   "outputs": [],
>>>>>>> dcf246b4afe37ef97be77537ce2cce1f5e03a67a:python notebooks/Descriptive Analyses of CC Data (2000-2017)-Overall.ipynb
   "source": [
    "df_firstInYear.groupby('year').sex.value_counts()"
   ]
  },
  {
   "cell_type": "markdown",
   "metadata": {
    "scrolled": true
   },
   "source": [
    "Pull out all individuals that we've recaught for Sj and writes to csv"
   ]
  },
  {
   "cell_type": "code",
<<<<<<< HEAD:python notebooks/Descriptive Analyses of CC Data (2000-2017)-Copy1.ipynb
   "execution_count": 33,
   "metadata": {
    "scrolled": true
   },
   "outputs": [
    {
     "data": {
      "text/plain": [
       "760"
      ]
     },
     "execution_count": 33,
     "metadata": {},
     "output_type": "execute_result"
    }
   ],
=======
   "execution_count": null,
   "metadata": {
    "scrolled": true
   },
   "outputs": [],
>>>>>>> dcf246b4afe37ef97be77537ce2cce1f5e03a67a:python notebooks/Descriptive Analyses of CC Data (2000-2017)-Overall.ipynb
   "source": [
    "multicapToes=df_firstInYear.loc[(df_firstInYear.species=='j')& (df_firstInYear.toes!=\"\")& (df_firstInYear.toes!='NA')]\\\n",
    ".toes.value_counts()[df_firstInYear.loc[df_firstInYear.species=='j']\\\n",
    "                     .toes.value_counts()>1].index.tolist()\n",
    "df_firstInYear.loc[df_firstInYear.toes.isin(multicapToes)].sort_values(by=['toes','date']).shape[0]\n",
    "# df_firstInYear.loc[df_firstInYear.toes.isin(multicapToes)].sort_values(by=['toes','date']).to_csv('multicaps.csv')\n",
    "# multicapToes"
   ]
  },
  {
   "cell_type": "markdown",
   "metadata": {},
   "source": [
    "### Maximum Number of Captures based on Tail condition\n",
    " - match for species, sex, size and location"
   ]
  },
  {
   "cell_type": "code",
<<<<<<< HEAD:python notebooks/Descriptive Analyses of CC Data (2000-2017)-Copy1.ipynb
   "execution_count": 34,
   "metadata": {},
   "outputs": [
    {
     "data": {
      "text/html": [
       "<iframe id=\"igraph\" scrolling=\"no\" style=\"border:none;\" seamless=\"seamless\" src=\"https://plot.ly/~cragard/103.embed\" height=\"525px\" width=\"100%\"></iframe>"
      ],
      "text/plain": [
       "<plotly.tools.PlotlyDisplay object>"
      ]
     },
     "execution_count": 34,
     "metadata": {},
     "output_type": "execute_result"
    }
   ],
=======
   "execution_count": null,
   "metadata": {},
   "outputs": [],
>>>>>>> dcf246b4afe37ef97be77537ce2cce1f5e03a67a:python notebooks/Descriptive Analyses of CC Data (2000-2017)-Overall.ipynb
   "source": [
    "#separate species\n",
    "dfF = df_firstInYear.loc[df_firstInYear.sex =='f']\n",
    "dfM = df_firstInYear.loc[df_firstInYear.sex =='m']\n",
    "\n",
    "females = go.Histogram(x = dfF.groupby('liznumber').capture.max(),name='females')\n",
    "males = go.Histogram(x = dfM.groupby('liznumber').capture.max(),name='males')\n",
    "\n",
    "data = [males,females]\n",
    "layout = go.Layout(\n",
    "    title = 'Maximum Number of Captures per Individual 2000-2017',\n",
    "    titlefont = dict(\n",
    "        size = 20),\n",
    "    xaxis = dict(\n",
    "        dtick = 1,\n",
    "        title = 'Maximum Number of Captures',\n",
    "        titlefont = dict(\n",
    "            size = 18)),\n",
    "    yaxis = dict(\n",
    "        title = 'Number of Lizards',\n",
    "        titlefont = dict(\n",
    "            size = 18)))\n",
    "\n",
    "fig = go.Figure(\n",
    "        data = data,\n",
    "        layout = layout)\n",
    "py.iplot(fig, filename = 'Histogram of Maximum Captures per Individual in Crystal Creek 2000 - 2017')"
   ]
  },
  {
   "cell_type": "code",
<<<<<<< HEAD:python notebooks/Descriptive Analyses of CC Data (2000-2017)-Copy1.ipynb
   "execution_count": 35,
   "metadata": {},
   "outputs": [
    {
     "data": {
      "text/html": [
       "<iframe id=\"igraph\" scrolling=\"no\" style=\"border:none;\" seamless=\"seamless\" src=\"https://plot.ly/~cragard/122.embed\" height=\"525px\" width=\"100%\"></iframe>"
      ],
      "text/plain": [
       "<plotly.tools.PlotlyDisplay object>"
      ]
     },
     "execution_count": 35,
     "metadata": {},
     "output_type": "execute_result"
    }
   ],
=======
   "execution_count": null,
   "metadata": {},
   "outputs": [],
   "source": [
    "#Drop this"
   ]
  },
  {
   "cell_type": "code",
   "execution_count": null,
   "metadata": {},
   "outputs": [],
>>>>>>> dcf246b4afe37ef97be77537ce2cce1f5e03a67a:python notebooks/Descriptive Analyses of CC Data (2000-2017)-Overall.ipynb
   "source": [
    "SjFemales = go.Histogram(x = df_firstInYear.loc[(df_firstInYear.sex =='f')&(df_firstInYear.species=='j')]\\\n",
    "                       .groupby('liznumber').capture.max(),name='Sj-females')\n",
    "SjMales = go.Histogram(x = df_firstInYear.loc[(df_firstInYear.sex =='m')&(df_firstInYear.species=='j')]\\\n",
    "                     .groupby('liznumber').capture.max(),name='Sj-males')\n",
    "SvFemales = go.Histogram(x = df_firstInYear.loc[(df_firstInYear.sex =='f')&(df_firstInYear.species=='v')]\\\n",
    "                       .groupby('liznumber').capture.max(),name='Sv-females')\n",
    "SvMales = go.Histogram(x = df_firstInYear.loc[(df_firstInYear.sex =='m')&(df_firstInYear.species=='v')]\\\n",
    "                     .groupby('liznumber').capture.max(),name='Sv-males')\n",
    "\n",
    "data = [SjMales,SjFemales,SvMales,SvFemales]\n",
    "layout = go.Layout(\n",
    "    title = 'Maximum Number of Captures per Individual 2000-2017 by sex and species',\n",
    "    titlefont = dict(\n",
    "        size = 20),\n",
    "    xaxis = dict(\n",
    "        dtick = 1,\n",
    "        title = 'Maximum Number of Captures',\n",
    "        titlefont = dict(\n",
    "            size = 18)),\n",
    "    yaxis = dict(\n",
    "        title = 'Number of Lizards',\n",
    "        titlefont = dict(\n",
    "            size = 18)))\n",
    "\n",
    "fig = go.Figure(\n",
    "        data = data,\n",
    "        layout = layout)\n",
    "py.iplot(fig, filename = 'Histogram of Maximum Captures per Individual in Crystal Creek 2000 - 2017 by sex and species')"
   ]
  },
  {
   "cell_type": "markdown",
   "metadata": {},
   "source": []
  },
  {
   "cell_type": "markdown",
   "metadata": {},
   "source": [
    "## Growth\n",
    "\n",
    "- [SVL Growth](#SVL-Growth)\n",
    "- [TL Growth](#TL-Growth)\n",
    "- [RTL Growth](#RTL-Growth)\n",
    "- [Mass Growth](#Mass-Growth)\n",
    "\n",
    "[Back to Top](#Table-of-Contents)\n",
    "\n",
    "[Back to Analyze Data](#Analyze-Data)"
   ]
  },
  {
   "cell_type": "markdown",
   "metadata": {},
   "source": [
    "Let's take a look at the number of times that lizards have been captured.  To do this, we will group lizards by lizard number and then look at the maximum number of captures for each lizard and finally count the number of lizards that have a given number of captures."
   ]
  },
  {
   "cell_type": "markdown",
   "metadata": {},
   "source": [
    "### SVL Growth\n",
    "\n",
    "[Back to Top](#Table-of-Contents)\n",
    "\n",
    "[Back to Analyze Data](#Analyze-Data)"
   ]
  },
  {
   "cell_type": "markdown",
   "metadata": {},
   "source": [
    "What is the body size growth rate?"
   ]
  },
  {
   "cell_type": "markdown",
   "metadata": {},
   "source": [
    "### TL Growth\n",
    "\n",
    "[Back to Top](#Table-of-Contents)\n",
    "\n",
    "[Back to Analyze Data](#Analyze-Data)"
   ]
  },
  {
   "cell_type": "markdown",
   "metadata": {},
   "source": [
    "What is the tail size growth rate?"
   ]
  },
  {
   "cell_type": "markdown",
   "metadata": {},
   "source": [
    "### RTL Growth\n",
    "\n",
    "[Back to Top](#Table-of-Contents)\n",
    "\n",
    "[Back to Analyze Data](#Analyze-Data)"
   ]
  },
  {
   "cell_type": "markdown",
   "metadata": {},
   "source": [
    "What is the regrown tail size growth rate?"
   ]
  },
  {
   "cell_type": "markdown",
   "metadata": {},
   "source": [
    "### Mass Growth\n",
    "\n",
    "[Back to Top](#Table-of-Contents)\n",
    "\n",
    "[Back to Analyze Data](#Analyze-Data)"
   ]
  },
  {
   "cell_type": "markdown",
   "metadata": {},
   "source": [
    "What is the body size growth rate in terms of MAss?"
   ]
  },
  {
   "cell_type": "code",
   "execution_count": 36,
   "metadata": {},
   "outputs": [
    {
     "data": {
      "text/plain": [
       "1     1863\n",
       "2      533\n",
       "3      209\n",
       "4       85\n",
       "5       38\n",
       "6       15\n",
       "7        8\n",
       "8        4\n",
       "14       1\n",
       "10       1\n",
       "12       1\n",
       "17       1\n",
       "16       1\n",
       "15       1\n",
       "9        1\n",
       "11       1\n",
       "13       1\n",
       "18       1\n",
       "Name: capture, dtype: int64"
      ]
     },
     "execution_count": 36,
     "metadata": {},
     "output_type": "execute_result"
    }
   ],
   "source": [
    "df.capture.value_counts()"
   ]
  },
  {
   "cell_type": "markdown",
   "metadata": {},
   "source": [
    "## Export Files\n",
    "[Back to Top](#Table-of-Contents)\n",
    "\n",
    "[Back to Analyze Data](#Analyze-Data)"
   ]
  },
  {
   "cell_type": "code",
   "execution_count": null,
   "metadata": {},
   "outputs": [],
   "source": []
  }
 ],
 "metadata": {
  "kernelspec": {
   "display_name": "Python 3",
   "language": "python",
   "name": "python3"
  },
  "language_info": {
   "codemirror_mode": {
    "name": "ipython",
    "version": 3
   },
   "file_extension": ".py",
   "mimetype": "text/x-python",
   "name": "python",
   "nbconvert_exporter": "python",
   "pygments_lexer": "ipython3",
   "version": "3.6.5"
  }
 },
 "nbformat": 4,
 "nbformat_minor": 2
}
