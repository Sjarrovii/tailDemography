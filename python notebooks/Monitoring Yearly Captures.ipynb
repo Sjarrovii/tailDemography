{
 "cells": [
  {
   "cell_type": "markdown",
   "metadata": {},
   "source": [
    "# Table of Contents\n",
    "1. [Introduction](#Introduction)\n",
    "1. [Set Up Python](#Set-Up-Python)\n",
    "1. [Getting Data](#Getting-Data)\n",
    "1. [Descriptive Stats](#Descriptive-Stats)\n",
    "1. [Graphs](#Graphs)\n",
    "    1. [_Sceloporus jarrovii_](#Sceloporus-jarrovii)\n",
    "    2. [_Sceloporus virgatus_](#Sceloporus-virgatus)\n",
    "    3. [_Urosaurus ornatus_](#Urosaurus-ornatus)"
   ]
  },
  {
   "cell_type": "markdown",
   "metadata": {},
   "source": [
    "# Introduction\n",
    "[Table of Contents](#Table-of-Contents)"
   ]
  },
  {
   "cell_type": "markdown",
   "metadata": {},
   "source": [
    "# Set Up Python\n",
    "[Table of Contents](#Table-of-Contents)"
   ]
  },
  {
   "cell_type": "code",
   "execution_count": 1,
   "metadata": {},
   "outputs": [
    {
     "data": {
      "text/html": [
       "        <script type=\"text/javascript\">\n",
       "        window.PlotlyConfig = {MathJaxConfig: 'local'};\n",
       "        if (window.MathJax) {MathJax.Hub.Config({SVG: {font: \"STIX-Web\"}});}\n",
       "        if (typeof require !== 'undefined') {\n",
       "        require.undef(\"plotly\");\n",
       "        requirejs.config({\n",
       "            paths: {\n",
       "                'plotly': ['https://cdn.plot.ly/plotly-latest.min']\n",
       "            }\n",
       "        });\n",
       "        require(['plotly'], function(Plotly) {\n",
       "            window._Plotly = Plotly;\n",
       "        });\n",
       "        }\n",
       "        </script>\n",
       "        "
      ]
     },
     "metadata": {},
     "output_type": "display_data"
    }
   ],
   "source": [
    "import pandas as pd\n",
    "import os,glob,time\n",
    "import plotly\n",
    "import plotly.plotly as py\n",
    "import plotly.graph_objs as go\n",
    "import plotly.io as pio\n",
    "from plotly.offline import download_plotlyjs, init_notebook_mode, plot, iplot\n",
    "init_notebook_mode(connected=True)\n",
    "plotly.tools.set_config_file(world_readable=True)\n",
    "\n",
    "pd.options.display.max_rows = 99999\n",
    "pd.options.display.max_columns = 50"
   ]
  },
  {
   "cell_type": "markdown",
   "metadata": {},
   "source": [
    "# Getting Data\n",
    "[Table of Contents](#Table-of-Contents)"
   ]
  },
  {
   "cell_type": "code",
   "execution_count": 2,
   "metadata": {},
   "outputs": [
    {
     "data": {
      "text/html": [
       "<div>\n",
       "<style scoped>\n",
       "    .dataframe tbody tr th:only-of-type {\n",
       "        vertical-align: middle;\n",
       "    }\n",
       "\n",
       "    .dataframe tbody tr th {\n",
       "        vertical-align: top;\n",
       "    }\n",
       "\n",
       "    .dataframe thead th {\n",
       "        text-align: right;\n",
       "    }\n",
       "</style>\n",
       "<table border=\"1\" class=\"dataframe\">\n",
       "  <thead>\n",
       "    <tr style=\"text-align: right;\">\n",
       "      <th></th>\n",
       "      <th>Species</th>\n",
       "      <th>Toes</th>\n",
       "      <th>Date</th>\n",
       "      <th>Sex</th>\n",
       "      <th>SVL</th>\n",
       "      <th>TL</th>\n",
       "      <th>RTL</th>\n",
       "      <th>Autotomized</th>\n",
       "      <th>Mass</th>\n",
       "      <th>Paint Mark</th>\n",
       "      <th>Location</th>\n",
       "      <th>Meters</th>\n",
       "      <th>New/Recap</th>\n",
       "      <th>Painted</th>\n",
       "      <th>Sighting</th>\n",
       "      <th>Misc.</th>\n",
       "      <th>Vial</th>\n",
       "      <th>Time</th>\n",
       "      <th>Click Video</th>\n",
       "    </tr>\n",
       "  </thead>\n",
       "  <tbody>\n",
       "    <tr>\n",
       "      <th>0</th>\n",
       "      <td>NaN</td>\n",
       "      <td>NaN</td>\n",
       "      <td>2019-06-14</td>\n",
       "      <td>NaN</td>\n",
       "      <td>NaN</td>\n",
       "      <td>NaN</td>\n",
       "      <td>NaN</td>\n",
       "      <td>NaN</td>\n",
       "      <td>NaN</td>\n",
       "      <td>NaN</td>\n",
       "      <td>bottom of site</td>\n",
       "      <td>NaN</td>\n",
       "      <td>NaN</td>\n",
       "      <td>NaN</td>\n",
       "      <td>NaN</td>\n",
       "      <td>IN: 0928; w=0.8; t=23.4; h=21.3; clear, breezy...</td>\n",
       "      <td>NaN</td>\n",
       "      <td>928.0</td>\n",
       "      <td>NaN</td>\n",
       "    </tr>\n",
       "    <tr>\n",
       "      <th>1</th>\n",
       "      <td>Sj</td>\n",
       "      <td>10-18</td>\n",
       "      <td>2019-06-14</td>\n",
       "      <td>f</td>\n",
       "      <td>75.0</td>\n",
       "      <td>77.0</td>\n",
       "      <td>20.0</td>\n",
       "      <td>1.0</td>\n",
       "      <td>11.5</td>\n",
       "      <td>w2b50c..t</td>\n",
       "      <td>10m ^ trail entrance to creek on R left of and...</td>\n",
       "      <td>-20.0</td>\n",
       "      <td>recap</td>\n",
       "      <td>yes</td>\n",
       "      <td>no</td>\n",
       "      <td>w50..t still visible from last year; not shed ...</td>\n",
       "      <td>NaN</td>\n",
       "      <td>NaN</td>\n",
       "      <td>NaN</td>\n",
       "    </tr>\n",
       "    <tr>\n",
       "      <th>2</th>\n",
       "      <td>Sj</td>\n",
       "      <td>5-15</td>\n",
       "      <td>2019-06-14</td>\n",
       "      <td>m</td>\n",
       "      <td>78.0</td>\n",
       "      <td>108.0</td>\n",
       "      <td>0.0</td>\n",
       "      <td>0.0</td>\n",
       "      <td>15.7</td>\n",
       "      <td>w1b</td>\n",
       "      <td>tree 5m ^ entrance</td>\n",
       "      <td>-25.0</td>\n",
       "      <td>new</td>\n",
       "      <td>yes</td>\n",
       "      <td>no</td>\n",
       "      <td>NaN</td>\n",
       "      <td>19-01</td>\n",
       "      <td>NaN</td>\n",
       "      <td>NaN</td>\n",
       "    </tr>\n",
       "    <tr>\n",
       "      <th>3</th>\n",
       "      <td>Sj</td>\n",
       "      <td>12-19</td>\n",
       "      <td>2019-06-14</td>\n",
       "      <td>f</td>\n",
       "      <td>76.0</td>\n",
       "      <td>112.0</td>\n",
       "      <td>0.0</td>\n",
       "      <td>0.0</td>\n",
       "      <td>11.0</td>\n",
       "      <td>w3b..t</td>\n",
       "      <td>tree at 1 falls</td>\n",
       "      <td>0.0</td>\n",
       "      <td>recap</td>\n",
       "      <td>yes</td>\n",
       "      <td>no</td>\n",
       "      <td>..t still visible from last yr; not shed since</td>\n",
       "      <td>NaN</td>\n",
       "      <td>NaN</td>\n",
       "      <td>NaN</td>\n",
       "    </tr>\n",
       "    <tr>\n",
       "      <th>4</th>\n",
       "      <td>Sj</td>\n",
       "      <td>7-18</td>\n",
       "      <td>2019-06-14</td>\n",
       "      <td>f</td>\n",
       "      <td>68.0</td>\n",
       "      <td>97.0</td>\n",
       "      <td>0.0</td>\n",
       "      <td>0.0</td>\n",
       "      <td>11.0</td>\n",
       "      <td>w4b</td>\n",
       "      <td>3m v top left wall 2.5m^stacked wall</td>\n",
       "      <td>27.0</td>\n",
       "      <td>recap</td>\n",
       "      <td>yes</td>\n",
       "      <td>no</td>\n",
       "      <td>looks gravid</td>\n",
       "      <td>NaN</td>\n",
       "      <td>NaN</td>\n",
       "      <td>NaN</td>\n",
       "    </tr>\n",
       "  </tbody>\n",
       "</table>\n",
       "</div>"
      ],
      "text/plain": [
       "  Species    Toes       Date  Sex   SVL     TL   RTL  Autotomized  Mass  \\\n",
       "0     NaN     NaN 2019-06-14  NaN   NaN    NaN   NaN          NaN   NaN   \n",
       "1      Sj   10-18 2019-06-14    f  75.0   77.0  20.0          1.0  11.5   \n",
       "2      Sj    5-15 2019-06-14    m  78.0  108.0   0.0          0.0  15.7   \n",
       "3      Sj   12-19 2019-06-14    f  76.0  112.0   0.0          0.0  11.0   \n",
       "4      Sj    7-18 2019-06-14    f  68.0   97.0   0.0          0.0  11.0   \n",
       "\n",
       "  Paint Mark                                           Location  Meters  \\\n",
       "0        NaN                                     bottom of site     NaN   \n",
       "1  w2b50c..t  10m ^ trail entrance to creek on R left of and...   -20.0   \n",
       "2        w1b                                 tree 5m ^ entrance   -25.0   \n",
       "3     w3b..t                                    tree at 1 falls     0.0   \n",
       "4        w4b               3m v top left wall 2.5m^stacked wall    27.0   \n",
       "\n",
       "  New/Recap Painted Sighting  \\\n",
       "0       NaN     NaN      NaN   \n",
       "1     recap     yes       no   \n",
       "2       new     yes       no   \n",
       "3     recap     yes       no   \n",
       "4     recap     yes       no   \n",
       "\n",
       "                                               Misc.   Vial   Time  \\\n",
       "0  IN: 0928; w=0.8; t=23.4; h=21.3; clear, breezy...    NaN  928.0   \n",
       "1  w50..t still visible from last year; not shed ...    NaN    NaN   \n",
       "2                                                NaN  19-01    NaN   \n",
       "3     ..t still visible from last yr; not shed since    NaN    NaN   \n",
       "4                                       looks gravid    NaN    NaN   \n",
       "\n",
       "   Click Video  \n",
       "0          NaN  \n",
       "1          NaN  \n",
       "2          NaN  \n",
       "3          NaN  \n",
       "4          NaN  "
      ]
     },
     "execution_count": 2,
     "metadata": {},
     "output_type": "execute_result"
    }
   ],
   "source": [
    "sourcefile = 'C:\\\\Users\\\\craga_eowcrpe\\\\Google Drive\\\\AZ 2019\\\\CC Data 2019 - 14vi19.xlsx'\n",
    "skipRows = [x for x in range(1,20)]\n",
    "df=pd.read_excel(sourcefile,skiprows=skipRows)\n",
    "df.head()"
   ]
  },
  {
   "cell_type": "markdown",
   "metadata": {},
   "source": [
    "# Descriptive Stats\n",
    "[Table of Contents](#Table-of-Contents)"
   ]
  },
  {
   "cell_type": "code",
   "execution_count": 3,
   "metadata": {},
   "outputs": [
    {
     "data": {
      "text/plain": [
       "Index(['Species', 'Toes', 'Date', 'Sex', 'SVL', 'TL', 'RTL', 'Autotomized',\n",
       "       'Mass', 'Paint Mark', 'Location', 'Meters', 'New/Recap', 'Painted',\n",
       "       'Sighting', 'Misc.', 'Vial', 'Time', 'Click Video'],\n",
       "      dtype='object')"
      ]
     },
     "execution_count": 3,
     "metadata": {},
     "output_type": "execute_result"
    }
   ],
   "source": [
    "df.columns"
   ]
  },
  {
   "cell_type": "code",
   "execution_count": 4,
   "metadata": {},
   "outputs": [
    {
     "data": {
      "text/html": [
       "<div>\n",
       "<style scoped>\n",
       "    .dataframe tbody tr th:only-of-type {\n",
       "        vertical-align: middle;\n",
       "    }\n",
       "\n",
       "    .dataframe tbody tr th {\n",
       "        vertical-align: top;\n",
       "    }\n",
       "\n",
       "    .dataframe thead th {\n",
       "        text-align: right;\n",
       "    }\n",
       "</style>\n",
       "<table border=\"1\" class=\"dataframe\">\n",
       "  <thead>\n",
       "    <tr style=\"text-align: right;\">\n",
       "      <th></th>\n",
       "      <th>Species</th>\n",
       "      <th>Date</th>\n",
       "      <th>Sighting</th>\n",
       "    </tr>\n",
       "  </thead>\n",
       "  <tbody>\n",
       "    <tr>\n",
       "      <th>0</th>\n",
       "      <td>Ae</td>\n",
       "      <td>2019-06-14</td>\n",
       "      <td>1</td>\n",
       "    </tr>\n",
       "    <tr>\n",
       "      <th>1</th>\n",
       "      <td>Ae</td>\n",
       "      <td>2019-06-15</td>\n",
       "      <td>2</td>\n",
       "    </tr>\n",
       "    <tr>\n",
       "      <th>2</th>\n",
       "      <td>Ae</td>\n",
       "      <td>2019-06-16</td>\n",
       "      <td>1</td>\n",
       "    </tr>\n",
       "    <tr>\n",
       "      <th>3</th>\n",
       "      <td>Ae</td>\n",
       "      <td>2019-06-17</td>\n",
       "      <td>1</td>\n",
       "    </tr>\n",
       "    <tr>\n",
       "      <th>4</th>\n",
       "      <td>Ae</td>\n",
       "      <td>2019-06-19</td>\n",
       "      <td>1</td>\n",
       "    </tr>\n",
       "    <tr>\n",
       "      <th>5</th>\n",
       "      <td>Ae</td>\n",
       "      <td>2019-06-21</td>\n",
       "      <td>7</td>\n",
       "    </tr>\n",
       "    <tr>\n",
       "      <th>6</th>\n",
       "      <td>Other</td>\n",
       "      <td>2019-06-19</td>\n",
       "      <td>1</td>\n",
       "    </tr>\n",
       "    <tr>\n",
       "      <th>7</th>\n",
       "      <td>Sc</td>\n",
       "      <td>2019-06-15</td>\n",
       "      <td>2</td>\n",
       "    </tr>\n",
       "    <tr>\n",
       "      <th>8</th>\n",
       "      <td>Sj</td>\n",
       "      <td>2019-06-14</td>\n",
       "      <td>3</td>\n",
       "    </tr>\n",
       "    <tr>\n",
       "      <th>9</th>\n",
       "      <td>Sj</td>\n",
       "      <td>2019-06-15</td>\n",
       "      <td>9</td>\n",
       "    </tr>\n",
       "    <tr>\n",
       "      <th>10</th>\n",
       "      <td>Sj</td>\n",
       "      <td>2019-06-16</td>\n",
       "      <td>28</td>\n",
       "    </tr>\n",
       "    <tr>\n",
       "      <th>11</th>\n",
       "      <td>Sj</td>\n",
       "      <td>2019-06-17</td>\n",
       "      <td>25</td>\n",
       "    </tr>\n",
       "    <tr>\n",
       "      <th>12</th>\n",
       "      <td>Sj</td>\n",
       "      <td>2019-06-18</td>\n",
       "      <td>22</td>\n",
       "    </tr>\n",
       "    <tr>\n",
       "      <th>13</th>\n",
       "      <td>Sj</td>\n",
       "      <td>2019-06-19</td>\n",
       "      <td>19</td>\n",
       "    </tr>\n",
       "    <tr>\n",
       "      <th>14</th>\n",
       "      <td>Sj</td>\n",
       "      <td>2019-06-20</td>\n",
       "      <td>13</td>\n",
       "    </tr>\n",
       "    <tr>\n",
       "      <th>15</th>\n",
       "      <td>Sj</td>\n",
       "      <td>2019-06-21</td>\n",
       "      <td>17</td>\n",
       "    </tr>\n",
       "    <tr>\n",
       "      <th>16</th>\n",
       "      <td>Sv</td>\n",
       "      <td>2019-06-16</td>\n",
       "      <td>10</td>\n",
       "    </tr>\n",
       "    <tr>\n",
       "      <th>17</th>\n",
       "      <td>Sv</td>\n",
       "      <td>2019-06-17</td>\n",
       "      <td>4</td>\n",
       "    </tr>\n",
       "    <tr>\n",
       "      <th>18</th>\n",
       "      <td>Sv</td>\n",
       "      <td>2019-06-18</td>\n",
       "      <td>2</td>\n",
       "    </tr>\n",
       "    <tr>\n",
       "      <th>19</th>\n",
       "      <td>Sv</td>\n",
       "      <td>2019-06-19</td>\n",
       "      <td>7</td>\n",
       "    </tr>\n",
       "    <tr>\n",
       "      <th>20</th>\n",
       "      <td>Sv</td>\n",
       "      <td>2019-06-20</td>\n",
       "      <td>5</td>\n",
       "    </tr>\n",
       "    <tr>\n",
       "      <th>21</th>\n",
       "      <td>Sv</td>\n",
       "      <td>2019-06-21</td>\n",
       "      <td>5</td>\n",
       "    </tr>\n",
       "    <tr>\n",
       "      <th>22</th>\n",
       "      <td>Uo</td>\n",
       "      <td>2019-06-17</td>\n",
       "      <td>2</td>\n",
       "    </tr>\n",
       "  </tbody>\n",
       "</table>\n",
       "</div>"
      ],
      "text/plain": [
       "   Species       Date  Sighting\n",
       "0       Ae 2019-06-14         1\n",
       "1       Ae 2019-06-15         2\n",
       "2       Ae 2019-06-16         1\n",
       "3       Ae 2019-06-17         1\n",
       "4       Ae 2019-06-19         1\n",
       "5       Ae 2019-06-21         7\n",
       "6    Other 2019-06-19         1\n",
       "7       Sc 2019-06-15         2\n",
       "8       Sj 2019-06-14         3\n",
       "9       Sj 2019-06-15         9\n",
       "10      Sj 2019-06-16        28\n",
       "11      Sj 2019-06-17        25\n",
       "12      Sj 2019-06-18        22\n",
       "13      Sj 2019-06-19        19\n",
       "14      Sj 2019-06-20        13\n",
       "15      Sj 2019-06-21        17\n",
       "16      Sv 2019-06-16        10\n",
       "17      Sv 2019-06-17         4\n",
       "18      Sv 2019-06-18         2\n",
       "19      Sv 2019-06-19         7\n",
       "20      Sv 2019-06-20         5\n",
       "21      Sv 2019-06-21         5\n",
       "22      Uo 2019-06-17         2"
      ]
     },
     "execution_count": 4,
     "metadata": {},
     "output_type": "execute_result"
    }
   ],
   "source": [
    "nSightings = df.loc[df.Sighting=='yes'].groupby(['Species',\n",
    "                                                 'Date'])\\\n",
    ".Sighting.count().reset_index()\n",
    "nSightings"
   ]
  },
  {
   "cell_type": "code",
   "execution_count": 5,
   "metadata": {},
   "outputs": [
    {
     "data": {
      "text/html": [
       "<div>\n",
       "<style scoped>\n",
       "    .dataframe tbody tr th:only-of-type {\n",
       "        vertical-align: middle;\n",
       "    }\n",
       "\n",
       "    .dataframe tbody tr th {\n",
       "        vertical-align: top;\n",
       "    }\n",
       "\n",
       "    .dataframe thead th {\n",
       "        text-align: right;\n",
       "    }\n",
       "</style>\n",
       "<table border=\"1\" class=\"dataframe\">\n",
       "  <thead>\n",
       "    <tr style=\"text-align: right;\">\n",
       "      <th></th>\n",
       "      <th>Species</th>\n",
       "      <th>Date</th>\n",
       "      <th>Painted</th>\n",
       "      <th>Sighting</th>\n",
       "      <th>cumulativeNew</th>\n",
       "      <th>nPrevious</th>\n",
       "      <th>percNew</th>\n",
       "    </tr>\n",
       "  </thead>\n",
       "  <tbody>\n",
       "    <tr>\n",
       "      <th>0</th>\n",
       "      <td>Sj</td>\n",
       "      <td>2019-06-14</td>\n",
       "      <td>17.0</td>\n",
       "      <td>3.0</td>\n",
       "      <td>17.0</td>\n",
       "      <td>NaN</td>\n",
       "      <td>1.000000</td>\n",
       "    </tr>\n",
       "    <tr>\n",
       "      <th>1</th>\n",
       "      <td>Sj</td>\n",
       "      <td>2019-06-15</td>\n",
       "      <td>7.0</td>\n",
       "      <td>9.0</td>\n",
       "      <td>24.0</td>\n",
       "      <td>17.0</td>\n",
       "      <td>0.291667</td>\n",
       "    </tr>\n",
       "    <tr>\n",
       "      <th>2</th>\n",
       "      <td>Sj</td>\n",
       "      <td>2019-06-16</td>\n",
       "      <td>2.0</td>\n",
       "      <td>28.0</td>\n",
       "      <td>26.0</td>\n",
       "      <td>24.0</td>\n",
       "      <td>0.076923</td>\n",
       "    </tr>\n",
       "    <tr>\n",
       "      <th>3</th>\n",
       "      <td>Sj</td>\n",
       "      <td>2019-06-17</td>\n",
       "      <td>4.0</td>\n",
       "      <td>25.0</td>\n",
       "      <td>30.0</td>\n",
       "      <td>26.0</td>\n",
       "      <td>0.133333</td>\n",
       "    </tr>\n",
       "    <tr>\n",
       "      <th>4</th>\n",
       "      <td>Sj</td>\n",
       "      <td>2019-06-18</td>\n",
       "      <td>1.0</td>\n",
       "      <td>22.0</td>\n",
       "      <td>31.0</td>\n",
       "      <td>30.0</td>\n",
       "      <td>0.032258</td>\n",
       "    </tr>\n",
       "    <tr>\n",
       "      <th>5</th>\n",
       "      <td>Sj</td>\n",
       "      <td>2019-06-19</td>\n",
       "      <td>1.0</td>\n",
       "      <td>19.0</td>\n",
       "      <td>32.0</td>\n",
       "      <td>31.0</td>\n",
       "      <td>0.031250</td>\n",
       "    </tr>\n",
       "    <tr>\n",
       "      <th>6</th>\n",
       "      <td>Sj</td>\n",
       "      <td>2019-06-21</td>\n",
       "      <td>5.0</td>\n",
       "      <td>17.0</td>\n",
       "      <td>37.0</td>\n",
       "      <td>32.0</td>\n",
       "      <td>0.135135</td>\n",
       "    </tr>\n",
       "    <tr>\n",
       "      <th>7</th>\n",
       "      <td>Sv</td>\n",
       "      <td>2019-06-14</td>\n",
       "      <td>5.0</td>\n",
       "      <td>NaN</td>\n",
       "      <td>5.0</td>\n",
       "      <td>NaN</td>\n",
       "      <td>1.000000</td>\n",
       "    </tr>\n",
       "    <tr>\n",
       "      <th>8</th>\n",
       "      <td>Sv</td>\n",
       "      <td>2019-06-15</td>\n",
       "      <td>8.0</td>\n",
       "      <td>NaN</td>\n",
       "      <td>13.0</td>\n",
       "      <td>5.0</td>\n",
       "      <td>0.615385</td>\n",
       "    </tr>\n",
       "    <tr>\n",
       "      <th>9</th>\n",
       "      <td>Sv</td>\n",
       "      <td>2019-06-16</td>\n",
       "      <td>2.0</td>\n",
       "      <td>10.0</td>\n",
       "      <td>15.0</td>\n",
       "      <td>13.0</td>\n",
       "      <td>0.133333</td>\n",
       "    </tr>\n",
       "    <tr>\n",
       "      <th>10</th>\n",
       "      <td>Sv</td>\n",
       "      <td>2019-06-17</td>\n",
       "      <td>5.0</td>\n",
       "      <td>4.0</td>\n",
       "      <td>20.0</td>\n",
       "      <td>15.0</td>\n",
       "      <td>0.250000</td>\n",
       "    </tr>\n",
       "    <tr>\n",
       "      <th>11</th>\n",
       "      <td>Sv</td>\n",
       "      <td>2019-06-18</td>\n",
       "      <td>2.0</td>\n",
       "      <td>2.0</td>\n",
       "      <td>22.0</td>\n",
       "      <td>20.0</td>\n",
       "      <td>0.090909</td>\n",
       "    </tr>\n",
       "    <tr>\n",
       "      <th>12</th>\n",
       "      <td>Sv</td>\n",
       "      <td>2019-06-19</td>\n",
       "      <td>2.0</td>\n",
       "      <td>7.0</td>\n",
       "      <td>24.0</td>\n",
       "      <td>22.0</td>\n",
       "      <td>0.083333</td>\n",
       "    </tr>\n",
       "    <tr>\n",
       "      <th>13</th>\n",
       "      <td>Sv</td>\n",
       "      <td>2019-06-20</td>\n",
       "      <td>2.0</td>\n",
       "      <td>5.0</td>\n",
       "      <td>26.0</td>\n",
       "      <td>24.0</td>\n",
       "      <td>0.076923</td>\n",
       "    </tr>\n",
       "    <tr>\n",
       "      <th>14</th>\n",
       "      <td>Sv</td>\n",
       "      <td>2019-06-21</td>\n",
       "      <td>3.0</td>\n",
       "      <td>5.0</td>\n",
       "      <td>29.0</td>\n",
       "      <td>26.0</td>\n",
       "      <td>0.103448</td>\n",
       "    </tr>\n",
       "    <tr>\n",
       "      <th>15</th>\n",
       "      <td>Uo</td>\n",
       "      <td>2019-06-14</td>\n",
       "      <td>3.0</td>\n",
       "      <td>NaN</td>\n",
       "      <td>3.0</td>\n",
       "      <td>NaN</td>\n",
       "      <td>1.000000</td>\n",
       "    </tr>\n",
       "    <tr>\n",
       "      <th>16</th>\n",
       "      <td>Uo</td>\n",
       "      <td>2019-06-15</td>\n",
       "      <td>1.0</td>\n",
       "      <td>NaN</td>\n",
       "      <td>4.0</td>\n",
       "      <td>3.0</td>\n",
       "      <td>0.250000</td>\n",
       "    </tr>\n",
       "    <tr>\n",
       "      <th>17</th>\n",
       "      <td>Uo</td>\n",
       "      <td>2019-06-16</td>\n",
       "      <td>1.0</td>\n",
       "      <td>NaN</td>\n",
       "      <td>5.0</td>\n",
       "      <td>4.0</td>\n",
       "      <td>0.200000</td>\n",
       "    </tr>\n",
       "    <tr>\n",
       "      <th>18</th>\n",
       "      <td>Uo</td>\n",
       "      <td>2019-06-17</td>\n",
       "      <td>1.0</td>\n",
       "      <td>2.0</td>\n",
       "      <td>6.0</td>\n",
       "      <td>5.0</td>\n",
       "      <td>0.166667</td>\n",
       "    </tr>\n",
       "    <tr>\n",
       "      <th>19</th>\n",
       "      <td>Ae</td>\n",
       "      <td>2019-06-14</td>\n",
       "      <td>NaN</td>\n",
       "      <td>1.0</td>\n",
       "      <td>NaN</td>\n",
       "      <td>NaN</td>\n",
       "      <td>NaN</td>\n",
       "    </tr>\n",
       "    <tr>\n",
       "      <th>20</th>\n",
       "      <td>Ae</td>\n",
       "      <td>2019-06-15</td>\n",
       "      <td>NaN</td>\n",
       "      <td>2.0</td>\n",
       "      <td>NaN</td>\n",
       "      <td>NaN</td>\n",
       "      <td>NaN</td>\n",
       "    </tr>\n",
       "    <tr>\n",
       "      <th>21</th>\n",
       "      <td>Ae</td>\n",
       "      <td>2019-06-16</td>\n",
       "      <td>NaN</td>\n",
       "      <td>1.0</td>\n",
       "      <td>NaN</td>\n",
       "      <td>NaN</td>\n",
       "      <td>NaN</td>\n",
       "    </tr>\n",
       "    <tr>\n",
       "      <th>22</th>\n",
       "      <td>Ae</td>\n",
       "      <td>2019-06-17</td>\n",
       "      <td>NaN</td>\n",
       "      <td>1.0</td>\n",
       "      <td>NaN</td>\n",
       "      <td>NaN</td>\n",
       "      <td>NaN</td>\n",
       "    </tr>\n",
       "    <tr>\n",
       "      <th>23</th>\n",
       "      <td>Ae</td>\n",
       "      <td>2019-06-19</td>\n",
       "      <td>NaN</td>\n",
       "      <td>1.0</td>\n",
       "      <td>NaN</td>\n",
       "      <td>NaN</td>\n",
       "      <td>NaN</td>\n",
       "    </tr>\n",
       "    <tr>\n",
       "      <th>24</th>\n",
       "      <td>Ae</td>\n",
       "      <td>2019-06-21</td>\n",
       "      <td>NaN</td>\n",
       "      <td>7.0</td>\n",
       "      <td>NaN</td>\n",
       "      <td>NaN</td>\n",
       "      <td>NaN</td>\n",
       "    </tr>\n",
       "    <tr>\n",
       "      <th>25</th>\n",
       "      <td>Other</td>\n",
       "      <td>2019-06-19</td>\n",
       "      <td>NaN</td>\n",
       "      <td>1.0</td>\n",
       "      <td>NaN</td>\n",
       "      <td>NaN</td>\n",
       "      <td>NaN</td>\n",
       "    </tr>\n",
       "    <tr>\n",
       "      <th>26</th>\n",
       "      <td>Sc</td>\n",
       "      <td>2019-06-15</td>\n",
       "      <td>NaN</td>\n",
       "      <td>2.0</td>\n",
       "      <td>NaN</td>\n",
       "      <td>NaN</td>\n",
       "      <td>NaN</td>\n",
       "    </tr>\n",
       "    <tr>\n",
       "      <th>27</th>\n",
       "      <td>Sj</td>\n",
       "      <td>2019-06-20</td>\n",
       "      <td>NaN</td>\n",
       "      <td>13.0</td>\n",
       "      <td>NaN</td>\n",
       "      <td>37.0</td>\n",
       "      <td>NaN</td>\n",
       "    </tr>\n",
       "  </tbody>\n",
       "</table>\n",
       "</div>"
      ],
      "text/plain": [
       "   Species       Date  Painted  Sighting  cumulativeNew  nPrevious   percNew\n",
       "0       Sj 2019-06-14     17.0       3.0           17.0        NaN  1.000000\n",
       "1       Sj 2019-06-15      7.0       9.0           24.0       17.0  0.291667\n",
       "2       Sj 2019-06-16      2.0      28.0           26.0       24.0  0.076923\n",
       "3       Sj 2019-06-17      4.0      25.0           30.0       26.0  0.133333\n",
       "4       Sj 2019-06-18      1.0      22.0           31.0       30.0  0.032258\n",
       "5       Sj 2019-06-19      1.0      19.0           32.0       31.0  0.031250\n",
       "6       Sj 2019-06-21      5.0      17.0           37.0       32.0  0.135135\n",
       "7       Sv 2019-06-14      5.0       NaN            5.0        NaN  1.000000\n",
       "8       Sv 2019-06-15      8.0       NaN           13.0        5.0  0.615385\n",
       "9       Sv 2019-06-16      2.0      10.0           15.0       13.0  0.133333\n",
       "10      Sv 2019-06-17      5.0       4.0           20.0       15.0  0.250000\n",
       "11      Sv 2019-06-18      2.0       2.0           22.0       20.0  0.090909\n",
       "12      Sv 2019-06-19      2.0       7.0           24.0       22.0  0.083333\n",
       "13      Sv 2019-06-20      2.0       5.0           26.0       24.0  0.076923\n",
       "14      Sv 2019-06-21      3.0       5.0           29.0       26.0  0.103448\n",
       "15      Uo 2019-06-14      3.0       NaN            3.0        NaN  1.000000\n",
       "16      Uo 2019-06-15      1.0       NaN            4.0        3.0  0.250000\n",
       "17      Uo 2019-06-16      1.0       NaN            5.0        4.0  0.200000\n",
       "18      Uo 2019-06-17      1.0       2.0            6.0        5.0  0.166667\n",
       "19      Ae 2019-06-14      NaN       1.0            NaN        NaN       NaN\n",
       "20      Ae 2019-06-15      NaN       2.0            NaN        NaN       NaN\n",
       "21      Ae 2019-06-16      NaN       1.0            NaN        NaN       NaN\n",
       "22      Ae 2019-06-17      NaN       1.0            NaN        NaN       NaN\n",
       "23      Ae 2019-06-19      NaN       1.0            NaN        NaN       NaN\n",
       "24      Ae 2019-06-21      NaN       7.0            NaN        NaN       NaN\n",
       "25   Other 2019-06-19      NaN       1.0            NaN        NaN       NaN\n",
       "26      Sc 2019-06-15      NaN       2.0            NaN        NaN       NaN\n",
       "27      Sj 2019-06-20      NaN      13.0            NaN       37.0       NaN"
      ]
     },
     "execution_count": 5,
     "metadata": {},
     "output_type": "execute_result"
    }
   ],
   "source": [
    "nCaptures = df.loc[df.Painted=='yes'].groupby(['Species',\n",
    "                                                 'Date'])\\\n",
    ".Painted.count().reset_index().merge(nSightings,on=['Species','Date'],how='outer')\n",
    "nCaptures['cumulativeNew']=nCaptures.groupby('Species').Painted.cumsum()\n",
    "nCaptures['nPrevious']=nCaptures.groupby('Species').cumulativeNew.shift(1)\n",
    "nCaptures['percNew']=(nCaptures.Painted/nCaptures.cumulativeNew)\n",
    "nCaptures\n"
   ]
  },
  {
   "cell_type": "markdown",
   "metadata": {},
   "source": [
    "# Graphs\n",
    "[Table of Contents](#Table-of-Contents)\n",
    "\n",
    "- [_Sceloporus jarrovii_](#Sceloporus-jarrovii)\n",
    "- [_Sceloporus virgatus_](#Sceloporus-virgatus)\n",
    "- [_Urosaurus ornatus_](#Urosaurus-ornatus)"
   ]
  },
  {
   "cell_type": "code",
   "execution_count": 6,
   "metadata": {},
   "outputs": [
    {
     "data": {
      "text/plain": [
       "2019"
      ]
     },
     "execution_count": 6,
     "metadata": {},
     "output_type": "execute_result"
    }
   ],
   "source": [
    "year = df.loc[df.Date.notna()]\\\n",
    ".Date.apply(lambda x: x.year).unique()[0]\n",
    "year"
   ]
  },
  {
   "cell_type": "markdown",
   "metadata": {},
   "source": [
    "## _Sceloporus jarrovii_"
   ]
  },
  {
   "cell_type": "code",
   "execution_count": 14,
   "metadata": {},
   "outputs": [
    {
     "data": {
      "application/vnd.plotly.v1+json": {
       "config": {
        "linkText": "Export to plot.ly",
        "plotlyServerURL": "https://plot.ly",
        "responsive": true,
        "showLink": false
       },
       "data": [
        {
         "mode": "lines+markers",
         "name": "New",
         "type": "scatter",
         "uid": "6d8ea7e7-5c17-4b37-aa52-fa57e85ed7d1",
         "x": [
          "2019-06-14",
          "2019-06-15",
          "2019-06-16",
          "2019-06-17",
          "2019-06-18",
          "2019-06-19",
          "2019-06-21",
          "2019-06-20"
         ],
         "y": [
          17,
          7,
          2,
          4,
          1,
          1,
          5,
          null
         ]
        },
        {
         "mode": "lines+markers",
         "name": "Sightings",
         "type": "scatter",
         "uid": "775d44c2-c288-4673-9439-3572681da355",
         "x": [
          "2019-06-14",
          "2019-06-15",
          "2019-06-16",
          "2019-06-17",
          "2019-06-18",
          "2019-06-19",
          "2019-06-21",
          "2019-06-20"
         ],
         "y": [
          3,
          9,
          28,
          25,
          22,
          19,
          17,
          13
         ]
        },
        {
         "mode": "lines+markers",
         "name": "Cumulative",
         "type": "scatter",
         "uid": "12c84c08-819f-4c93-bd37-d9edc62d249c",
         "x": [
          "2019-06-14",
          "2019-06-15",
          "2019-06-16",
          "2019-06-17",
          "2019-06-18",
          "2019-06-19",
          "2019-06-21",
          "2019-06-20"
         ],
         "y": [
          17,
          24,
          26,
          30,
          31,
          32,
          37,
          null
         ]
        }
       ],
       "layout": {
        "title": {
         "font": {
          "size": 20
         },
         "text": "Number of New Sj Captures By Date"
        },
        "xaxis": {
         "title": {
          "font": {
           "size": 18
          },
          "text": "Date"
         }
        },
        "yaxis": {
         "range": [
          0,
          42
         ],
         "title": {
          "font": {
           "size": 18
          },
          "text": "Number of New Captures"
         }
        }
       }
      },
      "text/html": [
       "<div>\n",
       "        \n",
       "        \n",
       "            <div id=\"751db81c-cefc-4087-ae44-bc6e3e4a7f03\" class=\"plotly-graph-div\" style=\"height:525px; width:100%;\"></div>\n",
       "            <script type=\"text/javascript\">\n",
       "                require([\"plotly\"], function(Plotly) {\n",
       "                    window.PLOTLYENV=window.PLOTLYENV || {};\n",
       "                    window.PLOTLYENV.BASE_URL='https://plot.ly';\n",
       "                    \n",
       "                if (document.getElementById(\"751db81c-cefc-4087-ae44-bc6e3e4a7f03\")) {\n",
       "                    Plotly.newPlot(\n",
       "                        '751db81c-cefc-4087-ae44-bc6e3e4a7f03',\n",
       "                        [{\"mode\": \"lines+markers\", \"name\": \"New\", \"type\": \"scatter\", \"uid\": \"93e8578c-7dac-4b14-ad0f-3ed22dee4c9b\", \"x\": [\"2019-06-14\", \"2019-06-15\", \"2019-06-16\", \"2019-06-17\", \"2019-06-18\", \"2019-06-19\", \"2019-06-21\", \"2019-06-20\"], \"y\": [17.0, 7.0, 2.0, 4.0, 1.0, 1.0, 5.0, null]}, {\"mode\": \"lines+markers\", \"name\": \"Sightings\", \"type\": \"scatter\", \"uid\": \"c77450a1-4e8a-46af-92bd-d2e48c28d986\", \"x\": [\"2019-06-14\", \"2019-06-15\", \"2019-06-16\", \"2019-06-17\", \"2019-06-18\", \"2019-06-19\", \"2019-06-21\", \"2019-06-20\"], \"y\": [3.0, 9.0, 28.0, 25.0, 22.0, 19.0, 17.0, 13.0]}, {\"mode\": \"lines+markers\", \"name\": \"Cumulative\", \"type\": \"scatter\", \"uid\": \"dfe7131a-3235-417f-be7c-bb4f271df405\", \"x\": [\"2019-06-14\", \"2019-06-15\", \"2019-06-16\", \"2019-06-17\", \"2019-06-18\", \"2019-06-19\", \"2019-06-21\", \"2019-06-20\"], \"y\": [17.0, 24.0, 26.0, 30.0, 31.0, 32.0, 37.0, null]}],\n",
       "                        {\"title\": {\"font\": {\"size\": 20}, \"text\": \"Number of New Sj Captures By Date\"}, \"xaxis\": {\"title\": {\"font\": {\"size\": 18}, \"text\": \"Date\"}}, \"yaxis\": {\"range\": [0, 42.0], \"title\": {\"font\": {\"size\": 18}, \"text\": \"Number of New Captures\"}}},\n",
       "                        {\"showLink\": false, \"linkText\": \"Export to plot.ly\", \"plotlyServerURL\": \"https://plot.ly\", \"responsive\": true}\n",
       "                    ).then(function(){\n",
       "                            \n",
       "var gd = document.getElementById('751db81c-cefc-4087-ae44-bc6e3e4a7f03');\n",
       "var x = new MutationObserver(function (mutations, observer) {{\n",
       "        var display = window.getComputedStyle(gd).display;\n",
       "        if (!display || display === 'none') {{\n",
       "            console.log([gd, 'removed!']);\n",
       "            Plotly.purge(gd);\n",
       "            observer.disconnect();\n",
       "        }}\n",
       "}});\n",
       "\n",
       "// Listen for the removal of the full notebook cells\n",
       "var notebookContainer = gd.closest('#notebook-container');\n",
       "if (notebookContainer) {{\n",
       "    x.observe(notebookContainer, {childList: true});\n",
       "}}\n",
       "\n",
       "// Listen for the clearing of the current output cell\n",
       "var outputEl = gd.closest('.output');\n",
       "if (outputEl) {{\n",
       "    x.observe(outputEl, {childList: true});\n",
       "}}\n",
       "\n",
       "                        })\n",
       "                };\n",
       "                });\n",
       "            </script>\n",
       "        </div>"
      ]
     },
     "metadata": {},
     "output_type": "display_data"
    }
   ],
   "source": [
    "species ='Sj'\n",
    "# from datetime import datetime\n",
    "New = go.Scatter(x=nCaptures.loc[nCaptures.Species==species].Date, \n",
    "                y=nCaptures.loc[nCaptures.Species==species].Painted,\n",
    "               mode = 'lines+markers',  name = 'New')\n",
    "Sighting =  go.Scatter(x=nCaptures.loc[nCaptures.Species==species].Date, \n",
    "                y=nCaptures.loc[nCaptures.Species==species].Sighting,\n",
    "               mode = 'lines+markers',  name = 'Sightings')\n",
    "Cumulative =  go.Scatter(x=nCaptures.loc[nCaptures.Species==species].Date, \n",
    "                y=nCaptures.loc[nCaptures.Species==species].cumulativeNew,\n",
    "               mode = 'lines+markers',  name = 'Cumulative')\n",
    "\n",
    "data = [New,Sighting,Cumulative]\n",
    "layout = go.Layout(\n",
    "    title = 'Number of New {} Captures By Date'.format(species),\n",
    "    titlefont = dict(\n",
    "        size = 20),\n",
    "    xaxis = dict(\n",
    "#         dtick = 1,\n",
    "        title = 'Date',\n",
    "        titlefont = dict(\n",
    "            size = 18)),\n",
    "    yaxis = dict(\n",
    "        title = 'Number of New Captures',\n",
    "        titlefont = dict(\n",
    "            size = 18),\n",
    "    range=[0,nCaptures.loc[nCaptures.Species==species].cumulativeNew.max()+5]))\n",
    "fig = go.Figure(\n",
    "        data = data,\n",
    "        layout = layout)\n",
    "\n",
    "iplot(fig,\n",
    "         filename = 'Number of New {} Captures By Date for {}.html'.format(species, year))"
   ]
  },
  {
   "cell_type": "code",
   "execution_count": 18,
   "metadata": {
    "scrolled": false
   },
   "outputs": [
    {
     "data": {
      "application/vnd.plotly.v1+json": {
       "config": {
        "linkText": "Export to plot.ly",
        "plotlyServerURL": "https://plot.ly",
        "responsive": true,
        "showLink": false
       },
       "data": [
        {
         "mode": "lines+markers",
         "name": "% New",
         "type": "scatter",
         "uid": "9e9bd9f0-633d-402a-afbc-c332608b81d8",
         "x": [
          "2019-06-14",
          "2019-06-15",
          "2019-06-16",
          "2019-06-17",
          "2019-06-18",
          "2019-06-19",
          "2019-06-21",
          "2019-06-20"
         ],
         "y": [
          1,
          0.2916666666666667,
          0.07692307692307693,
          0.13333333333333333,
          0.03225806451612903,
          0.03125,
          0.13513513513513514,
          null
         ]
        }
       ],
       "layout": {
        "title": {
         "font": {
          "size": 20
         },
         "text": "Percent New Sj Captures By Date"
        },
        "xaxis": {
         "title": {
          "font": {
           "size": 18
          },
          "text": "Date"
         }
        },
        "yaxis": {
         "range": [
          0,
          1.05
         ],
         "title": {
          "font": {
           "size": 18
          },
          "text": "Percent New Captures"
         }
        }
       }
      },
      "text/html": [
       "<div>\n",
       "        \n",
       "        \n",
       "            <div id=\"9aad4e01-b7b3-434e-b5a3-60a1dd968504\" class=\"plotly-graph-div\" style=\"height:525px; width:100%;\"></div>\n",
       "            <script type=\"text/javascript\">\n",
       "                require([\"plotly\"], function(Plotly) {\n",
       "                    window.PLOTLYENV=window.PLOTLYENV || {};\n",
       "                    window.PLOTLYENV.BASE_URL='https://plot.ly';\n",
       "                    \n",
       "                if (document.getElementById(\"9aad4e01-b7b3-434e-b5a3-60a1dd968504\")) {\n",
       "                    Plotly.newPlot(\n",
       "                        '9aad4e01-b7b3-434e-b5a3-60a1dd968504',\n",
       "                        [{\"mode\": \"lines+markers\", \"name\": \"% New\", \"type\": \"scatter\", \"uid\": \"8e18214b-0ee5-4a17-9746-346806ddb106\", \"x\": [\"2019-06-14\", \"2019-06-15\", \"2019-06-16\", \"2019-06-17\", \"2019-06-18\", \"2019-06-19\", \"2019-06-21\", \"2019-06-20\"], \"y\": [1.0, 0.2916666666666667, 0.07692307692307693, 0.13333333333333333, 0.03225806451612903, 0.03125, 0.13513513513513514, null]}],\n",
       "                        {\"title\": {\"font\": {\"size\": 20}, \"text\": \"Percent New Sj Captures By Date\"}, \"xaxis\": {\"title\": {\"font\": {\"size\": 18}, \"text\": \"Date\"}}, \"yaxis\": {\"range\": [0, 1.05], \"title\": {\"font\": {\"size\": 18}, \"text\": \"Percent New Captures\"}}},\n",
       "                        {\"showLink\": false, \"linkText\": \"Export to plot.ly\", \"plotlyServerURL\": \"https://plot.ly\", \"responsive\": true}\n",
       "                    ).then(function(){\n",
       "                            \n",
       "var gd = document.getElementById('9aad4e01-b7b3-434e-b5a3-60a1dd968504');\n",
       "var x = new MutationObserver(function (mutations, observer) {{\n",
       "        var display = window.getComputedStyle(gd).display;\n",
       "        if (!display || display === 'none') {{\n",
       "            console.log([gd, 'removed!']);\n",
       "            Plotly.purge(gd);\n",
       "            observer.disconnect();\n",
       "        }}\n",
       "}});\n",
       "\n",
       "// Listen for the removal of the full notebook cells\n",
       "var notebookContainer = gd.closest('#notebook-container');\n",
       "if (notebookContainer) {{\n",
       "    x.observe(notebookContainer, {childList: true});\n",
       "}}\n",
       "\n",
       "// Listen for the clearing of the current output cell\n",
       "var outputEl = gd.closest('.output');\n",
       "if (outputEl) {{\n",
       "    x.observe(outputEl, {childList: true});\n",
       "}}\n",
       "\n",
       "                        })\n",
       "                };\n",
       "                });\n",
       "            </script>\n",
       "        </div>"
      ]
     },
     "metadata": {},
     "output_type": "display_data"
    }
   ],
   "source": [
    "species ='Sj'\n",
    "# from datetime import datetime\n",
    "\n",
    "PercNew = go.Scatter(x=nCaptures.loc[nCaptures.Species==species].Date, \n",
    "                y=nCaptures.loc[nCaptures.Species==species].percNew,\n",
    "               mode = 'lines+markers',  name = '% New')\n",
    "data = [PercNew]\n",
    "layout = go.Layout(\n",
    "    title = 'Percent New {} Captures By Date'.format(species),\n",
    "    titlefont = dict(\n",
    "        size = 20),\n",
    "    xaxis = dict(\n",
    "#         dtick = 1,\n",
    "        title = 'Date',\n",
    "        titlefont = dict(\n",
    "            size = 18)),\n",
    "    yaxis = dict(\n",
    "        title = 'Percent New Captures',\n",
    "        titlefont = dict(\n",
    "            size = 18),\n",
    "    range=[0,1.05]))\n",
    "fig = go.Figure(\n",
    "        data = data,\n",
    "        layout = layout)\n",
    "iplot(fig,\n",
    "         filename = 'Percent New {} Captures By Date for {}.html'.format(species, year))"
   ]
  },
  {
   "cell_type": "markdown",
   "metadata": {},
   "source": [
    "## _Sceloporus virgatus_"
   ]
  },
  {
   "cell_type": "code",
   "execution_count": 20,
   "metadata": {},
   "outputs": [
    {
     "data": {
      "application/vnd.plotly.v1+json": {
       "config": {
        "linkText": "Export to plot.ly",
        "plotlyServerURL": "https://plot.ly",
        "responsive": true,
        "showLink": false
       },
       "data": [
        {
         "mode": "lines+markers",
         "name": "New",
         "type": "scatter",
         "uid": "8d422f36-a93b-4995-9bb5-ed01d2fb365c",
         "x": [
          "2019-06-14",
          "2019-06-15",
          "2019-06-16",
          "2019-06-17",
          "2019-06-18",
          "2019-06-19",
          "2019-06-20",
          "2019-06-21"
         ],
         "y": [
          5,
          8,
          2,
          5,
          2,
          2,
          2,
          3
         ]
        },
        {
         "mode": "lines+markers",
         "name": "Sightings",
         "type": "scatter",
         "uid": "0b418c27-1007-4765-b62b-8b2f383ee024",
         "x": [
          "2019-06-14",
          "2019-06-15",
          "2019-06-16",
          "2019-06-17",
          "2019-06-18",
          "2019-06-19",
          "2019-06-20",
          "2019-06-21"
         ],
         "y": [
          null,
          null,
          10,
          4,
          2,
          7,
          5,
          5
         ]
        },
        {
         "mode": "lines+markers",
         "name": "Cumulative",
         "type": "scatter",
         "uid": "68eab28e-9c04-411b-bc2d-ccd4c089d62c",
         "x": [
          "2019-06-14",
          "2019-06-15",
          "2019-06-16",
          "2019-06-17",
          "2019-06-18",
          "2019-06-19",
          "2019-06-20",
          "2019-06-21"
         ],
         "y": [
          5,
          13,
          15,
          20,
          22,
          24,
          26,
          29
         ]
        }
       ],
       "layout": {
        "title": {
         "font": {
          "size": 20
         },
         "text": "Number of New Sv Captures By Date"
        },
        "xaxis": {
         "title": {
          "font": {
           "size": 18
          },
          "text": "Date"
         }
        },
        "yaxis": {
         "title": {
          "font": {
           "size": 18
          },
          "text": "Number of New Captures"
         }
        }
       }
      },
      "text/html": [
       "<div>\n",
       "        \n",
       "        \n",
       "            <div id=\"6c33ad7f-05d3-4c7b-b588-e9a07bc80fbe\" class=\"plotly-graph-div\" style=\"height:525px; width:100%;\"></div>\n",
       "            <script type=\"text/javascript\">\n",
       "                require([\"plotly\"], function(Plotly) {\n",
       "                    window.PLOTLYENV=window.PLOTLYENV || {};\n",
       "                    window.PLOTLYENV.BASE_URL='https://plot.ly';\n",
       "                    \n",
       "                if (document.getElementById(\"6c33ad7f-05d3-4c7b-b588-e9a07bc80fbe\")) {\n",
       "                    Plotly.newPlot(\n",
       "                        '6c33ad7f-05d3-4c7b-b588-e9a07bc80fbe',\n",
       "                        [{\"mode\": \"lines+markers\", \"name\": \"New\", \"type\": \"scatter\", \"uid\": \"18652d1a-6668-4b27-876a-dfff37381397\", \"x\": [\"2019-06-14\", \"2019-06-15\", \"2019-06-16\", \"2019-06-17\", \"2019-06-18\", \"2019-06-19\", \"2019-06-20\", \"2019-06-21\"], \"y\": [5.0, 8.0, 2.0, 5.0, 2.0, 2.0, 2.0, 3.0]}, {\"mode\": \"lines+markers\", \"name\": \"Sightings\", \"type\": \"scatter\", \"uid\": \"eb0923e1-0ca2-4c25-bcac-27bb60ad2a4d\", \"x\": [\"2019-06-14\", \"2019-06-15\", \"2019-06-16\", \"2019-06-17\", \"2019-06-18\", \"2019-06-19\", \"2019-06-20\", \"2019-06-21\"], \"y\": [null, null, 10.0, 4.0, 2.0, 7.0, 5.0, 5.0]}, {\"mode\": \"lines+markers\", \"name\": \"Cumulative\", \"type\": \"scatter\", \"uid\": \"d09d7d55-2740-48d1-b3c4-7b2f3ff8bc9a\", \"x\": [\"2019-06-14\", \"2019-06-15\", \"2019-06-16\", \"2019-06-17\", \"2019-06-18\", \"2019-06-19\", \"2019-06-20\", \"2019-06-21\"], \"y\": [5.0, 13.0, 15.0, 20.0, 22.0, 24.0, 26.0, 29.0]}],\n",
       "                        {\"title\": {\"font\": {\"size\": 20}, \"text\": \"Number of New Sv Captures By Date\"}, \"xaxis\": {\"title\": {\"font\": {\"size\": 18}, \"text\": \"Date\"}}, \"yaxis\": {\"title\": {\"font\": {\"size\": 18}, \"text\": \"Number of New Captures\"}}},\n",
       "                        {\"showLink\": false, \"linkText\": \"Export to plot.ly\", \"plotlyServerURL\": \"https://plot.ly\", \"responsive\": true}\n",
       "                    ).then(function(){\n",
       "                            \n",
       "var gd = document.getElementById('6c33ad7f-05d3-4c7b-b588-e9a07bc80fbe');\n",
       "var x = new MutationObserver(function (mutations, observer) {{\n",
       "        var display = window.getComputedStyle(gd).display;\n",
       "        if (!display || display === 'none') {{\n",
       "            console.log([gd, 'removed!']);\n",
       "            Plotly.purge(gd);\n",
       "            observer.disconnect();\n",
       "        }}\n",
       "}});\n",
       "\n",
       "// Listen for the removal of the full notebook cells\n",
       "var notebookContainer = gd.closest('#notebook-container');\n",
       "if (notebookContainer) {{\n",
       "    x.observe(notebookContainer, {childList: true});\n",
       "}}\n",
       "\n",
       "// Listen for the clearing of the current output cell\n",
       "var outputEl = gd.closest('.output');\n",
       "if (outputEl) {{\n",
       "    x.observe(outputEl, {childList: true});\n",
       "}}\n",
       "\n",
       "                        })\n",
       "                };\n",
       "                });\n",
       "            </script>\n",
       "        </div>"
      ]
     },
     "metadata": {},
     "output_type": "display_data"
    }
   ],
   "source": [
    "species ='Sv'\n",
    "# from datetime import datetime\n",
    "New = go.Scatter(x=nCaptures.loc[nCaptures.Species==species].Date, \n",
    "                y=nCaptures.loc[nCaptures.Species==species].Painted,\n",
    "               mode = 'lines+markers',  name = 'New')\n",
    "Sighting =  go.Scatter(x=nCaptures.loc[nCaptures.Species==species].Date, \n",
    "                y=nCaptures.loc[nCaptures.Species==species].Sighting,\n",
    "               mode = 'lines+markers',  name = 'Sightings')\n",
    "Cumulative =  go.Scatter(x=nCaptures.loc[nCaptures.Species==species].Date, \n",
    "                y=nCaptures.loc[nCaptures.Species==species].cumulativeNew,\n",
    "               mode = 'lines+markers',  name = 'Cumulative')\n",
    "\n",
    "data = [New,Sighting,Cumulative]\n",
    "layout = go.Layout(\n",
    "    title = 'Number of New {} Captures By Date'.format(species),\n",
    "    titlefont = dict(\n",
    "        size = 20),\n",
    "    xaxis = dict(\n",
    "#         dtick = 1,\n",
    "        title = 'Date',\n",
    "        titlefont = dict(\n",
    "            size = 18)),\n",
    "    yaxis = dict(\n",
    "        title = 'Number of New Captures',\n",
    "        titlefont = dict(\n",
    "            size = 18)))\n",
    "fig = go.Figure(\n",
    "        data = data,\n",
    "        layout = layout)\n",
    "iplot(fig,\n",
    "         filename = 'Number of New {} Captures By Date for {}.html'.format(species, year))"
   ]
  },
  {
   "cell_type": "code",
   "execution_count": 21,
   "metadata": {
    "scrolled": false
   },
   "outputs": [
    {
     "data": {
      "application/vnd.plotly.v1+json": {
       "config": {
        "linkText": "Export to plot.ly",
        "plotlyServerURL": "https://plot.ly",
        "responsive": true,
        "showLink": false
       },
       "data": [
        {
         "mode": "lines+markers",
         "name": "% New",
         "type": "scatter",
         "uid": "68468f8c-de62-4294-bb62-f9f39b1f1f7c",
         "x": [
          "2019-06-14",
          "2019-06-15",
          "2019-06-16",
          "2019-06-17",
          "2019-06-18",
          "2019-06-19",
          "2019-06-20",
          "2019-06-21"
         ],
         "y": [
          1,
          0.6153846153846154,
          0.13333333333333333,
          0.25,
          0.09090909090909091,
          0.08333333333333333,
          0.07692307692307693,
          0.10344827586206896
         ]
        }
       ],
       "layout": {
        "title": {
         "font": {
          "size": 20
         },
         "text": "Percent New Sv Captures By Date"
        },
        "xaxis": {
         "title": {
          "font": {
           "size": 18
          },
          "text": "Date"
         }
        },
        "yaxis": {
         "range": [
          0,
          1.05
         ],
         "title": {
          "font": {
           "size": 18
          },
          "text": "Percent New Captures"
         }
        }
       }
      },
      "text/html": [
       "<div>\n",
       "        \n",
       "        \n",
       "            <div id=\"611bbfd1-6675-4fc5-801c-9abff8d8ef74\" class=\"plotly-graph-div\" style=\"height:525px; width:100%;\"></div>\n",
       "            <script type=\"text/javascript\">\n",
       "                require([\"plotly\"], function(Plotly) {\n",
       "                    window.PLOTLYENV=window.PLOTLYENV || {};\n",
       "                    window.PLOTLYENV.BASE_URL='https://plot.ly';\n",
       "                    \n",
       "                if (document.getElementById(\"611bbfd1-6675-4fc5-801c-9abff8d8ef74\")) {\n",
       "                    Plotly.newPlot(\n",
       "                        '611bbfd1-6675-4fc5-801c-9abff8d8ef74',\n",
       "                        [{\"mode\": \"lines+markers\", \"name\": \"% New\", \"type\": \"scatter\", \"uid\": \"9f501db0-7d4d-4190-bdde-0cf9721911fd\", \"x\": [\"2019-06-14\", \"2019-06-15\", \"2019-06-16\", \"2019-06-17\", \"2019-06-18\", \"2019-06-19\", \"2019-06-20\", \"2019-06-21\"], \"y\": [1.0, 0.6153846153846154, 0.13333333333333333, 0.25, 0.09090909090909091, 0.08333333333333333, 0.07692307692307693, 0.10344827586206896]}],\n",
       "                        {\"title\": {\"font\": {\"size\": 20}, \"text\": \"Percent New Sv Captures By Date\"}, \"xaxis\": {\"title\": {\"font\": {\"size\": 18}, \"text\": \"Date\"}}, \"yaxis\": {\"range\": [0, 1.05], \"title\": {\"font\": {\"size\": 18}, \"text\": \"Percent New Captures\"}}},\n",
       "                        {\"showLink\": false, \"linkText\": \"Export to plot.ly\", \"plotlyServerURL\": \"https://plot.ly\", \"responsive\": true}\n",
       "                    ).then(function(){\n",
       "                            \n",
       "var gd = document.getElementById('611bbfd1-6675-4fc5-801c-9abff8d8ef74');\n",
       "var x = new MutationObserver(function (mutations, observer) {{\n",
       "        var display = window.getComputedStyle(gd).display;\n",
       "        if (!display || display === 'none') {{\n",
       "            console.log([gd, 'removed!']);\n",
       "            Plotly.purge(gd);\n",
       "            observer.disconnect();\n",
       "        }}\n",
       "}});\n",
       "\n",
       "// Listen for the removal of the full notebook cells\n",
       "var notebookContainer = gd.closest('#notebook-container');\n",
       "if (notebookContainer) {{\n",
       "    x.observe(notebookContainer, {childList: true});\n",
       "}}\n",
       "\n",
       "// Listen for the clearing of the current output cell\n",
       "var outputEl = gd.closest('.output');\n",
       "if (outputEl) {{\n",
       "    x.observe(outputEl, {childList: true});\n",
       "}}\n",
       "\n",
       "                        })\n",
       "                };\n",
       "                });\n",
       "            </script>\n",
       "        </div>"
      ]
     },
     "metadata": {},
     "output_type": "display_data"
    }
   ],
   "source": [
    "species ='Sv'\n",
    "# from datetime import datetime\n",
    "\n",
    "PercNew = go.Scatter(x=nCaptures.loc[nCaptures.Species==species].Date, \n",
    "                y=nCaptures.loc[nCaptures.Species==species].percNew,\n",
    "               mode = 'lines+markers',  name = '% New')\n",
    "data = [PercNew]\n",
    "layout = go.Layout(\n",
    "    title = 'Percent New {} Captures By Date'.format(species),\n",
    "    titlefont = dict(\n",
    "        size = 20),\n",
    "    xaxis = dict(\n",
    "#         dtick = 1,\n",
    "        title = 'Date',\n",
    "        titlefont = dict(\n",
    "            size = 18)),\n",
    "    yaxis = dict(\n",
    "        title = 'Percent New Captures',\n",
    "        titlefont = dict(\n",
    "            size = 18),\n",
    "    range = [0,1.05]))\n",
    "fig = go.Figure(\n",
    "        data = data,\n",
    "        layout = layout)\n",
    "iplot(fig,\n",
    "         filename = 'Percent New {} Captures By Date for {}.html'.format(species, year))"
   ]
  },
  {
   "cell_type": "markdown",
   "metadata": {},
   "source": [
    "## _Urosaurus ornatus_"
   ]
  },
  {
   "cell_type": "code",
   "execution_count": 11,
   "metadata": {},
   "outputs": [
    {
     "data": {
      "application/vnd.plotly.v1+json": {
       "config": {
        "linkText": "Export to plot.ly",
        "plotlyServerURL": "https://plot.ly",
        "responsive": true,
        "showLink": false
       },
       "data": [
        {
         "mode": "lines+markers",
         "name": "New",
         "type": "scatter",
         "uid": "99eb2912-2ee4-4e42-93f3-caedb840733e",
         "x": [
          "2019-06-14",
          "2019-06-15",
          "2019-06-16",
          "2019-06-17"
         ],
         "y": [
          3,
          1,
          1,
          1
         ]
        },
        {
         "mode": "lines+markers",
         "name": "Sightings",
         "type": "scatter",
         "uid": "554f4459-66fd-4875-83ce-6b276fbba630",
         "x": [
          "2019-06-14",
          "2019-06-15",
          "2019-06-16",
          "2019-06-17"
         ],
         "y": [
          null,
          null,
          null,
          2
         ]
        },
        {
         "mode": "lines+markers",
         "name": "Cumulative",
         "type": "scatter",
         "uid": "e6663074-4018-4a3a-a825-d5e145498e18",
         "x": [
          "2019-06-14",
          "2019-06-15",
          "2019-06-16",
          "2019-06-17"
         ],
         "y": [
          3,
          4,
          5,
          6
         ]
        }
       ],
       "layout": {
        "title": {
         "font": {
          "size": 20
         },
         "text": "Number of New Uo Captures By Date"
        },
        "xaxis": {
         "title": {
          "font": {
           "size": 18
          },
          "text": "Date"
         }
        },
        "yaxis": {
         "title": {
          "font": {
           "size": 18
          },
          "text": "Number of New Captures"
         }
        }
       }
      },
      "text/html": [
       "<div>\n",
       "        \n",
       "        \n",
       "            <div id=\"0e7f4274-89a2-466f-a8c4-5abf279b909a\" class=\"plotly-graph-div\" style=\"height:525px; width:100%;\"></div>\n",
       "            <script type=\"text/javascript\">\n",
       "                require([\"plotly\"], function(Plotly) {\n",
       "                    window.PLOTLYENV=window.PLOTLYENV || {};\n",
       "                    window.PLOTLYENV.BASE_URL='https://plot.ly';\n",
       "                    \n",
       "                if (document.getElementById(\"0e7f4274-89a2-466f-a8c4-5abf279b909a\")) {\n",
       "                    Plotly.newPlot(\n",
       "                        '0e7f4274-89a2-466f-a8c4-5abf279b909a',\n",
       "                        [{\"mode\": \"lines+markers\", \"name\": \"New\", \"type\": \"scatter\", \"uid\": \"a0c3f90a-7929-423b-a00b-93d456005a37\", \"x\": [\"2019-06-14\", \"2019-06-15\", \"2019-06-16\", \"2019-06-17\"], \"y\": [3.0, 1.0, 1.0, 1.0]}, {\"mode\": \"lines+markers\", \"name\": \"Sightings\", \"type\": \"scatter\", \"uid\": \"e6cb8617-124a-4b8d-8cab-069083aa9852\", \"x\": [\"2019-06-14\", \"2019-06-15\", \"2019-06-16\", \"2019-06-17\"], \"y\": [null, null, null, 2.0]}, {\"mode\": \"lines+markers\", \"name\": \"Cumulative\", \"type\": \"scatter\", \"uid\": \"9a4f45ee-27cf-4904-a8b0-4c1f335fe20a\", \"x\": [\"2019-06-14\", \"2019-06-15\", \"2019-06-16\", \"2019-06-17\"], \"y\": [3.0, 4.0, 5.0, 6.0]}],\n",
       "                        {\"title\": {\"font\": {\"size\": 20}, \"text\": \"Number of New Uo Captures By Date\"}, \"xaxis\": {\"title\": {\"font\": {\"size\": 18}, \"text\": \"Date\"}}, \"yaxis\": {\"title\": {\"font\": {\"size\": 18}, \"text\": \"Number of New Captures\"}}},\n",
       "                        {\"showLink\": false, \"linkText\": \"Export to plot.ly\", \"plotlyServerURL\": \"https://plot.ly\", \"responsive\": true}\n",
       "                    ).then(function(){\n",
       "                            \n",
       "var gd = document.getElementById('0e7f4274-89a2-466f-a8c4-5abf279b909a');\n",
       "var x = new MutationObserver(function (mutations, observer) {{\n",
       "        var display = window.getComputedStyle(gd).display;\n",
       "        if (!display || display === 'none') {{\n",
       "            console.log([gd, 'removed!']);\n",
       "            Plotly.purge(gd);\n",
       "            observer.disconnect();\n",
       "        }}\n",
       "}});\n",
       "\n",
       "// Listen for the removal of the full notebook cells\n",
       "var notebookContainer = gd.closest('#notebook-container');\n",
       "if (notebookContainer) {{\n",
       "    x.observe(notebookContainer, {childList: true});\n",
       "}}\n",
       "\n",
       "// Listen for the clearing of the current output cell\n",
       "var outputEl = gd.closest('.output');\n",
       "if (outputEl) {{\n",
       "    x.observe(outputEl, {childList: true});\n",
       "}}\n",
       "\n",
       "                        })\n",
       "                };\n",
       "                });\n",
       "            </script>\n",
       "        </div>"
      ]
     },
     "metadata": {},
     "output_type": "display_data"
    }
   ],
   "source": [
    "species ='Uo'\n",
    "# from datetime import datetime\n",
    "New = go.Scatter(x=nCaptures.loc[nCaptures.Species==species].Date, \n",
    "                y=nCaptures.loc[nCaptures.Species==species].Painted,\n",
    "               mode = 'lines+markers',  name = 'New')\n",
    "Sighting =  go.Scatter(x=nCaptures.loc[nCaptures.Species==species].Date, \n",
    "                y=nCaptures.loc[nCaptures.Species==species].Sighting,\n",
    "               mode = 'lines+markers',  name = 'Sightings')\n",
    "Cumulative =  go.Scatter(x=nCaptures.loc[nCaptures.Species==species].Date, \n",
    "                y=nCaptures.loc[nCaptures.Species==species].cumulativeNew,\n",
    "               mode = 'lines+markers',  name = 'Cumulative')\n",
    "\n",
    "data = [New,Sighting,Cumulative]\n",
    "layout = go.Layout(\n",
    "    title = 'Number of New {} Captures By Date'.format(species),\n",
    "    titlefont = dict(\n",
    "        size = 20),\n",
    "    xaxis = dict(\n",
    "#         dtick = 1,\n",
    "        title = 'Date',\n",
    "        titlefont = dict(\n",
    "            size = 18)),\n",
    "    yaxis = dict(\n",
    "        title = 'Number of New Captures',\n",
    "        titlefont = dict(\n",
    "            size = 18)))\n",
    "fig = go.Figure(\n",
    "        data = data,\n",
    "        layout = layout)\n",
    "iplot(fig,\n",
    "         filename = 'Number of New {} Captures By Date for {}.html'.format(species, year))"
   ]
  },
  {
   "cell_type": "code",
   "execution_count": 12,
   "metadata": {
    "scrolled": false
   },
   "outputs": [
    {
     "data": {
      "application/vnd.plotly.v1+json": {
       "config": {
        "linkText": "Export to plot.ly",
        "plotlyServerURL": "https://plot.ly",
        "responsive": true,
        "showLink": false
       },
       "data": [
        {
         "mode": "lines+markers",
         "name": "% New",
         "type": "scatter",
         "uid": "e32e4be8-56c5-4b9b-87da-bfe1ac944771",
         "x": [
          "2019-06-14",
          "2019-06-15",
          "2019-06-16",
          "2019-06-17"
         ],
         "y": [
          1,
          0.25,
          0.2,
          0.16666666666666666
         ]
        }
       ],
       "layout": {
        "title": {
         "font": {
          "size": 20
         },
         "text": "Percent New Uo Captures By Date"
        },
        "xaxis": {
         "title": {
          "font": {
           "size": 18
          },
          "text": "Date"
         }
        },
        "yaxis": {
         "title": {
          "font": {
           "size": 18
          },
          "text": "Percent New Captures"
         }
        }
       }
      },
      "text/html": [
       "<div>\n",
       "        \n",
       "        \n",
       "            <div id=\"585fe3f2-9f6b-4ca9-b5b9-e4e90f29c003\" class=\"plotly-graph-div\" style=\"height:525px; width:100%;\"></div>\n",
       "            <script type=\"text/javascript\">\n",
       "                require([\"plotly\"], function(Plotly) {\n",
       "                    window.PLOTLYENV=window.PLOTLYENV || {};\n",
       "                    window.PLOTLYENV.BASE_URL='https://plot.ly';\n",
       "                    \n",
       "                if (document.getElementById(\"585fe3f2-9f6b-4ca9-b5b9-e4e90f29c003\")) {\n",
       "                    Plotly.newPlot(\n",
       "                        '585fe3f2-9f6b-4ca9-b5b9-e4e90f29c003',\n",
       "                        [{\"mode\": \"lines+markers\", \"name\": \"% New\", \"type\": \"scatter\", \"uid\": \"4ce57fd6-c2df-4573-9504-b4b6043f54a5\", \"x\": [\"2019-06-14\", \"2019-06-15\", \"2019-06-16\", \"2019-06-17\"], \"y\": [1.0, 0.25, 0.2, 0.16666666666666666]}],\n",
       "                        {\"title\": {\"font\": {\"size\": 20}, \"text\": \"Percent New Uo Captures By Date\"}, \"xaxis\": {\"title\": {\"font\": {\"size\": 18}, \"text\": \"Date\"}}, \"yaxis\": {\"title\": {\"font\": {\"size\": 18}, \"text\": \"Percent New Captures\"}}},\n",
       "                        {\"showLink\": false, \"linkText\": \"Export to plot.ly\", \"plotlyServerURL\": \"https://plot.ly\", \"responsive\": true}\n",
       "                    ).then(function(){\n",
       "                            \n",
       "var gd = document.getElementById('585fe3f2-9f6b-4ca9-b5b9-e4e90f29c003');\n",
       "var x = new MutationObserver(function (mutations, observer) {{\n",
       "        var display = window.getComputedStyle(gd).display;\n",
       "        if (!display || display === 'none') {{\n",
       "            console.log([gd, 'removed!']);\n",
       "            Plotly.purge(gd);\n",
       "            observer.disconnect();\n",
       "        }}\n",
       "}});\n",
       "\n",
       "// Listen for the removal of the full notebook cells\n",
       "var notebookContainer = gd.closest('#notebook-container');\n",
       "if (notebookContainer) {{\n",
       "    x.observe(notebookContainer, {childList: true});\n",
       "}}\n",
       "\n",
       "// Listen for the clearing of the current output cell\n",
       "var outputEl = gd.closest('.output');\n",
       "if (outputEl) {{\n",
       "    x.observe(outputEl, {childList: true});\n",
       "}}\n",
       "\n",
       "                        })\n",
       "                };\n",
       "                });\n",
       "            </script>\n",
       "        </div>"
      ]
     },
     "metadata": {},
     "output_type": "display_data"
    }
   ],
   "source": [
    "species ='Uo'\n",
    "# from datetime import datetime\n",
    "\n",
    "PercNew = go.Scatter(x=nCaptures.loc[nCaptures.Species==species].Date, \n",
    "                y=nCaptures.loc[nCaptures.Species==species].percNew,\n",
    "               mode = 'lines+markers',  name = '% New')\n",
    "data = [PercNew]\n",
    "layout = go.Layout(\n",
    "    title = 'Percent New {} Captures By Date'.format(species),\n",
    "    titlefont = dict(\n",
    "        size = 20),\n",
    "    xaxis = dict(\n",
    "#         dtick = 1,\n",
    "        title = 'Date',\n",
    "        titlefont = dict(\n",
    "            size = 18)),\n",
    "    yaxis = dict(\n",
    "        title = 'Percent New Captures',\n",
    "        titlefont = dict(\n",
    "            size = 18)))\n",
    "fig = go.Figure(\n",
    "        data = data,\n",
    "        layout = layout)\n",
    "iplot(fig,\n",
    "         filename = 'Percent New {} Captures By Date for {}.html'.format(species, year))"
   ]
  }
 ],
 "metadata": {
  "kernelspec": {
   "display_name": "Python 3",
   "language": "python",
   "name": "python3"
  },
  "language_info": {
   "codemirror_mode": {
    "name": "ipython",
    "version": 3
   },
   "file_extension": ".py",
   "mimetype": "text/x-python",
   "name": "python",
   "nbconvert_exporter": "python",
   "pygments_lexer": "ipython3",
   "version": "3.7.3"
  }
 },
 "nbformat": 4,
 "nbformat_minor": 2
}
