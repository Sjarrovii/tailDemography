{
 "cells": [
  {
   "cell_type": "markdown",
   "metadata": {},
   "source": [
    "This notebook contains code and output of descriptive analyses for the 2000-2017 CC dataset after cleaning"
   ]
  },
  {
   "cell_type": "markdown",
   "metadata": {},
   "source": [
    "<a id='TOC'></a>"
   ]
  },
  {
   "cell_type": "markdown",
   "metadata": {},
   "source": [
    "# Table of Contents\n",
    "1. [Getting Data](#GetData)\n",
    "2. [Analyzing Data](#Analyze)\n"
   ]
  },
  {
   "cell_type": "code",
   "execution_count": 1,
   "metadata": {},
   "outputs": [],
   "source": [
    "import pandas as pd\n",
    "import numpy as np\n",
    "import os,glob\n",
    "\n",
    "import plotly\n",
    "import plotly.plotly as py\n",
    "import plotly.figure_factory as ff\n",
    "import plotly.graph_objs as go\n",
    "\n",
    "plotly.tools.set_config_file(world_readable=True)\n",
    "\n",
    "# increase print limit\n",
    "pd.options.display.max_rows = 99999\n",
    "pd.options.display.max_columns = 50"
   ]
  },
  {
   "cell_type": "markdown",
   "metadata": {},
   "source": [
    "Run the following chunk if running from local folder"
   ]
  },
  {
   "cell_type": "code",
   "execution_count": 4,
   "metadata": {},
   "outputs": [],
   "source": [
    "# Source Data\n",
    "sourceDataPers = 'C:/Users/Christopher/Google Drive/TailDemography/outputFiles'\n",
    "sourceDataBig = 'S:/Chris/TailDemography/TailDemography/outputFiles'\n",
    "\n",
    "#Output Data paths\n",
    "outputPers = 'C:/Users/Christopher/Google Drive/TailDemography/outputFiles'\n",
    "outputBig = 'S:/Chris/TailDemography/TailDemography/outputFiles'"
   ]
  },
  {
   "cell_type": "code",
   "execution_count": 5,
   "metadata": {},
   "outputs": [
    {
     "data": {
      "text/plain": [
       "['cleaned CC data 2000-2017_2019-01-31 01hrs43min.csv']"
      ]
     },
     "execution_count": 5,
     "metadata": {},
     "output_type": "execute_result"
    }
   ],
   "source": [
    "os.chdir(sourceDataBig)\n",
    "mysourcefile = glob.glob('cleaned CC data 2000-2017*')\n",
    "mysourcefile"
   ]
  },
  {
   "cell_type": "markdown",
   "metadata": {},
   "source": [
    "<a id='GetData'></a>"
   ]
  },
  {
   "cell_type": "markdown",
   "metadata": {},
   "source": [
    "# Get Data\n",
    "[Top](#TOC)"
   ]
  },
  {
   "cell_type": "code",
   "execution_count": 6,
   "metadata": {},
   "outputs": [
    {
     "data": {
      "text/html": [
       "<div>\n",
       "<style scoped>\n",
       "    .dataframe tbody tr th:only-of-type {\n",
       "        vertical-align: middle;\n",
       "    }\n",
       "\n",
       "    .dataframe tbody tr th {\n",
       "        vertical-align: top;\n",
       "    }\n",
       "\n",
       "    .dataframe thead th {\n",
       "        text-align: right;\n",
       "    }\n",
       "</style>\n",
       "<table border=\"1\" class=\"dataframe\">\n",
       "  <thead>\n",
       "    <tr style=\"text-align: right;\">\n",
       "      <th></th>\n",
       "      <th>species</th>\n",
       "      <th>toes_orig</th>\n",
       "      <th>sex</th>\n",
       "      <th>date</th>\n",
       "      <th>svl</th>\n",
       "      <th>tl</th>\n",
       "      <th>rtl</th>\n",
       "      <th>autotomized</th>\n",
       "      <th>mass</th>\n",
       "      <th>location</th>\n",
       "      <th>meters</th>\n",
       "      <th>newRecap</th>\n",
       "      <th>painted</th>\n",
       "      <th>sighting</th>\n",
       "      <th>paint.mark</th>\n",
       "      <th>vial</th>\n",
       "      <th>misc</th>\n",
       "      <th>rtl_orig</th>\n",
       "      <th>toes</th>\n",
       "      <th>toe_pattern</th>\n",
       "      <th>year</th>\n",
       "      <th>tl_svl</th>\n",
       "      <th>mass_svl</th>\n",
       "      <th>initialCaptureDate</th>\n",
       "      <th>year_diff</th>\n",
       "      <th>svl_diff</th>\n",
       "      <th>liznumber</th>\n",
       "      <th>sex_count</th>\n",
       "      <th>daysSinceCapture</th>\n",
       "      <th>capture</th>\n",
       "    </tr>\n",
       "  </thead>\n",
       "  <tbody>\n",
       "    <tr>\n",
       "      <th>0</th>\n",
       "      <td>j</td>\n",
       "      <td>2-6-12-15</td>\n",
       "      <td>m</td>\n",
       "      <td>2010-06-19</td>\n",
       "      <td>80.0</td>\n",
       "      <td>110.0</td>\n",
       "      <td>29.0</td>\n",
       "      <td>True</td>\n",
       "      <td>20.0</td>\n",
       "      <td>10m v bottom bowl</td>\n",
       "      <td>-15</td>\n",
       "      <td>?</td>\n",
       "      <td>yes</td>\n",
       "      <td>NaN</td>\n",
       "      <td>y2c</td>\n",
       "      <td>03-10-cc</td>\n",
       "      <td>toe 15 missing at capture; possible recap</td>\n",
       "      <td>29.0</td>\n",
       "      <td>2-6-12-15</td>\n",
       "      <td>NaN</td>\n",
       "      <td>2010</td>\n",
       "      <td>1.375000</td>\n",
       "      <td>0.250000</td>\n",
       "      <td>2010-06-19</td>\n",
       "      <td>0</td>\n",
       "      <td>0.0</td>\n",
       "      <td>893</td>\n",
       "      <td>1</td>\n",
       "      <td>0</td>\n",
       "      <td>1</td>\n",
       "    </tr>\n",
       "    <tr>\n",
       "      <th>1</th>\n",
       "      <td>j</td>\n",
       "      <td>2-6-12-15</td>\n",
       "      <td>m</td>\n",
       "      <td>2010-10-07</td>\n",
       "      <td>86.0</td>\n",
       "      <td>102.0</td>\n",
       "      <td>28.0</td>\n",
       "      <td>True</td>\n",
       "      <td>17.0</td>\n",
       "      <td>6m v bottoom bowl right side 4 m up</td>\n",
       "      <td>NaN</td>\n",
       "      <td>R</td>\n",
       "      <td>yes</td>\n",
       "      <td>NaN</td>\n",
       "      <td>y22c</td>\n",
       "      <td>NaN</td>\n",
       "      <td>loose scale on ventrum and head</td>\n",
       "      <td>28.0</td>\n",
       "      <td>2-6-12-15</td>\n",
       "      <td>NaN</td>\n",
       "      <td>2010</td>\n",
       "      <td>1.186047</td>\n",
       "      <td>0.197674</td>\n",
       "      <td>2010-06-19</td>\n",
       "      <td>0</td>\n",
       "      <td>6.0</td>\n",
       "      <td>893</td>\n",
       "      <td>1</td>\n",
       "      <td>110</td>\n",
       "      <td>2</td>\n",
       "    </tr>\n",
       "    <tr>\n",
       "      <th>2</th>\n",
       "      <td>j</td>\n",
       "      <td>2-9-15-17</td>\n",
       "      <td>f</td>\n",
       "      <td>2010-08-13</td>\n",
       "      <td>56.0</td>\n",
       "      <td>77.0</td>\n",
       "      <td>0.0</td>\n",
       "      <td>False</td>\n",
       "      <td>5.5</td>\n",
       "      <td>20m up CCC</td>\n",
       "      <td>240</td>\n",
       "      <td>N</td>\n",
       "      <td>yes</td>\n",
       "      <td>NaN</td>\n",
       "      <td>y62c</td>\n",
       "      <td>61-10-cc</td>\n",
       "      <td>Tss</td>\n",
       "      <td>0.0</td>\n",
       "      <td>2-9-15-17</td>\n",
       "      <td>NaN</td>\n",
       "      <td>2010</td>\n",
       "      <td>1.375000</td>\n",
       "      <td>0.098214</td>\n",
       "      <td>2010-08-13</td>\n",
       "      <td>0</td>\n",
       "      <td>0.0</td>\n",
       "      <td>929</td>\n",
       "      <td>1</td>\n",
       "      <td>0</td>\n",
       "      <td>1</td>\n",
       "    </tr>\n",
       "    <tr>\n",
       "      <th>3</th>\n",
       "      <td>j</td>\n",
       "      <td>3-6-11-17</td>\n",
       "      <td>m</td>\n",
       "      <td>2010-08-18</td>\n",
       "      <td>50.0</td>\n",
       "      <td>68.0</td>\n",
       "      <td>0.0</td>\n",
       "      <td>False</td>\n",
       "      <td>4.0</td>\n",
       "      <td>1m vT at top R island</td>\n",
       "      <td>157</td>\n",
       "      <td>N</td>\n",
       "      <td>yes</td>\n",
       "      <td>NaN</td>\n",
       "      <td>y&lt;c.t</td>\n",
       "      <td>NaN</td>\n",
       "      <td>Bss; lost toes</td>\n",
       "      <td>0.0</td>\n",
       "      <td>3-6-11-17</td>\n",
       "      <td>NaN</td>\n",
       "      <td>2010</td>\n",
       "      <td>1.360000</td>\n",
       "      <td>0.080000</td>\n",
       "      <td>2010-08-18</td>\n",
       "      <td>0</td>\n",
       "      <td>0.0</td>\n",
       "      <td>936</td>\n",
       "      <td>1</td>\n",
       "      <td>0</td>\n",
       "      <td>1</td>\n",
       "    </tr>\n",
       "    <tr>\n",
       "      <th>4</th>\n",
       "      <td>j</td>\n",
       "      <td>3-6-15-16</td>\n",
       "      <td>f</td>\n",
       "      <td>2010-08-18</td>\n",
       "      <td>72.0</td>\n",
       "      <td>62.0</td>\n",
       "      <td>46.0</td>\n",
       "      <td>True</td>\n",
       "      <td>11.0</td>\n",
       "      <td>halfway between pool and 2 falls 2m up rt side</td>\n",
       "      <td>385</td>\n",
       "      <td>N</td>\n",
       "      <td>yes</td>\n",
       "      <td>NaN</td>\n",
       "      <td>y65c</td>\n",
       "      <td>65-10-cc</td>\n",
       "      <td>NaN</td>\n",
       "      <td>46.0</td>\n",
       "      <td>3-6-15-16</td>\n",
       "      <td>NaN</td>\n",
       "      <td>2010</td>\n",
       "      <td>0.861111</td>\n",
       "      <td>0.152778</td>\n",
       "      <td>2010-08-18</td>\n",
       "      <td>0</td>\n",
       "      <td>0.0</td>\n",
       "      <td>947</td>\n",
       "      <td>1</td>\n",
       "      <td>0</td>\n",
       "      <td>1</td>\n",
       "    </tr>\n",
       "  </tbody>\n",
       "</table>\n",
       "</div>"
      ],
      "text/plain": [
       "  species  toes_orig sex        date   svl     tl   rtl autotomized  mass  \\\n",
       "0       j  2-6-12-15   m  2010-06-19  80.0  110.0  29.0        True  20.0   \n",
       "1       j  2-6-12-15   m  2010-10-07  86.0  102.0  28.0        True  17.0   \n",
       "2       j  2-9-15-17   f  2010-08-13  56.0   77.0   0.0       False   5.5   \n",
       "3       j  3-6-11-17   m  2010-08-18  50.0   68.0   0.0       False   4.0   \n",
       "4       j  3-6-15-16   f  2010-08-18  72.0   62.0  46.0        True  11.0   \n",
       "\n",
       "                                         location meters newRecap painted  \\\n",
       "0                               10m v bottom bowl    -15        ?     yes   \n",
       "1             6m v bottoom bowl right side 4 m up    NaN        R     yes   \n",
       "2                                      20m up CCC    240        N     yes   \n",
       "3                           1m vT at top R island    157        N     yes   \n",
       "4  halfway between pool and 2 falls 2m up rt side    385        N     yes   \n",
       "\n",
       "   sighting paint.mark      vial                                       misc  \\\n",
       "0       NaN        y2c  03-10-cc  toe 15 missing at capture; possible recap   \n",
       "1       NaN       y22c       NaN            loose scale on ventrum and head   \n",
       "2       NaN       y62c  61-10-cc                                        Tss   \n",
       "3       NaN      y<c.t       NaN                             Bss; lost toes   \n",
       "4       NaN       y65c  65-10-cc                                        NaN   \n",
       "\n",
       "   rtl_orig       toes  toe_pattern  year    tl_svl  mass_svl  \\\n",
       "0      29.0  2-6-12-15          NaN  2010  1.375000  0.250000   \n",
       "1      28.0  2-6-12-15          NaN  2010  1.186047  0.197674   \n",
       "2       0.0  2-9-15-17          NaN  2010  1.375000  0.098214   \n",
       "3       0.0  3-6-11-17          NaN  2010  1.360000  0.080000   \n",
       "4      46.0  3-6-15-16          NaN  2010  0.861111  0.152778   \n",
       "\n",
       "  initialCaptureDate  year_diff  svl_diff  liznumber  sex_count  \\\n",
       "0         2010-06-19          0       0.0        893          1   \n",
       "1         2010-06-19          0       6.0        893          1   \n",
       "2         2010-08-13          0       0.0        929          1   \n",
       "3         2010-08-18          0       0.0        936          1   \n",
       "4         2010-08-18          0       0.0        947          1   \n",
       "\n",
       "   daysSinceCapture  capture  \n",
       "0                 0        1  \n",
       "1               110        2  \n",
       "2                 0        1  \n",
       "3                 0        1  \n",
       "4                 0        1  "
      ]
     },
     "execution_count": 6,
     "metadata": {},
     "output_type": "execute_result"
    }
   ],
   "source": [
    "df=pd.read_csv(mysourcefile[-1])\n",
    "df.head()"
   ]
  },
  {
   "cell_type": "markdown",
   "metadata": {},
   "source": [
    "Let's take a look at the number of times that lizards have been captured.  To do this, we'll look at the maximum number of captures for each lizard and then count the number of lizards with each number of captures."
   ]
  },
  {
   "cell_type": "code",
   "execution_count": 7,
   "metadata": {},
   "outputs": [
    {
     "data": {
      "text/html": [
       "<div>\n",
       "<style scoped>\n",
       "    .dataframe tbody tr th:only-of-type {\n",
       "        vertical-align: middle;\n",
       "    }\n",
       "\n",
       "    .dataframe tbody tr th {\n",
       "        vertical-align: top;\n",
       "    }\n",
       "\n",
       "    .dataframe thead th {\n",
       "        text-align: right;\n",
       "    }\n",
       "</style>\n",
       "<table border=\"1\" class=\"dataframe\">\n",
       "  <thead>\n",
       "    <tr style=\"text-align: right;\">\n",
       "      <th></th>\n",
       "      <th>number of captures</th>\n",
       "      <th>number of lizards</th>\n",
       "    </tr>\n",
       "  </thead>\n",
       "  <tbody>\n",
       "    <tr>\n",
       "      <th>0</th>\n",
       "      <td>1</td>\n",
       "      <td>1135</td>\n",
       "    </tr>\n",
       "    <tr>\n",
       "      <th>1</th>\n",
       "      <td>2</td>\n",
       "      <td>281</td>\n",
       "    </tr>\n",
       "    <tr>\n",
       "      <th>2</th>\n",
       "      <td>3</td>\n",
       "      <td>123</td>\n",
       "    </tr>\n",
       "    <tr>\n",
       "      <th>3</th>\n",
       "      <td>4</td>\n",
       "      <td>42</td>\n",
       "    </tr>\n",
       "    <tr>\n",
       "      <th>4</th>\n",
       "      <td>5</td>\n",
       "      <td>21</td>\n",
       "    </tr>\n",
       "    <tr>\n",
       "      <th>5</th>\n",
       "      <td>6</td>\n",
       "      <td>7</td>\n",
       "    </tr>\n",
       "    <tr>\n",
       "      <th>6</th>\n",
       "      <td>7</td>\n",
       "      <td>3</td>\n",
       "    </tr>\n",
       "    <tr>\n",
       "      <th>7</th>\n",
       "      <td>8</td>\n",
       "      <td>2</td>\n",
       "    </tr>\n",
       "    <tr>\n",
       "      <th>8</th>\n",
       "      <td>9</td>\n",
       "      <td>1</td>\n",
       "    </tr>\n",
       "    <tr>\n",
       "      <th>9</th>\n",
       "      <td>88</td>\n",
       "      <td>1</td>\n",
       "    </tr>\n",
       "    <tr>\n",
       "      <th>10</th>\n",
       "      <td>82</td>\n",
       "      <td>1</td>\n",
       "    </tr>\n",
       "    <tr>\n",
       "      <th>11</th>\n",
       "      <td>18</td>\n",
       "      <td>1</td>\n",
       "    </tr>\n",
       "    <tr>\n",
       "      <th>12</th>\n",
       "      <td>20</td>\n",
       "      <td>1</td>\n",
       "    </tr>\n",
       "    <tr>\n",
       "      <th>13</th>\n",
       "      <td>22</td>\n",
       "      <td>1</td>\n",
       "    </tr>\n",
       "    <tr>\n",
       "      <th>14</th>\n",
       "      <td>26</td>\n",
       "      <td>1</td>\n",
       "    </tr>\n",
       "    <tr>\n",
       "      <th>15</th>\n",
       "      <td>31</td>\n",
       "      <td>1</td>\n",
       "    </tr>\n",
       "    <tr>\n",
       "      <th>16</th>\n",
       "      <td>57</td>\n",
       "      <td>1</td>\n",
       "    </tr>\n",
       "    <tr>\n",
       "      <th>17</th>\n",
       "      <td>69</td>\n",
       "      <td>1</td>\n",
       "    </tr>\n",
       "    <tr>\n",
       "      <th>18</th>\n",
       "      <td>17</td>\n",
       "      <td>1</td>\n",
       "    </tr>\n",
       "  </tbody>\n",
       "</table>\n",
       "</div>"
      ],
      "text/plain": [
       "    number of captures  number of lizards\n",
       "0                    1               1135\n",
       "1                    2                281\n",
       "2                    3                123\n",
       "3                    4                 42\n",
       "4                    5                 21\n",
       "5                    6                  7\n",
       "6                    7                  3\n",
       "7                    8                  2\n",
       "8                    9                  1\n",
       "9                   88                  1\n",
       "10                  82                  1\n",
       "11                  18                  1\n",
       "12                  20                  1\n",
       "13                  22                  1\n",
       "14                  26                  1\n",
       "15                  31                  1\n",
       "16                  57                  1\n",
       "17                  69                  1\n",
       "18                  17                  1"
      ]
     },
     "execution_count": 7,
     "metadata": {},
     "output_type": "execute_result"
    }
   ],
   "source": [
    "df.groupby('liznumber').capture.max().value_counts().reset_index()\\\n",
    ".rename(columns={'index':'number of captures','capture':'number of lizards'})"
   ]
  },
  {
   "cell_type": "markdown",
   "metadata": {},
   "source": [
    "<a id='Analyze'></a>"
   ]
  },
  {
   "cell_type": "markdown",
   "metadata": {},
   "source": [
    "## Analyze the data\n",
    "[Top](#TOC)"
   ]
  },
  {
   "cell_type": "markdown",
   "metadata": {},
   "source": [
    "## Reducing the analyses sample by date range and capture"
   ]
  },
  {
   "cell_type": "code",
   "execution_count": 8,
   "metadata": {},
   "outputs": [],
   "source": [
    "# convert date to pandas datetime\n",
    "#df.date=pd.to_datetime(df.date)\n",
    "# limiting months to between May and August\n",
    "# df = df.loc[(df.date.dt.month>=5) & (df.date.dt.month<=8)]\n",
    "# limit to first captures\n",
    "df_first = df.sort_values(by=['liznumber','date'])\n",
    "df_first = df_first.loc[~df_first.duplicated(subset='liznumber')]"
   ]
  },
  {
   "cell_type": "markdown",
   "metadata": {},
   "source": [
    "### Reducing data to species and sex of interest"
   ]
  },
  {
   "cell_type": "code",
   "execution_count": 9,
   "metadata": {},
   "outputs": [
    {
     "name": "stdout",
     "output_type": "stream",
     "text": [
      "\n",
      "1058 of the original data set are entries belonging to a species of interest ['j']\n",
      "\n",
      "1058 of the original data set are entries belonging to a sex categories of interest ['m', 'f']\n"
     ]
    }
   ],
   "source": [
    "species2keep=['j']\n",
    "df_first = df_first.loc[df_first.species.isin(species2keep)]\n",
    "print (\"\\n{} of the original data set are entries belonging to a species of interest {}\"\\\n",
    "       .format(df_first.shape[0],species2keep))\n",
    "sex2keep=['m','f']\n",
    "df = df_first.loc[df_first.sex.isin(sex2keep)]\n",
    "print (\"\\n{} of the original data set are entries belonging to a sex categories of interest {}\"\\\n",
    "       .format(df_first.shape[0],sex2keep))"
   ]
  },
  {
   "cell_type": "markdown",
   "metadata": {},
   "source": [
    "## Number of lizards (*Sj*) by year and sex"
   ]
  },
  {
   "cell_type": "code",
   "execution_count": 10,
   "metadata": {},
   "outputs": [
    {
     "data": {
      "text/plain": [
       "year  sex\n",
       "2000  f      84\n",
       "      m      69\n",
       "2001  f      51\n",
       "      m      48\n",
       "2002  f      33\n",
       "      m      30\n",
       "2003  f      39\n",
       "      m      26\n",
       "2004  f      36\n",
       "      m      25\n",
       "2005  m      35\n",
       "      f      30\n",
       "2007  f      47\n",
       "      m      31\n",
       "2008  m      32\n",
       "      f      27\n",
       "2009  f      53\n",
       "      m      50\n",
       "2010  f      19\n",
       "      m      17\n",
       "2011  f       1\n",
       "2012  f      25\n",
       "      m      18\n",
       "2013  m      19\n",
       "      f      14\n",
       "2014  f      10\n",
       "      m       6\n",
       "2015  m      28\n",
       "      f      26\n",
       "2016  m      22\n",
       "      f      14\n",
       "2017  f      39\n",
       "      m      32\n",
       "Name: sex, dtype: int64"
      ]
     },
     "execution_count": 10,
     "metadata": {},
     "output_type": "execute_result"
    }
   ],
   "source": [
    "df.groupby('year').sex.value_counts()"
   ]
  },
  {
   "cell_type": "markdown",
   "metadata": {
    "scrolled": true
   },
   "source": [
    "Pull out all individuals that we've recaught for Sj and writes to csv"
   ]
  },
  {
   "cell_type": "code",
   "execution_count": 11,
   "metadata": {
    "scrolled": true
   },
   "outputs": [],
   "source": [
    "multicapToes=df.loc[(df.species=='j')& (df.toes!=\"\")& (df.toes!='NA')]\\\n",
    ".toes.value_counts()[df.loc[df.species=='j']\\\n",
    "                     .toes.value_counts()>1].index.tolist()\n",
    "# df.loc[df.toes.isin(multicapToes)].sort_values(by=['toes','date']).to_csv('multicaps.csv')"
   ]
  },
  {
   "cell_type": "markdown",
   "metadata": {},
   "source": [
    "## Maximum Number of Captures"
   ]
  },
  {
   "cell_type": "code",
   "execution_count": 12,
   "metadata": {},
   "outputs": [],
   "source": [
    "dfF = df.loc[df.sex =='f']\n",
    "dfM = df.loc[df.sex =='m']"
   ]
  },
  {
   "cell_type": "code",
   "execution_count": 13,
   "metadata": {
    "scrolled": false
   },
   "outputs": [
    {
     "data": {
      "text/html": [
       "<iframe id=\"igraph\" scrolling=\"no\" style=\"border:none;\" seamless=\"seamless\" src=\"https://plot.ly/~cragard/36.embed\" height=\"525px\" width=\"100%\"></iframe>"
      ],
      "text/plain": [
       "<plotly.tools.PlotlyDisplay object>"
      ]
     },
     "execution_count": 13,
     "metadata": {},
     "output_type": "execute_result"
    }
   ],
   "source": [
    "females = go.Histogram(x = dfF.groupby('liznumber').capture.max(),name='females')\n",
    "males = go.Histogram(x = dfM.groupby('liznumber').capture.max(),name='males')\n",
    "\n",
    "data = [males,females]\n",
    "layout = go.Layout(\n",
    "    title = 'Maximum Number of Captures per Individual 2000-2017',\n",
    "    titlefont = dict(\n",
    "        size = 20),\n",
    "    xaxis = dict(\n",
    "        dtick = 1,\n",
    "        title = 'Maximum Number of Captures',\n",
    "        titlefont = dict(\n",
    "            size = 18)),\n",
    "    yaxis = dict(\n",
    "        title = 'Number of Lizards',\n",
    "        titlefont = dict(\n",
    "            size = 18)))\n",
    "\n",
    "fig = go.Figure(\n",
    "        data = data,\n",
    "        layout = layout)\n",
    "py.iplot(fig, filename = 'Histogram of Maximum Captures per Individual in Crystal Creek 2000 - 2017')"
   ]
  },
  {
   "cell_type": "code",
   "execution_count": 14,
   "metadata": {},
   "outputs": [
    {
     "data": {
      "text/plain": [
       "1    1036\n",
       "Name: capture, dtype: int64"
      ]
     },
     "execution_count": 14,
     "metadata": {},
     "output_type": "execute_result"
    }
   ],
   "source": [
    "df.capture.value_counts()"
   ]
  },
  {
   "cell_type": "code",
   "execution_count": null,
   "metadata": {},
   "outputs": [],
   "source": []
  }
 ],
 "metadata": {
  "kernelspec": {
   "display_name": "Python 3",
   "language": "python",
   "name": "python3"
  },
  "language_info": {
   "codemirror_mode": {
    "name": "ipython",
    "version": 3
   },
   "file_extension": ".py",
   "mimetype": "text/x-python",
   "name": "python",
   "nbconvert_exporter": "python",
   "pygments_lexer": "ipython3",
   "version": "3.6.5"
  }
 },
 "nbformat": 4,
 "nbformat_minor": 2
}
