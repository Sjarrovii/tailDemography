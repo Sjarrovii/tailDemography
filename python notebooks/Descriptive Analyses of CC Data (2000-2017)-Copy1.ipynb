{
 "cells": [
  {
   "cell_type": "markdown",
   "metadata": {},
   "source": [
    "# Introduction\n",
    "This notebook contains code and output of descriptive analyses for the 2000-2017 CC dataset after cleaning."
   ]
  },
  {
   "cell_type": "markdown",
   "metadata": {},
   "source": [
    "<a id='TOC'></a>"
   ]
  },
  {
   "cell_type": "markdown",
   "metadata": {},
   "source": [
    "# Table of Contents\n",
    "1. [Set up Python](#Setup)\n",
    "2. [Functions](#Functions)\n",
    "3. [Getting Data](#GetData)\n",
    "4. [Analyzing Data](#Analyze)\n",
    "5. [Export files](#ExportFiles)"
   ]
  },
  {
   "cell_type": "markdown",
   "metadata": {},
   "source": [
    "<a id='Setup'></a>\n",
    "# Set up Python\n",
    "\n",
    "[Top](#TOC)"
   ]
  },
  {
   "cell_type": "code",
   "execution_count": 1,
   "metadata": {},
   "outputs": [],
   "source": [
    "import pandas as pd\n",
    "import numpy as np\n",
    "import os,glob\n",
    "# import statistics\n",
    "from scipy import stats\n",
    "\n",
    "import plotly\n",
    "import plotly.plotly as py\n",
    "import plotly.figure_factory as ff\n",
    "import plotly.graph_objs as go\n",
    "\n",
    "plotly.tools.set_config_file(world_readable=True)\n",
    "\n",
    "# increase print limit\n",
    "pd.options.display.max_rows = 99999\n",
    "pd.options.display.max_columns = 50"
   ]
  },
  {
   "cell_type": "code",
   "execution_count": 9,
   "metadata": {},
   "outputs": [],
   "source": []
  },
  {
   "cell_type": "markdown",
   "metadata": {},
   "source": [
    "<a id = 'Functions'></a>\n",
    "\n",
    "# Functions\n",
    "\n",
    "This section contains functions that were created for this notebook.\n",
    "\n",
    "- [distribution](#distribution)"
   ]
  },
  {
   "cell_type": "markdown",
   "metadata": {},
   "source": [
    "<a id = 'distribution'></a>\n",
    "\n",
    "## distribution\n",
    "[Back to Top](#TOC)\n",
    "\n",
    "[Back to Functions](#Functions)"
   ]
  },
  {
   "cell_type": "code",
   "execution_count": 21,
   "metadata": {},
   "outputs": [],
   "source": [
    "def distribution(x):\n",
    "    \"\"\"*distribution* takes a series or list of numeric objects, *x*, and returns descriptive stats of x\"\"\"\n",
    "    if isinstance(x,list):\n",
    "        x = pd.Series(x)\n",
    "    try:\n",
    "        n = x.count()\n",
    "        minimum = x.min()\n",
    "        maximum = x.max()\n",
    "        median = x.median()\n",
    "        iqr = stats.iqr(x)\n",
    "        mean = x.mean()\n",
    "        stdev = x.std()\n",
    "        tmp_dict = {'n':[n],'minimum':[minimum], 'maximum':[maximum],\n",
    "                                    'median':[median],'iqr':[iqr],'mean':[mean],\n",
    "                                    'stdev':[stdev]}\n",
    "        res = pd.DataFrame().from_dict(tmp_dict)\n",
    "    except:\n",
    "        nonnumericvalues = []\n",
    "        for v in x:\n",
    "            if not (isinstance(v,int)|(isinstance(v,float))):\n",
    "                nonnumericvalues = nonnumericvalues + [v]\n",
    "        nonnumericvalues\n",
    "        if len(nonnumericvalues)>1:\n",
    "            grammar = 'values in x are'\n",
    "        else:\n",
    "            grammar = 'value in x is'\n",
    "        print(\"x must contain only numeric, or NoneType variables:\\n x:\\n{}\\n the following {} non-numeric:\\n{}\"\\\n",
    "              .format(x,grammar,nonnumericvalues))\n",
    "        res = None\n",
    "    return res\n",
    "    \n",
    "    "
   ]
  },
  {
   "cell_type": "code",
   "execution_count": 22,
   "metadata": {},
   "outputs": [
    {
     "name": "stdout",
     "output_type": "stream",
     "text": [
      "x must contain only numeric, or NoneType variables:\n",
      " x:\n",
      "0    0\n",
      "1    1\n",
      "2    2\n",
      "3    r\n",
      "dtype: object\n",
      " the following value in x is non-numeric:\n",
      "['r']\n"
     ]
    }
   ],
   "source": [
    "foo = [0,1,2,'r']\n",
    "distribution(foo)"
   ]
  },
  {
   "cell_type": "code",
   "execution_count": 23,
   "metadata": {},
   "outputs": [
    {
     "data": {
      "text/html": [
       "<div>\n",
       "<style scoped>\n",
       "    .dataframe tbody tr th:only-of-type {\n",
       "        vertical-align: middle;\n",
       "    }\n",
       "\n",
       "    .dataframe tbody tr th {\n",
       "        vertical-align: top;\n",
       "    }\n",
       "\n",
       "    .dataframe thead th {\n",
       "        text-align: right;\n",
       "    }\n",
       "</style>\n",
       "<table border=\"1\" class=\"dataframe\">\n",
       "  <thead>\n",
       "    <tr style=\"text-align: right;\">\n",
       "      <th></th>\n",
       "      <th>n</th>\n",
       "      <th>minimum</th>\n",
       "      <th>maximum</th>\n",
       "      <th>median</th>\n",
       "      <th>iqr</th>\n",
       "      <th>mean</th>\n",
       "      <th>stdev</th>\n",
       "    </tr>\n",
       "  </thead>\n",
       "  <tbody>\n",
       "    <tr>\n",
       "      <th>0</th>\n",
       "      <td>3</td>\n",
       "      <td>0</td>\n",
       "      <td>2</td>\n",
       "      <td>1.0</td>\n",
       "      <td>1.0</td>\n",
       "      <td>1.0</td>\n",
       "      <td>1.0</td>\n",
       "    </tr>\n",
       "  </tbody>\n",
       "</table>\n",
       "</div>"
      ],
      "text/plain": [
       "   n  minimum  maximum  median  iqr  mean  stdev\n",
       "0  3        0        2     1.0  1.0   1.0    1.0"
      ]
     },
     "execution_count": 23,
     "metadata": {},
     "output_type": "execute_result"
    }
   ],
   "source": [
    "bar = [0,1,2]\n",
    "distribution(bar)"
   ]
  },
  {
   "cell_type": "markdown",
   "metadata": {},
   "source": [
    "[Back to Functions](#Functions)"
   ]
  },
  {
   "cell_type": "markdown",
   "metadata": {},
   "source": [
    "<a id='GetData'></a>"
   ]
  },
  {
   "cell_type": "markdown",
   "metadata": {},
   "source": [
    "# Get Data\n",
    "[Top](#TOC)\n",
    "\n",
    "Here we can set the locations from which we get data and to which we export it."
   ]
  },
  {
   "cell_type": "code",
   "execution_count": 5,
   "metadata": {},
   "outputs": [],
   "source": [
    "# Source Data\n",
    "sourceDataPers = 'C:/Users/Christopher/Google Drive/TailDemography/outputFiles'\n",
    "sourceDataBig = 'S:/Chris/TailDemography/TailDemography/outputFiles'\n",
    "\n",
    "#Output Data paths\n",
    "outputPers = 'C:/Users/Christopher/Google Drive/TailDemography/outputFiles'\n",
    "outputBig = 'S:/Chris/TailDemography/TailDemography/outputFiles'"
   ]
  },
  {
   "cell_type": "markdown",
   "metadata": {},
   "source": [
    "We'll display all files in the source folder with the prefix _'cleaned CC data 2000-2017'_. The file names will be saved in a variable, _mysourcefiles_."
   ]
  },
  {
   "cell_type": "code",
   "execution_count": 6,
   "metadata": {},
   "outputs": [
    {
     "data": {
      "text/plain": [
       "['cleaned CC data 2000-2017_2019-01-31 01hrs43min.csv']"
      ]
     },
     "execution_count": 6,
     "metadata": {},
     "output_type": "execute_result"
    }
   ],
   "source": [
    "os.chdir(sourceDataBig)\n",
    "mysourcefiles = glob.glob('cleaned CC data 2000-2017*')\n",
    "mysourcefiles"
   ]
  },
  {
   "cell_type": "markdown",
   "metadata": {},
   "source": [
    "The most recent file is the one we will use as _df_ in our descriptive analysis."
   ]
  },
  {
   "cell_type": "code",
   "execution_count": 7,
   "metadata": {},
   "outputs": [
    {
     "data": {
      "text/html": [
       "<div>\n",
       "<style scoped>\n",
       "    .dataframe tbody tr th:only-of-type {\n",
       "        vertical-align: middle;\n",
       "    }\n",
       "\n",
       "    .dataframe tbody tr th {\n",
       "        vertical-align: top;\n",
       "    }\n",
       "\n",
       "    .dataframe thead th {\n",
       "        text-align: right;\n",
       "    }\n",
       "</style>\n",
       "<table border=\"1\" class=\"dataframe\">\n",
       "  <thead>\n",
       "    <tr style=\"text-align: right;\">\n",
       "      <th></th>\n",
       "      <th>species</th>\n",
       "      <th>toes_orig</th>\n",
       "      <th>sex</th>\n",
       "      <th>date</th>\n",
       "      <th>svl</th>\n",
       "      <th>tl</th>\n",
       "      <th>rtl</th>\n",
       "      <th>autotomized</th>\n",
       "      <th>mass</th>\n",
       "      <th>location</th>\n",
       "      <th>meters</th>\n",
       "      <th>newRecap</th>\n",
       "      <th>painted</th>\n",
       "      <th>sighting</th>\n",
       "      <th>paint.mark</th>\n",
       "      <th>vial</th>\n",
       "      <th>misc</th>\n",
       "      <th>rtl_orig</th>\n",
       "      <th>toes</th>\n",
       "      <th>toe_pattern</th>\n",
       "      <th>year</th>\n",
       "      <th>tl_svl</th>\n",
       "      <th>mass_svl</th>\n",
       "      <th>initialCaptureDate</th>\n",
       "      <th>year_diff</th>\n",
       "      <th>svl_diff</th>\n",
       "      <th>liznumber</th>\n",
       "      <th>sex_count</th>\n",
       "      <th>daysSinceCapture</th>\n",
       "      <th>capture</th>\n",
       "    </tr>\n",
       "  </thead>\n",
       "  <tbody>\n",
       "    <tr>\n",
       "      <th>0</th>\n",
       "      <td>j</td>\n",
       "      <td>2-6-12-15</td>\n",
       "      <td>m</td>\n",
       "      <td>2010-06-19</td>\n",
       "      <td>80.0</td>\n",
       "      <td>110.0</td>\n",
       "      <td>29.0</td>\n",
       "      <td>True</td>\n",
       "      <td>20.0</td>\n",
       "      <td>10m v bottom bowl</td>\n",
       "      <td>-15</td>\n",
       "      <td>?</td>\n",
       "      <td>yes</td>\n",
       "      <td>NaN</td>\n",
       "      <td>y2c</td>\n",
       "      <td>03-10-cc</td>\n",
       "      <td>toe 15 missing at capture; possible recap</td>\n",
       "      <td>29.0</td>\n",
       "      <td>2-6-12-15</td>\n",
       "      <td>NaN</td>\n",
       "      <td>2010</td>\n",
       "      <td>1.375000</td>\n",
       "      <td>0.250000</td>\n",
       "      <td>2010-06-19</td>\n",
       "      <td>0</td>\n",
       "      <td>0.0</td>\n",
       "      <td>893</td>\n",
       "      <td>1</td>\n",
       "      <td>0</td>\n",
       "      <td>1</td>\n",
       "    </tr>\n",
       "    <tr>\n",
       "      <th>1</th>\n",
       "      <td>j</td>\n",
       "      <td>2-6-12-15</td>\n",
       "      <td>m</td>\n",
       "      <td>2010-10-07</td>\n",
       "      <td>86.0</td>\n",
       "      <td>102.0</td>\n",
       "      <td>28.0</td>\n",
       "      <td>True</td>\n",
       "      <td>17.0</td>\n",
       "      <td>6m v bottoom bowl right side 4 m up</td>\n",
       "      <td>NaN</td>\n",
       "      <td>R</td>\n",
       "      <td>yes</td>\n",
       "      <td>NaN</td>\n",
       "      <td>y22c</td>\n",
       "      <td>NaN</td>\n",
       "      <td>loose scale on ventrum and head</td>\n",
       "      <td>28.0</td>\n",
       "      <td>2-6-12-15</td>\n",
       "      <td>NaN</td>\n",
       "      <td>2010</td>\n",
       "      <td>1.186047</td>\n",
       "      <td>0.197674</td>\n",
       "      <td>2010-06-19</td>\n",
       "      <td>0</td>\n",
       "      <td>6.0</td>\n",
       "      <td>893</td>\n",
       "      <td>1</td>\n",
       "      <td>110</td>\n",
       "      <td>2</td>\n",
       "    </tr>\n",
       "    <tr>\n",
       "      <th>2</th>\n",
       "      <td>j</td>\n",
       "      <td>2-9-15-17</td>\n",
       "      <td>f</td>\n",
       "      <td>2010-08-13</td>\n",
       "      <td>56.0</td>\n",
       "      <td>77.0</td>\n",
       "      <td>0.0</td>\n",
       "      <td>False</td>\n",
       "      <td>5.5</td>\n",
       "      <td>20m up CCC</td>\n",
       "      <td>240</td>\n",
       "      <td>N</td>\n",
       "      <td>yes</td>\n",
       "      <td>NaN</td>\n",
       "      <td>y62c</td>\n",
       "      <td>61-10-cc</td>\n",
       "      <td>Tss</td>\n",
       "      <td>0.0</td>\n",
       "      <td>2-9-15-17</td>\n",
       "      <td>NaN</td>\n",
       "      <td>2010</td>\n",
       "      <td>1.375000</td>\n",
       "      <td>0.098214</td>\n",
       "      <td>2010-08-13</td>\n",
       "      <td>0</td>\n",
       "      <td>0.0</td>\n",
       "      <td>929</td>\n",
       "      <td>1</td>\n",
       "      <td>0</td>\n",
       "      <td>1</td>\n",
       "    </tr>\n",
       "    <tr>\n",
       "      <th>3</th>\n",
       "      <td>j</td>\n",
       "      <td>3-6-11-17</td>\n",
       "      <td>m</td>\n",
       "      <td>2010-08-18</td>\n",
       "      <td>50.0</td>\n",
       "      <td>68.0</td>\n",
       "      <td>0.0</td>\n",
       "      <td>False</td>\n",
       "      <td>4.0</td>\n",
       "      <td>1m vT at top R island</td>\n",
       "      <td>157</td>\n",
       "      <td>N</td>\n",
       "      <td>yes</td>\n",
       "      <td>NaN</td>\n",
       "      <td>y&lt;c.t</td>\n",
       "      <td>NaN</td>\n",
       "      <td>Bss; lost toes</td>\n",
       "      <td>0.0</td>\n",
       "      <td>3-6-11-17</td>\n",
       "      <td>NaN</td>\n",
       "      <td>2010</td>\n",
       "      <td>1.360000</td>\n",
       "      <td>0.080000</td>\n",
       "      <td>2010-08-18</td>\n",
       "      <td>0</td>\n",
       "      <td>0.0</td>\n",
       "      <td>936</td>\n",
       "      <td>1</td>\n",
       "      <td>0</td>\n",
       "      <td>1</td>\n",
       "    </tr>\n",
       "    <tr>\n",
       "      <th>4</th>\n",
       "      <td>j</td>\n",
       "      <td>3-6-15-16</td>\n",
       "      <td>f</td>\n",
       "      <td>2010-08-18</td>\n",
       "      <td>72.0</td>\n",
       "      <td>62.0</td>\n",
       "      <td>46.0</td>\n",
       "      <td>True</td>\n",
       "      <td>11.0</td>\n",
       "      <td>halfway between pool and 2 falls 2m up rt side</td>\n",
       "      <td>385</td>\n",
       "      <td>N</td>\n",
       "      <td>yes</td>\n",
       "      <td>NaN</td>\n",
       "      <td>y65c</td>\n",
       "      <td>65-10-cc</td>\n",
       "      <td>NaN</td>\n",
       "      <td>46.0</td>\n",
       "      <td>3-6-15-16</td>\n",
       "      <td>NaN</td>\n",
       "      <td>2010</td>\n",
       "      <td>0.861111</td>\n",
       "      <td>0.152778</td>\n",
       "      <td>2010-08-18</td>\n",
       "      <td>0</td>\n",
       "      <td>0.0</td>\n",
       "      <td>947</td>\n",
       "      <td>1</td>\n",
       "      <td>0</td>\n",
       "      <td>1</td>\n",
       "    </tr>\n",
       "  </tbody>\n",
       "</table>\n",
       "</div>"
      ],
      "text/plain": [
       "  species  toes_orig sex        date   svl     tl   rtl autotomized  mass  \\\n",
       "0       j  2-6-12-15   m  2010-06-19  80.0  110.0  29.0        True  20.0   \n",
       "1       j  2-6-12-15   m  2010-10-07  86.0  102.0  28.0        True  17.0   \n",
       "2       j  2-9-15-17   f  2010-08-13  56.0   77.0   0.0       False   5.5   \n",
       "3       j  3-6-11-17   m  2010-08-18  50.0   68.0   0.0       False   4.0   \n",
       "4       j  3-6-15-16   f  2010-08-18  72.0   62.0  46.0        True  11.0   \n",
       "\n",
       "                                         location meters newRecap painted  \\\n",
       "0                               10m v bottom bowl    -15        ?     yes   \n",
       "1             6m v bottoom bowl right side 4 m up    NaN        R     yes   \n",
       "2                                      20m up CCC    240        N     yes   \n",
       "3                           1m vT at top R island    157        N     yes   \n",
       "4  halfway between pool and 2 falls 2m up rt side    385        N     yes   \n",
       "\n",
       "   sighting paint.mark      vial                                       misc  \\\n",
       "0       NaN        y2c  03-10-cc  toe 15 missing at capture; possible recap   \n",
       "1       NaN       y22c       NaN            loose scale on ventrum and head   \n",
       "2       NaN       y62c  61-10-cc                                        Tss   \n",
       "3       NaN      y<c.t       NaN                             Bss; lost toes   \n",
       "4       NaN       y65c  65-10-cc                                        NaN   \n",
       "\n",
       "   rtl_orig       toes  toe_pattern  year    tl_svl  mass_svl  \\\n",
       "0      29.0  2-6-12-15          NaN  2010  1.375000  0.250000   \n",
       "1      28.0  2-6-12-15          NaN  2010  1.186047  0.197674   \n",
       "2       0.0  2-9-15-17          NaN  2010  1.375000  0.098214   \n",
       "3       0.0  3-6-11-17          NaN  2010  1.360000  0.080000   \n",
       "4      46.0  3-6-15-16          NaN  2010  0.861111  0.152778   \n",
       "\n",
       "  initialCaptureDate  year_diff  svl_diff  liznumber  sex_count  \\\n",
       "0         2010-06-19          0       0.0        893          1   \n",
       "1         2010-06-19          0       6.0        893          1   \n",
       "2         2010-08-13          0       0.0        929          1   \n",
       "3         2010-08-18          0       0.0        936          1   \n",
       "4         2010-08-18          0       0.0        947          1   \n",
       "\n",
       "   daysSinceCapture  capture  \n",
       "0                 0        1  \n",
       "1               110        2  \n",
       "2                 0        1  \n",
       "3                 0        1  \n",
       "4                 0        1  "
      ]
     },
     "execution_count": 7,
     "metadata": {},
     "output_type": "execute_result"
    }
   ],
   "source": [
    "df=pd.read_csv(mysourcefiles[-1])\n",
    "df.head()"
   ]
  },
  {
   "cell_type": "markdown",
   "metadata": {},
   "source": [
    "<a id ='Analyze'></a>\n",
    "# Analyze Data\n",
    "[Top](#TOC)\n",
    "\n",
    "We will first examine the range and distribution of number of variables in our data set:\n",
    "\n",
    "- [Species](#Species)\n",
    "- [Sex](#Sex)\n",
    "- [SVL](#SVL)\n",
    "- [Date](#Date)\n",
    "- [Captures](#Captures)\n",
    "\n",
    "\n"
   ]
  },
  {
   "cell_type": "markdown",
   "metadata": {},
   "source": [
    "<a id = 'Species'></a>\n",
    "\n",
    "# Species\n",
    "\n",
    "We will begin by examining the range and distribution of _species_ values.\n",
    "\n",
    "[Back to Top](#TOC)\n",
    "\n",
    "[Back to Analyze Data](#Analyze)"
   ]
  },
  {
   "cell_type": "code",
   "execution_count": 8,
   "metadata": {},
   "outputs": [
    {
     "data": {
      "text/plain": [
       "j        1790\n",
       "v         833\n",
       "other     233\n",
       "sj?         1\n",
       "Name: species, dtype: int64"
      ]
     },
     "execution_count": 8,
     "metadata": {},
     "output_type": "execute_result"
    }
   ],
   "source": [
    "df.species.value_counts(dropna=False)"
   ]
  },
  {
   "cell_type": "markdown",
   "metadata": {},
   "source": [
    "These values should only be _'j', 'v', and 'other'_ any other values will be removed in the cleaning notebook and excluded from further analyses here."
   ]
  },
  {
   "cell_type": "code",
   "execution_count": 35,
   "metadata": {},
   "outputs": [
    {
     "data": {
      "text/plain": [
       "j    1768\n",
       "v     826\n",
       "Name: species, dtype: int64"
      ]
     },
     "execution_count": 35,
     "metadata": {},
     "output_type": "execute_result"
    }
   ],
   "source": [
    "df = df.loc[df.species.isin(['j','v'])]\n",
    "df.species.value_counts(dropna=False)"
   ]
  },
  {
   "cell_type": "markdown",
   "metadata": {},
   "source": [
    "<a id = 'Sex'></a>\n",
    "\n",
    "# Sex\n",
    "\n",
    "We will begin by examining the range and distribution of _sex_ values.\n",
    "\n",
    "[Back to Top](#TOC)\n",
    "\n",
    "[Back to Analyze Data](#Analyze)"
   ]
  },
  {
   "cell_type": "code",
   "execution_count": 10,
   "metadata": {},
   "outputs": [
    {
     "data": {
      "text/plain": [
       "f       1345\n",
       "m       1250\n",
       "NaN       23\n",
       "n          2\n",
       "male       1\n",
       "f`         1\n",
       "[m]        1\n",
       "Name: sex, dtype: int64"
      ]
     },
     "execution_count": 10,
     "metadata": {},
     "output_type": "execute_result"
    }
   ],
   "source": [
    "df.sex.value_counts(dropna=False)"
   ]
  },
  {
   "cell_type": "markdown",
   "metadata": {},
   "source": [
    "These values should only be _'m' and 'f'_.  Any other values will be removed in the cleaning notebook and excluded from further analyses here."
   ]
  },
  {
   "cell_type": "code",
   "execution_count": 36,
   "metadata": {},
   "outputs": [
    {
     "data": {
      "text/plain": [
       "f    1345\n",
       "m    1249\n",
       "Name: sex, dtype: int64"
      ]
     },
     "execution_count": 36,
     "metadata": {},
     "output_type": "execute_result"
    }
   ],
   "source": [
    "df = df.loc[df.sex.isin(['m','f'])]\n",
    "df.sex.value_counts(dropna=False)"
   ]
  },
  {
   "cell_type": "markdown",
   "metadata": {},
   "source": [
    "<a id = 'SVL'></a>\n",
    "\n",
    "# SVL\n",
    "\n",
    "Now we examine the range and distribution of svl values by species.\n",
    "\n",
    "[Back to Top](#TOC)\n",
    "\n",
    "[Back to Analyze Data](#Analyze)\n",
    "\n"
   ]
  },
  {
   "cell_type": "markdown",
   "metadata": {},
   "source": [
    "We will use the [distribution](#distribution) function to do this and then plot these values.\n",
    "\n",
    "- [Histogram of SVL](#SVLhist)"
   ]
  },
  {
   "cell_type": "code",
   "execution_count": 13,
   "metadata": {
    "scrolled": true
   },
   "outputs": [
    {
     "name": "stdout",
     "output_type": "stream",
     "text": [
      "svl values in the data set range from 13.0 to 98.0 for and are distributed across species and sex as displayed here:\n"
     ]
    },
    {
     "data": {
      "text/html": [
       "<div>\n",
       "<style scoped>\n",
       "    .dataframe tbody tr th:only-of-type {\n",
       "        vertical-align: middle;\n",
       "    }\n",
       "\n",
       "    .dataframe tbody tr th {\n",
       "        vertical-align: top;\n",
       "    }\n",
       "\n",
       "    .dataframe thead th {\n",
       "        text-align: right;\n",
       "    }\n",
       "</style>\n",
       "<table border=\"1\" class=\"dataframe\">\n",
       "  <thead>\n",
       "    <tr style=\"text-align: right;\">\n",
       "      <th></th>\n",
       "      <th></th>\n",
       "      <th></th>\n",
       "      <th>n</th>\n",
       "      <th>minimum</th>\n",
       "      <th>maximum</th>\n",
       "      <th>median</th>\n",
       "      <th>iqr</th>\n",
       "      <th>mean</th>\n",
       "      <th>stdev</th>\n",
       "    </tr>\n",
       "    <tr>\n",
       "      <th>species</th>\n",
       "      <th>sex</th>\n",
       "      <th></th>\n",
       "      <th></th>\n",
       "      <th></th>\n",
       "      <th></th>\n",
       "      <th></th>\n",
       "      <th></th>\n",
       "      <th></th>\n",
       "      <th></th>\n",
       "    </tr>\n",
       "  </thead>\n",
       "  <tbody>\n",
       "    <tr>\n",
       "      <th rowspan=\"2\" valign=\"top\">j</th>\n",
       "      <th>f</th>\n",
       "      <th>0</th>\n",
       "      <td>971</td>\n",
       "      <td>13.0</td>\n",
       "      <td>87.0</td>\n",
       "      <td>65.0</td>\n",
       "      <td>18.0</td>\n",
       "      <td>61.993821</td>\n",
       "      <td>13.828328</td>\n",
       "    </tr>\n",
       "    <tr>\n",
       "      <th>m</th>\n",
       "      <th>0</th>\n",
       "      <td>797</td>\n",
       "      <td>24.0</td>\n",
       "      <td>98.0</td>\n",
       "      <td>73.0</td>\n",
       "      <td>25.0</td>\n",
       "      <td>68.618570</td>\n",
       "      <td>17.687760</td>\n",
       "    </tr>\n",
       "    <tr>\n",
       "      <th rowspan=\"2\" valign=\"top\">v</th>\n",
       "      <th>f</th>\n",
       "      <th>0</th>\n",
       "      <td>374</td>\n",
       "      <td>31.0</td>\n",
       "      <td>66.0</td>\n",
       "      <td>56.0</td>\n",
       "      <td>7.0</td>\n",
       "      <td>55.002674</td>\n",
       "      <td>5.916985</td>\n",
       "    </tr>\n",
       "    <tr>\n",
       "      <th>m</th>\n",
       "      <th>0</th>\n",
       "      <td>453</td>\n",
       "      <td>28.0</td>\n",
       "      <td>79.0</td>\n",
       "      <td>51.0</td>\n",
       "      <td>6.0</td>\n",
       "      <td>50.441501</td>\n",
       "      <td>4.965745</td>\n",
       "    </tr>\n",
       "  </tbody>\n",
       "</table>\n",
       "</div>"
      ],
      "text/plain": [
       "                 n  minimum  maximum  median   iqr       mean      stdev\n",
       "species sex                                                             \n",
       "j       f   0  971     13.0     87.0    65.0  18.0  61.993821  13.828328\n",
       "        m   0  797     24.0     98.0    73.0  25.0  68.618570  17.687760\n",
       "v       f   0  374     31.0     66.0    56.0   7.0  55.002674   5.916985\n",
       "        m   0  453     28.0     79.0    51.0   6.0  50.441501   4.965745"
      ]
     },
     "execution_count": 13,
     "metadata": {},
     "output_type": "execute_result"
    }
   ],
   "source": [
    "print(\"svl values in the data set range from {} to {} for and are distributed across species and sex \\\n",
    "as displayed here:\"\\\n",
    "      .format(df.svl.min(), df.svl.max()))\n",
    "df.groupby(['species','sex']).svl.apply(distribution)"
   ]
  },
  {
   "cell_type": "markdown",
   "metadata": {},
   "source": [
    "Let's plot these values. "
   ]
  },
  {
   "cell_type": "markdown",
   "metadata": {},
   "source": [
    "<a id = 'SVLhist'></a>\n",
    "\n",
    "## Histogram of svl values\n",
    "\n",
    "[back to Top](#TOC)\n",
    "\n",
    "[back to Analyze](#Analyze)\n"
   ]
  },
  {
   "cell_type": "code",
   "execution_count": 26,
   "metadata": {},
   "outputs": [
    {
     "data": {
      "text/html": [
       "<iframe id=\"igraph\" scrolling=\"no\" style=\"border:none;\" seamless=\"seamless\" src=\"https://plot.ly/~cragard/101.embed\" height=\"525px\" width=\"100%\"></iframe>"
      ],
      "text/plain": [
       "<plotly.tools.PlotlyDisplay object>"
      ]
     },
     "execution_count": 26,
     "metadata": {},
     "output_type": "execute_result"
    }
   ],
   "source": [
    "femaleSj = go.Histogram(x = df.loc[(df.species=='j')&(df.sex=='f')].svl,name='Sj females')\n",
    "maleSj = go.Histogram(x = df.loc[(df.species=='j')&(df.sex=='m')].svl,name='Sj males')\n",
    "femaleSv = go.Histogram(x = df.loc[(df.species=='v')&(df.sex=='f')].svl,name='Sv females')\n",
    "maleSv = go.Histogram(x = df.loc[(df.species=='v')&(df.sex=='m')].svl,name='Sv males')\n",
    "\n",
    "data = [maleSj,maleSv,femaleSj,femaleSv]\n",
    "layout = go.Layout(\n",
    "    title = 'Histogram of SVL at Capture for CC 2000-2017',\n",
    "    titlefont = dict(\n",
    "        size = 20),\n",
    "    xaxis = dict(\n",
    "        dtick = 1,\n",
    "        title = 'SVL at time of capture',\n",
    "        titlefont = dict(\n",
    "            size = 18)),\n",
    "    yaxis = dict(\n",
    "        title = 'Number of Lizards',\n",
    "        titlefont = dict(\n",
    "            size = 18)))\n",
    "\n",
    "fig = go.Figure(\n",
    "        data = data,\n",
    "        layout = layout)\n",
    "py.iplot(fig, filename = 'Histogram of SVL at Capture for CC 2000-2017')"
   ]
  },
  {
   "cell_type": "markdown",
   "metadata": {},
   "source": [
    " Outliers will be addressed in the Cleaning notebook, but will be removed for the remained of the analyses here."
   ]
  },
  {
   "cell_type": "code",
   "execution_count": 37,
   "metadata": {},
   "outputs": [
    {
     "name": "stdout",
     "output_type": "stream",
     "text": [
      "svl values in the data set range from 13.0 to 98.0 for and are distributed across species and sex as displayed here:\n"
     ]
    },
    {
     "data": {
      "text/html": [
       "<div>\n",
       "<style scoped>\n",
       "    .dataframe tbody tr th:only-of-type {\n",
       "        vertical-align: middle;\n",
       "    }\n",
       "\n",
       "    .dataframe tbody tr th {\n",
       "        vertical-align: top;\n",
       "    }\n",
       "\n",
       "    .dataframe thead th {\n",
       "        text-align: right;\n",
       "    }\n",
       "</style>\n",
       "<table border=\"1\" class=\"dataframe\">\n",
       "  <thead>\n",
       "    <tr style=\"text-align: right;\">\n",
       "      <th></th>\n",
       "      <th></th>\n",
       "      <th></th>\n",
       "      <th>n</th>\n",
       "      <th>minimum</th>\n",
       "      <th>maximum</th>\n",
       "      <th>median</th>\n",
       "      <th>iqr</th>\n",
       "      <th>mean</th>\n",
       "      <th>stdev</th>\n",
       "    </tr>\n",
       "    <tr>\n",
       "      <th>species</th>\n",
       "      <th>sex</th>\n",
       "      <th></th>\n",
       "      <th></th>\n",
       "      <th></th>\n",
       "      <th></th>\n",
       "      <th></th>\n",
       "      <th></th>\n",
       "      <th></th>\n",
       "      <th></th>\n",
       "    </tr>\n",
       "  </thead>\n",
       "  <tbody>\n",
       "    <tr>\n",
       "      <th rowspan=\"2\" valign=\"top\">j</th>\n",
       "      <th>f</th>\n",
       "      <th>0</th>\n",
       "      <td>971</td>\n",
       "      <td>13.0</td>\n",
       "      <td>87.0</td>\n",
       "      <td>65.0</td>\n",
       "      <td>18.0</td>\n",
       "      <td>61.993821</td>\n",
       "      <td>13.828328</td>\n",
       "    </tr>\n",
       "    <tr>\n",
       "      <th>m</th>\n",
       "      <th>0</th>\n",
       "      <td>797</td>\n",
       "      <td>24.0</td>\n",
       "      <td>98.0</td>\n",
       "      <td>73.0</td>\n",
       "      <td>25.0</td>\n",
       "      <td>68.618570</td>\n",
       "      <td>17.687760</td>\n",
       "    </tr>\n",
       "    <tr>\n",
       "      <th rowspan=\"2\" valign=\"top\">v</th>\n",
       "      <th>f</th>\n",
       "      <th>0</th>\n",
       "      <td>374</td>\n",
       "      <td>31.0</td>\n",
       "      <td>66.0</td>\n",
       "      <td>56.0</td>\n",
       "      <td>7.0</td>\n",
       "      <td>55.002674</td>\n",
       "      <td>5.916985</td>\n",
       "    </tr>\n",
       "    <tr>\n",
       "      <th>m</th>\n",
       "      <th>0</th>\n",
       "      <td>452</td>\n",
       "      <td>28.0</td>\n",
       "      <td>60.0</td>\n",
       "      <td>51.0</td>\n",
       "      <td>6.0</td>\n",
       "      <td>50.378319</td>\n",
       "      <td>4.785489</td>\n",
       "    </tr>\n",
       "  </tbody>\n",
       "</table>\n",
       "</div>"
      ],
      "text/plain": [
       "                 n  minimum  maximum  median   iqr       mean      stdev\n",
       "species sex                                                             \n",
       "j       f   0  971     13.0     87.0    65.0  18.0  61.993821  13.828328\n",
       "        m   0  797     24.0     98.0    73.0  25.0  68.618570  17.687760\n",
       "v       f   0  374     31.0     66.0    56.0   7.0  55.002674   5.916985\n",
       "        m   0  452     28.0     60.0    51.0   6.0  50.378319   4.785489"
      ]
     },
     "execution_count": 37,
     "metadata": {},
     "output_type": "execute_result"
    }
   ],
   "source": [
    "df.loc[(df.species=='v')&(df.svl==79)] = None\n",
    "print(\"svl values in the data set range from {} to {} for and are distributed across species and sex \\\n",
    "as displayed here:\"\\\n",
    "      .format(df.svl.min(), df.svl.max()))\n",
    "df.groupby(['species','sex']).svl.apply(distribution)"
   ]
  },
  {
   "cell_type": "markdown",
   "metadata": {},
   "source": [
    "<a id = 'Date'></a>\n",
    "\n",
    "# Date\n",
    "\n",
    "Next we will look at the distribution of the data points over by month in which they occur.\n",
    "\n",
    "[Back to Top](#TOC)\n",
    "\n",
    "[Back to Analyze Data](#Analyze)"
   ]
  },
  {
   "cell_type": "markdown",
   "metadata": {},
   "source": [
    "<a id = 'Captures'></a>\n",
    "\n",
    "# Captures\n",
    "\n",
    "[Back to Top](#TOC)\n",
    "\n",
    "[Back to Analyze Data](#Analyze)"
   ]
  },
  {
   "cell_type": "markdown",
   "metadata": {},
   "source": [
    "Let's take a look at the number of times that lizards have been captured.  To do this, we will group lizards by lizard number and then look at the maximum number of captures for each lizard and finally count the number of lizards that have a given number of captures."
   ]
  },
  {
   "cell_type": "code",
   "execution_count": null,
   "metadata": {},
   "outputs": [],
   "source": [
    "df.groupby('liznumber').capture.max().value_counts().reset_index()\\\n",
    ".rename(columns={'index':'number of captures','capture':'number of lizards'})"
   ]
  },
  {
   "cell_type": "markdown",
   "metadata": {},
   "source": [
    "## Reducing the analyses sample by date range and capture"
   ]
  },
  {
   "cell_type": "code",
   "execution_count": null,
   "metadata": {},
   "outputs": [],
   "source": [
    "# convert date to pandas datetime\n",
    "#df.date=pd.to_datetime(df.date)\n",
    "# limiting months to between May and August\n",
    "# df = df.loc[(df.date.dt.month>=5) & (df.date.dt.month<=8)]\n",
    "# limit to first captures\n",
    "df_first = df.sort_values(by=['liznumber','date'])\n",
    "df_first = df_first.loc[~df_first.duplicated(subset='liznumber')]"
   ]
  },
  {
   "cell_type": "markdown",
   "metadata": {},
   "source": [
    "### Reducing data to species and sex of interest"
   ]
  },
  {
   "cell_type": "code",
   "execution_count": null,
   "metadata": {},
   "outputs": [],
   "source": [
    "species2keep=['j']\n",
    "df_first = df_first.loc[df_first.species.isin(species2keep)]\n",
    "print (\"\\n{} of the original data set are entries belonging to a species of interest {}\"\\\n",
    "       .format(df_first.shape[0],species2keep))\n",
    "sex2keep=['m','f']\n",
    "df = df_first.loc[df_first.sex.isin(sex2keep)]\n",
    "print (\"\\n{} of the original data set are entries belonging to a sex categories of interest {}\"\\\n",
    "       .format(df_first.shape[0],sex2keep))"
   ]
  },
  {
   "cell_type": "markdown",
   "metadata": {},
   "source": [
    "## Number of lizards (*Sj*) by year and sex"
   ]
  },
  {
   "cell_type": "code",
   "execution_count": null,
   "metadata": {},
   "outputs": [],
   "source": [
    "df.groupby('year').sex.value_counts()"
   ]
  },
  {
   "cell_type": "markdown",
   "metadata": {
    "scrolled": true
   },
   "source": [
    "Pull out all individuals that we've recaught for Sj and writes to csv"
   ]
  },
  {
   "cell_type": "code",
   "execution_count": null,
   "metadata": {
    "scrolled": true
   },
   "outputs": [],
   "source": [
    "multicapToes=df.loc[(df.species=='j')& (df.toes!=\"\")& (df.toes!='NA')]\\\n",
    ".toes.value_counts()[df.loc[df.species=='j']\\\n",
    "                     .toes.value_counts()>1].index.tolist()\n",
    "# df.loc[df.toes.isin(multicapToes)].sort_values(by=['toes','date']).to_csv('multicaps.csv')"
   ]
  },
  {
   "cell_type": "markdown",
   "metadata": {},
   "source": [
    "## Maximum Number of Captures"
   ]
  },
  {
   "cell_type": "code",
   "execution_count": null,
   "metadata": {},
   "outputs": [],
   "source": [
    "dfF = df.loc[df.sex =='f']\n",
    "dfM = df.loc[df.sex =='m']\n",
    "\n",
    "females = go.Histogram(x = dfF.groupby('liznumber').capture.max(),name='females')\n",
    "males = go.Histogram(x = dfM.groupby('liznumber').capture.max(),name='males')\n",
    "\n",
    "data = [males,females]\n",
    "layout = go.Layout(\n",
    "    title = 'Maximum Number of Captures per Individual 2000-2017',\n",
    "    titlefont = dict(\n",
    "        size = 20),\n",
    "    xaxis = dict(\n",
    "        dtick = 1,\n",
    "        title = 'Maximum Number of Captures',\n",
    "        titlefont = dict(\n",
    "            size = 18)),\n",
    "    yaxis = dict(\n",
    "        title = 'Number of Lizards',\n",
    "        titlefont = dict(\n",
    "            size = 18)))\n",
    "\n",
    "fig = go.Figure(\n",
    "        data = data,\n",
    "        layout = layout)\n",
    "py.iplot(fig, filename = 'Histogram of Maximum Captures per Individual in Crystal Creek 2000 - 2017')"
   ]
  },
  {
   "cell_type": "code",
   "execution_count": null,
   "metadata": {},
   "outputs": [],
   "source": [
    "df.capture.value_counts()"
   ]
  },
  {
   "cell_type": "code",
   "execution_count": null,
   "metadata": {},
   "outputs": [],
   "source": []
  }
 ],
 "metadata": {
  "kernelspec": {
   "display_name": "Python 3",
   "language": "python",
   "name": "python3"
  },
  "language_info": {
   "codemirror_mode": {
    "name": "ipython",
    "version": 3
   },
   "file_extension": ".py",
   "mimetype": "text/x-python",
   "name": "python",
   "nbconvert_exporter": "python",
   "pygments_lexer": "ipython3",
   "version": "3.6.5"
  }
 },
 "nbformat": 4,
 "nbformat_minor": 2
}
