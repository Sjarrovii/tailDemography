{
 "cells": [
  {
   "cell_type": "markdown",
   "metadata": {},
   "source": [
    "This notebook contains code and output of descriptive analyses for the 2000-2017 CC dataset after cleaning"
   ]
  },
  {
   "cell_type": "markdown",
   "metadata": {},
   "source": [
    "# Setting up the Python environment\n",
    "Ensure that the following packages have been installed using \"pip install <packagename>\" from the python command line before running the next chunk:\n",
    "- pandas\n",
    "- gsspread\n",
    "- oauth2client.service_account\n",
    "\n",
    "**Note: This chunk takes a while to execute.**"
   ]
  },
  {
   "cell_type": "code",
   "execution_count": 1,
   "metadata": {},
   "outputs": [],
   "source": [
    "import pandas as pd\n",
    "import numpy as np\n",
    "import os,glob\n",
    "\n",
    "import plotly\n",
    "import plotly.plotly as py\n",
    "import plotly.graph_objs as go\n",
    "\n",
    "plotly.tools.set_config_file(world_readable=True)\n",
    "\n",
    "# increase print limit\n",
    "pd.options.display.max_rows = 99999\n",
    "pd.options.display.max_columns = 50"
   ]
  },
  {
   "cell_type": "markdown",
   "metadata": {},
   "source": [
    "Now we read the data"
   ]
  },
  {
   "cell_type": "code",
   "execution_count": 2,
   "metadata": {},
   "outputs": [],
   "source": [
    "# Source Data\n",
    "sourceDataPers = 'C:/Users/Christopher/Google Drive/TailDemography/outputFiles'\n",
    "sourceDataBig = 'S:/Chris/TailDemography/TailDemography/outputFiles'\n",
    "\n",
    "#Output Data paths\n",
    "outputPers = 'C:/Users/Christopher/Google Drive/TailDemography/outputFiles'\n",
    "outputBig = 'S:/Chris/TailDemography/TailDemography/outputFiles'"
   ]
  },
  {
   "cell_type": "code",
   "execution_count": 3,
   "metadata": {},
   "outputs": [
    {
     "data": {
      "text/plain": [
       "['cleaned CC data 2000-2017_2019-01-31 01hrs43min.csv']"
      ]
     },
     "execution_count": 3,
     "metadata": {},
     "output_type": "execute_result"
    }
   ],
   "source": [
    "os.chdir(sourceDataBig)\n",
    "mysourcefile = glob.glob('cleaned CC data 2000-2017*')\n",
    "mysourcefile"
   ]
  },
  {
   "cell_type": "code",
   "execution_count": 4,
   "metadata": {},
   "outputs": [
    {
     "data": {
      "text/html": [
       "<div>\n",
       "<style scoped>\n",
       "    .dataframe tbody tr th:only-of-type {\n",
       "        vertical-align: middle;\n",
       "    }\n",
       "\n",
       "    .dataframe tbody tr th {\n",
       "        vertical-align: top;\n",
       "    }\n",
       "\n",
       "    .dataframe thead th {\n",
       "        text-align: right;\n",
       "    }\n",
       "</style>\n",
       "<table border=\"1\" class=\"dataframe\">\n",
       "  <thead>\n",
       "    <tr style=\"text-align: right;\">\n",
       "      <th></th>\n",
       "      <th>species</th>\n",
       "      <th>toes_orig</th>\n",
       "      <th>sex</th>\n",
       "      <th>date</th>\n",
       "      <th>svl</th>\n",
       "      <th>tl</th>\n",
       "      <th>rtl</th>\n",
       "      <th>autotomized</th>\n",
       "      <th>mass</th>\n",
       "      <th>location</th>\n",
       "      <th>meters</th>\n",
       "      <th>newRecap</th>\n",
       "      <th>painted</th>\n",
       "      <th>sighting</th>\n",
       "      <th>paint.mark</th>\n",
       "      <th>vial</th>\n",
       "      <th>misc</th>\n",
       "      <th>rtl_orig</th>\n",
       "      <th>toes</th>\n",
       "      <th>toe_pattern</th>\n",
       "      <th>year</th>\n",
       "      <th>tl_svl</th>\n",
       "      <th>mass_svl</th>\n",
       "      <th>initialCaptureDate</th>\n",
       "      <th>year_diff</th>\n",
       "      <th>svl_diff</th>\n",
       "      <th>liznumber</th>\n",
       "      <th>sex_count</th>\n",
       "      <th>daysSinceCapture</th>\n",
       "      <th>capture</th>\n",
       "    </tr>\n",
       "  </thead>\n",
       "  <tbody>\n",
       "    <tr>\n",
       "      <th>0</th>\n",
       "      <td>j</td>\n",
       "      <td>2-6-12-15</td>\n",
       "      <td>m</td>\n",
       "      <td>2010-06-19</td>\n",
       "      <td>80.0</td>\n",
       "      <td>110.0</td>\n",
       "      <td>29.0</td>\n",
       "      <td>True</td>\n",
       "      <td>20.0</td>\n",
       "      <td>10m v bottom bowl</td>\n",
       "      <td>-15</td>\n",
       "      <td>?</td>\n",
       "      <td>yes</td>\n",
       "      <td>NaN</td>\n",
       "      <td>y2c</td>\n",
       "      <td>03-10-cc</td>\n",
       "      <td>toe 15 missing at capture; possible recap</td>\n",
       "      <td>29.0</td>\n",
       "      <td>2-6-12-15</td>\n",
       "      <td>NaN</td>\n",
       "      <td>2010</td>\n",
       "      <td>1.375000</td>\n",
       "      <td>0.250000</td>\n",
       "      <td>2010-06-19</td>\n",
       "      <td>0</td>\n",
       "      <td>0.0</td>\n",
       "      <td>893</td>\n",
       "      <td>1</td>\n",
       "      <td>0</td>\n",
       "      <td>1</td>\n",
       "    </tr>\n",
       "    <tr>\n",
       "      <th>1</th>\n",
       "      <td>j</td>\n",
       "      <td>2-6-12-15</td>\n",
       "      <td>m</td>\n",
       "      <td>2010-10-07</td>\n",
       "      <td>86.0</td>\n",
       "      <td>102.0</td>\n",
       "      <td>28.0</td>\n",
       "      <td>True</td>\n",
       "      <td>17.0</td>\n",
       "      <td>6m v bottoom bowl right side 4 m up</td>\n",
       "      <td>NaN</td>\n",
       "      <td>R</td>\n",
       "      <td>yes</td>\n",
       "      <td>NaN</td>\n",
       "      <td>y22c</td>\n",
       "      <td>NaN</td>\n",
       "      <td>loose scale on ventrum and head</td>\n",
       "      <td>28.0</td>\n",
       "      <td>2-6-12-15</td>\n",
       "      <td>NaN</td>\n",
       "      <td>2010</td>\n",
       "      <td>1.186047</td>\n",
       "      <td>0.197674</td>\n",
       "      <td>2010-06-19</td>\n",
       "      <td>0</td>\n",
       "      <td>6.0</td>\n",
       "      <td>893</td>\n",
       "      <td>1</td>\n",
       "      <td>110</td>\n",
       "      <td>2</td>\n",
       "    </tr>\n",
       "    <tr>\n",
       "      <th>2</th>\n",
       "      <td>j</td>\n",
       "      <td>2-9-15-17</td>\n",
       "      <td>f</td>\n",
       "      <td>2010-08-13</td>\n",
       "      <td>56.0</td>\n",
       "      <td>77.0</td>\n",
       "      <td>0.0</td>\n",
       "      <td>False</td>\n",
       "      <td>5.5</td>\n",
       "      <td>20m up CCC</td>\n",
       "      <td>240</td>\n",
       "      <td>N</td>\n",
       "      <td>yes</td>\n",
       "      <td>NaN</td>\n",
       "      <td>y62c</td>\n",
       "      <td>61-10-cc</td>\n",
       "      <td>Tss</td>\n",
       "      <td>0.0</td>\n",
       "      <td>2-9-15-17</td>\n",
       "      <td>NaN</td>\n",
       "      <td>2010</td>\n",
       "      <td>1.375000</td>\n",
       "      <td>0.098214</td>\n",
       "      <td>2010-08-13</td>\n",
       "      <td>0</td>\n",
       "      <td>0.0</td>\n",
       "      <td>929</td>\n",
       "      <td>1</td>\n",
       "      <td>0</td>\n",
       "      <td>1</td>\n",
       "    </tr>\n",
       "    <tr>\n",
       "      <th>3</th>\n",
       "      <td>j</td>\n",
       "      <td>3-6-11-17</td>\n",
       "      <td>m</td>\n",
       "      <td>2010-08-18</td>\n",
       "      <td>50.0</td>\n",
       "      <td>68.0</td>\n",
       "      <td>0.0</td>\n",
       "      <td>False</td>\n",
       "      <td>4.0</td>\n",
       "      <td>1m vT at top R island</td>\n",
       "      <td>157</td>\n",
       "      <td>N</td>\n",
       "      <td>yes</td>\n",
       "      <td>NaN</td>\n",
       "      <td>y&lt;c.t</td>\n",
       "      <td>NaN</td>\n",
       "      <td>Bss; lost toes</td>\n",
       "      <td>0.0</td>\n",
       "      <td>3-6-11-17</td>\n",
       "      <td>NaN</td>\n",
       "      <td>2010</td>\n",
       "      <td>1.360000</td>\n",
       "      <td>0.080000</td>\n",
       "      <td>2010-08-18</td>\n",
       "      <td>0</td>\n",
       "      <td>0.0</td>\n",
       "      <td>936</td>\n",
       "      <td>1</td>\n",
       "      <td>0</td>\n",
       "      <td>1</td>\n",
       "    </tr>\n",
       "    <tr>\n",
       "      <th>4</th>\n",
       "      <td>j</td>\n",
       "      <td>3-6-15-16</td>\n",
       "      <td>f</td>\n",
       "      <td>2010-08-18</td>\n",
       "      <td>72.0</td>\n",
       "      <td>62.0</td>\n",
       "      <td>46.0</td>\n",
       "      <td>True</td>\n",
       "      <td>11.0</td>\n",
       "      <td>halfway between pool and 2 falls 2m up rt side</td>\n",
       "      <td>385</td>\n",
       "      <td>N</td>\n",
       "      <td>yes</td>\n",
       "      <td>NaN</td>\n",
       "      <td>y65c</td>\n",
       "      <td>65-10-cc</td>\n",
       "      <td>NaN</td>\n",
       "      <td>46.0</td>\n",
       "      <td>3-6-15-16</td>\n",
       "      <td>NaN</td>\n",
       "      <td>2010</td>\n",
       "      <td>0.861111</td>\n",
       "      <td>0.152778</td>\n",
       "      <td>2010-08-18</td>\n",
       "      <td>0</td>\n",
       "      <td>0.0</td>\n",
       "      <td>947</td>\n",
       "      <td>1</td>\n",
       "      <td>0</td>\n",
       "      <td>1</td>\n",
       "    </tr>\n",
       "  </tbody>\n",
       "</table>\n",
       "</div>"
      ],
      "text/plain": [
       "  species  toes_orig sex        date   svl     tl   rtl autotomized  mass  \\\n",
       "0       j  2-6-12-15   m  2010-06-19  80.0  110.0  29.0        True  20.0   \n",
       "1       j  2-6-12-15   m  2010-10-07  86.0  102.0  28.0        True  17.0   \n",
       "2       j  2-9-15-17   f  2010-08-13  56.0   77.0   0.0       False   5.5   \n",
       "3       j  3-6-11-17   m  2010-08-18  50.0   68.0   0.0       False   4.0   \n",
       "4       j  3-6-15-16   f  2010-08-18  72.0   62.0  46.0        True  11.0   \n",
       "\n",
       "                                         location meters newRecap painted  \\\n",
       "0                               10m v bottom bowl    -15        ?     yes   \n",
       "1             6m v bottoom bowl right side 4 m up    NaN        R     yes   \n",
       "2                                      20m up CCC    240        N     yes   \n",
       "3                           1m vT at top R island    157        N     yes   \n",
       "4  halfway between pool and 2 falls 2m up rt side    385        N     yes   \n",
       "\n",
       "   sighting paint.mark      vial                                       misc  \\\n",
       "0       NaN        y2c  03-10-cc  toe 15 missing at capture; possible recap   \n",
       "1       NaN       y22c       NaN            loose scale on ventrum and head   \n",
       "2       NaN       y62c  61-10-cc                                        Tss   \n",
       "3       NaN      y<c.t       NaN                             Bss; lost toes   \n",
       "4       NaN       y65c  65-10-cc                                        NaN   \n",
       "\n",
       "   rtl_orig       toes  toe_pattern  year    tl_svl  mass_svl  \\\n",
       "0      29.0  2-6-12-15          NaN  2010  1.375000  0.250000   \n",
       "1      28.0  2-6-12-15          NaN  2010  1.186047  0.197674   \n",
       "2       0.0  2-9-15-17          NaN  2010  1.375000  0.098214   \n",
       "3       0.0  3-6-11-17          NaN  2010  1.360000  0.080000   \n",
       "4      46.0  3-6-15-16          NaN  2010  0.861111  0.152778   \n",
       "\n",
       "  initialCaptureDate  year_diff  svl_diff  liznumber  sex_count  \\\n",
       "0         2010-06-19          0       0.0        893          1   \n",
       "1         2010-06-19          0       6.0        893          1   \n",
       "2         2010-08-13          0       0.0        929          1   \n",
       "3         2010-08-18          0       0.0        936          1   \n",
       "4         2010-08-18          0       0.0        947          1   \n",
       "\n",
       "   daysSinceCapture  capture  \n",
       "0                 0        1  \n",
       "1               110        2  \n",
       "2                 0        1  \n",
       "3                 0        1  \n",
       "4                 0        1  "
      ]
     },
     "execution_count": 4,
     "metadata": {},
     "output_type": "execute_result"
    }
   ],
   "source": [
    "df=pd.read_csv(mysourcefile[0])\n",
    "df.head()"
   ]
  },
  {
   "cell_type": "markdown",
   "metadata": {},
   "source": [
    "The following tables exclude non-ideal values for the variables in question, but once the columns are cleaned in the source file, this won't be an issue."
   ]
  },
  {
   "cell_type": "markdown",
   "metadata": {},
   "source": [
    "Create boolean flag to drop data from analyses"
   ]
  },
  {
   "cell_type": "code",
   "execution_count": 5,
   "metadata": {},
   "outputs": [],
   "source": [
    "df['myDrop']= pd.np.nan\n",
    "df['dropReason']= pd.np.nan"
   ]
  },
  {
   "cell_type": "markdown",
   "metadata": {},
   "source": [
    "Populate 'myDrop' column bsed on outliers in data"
   ]
  },
  {
   "cell_type": "markdown",
   "metadata": {},
   "source": [
    "df.loc[((df.svl>75)& (df.species=='v')),'myDrop']=True\n",
    "df.loc[((df.svl>75)& (df.species=='v')),'dropReason']='svl;species'\n",
    "df.loc[((df.species=='j')&(df.mass>40)),'myDrop']=True\n",
    "df.loc[((df.species=='j')&(df.mass>40)),'dropReason']='svl;mass'\n",
    "df.loc[((df.species=='v')&(df.mass>25)),'myDrop']=True\n",
    "df.loc[((df.species=='v')&(df.mass>25)),'dropReason']='svl;mass'\n",
    "df.loc[df.meters.dropna().astype(int)< -50,'myDrop']=True\n",
    "df.loc[df.meters.dropna().astype(int)< -50,'dropReason']='meters'\n",
    "df.myDrop.value_counts()"
   ]
  },
  {
   "cell_type": "markdown",
   "metadata": {},
   "source": [
    "Create a dataframe of values based on myDrop==True and export to csv."
   ]
  },
  {
   "cell_type": "markdown",
   "metadata": {},
   "source": [
    "df2run=df.loc[df.myDrop!=True]\n",
    "df2Check=df.loc[df.myDrop==True,]\n",
    "df2Check"
   ]
  },
  {
   "cell_type": "code",
   "execution_count": 12,
   "metadata": {
    "collapsed": true
   },
   "outputs": [],
   "source": [
    "# df2Check.to_csv(\"Outliers to check(2000-2017).csv\")"
   ]
  },
  {
   "cell_type": "code",
   "execution_count": 13,
   "metadata": {
    "collapsed": true
   },
   "outputs": [],
   "source": [
    "# df.to_csv(\"Descriptive Analyses of CC Data (2000-2017).csv\")"
   ]
  },
  {
   "cell_type": "markdown",
   "metadata": {},
   "source": [
    "## Summary Analyses"
   ]
  },
  {
   "cell_type": "markdown",
   "metadata": {},
   "source": [
    "### Tables\n",
    "\n",
    "**NOTE:**  We need to format these into laTex tables or something else that has borders."
   ]
  },
  {
   "cell_type": "code",
   "execution_count": 14,
   "metadata": {},
   "outputs": [],
   "source": [
    "df=df.loc[(df.sex.isin(['m','f']))& df.species.isin(['j','v'])]"
   ]
  },
  {
   "cell_type": "code",
   "execution_count": 15,
   "metadata": {},
   "outputs": [
    {
     "data": {
      "text/plain": [
       "species  sex\n",
       "j        f      971\n",
       "         m      797\n",
       "v        f      374\n",
       "         m      452\n",
       "Name: autotomized, dtype: int64"
      ]
     },
     "execution_count": 15,
     "metadata": {},
     "output_type": "execute_result"
    }
   ],
   "source": [
    "df.groupby(['species','sex'])['autotomized'].count()"
   ]
  },
  {
   "cell_type": "markdown",
   "metadata": {},
   "source": [
    "df.loc[df.myDrop!=True].groupby(['species','sex','autotomized'])['new.recap'].count()"
   ]
  },
  {
   "cell_type": "markdown",
   "metadata": {},
   "source": [
    "**NOTE:  The plots below need to be edited to better label the axes.**"
   ]
  },
  {
   "cell_type": "markdown",
   "metadata": {},
   "source": [
    "**NOTE** exclude outliers and rerun (include if mass_svl<0.6)"
   ]
  },
  {
   "cell_type": "markdown",
   "metadata": {},
   "source": [
    "## Adult lizards"
   ]
  },
  {
   "cell_type": "markdown",
   "metadata": {},
   "source": [
    "### S. jarrovii\n",
    "#### SVL"
   ]
  },
  {
   "cell_type": "code",
   "execution_count": 16,
   "metadata": {},
   "outputs": [
    {
     "name": "stdout",
     "output_type": "stream",
     "text": [
      "['S. jarrovii', 'S. virgatus']\n",
      "['female', 'male']\n"
     ]
    }
   ],
   "source": [
    "species=['S. jarrovii', 'S. virgatus']\n",
    "print(species)\n",
    "sex=['female','male']\n",
    "print(sex)"
   ]
  },
  {
   "cell_type": "code",
   "execution_count": 27,
   "metadata": {},
   "outputs": [
    {
     "data": {
      "text/plain": [
       "<IPython.core.display.Javascript object>"
      ]
     },
     "metadata": {},
     "output_type": "display_data"
    },
    {
     "data": {
      "text/html": [
       "<img src=\"data:image/png;base64,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\" width=\"640\">"
      ],
      "text/plain": [
       "<IPython.core.display.HTML object>"
      ]
     },
     "metadata": {},
     "output_type": "execute_result"
    },
    {
     "data": {
      "text/plain": [
       "<matplotlib.text.Text at 0x1f53273a588>"
      ]
     },
     "execution_count": 27,
     "metadata": {},
     "output_type": "execute_result"
    }
   ],
   "source": [
    "jSvl=df2run.loc[df2run.species=='j'].boxplot(column='svl',by=['sex','age_class'])\n",
    "jSvl.set_title(species[0])\n",
    "jSvl.set_ylabel('SVL (mm)')\n",
    "jSvl.set_ylim(0,110)\n",
    "plt.suptitle(\"\")"
   ]
  },
  {
   "cell_type": "code",
   "execution_count": 18,
   "metadata": {
    "scrolled": true
   },
   "outputs": [
    {
     "data": {
      "text/plain": [
       "<IPython.core.display.Javascript object>"
      ]
     },
     "metadata": {},
     "output_type": "display_data"
    },
    {
     "data": {
      "text/html": [
       "<div id='8b4e908b-07e9-41aa-811c-867d782be9c7'></div>"
      ],
      "text/plain": [
       "<IPython.core.display.HTML object>"
      ]
     },
     "metadata": {},
     "output_type": "execute_result"
    },
    {
     "data": {
      "text/plain": [
       "<matplotlib.text.Text at 0x1f541578400>"
      ]
     },
     "execution_count": 18,
     "metadata": {},
     "output_type": "execute_result"
    }
   ],
   "source": [
    "vSvl=df2run.loc[df2run.species=='v'].boxplot(column='svl',by=['sex','age_class'])                                \n",
    "vSvl.set_title(species[1])\n",
    "vSvl.set_ylabel('SVL (mm)')\n",
    "vSvl.set_ylim(0,110)\n",
    "plt.suptitle(\"\")"
   ]
  },
  {
   "cell_type": "markdown",
   "metadata": {},
   "source": [
    "#### TL\n",
    "\n",
    "There are some hi juveniles values here"
   ]
  },
  {
   "cell_type": "code",
   "execution_count": 19,
   "metadata": {
    "scrolled": true
   },
   "outputs": [
    {
     "data": {
      "text/plain": [
       "<IPython.core.display.Javascript object>"
      ]
     },
     "metadata": {},
     "output_type": "display_data"
    },
    {
     "data": {
      "text/html": [
       "<div id='8dfa8102-9a74-42e7-bf5c-f9dbe9d062e8'></div>"
      ],
      "text/plain": [
       "<IPython.core.display.HTML object>"
      ]
     },
     "metadata": {},
     "output_type": "execute_result"
    },
    {
     "data": {
      "text/plain": [
       "<matplotlib.text.Text at 0x1f55e1ff7b8>"
      ]
     },
     "execution_count": 19,
     "metadata": {},
     "output_type": "execute_result"
    }
   ],
   "source": [
    "jTL=df2run.loc[df2run.species=='j'].boxplot(column=['tl'],by=['sex', 'age_class'])\n",
    "jTL.set_title(species[0])\n",
    "jTL.set_ylabel('TL (mm)')\n",
    "jTL.set_ylim(0,140)\n",
    "plt.suptitle(\"\")"
   ]
  },
  {
   "cell_type": "code",
   "execution_count": 20,
   "metadata": {
    "scrolled": true
   },
   "outputs": [
    {
     "data": {
      "text/plain": [
       "<IPython.core.display.Javascript object>"
      ]
     },
     "metadata": {},
     "output_type": "display_data"
    },
    {
     "data": {
      "text/html": [
       "<div id='205ad0e4-e5d9-4780-86fe-db20dcaec3af'></div>"
      ],
      "text/plain": [
       "<IPython.core.display.HTML object>"
      ]
     },
     "metadata": {},
     "output_type": "execute_result"
    },
    {
     "data": {
      "text/plain": [
       "<matplotlib.text.Text at 0x1f55e30bcc0>"
      ]
     },
     "execution_count": 20,
     "metadata": {},
     "output_type": "execute_result"
    }
   ],
   "source": [
    "vTL=df2run.loc[df2run.species=='v'].boxplot(column=['tl'],by=['sex', 'age_class'])\n",
    "vTL.set_title(species[1])\n",
    "vTL.set_ylabel('TL (mm)')\n",
    "vTL.set_ylim(0,140)\n",
    "plt.suptitle(\"\")"
   ]
  },
  {
   "cell_type": "markdown",
   "metadata": {},
   "source": [
    "#### mass\n",
    "\n",
    "**NOTE:** There are still some low mass Sj adults that we need to investigate"
   ]
  },
  {
   "cell_type": "code",
   "execution_count": 21,
   "metadata": {},
   "outputs": [
    {
     "data": {
      "text/plain": [
       "<IPython.core.display.Javascript object>"
      ]
     },
     "metadata": {},
     "output_type": "display_data"
    },
    {
     "data": {
      "text/html": [
       "<div id='f3b8bd99-48a4-434c-9ecb-a2fbce7425af'></div>"
      ],
      "text/plain": [
       "<IPython.core.display.HTML object>"
      ]
     },
     "metadata": {},
     "output_type": "execute_result"
    },
    {
     "data": {
      "text/plain": [
       "<matplotlib.text.Text at 0x1f55e428550>"
      ]
     },
     "execution_count": 21,
     "metadata": {},
     "output_type": "execute_result"
    }
   ],
   "source": [
    "jMass=df2run.loc[df2run.species=='j'].boxplot(column=['mass'],by=['sex', 'age_class'])\n",
    "jMass.set_title(species[0])\n",
    "jMass.set_ylabel('Mass (g)')\n",
    "jMass.set_ylim(0,35)\n",
    "plt.suptitle(\"\")"
   ]
  },
  {
   "cell_type": "code",
   "execution_count": 22,
   "metadata": {},
   "outputs": [
    {
     "data": {
      "text/plain": [
       "<IPython.core.display.Javascript object>"
      ]
     },
     "metadata": {},
     "output_type": "display_data"
    },
    {
     "data": {
      "text/html": [
       "<div id='053f0792-5530-4511-b160-d85527f5a22f'></div>"
      ],
      "text/plain": [
       "<IPython.core.display.HTML object>"
      ]
     },
     "metadata": {},
     "output_type": "execute_result"
    },
    {
     "data": {
      "text/plain": [
       "<matplotlib.text.Text at 0x1f55e55ef60>"
      ]
     },
     "execution_count": 22,
     "metadata": {},
     "output_type": "execute_result"
    }
   ],
   "source": [
    "vMass=df2run.loc[df2run.species=='v'].boxplot(column=['mass'],by=['sex', 'age_class'])\n",
    "vMass.set_title(species[1])\n",
    "vMass.set_ylabel('Mass (g)')\n",
    "vMass.set_ylim(0,35)\n",
    "plt.suptitle(\"\")"
   ]
  },
  {
   "cell_type": "markdown",
   "metadata": {},
   "source": [
    "#### TL/SVL Ratio\n",
    "**NOTE:** There are still some low SVL/TL ratios here for adults that we need to look into"
   ]
  },
  {
   "cell_type": "code",
   "execution_count": 23,
   "metadata": {},
   "outputs": [
    {
     "data": {
      "text/plain": [
       "<IPython.core.display.Javascript object>"
      ]
     },
     "metadata": {},
     "output_type": "display_data"
    },
    {
     "data": {
      "text/html": [
       "<div id='1ae8e6e4-4e15-4700-98f5-0240657891f4'></div>"
      ],
      "text/plain": [
       "<IPython.core.display.HTML object>"
      ]
     },
     "metadata": {},
     "output_type": "execute_result"
    },
    {
     "data": {
      "text/plain": [
       "<matplotlib.text.Text at 0x1f55e679c18>"
      ]
     },
     "execution_count": 23,
     "metadata": {},
     "output_type": "execute_result"
    }
   ],
   "source": [
    "jTlSvl=df2run.loc[df2run.species=='j'].boxplot(column=['tl_svl'],by=['sex', 'age_class'])\n",
    "jTlSvl.set_title(species[0])\n",
    "jTlSvl.set_ylabel('TL/SVL')\n",
    "jTlSvl.set_ylim(0,2.25)\n",
    "plt.suptitle(\"\")"
   ]
  },
  {
   "cell_type": "code",
   "execution_count": 24,
   "metadata": {},
   "outputs": [
    {
     "data": {
      "text/plain": [
       "<IPython.core.display.Javascript object>"
      ]
     },
     "metadata": {},
     "output_type": "display_data"
    },
    {
     "data": {
      "text/html": [
       "<div id='e6a72359-c8c0-4339-bd74-2915a39eb798'></div>"
      ],
      "text/plain": [
       "<IPython.core.display.HTML object>"
      ]
     },
     "metadata": {},
     "output_type": "execute_result"
    },
    {
     "data": {
      "text/plain": [
       "<matplotlib.text.Text at 0x1f55e79d400>"
      ]
     },
     "execution_count": 24,
     "metadata": {},
     "output_type": "execute_result"
    }
   ],
   "source": [
    "vTlSvl=df2run.loc[df2run.species=='v'].boxplot(column=['tl_svl'],by=['sex', 'age_class'])\n",
    "vTlSvl.set_title(species[1])\n",
    "vTlSvl.set_ylabel('TL/SVL')\n",
    "vTlSvl.set_ylim(0,2.25)\n",
    "plt.suptitle(\"\")"
   ]
  },
  {
   "cell_type": "code",
   "execution_count": 25,
   "metadata": {},
   "outputs": [
    {
     "data": {
      "text/plain": [
       "<IPython.core.display.Javascript object>"
      ]
     },
     "metadata": {},
     "output_type": "display_data"
    },
    {
     "data": {
      "text/html": [
       "<div id='782a8d3b-78af-461f-a828-2db4b03d77a0'></div>"
      ],
      "text/plain": [
       "<IPython.core.display.HTML object>"
      ]
     },
     "metadata": {},
     "output_type": "execute_result"
    },
    {
     "data": {
      "text/plain": [
       "<matplotlib.text.Text at 0x1f55e8a2048>"
      ]
     },
     "execution_count": 25,
     "metadata": {},
     "output_type": "execute_result"
    }
   ],
   "source": [
    "jMassSvl=df2run.loc[df2run.species=='j'].boxplot(column=['mass_svl'],by=['sex', 'age_class'])\n",
    "jMassSvl.set_title(species[0])\n",
    "jMassSvl.set_ylabel('Mass/SVL (g/mm)')\n",
    "jMassSvl.set_ylim(0,.8)\n",
    "plt.suptitle(\"\")"
   ]
  },
  {
   "cell_type": "code",
   "execution_count": 26,
   "metadata": {},
   "outputs": [
    {
     "ename": "SyntaxError",
     "evalue": "invalid syntax (<ipython-input-26-e59d522a0a84>, line 4)",
     "output_type": "error",
     "traceback": [
      "\u001b[1;36m  File \u001b[1;32m\"<ipython-input-26-e59d522a0a84>\"\u001b[1;36m, line \u001b[1;32m4\u001b[0m\n\u001b[1;33m    vMassSvl.set_ylim(0,.)\u001b[0m\n\u001b[1;37m                        ^\u001b[0m\n\u001b[1;31mSyntaxError\u001b[0m\u001b[1;31m:\u001b[0m invalid syntax\n"
     ]
    }
   ],
   "source": [
    "vMassSvl=df2run.loc[df2run.species=='v'].boxplot(column=['mass_svl'],by=['sex', 'age_class'])\n",
    "vMassSvl.set_title(species[1])\n",
    "vMassSvl.set_ylabel('Mass/SVL (g/mm)')\n",
    "vMassSvl.set_ylim(0,.)\n",
    "plt.suptitle(\"\")"
   ]
  },
  {
   "cell_type": "code",
   "execution_count": null,
   "metadata": {
    "collapsed": true
   },
   "outputs": [],
   "source": [
    "df.loc[(df.age_class=='adult')&(df.myDrop!=True),].groupby('species').boxplot(column=['mass_svl'],by=['sex'])\n",
    "df.loc[(df.age_class=='juvenile')&(df.myDrop!=True),].groupby('species').boxplot(column=['mass_svl'],by=['sex'])"
   ]
  },
  {
   "cell_type": "markdown",
   "metadata": {},
   "source": [
    "Add groupby arguments that include species ageclass and sex for all summaries\n",
    "    - consider adding year\n",
    "Types of visualizations:\n",
    "- tables (autotomy, new/recap (1st sightings only)\n",
    "- boxplots (svl, tl, rtl, mass)\n",
    "- histograms (age class (svl), meters (location))"
   ]
  },
  {
   "cell_type": "markdown",
   "metadata": {},
   "source": [
    "For inferential stats\n",
    "- differences:\n",
    "    - between seasons within years \n",
    "    - between years (weather and fire)\n",
    "    - population density (revist how to calculate this)\n",
    "        - ran study until flatline\n",
    "        - do we need to account for person-hours still?"
   ]
  },
  {
   "cell_type": "markdown",
   "metadata": {},
   "source": [
    "The following histograms show the distribution of animals linearly along the site.  The x-axis is location in meters and the y axis in the number of animals.  The graphs are separated by sex and species."
   ]
  },
  {
   "cell_type": "markdown",
   "metadata": {},
   "source": [
    "The differences between the adults and juvenile are interesting, no?"
   ]
  },
  {
   "cell_type": "markdown",
   "metadata": {},
   "source": [
    "Adults"
   ]
  },
  {
   "cell_type": "code",
   "execution_count": null,
   "metadata": {
    "collapsed": true
   },
   "outputs": [],
   "source": [
    "#Scale the figures so that the y axes are the same\n",
    "df.loc[(df.myDrop!=True)&(df.age_class=='adult')].groupby('species').hist(column='svl',by=['sex'])"
   ]
  },
  {
   "cell_type": "markdown",
   "metadata": {},
   "source": [
    "Juveniles"
   ]
  },
  {
   "cell_type": "code",
   "execution_count": null,
   "metadata": {
    "collapsed": true
   },
   "outputs": [],
   "source": [
    "df.loc[(df.myDrop!=True)&(df.age_class=='juvenile')].groupby('species').hist(column='svl',by=['sex'])"
   ]
  },
  {
   "cell_type": "markdown",
   "metadata": {},
   "source": [
    "TL - Adults"
   ]
  },
  {
   "cell_type": "code",
   "execution_count": null,
   "metadata": {
    "collapsed": true,
    "scrolled": true
   },
   "outputs": [],
   "source": [
    "#Standardize x and y axes\n",
    "df.loc[(df.myDrop!=True)&(df.age_class=='adult')].groupby('species').hist(column='tl',by=['sex'])"
   ]
  },
  {
   "cell_type": "markdown",
   "metadata": {},
   "source": [
    "Juveniles"
   ]
  },
  {
   "cell_type": "code",
   "execution_count": null,
   "metadata": {
    "collapsed": true
   },
   "outputs": [],
   "source": [
    "df.loc[(df.myDrop!=True)&(df.age_class=='juvenile')].groupby('species').hist(column='tl',by=['sex'])"
   ]
  },
  {
   "cell_type": "markdown",
   "metadata": {},
   "source": [
    "Overall view of tail loss\n",
    "**NOTE:** The autotomized==True argumetn is throwing an error here for some reason and rtl!=0 may exclude autotomized individuals which haven't regrown tail. Have to chase this down later"
   ]
  },
  {
   "cell_type": "code",
   "execution_count": null,
   "metadata": {
    "collapsed": true,
    "scrolled": false
   },
   "outputs": [],
   "source": [
    "#df.loc[(df.myDrop!=True)&(df.age_class=='adult')&(df.autotomized==True)].hist(column='rtl',by=['species','sex'])\n",
    "#df.loc[(df.myDrop!=True)&(df.age_class=='juvenile')&(df.autotomized==True)].hist(column='rtl',by=['species','sex'])\n",
    "#df.loc[df.rtl!=0].hist(column='rtl',by=['species','sex'])"
   ]
  },
  {
   "cell_type": "markdown",
   "metadata": {},
   "source": [
    "Adults"
   ]
  },
  {
   "cell_type": "code",
   "execution_count": null,
   "metadata": {
    "collapsed": true,
    "scrolled": true
   },
   "outputs": [],
   "source": [
    "df.loc[((df.age_class=='adult')&(df.myDrop!=True)),].groupby('species').hist(column='tl',by=['sex'])"
   ]
  },
  {
   "cell_type": "markdown",
   "metadata": {},
   "source": [
    "Juveniles"
   ]
  },
  {
   "cell_type": "code",
   "execution_count": null,
   "metadata": {
    "collapsed": true
   },
   "outputs": [],
   "source": [
    "df.loc[(df.myDrop!=True)&(df.age_class=='juvenile')].groupby('species').hist(column='svl',by=['sex'])"
   ]
  },
  {
   "cell_type": "code",
   "execution_count": null,
   "metadata": {
    "collapsed": true,
    "scrolled": true
   },
   "outputs": [],
   "source": [
    "df.loc[((df.myDrop!=True)&(df.age_class=='adult')),].groupby('species').hist(column='mass',by=['sex'])"
   ]
  },
  {
   "cell_type": "code",
   "execution_count": null,
   "metadata": {
    "collapsed": true
   },
   "outputs": [],
   "source": []
  }
 ],
 "metadata": {
  "kernelspec": {
   "display_name": "Python 3",
   "language": "python",
   "name": "python3"
  },
  "language_info": {
   "codemirror_mode": {
    "name": "ipython",
    "version": 3
   },
   "file_extension": ".py",
   "mimetype": "text/x-python",
   "name": "python",
   "nbconvert_exporter": "python",
   "pygments_lexer": "ipython3",
   "version": "3.6.5"
  }
 },
 "nbformat": 4,
 "nbformat_minor": 2
}
