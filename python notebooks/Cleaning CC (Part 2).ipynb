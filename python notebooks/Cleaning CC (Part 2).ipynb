{
 "cells": [
  {
   "cell_type": "markdown",
   "metadata": {},
   "source": [
    "# Cleaning CC data"
   ]
  },
  {
   "cell_type": "markdown",
   "metadata": {},
   "source": [
    "This python notebook operates on a csv created after editing in open refine and is designed to finish cleaning columns of interest which were easier to clean in python."
   ]
  },
  {
   "cell_type": "markdown",
   "metadata": {},
   "source": [
    "# [Resume Here](#resumehere)"
   ]
  },
  {
   "cell_type": "markdown",
   "metadata": {},
   "source": [
    "<a id='TOC'></a>"
   ]
  },
  {
   "cell_type": "markdown",
   "metadata": {},
   "source": [
    "# Table of Contents\n",
    "\n",
    "1. [Setting up Python](#SettingUp)\n",
    "    \n",
    "    1. [Setting the Location](#SettingLoc)\n",
    "    \n",
    "    2. [Importing Data](#ImportingData)\n",
    "    \n",
    "    3. [Preparing for a Save](#PreparingSave)\n",
    "    \n",
    "4. [Functions](#Functions)\n",
    "    \n",
    "2. [Inspecting the Data](#InspectingData)\n",
    "3. [Cleaning Data](#CleaningData)\n",
    "    1. [Column-by-Column Cleaning](#ColbyCol)\n",
    "        1. [rtl](#rtl)\n",
    "        2. [tl](#tl)\n",
    "        3. [svl](#svl)\n",
    "        4. [autotomized](#autotomized)\n",
    "        5. [toes](#toes)\n",
    "        6. [sex](#sex)\n",
    "        7. [species](#species)\n",
    "        7. [new.recap](#newrecap)\n",
    "    2. [Correcting class of columns](#CorrectingClass)\n",
    "    \n",
    "4. [Adding Columns](#AddCol)\n",
    "\n",
    "    1. [TL_SVL](#TlSvl)\n",
    "    \n",
    "    2. [Mass_SVL](#MassSvl)\n",
    "    \n",
    "    3. [Lizard Number](#LizardNumber)\n",
    "\n",
    "5. [Export Cleaned Data](#exportFinal)"
   ]
  },
  {
   "cell_type": "markdown",
   "metadata": {},
   "source": [
    "<a id='outstanding'></a>"
   ]
  },
  {
   "cell_type": "markdown",
   "metadata": {},
   "source": [
    "# Outstanding Problems\n",
    "\n",
    "1. [outstanding1](#outstanding1)\n",
    "2. [outstanding2](#outstanding2)\n",
    "3. [outstanding3](#outstanding3)\n",
    "4. [outstanding4](#outstanding4)"
   ]
  },
  {
   "cell_type": "markdown",
   "metadata": {},
   "source": [
    "<a id='SettingUp'></a>"
   ]
  },
  {
   "cell_type": "markdown",
   "metadata": {},
   "source": [
    "# Setting up Python\n",
    "\n",
    "[Top](#TOC)\n",
    "\n",
    "Here we import necessary packages. \n",
    "This chunk may take a while."
   ]
  },
  {
   "cell_type": "code",
   "execution_count": 1,
   "metadata": {},
   "outputs": [],
   "source": [
    "import pandas as pd\n",
    "import numpy as np\n",
    "import os\n",
    "from liz_number import lizsort,mindate,smallest,validate\n",
    "from liz_toes import make_str,label_pattern, replace_pattern,report_pattern\n",
    "\n",
    "import plotly\n",
    "import plotly.plotly as py\n",
    "import plotly.graph_objs as go\n",
    "\n",
    "plotly.tools.set_config_file(world_readable=True)\n",
    "\n",
    "# increase print limit\n",
    "pd.options.display.max_rows = 99999\n",
    "pd.options.display.max_columns = 50"
   ]
  },
  {
   "cell_type": "markdown",
   "metadata": {},
   "source": [
    "<a id='SettingLoc'></a>"
   ]
  },
  {
   "cell_type": "markdown",
   "metadata": {},
   "source": [
    "## Setting the location\n",
    "[Top](#TOC)\n",
    "\n",
    "These chunks identify the locations from which we can get data and to which we can save data."
   ]
  },
  {
   "cell_type": "markdown",
   "metadata": {},
   "source": [
    "## Source Data\n",
    "Source files can be found in the following locations:"
   ]
  },
  {
   "cell_type": "code",
   "execution_count": 2,
   "metadata": {},
   "outputs": [],
   "source": [
    "sourceDataPers = 'C:/Users/Christopher/Google Drive/TailDemography/Cleaned Combined Data'\n",
    "sourceDataBig = 'S:/Chris/TailDemography/TailDemography/Cleaned Combined Data'\n",
    "# sourceBlack = 'C:/Users/test/Desktop'"
   ]
  },
  {
   "cell_type": "markdown",
   "metadata": {},
   "source": [
    "### Intermediate Source Data\n",
    "Intermediate files can be found in the following locations:"
   ]
  },
  {
   "cell_type": "code",
   "execution_count": 3,
   "metadata": {},
   "outputs": [],
   "source": [
    "sourceInterDataPers = 'C:/Users/Christopher/Google Drive/TailDemography/Intermediate Files/DeepCleaning'\n",
    "sourceinterDataBig = 'S:/Chris/TailDemography/TailDemography/Intermediate Files/DeepCleaning'\n",
    "# sourceBlack = 'C:/Users/test/Desktop'"
   ]
  },
  {
   "cell_type": "markdown",
   "metadata": {},
   "source": [
    "## Output Data paths\n",
    "Outputfiles can be found in the following locations:"
   ]
  },
  {
   "cell_type": "code",
   "execution_count": 4,
   "metadata": {},
   "outputs": [],
   "source": [
    "outputPers = 'C:/Users/Christopher/Google Drive/TailDemography/outputFiles'\n",
    "outputBig = 'S:/Chris/TailDemography/TailDemography/outputFiles'\n",
    "# outputBlack = 'C:/Users/test/Desktop'"
   ]
  },
  {
   "cell_type": "markdown",
   "metadata": {},
   "source": [
    "<a id='ImportingData'></a>"
   ]
  },
  {
   "cell_type": "markdown",
   "metadata": {},
   "source": [
    "## Importing data\n",
    "[Top](#TOC)\n",
    "\n",
    "Here we import data from one of the available locations"
   ]
  },
  {
   "cell_type": "code",
   "execution_count": 5,
   "metadata": {},
   "outputs": [
    {
     "data": {
      "text/html": [
       "<div>\n",
       "<style scoped>\n",
       "    .dataframe tbody tr th:only-of-type {\n",
       "        vertical-align: middle;\n",
       "    }\n",
       "\n",
       "    .dataframe tbody tr th {\n",
       "        vertical-align: top;\n",
       "    }\n",
       "\n",
       "    .dataframe thead th {\n",
       "        text-align: right;\n",
       "    }\n",
       "</style>\n",
       "<table border=\"1\" class=\"dataframe\">\n",
       "  <thead>\n",
       "    <tr style=\"text-align: right;\">\n",
       "      <th></th>\n",
       "      <th>species</th>\n",
       "      <th>toes</th>\n",
       "      <th>sex</th>\n",
       "      <th>date</th>\n",
       "      <th>svl</th>\n",
       "      <th>tl</th>\n",
       "      <th>rtl</th>\n",
       "      <th>autotomized</th>\n",
       "      <th>mass</th>\n",
       "      <th>location</th>\n",
       "      <th>meters</th>\n",
       "      <th>new.recap</th>\n",
       "      <th>painted</th>\n",
       "      <th>sighting</th>\n",
       "      <th>paint.mark</th>\n",
       "      <th>vial</th>\n",
       "      <th>misc</th>\n",
       "    </tr>\n",
       "  </thead>\n",
       "  <tbody>\n",
       "    <tr>\n",
       "      <th>0</th>\n",
       "      <td>sj</td>\n",
       "      <td>2-6-11-16</td>\n",
       "      <td>m</td>\n",
       "      <td>2001-03-18 00:00:00</td>\n",
       "      <td>76</td>\n",
       "      <td>80</td>\n",
       "      <td>1</td>\n",
       "      <td>NaN</td>\n",
       "      <td>13.7</td>\n",
       "      <td>r wall at juniper xing</td>\n",
       "      <td>113</td>\n",
       "      <td>NEW</td>\n",
       "      <td>NaN</td>\n",
       "      <td>NaN</td>\n",
       "      <td>w.c</td>\n",
       "      <td>toes in vial 01-1</td>\n",
       "      <td>NaN</td>\n",
       "    </tr>\n",
       "    <tr>\n",
       "      <th>1</th>\n",
       "      <td>sj</td>\n",
       "      <td>2-6-11-18</td>\n",
       "      <td>f</td>\n",
       "      <td>2001-03-18 00:00:00</td>\n",
       "      <td>82</td>\n",
       "      <td>109</td>\n",
       "      <td>0</td>\n",
       "      <td>NaN</td>\n",
       "      <td>17.5</td>\n",
       "      <td>r wall at juniper xing</td>\n",
       "      <td>113</td>\n",
       "      <td>NEW</td>\n",
       "      <td>NaN</td>\n",
       "      <td>NaN</td>\n",
       "      <td>w.b</td>\n",
       "      <td>toes in vial 01-2</td>\n",
       "      <td>NaN</td>\n",
       "    </tr>\n",
       "    <tr>\n",
       "      <th>2</th>\n",
       "      <td>sj</td>\n",
       "      <td>2-6-11-19</td>\n",
       "      <td>f</td>\n",
       "      <td>2001-03-18 00:00:00</td>\n",
       "      <td>58</td>\n",
       "      <td>69</td>\n",
       "      <td>-1</td>\n",
       "      <td>NaN</td>\n",
       "      <td>8.5</td>\n",
       "      <td>r wall at juniper xing</td>\n",
       "      <td>113</td>\n",
       "      <td>NEW</td>\n",
       "      <td>NaN</td>\n",
       "      <td>NaN</td>\n",
       "      <td>w.a</td>\n",
       "      <td>toes in vial 01-3</td>\n",
       "      <td>NaN</td>\n",
       "    </tr>\n",
       "    <tr>\n",
       "      <th>3</th>\n",
       "      <td>sj</td>\n",
       "      <td>2-6-11-20</td>\n",
       "      <td>m</td>\n",
       "      <td>2001-03-18 00:00:00</td>\n",
       "      <td>65</td>\n",
       "      <td>91</td>\n",
       "      <td>0</td>\n",
       "      <td>NaN</td>\n",
       "      <td>9.2</td>\n",
       "      <td>r wall at juniper xing</td>\n",
       "      <td>113</td>\n",
       "      <td>NEW</td>\n",
       "      <td>NaN</td>\n",
       "      <td>NaN</td>\n",
       "      <td>w-a</td>\n",
       "      <td>toes in vial 01-4</td>\n",
       "      <td>NaN</td>\n",
       "    </tr>\n",
       "    <tr>\n",
       "      <th>4</th>\n",
       "      <td>sj</td>\n",
       "      <td>2-6-11-19-20</td>\n",
       "      <td>f</td>\n",
       "      <td>2001-03-18 00:00:00</td>\n",
       "      <td>58</td>\n",
       "      <td>76</td>\n",
       "      <td>0</td>\n",
       "      <td>NaN</td>\n",
       "      <td>7.8</td>\n",
       "      <td>r wall at juniper xing</td>\n",
       "      <td>113</td>\n",
       "      <td>NEW</td>\n",
       "      <td>NaN</td>\n",
       "      <td>NaN</td>\n",
       "      <td>w-b</td>\n",
       "      <td>toes in vial 01-5</td>\n",
       "      <td>NaN</td>\n",
       "    </tr>\n",
       "  </tbody>\n",
       "</table>\n",
       "</div>"
      ],
      "text/plain": [
       "  species           toes sex                 date svl   tl rtl  autotomized  \\\n",
       "0      sj      2-6-11-16   m  2001-03-18 00:00:00  76   80   1          NaN   \n",
       "1      sj      2-6-11-18   f  2001-03-18 00:00:00  82  109   0          NaN   \n",
       "2      sj      2-6-11-19   f  2001-03-18 00:00:00  58   69  -1          NaN   \n",
       "3      sj      2-6-11-20   m  2001-03-18 00:00:00  65   91   0          NaN   \n",
       "4      sj   2-6-11-19-20   f  2001-03-18 00:00:00  58   76   0          NaN   \n",
       "\n",
       "   mass                location meters new.recap painted  sighting paint.mark  \\\n",
       "0  13.7  r wall at juniper xing    113       NEW     NaN       NaN        w.c   \n",
       "1  17.5  r wall at juniper xing    113       NEW     NaN       NaN        w.b   \n",
       "2   8.5  r wall at juniper xing    113       NEW     NaN       NaN        w.a   \n",
       "3   9.2  r wall at juniper xing    113       NEW     NaN       NaN        w-a   \n",
       "4   7.8  r wall at juniper xing    113       NEW     NaN       NaN        w-b   \n",
       "\n",
       "                vial misc  \n",
       "0  toes in vial 01-1  NaN  \n",
       "1  toes in vial 01-2  NaN  \n",
       "2  toes in vial 01-3  NaN  \n",
       "3  toes in vial 01-4  NaN  \n",
       "4  toes in vial 01-5  NaN  "
      ]
     },
     "execution_count": 5,
     "metadata": {},
     "output_type": "execute_result"
    }
   ],
   "source": [
    "os.chdir(sourceDataBig)\n",
    "df=pd.read_csv('Appended and Trimmed CC Data 2000-2017_2019-01-01 14hrs11min.csv')\n",
    "df.head()"
   ]
  },
  {
   "cell_type": "markdown",
   "metadata": {},
   "source": [
    "<a id='PreparingSave'></a>"
   ]
  },
  {
   "cell_type": "markdown",
   "metadata": {},
   "source": [
    "## Preparing for a save\n",
    "[Top](#TOC)\n",
    "\n",
    "Now we change the working directory so that inermediate files are saved to our preferred location."
   ]
  },
  {
   "cell_type": "code",
   "execution_count": 6,
   "metadata": {
    "scrolled": true
   },
   "outputs": [
    {
     "data": {
      "text/html": [
       "<div>\n",
       "<style scoped>\n",
       "    .dataframe tbody tr th:only-of-type {\n",
       "        vertical-align: middle;\n",
       "    }\n",
       "\n",
       "    .dataframe tbody tr th {\n",
       "        vertical-align: top;\n",
       "    }\n",
       "\n",
       "    .dataframe thead th {\n",
       "        text-align: right;\n",
       "    }\n",
       "</style>\n",
       "<table border=\"1\" class=\"dataframe\">\n",
       "  <thead>\n",
       "    <tr style=\"text-align: right;\">\n",
       "      <th></th>\n",
       "      <th>species</th>\n",
       "      <th>toes</th>\n",
       "      <th>sex</th>\n",
       "      <th>date</th>\n",
       "      <th>svl</th>\n",
       "      <th>tl</th>\n",
       "      <th>rtl</th>\n",
       "      <th>autotomized</th>\n",
       "      <th>mass</th>\n",
       "      <th>location</th>\n",
       "      <th>meters</th>\n",
       "      <th>new.recap</th>\n",
       "      <th>painted</th>\n",
       "      <th>sighting</th>\n",
       "      <th>paint.mark</th>\n",
       "      <th>vial</th>\n",
       "      <th>misc</th>\n",
       "    </tr>\n",
       "  </thead>\n",
       "  <tbody>\n",
       "    <tr>\n",
       "      <th>0</th>\n",
       "      <td>sj</td>\n",
       "      <td>2-6-11-16</td>\n",
       "      <td>m</td>\n",
       "      <td>2001-03-18 00:00:00</td>\n",
       "      <td>76</td>\n",
       "      <td>80</td>\n",
       "      <td>1</td>\n",
       "      <td>NaN</td>\n",
       "      <td>13.7</td>\n",
       "      <td>r wall at juniper xing</td>\n",
       "      <td>113</td>\n",
       "      <td>NEW</td>\n",
       "      <td>NaN</td>\n",
       "      <td>NaN</td>\n",
       "      <td>w.c</td>\n",
       "      <td>toes in vial 01-1</td>\n",
       "      <td>NaN</td>\n",
       "    </tr>\n",
       "    <tr>\n",
       "      <th>1</th>\n",
       "      <td>sj</td>\n",
       "      <td>2-6-11-18</td>\n",
       "      <td>f</td>\n",
       "      <td>2001-03-18 00:00:00</td>\n",
       "      <td>82</td>\n",
       "      <td>109</td>\n",
       "      <td>0</td>\n",
       "      <td>NaN</td>\n",
       "      <td>17.5</td>\n",
       "      <td>r wall at juniper xing</td>\n",
       "      <td>113</td>\n",
       "      <td>NEW</td>\n",
       "      <td>NaN</td>\n",
       "      <td>NaN</td>\n",
       "      <td>w.b</td>\n",
       "      <td>toes in vial 01-2</td>\n",
       "      <td>NaN</td>\n",
       "    </tr>\n",
       "    <tr>\n",
       "      <th>2</th>\n",
       "      <td>sj</td>\n",
       "      <td>2-6-11-19</td>\n",
       "      <td>f</td>\n",
       "      <td>2001-03-18 00:00:00</td>\n",
       "      <td>58</td>\n",
       "      <td>69</td>\n",
       "      <td>-1</td>\n",
       "      <td>NaN</td>\n",
       "      <td>8.5</td>\n",
       "      <td>r wall at juniper xing</td>\n",
       "      <td>113</td>\n",
       "      <td>NEW</td>\n",
       "      <td>NaN</td>\n",
       "      <td>NaN</td>\n",
       "      <td>w.a</td>\n",
       "      <td>toes in vial 01-3</td>\n",
       "      <td>NaN</td>\n",
       "    </tr>\n",
       "    <tr>\n",
       "      <th>3</th>\n",
       "      <td>sj</td>\n",
       "      <td>2-6-11-20</td>\n",
       "      <td>m</td>\n",
       "      <td>2001-03-18 00:00:00</td>\n",
       "      <td>65</td>\n",
       "      <td>91</td>\n",
       "      <td>0</td>\n",
       "      <td>NaN</td>\n",
       "      <td>9.2</td>\n",
       "      <td>r wall at juniper xing</td>\n",
       "      <td>113</td>\n",
       "      <td>NEW</td>\n",
       "      <td>NaN</td>\n",
       "      <td>NaN</td>\n",
       "      <td>w-a</td>\n",
       "      <td>toes in vial 01-4</td>\n",
       "      <td>NaN</td>\n",
       "    </tr>\n",
       "    <tr>\n",
       "      <th>4</th>\n",
       "      <td>sj</td>\n",
       "      <td>2-6-11-19-20</td>\n",
       "      <td>f</td>\n",
       "      <td>2001-03-18 00:00:00</td>\n",
       "      <td>58</td>\n",
       "      <td>76</td>\n",
       "      <td>0</td>\n",
       "      <td>NaN</td>\n",
       "      <td>7.8</td>\n",
       "      <td>r wall at juniper xing</td>\n",
       "      <td>113</td>\n",
       "      <td>NEW</td>\n",
       "      <td>NaN</td>\n",
       "      <td>NaN</td>\n",
       "      <td>w-b</td>\n",
       "      <td>toes in vial 01-5</td>\n",
       "      <td>NaN</td>\n",
       "    </tr>\n",
       "  </tbody>\n",
       "</table>\n",
       "</div>"
      ],
      "text/plain": [
       "  species           toes sex                 date svl   tl rtl  autotomized  \\\n",
       "0      sj      2-6-11-16   m  2001-03-18 00:00:00  76   80   1          NaN   \n",
       "1      sj      2-6-11-18   f  2001-03-18 00:00:00  82  109   0          NaN   \n",
       "2      sj      2-6-11-19   f  2001-03-18 00:00:00  58   69  -1          NaN   \n",
       "3      sj      2-6-11-20   m  2001-03-18 00:00:00  65   91   0          NaN   \n",
       "4      sj   2-6-11-19-20   f  2001-03-18 00:00:00  58   76   0          NaN   \n",
       "\n",
       "   mass                location meters new.recap painted  sighting paint.mark  \\\n",
       "0  13.7  r wall at juniper xing    113       NEW     NaN       NaN        w.c   \n",
       "1  17.5  r wall at juniper xing    113       NEW     NaN       NaN        w.b   \n",
       "2   8.5  r wall at juniper xing    113       NEW     NaN       NaN        w.a   \n",
       "3   9.2  r wall at juniper xing    113       NEW     NaN       NaN        w-a   \n",
       "4   7.8  r wall at juniper xing    113       NEW     NaN       NaN        w-b   \n",
       "\n",
       "                vial misc  \n",
       "0  toes in vial 01-1  NaN  \n",
       "1  toes in vial 01-2  NaN  \n",
       "2  toes in vial 01-3  NaN  \n",
       "3  toes in vial 01-4  NaN  \n",
       "4  toes in vial 01-5  NaN  "
      ]
     },
     "execution_count": 6,
     "metadata": {},
     "output_type": "execute_result"
    }
   ],
   "source": [
    "os.chdir(sourceDataBig)\n",
    "df.head()"
   ]
  },
  {
   "cell_type": "markdown",
   "metadata": {},
   "source": [
    "<a id='Functions'></a>"
   ]
  },
  {
   "cell_type": "markdown",
   "metadata": {},
   "source": [
    "# Functions\n",
    "[Back to: Top](#TOC)\n",
    "\n",
    "1. [appendstr](#appenstr)\n",
    "2. [typeordrop](#typeordrop)"
   ]
  },
  {
   "cell_type": "markdown",
   "metadata": {},
   "source": [
    "<a id = 'appendstr'></a>"
   ]
  },
  {
   "cell_type": "markdown",
   "metadata": {},
   "source": [
    "## appendstr"
   ]
  },
  {
   "cell_type": "code",
   "execution_count": 7,
   "metadata": {},
   "outputs": [],
   "source": [
    "def appendstr(x, value, connector = '', position='end'):\n",
    "    \"\"\"\n",
    "    appends *value* and *x* separated by a *connector* with the position of *val* determined by *position*\n",
    "    :param x:\n",
    "    :param value:\n",
    "    :param connector:\n",
    "    :param position:\n",
    "    \"\"\"\n",
    "    assert((isinstance(x,str)|(x is None)|(x!=x))),\"x must be str type, NoneType or NaN: x is {} type.\"\\\n",
    "    .format(type(x))\n",
    "    if ((x!=x)|(x is None)):\n",
    "        x=''\n",
    "    assert(isinstance(value,str)),\"value must be str type: value is {} type.\".format(type(value))\n",
    "    assert(isinstance(connector,str))\\\n",
    "    , \"connector must be str or None type, not {} type.\".format(type(connector))\n",
    "    assert(isinstance(position,(str,int))), \"position must be either str or int type, not {}.\"\\\n",
    "           .format(type(position))           \n",
    "    if isinstance(position,str):\n",
    "        assert(position in ['start','end']), \"If position is str type, it must be either 'start' or 'end'.\"\n",
    "        positiondict = {'start':0,'end':len(x)}\n",
    "        position = positiondict[position]\n",
    "    if isinstance(position,int):\n",
    "        assert(position in range(0,1+len(x)))\\\n",
    "        , \"If position is int type, it must be a value in the range 0 through {}.\".format(len(x))\n",
    "    prefix = x[:position]\n",
    "    suffix = x[position:]\n",
    "    if len(x)==0:\n",
    "        res = value\n",
    "    else:\n",
    "        if position == 0:\n",
    "            res = prefix+value+connector+suffix\n",
    "        if position == len(x):\n",
    "            res = prefix+connector+value+suffix\n",
    "        if (position>0&position<1):\n",
    "            res = prefix+connector+value+connector+suffix\n",
    "\n",
    "    return res\n",
    "    "
   ]
  },
  {
   "cell_type": "markdown",
   "metadata": {},
   "source": [
    "Here's an example of how *appendstr* works."
   ]
  },
  {
   "cell_type": "code",
   "execution_count": 8,
   "metadata": {},
   "outputs": [
    {
     "data": {
      "text/plain": [
       "'b_test_ar'"
      ]
     },
     "execution_count": 8,
     "metadata": {},
     "output_type": "execute_result"
    }
   ],
   "source": [
    "foo='bar'\n",
    "appendstr(foo,'test',connector='_',position=1)"
   ]
  },
  {
   "cell_type": "code",
   "execution_count": 9,
   "metadata": {},
   "outputs": [
    {
     "data": {
      "text/plain": [
       "'b_test_ar'"
      ]
     },
     "execution_count": 9,
     "metadata": {},
     "output_type": "execute_result"
    }
   ],
   "source": [
    "appendstr(foo,'test',connector='_',position=1)"
   ]
  },
  {
   "cell_type": "code",
   "execution_count": 10,
   "metadata": {},
   "outputs": [
    {
     "data": {
      "text/plain": [
       "'test'"
      ]
     },
     "execution_count": 10,
     "metadata": {},
     "output_type": "execute_result"
    }
   ],
   "source": [
    "appendstr(None,'test',connector='_',position='end')"
   ]
  },
  {
   "cell_type": "code",
   "execution_count": 11,
   "metadata": {
    "scrolled": true
   },
   "outputs": [
    {
     "data": {
      "text/plain": [
       "'test'"
      ]
     },
     "execution_count": 11,
     "metadata": {},
     "output_type": "execute_result"
    }
   ],
   "source": [
    "appendstr(None,'test',position=0)"
   ]
  },
  {
   "cell_type": "markdown",
   "metadata": {},
   "source": [
    "<a id='typeordrop'></a>"
   ]
  },
  {
   "cell_type": "markdown",
   "metadata": {},
   "source": [
    "## typeordrop\n",
    "[Back to Top](#TOC)\n",
    "\n",
    "[Back to Functions](#Functions)"
   ]
  },
  {
   "cell_type": "code",
   "execution_count": 12,
   "metadata": {},
   "outputs": [],
   "source": [
    "def typeordrop(x,typ,replace=None, verbose=True):\n",
    "    \"\"\"this function attempts to force an object, *x*, to a particular type,*typ*. If this is not possible, \n",
    "    it reports the value of the object that could not be forced and replaces the object with the value \n",
    "    supplied to the *replace* argument\"\"\"\n",
    "    if not isinstance(x,typ)==True:\n",
    "        while False:\n",
    "            try:\n",
    "                x=typ(x)\n",
    "                print(\"Working as expected\")\n",
    "                break\n",
    "            except TypeError:\n",
    "                if verbose==True:\n",
    "                    print(\"Could not force value supplied to 'x' argument to {} type. x is {} type:\\n\\n x = {}\"\\\n",
    "                          .format(typ,type(x),x))\n",
    "                x = replace\n",
    "    else:\n",
    "        print(\"{} is already of type {}.\".format(x,typ))\n",
    "    return x\n",
    "         "
   ]
  },
  {
   "cell_type": "markdown",
   "metadata": {},
   "source": [
    "Here are a few examples of how *typeordrop* works."
   ]
  },
  {
   "cell_type": "code",
   "execution_count": 13,
   "metadata": {},
   "outputs": [
    {
     "data": {
      "text/plain": [
       "['foo', 'bar']"
      ]
     },
     "execution_count": 13,
     "metadata": {},
     "output_type": "execute_result"
    }
   ],
   "source": [
    "x=['foo','bar']\n",
    "typeordrop(x,int)"
   ]
  },
  {
   "cell_type": "markdown",
   "metadata": {},
   "source": [
    "<a id= 'InspectingData'></a>"
   ]
  },
  {
   "cell_type": "markdown",
   "metadata": {},
   "source": [
    "## Inspecting the Data\n",
    "[Top](#TOC)\n",
    "\n",
    "Let's take a look at the data."
   ]
  },
  {
   "cell_type": "code",
   "execution_count": 14,
   "metadata": {
    "scrolled": true
   },
   "outputs": [
    {
     "name": "stdout",
     "output_type": "stream",
     "text": [
      "\n",
      "There are 6597 data points in our data set.\n"
     ]
    }
   ],
   "source": [
    "print(\"\\nThere are {} data points in our data set.\".format(df.shape[0]))"
   ]
  },
  {
   "cell_type": "code",
   "execution_count": 15,
   "metadata": {
    "scrolled": true
   },
   "outputs": [
    {
     "name": "stdout",
     "output_type": "stream",
     "text": [
      "\n",
      "The columns in the data have the following data types:\n",
      "species         object\n",
      "toes            object\n",
      "sex             object\n",
      "date            object\n",
      "svl             object\n",
      "tl              object\n",
      "rtl             object\n",
      "autotomized    float64\n",
      "mass            object\n",
      "location        object\n",
      "meters          object\n",
      "new.recap       object\n",
      "painted         object\n",
      "sighting       float64\n",
      "paint.mark      object\n",
      "vial            object\n",
      "misc            object\n",
      "dtype: object\n"
     ]
    }
   ],
   "source": [
    "print(\"\\nThe columns in the data have the following data types:\\n{}\".format(df.dtypes))"
   ]
  },
  {
   "cell_type": "markdown",
   "metadata": {},
   "source": [
    "<a id= 'CleaningData'></a>"
   ]
  },
  {
   "cell_type": "markdown",
   "metadata": {},
   "source": [
    "# Cleaning the Data\n",
    "[Back to: Top](#TOC)\n",
    "\n",
    "Now we get to the actual cleaning of the data.  We will inspect the data and take the appropriate cleaning steps:\n",
    "1. [Column-by-Column Cleaning](#ColbyCol)\n",
    "\n",
    "2. [Correcting class of columns](#CorrectingClass)"
   ]
  },
  {
   "cell_type": "markdown",
   "metadata": {},
   "source": [
    "<a id='ColbyCol'></a>"
   ]
  },
  {
   "cell_type": "markdown",
   "metadata": {},
   "source": [
    "## Column-by-Column Cleaning\n",
    "[Back to: Top](#TOC)\n",
    "\n",
    "We will handle the cleaning for each column in this section.\n",
    "1. [rtl](#rtl)\n",
    "2. [tl](#tl)\n",
    "3. [svl](#svl)\n",
    "4. [autotomized](#autotomized)\n",
    "    1. [creating 'rtl_orig'and relabeling 'rtl' and 'autotomized](#rtlRTL_ORIGautotomized)\n",
    "    2. [copy the values in rtl to a new column, *rtl_orig*](#copyrtl)\n",
    "    3. [relabel entries in the autotomized column based on the values in the rtl_orig column](#relabelaut) \n",
    "    4. [relabel entries in the rtl column](#relabelrtl)\n",
    "5. [toes](#toes)\n",
    "6. [sex](#sex)\n",
    "7. [species](#species)\n",
    "8. [new.recap](#newrecap)"
   ]
  },
  {
   "cell_type": "markdown",
   "metadata": {},
   "source": [
    "<a id='rtl'></a>"
   ]
  },
  {
   "cell_type": "markdown",
   "metadata": {},
   "source": [
    "## 'rtl' \n",
    "[Back to: Top](#TOC)\n",
    "\n",
    "[Back to: Cleaning](#CleaningData)\n",
    "\n",
    "[Back to: Column-by-Column Cleaning](#ColbyCol)\n",
    "\n",
    "Here we investigate and clean values in the column 'rtl'. These should be int type values that are greater than or equal to -1.  First, we test to see if all of the values are of type int."
   ]
  },
  {
   "cell_type": "code",
   "execution_count": 16,
   "metadata": {
    "scrolled": true
   },
   "outputs": [
    {
     "name": "stdout",
     "output_type": "stream",
     "text": [
      "'badtypes' represents 3937 entries in the df:\n",
      "\n",
      "All values in df.rtl could not be converted to int.  The following values could not be converted and should be investigated:\n",
      "\n",
      "[nan, '-', '?', '10(kink)', 'o', '32 -12']\n",
      "\n",
      "badtypes values are distributed as follows in the df:\n",
      "\n",
      "NaN         3931\n",
      "?              2\n",
      "32 -12         1\n",
      "o              1\n",
      "-              1\n",
      "10(kink)       1\n",
      "Name: rtl, dtype: int64\n"
     ]
    }
   ],
   "source": [
    "badtypes = []\n",
    "for val in df.rtl:\n",
    "    try:\n",
    "        x = isinstance(type(int(val)),int)\n",
    "    except:\n",
    "        badtypes=badtypes+[val]\n",
    "print(\"'badtypes' represents {} entries in the df:\".format(len(badtypes)))\n",
    "if len(badtypes)==0:\n",
    "    print(\"\\nAll values in df.rtl can be successfuly converted to int.\\n\\n\")\n",
    "#     df['rtl'] = df.rtl.apply(int)\n",
    "else:\n",
    "    print(\"\\nAll values in df.rtl could not be converted to int.  The following values could not be \\\n",
    "converted and should be investigated:\\n\\n{}\\n\\nbadtypes values are distributed as follows in the df:\\n\\n{}\"\\\n",
    "          .format(list(set(badtypes)),df.loc[df.rtl.isin(badtypes),'rtl'].value_counts(dropna=False)))"
   ]
  },
  {
   "cell_type": "markdown",
   "metadata": {},
   "source": [
    "The non-NaN values are few, so we will inspect these first."
   ]
  },
  {
   "cell_type": "code",
   "execution_count": 17,
   "metadata": {},
   "outputs": [
    {
     "data": {
      "text/html": [
       "<div>\n",
       "<style scoped>\n",
       "    .dataframe tbody tr th:only-of-type {\n",
       "        vertical-align: middle;\n",
       "    }\n",
       "\n",
       "    .dataframe tbody tr th {\n",
       "        vertical-align: top;\n",
       "    }\n",
       "\n",
       "    .dataframe thead th {\n",
       "        text-align: right;\n",
       "    }\n",
       "</style>\n",
       "<table border=\"1\" class=\"dataframe\">\n",
       "  <thead>\n",
       "    <tr style=\"text-align: right;\">\n",
       "      <th></th>\n",
       "      <th>species</th>\n",
       "      <th>toes</th>\n",
       "      <th>sex</th>\n",
       "      <th>date</th>\n",
       "      <th>svl</th>\n",
       "      <th>tl</th>\n",
       "      <th>rtl</th>\n",
       "      <th>autotomized</th>\n",
       "      <th>mass</th>\n",
       "      <th>location</th>\n",
       "      <th>meters</th>\n",
       "      <th>new.recap</th>\n",
       "      <th>painted</th>\n",
       "      <th>sighting</th>\n",
       "      <th>paint.mark</th>\n",
       "      <th>vial</th>\n",
       "      <th>misc</th>\n",
       "    </tr>\n",
       "  </thead>\n",
       "  <tbody>\n",
       "    <tr>\n",
       "      <th>2244</th>\n",
       "      <td>sj</td>\n",
       "      <td>NaN</td>\n",
       "      <td>m</td>\n",
       "      <td>2003-04-19 00:00:00</td>\n",
       "      <td>56</td>\n",
       "      <td>32</td>\n",
       "      <td>?</td>\n",
       "      <td>NaN</td>\n",
       "      <td>NaN</td>\n",
       "      <td>talus 326</td>\n",
       "      <td>326</td>\n",
       "      <td>NEW</td>\n",
       "      <td>painted</td>\n",
       "      <td>NaN</td>\n",
       "      <td>b7c</td>\n",
       "      <td>NaN</td>\n",
       "      <td>NaN</td>\n",
       "    </tr>\n",
       "    <tr>\n",
       "      <th>2267</th>\n",
       "      <td>sj</td>\n",
       "      <td>4-10-14-18</td>\n",
       "      <td>m</td>\n",
       "      <td>2003-04-30 00:00:00</td>\n",
       "      <td>76</td>\n",
       "      <td>19</td>\n",
       "      <td>?</td>\n",
       "      <td>NaN</td>\n",
       "      <td>NaN</td>\n",
       "      <td>wall 15m</td>\n",
       "      <td>15</td>\n",
       "      <td>recap</td>\n",
       "      <td>painted</td>\n",
       "      <td>NaN</td>\n",
       "      <td>b9a</td>\n",
       "      <td>NaN</td>\n",
       "      <td>9 looks like a backwards P and t combined</td>\n",
       "    </tr>\n",
       "    <tr>\n",
       "      <th>2397</th>\n",
       "      <td>sv</td>\n",
       "      <td>1-6-11-20</td>\n",
       "      <td>m</td>\n",
       "      <td>2003-06-27 00:00:00</td>\n",
       "      <td>41</td>\n",
       "      <td>60</td>\n",
       "      <td>o</td>\n",
       "      <td>NaN</td>\n",
       "      <td>4</td>\n",
       "      <td>sb 5m ^ cave trail</td>\n",
       "      <td>50</td>\n",
       "      <td>NEW</td>\n",
       "      <td>painted</td>\n",
       "      <td>NaN</td>\n",
       "      <td>sMb</td>\n",
       "      <td>NaN</td>\n",
       "      <td>lost toes for vial, accidently cut off toe 11</td>\n",
       "    </tr>\n",
       "    <tr>\n",
       "      <th>3452</th>\n",
       "      <td>uo</td>\n",
       "      <td>4-6-18</td>\n",
       "      <td>m</td>\n",
       "      <td>2004-07-12 00:00:00</td>\n",
       "      <td>52</td>\n",
       "      <td>75</td>\n",
       "      <td>32 -12</td>\n",
       "      <td>NaN</td>\n",
       "      <td>4.7</td>\n",
       "      <td>sb opp fallen juniper -&gt; flat R</td>\n",
       "      <td>208</td>\n",
       "      <td>new</td>\n",
       "      <td>painted</td>\n",
       "      <td>NaN</td>\n",
       "      <td>w^c</td>\n",
       "      <td>04-63</td>\n",
       "      <td>blue throat and blue belly; accidentally cut toe 6</td>\n",
       "    </tr>\n",
       "    <tr>\n",
       "      <th>3548</th>\n",
       "      <td>sv</td>\n",
       "      <td>NaN</td>\n",
       "      <td>f</td>\n",
       "      <td>2004-07-21 00:00:00</td>\n",
       "      <td>-</td>\n",
       "      <td>-</td>\n",
       "      <td>-</td>\n",
       "      <td>NaN</td>\n",
       "      <td>6</td>\n",
       "      <td>sb @ cc/ccc</td>\n",
       "      <td>240</td>\n",
       "      <td>recap</td>\n",
       "      <td>painted</td>\n",
       "      <td>NaN</td>\n",
       "      <td>w148b</td>\n",
       "      <td>NaN</td>\n",
       "      <td>escaped</td>\n",
       "    </tr>\n",
       "    <tr>\n",
       "      <th>3575</th>\n",
       "      <td>sj</td>\n",
       "      <td>2-9-12-18</td>\n",
       "      <td>f</td>\n",
       "      <td>2004-07-22 00:00:00</td>\n",
       "      <td>65</td>\n",
       "      <td>94</td>\n",
       "      <td>10(kink)</td>\n",
       "      <td>NaN</td>\n",
       "      <td>9.4</td>\n",
       "      <td>wall rt side v wall v cave tr</td>\n",
       "      <td>NaN</td>\n",
       "      <td>recap</td>\n",
       "      <td>painted</td>\n",
       "      <td>NaN</td>\n",
       "      <td>w154b</td>\n",
       "      <td>NaN</td>\n",
       "      <td>hurt toes 11-13 in capture; Bss Tss</td>\n",
       "    </tr>\n",
       "  </tbody>\n",
       "</table>\n",
       "</div>"
      ],
      "text/plain": [
       "     species         toes sex                 date svl  tl       rtl  \\\n",
       "2244      sj          NaN   m  2003-04-19 00:00:00  56  32         ?   \n",
       "2267      sj   4-10-14-18   m  2003-04-30 00:00:00  76  19         ?   \n",
       "2397      sv    1-6-11-20   m  2003-06-27 00:00:00  41  60         o   \n",
       "3452      uo       4-6-18   m  2004-07-12 00:00:00  52  75    32 -12   \n",
       "3548      sv          NaN   f  2004-07-21 00:00:00   -   -         -   \n",
       "3575      sj    2-9-12-18   f  2004-07-22 00:00:00  65  94  10(kink)   \n",
       "\n",
       "      autotomized mass                         location meters new.recap  \\\n",
       "2244          NaN  NaN                        talus 326    326       NEW   \n",
       "2267          NaN  NaN                         wall 15m     15     recap   \n",
       "2397          NaN    4               sb 5m ^ cave trail     50       NEW   \n",
       "3452          NaN  4.7  sb opp fallen juniper -> flat R    208       new   \n",
       "3548          NaN    6                      sb @ cc/ccc    240     recap   \n",
       "3575          NaN  9.4    wall rt side v wall v cave tr    NaN     recap   \n",
       "\n",
       "      painted  sighting paint.mark    vial  \\\n",
       "2244  painted       NaN        b7c     NaN   \n",
       "2267  painted       NaN        b9a     NaN   \n",
       "2397  painted       NaN        sMb     NaN   \n",
       "3452  painted       NaN        w^c   04-63   \n",
       "3548  painted       NaN      w148b     NaN   \n",
       "3575  painted       NaN      w154b     NaN   \n",
       "\n",
       "                                                    misc  \n",
       "2244                                                 NaN  \n",
       "2267           9 looks like a backwards P and t combined  \n",
       "2397       lost toes for vial, accidently cut off toe 11  \n",
       "3452  blue throat and blue belly; accidentally cut toe 6  \n",
       "3548                                             escaped  \n",
       "3575                 hurt toes 11-13 in capture; Bss Tss  "
      ]
     },
     "execution_count": 17,
     "metadata": {},
     "output_type": "execute_result"
    }
   ],
   "source": [
    "pd.set_option('max_colwidth',100000)\n",
    "df.loc[(df.rtl.isin(badtypes))&(df.rtl.notna()),:]"
   ]
  },
  {
   "cell_type": "markdown",
   "metadata": {},
   "source": [
    "Based on review discussions, we will make the changes below:\n",
    "- ‘?’--> 0; misc: “unsure if tail was recently broken at very tip”\n",
    "- ‘o’--> 0\n",
    "- ‘32 -12’ -->32; misc: “potential double-break at 12 \\[george to check before use\\]” \n",
    "- ‘-’--> NaN\n",
    "- ‘10(kink)’-->0; misc:”kink at 10mm”\n",
    "We will use the function [*appendstr*](#appendstr) to do this."
   ]
  },
  {
   "cell_type": "markdown",
   "metadata": {},
   "source": [
    "\"‘?’--> 0; misc: “unsure if tail was recently broken at very tip”"
   ]
  },
  {
   "cell_type": "code",
   "execution_count": 18,
   "metadata": {},
   "outputs": [
    {
     "data": {
      "text/html": [
       "<div>\n",
       "<style scoped>\n",
       "    .dataframe tbody tr th:only-of-type {\n",
       "        vertical-align: middle;\n",
       "    }\n",
       "\n",
       "    .dataframe tbody tr th {\n",
       "        vertical-align: top;\n",
       "    }\n",
       "\n",
       "    .dataframe thead th {\n",
       "        text-align: right;\n",
       "    }\n",
       "</style>\n",
       "<table border=\"1\" class=\"dataframe\">\n",
       "  <thead>\n",
       "    <tr style=\"text-align: right;\">\n",
       "      <th></th>\n",
       "      <th>species</th>\n",
       "      <th>toes</th>\n",
       "      <th>sex</th>\n",
       "      <th>date</th>\n",
       "      <th>svl</th>\n",
       "      <th>tl</th>\n",
       "      <th>rtl</th>\n",
       "      <th>autotomized</th>\n",
       "      <th>mass</th>\n",
       "      <th>location</th>\n",
       "      <th>meters</th>\n",
       "      <th>new.recap</th>\n",
       "      <th>painted</th>\n",
       "      <th>sighting</th>\n",
       "      <th>paint.mark</th>\n",
       "      <th>vial</th>\n",
       "      <th>misc</th>\n",
       "    </tr>\n",
       "  </thead>\n",
       "  <tbody>\n",
       "    <tr>\n",
       "      <th>2244</th>\n",
       "      <td>sj</td>\n",
       "      <td>NaN</td>\n",
       "      <td>m</td>\n",
       "      <td>2003-04-19 00:00:00</td>\n",
       "      <td>56</td>\n",
       "      <td>32</td>\n",
       "      <td>?</td>\n",
       "      <td>NaN</td>\n",
       "      <td>NaN</td>\n",
       "      <td>talus 326</td>\n",
       "      <td>326</td>\n",
       "      <td>NEW</td>\n",
       "      <td>painted</td>\n",
       "      <td>NaN</td>\n",
       "      <td>b7c</td>\n",
       "      <td>NaN</td>\n",
       "      <td>NaN</td>\n",
       "    </tr>\n",
       "    <tr>\n",
       "      <th>2267</th>\n",
       "      <td>sj</td>\n",
       "      <td>4-10-14-18</td>\n",
       "      <td>m</td>\n",
       "      <td>2003-04-30 00:00:00</td>\n",
       "      <td>76</td>\n",
       "      <td>19</td>\n",
       "      <td>?</td>\n",
       "      <td>NaN</td>\n",
       "      <td>NaN</td>\n",
       "      <td>wall 15m</td>\n",
       "      <td>15</td>\n",
       "      <td>recap</td>\n",
       "      <td>painted</td>\n",
       "      <td>NaN</td>\n",
       "      <td>b9a</td>\n",
       "      <td>NaN</td>\n",
       "      <td>9 looks like a backwards P and t combined</td>\n",
       "    </tr>\n",
       "  </tbody>\n",
       "</table>\n",
       "</div>"
      ],
      "text/plain": [
       "     species         toes sex                 date svl  tl rtl  autotomized  \\\n",
       "2244      sj          NaN   m  2003-04-19 00:00:00  56  32   ?          NaN   \n",
       "2267      sj   4-10-14-18   m  2003-04-30 00:00:00  76  19   ?          NaN   \n",
       "\n",
       "     mass   location meters new.recap  painted  sighting paint.mark vial  \\\n",
       "2244  NaN  talus 326    326       NEW  painted       NaN        b7c  NaN   \n",
       "2267  NaN   wall 15m     15     recap  painted       NaN        b9a  NaN   \n",
       "\n",
       "                                           misc  \n",
       "2244                                        NaN  \n",
       "2267  9 looks like a backwards P and t combined  "
      ]
     },
     "execution_count": 18,
     "metadata": {},
     "output_type": "execute_result"
    }
   ],
   "source": [
    "idx_ques = (df.rtl.isin(badtypes))&(df.rtl=='?')\n",
    "df[idx_ques]"
   ]
  },
  {
   "cell_type": "code",
   "execution_count": 19,
   "metadata": {},
   "outputs": [],
   "source": [
    "df.loc[idx_ques,'misc']= df.loc[idx_ques,:].misc\\\n",
    ".apply(lambda x: appendstr(x,\"unsure if tail was recently broken at very tip\",';'))\n",
    "df.loc[idx_ques,'rtl']= '0'"
   ]
  },
  {
   "cell_type": "markdown",
   "metadata": {},
   "source": [
    "These entries now look like this:"
   ]
  },
  {
   "cell_type": "code",
   "execution_count": 20,
   "metadata": {},
   "outputs": [
    {
     "data": {
      "text/html": [
       "<div>\n",
       "<style scoped>\n",
       "    .dataframe tbody tr th:only-of-type {\n",
       "        vertical-align: middle;\n",
       "    }\n",
       "\n",
       "    .dataframe tbody tr th {\n",
       "        vertical-align: top;\n",
       "    }\n",
       "\n",
       "    .dataframe thead th {\n",
       "        text-align: right;\n",
       "    }\n",
       "</style>\n",
       "<table border=\"1\" class=\"dataframe\">\n",
       "  <thead>\n",
       "    <tr style=\"text-align: right;\">\n",
       "      <th></th>\n",
       "      <th>species</th>\n",
       "      <th>toes</th>\n",
       "      <th>sex</th>\n",
       "      <th>date</th>\n",
       "      <th>svl</th>\n",
       "      <th>tl</th>\n",
       "      <th>rtl</th>\n",
       "      <th>autotomized</th>\n",
       "      <th>mass</th>\n",
       "      <th>location</th>\n",
       "      <th>meters</th>\n",
       "      <th>new.recap</th>\n",
       "      <th>painted</th>\n",
       "      <th>sighting</th>\n",
       "      <th>paint.mark</th>\n",
       "      <th>vial</th>\n",
       "      <th>misc</th>\n",
       "    </tr>\n",
       "  </thead>\n",
       "  <tbody>\n",
       "    <tr>\n",
       "      <th>2244</th>\n",
       "      <td>sj</td>\n",
       "      <td>NaN</td>\n",
       "      <td>m</td>\n",
       "      <td>2003-04-19 00:00:00</td>\n",
       "      <td>56</td>\n",
       "      <td>32</td>\n",
       "      <td>0</td>\n",
       "      <td>NaN</td>\n",
       "      <td>NaN</td>\n",
       "      <td>talus 326</td>\n",
       "      <td>326</td>\n",
       "      <td>NEW</td>\n",
       "      <td>painted</td>\n",
       "      <td>NaN</td>\n",
       "      <td>b7c</td>\n",
       "      <td>NaN</td>\n",
       "      <td>unsure if tail was recently broken at very tip</td>\n",
       "    </tr>\n",
       "    <tr>\n",
       "      <th>2267</th>\n",
       "      <td>sj</td>\n",
       "      <td>4-10-14-18</td>\n",
       "      <td>m</td>\n",
       "      <td>2003-04-30 00:00:00</td>\n",
       "      <td>76</td>\n",
       "      <td>19</td>\n",
       "      <td>0</td>\n",
       "      <td>NaN</td>\n",
       "      <td>NaN</td>\n",
       "      <td>wall 15m</td>\n",
       "      <td>15</td>\n",
       "      <td>recap</td>\n",
       "      <td>painted</td>\n",
       "      <td>NaN</td>\n",
       "      <td>b9a</td>\n",
       "      <td>NaN</td>\n",
       "      <td>9 looks like a backwards P and t combined;unsure if tail was recently broken at very tip;</td>\n",
       "    </tr>\n",
       "  </tbody>\n",
       "</table>\n",
       "</div>"
      ],
      "text/plain": [
       "     species         toes sex                 date svl  tl rtl  autotomized  \\\n",
       "2244      sj          NaN   m  2003-04-19 00:00:00  56  32   0          NaN   \n",
       "2267      sj   4-10-14-18   m  2003-04-30 00:00:00  76  19   0          NaN   \n",
       "\n",
       "     mass   location meters new.recap  painted  sighting paint.mark vial  \\\n",
       "2244  NaN  talus 326    326       NEW  painted       NaN        b7c  NaN   \n",
       "2267  NaN   wall 15m     15     recap  painted       NaN        b9a  NaN   \n",
       "\n",
       "                                                                                           misc  \n",
       "2244                                             unsure if tail was recently broken at very tip  \n",
       "2267  9 looks like a backwards P and t combined;unsure if tail was recently broken at very tip;  "
      ]
     },
     "execution_count": 20,
     "metadata": {},
     "output_type": "execute_result"
    }
   ],
   "source": [
    "df.loc[idx_ques,:]"
   ]
  },
  {
   "cell_type": "markdown",
   "metadata": {},
   "source": [
    "\"‘o’--> 0\""
   ]
  },
  {
   "cell_type": "code",
   "execution_count": 21,
   "metadata": {},
   "outputs": [
    {
     "data": {
      "text/html": [
       "<div>\n",
       "<style scoped>\n",
       "    .dataframe tbody tr th:only-of-type {\n",
       "        vertical-align: middle;\n",
       "    }\n",
       "\n",
       "    .dataframe tbody tr th {\n",
       "        vertical-align: top;\n",
       "    }\n",
       "\n",
       "    .dataframe thead th {\n",
       "        text-align: right;\n",
       "    }\n",
       "</style>\n",
       "<table border=\"1\" class=\"dataframe\">\n",
       "  <thead>\n",
       "    <tr style=\"text-align: right;\">\n",
       "      <th></th>\n",
       "      <th>species</th>\n",
       "      <th>toes</th>\n",
       "      <th>sex</th>\n",
       "      <th>date</th>\n",
       "      <th>svl</th>\n",
       "      <th>tl</th>\n",
       "      <th>rtl</th>\n",
       "      <th>autotomized</th>\n",
       "      <th>mass</th>\n",
       "      <th>location</th>\n",
       "      <th>meters</th>\n",
       "      <th>new.recap</th>\n",
       "      <th>painted</th>\n",
       "      <th>sighting</th>\n",
       "      <th>paint.mark</th>\n",
       "      <th>vial</th>\n",
       "      <th>misc</th>\n",
       "    </tr>\n",
       "  </thead>\n",
       "  <tbody>\n",
       "    <tr>\n",
       "      <th>2397</th>\n",
       "      <td>sv</td>\n",
       "      <td>1-6-11-20</td>\n",
       "      <td>m</td>\n",
       "      <td>2003-06-27 00:00:00</td>\n",
       "      <td>41</td>\n",
       "      <td>60</td>\n",
       "      <td>o</td>\n",
       "      <td>NaN</td>\n",
       "      <td>4</td>\n",
       "      <td>sb 5m ^ cave trail</td>\n",
       "      <td>50</td>\n",
       "      <td>NEW</td>\n",
       "      <td>painted</td>\n",
       "      <td>NaN</td>\n",
       "      <td>sMb</td>\n",
       "      <td>NaN</td>\n",
       "      <td>lost toes for vial, accidently cut off toe 11</td>\n",
       "    </tr>\n",
       "  </tbody>\n",
       "</table>\n",
       "</div>"
      ],
      "text/plain": [
       "     species        toes sex                 date svl  tl rtl  autotomized  \\\n",
       "2397      sv   1-6-11-20   m  2003-06-27 00:00:00  41  60   o          NaN   \n",
       "\n",
       "     mass            location meters new.recap  painted  sighting paint.mark  \\\n",
       "2397    4  sb 5m ^ cave trail     50       NEW  painted       NaN        sMb   \n",
       "\n",
       "     vial                                           misc  \n",
       "2397  NaN  lost toes for vial, accidently cut off toe 11  "
      ]
     },
     "execution_count": 21,
     "metadata": {},
     "output_type": "execute_result"
    }
   ],
   "source": [
    "idx_o = (df.rtl.isin(badtypes))&(df.rtl=='o')\n",
    "df[idx_o]"
   ]
  },
  {
   "cell_type": "code",
   "execution_count": 22,
   "metadata": {},
   "outputs": [],
   "source": [
    "df.loc[idx_o,'rtl']= '0'"
   ]
  },
  {
   "cell_type": "markdown",
   "metadata": {},
   "source": [
    "These entries now look like this:"
   ]
  },
  {
   "cell_type": "code",
   "execution_count": 23,
   "metadata": {},
   "outputs": [
    {
     "data": {
      "text/html": [
       "<div>\n",
       "<style scoped>\n",
       "    .dataframe tbody tr th:only-of-type {\n",
       "        vertical-align: middle;\n",
       "    }\n",
       "\n",
       "    .dataframe tbody tr th {\n",
       "        vertical-align: top;\n",
       "    }\n",
       "\n",
       "    .dataframe thead th {\n",
       "        text-align: right;\n",
       "    }\n",
       "</style>\n",
       "<table border=\"1\" class=\"dataframe\">\n",
       "  <thead>\n",
       "    <tr style=\"text-align: right;\">\n",
       "      <th></th>\n",
       "      <th>species</th>\n",
       "      <th>toes</th>\n",
       "      <th>sex</th>\n",
       "      <th>date</th>\n",
       "      <th>svl</th>\n",
       "      <th>tl</th>\n",
       "      <th>rtl</th>\n",
       "      <th>autotomized</th>\n",
       "      <th>mass</th>\n",
       "      <th>location</th>\n",
       "      <th>meters</th>\n",
       "      <th>new.recap</th>\n",
       "      <th>painted</th>\n",
       "      <th>sighting</th>\n",
       "      <th>paint.mark</th>\n",
       "      <th>vial</th>\n",
       "      <th>misc</th>\n",
       "    </tr>\n",
       "  </thead>\n",
       "  <tbody>\n",
       "    <tr>\n",
       "      <th>2397</th>\n",
       "      <td>sv</td>\n",
       "      <td>1-6-11-20</td>\n",
       "      <td>m</td>\n",
       "      <td>2003-06-27 00:00:00</td>\n",
       "      <td>41</td>\n",
       "      <td>60</td>\n",
       "      <td>0</td>\n",
       "      <td>NaN</td>\n",
       "      <td>4</td>\n",
       "      <td>sb 5m ^ cave trail</td>\n",
       "      <td>50</td>\n",
       "      <td>NEW</td>\n",
       "      <td>painted</td>\n",
       "      <td>NaN</td>\n",
       "      <td>sMb</td>\n",
       "      <td>NaN</td>\n",
       "      <td>lost toes for vial, accidently cut off toe 11</td>\n",
       "    </tr>\n",
       "  </tbody>\n",
       "</table>\n",
       "</div>"
      ],
      "text/plain": [
       "     species        toes sex                 date svl  tl rtl  autotomized  \\\n",
       "2397      sv   1-6-11-20   m  2003-06-27 00:00:00  41  60   0          NaN   \n",
       "\n",
       "     mass            location meters new.recap  painted  sighting paint.mark  \\\n",
       "2397    4  sb 5m ^ cave trail     50       NEW  painted       NaN        sMb   \n",
       "\n",
       "     vial                                           misc  \n",
       "2397  NaN  lost toes for vial, accidently cut off toe 11  "
      ]
     },
     "execution_count": 23,
     "metadata": {},
     "output_type": "execute_result"
    }
   ],
   "source": [
    "df.loc[idx_o,:]"
   ]
  },
  {
   "cell_type": "markdown",
   "metadata": {},
   "source": [
    "\"‘32-12’ -->32; misc: “potential double-break at 12 \\[george to check before use\\]\""
   ]
  },
  {
   "cell_type": "code",
   "execution_count": 24,
   "metadata": {},
   "outputs": [
    {
     "data": {
      "text/html": [
       "<div>\n",
       "<style scoped>\n",
       "    .dataframe tbody tr th:only-of-type {\n",
       "        vertical-align: middle;\n",
       "    }\n",
       "\n",
       "    .dataframe tbody tr th {\n",
       "        vertical-align: top;\n",
       "    }\n",
       "\n",
       "    .dataframe thead th {\n",
       "        text-align: right;\n",
       "    }\n",
       "</style>\n",
       "<table border=\"1\" class=\"dataframe\">\n",
       "  <thead>\n",
       "    <tr style=\"text-align: right;\">\n",
       "      <th></th>\n",
       "      <th>species</th>\n",
       "      <th>toes</th>\n",
       "      <th>sex</th>\n",
       "      <th>date</th>\n",
       "      <th>svl</th>\n",
       "      <th>tl</th>\n",
       "      <th>rtl</th>\n",
       "      <th>autotomized</th>\n",
       "      <th>mass</th>\n",
       "      <th>location</th>\n",
       "      <th>meters</th>\n",
       "      <th>new.recap</th>\n",
       "      <th>painted</th>\n",
       "      <th>sighting</th>\n",
       "      <th>paint.mark</th>\n",
       "      <th>vial</th>\n",
       "      <th>misc</th>\n",
       "    </tr>\n",
       "  </thead>\n",
       "  <tbody>\n",
       "    <tr>\n",
       "      <th>3452</th>\n",
       "      <td>uo</td>\n",
       "      <td>4-6-18</td>\n",
       "      <td>m</td>\n",
       "      <td>2004-07-12 00:00:00</td>\n",
       "      <td>52</td>\n",
       "      <td>75</td>\n",
       "      <td>32 -12</td>\n",
       "      <td>NaN</td>\n",
       "      <td>4.7</td>\n",
       "      <td>sb opp fallen juniper -&gt; flat R</td>\n",
       "      <td>208</td>\n",
       "      <td>new</td>\n",
       "      <td>painted</td>\n",
       "      <td>NaN</td>\n",
       "      <td>w^c</td>\n",
       "      <td>04-63</td>\n",
       "      <td>blue throat and blue belly; accidentally cut toe 6</td>\n",
       "    </tr>\n",
       "  </tbody>\n",
       "</table>\n",
       "</div>"
      ],
      "text/plain": [
       "     species     toes sex                 date svl  tl     rtl  autotomized  \\\n",
       "3452      uo   4-6-18   m  2004-07-12 00:00:00  52  75  32 -12          NaN   \n",
       "\n",
       "     mass                         location meters new.recap  painted  \\\n",
       "3452  4.7  sb opp fallen juniper -> flat R    208       new  painted   \n",
       "\n",
       "      sighting paint.mark    vial  \\\n",
       "3452       NaN        w^c   04-63   \n",
       "\n",
       "                                                    misc  \n",
       "3452  blue throat and blue belly; accidentally cut toe 6  "
      ]
     },
     "execution_count": 24,
     "metadata": {},
     "output_type": "execute_result"
    }
   ],
   "source": [
    "idx_32 = (df.rtl.isin(badtypes))&(df.rtl=='32 -12')\n",
    "df.loc[idx_32]"
   ]
  },
  {
   "cell_type": "code",
   "execution_count": 25,
   "metadata": {},
   "outputs": [],
   "source": [
    "df.loc[idx_32,'misc']= df.loc[idx_32,:].misc\\\n",
    ".apply(lambda x: appendstr(x,\"potential double-break at 12 [george to check before use]\",';'))\n",
    "\n",
    "df.loc[idx_32,'rtl']= '32'"
   ]
  },
  {
   "cell_type": "markdown",
   "metadata": {},
   "source": [
    "These entries now look like this:"
   ]
  },
  {
   "cell_type": "code",
   "execution_count": 26,
   "metadata": {},
   "outputs": [
    {
     "data": {
      "text/html": [
       "<div>\n",
       "<style scoped>\n",
       "    .dataframe tbody tr th:only-of-type {\n",
       "        vertical-align: middle;\n",
       "    }\n",
       "\n",
       "    .dataframe tbody tr th {\n",
       "        vertical-align: top;\n",
       "    }\n",
       "\n",
       "    .dataframe thead th {\n",
       "        text-align: right;\n",
       "    }\n",
       "</style>\n",
       "<table border=\"1\" class=\"dataframe\">\n",
       "  <thead>\n",
       "    <tr style=\"text-align: right;\">\n",
       "      <th></th>\n",
       "      <th>species</th>\n",
       "      <th>toes</th>\n",
       "      <th>sex</th>\n",
       "      <th>date</th>\n",
       "      <th>svl</th>\n",
       "      <th>tl</th>\n",
       "      <th>rtl</th>\n",
       "      <th>autotomized</th>\n",
       "      <th>mass</th>\n",
       "      <th>location</th>\n",
       "      <th>meters</th>\n",
       "      <th>new.recap</th>\n",
       "      <th>painted</th>\n",
       "      <th>sighting</th>\n",
       "      <th>paint.mark</th>\n",
       "      <th>vial</th>\n",
       "      <th>misc</th>\n",
       "    </tr>\n",
       "  </thead>\n",
       "  <tbody>\n",
       "    <tr>\n",
       "      <th>3452</th>\n",
       "      <td>uo</td>\n",
       "      <td>4-6-18</td>\n",
       "      <td>m</td>\n",
       "      <td>2004-07-12 00:00:00</td>\n",
       "      <td>52</td>\n",
       "      <td>75</td>\n",
       "      <td>32</td>\n",
       "      <td>NaN</td>\n",
       "      <td>4.7</td>\n",
       "      <td>sb opp fallen juniper -&gt; flat R</td>\n",
       "      <td>208</td>\n",
       "      <td>new</td>\n",
       "      <td>painted</td>\n",
       "      <td>NaN</td>\n",
       "      <td>w^c</td>\n",
       "      <td>04-63</td>\n",
       "      <td>blue throat and blue belly; accidentally cut toe 6;potential double-break at 12 [george to check before use];</td>\n",
       "    </tr>\n",
       "  </tbody>\n",
       "</table>\n",
       "</div>"
      ],
      "text/plain": [
       "     species     toes sex                 date svl  tl rtl  autotomized mass  \\\n",
       "3452      uo   4-6-18   m  2004-07-12 00:00:00  52  75  32          NaN  4.7   \n",
       "\n",
       "                             location meters new.recap  painted  sighting  \\\n",
       "3452  sb opp fallen juniper -> flat R    208       new  painted       NaN   \n",
       "\n",
       "     paint.mark    vial  \\\n",
       "3452        w^c   04-63   \n",
       "\n",
       "                                                                                                               misc  \n",
       "3452  blue throat and blue belly; accidentally cut toe 6;potential double-break at 12 [george to check before use];  "
      ]
     },
     "execution_count": 26,
     "metadata": {},
     "output_type": "execute_result"
    }
   ],
   "source": [
    "df.loc[idx_32,:]"
   ]
  },
  {
   "cell_type": "markdown",
   "metadata": {},
   "source": [
    "\"‘-’-->'NaN'\""
   ]
  },
  {
   "cell_type": "code",
   "execution_count": 27,
   "metadata": {},
   "outputs": [
    {
     "data": {
      "text/html": [
       "<div>\n",
       "<style scoped>\n",
       "    .dataframe tbody tr th:only-of-type {\n",
       "        vertical-align: middle;\n",
       "    }\n",
       "\n",
       "    .dataframe tbody tr th {\n",
       "        vertical-align: top;\n",
       "    }\n",
       "\n",
       "    .dataframe thead th {\n",
       "        text-align: right;\n",
       "    }\n",
       "</style>\n",
       "<table border=\"1\" class=\"dataframe\">\n",
       "  <thead>\n",
       "    <tr style=\"text-align: right;\">\n",
       "      <th></th>\n",
       "      <th>species</th>\n",
       "      <th>toes</th>\n",
       "      <th>sex</th>\n",
       "      <th>date</th>\n",
       "      <th>svl</th>\n",
       "      <th>tl</th>\n",
       "      <th>rtl</th>\n",
       "      <th>autotomized</th>\n",
       "      <th>mass</th>\n",
       "      <th>location</th>\n",
       "      <th>meters</th>\n",
       "      <th>new.recap</th>\n",
       "      <th>painted</th>\n",
       "      <th>sighting</th>\n",
       "      <th>paint.mark</th>\n",
       "      <th>vial</th>\n",
       "      <th>misc</th>\n",
       "    </tr>\n",
       "  </thead>\n",
       "  <tbody>\n",
       "    <tr>\n",
       "      <th>3548</th>\n",
       "      <td>sv</td>\n",
       "      <td>NaN</td>\n",
       "      <td>f</td>\n",
       "      <td>2004-07-21 00:00:00</td>\n",
       "      <td>-</td>\n",
       "      <td>-</td>\n",
       "      <td>-</td>\n",
       "      <td>NaN</td>\n",
       "      <td>6</td>\n",
       "      <td>sb @ cc/ccc</td>\n",
       "      <td>240</td>\n",
       "      <td>recap</td>\n",
       "      <td>painted</td>\n",
       "      <td>NaN</td>\n",
       "      <td>w148b</td>\n",
       "      <td>NaN</td>\n",
       "      <td>escaped</td>\n",
       "    </tr>\n",
       "  </tbody>\n",
       "</table>\n",
       "</div>"
      ],
      "text/plain": [
       "     species toes sex                 date svl tl rtl  autotomized mass  \\\n",
       "3548      sv  NaN   f  2004-07-21 00:00:00   -  -   -          NaN    6   \n",
       "\n",
       "         location meters new.recap  painted  sighting paint.mark vial     misc  \n",
       "3548  sb @ cc/ccc    240     recap  painted       NaN      w148b  NaN  escaped  "
      ]
     },
     "execution_count": 27,
     "metadata": {},
     "output_type": "execute_result"
    }
   ],
   "source": [
    "idx_minus = (df.rtl.isin(badtypes))&(df.rtl=='-')\n",
    "df.loc[idx_minus,:]"
   ]
  },
  {
   "cell_type": "markdown",
   "metadata": {},
   "source": [
    "We will also address the values for svl and tl in this row."
   ]
  },
  {
   "cell_type": "code",
   "execution_count": 28,
   "metadata": {},
   "outputs": [],
   "source": [
    "df.loc[idx_minus,['rtl','tl','svl']]= np.nan"
   ]
  },
  {
   "cell_type": "markdown",
   "metadata": {},
   "source": [
    "These entries now look like this:"
   ]
  },
  {
   "cell_type": "code",
   "execution_count": 29,
   "metadata": {},
   "outputs": [
    {
     "data": {
      "text/html": [
       "<div>\n",
       "<style scoped>\n",
       "    .dataframe tbody tr th:only-of-type {\n",
       "        vertical-align: middle;\n",
       "    }\n",
       "\n",
       "    .dataframe tbody tr th {\n",
       "        vertical-align: top;\n",
       "    }\n",
       "\n",
       "    .dataframe thead th {\n",
       "        text-align: right;\n",
       "    }\n",
       "</style>\n",
       "<table border=\"1\" class=\"dataframe\">\n",
       "  <thead>\n",
       "    <tr style=\"text-align: right;\">\n",
       "      <th></th>\n",
       "      <th>species</th>\n",
       "      <th>toes</th>\n",
       "      <th>sex</th>\n",
       "      <th>date</th>\n",
       "      <th>svl</th>\n",
       "      <th>tl</th>\n",
       "      <th>rtl</th>\n",
       "      <th>autotomized</th>\n",
       "      <th>mass</th>\n",
       "      <th>location</th>\n",
       "      <th>meters</th>\n",
       "      <th>new.recap</th>\n",
       "      <th>painted</th>\n",
       "      <th>sighting</th>\n",
       "      <th>paint.mark</th>\n",
       "      <th>vial</th>\n",
       "      <th>misc</th>\n",
       "    </tr>\n",
       "  </thead>\n",
       "  <tbody>\n",
       "    <tr>\n",
       "      <th>3548</th>\n",
       "      <td>sv</td>\n",
       "      <td>NaN</td>\n",
       "      <td>f</td>\n",
       "      <td>2004-07-21 00:00:00</td>\n",
       "      <td>NaN</td>\n",
       "      <td>NaN</td>\n",
       "      <td>NaN</td>\n",
       "      <td>NaN</td>\n",
       "      <td>6</td>\n",
       "      <td>sb @ cc/ccc</td>\n",
       "      <td>240</td>\n",
       "      <td>recap</td>\n",
       "      <td>painted</td>\n",
       "      <td>NaN</td>\n",
       "      <td>w148b</td>\n",
       "      <td>NaN</td>\n",
       "      <td>escaped</td>\n",
       "    </tr>\n",
       "  </tbody>\n",
       "</table>\n",
       "</div>"
      ],
      "text/plain": [
       "     species toes sex                 date  svl   tl  rtl  autotomized mass  \\\n",
       "3548      sv  NaN   f  2004-07-21 00:00:00  NaN  NaN  NaN          NaN    6   \n",
       "\n",
       "         location meters new.recap  painted  sighting paint.mark vial     misc  \n",
       "3548  sb @ cc/ccc    240     recap  painted       NaN      w148b  NaN  escaped  "
      ]
     },
     "execution_count": 29,
     "metadata": {},
     "output_type": "execute_result"
    }
   ],
   "source": [
    "df.loc[idx_minus,:]"
   ]
  },
  {
   "cell_type": "markdown",
   "metadata": {},
   "source": [
    "‘10(kink)’-->0; misc:”kink at 10mm” We will use the function appendstr to do this.\""
   ]
  },
  {
   "cell_type": "code",
   "execution_count": 30,
   "metadata": {},
   "outputs": [
    {
     "data": {
      "text/html": [
       "<div>\n",
       "<style scoped>\n",
       "    .dataframe tbody tr th:only-of-type {\n",
       "        vertical-align: middle;\n",
       "    }\n",
       "\n",
       "    .dataframe tbody tr th {\n",
       "        vertical-align: top;\n",
       "    }\n",
       "\n",
       "    .dataframe thead th {\n",
       "        text-align: right;\n",
       "    }\n",
       "</style>\n",
       "<table border=\"1\" class=\"dataframe\">\n",
       "  <thead>\n",
       "    <tr style=\"text-align: right;\">\n",
       "      <th></th>\n",
       "      <th>species</th>\n",
       "      <th>toes</th>\n",
       "      <th>sex</th>\n",
       "      <th>date</th>\n",
       "      <th>svl</th>\n",
       "      <th>tl</th>\n",
       "      <th>rtl</th>\n",
       "      <th>autotomized</th>\n",
       "      <th>mass</th>\n",
       "      <th>location</th>\n",
       "      <th>meters</th>\n",
       "      <th>new.recap</th>\n",
       "      <th>painted</th>\n",
       "      <th>sighting</th>\n",
       "      <th>paint.mark</th>\n",
       "      <th>vial</th>\n",
       "      <th>misc</th>\n",
       "    </tr>\n",
       "  </thead>\n",
       "  <tbody>\n",
       "    <tr>\n",
       "      <th>3575</th>\n",
       "      <td>sj</td>\n",
       "      <td>2-9-12-18</td>\n",
       "      <td>f</td>\n",
       "      <td>2004-07-22 00:00:00</td>\n",
       "      <td>65</td>\n",
       "      <td>94</td>\n",
       "      <td>10(kink)</td>\n",
       "      <td>NaN</td>\n",
       "      <td>9.4</td>\n",
       "      <td>wall rt side v wall v cave tr</td>\n",
       "      <td>NaN</td>\n",
       "      <td>recap</td>\n",
       "      <td>painted</td>\n",
       "      <td>NaN</td>\n",
       "      <td>w154b</td>\n",
       "      <td>NaN</td>\n",
       "      <td>hurt toes 11-13 in capture; Bss Tss</td>\n",
       "    </tr>\n",
       "  </tbody>\n",
       "</table>\n",
       "</div>"
      ],
      "text/plain": [
       "     species       toes sex                 date svl  tl       rtl  \\\n",
       "3575      sj  2-9-12-18   f  2004-07-22 00:00:00  65  94  10(kink)   \n",
       "\n",
       "      autotomized mass                       location meters new.recap  \\\n",
       "3575          NaN  9.4  wall rt side v wall v cave tr    NaN     recap   \n",
       "\n",
       "      painted  sighting paint.mark vial                                 misc  \n",
       "3575  painted       NaN      w154b  NaN  hurt toes 11-13 in capture; Bss Tss  "
      ]
     },
     "execution_count": 30,
     "metadata": {},
     "output_type": "execute_result"
    }
   ],
   "source": [
    "idx_10kink = (df.rtl.isin(badtypes))&(df.rtl=='10(kink)')\n",
    "df.loc[idx_10kink,:]"
   ]
  },
  {
   "cell_type": "code",
   "execution_count": 31,
   "metadata": {},
   "outputs": [],
   "source": [
    "df.loc[idx_10kink,'misc']= df.loc[idx_10kink,:].misc.apply(lambda x: appendstr(x,\"kink at 10mm\",';'))\n",
    "df.loc[idx_10kink,'rtl']= '0'"
   ]
  },
  {
   "cell_type": "markdown",
   "metadata": {},
   "source": [
    "These entries now look like this:"
   ]
  },
  {
   "cell_type": "code",
   "execution_count": 32,
   "metadata": {},
   "outputs": [
    {
     "data": {
      "text/html": [
       "<div>\n",
       "<style scoped>\n",
       "    .dataframe tbody tr th:only-of-type {\n",
       "        vertical-align: middle;\n",
       "    }\n",
       "\n",
       "    .dataframe tbody tr th {\n",
       "        vertical-align: top;\n",
       "    }\n",
       "\n",
       "    .dataframe thead th {\n",
       "        text-align: right;\n",
       "    }\n",
       "</style>\n",
       "<table border=\"1\" class=\"dataframe\">\n",
       "  <thead>\n",
       "    <tr style=\"text-align: right;\">\n",
       "      <th></th>\n",
       "      <th>species</th>\n",
       "      <th>toes</th>\n",
       "      <th>sex</th>\n",
       "      <th>date</th>\n",
       "      <th>svl</th>\n",
       "      <th>tl</th>\n",
       "      <th>rtl</th>\n",
       "      <th>autotomized</th>\n",
       "      <th>mass</th>\n",
       "      <th>location</th>\n",
       "      <th>meters</th>\n",
       "      <th>new.recap</th>\n",
       "      <th>painted</th>\n",
       "      <th>sighting</th>\n",
       "      <th>paint.mark</th>\n",
       "      <th>vial</th>\n",
       "      <th>misc</th>\n",
       "    </tr>\n",
       "  </thead>\n",
       "  <tbody>\n",
       "    <tr>\n",
       "      <th>3575</th>\n",
       "      <td>sj</td>\n",
       "      <td>2-9-12-18</td>\n",
       "      <td>f</td>\n",
       "      <td>2004-07-22 00:00:00</td>\n",
       "      <td>65</td>\n",
       "      <td>94</td>\n",
       "      <td>0</td>\n",
       "      <td>NaN</td>\n",
       "      <td>9.4</td>\n",
       "      <td>wall rt side v wall v cave tr</td>\n",
       "      <td>NaN</td>\n",
       "      <td>recap</td>\n",
       "      <td>painted</td>\n",
       "      <td>NaN</td>\n",
       "      <td>w154b</td>\n",
       "      <td>NaN</td>\n",
       "      <td>hurt toes 11-13 in capture; Bss Tss;kink at 10mm;</td>\n",
       "    </tr>\n",
       "  </tbody>\n",
       "</table>\n",
       "</div>"
      ],
      "text/plain": [
       "     species       toes sex                 date svl  tl rtl  autotomized  \\\n",
       "3575      sj  2-9-12-18   f  2004-07-22 00:00:00  65  94   0          NaN   \n",
       "\n",
       "     mass                       location meters new.recap  painted  sighting  \\\n",
       "3575  9.4  wall rt side v wall v cave tr    NaN     recap  painted       NaN   \n",
       "\n",
       "     paint.mark vial                                               misc  \n",
       "3575      w154b  NaN  hurt toes 11-13 in capture; Bss Tss;kink at 10mm;  "
      ]
     },
     "execution_count": 32,
     "metadata": {},
     "output_type": "execute_result"
    }
   ],
   "source": [
    "df.loc[idx_10kink,:]"
   ]
  },
  {
   "cell_type": "markdown",
   "metadata": {},
   "source": [
    "Now we will inspect those that had at least one other length measurement (svl or tl)."
   ]
  },
  {
   "cell_type": "code",
   "execution_count": 33,
   "metadata": {},
   "outputs": [
    {
     "data": {
      "text/html": [
       "<div>\n",
       "<style scoped>\n",
       "    .dataframe tbody tr th:only-of-type {\n",
       "        vertical-align: middle;\n",
       "    }\n",
       "\n",
       "    .dataframe tbody tr th {\n",
       "        vertical-align: top;\n",
       "    }\n",
       "\n",
       "    .dataframe thead th {\n",
       "        text-align: right;\n",
       "    }\n",
       "</style>\n",
       "<table border=\"1\" class=\"dataframe\">\n",
       "  <thead>\n",
       "    <tr style=\"text-align: right;\">\n",
       "      <th></th>\n",
       "      <th>species</th>\n",
       "      <th>toes</th>\n",
       "      <th>sex</th>\n",
       "      <th>date</th>\n",
       "      <th>svl</th>\n",
       "      <th>tl</th>\n",
       "      <th>rtl</th>\n",
       "      <th>autotomized</th>\n",
       "      <th>mass</th>\n",
       "      <th>location</th>\n",
       "      <th>meters</th>\n",
       "      <th>new.recap</th>\n",
       "      <th>painted</th>\n",
       "      <th>sighting</th>\n",
       "      <th>paint.mark</th>\n",
       "      <th>vial</th>\n",
       "      <th>misc</th>\n",
       "    </tr>\n",
       "  </thead>\n",
       "  <tbody>\n",
       "    <tr>\n",
       "      <th>148</th>\n",
       "      <td>sj</td>\n",
       "      <td>2-6-13-20</td>\n",
       "      <td>f</td>\n",
       "      <td>2001-03-23 00:00:00</td>\n",
       "      <td>~70</td>\n",
       "      <td>NaN</td>\n",
       "      <td>NaN</td>\n",
       "      <td>NaN</td>\n",
       "      <td>NaN</td>\n",
       "      <td>bottom R wall v cave trail</td>\n",
       "      <td>30</td>\n",
       "      <td>sighting</td>\n",
       "      <td>NaN</td>\n",
       "      <td>NaN</td>\n",
       "      <td>?</td>\n",
       "      <td>could read toes 6,13 for certain; toe 2 uncert...</td>\n",
       "      <td>NaN</td>\n",
       "    </tr>\n",
       "    <tr>\n",
       "      <th>980</th>\n",
       "      <td>sj</td>\n",
       "      <td>NaN</td>\n",
       "      <td>m</td>\n",
       "      <td>2002-03-16 00:00:00</td>\n",
       "      <td>large</td>\n",
       "      <td>NaN</td>\n",
       "      <td>NaN</td>\n",
       "      <td>NaN</td>\n",
       "      <td>NaN</td>\n",
       "      <td>active in crevice in wall 3m v juniper xing</td>\n",
       "      <td>112</td>\n",
       "      <td>sighting</td>\n",
       "      <td>NaN</td>\n",
       "      <td>NaN</td>\n",
       "      <td>?</td>\n",
       "      <td>NaN</td>\n",
       "      <td>NaN</td>\n",
       "    </tr>\n",
       "    <tr>\n",
       "      <th>1152</th>\n",
       "      <td>sj</td>\n",
       "      <td>NaN</td>\n",
       "      <td>NaN</td>\n",
       "      <td>2002-03-17 00:00:00</td>\n",
       "      <td>large</td>\n",
       "      <td>NaN</td>\n",
       "      <td>NaN</td>\n",
       "      <td>NaN</td>\n",
       "      <td>NaN</td>\n",
       "      <td>H4a</td>\n",
       "      <td>194</td>\n",
       "      <td>sighting</td>\n",
       "      <td>NaN</td>\n",
       "      <td>NaN</td>\n",
       "      <td>w85a??</td>\n",
       "      <td>NaN</td>\n",
       "      <td>probably w85a but could only see the \"5\"</td>\n",
       "    </tr>\n",
       "    <tr>\n",
       "      <th>1513</th>\n",
       "      <td>sj</td>\n",
       "      <td>NaN</td>\n",
       "      <td>f</td>\n",
       "      <td>2002-03-20 00:00:00</td>\n",
       "      <td>large</td>\n",
       "      <td>NaN</td>\n",
       "      <td>NaN</td>\n",
       "      <td>NaN</td>\n",
       "      <td>NaN</td>\n",
       "      <td>L across from wall</td>\n",
       "      <td>318</td>\n",
       "      <td>sighting</td>\n",
       "      <td>NaN</td>\n",
       "      <td>NaN</td>\n",
       "      <td>w||t</td>\n",
       "      <td>NaN</td>\n",
       "      <td>NaN</td>\n",
       "    </tr>\n",
       "    <tr>\n",
       "      <th>1978</th>\n",
       "      <td>sj</td>\n",
       "      <td>NaN</td>\n",
       "      <td>m</td>\n",
       "      <td>2002-03-19 00:00:00</td>\n",
       "      <td>large</td>\n",
       "      <td>NaN</td>\n",
       "      <td>NaN</td>\n",
       "      <td>NaN</td>\n",
       "      <td>NaN</td>\n",
       "      <td>up rt wall @ pool</td>\n",
       "      <td>NaN</td>\n",
       "      <td>sighting</td>\n",
       "      <td>NaN</td>\n",
       "      <td>NaN</td>\n",
       "      <td>???</td>\n",
       "      <td>NaN</td>\n",
       "      <td>~25mm original T; rest regrown</td>\n",
       "    </tr>\n",
       "    <tr>\n",
       "      <th>2122</th>\n",
       "      <td>sv</td>\n",
       "      <td>NaN</td>\n",
       "      <td>?</td>\n",
       "      <td>2002-03-19 00:00:00</td>\n",
       "      <td>small</td>\n",
       "      <td>NaN</td>\n",
       "      <td>NaN</td>\n",
       "      <td>NaN</td>\n",
       "      <td>NaN</td>\n",
       "      <td>sb 4m ^ flatR</td>\n",
       "      <td>NaN</td>\n",
       "      <td>sighting</td>\n",
       "      <td>NaN</td>\n",
       "      <td>NaN</td>\n",
       "      <td>NaN</td>\n",
       "      <td>NaN</td>\n",
       "      <td>had moth so didn'tcatch</td>\n",
       "    </tr>\n",
       "  </tbody>\n",
       "</table>\n",
       "</div>"
      ],
      "text/plain": [
       "     species       toes  sex                 date    svl   tl  rtl  \\\n",
       "148       sj  2-6-13-20    f  2001-03-23 00:00:00    ~70  NaN  NaN   \n",
       "980       sj        NaN    m  2002-03-16 00:00:00  large  NaN  NaN   \n",
       "1152      sj        NaN  NaN  2002-03-17 00:00:00  large  NaN  NaN   \n",
       "1513      sj        NaN    f  2002-03-20 00:00:00  large  NaN  NaN   \n",
       "1978      sj        NaN    m  2002-03-19 00:00:00  large  NaN  NaN   \n",
       "2122      sv        NaN    ?  2002-03-19 00:00:00  small  NaN  NaN   \n",
       "\n",
       "      autotomized mass                                     location meters  \\\n",
       "148           NaN  NaN                   bottom R wall v cave trail     30   \n",
       "980           NaN  NaN  active in crevice in wall 3m v juniper xing    112   \n",
       "1152          NaN  NaN                                          H4a    194   \n",
       "1513          NaN  NaN                           L across from wall    318   \n",
       "1978          NaN  NaN                            up rt wall @ pool    NaN   \n",
       "2122          NaN  NaN                                sb 4m ^ flatR    NaN   \n",
       "\n",
       "     new.recap painted  sighting paint.mark  \\\n",
       "148   sighting     NaN       NaN          ?   \n",
       "980   sighting     NaN       NaN          ?   \n",
       "1152  sighting     NaN       NaN     w85a??   \n",
       "1513  sighting     NaN       NaN       w||t   \n",
       "1978  sighting     NaN       NaN        ???   \n",
       "2122  sighting     NaN       NaN        NaN   \n",
       "\n",
       "                                                   vial  \\\n",
       "148   could read toes 6,13 for certain; toe 2 uncert...   \n",
       "980                                                 NaN   \n",
       "1152                                                NaN   \n",
       "1513                                                NaN   \n",
       "1978                                                NaN   \n",
       "2122                                                NaN   \n",
       "\n",
       "                                          misc  \n",
       "148                                        NaN  \n",
       "980                                        NaN  \n",
       "1152  probably w85a but could only see the \"5\"  \n",
       "1513                                       NaN  \n",
       "1978            ~25mm original T; rest regrown  \n",
       "2122                   had moth so didn'tcatch  "
      ]
     },
     "execution_count": 33,
     "metadata": {},
     "output_type": "execute_result"
    }
   ],
   "source": [
    "pd.reset_option('max_colwidth')\n",
    "idx_rtlnaplus1 = (df.rtl.isna())&(((df.svl.isna())&~(df.tl.isna()))|(~(df.svl.isna())&(df.tl.isna())))\n",
    "df.loc[idx_rtlnaplus1]"
   ]
  },
  {
   "cell_type": "markdown",
   "metadata": {},
   "source": [
    "All but one of these was a sighting.  We will have to look at the field notes to confirm whether or not data were actually missing for the remaining entry."
   ]
  },
  {
   "cell_type": "code",
   "execution_count": 34,
   "metadata": {
    "scrolled": true
   },
   "outputs": [
    {
     "data": {
      "text/html": [
       "<div>\n",
       "<style scoped>\n",
       "    .dataframe tbody tr th:only-of-type {\n",
       "        vertical-align: middle;\n",
       "    }\n",
       "\n",
       "    .dataframe tbody tr th {\n",
       "        vertical-align: top;\n",
       "    }\n",
       "\n",
       "    .dataframe thead th {\n",
       "        text-align: right;\n",
       "    }\n",
       "</style>\n",
       "<table border=\"1\" class=\"dataframe\">\n",
       "  <thead>\n",
       "    <tr style=\"text-align: right;\">\n",
       "      <th></th>\n",
       "      <th>species</th>\n",
       "      <th>toes</th>\n",
       "      <th>sex</th>\n",
       "      <th>date</th>\n",
       "      <th>svl</th>\n",
       "      <th>tl</th>\n",
       "      <th>rtl</th>\n",
       "      <th>autotomized</th>\n",
       "      <th>mass</th>\n",
       "      <th>location</th>\n",
       "      <th>meters</th>\n",
       "      <th>new.recap</th>\n",
       "      <th>painted</th>\n",
       "      <th>sighting</th>\n",
       "      <th>paint.mark</th>\n",
       "      <th>vial</th>\n",
       "      <th>misc</th>\n",
       "    </tr>\n",
       "  </thead>\n",
       "  <tbody>\n",
       "    <tr>\n",
       "      <th>3262</th>\n",
       "      <td>sv</td>\n",
       "      <td>1-6-16-17-20</td>\n",
       "      <td>m</td>\n",
       "      <td>2004-07-04 00:00:00</td>\n",
       "      <td>52</td>\n",
       "      <td>53</td>\n",
       "      <td>NaN</td>\n",
       "      <td>NaN</td>\n",
       "      <td>3.6</td>\n",
       "      <td>bottom chute</td>\n",
       "      <td>355</td>\n",
       "      <td>recap</td>\n",
       "      <td>painted</td>\n",
       "      <td>NaN</td>\n",
       "      <td>w.t</td>\n",
       "      <td>NaN</td>\n",
       "      <td>few mites</td>\n",
       "    </tr>\n",
       "  </tbody>\n",
       "</table>\n",
       "</div>"
      ],
      "text/plain": [
       "     species          toes sex                 date svl  tl  rtl  autotomized  \\\n",
       "3262      sv  1-6-16-17-20   m  2004-07-04 00:00:00  52  53  NaN          NaN   \n",
       "\n",
       "     mass      location meters new.recap  painted  sighting paint.mark vial  \\\n",
       "3262  3.6  bottom chute    355     recap  painted       NaN        w.t  NaN   \n",
       "\n",
       "           misc  \n",
       "3262  few mites  "
      ]
     },
     "execution_count": 34,
     "metadata": {},
     "output_type": "execute_result"
    }
   ],
   "source": [
    "df.loc[(df.rtl.isna())&((df.svl.notna())|(df.tl.notna()))&df['new.recap'].str.contains('recap'),:]"
   ]
  },
  {
   "cell_type": "markdown",
   "metadata": {},
   "source": [
    "Once we have addressed these, we will force rtl to an int type."
   ]
  },
  {
   "cell_type": "markdown",
   "metadata": {},
   "source": [
    "Now we check to see for out of range rtl values, *i.e.* rtl values less than -1 or suspiciously high."
   ]
  },
  {
   "cell_type": "markdown",
   "metadata": {},
   "source": [
    "We will exclude 0 and -1 values for rtl in these figures because of the large proportion of in range values they account for."
   ]
  },
  {
   "cell_type": "code",
   "execution_count": 35,
   "metadata": {
    "scrolled": true
   },
   "outputs": [
    {
     "data": {
      "text/html": [
       "<iframe id=\"igraph\" scrolling=\"no\" style=\"border:none;\" seamless=\"seamless\" src=\"https://plot.ly/~cragard/91.embed\" height=\"525px\" width=\"100%\"></iframe>"
      ],
      "text/plain": [
       "<plotly.tools.PlotlyDisplay object>"
      ]
     },
     "execution_count": 35,
     "metadata": {},
     "output_type": "execute_result"
    }
   ],
   "source": [
    "dfnobadtypes0neg1 = (~df.rtl.isin(badtypes))&(~df.rtl.isin(['0','-1']))\n",
    "dfother = ~(df.species.dropna().str.contains('v|j'))&(df.species.notna())&(dfnobadtypes0neg1)\n",
    "jarrovii = go.Histogram(x = df.loc[(df.species.str.contains('j'))&(dfnobadtypes0neg1)\n",
    "                                   ,'rtl'].astype(int, 'ignore'),name = 'S. jarrovii',xbins =dict(size=1)\n",
    "                        #,histnorm='probability'\n",
    "                        , cumulative=dict(enabled = False, direction = 'increasing'))\n",
    "virgatus = go.Histogram(x = df.loc[(df.species.str.contains('v'))&(dfnobadtypes0neg1)\n",
    "                                   ,'rtl'].astype(int, 'ignore'), name = 'S. virgatus',xbins =dict(size=1)\n",
    "                       #,histnorm='probability'\n",
    "                        , cumulative=dict(enabled = False, direction = 'increasing'))\n",
    "other = go.Histogram(x = df.loc[dfother,'rtl'].astype(int, 'ignore'), name = 'other',xbins =dict(size=1)\n",
    "                                  #,histnorm='probability'\n",
    "                     , cumulative=dict(enabled = False\n",
    "                                                                           , direction = 'increasing'))\n",
    "data = [jarrovii, virgatus,other]\n",
    "layout = go.Layout(\n",
    "    title = 'Histogram of rtl by species',\n",
    "    titlefont = dict(\n",
    "        size = 20),\n",
    "    xaxis = dict(\n",
    "        dtick = 1,\n",
    "        title = 'rtl (mm)',\n",
    "        titlefont = dict(\n",
    "            size = 18)),\n",
    "    yaxis = dict(\n",
    "        title = 'Number of Lizards',\n",
    "        titlefont = dict(\n",
    "            size = 18))\n",
    ")\n",
    "fig = go.Figure(\n",
    "        data = data,\n",
    "        layout = layout)\n",
    "py.iplot(fig, filename = 'Histogram of rtl by species (new)')"
   ]
  },
  {
   "cell_type": "markdown",
   "metadata": {},
   "source": [
    "Perhaps it's worth inspecting values greater than 50. "
   ]
  },
  {
   "cell_type": "code",
   "execution_count": 36,
   "metadata": {
    "scrolled": true
   },
   "outputs": [
    {
     "data": {
      "text/html": [
       "<div>\n",
       "<style scoped>\n",
       "    .dataframe tbody tr th:only-of-type {\n",
       "        vertical-align: middle;\n",
       "    }\n",
       "\n",
       "    .dataframe tbody tr th {\n",
       "        vertical-align: top;\n",
       "    }\n",
       "\n",
       "    .dataframe thead th {\n",
       "        text-align: right;\n",
       "    }\n",
       "</style>\n",
       "<table border=\"1\" class=\"dataframe\">\n",
       "  <thead>\n",
       "    <tr style=\"text-align: right;\">\n",
       "      <th></th>\n",
       "      <th>species</th>\n",
       "      <th>toes</th>\n",
       "      <th>sex</th>\n",
       "      <th>date</th>\n",
       "      <th>svl</th>\n",
       "      <th>tl</th>\n",
       "      <th>rtl</th>\n",
       "      <th>autotomized</th>\n",
       "      <th>mass</th>\n",
       "      <th>location</th>\n",
       "      <th>meters</th>\n",
       "      <th>new.recap</th>\n",
       "      <th>painted</th>\n",
       "      <th>sighting</th>\n",
       "      <th>paint.mark</th>\n",
       "      <th>vial</th>\n",
       "      <th>misc</th>\n",
       "    </tr>\n",
       "  </thead>\n",
       "  <tbody>\n",
       "    <tr>\n",
       "      <th>131</th>\n",
       "      <td>sj</td>\n",
       "      <td>1-7-13-16</td>\n",
       "      <td>f</td>\n",
       "      <td>2001-03-22 00:00:00</td>\n",
       "      <td>75</td>\n",
       "      <td>64</td>\n",
       "      <td>50</td>\n",
       "      <td>NaN</td>\n",
       "      <td>11.2</td>\n",
       "      <td>chute</td>\n",
       "      <td>358</td>\n",
       "      <td>recap</td>\n",
       "      <td>NaN</td>\n",
       "      <td>NaN</td>\n",
       "      <td>w68c.t</td>\n",
       "      <td>not shed since last capture; added w.t to w68c</td>\n",
       "      <td>NaN</td>\n",
       "    </tr>\n",
       "    <tr>\n",
       "      <th>251</th>\n",
       "      <td>sj</td>\n",
       "      <td>5-10-15-16</td>\n",
       "      <td>m</td>\n",
       "      <td>2001-07-13 00:00:00</td>\n",
       "      <td>93</td>\n",
       "      <td>82</td>\n",
       "      <td>58</td>\n",
       "      <td>NaN</td>\n",
       "      <td>24.8</td>\n",
       "      <td>Rs 3m v cave trail</td>\n",
       "      <td>42</td>\n",
       "      <td>recap</td>\n",
       "      <td>NaN</td>\n",
       "      <td>NaN</td>\n",
       "      <td>r32a</td>\n",
       "      <td>shed since</td>\n",
       "      <td>NaN</td>\n",
       "    </tr>\n",
       "    <tr>\n",
       "      <th>771</th>\n",
       "      <td>sj</td>\n",
       "      <td>2-12-17</td>\n",
       "      <td>m</td>\n",
       "      <td>2002-07-03 00:00:00</td>\n",
       "      <td>87</td>\n",
       "      <td>93</td>\n",
       "      <td>54</td>\n",
       "      <td>NaN</td>\n",
       "      <td>17.6</td>\n",
       "      <td>wall 20m ^ 1 falls</td>\n",
       "      <td>20</td>\n",
       "      <td>recap</td>\n",
       "      <td>painted; Rnuchal 5; Radj scales 4; R eye 4; Ln...</td>\n",
       "      <td>NaN</td>\n",
       "      <td>b4c</td>\n",
       "      <td>NaN</td>\n",
       "      <td>[note: on 8VII02 - recorded w?a, but search of...</td>\n",
       "    </tr>\n",
       "    <tr>\n",
       "      <th>773</th>\n",
       "      <td>sj</td>\n",
       "      <td>4-10-14-18</td>\n",
       "      <td>m</td>\n",
       "      <td>2002-07-03 00:00:00</td>\n",
       "      <td>66</td>\n",
       "      <td>69</td>\n",
       "      <td>50</td>\n",
       "      <td>NaN</td>\n",
       "      <td>8.6</td>\n",
       "      <td>sb 20m ^ 1 falls</td>\n",
       "      <td>20</td>\n",
       "      <td>NEW</td>\n",
       "      <td>painted; shed recently; Rnuchal 5(3y2r); R adj...</td>\n",
       "      <td>NaN</td>\n",
       "      <td>b3c</td>\n",
       "      <td>toes in vial 33-02 (4-10-14-18)</td>\n",
       "      <td>NaN</td>\n",
       "    </tr>\n",
       "    <tr>\n",
       "      <th>2261</th>\n",
       "      <td>sj</td>\n",
       "      <td>2-12-17</td>\n",
       "      <td>m</td>\n",
       "      <td>2003-04-30 00:00:00</td>\n",
       "      <td>89</td>\n",
       "      <td>97</td>\n",
       "      <td>56</td>\n",
       "      <td>NaN</td>\n",
       "      <td>NaN</td>\n",
       "      <td>1falls</td>\n",
       "      <td>1</td>\n",
       "      <td>recap</td>\n",
       "      <td>painted</td>\n",
       "      <td>NaN</td>\n",
       "      <td>bYc</td>\n",
       "      <td>NaN</td>\n",
       "      <td>shedding</td>\n",
       "    </tr>\n",
       "    <tr>\n",
       "      <th>2553</th>\n",
       "      <td>sj</td>\n",
       "      <td>4-9-12-20</td>\n",
       "      <td>m</td>\n",
       "      <td>2003-07-02 00:00:00</td>\n",
       "      <td>81</td>\n",
       "      <td>62</td>\n",
       "      <td>50</td>\n",
       "      <td>NaN</td>\n",
       "      <td>18.5</td>\n",
       "      <td>alligator juniper @top of site</td>\n",
       "      <td>452</td>\n",
       "      <td>recap</td>\n",
       "      <td>painted</td>\n",
       "      <td>NaN</td>\n",
       "      <td>oSa</td>\n",
       "      <td>NaN</td>\n",
       "      <td>Tss; Bpss</td>\n",
       "    </tr>\n",
       "    <tr>\n",
       "      <th>2942</th>\n",
       "      <td>sj</td>\n",
       "      <td>4-9-12-20</td>\n",
       "      <td>m</td>\n",
       "      <td>2003-07-18 00:00:00</td>\n",
       "      <td>78</td>\n",
       "      <td>65</td>\n",
       "      <td>50</td>\n",
       "      <td>NaN</td>\n",
       "      <td>17.5</td>\n",
       "      <td>Rs across from oak R</td>\n",
       "      <td>418</td>\n",
       "      <td>recap</td>\n",
       "      <td>painted</td>\n",
       "      <td>NaN</td>\n",
       "      <td>oTc</td>\n",
       "      <td>NaN</td>\n",
       "      <td>looked like it was previously marked with orange</td>\n",
       "    </tr>\n",
       "    <tr>\n",
       "      <th>3187</th>\n",
       "      <td>sj</td>\n",
       "      <td>4-9-12-20</td>\n",
       "      <td>m</td>\n",
       "      <td>2004-07-02 00:00:00</td>\n",
       "      <td>85</td>\n",
       "      <td>66</td>\n",
       "      <td>52</td>\n",
       "      <td>NaN</td>\n",
       "      <td>22</td>\n",
       "      <td>leaning juniper 7m v top</td>\n",
       "      <td>452</td>\n",
       "      <td>recap</td>\n",
       "      <td>painted</td>\n",
       "      <td>NaN</td>\n",
       "      <td>wCa</td>\n",
       "      <td>NaN</td>\n",
       "      <td>B soon to shed</td>\n",
       "    </tr>\n",
       "    <tr>\n",
       "      <th>3420</th>\n",
       "      <td>sj</td>\n",
       "      <td>4-9-12-20</td>\n",
       "      <td>m</td>\n",
       "      <td>2004-07-10 00:00:00</td>\n",
       "      <td>80</td>\n",
       "      <td>68</td>\n",
       "      <td>52</td>\n",
       "      <td>NaN</td>\n",
       "      <td>21.2</td>\n",
       "      <td>5m v rock with oak</td>\n",
       "      <td>440</td>\n",
       "      <td>recap</td>\n",
       "      <td>painted</td>\n",
       "      <td>NaN</td>\n",
       "      <td>wTa</td>\n",
       "      <td>NaN</td>\n",
       "      <td>no mites</td>\n",
       "    </tr>\n",
       "    <tr>\n",
       "      <th>3656</th>\n",
       "      <td>j</td>\n",
       "      <td>5-7-13-16</td>\n",
       "      <td>m</td>\n",
       "      <td>2015-07-06 00:00:00</td>\n",
       "      <td>78</td>\n",
       "      <td>75</td>\n",
       "      <td>55</td>\n",
       "      <td>NaN</td>\n",
       "      <td>14.8</td>\n",
       "      <td>SB 8m v bowl</td>\n",
       "      <td>-16</td>\n",
       "      <td>new</td>\n",
       "      <td>yes</td>\n",
       "      <td>NaN</td>\n",
       "      <td>w3a</td>\n",
       "      <td>15-03</td>\n",
       "      <td>NaN</td>\n",
       "    </tr>\n",
       "    <tr>\n",
       "      <th>3977</th>\n",
       "      <td>j</td>\n",
       "      <td>5-7-13-16</td>\n",
       "      <td>m</td>\n",
       "      <td>2016-05-10 00:00:00</td>\n",
       "      <td>80</td>\n",
       "      <td>80</td>\n",
       "      <td>60</td>\n",
       "      <td>NaN</td>\n",
       "      <td>14.7</td>\n",
       "      <td>R in sb</td>\n",
       "      <td>-20</td>\n",
       "      <td>recap</td>\n",
       "      <td>yes</td>\n",
       "      <td>NaN</td>\n",
       "      <td>y42c</td>\n",
       "      <td>NaN</td>\n",
       "      <td>NaN</td>\n",
       "    </tr>\n",
       "    <tr>\n",
       "      <th>5870</th>\n",
       "      <td>sj</td>\n",
       "      <td>1-15-19 a</td>\n",
       "      <td>m</td>\n",
       "      <td>2008-07-08 00:00:00</td>\n",
       "      <td>90</td>\n",
       "      <td>70</td>\n",
       "      <td>50</td>\n",
       "      <td>NaN</td>\n",
       "      <td>23</td>\n",
       "      <td>leftR outcrop 5m v downed juniper</td>\n",
       "      <td>215</td>\n",
       "      <td>N</td>\n",
       "      <td>painted</td>\n",
       "      <td>NaN</td>\n",
       "      <td>y39a</td>\n",
       "      <td>08-24</td>\n",
       "      <td>NaN</td>\n",
       "    </tr>\n",
       "    <tr>\n",
       "      <th>5928</th>\n",
       "      <td>sj</td>\n",
       "      <td>1-15-19</td>\n",
       "      <td>m</td>\n",
       "      <td>2008-07-18 00:00:00</td>\n",
       "      <td>89</td>\n",
       "      <td>70</td>\n",
       "      <td>50</td>\n",
       "      <td>NaN</td>\n",
       "      <td>21.7</td>\n",
       "      <td>large Rs opp and 3m v downed juniper</td>\n",
       "      <td>217</td>\n",
       "      <td>r</td>\n",
       "      <td>painted</td>\n",
       "      <td>NaN</td>\n",
       "      <td>y57a</td>\n",
       "      <td>NaN</td>\n",
       "      <td>NaN</td>\n",
       "    </tr>\n",
       "    <tr>\n",
       "      <th>6274</th>\n",
       "      <td>sj</td>\n",
       "      <td>2 - 8 - 13</td>\n",
       "      <td>F</td>\n",
       "      <td>2011-06-21 00:00:00</td>\n",
       "      <td>70</td>\n",
       "      <td>73</td>\n",
       "      <td>54</td>\n",
       "      <td>NaN</td>\n",
       "      <td>10.4</td>\n",
       "      <td>stream bed 2m v H5</td>\n",
       "      <td>198</td>\n",
       "      <td>recap</td>\n",
       "      <td>yes</td>\n",
       "      <td>NaN</td>\n",
       "      <td>g26b</td>\n",
       "      <td>NaN</td>\n",
       "      <td>NaN</td>\n",
       "    </tr>\n",
       "    <tr>\n",
       "      <th>6276</th>\n",
       "      <td>sj</td>\n",
       "      <td>3 - 9 - 15</td>\n",
       "      <td>F</td>\n",
       "      <td>2011-06-23 00:00:00</td>\n",
       "      <td>75</td>\n",
       "      <td>82</td>\n",
       "      <td>56</td>\n",
       "      <td>NaN</td>\n",
       "      <td>7.7</td>\n",
       "      <td>right Rs bottom bowl</td>\n",
       "      <td>-7</td>\n",
       "      <td>recap</td>\n",
       "      <td>yes</td>\n",
       "      <td>NaN</td>\n",
       "      <td>g35b</td>\n",
       "      <td>NaN</td>\n",
       "      <td>was w45c; recently dropped; TSS</td>\n",
       "    </tr>\n",
       "    <tr>\n",
       "      <th>6283</th>\n",
       "      <td>sj</td>\n",
       "      <td>1 - 7 - 14 - 19</td>\n",
       "      <td>M</td>\n",
       "      <td>2011-06-19 00:00:00</td>\n",
       "      <td>80</td>\n",
       "      <td>73</td>\n",
       "      <td>52</td>\n",
       "      <td>NaN</td>\n",
       "      <td>20</td>\n",
       "      <td>opp oak R</td>\n",
       "      <td>418</td>\n",
       "      <td>recap</td>\n",
       "      <td>yes</td>\n",
       "      <td>NaN</td>\n",
       "      <td>g10b.t</td>\n",
       "      <td>NaN</td>\n",
       "      <td>BSS T-shed HSS</td>\n",
       "    </tr>\n",
       "    <tr>\n",
       "      <th>6297</th>\n",
       "      <td>sj</td>\n",
       "      <td>b 1 - 7 - 11</td>\n",
       "      <td>F</td>\n",
       "      <td>2011-06-20 00:00:00</td>\n",
       "      <td>7.5</td>\n",
       "      <td>70</td>\n",
       "      <td>90</td>\n",
       "      <td>NaN</td>\n",
       "      <td>0</td>\n",
       "      <td>3m right side ^ Juniper Xing</td>\n",
       "      <td>118</td>\n",
       "      <td>recap</td>\n",
       "      <td>yes</td>\n",
       "      <td>NaN</td>\n",
       "      <td>NaN</td>\n",
       "      <td>NaN</td>\n",
       "      <td>Break at 50, tail still attached w48c -&gt; g18b ...</td>\n",
       "    </tr>\n",
       "    <tr>\n",
       "      <th>6303</th>\n",
       "      <td>sj</td>\n",
       "      <td>b 2 - 9 - 15 - 17</td>\n",
       "      <td>F</td>\n",
       "      <td>2011-06-20 00:00:00</td>\n",
       "      <td>7.6</td>\n",
       "      <td>68</td>\n",
       "      <td>86</td>\n",
       "      <td>NaN</td>\n",
       "      <td>0</td>\n",
       "      <td>10m up CCC on slab</td>\n",
       "      <td>250</td>\n",
       "      <td>recap</td>\n",
       "      <td>yes</td>\n",
       "      <td>NaN</td>\n",
       "      <td>g19b</td>\n",
       "      <td>NaN</td>\n",
       "      <td>NaN</td>\n",
       "    </tr>\n",
       "    <tr>\n",
       "      <th>6369</th>\n",
       "      <td>sj</td>\n",
       "      <td>2-8-13</td>\n",
       "      <td>F</td>\n",
       "      <td>2012-05-25 00:00:00</td>\n",
       "      <td>82</td>\n",
       "      <td>79</td>\n",
       "      <td>57</td>\n",
       "      <td>NaN</td>\n",
       "      <td>21.5</td>\n",
       "      <td>loose on T; H5</td>\n",
       "      <td>NaN</td>\n",
       "      <td>recap</td>\n",
       "      <td>yes</td>\n",
       "      <td>NaN</td>\n",
       "      <td>w18c.b</td>\n",
       "      <td>NaN</td>\n",
       "      <td>pics of site</td>\n",
       "    </tr>\n",
       "    <tr>\n",
       "      <th>6375</th>\n",
       "      <td>sj</td>\n",
       "      <td>3-9-15</td>\n",
       "      <td>f</td>\n",
       "      <td>2012-05-28 00:00:00</td>\n",
       "      <td>79</td>\n",
       "      <td>85</td>\n",
       "      <td>58</td>\n",
       "      <td>NaN</td>\n",
       "      <td>19.3</td>\n",
       "      <td>1falls</td>\n",
       "      <td>NaN</td>\n",
       "      <td>recap</td>\n",
       "      <td>yes</td>\n",
       "      <td>NaN</td>\n",
       "      <td>w34c</td>\n",
       "      <td>NaN</td>\n",
       "      <td>salmon tail; Tss</td>\n",
       "    </tr>\n",
       "    <tr>\n",
       "      <th>6512</th>\n",
       "      <td>sj</td>\n",
       "      <td>5-11-18</td>\n",
       "      <td>M</td>\n",
       "      <td>2014-07-03 00:00:00</td>\n",
       "      <td>85</td>\n",
       "      <td>73</td>\n",
       "      <td>56</td>\n",
       "      <td>NaN</td>\n",
       "      <td>19.5</td>\n",
       "      <td>black r</td>\n",
       "      <td>171</td>\n",
       "      <td>new</td>\n",
       "      <td>yes</td>\n",
       "      <td>NaN</td>\n",
       "      <td>o5c</td>\n",
       "      <td>14-04</td>\n",
       "      <td>NaN</td>\n",
       "    </tr>\n",
       "  </tbody>\n",
       "</table>\n",
       "</div>"
      ],
      "text/plain": [
       "     species               toes sex                 date  svl  tl rtl  \\\n",
       "131       sj          1-7-13-16   f  2001-03-22 00:00:00   75  64  50   \n",
       "251       sj         5-10-15-16   m  2001-07-13 00:00:00   93  82  58   \n",
       "771       sj            2-12-17   m  2002-07-03 00:00:00   87  93  54   \n",
       "773       sj         4-10-14-18   m  2002-07-03 00:00:00   66  69  50   \n",
       "2261      sj            2-12-17   m  2003-04-30 00:00:00   89  97  56   \n",
       "2553      sj          4-9-12-20   m  2003-07-02 00:00:00   81  62  50   \n",
       "2942      sj          4-9-12-20   m  2003-07-18 00:00:00   78  65  50   \n",
       "3187      sj          4-9-12-20   m  2004-07-02 00:00:00   85  66  52   \n",
       "3420      sj          4-9-12-20   m  2004-07-10 00:00:00   80  68  52   \n",
       "3656       j          5-7-13-16   m  2015-07-06 00:00:00   78  75  55   \n",
       "3977       j          5-7-13-16   m  2016-05-10 00:00:00   80  80  60   \n",
       "5870      sj          1-15-19 a   m  2008-07-08 00:00:00   90  70  50   \n",
       "5928      sj            1-15-19   m  2008-07-18 00:00:00   89  70  50   \n",
       "6274      sj         2 - 8 - 13   F  2011-06-21 00:00:00   70  73  54   \n",
       "6276      sj         3 - 9 - 15   F  2011-06-23 00:00:00   75  82  56   \n",
       "6283      sj    1 - 7 - 14 - 19   M  2011-06-19 00:00:00   80  73  52   \n",
       "6297      sj       b 1 - 7 - 11   F  2011-06-20 00:00:00  7.5  70  90   \n",
       "6303      sj  b 2 - 9 - 15 - 17   F  2011-06-20 00:00:00  7.6  68  86   \n",
       "6369      sj             2-8-13   F  2012-05-25 00:00:00   82  79  57   \n",
       "6375      sj             3-9-15   f  2012-05-28 00:00:00   79  85  58   \n",
       "6512      sj           5-11-18    M  2014-07-03 00:00:00   85  73  56   \n",
       "\n",
       "      autotomized  mass                              location meters  \\\n",
       "131           NaN  11.2                                 chute    358   \n",
       "251           NaN  24.8                    Rs 3m v cave trail     42   \n",
       "771           NaN  17.6                    wall 20m ^ 1 falls     20   \n",
       "773           NaN   8.6                      sb 20m ^ 1 falls     20   \n",
       "2261          NaN   NaN                                1falls      1   \n",
       "2553          NaN  18.5        alligator juniper @top of site    452   \n",
       "2942          NaN  17.5                  Rs across from oak R    418   \n",
       "3187          NaN    22              leaning juniper 7m v top    452   \n",
       "3420          NaN  21.2                    5m v rock with oak    440   \n",
       "3656          NaN  14.8                         SB 8m v bowl     -16   \n",
       "3977          NaN  14.7                               R in sb    -20   \n",
       "5870          NaN    23     leftR outcrop 5m v downed juniper    215   \n",
       "5928          NaN  21.7  large Rs opp and 3m v downed juniper    217   \n",
       "6274          NaN  10.4                    stream bed 2m v H5    198   \n",
       "6276          NaN   7.7                  right Rs bottom bowl     -7   \n",
       "6283          NaN    20                             opp oak R    418   \n",
       "6297          NaN     0          3m right side ^ Juniper Xing    118   \n",
       "6303          NaN     0                    10m up CCC on slab    250   \n",
       "6369          NaN  21.5                        loose on T; H5    NaN   \n",
       "6375          NaN  19.3                                1falls    NaN   \n",
       "6512          NaN  19.5                               black r    171   \n",
       "\n",
       "     new.recap                                            painted  sighting  \\\n",
       "131      recap                                                NaN       NaN   \n",
       "251      recap                                                NaN       NaN   \n",
       "771      recap  painted; Rnuchal 5; Radj scales 4; R eye 4; Ln...       NaN   \n",
       "773        NEW  painted; shed recently; Rnuchal 5(3y2r); R adj...       NaN   \n",
       "2261     recap                                            painted       NaN   \n",
       "2553     recap                                            painted       NaN   \n",
       "2942     recap                                            painted       NaN   \n",
       "3187     recap                                            painted       NaN   \n",
       "3420     recap                                            painted       NaN   \n",
       "3656       new                                                yes       NaN   \n",
       "3977     recap                                                yes       NaN   \n",
       "5870         N                                            painted       NaN   \n",
       "5928         r                                            painted       NaN   \n",
       "6274     recap                                                yes       NaN   \n",
       "6276     recap                                                yes       NaN   \n",
       "6283     recap                                                yes       NaN   \n",
       "6297     recap                                                yes       NaN   \n",
       "6303     recap                                                yes       NaN   \n",
       "6369     recap                                                yes       NaN   \n",
       "6375     recap                                                yes       NaN   \n",
       "6512       new                                                yes       NaN   \n",
       "\n",
       "     paint.mark                                             vial  \\\n",
       "131      w68c.t  not shed since last capture; added w.t to w68c    \n",
       "251        r32a                                       shed since   \n",
       "771         b4c                                              NaN   \n",
       "773         b3c                  toes in vial 33-02 (4-10-14-18)   \n",
       "2261        bYc                                              NaN   \n",
       "2553        oSa                                              NaN   \n",
       "2942        oTc                                              NaN   \n",
       "3187        wCa                                              NaN   \n",
       "3420        wTa                                              NaN   \n",
       "3656        w3a                                            15-03   \n",
       "3977       y42c                                              NaN   \n",
       "5870       y39a                                            08-24   \n",
       "5928       y57a                                              NaN   \n",
       "6274       g26b                                              NaN   \n",
       "6276       g35b                                              NaN   \n",
       "6283     g10b.t                                              NaN   \n",
       "6297        NaN                                              NaN   \n",
       "6303       g19b                                              NaN   \n",
       "6369     w18c.b                                              NaN   \n",
       "6375       w34c                                              NaN   \n",
       "6512        o5c                                            14-04   \n",
       "\n",
       "                                                   misc  \n",
       "131                                                 NaN  \n",
       "251                                                 NaN  \n",
       "771   [note: on 8VII02 - recorded w?a, but search of...  \n",
       "773                                                 NaN  \n",
       "2261                                           shedding  \n",
       "2553                                          Tss; Bpss  \n",
       "2942   looked like it was previously marked with orange  \n",
       "3187                                     B soon to shed  \n",
       "3420                                           no mites  \n",
       "3656                                                NaN  \n",
       "3977                                                NaN  \n",
       "5870                                                NaN  \n",
       "5928                                                NaN  \n",
       "6274                                                NaN  \n",
       "6276                    was w45c; recently dropped; TSS  \n",
       "6283                                     BSS T-shed HSS  \n",
       "6297  Break at 50, tail still attached w48c -> g18b ...  \n",
       "6303                                                NaN  \n",
       "6369                                       pics of site  \n",
       "6375                                   salmon tail; Tss  \n",
       "6512                                                NaN  "
      ]
     },
     "execution_count": 36,
     "metadata": {},
     "output_type": "execute_result"
    }
   ],
   "source": [
    "idx_dfabove50 = (df.species.str.contains('j|v'))&(~df.rtl.isin(badtypes))\\\n",
    "&(df.loc[(~df.rtl.isin(badtypes)),'rtl'].astype(int, 'ignore')>=50)\n",
    "df[idx_dfabove50]"
   ]
  },
  {
   "cell_type": "markdown",
   "metadata": {},
   "source": [
    "<a id='outstanding1'></a>"
   ]
  },
  {
   "cell_type": "markdown",
   "metadata": {},
   "source": [
    "Some of these values are reasonable, but there are few for which we will need to go back to the field notes in 2011.  Those rows in which rtl > tl need to be investigated.\n",
    "\n",
    "[Back to Outstanding Problems](#outstanding)"
   ]
  },
  {
   "cell_type": "code",
   "execution_count": 37,
   "metadata": {},
   "outputs": [
    {
     "data": {
      "text/html": [
       "<div>\n",
       "<style scoped>\n",
       "    .dataframe tbody tr th:only-of-type {\n",
       "        vertical-align: middle;\n",
       "    }\n",
       "\n",
       "    .dataframe tbody tr th {\n",
       "        vertical-align: top;\n",
       "    }\n",
       "\n",
       "    .dataframe thead th {\n",
       "        text-align: right;\n",
       "    }\n",
       "</style>\n",
       "<table border=\"1\" class=\"dataframe\">\n",
       "  <thead>\n",
       "    <tr style=\"text-align: right;\">\n",
       "      <th></th>\n",
       "      <th>species</th>\n",
       "      <th>toes</th>\n",
       "      <th>sex</th>\n",
       "      <th>date</th>\n",
       "      <th>svl</th>\n",
       "      <th>tl</th>\n",
       "      <th>rtl</th>\n",
       "      <th>autotomized</th>\n",
       "      <th>mass</th>\n",
       "      <th>location</th>\n",
       "      <th>meters</th>\n",
       "      <th>new.recap</th>\n",
       "      <th>painted</th>\n",
       "      <th>sighting</th>\n",
       "      <th>paint.mark</th>\n",
       "      <th>vial</th>\n",
       "      <th>misc</th>\n",
       "    </tr>\n",
       "  </thead>\n",
       "  <tbody>\n",
       "    <tr>\n",
       "      <th>6297</th>\n",
       "      <td>sj</td>\n",
       "      <td>b 1 - 7 - 11</td>\n",
       "      <td>F</td>\n",
       "      <td>2011-06-20 00:00:00</td>\n",
       "      <td>7.5</td>\n",
       "      <td>70</td>\n",
       "      <td>90</td>\n",
       "      <td>NaN</td>\n",
       "      <td>0</td>\n",
       "      <td>3m right side ^ Juniper Xing</td>\n",
       "      <td>118</td>\n",
       "      <td>recap</td>\n",
       "      <td>yes</td>\n",
       "      <td>NaN</td>\n",
       "      <td>NaN</td>\n",
       "      <td>NaN</td>\n",
       "      <td>Break at 50, tail still attached w48c -&gt; g18b ...</td>\n",
       "    </tr>\n",
       "    <tr>\n",
       "      <th>6303</th>\n",
       "      <td>sj</td>\n",
       "      <td>b 2 - 9 - 15 - 17</td>\n",
       "      <td>F</td>\n",
       "      <td>2011-06-20 00:00:00</td>\n",
       "      <td>7.6</td>\n",
       "      <td>68</td>\n",
       "      <td>86</td>\n",
       "      <td>NaN</td>\n",
       "      <td>0</td>\n",
       "      <td>10m up CCC on slab</td>\n",
       "      <td>250</td>\n",
       "      <td>recap</td>\n",
       "      <td>yes</td>\n",
       "      <td>NaN</td>\n",
       "      <td>g19b</td>\n",
       "      <td>NaN</td>\n",
       "      <td>NaN</td>\n",
       "    </tr>\n",
       "  </tbody>\n",
       "</table>\n",
       "</div>"
      ],
      "text/plain": [
       "     species               toes sex                 date  svl  tl rtl  \\\n",
       "6297      sj       b 1 - 7 - 11   F  2011-06-20 00:00:00  7.5  70  90   \n",
       "6303      sj  b 2 - 9 - 15 - 17   F  2011-06-20 00:00:00  7.6  68  86   \n",
       "\n",
       "      autotomized mass                      location meters new.recap painted  \\\n",
       "6297          NaN    0  3m right side ^ Juniper Xing    118     recap     yes   \n",
       "6303          NaN    0            10m up CCC on slab    250     recap     yes   \n",
       "\n",
       "      sighting paint.mark vial  \\\n",
       "6297       NaN        NaN  NaN   \n",
       "6303       NaN       g19b  NaN   \n",
       "\n",
       "                                                   misc  \n",
       "6297  Break at 50, tail still attached w48c -> g18b ...  \n",
       "6303                                                NaN  "
      ]
     },
     "execution_count": 37,
     "metadata": {},
     "output_type": "execute_result"
    }
   ],
   "source": [
    "idx_rtltlbig = (idx_dfabove50)&(df.rtl.astype(int,errors = 'ignore')>df.tl.astype(int,errors ='ignore'))\n",
    "df.loc[idx_rtltlbig]"
   ]
  },
  {
   "cell_type": "markdown",
   "metadata": {},
   "source": [
    "These appear to be cases where svl,tl,rtl and mass may have been entered into the wrong columns, i.e. the correct placement of current values-->correct column should probably be:\n",
    "- svl-->mass\n",
    "- tl-->svl\n",
    "- rtl-->tl\n",
    "- mass-->rtl\n",
    "\n",
    "We will correct these now."
   ]
  },
  {
   "cell_type": "code",
   "execution_count": 38,
   "metadata": {},
   "outputs": [],
   "source": [
    "import copy\n",
    "def swap(df):\n",
    "    tmp = {\n",
    "        'rtl':copy.copy(df['rtl']),\n",
    "        'tl':copy.copy(df['tl']),\n",
    "        'svl':copy.copy(df['svl']),\n",
    "        'mass':copy.copy(df['mass'])\n",
    "    }\n",
    "#     print(tmp)\n",
    "    df['rtl'] = tmp['mass']\n",
    "    df['tl'] = tmp['rtl']\n",
    "    df['svl'] = tmp['tl']\n",
    "    df['mass'] = tmp['svl']\n",
    "#     print(tmp)\n",
    "    return df\n"
   ]
  },
  {
   "cell_type": "code",
   "execution_count": 39,
   "metadata": {},
   "outputs": [
    {
     "data": {
      "text/html": [
       "<div>\n",
       "<style scoped>\n",
       "    .dataframe tbody tr th:only-of-type {\n",
       "        vertical-align: middle;\n",
       "    }\n",
       "\n",
       "    .dataframe tbody tr th {\n",
       "        vertical-align: top;\n",
       "    }\n",
       "\n",
       "    .dataframe thead th {\n",
       "        text-align: right;\n",
       "    }\n",
       "</style>\n",
       "<table border=\"1\" class=\"dataframe\">\n",
       "  <thead>\n",
       "    <tr style=\"text-align: right;\">\n",
       "      <th></th>\n",
       "      <th>species</th>\n",
       "      <th>toes</th>\n",
       "      <th>sex</th>\n",
       "      <th>date</th>\n",
       "      <th>svl</th>\n",
       "      <th>tl</th>\n",
       "      <th>rtl</th>\n",
       "      <th>autotomized</th>\n",
       "      <th>mass</th>\n",
       "      <th>location</th>\n",
       "      <th>meters</th>\n",
       "      <th>new.recap</th>\n",
       "      <th>painted</th>\n",
       "      <th>sighting</th>\n",
       "      <th>paint.mark</th>\n",
       "      <th>vial</th>\n",
       "      <th>misc</th>\n",
       "    </tr>\n",
       "  </thead>\n",
       "  <tbody>\n",
       "    <tr>\n",
       "      <th>6297</th>\n",
       "      <td>sj</td>\n",
       "      <td>b 1 - 7 - 11</td>\n",
       "      <td>F</td>\n",
       "      <td>2011-06-20 00:00:00</td>\n",
       "      <td>70</td>\n",
       "      <td>90</td>\n",
       "      <td>0</td>\n",
       "      <td>NaN</td>\n",
       "      <td>7.5</td>\n",
       "      <td>3m right side ^ Juniper Xing</td>\n",
       "      <td>118</td>\n",
       "      <td>recap</td>\n",
       "      <td>yes</td>\n",
       "      <td>NaN</td>\n",
       "      <td>NaN</td>\n",
       "      <td>NaN</td>\n",
       "      <td>Break at 50, tail still attached w48c -&gt; g18b ...</td>\n",
       "    </tr>\n",
       "    <tr>\n",
       "      <th>6303</th>\n",
       "      <td>sj</td>\n",
       "      <td>b 2 - 9 - 15 - 17</td>\n",
       "      <td>F</td>\n",
       "      <td>2011-06-20 00:00:00</td>\n",
       "      <td>68</td>\n",
       "      <td>86</td>\n",
       "      <td>0</td>\n",
       "      <td>NaN</td>\n",
       "      <td>7.6</td>\n",
       "      <td>10m up CCC on slab</td>\n",
       "      <td>250</td>\n",
       "      <td>recap</td>\n",
       "      <td>yes</td>\n",
       "      <td>NaN</td>\n",
       "      <td>g19b</td>\n",
       "      <td>NaN</td>\n",
       "      <td>NaN</td>\n",
       "    </tr>\n",
       "  </tbody>\n",
       "</table>\n",
       "</div>"
      ],
      "text/plain": [
       "     species               toes sex                 date svl  tl rtl  \\\n",
       "6297      sj       b 1 - 7 - 11   F  2011-06-20 00:00:00  70  90   0   \n",
       "6303      sj  b 2 - 9 - 15 - 17   F  2011-06-20 00:00:00  68  86   0   \n",
       "\n",
       "      autotomized mass                      location meters new.recap painted  \\\n",
       "6297          NaN  7.5  3m right side ^ Juniper Xing    118     recap     yes   \n",
       "6303          NaN  7.6            10m up CCC on slab    250     recap     yes   \n",
       "\n",
       "      sighting paint.mark vial  \\\n",
       "6297       NaN        NaN  NaN   \n",
       "6303       NaN       g19b  NaN   \n",
       "\n",
       "                                                   misc  \n",
       "6297  Break at 50, tail still attached w48c -> g18b ...  \n",
       "6303                                                NaN  "
      ]
     },
     "execution_count": 39,
     "metadata": {},
     "output_type": "execute_result"
    }
   ],
   "source": [
    "df.loc[idx_rtltlbig,['svl','rtl','tl','mass']] = swap(df.loc[idx_rtltlbig,['svl','rtl','tl','mass']])\n",
    "df.loc[idx_rtltlbig,:]"
   ]
  },
  {
   "cell_type": "markdown",
   "metadata": {},
   "source": [
    "Now we force rtl to int type, ignoring errors."
   ]
  },
  {
   "cell_type": "code",
   "execution_count": 40,
   "metadata": {},
   "outputs": [],
   "source": [
    "df['rtl'] = df.rtl.astype(int,errors = 'ignore')"
   ]
  },
  {
   "cell_type": "markdown",
   "metadata": {},
   "source": [
    "<a id='tl'></a>"
   ]
  },
  {
   "cell_type": "markdown",
   "metadata": {},
   "source": [
    "## 'tl' \n",
    "[Back to: Top](#TOC)\n",
    "\n",
    "[Back to: Cleaning](#CleaningData)\n",
    "\n",
    "[Back to: Column-by-Column Cleaning](#ColbyCol)\n",
    "\n",
    "Here we investigate and clean values in the column 'tl'. These should be int type values that are positive.  First, we test to see if all of the values are of type int."
   ]
  },
  {
   "cell_type": "code",
   "execution_count": 41,
   "metadata": {},
   "outputs": [
    {
     "data": {
      "text/plain": [
       "<class 'float'>    3931\n",
       "<class 'str'>      2666\n",
       "Name: tl, dtype: int64"
      ]
     },
     "execution_count": 41,
     "metadata": {},
     "output_type": "execute_result"
    }
   ],
   "source": [
    "df.tl.astype(int,errors='ignore').apply(lambda x: type(x)).value_counts(dropna=False)"
   ]
  },
  {
   "cell_type": "markdown",
   "metadata": {},
   "source": [
    "Let us inspect the entries for which attempting to convert 'tl' results in a float type."
   ]
  },
  {
   "cell_type": "code",
   "execution_count": 42,
   "metadata": {},
   "outputs": [
    {
     "data": {
      "text/plain": [
       "NaN    3931\n",
       "Name: tl, dtype: int64"
      ]
     },
     "execution_count": 42,
     "metadata": {},
     "output_type": "execute_result"
    }
   ],
   "source": [
    "idx_floatNaNtl = df.tl.astype(int,errors='ignore').apply(lambda x: type(x) is float)\n",
    "df.loc[idx_floatNaNtl,'tl'].value_counts(dropna=False)"
   ]
  },
  {
   "cell_type": "markdown",
   "metadata": {},
   "source": [
    "These are all NaN entries and can be ignored for the time being."
   ]
  },
  {
   "cell_type": "markdown",
   "metadata": {},
   "source": [
    "Let's inspect the non NaN entries now."
   ]
  },
  {
   "cell_type": "code",
   "execution_count": 43,
   "metadata": {},
   "outputs": [
    {
     "data": {
      "text/plain": [
       "70         77\n",
       "73         74\n",
       "68         70\n",
       "75         66\n",
       "69         65\n",
       "65         61\n",
       "78         60\n",
       "72         59\n",
       "71         58\n",
       "66         57\n",
       "63         54\n",
       "67         51\n",
       "60         51\n",
       "76         47\n",
       "74         45\n",
       "61         44\n",
       "90         43\n",
       "85         42\n",
       "100        41\n",
       "52         39\n",
       "88         39\n",
       "59         39\n",
       "55         38\n",
       "57         37\n",
       "50         37\n",
       "64         36\n",
       "62         36\n",
       "80         36\n",
       "53         35\n",
       "79         32\n",
       "54         32\n",
       "58         32\n",
       "86         32\n",
       "102        31\n",
       "47         30\n",
       "87         27\n",
       "98         27\n",
       "103        26\n",
       "77         26\n",
       "49         26\n",
       "81         25\n",
       "89         25\n",
       "93         25\n",
       "51         24\n",
       "92         24\n",
       "56         24\n",
       "95         24\n",
       "99         24\n",
       "91         24\n",
       "82         23\n",
       "40         23\n",
       "83         23\n",
       "46         23\n",
       "97         23\n",
       "48         22\n",
       "94         22\n",
       "84         21\n",
       "96         20\n",
       "45         20\n",
       "106        19\n",
       "101        19\n",
       "43         18\n",
       "35         18\n",
       "105        16\n",
       "110        16\n",
       "104        16\n",
       "109        15\n",
       "120        15\n",
       "111        14\n",
       "36         13\n",
       "112        13\n",
       "116        13\n",
       "42         12\n",
       "41         12\n",
       "44         11\n",
       "108        11\n",
       "115        11\n",
       "107        10\n",
       "113         8\n",
       "30          8\n",
       "31          8\n",
       "32          8\n",
       "114         8\n",
       "38          7\n",
       "37          7\n",
       "33          7\n",
       "123         7\n",
       "125         7\n",
       "119         7\n",
       "25          6\n",
       "34          6\n",
       "130         6\n",
       "24          5\n",
       "26          5\n",
       "14          5\n",
       "15          5\n",
       "121         5\n",
       "19          4\n",
       "118         4\n",
       "39          4\n",
       "126         4\n",
       "23          4\n",
       "10          4\n",
       "27          3\n",
       "124         3\n",
       "22          3\n",
       "122         3\n",
       "117         3\n",
       "13          3\n",
       "129         3\n",
       "28          2\n",
       "7           2\n",
       "29          2\n",
       "18          2\n",
       "12          2\n",
       "21          2\n",
       "20          2\n",
       "132         2\n",
       "127         2\n",
       "131         1\n",
       "56 (42)     1\n",
       "185         1\n",
       "159         1\n",
       "9           1\n",
       "17          1\n",
       "128         1\n",
       "165         1\n",
       "11          1\n",
       "Name: tl, dtype: int64"
      ]
     },
     "execution_count": 43,
     "metadata": {},
     "output_type": "execute_result"
    }
   ],
   "source": [
    "idx_strtl = df.tl.astype(int,errors='ignore').apply(lambda x: type(x) is str)\n",
    "df.loc[idx_strtl,'tl'].value_counts(dropna=False)"
   ]
  },
  {
   "cell_type": "markdown",
   "metadata": {},
   "source": [
    "With the exception of the value '56 (42)', the tl values that are not NaN could be converted to int types.  Let's inspect this entry."
   ]
  },
  {
   "cell_type": "code",
   "execution_count": 44,
   "metadata": {},
   "outputs": [
    {
     "data": {
      "text/html": [
       "<div>\n",
       "<style scoped>\n",
       "    .dataframe tbody tr th:only-of-type {\n",
       "        vertical-align: middle;\n",
       "    }\n",
       "\n",
       "    .dataframe tbody tr th {\n",
       "        vertical-align: top;\n",
       "    }\n",
       "\n",
       "    .dataframe thead th {\n",
       "        text-align: right;\n",
       "    }\n",
       "</style>\n",
       "<table border=\"1\" class=\"dataframe\">\n",
       "  <thead>\n",
       "    <tr style=\"text-align: right;\">\n",
       "      <th></th>\n",
       "      <th>species</th>\n",
       "      <th>toes</th>\n",
       "      <th>sex</th>\n",
       "      <th>date</th>\n",
       "      <th>svl</th>\n",
       "      <th>tl</th>\n",
       "      <th>rtl</th>\n",
       "      <th>autotomized</th>\n",
       "      <th>mass</th>\n",
       "      <th>location</th>\n",
       "      <th>meters</th>\n",
       "      <th>new.recap</th>\n",
       "      <th>painted</th>\n",
       "      <th>sighting</th>\n",
       "      <th>paint.mark</th>\n",
       "      <th>vial</th>\n",
       "      <th>misc</th>\n",
       "    </tr>\n",
       "  </thead>\n",
       "  <tbody>\n",
       "    <tr>\n",
       "      <th>6017</th>\n",
       "      <td>sj</td>\n",
       "      <td>1-2-3-4-5</td>\n",
       "      <td>f</td>\n",
       "      <td>2009-07-13 00:00:00</td>\n",
       "      <td>69</td>\n",
       "      <td>56 (42)</td>\n",
       "      <td>-1</td>\n",
       "      <td>NaN</td>\n",
       "      <td>9.2</td>\n",
       "      <td>T opp mid wall v juniper xing</td>\n",
       "      <td>85</td>\n",
       "      <td>new</td>\n",
       "      <td>painted</td>\n",
       "      <td>NaN</td>\n",
       "      <td>y7a</td>\n",
       "      <td>NaN</td>\n",
       "      <td>missing LFF (left front foot); open break in tail at 42</td>\n",
       "    </tr>\n",
       "  </tbody>\n",
       "</table>\n",
       "</div>"
      ],
      "text/plain": [
       "     species       toes sex                 date svl       tl rtl  \\\n",
       "6017      sj  1-2-3-4-5   f  2009-07-13 00:00:00  69  56 (42)  -1   \n",
       "\n",
       "      autotomized mass                       location meters new.recap  \\\n",
       "6017          NaN  9.2  T opp mid wall v juniper xing     85      new    \n",
       "\n",
       "      painted  sighting paint.mark vial  \\\n",
       "6017  painted       NaN        y7a  NaN   \n",
       "\n",
       "                                                         misc  \n",
       "6017  missing LFF (left front foot); open break in tail at 42  "
      ]
     },
     "execution_count": 44,
     "metadata": {},
     "output_type": "execute_result"
    }
   ],
   "source": [
    "pd.set_option('max_colwidth',1000)\n",
    "idx_5642tl = df.loc[(idx_strtl) & (df.tl=='56 (42)'),:].index\n",
    "df.loc[df.index.isin(idx_5642tl)]"
   ]
  },
  {
   "cell_type": "markdown",
   "metadata": {},
   "source": [
    "Based on the notes in the misc column, tl should be recorded as 56.  We will do this now."
   ]
  },
  {
   "cell_type": "code",
   "execution_count": 45,
   "metadata": {},
   "outputs": [],
   "source": [
    "df.loc[df.index.isin(idx_5642tl),'tl']='56'"
   ]
  },
  {
   "cell_type": "markdown",
   "metadata": {},
   "source": [
    "Now the entry looks like this."
   ]
  },
  {
   "cell_type": "code",
   "execution_count": 46,
   "metadata": {},
   "outputs": [
    {
     "data": {
      "text/html": [
       "<div>\n",
       "<style scoped>\n",
       "    .dataframe tbody tr th:only-of-type {\n",
       "        vertical-align: middle;\n",
       "    }\n",
       "\n",
       "    .dataframe tbody tr th {\n",
       "        vertical-align: top;\n",
       "    }\n",
       "\n",
       "    .dataframe thead th {\n",
       "        text-align: right;\n",
       "    }\n",
       "</style>\n",
       "<table border=\"1\" class=\"dataframe\">\n",
       "  <thead>\n",
       "    <tr style=\"text-align: right;\">\n",
       "      <th></th>\n",
       "      <th>species</th>\n",
       "      <th>toes</th>\n",
       "      <th>sex</th>\n",
       "      <th>date</th>\n",
       "      <th>svl</th>\n",
       "      <th>tl</th>\n",
       "      <th>rtl</th>\n",
       "      <th>autotomized</th>\n",
       "      <th>mass</th>\n",
       "      <th>location</th>\n",
       "      <th>meters</th>\n",
       "      <th>new.recap</th>\n",
       "      <th>painted</th>\n",
       "      <th>sighting</th>\n",
       "      <th>paint.mark</th>\n",
       "      <th>vial</th>\n",
       "      <th>misc</th>\n",
       "    </tr>\n",
       "  </thead>\n",
       "  <tbody>\n",
       "    <tr>\n",
       "      <th>6017</th>\n",
       "      <td>sj</td>\n",
       "      <td>1-2-3-4-5</td>\n",
       "      <td>f</td>\n",
       "      <td>2009-07-13 00:00:00</td>\n",
       "      <td>69</td>\n",
       "      <td>56</td>\n",
       "      <td>-1</td>\n",
       "      <td>NaN</td>\n",
       "      <td>9.2</td>\n",
       "      <td>T opp mid wall v juniper xing</td>\n",
       "      <td>85</td>\n",
       "      <td>new</td>\n",
       "      <td>painted</td>\n",
       "      <td>NaN</td>\n",
       "      <td>y7a</td>\n",
       "      <td>NaN</td>\n",
       "      <td>missing LFF (left front foot); open break in tail at 42</td>\n",
       "    </tr>\n",
       "  </tbody>\n",
       "</table>\n",
       "</div>"
      ],
      "text/plain": [
       "     species       toes sex                 date svl  tl rtl  autotomized  \\\n",
       "6017      sj  1-2-3-4-5   f  2009-07-13 00:00:00  69  56  -1          NaN   \n",
       "\n",
       "     mass                       location meters new.recap  painted  sighting  \\\n",
       "6017  9.2  T opp mid wall v juniper xing     85      new   painted       NaN   \n",
       "\n",
       "     paint.mark vial                                                     misc  \n",
       "6017        y7a  NaN  missing LFF (left front foot); open break in tail at 42  "
      ]
     },
     "execution_count": 46,
     "metadata": {},
     "output_type": "execute_result"
    }
   ],
   "source": [
    "df.loc[df.index.isin(idx_5642tl),:]"
   ]
  },
  {
   "cell_type": "markdown",
   "metadata": {},
   "source": [
    "We will use a histogram to try and identify abnormalities among the other tl values."
   ]
  },
  {
   "cell_type": "code",
   "execution_count": 47,
   "metadata": {},
   "outputs": [
    {
     "data": {
      "text/html": [
       "<iframe id=\"igraph\" scrolling=\"no\" style=\"border:none;\" seamless=\"seamless\" src=\"https://plot.ly/~cragard/93.embed\" height=\"525px\" width=\"100%\"></iframe>"
      ],
      "text/plain": [
       "<plotly.tools.PlotlyDisplay object>"
      ]
     },
     "execution_count": 47,
     "metadata": {},
     "output_type": "execute_result"
    }
   ],
   "source": [
    "# dfnobadtypes0neg1 = (~df.tl.isin(badtypes))&(~df.tl.isin(['0','-1']))\n",
    "dfother = ~(df.species.dropna().str.contains('v|j'))&(df.species.notna())&(df.tl.notna())\n",
    "jarrovii = go.Histogram(x = df.loc[(df.species.str.contains('j'))&(df.tl.notna())\n",
    "                                   ,'tl'].astype(int, 'ignore'),name = 'S. jarrovii',xbins =dict(size=1)\n",
    "                        #,histnorm='probability'\n",
    "                        , cumulative=dict(enabled = False, direction = 'increasing'))\n",
    "virgatus = go.Histogram(x = df.loc[(df.species.str.contains('v'))&(df.tl.notna())\n",
    "                                   ,'tl'].astype(int, 'ignore'), name = 'S. virgatus',xbins =dict(size=1)\n",
    "                       #,histnorm='probability'\n",
    "                        , cumulative=dict(enabled = False, direction = 'increasing'))\n",
    "other = go.Histogram(x = df.loc[dfother,'tl'].astype(int, 'ignore'), name = 'other',xbins =dict(size=1)\n",
    "                                  #,histnorm='probability'\n",
    "                     , cumulative=dict(enabled = False\n",
    "                                                                           , direction = 'increasing'))\n",
    "data = [jarrovii, virgatus, other]\n",
    "layout = go.Layout(\n",
    "    title = 'Histogram of tl by species',\n",
    "    titlefont = dict(\n",
    "        size = 20),\n",
    "    xaxis = dict(\n",
    "        dtick = 1,\n",
    "        title = 'tl (mm)',\n",
    "#         tickfont = dict(\n",
    "#         size = 8),\n",
    "#         tickangle = 85,\n",
    "        titlefont = dict(\n",
    "            size = 18)),\n",
    "    yaxis = dict(\n",
    "        title = 'Number of Lizards',\n",
    "        titlefont = dict(\n",
    "            size = 18))\n",
    ")\n",
    "fig = go.Figure(\n",
    "        data = data,\n",
    "        layout = layout)\n",
    "py.iplot(fig, filename = 'Histogram of tl by species (new)')"
   ]
  },
  {
   "cell_type": "markdown",
   "metadata": {},
   "source": [
    "For now there is not much we can identify graphically.  We will revist this later.  For now we will force tl to int."
   ]
  },
  {
   "cell_type": "code",
   "execution_count": 48,
   "metadata": {},
   "outputs": [],
   "source": [
    "df['tl'] = df.tl.astype(int, errors = 'ignore')"
   ]
  },
  {
   "cell_type": "markdown",
   "metadata": {},
   "source": [
    "<a id='svl'></a>"
   ]
  },
  {
   "cell_type": "markdown",
   "metadata": {},
   "source": [
    "## 'svl' \n",
    "[Back to: Top](#TOC)\n",
    "\n",
    "[Back to: Cleaning](#CleaningData)\n",
    "\n",
    "[Back to: Column-by-Column Cleaning](#ColbyCol)\n",
    "\n"
   ]
  },
  {
   "cell_type": "markdown",
   "metadata": {},
   "source": [
    "We will take a similar approach for svl."
   ]
  },
  {
   "cell_type": "code",
   "execution_count": 49,
   "metadata": {},
   "outputs": [
    {
     "data": {
      "text/plain": [
       "<class 'float'>    3925\n",
       "<class 'str'>      2672\n",
       "Name: svl, dtype: int64"
      ]
     },
     "execution_count": 49,
     "metadata": {},
     "output_type": "execute_result"
    }
   ],
   "source": [
    "df.svl.astype(int,errors='ignore').apply(lambda x: type(x)).value_counts(dropna=False)"
   ]
  },
  {
   "cell_type": "markdown",
   "metadata": {},
   "source": [
    "Let us inspect the entries for which attempting to convert 'svl' results in a float type."
   ]
  },
  {
   "cell_type": "code",
   "execution_count": 50,
   "metadata": {},
   "outputs": [
    {
     "data": {
      "text/plain": [
       "NaN    3925\n",
       "Name: svl, dtype: int64"
      ]
     },
     "execution_count": 50,
     "metadata": {},
     "output_type": "execute_result"
    }
   ],
   "source": [
    "idx_floatNaNsvl = df.svl.astype(int,errors='ignore').apply(lambda x: type(x) is float)\n",
    "df.loc[idx_floatNaNsvl,'svl'].value_counts(dropna=False)"
   ]
  },
  {
   "cell_type": "markdown",
   "metadata": {},
   "source": [
    "These are all NaN entries and can be ignored for the time being."
   ]
  },
  {
   "cell_type": "markdown",
   "metadata": {},
   "source": [
    "Let's inspect the non NaN entries now."
   ]
  },
  {
   "cell_type": "code",
   "execution_count": 51,
   "metadata": {},
   "outputs": [
    {
     "data": {
      "text/plain": [
       "50       110\n",
       "52        90\n",
       "53        83\n",
       "56        83\n",
       "51        81\n",
       "55        79\n",
       "48        78\n",
       "49        76\n",
       "54        70\n",
       "75        69\n",
       "60        68\n",
       "70        66\n",
       "47        62\n",
       "46        56\n",
       "58        56\n",
       "45        55\n",
       "61        55\n",
       "65        53\n",
       "73        51\n",
       "57        49\n",
       "63        48\n",
       "68        46\n",
       "40        45\n",
       "76        44\n",
       "80        41\n",
       "66        41\n",
       "72        41\n",
       "59        41\n",
       "43        40\n",
       "78        39\n",
       "62        38\n",
       "82        37\n",
       "42        36\n",
       "64        36\n",
       "71        34\n",
       "74        34\n",
       "77        34\n",
       "85        31\n",
       "67        31\n",
       "44        30\n",
       "79        30\n",
       "39        30\n",
       "69        30\n",
       "81        28\n",
       "38        27\n",
       "83        27\n",
       "41        23\n",
       "36        23\n",
       "35        22\n",
       "84        21\n",
       "37        21\n",
       "89        20\n",
       "87        19\n",
       "32        19\n",
       "86        18\n",
       "34        18\n",
       "31        17\n",
       "90        16\n",
       "88        15\n",
       "30        14\n",
       "91        11\n",
       "33        11\n",
       "93         8\n",
       "29         7\n",
       "92         6\n",
       "28         6\n",
       "large      4\n",
       "27         4\n",
       "24         2\n",
       "26         2\n",
       "95         2\n",
       "22         2\n",
       "96         2\n",
       "105        2\n",
       "13         2\n",
       "106        1\n",
       "16         1\n",
       "small      1\n",
       "~70        1\n",
       "98         1\n",
       "112        1\n",
       "Name: svl, dtype: int64"
      ]
     },
     "execution_count": 51,
     "metadata": {},
     "output_type": "execute_result"
    }
   ],
   "source": [
    "idx_strsvl = df.svl.astype(int,errors='ignore').apply(lambda x: type(x) is str)\n",
    "df.loc[idx_strsvl,'svl'].value_counts(dropna=False)"
   ]
  },
  {
   "cell_type": "markdown",
   "metadata": {},
   "source": [
    "The values 'large', 'small', and '~70' require closer inspection."
   ]
  },
  {
   "cell_type": "code",
   "execution_count": 52,
   "metadata": {},
   "outputs": [
    {
     "data": {
      "text/html": [
       "<div>\n",
       "<style scoped>\n",
       "    .dataframe tbody tr th:only-of-type {\n",
       "        vertical-align: middle;\n",
       "    }\n",
       "\n",
       "    .dataframe tbody tr th {\n",
       "        vertical-align: top;\n",
       "    }\n",
       "\n",
       "    .dataframe thead th {\n",
       "        text-align: right;\n",
       "    }\n",
       "</style>\n",
       "<table border=\"1\" class=\"dataframe\">\n",
       "  <thead>\n",
       "    <tr style=\"text-align: right;\">\n",
       "      <th></th>\n",
       "      <th>species</th>\n",
       "      <th>toes</th>\n",
       "      <th>sex</th>\n",
       "      <th>date</th>\n",
       "      <th>svl</th>\n",
       "      <th>tl</th>\n",
       "      <th>rtl</th>\n",
       "      <th>autotomized</th>\n",
       "      <th>mass</th>\n",
       "      <th>location</th>\n",
       "      <th>meters</th>\n",
       "      <th>new.recap</th>\n",
       "      <th>painted</th>\n",
       "      <th>sighting</th>\n",
       "      <th>paint.mark</th>\n",
       "      <th>vial</th>\n",
       "      <th>misc</th>\n",
       "    </tr>\n",
       "  </thead>\n",
       "  <tbody>\n",
       "    <tr>\n",
       "      <th>148</th>\n",
       "      <td>sj</td>\n",
       "      <td>2-6-13-20</td>\n",
       "      <td>f</td>\n",
       "      <td>2001-03-23 00:00:00</td>\n",
       "      <td>~70</td>\n",
       "      <td>NaN</td>\n",
       "      <td>NaN</td>\n",
       "      <td>NaN</td>\n",
       "      <td>NaN</td>\n",
       "      <td>bottom R wall v cave trail</td>\n",
       "      <td>30</td>\n",
       "      <td>sighting</td>\n",
       "      <td>NaN</td>\n",
       "      <td>NaN</td>\n",
       "      <td>?</td>\n",
       "      <td>could read toes 6,13 for certain; toe 2 uncertain and didn't see 20 but this is the only right-sized female who could possible fit! Originally caught in July 1998, sb 20m ^ cave trail.</td>\n",
       "      <td>NaN</td>\n",
       "    </tr>\n",
       "    <tr>\n",
       "      <th>980</th>\n",
       "      <td>sj</td>\n",
       "      <td>NaN</td>\n",
       "      <td>m</td>\n",
       "      <td>2002-03-16 00:00:00</td>\n",
       "      <td>large</td>\n",
       "      <td>NaN</td>\n",
       "      <td>NaN</td>\n",
       "      <td>NaN</td>\n",
       "      <td>NaN</td>\n",
       "      <td>active in crevice in wall 3m v juniper xing</td>\n",
       "      <td>112</td>\n",
       "      <td>sighting</td>\n",
       "      <td>NaN</td>\n",
       "      <td>NaN</td>\n",
       "      <td>?</td>\n",
       "      <td>NaN</td>\n",
       "      <td>NaN</td>\n",
       "    </tr>\n",
       "    <tr>\n",
       "      <th>1152</th>\n",
       "      <td>sj</td>\n",
       "      <td>NaN</td>\n",
       "      <td>NaN</td>\n",
       "      <td>2002-03-17 00:00:00</td>\n",
       "      <td>large</td>\n",
       "      <td>NaN</td>\n",
       "      <td>NaN</td>\n",
       "      <td>NaN</td>\n",
       "      <td>NaN</td>\n",
       "      <td>H4a</td>\n",
       "      <td>194</td>\n",
       "      <td>sighting</td>\n",
       "      <td>NaN</td>\n",
       "      <td>NaN</td>\n",
       "      <td>w85a??</td>\n",
       "      <td>NaN</td>\n",
       "      <td>probably w85a but could only see the \"5\"</td>\n",
       "    </tr>\n",
       "    <tr>\n",
       "      <th>1513</th>\n",
       "      <td>sj</td>\n",
       "      <td>NaN</td>\n",
       "      <td>f</td>\n",
       "      <td>2002-03-20 00:00:00</td>\n",
       "      <td>large</td>\n",
       "      <td>NaN</td>\n",
       "      <td>NaN</td>\n",
       "      <td>NaN</td>\n",
       "      <td>NaN</td>\n",
       "      <td>L across from wall</td>\n",
       "      <td>318</td>\n",
       "      <td>sighting</td>\n",
       "      <td>NaN</td>\n",
       "      <td>NaN</td>\n",
       "      <td>w||t</td>\n",
       "      <td>NaN</td>\n",
       "      <td>NaN</td>\n",
       "    </tr>\n",
       "    <tr>\n",
       "      <th>1978</th>\n",
       "      <td>sj</td>\n",
       "      <td>NaN</td>\n",
       "      <td>m</td>\n",
       "      <td>2002-03-19 00:00:00</td>\n",
       "      <td>large</td>\n",
       "      <td>NaN</td>\n",
       "      <td>NaN</td>\n",
       "      <td>NaN</td>\n",
       "      <td>NaN</td>\n",
       "      <td>up rt wall @ pool</td>\n",
       "      <td>NaN</td>\n",
       "      <td>sighting</td>\n",
       "      <td>NaN</td>\n",
       "      <td>NaN</td>\n",
       "      <td>???</td>\n",
       "      <td>NaN</td>\n",
       "      <td>~25mm original T; rest regrown</td>\n",
       "    </tr>\n",
       "    <tr>\n",
       "      <th>2122</th>\n",
       "      <td>sv</td>\n",
       "      <td>NaN</td>\n",
       "      <td>?</td>\n",
       "      <td>2002-03-19 00:00:00</td>\n",
       "      <td>small</td>\n",
       "      <td>NaN</td>\n",
       "      <td>NaN</td>\n",
       "      <td>NaN</td>\n",
       "      <td>NaN</td>\n",
       "      <td>sb 4m ^ flatR</td>\n",
       "      <td>NaN</td>\n",
       "      <td>sighting</td>\n",
       "      <td>NaN</td>\n",
       "      <td>NaN</td>\n",
       "      <td>NaN</td>\n",
       "      <td>NaN</td>\n",
       "      <td>had moth so didn'tcatch</td>\n",
       "    </tr>\n",
       "  </tbody>\n",
       "</table>\n",
       "</div>"
      ],
      "text/plain": [
       "     species       toes  sex                 date    svl   tl  rtl  \\\n",
       "148       sj  2-6-13-20    f  2001-03-23 00:00:00    ~70  NaN  NaN   \n",
       "980       sj        NaN    m  2002-03-16 00:00:00  large  NaN  NaN   \n",
       "1152      sj        NaN  NaN  2002-03-17 00:00:00  large  NaN  NaN   \n",
       "1513      sj        NaN    f  2002-03-20 00:00:00  large  NaN  NaN   \n",
       "1978      sj        NaN    m  2002-03-19 00:00:00  large  NaN  NaN   \n",
       "2122      sv        NaN    ?  2002-03-19 00:00:00  small  NaN  NaN   \n",
       "\n",
       "      autotomized mass                                     location meters  \\\n",
       "148           NaN  NaN                   bottom R wall v cave trail     30   \n",
       "980           NaN  NaN  active in crevice in wall 3m v juniper xing    112   \n",
       "1152          NaN  NaN                                          H4a    194   \n",
       "1513          NaN  NaN                           L across from wall    318   \n",
       "1978          NaN  NaN                            up rt wall @ pool    NaN   \n",
       "2122          NaN  NaN                                sb 4m ^ flatR    NaN   \n",
       "\n",
       "     new.recap painted  sighting paint.mark  \\\n",
       "148   sighting     NaN       NaN          ?   \n",
       "980   sighting     NaN       NaN          ?   \n",
       "1152  sighting     NaN       NaN     w85a??   \n",
       "1513  sighting     NaN       NaN       w||t   \n",
       "1978  sighting     NaN       NaN        ???   \n",
       "2122  sighting     NaN       NaN        NaN   \n",
       "\n",
       "                                                                                                                                                                                          vial  \\\n",
       "148   could read toes 6,13 for certain; toe 2 uncertain and didn't see 20 but this is the only right-sized female who could possible fit! Originally caught in July 1998, sb 20m ^ cave trail.   \n",
       "980                                                                                                                                                                                        NaN   \n",
       "1152                                                                                                                                                                                       NaN   \n",
       "1513                                                                                                                                                                                       NaN   \n",
       "1978                                                                                                                                                                                       NaN   \n",
       "2122                                                                                                                                                                                       NaN   \n",
       "\n",
       "                                          misc  \n",
       "148                                        NaN  \n",
       "980                                        NaN  \n",
       "1152  probably w85a but could only see the \"5\"  \n",
       "1513                                       NaN  \n",
       "1978            ~25mm original T; rest regrown  \n",
       "2122                   had moth so didn'tcatch  "
      ]
     },
     "execution_count": 52,
     "metadata": {},
     "output_type": "execute_result"
    }
   ],
   "source": [
    "idx_txtvals = df.svl.isin(['small','large','~70'])\n",
    "df.loc[idx_txtvals]"
   ]
  },
  {
   "cell_type": "markdown",
   "metadata": {},
   "source": [
    "All of these values for svl should be set to NaN since these are estimates, not measured values.  For the entry with the svl value of '~70', we can add the estimated value to the misc column. We will use the [appendstr](#appendstr) function here again."
   ]
  },
  {
   "cell_type": "code",
   "execution_count": 53,
   "metadata": {},
   "outputs": [
    {
     "data": {
      "text/html": [
       "<div>\n",
       "<style scoped>\n",
       "    .dataframe tbody tr th:only-of-type {\n",
       "        vertical-align: middle;\n",
       "    }\n",
       "\n",
       "    .dataframe tbody tr th {\n",
       "        vertical-align: top;\n",
       "    }\n",
       "\n",
       "    .dataframe thead th {\n",
       "        text-align: right;\n",
       "    }\n",
       "</style>\n",
       "<table border=\"1\" class=\"dataframe\">\n",
       "  <thead>\n",
       "    <tr style=\"text-align: right;\">\n",
       "      <th></th>\n",
       "      <th>species</th>\n",
       "      <th>toes</th>\n",
       "      <th>sex</th>\n",
       "      <th>date</th>\n",
       "      <th>svl</th>\n",
       "      <th>tl</th>\n",
       "      <th>rtl</th>\n",
       "      <th>autotomized</th>\n",
       "      <th>mass</th>\n",
       "      <th>location</th>\n",
       "      <th>meters</th>\n",
       "      <th>new.recap</th>\n",
       "      <th>painted</th>\n",
       "      <th>sighting</th>\n",
       "      <th>paint.mark</th>\n",
       "      <th>vial</th>\n",
       "      <th>misc</th>\n",
       "    </tr>\n",
       "  </thead>\n",
       "  <tbody>\n",
       "    <tr>\n",
       "      <th>148</th>\n",
       "      <td>sj</td>\n",
       "      <td>2-6-13-20</td>\n",
       "      <td>f</td>\n",
       "      <td>2001-03-23 00:00:00</td>\n",
       "      <td>~70</td>\n",
       "      <td>NaN</td>\n",
       "      <td>NaN</td>\n",
       "      <td>NaN</td>\n",
       "      <td>NaN</td>\n",
       "      <td>bottom R wall v cave trail</td>\n",
       "      <td>30</td>\n",
       "      <td>sighting</td>\n",
       "      <td>NaN</td>\n",
       "      <td>NaN</td>\n",
       "      <td>?</td>\n",
       "      <td>could read toes 6,13 for certain; toe 2 uncertain and didn't see 20 but this is the only right-sized female who could possible fit! Originally caught in July 1998, sb 20m ^ cave trail.</td>\n",
       "      <td>svl extimated to be ~70mm</td>\n",
       "    </tr>\n",
       "  </tbody>\n",
       "</table>\n",
       "</div>"
      ],
      "text/plain": [
       "    species       toes sex                 date  svl   tl  rtl  autotomized  \\\n",
       "148      sj  2-6-13-20   f  2001-03-23 00:00:00  ~70  NaN  NaN          NaN   \n",
       "\n",
       "    mass                    location meters new.recap painted  sighting  \\\n",
       "148  NaN  bottom R wall v cave trail     30  sighting     NaN       NaN   \n",
       "\n",
       "    paint.mark  \\\n",
       "148          ?   \n",
       "\n",
       "                                                                                                                                                                                         vial  \\\n",
       "148  could read toes 6,13 for certain; toe 2 uncertain and didn't see 20 but this is the only right-sized female who could possible fit! Originally caught in July 1998, sb 20m ^ cave trail.   \n",
       "\n",
       "                          misc  \n",
       "148  svl extimated to be ~70mm  "
      ]
     },
     "execution_count": 53,
     "metadata": {},
     "output_type": "execute_result"
    }
   ],
   "source": [
    "idx_apprx70svl = (idx_txtvals)&(df.svl=='~70')\n",
    "df.loc[idx_apprx70svl,'misc'] = df.loc[idx_apprx70svl,'misc'].apply(lambda x: appendstr(x,connector=';'\n",
    "                                                        ,position='end'\n",
    "                                                        ,value='svl extimated to be ~70mm'))\n",
    "df.loc[idx_apprx70svl,:]"
   ]
  },
  {
   "cell_type": "code",
   "execution_count": 54,
   "metadata": {},
   "outputs": [
    {
     "data": {
      "text/html": [
       "<div>\n",
       "<style scoped>\n",
       "    .dataframe tbody tr th:only-of-type {\n",
       "        vertical-align: middle;\n",
       "    }\n",
       "\n",
       "    .dataframe tbody tr th {\n",
       "        vertical-align: top;\n",
       "    }\n",
       "\n",
       "    .dataframe thead th {\n",
       "        text-align: right;\n",
       "    }\n",
       "</style>\n",
       "<table border=\"1\" class=\"dataframe\">\n",
       "  <thead>\n",
       "    <tr style=\"text-align: right;\">\n",
       "      <th></th>\n",
       "      <th>species</th>\n",
       "      <th>toes</th>\n",
       "      <th>sex</th>\n",
       "      <th>date</th>\n",
       "      <th>svl</th>\n",
       "      <th>tl</th>\n",
       "      <th>rtl</th>\n",
       "      <th>autotomized</th>\n",
       "      <th>mass</th>\n",
       "      <th>location</th>\n",
       "      <th>meters</th>\n",
       "      <th>new.recap</th>\n",
       "      <th>painted</th>\n",
       "      <th>sighting</th>\n",
       "      <th>paint.mark</th>\n",
       "      <th>vial</th>\n",
       "      <th>misc</th>\n",
       "    </tr>\n",
       "  </thead>\n",
       "  <tbody>\n",
       "    <tr>\n",
       "      <th>148</th>\n",
       "      <td>sj</td>\n",
       "      <td>2-6-13-20</td>\n",
       "      <td>f</td>\n",
       "      <td>2001-03-23 00:00:00</td>\n",
       "      <td>NaN</td>\n",
       "      <td>NaN</td>\n",
       "      <td>NaN</td>\n",
       "      <td>NaN</td>\n",
       "      <td>NaN</td>\n",
       "      <td>bottom R wall v cave trail</td>\n",
       "      <td>30</td>\n",
       "      <td>sighting</td>\n",
       "      <td>NaN</td>\n",
       "      <td>NaN</td>\n",
       "      <td>?</td>\n",
       "      <td>could read toes 6,13 for certain; toe 2 uncertain and didn't see 20 but this is the only right-sized female who could possible fit! Originally caught in July 1998, sb 20m ^ cave trail.</td>\n",
       "      <td>svl extimated to be ~70mm</td>\n",
       "    </tr>\n",
       "    <tr>\n",
       "      <th>980</th>\n",
       "      <td>sj</td>\n",
       "      <td>NaN</td>\n",
       "      <td>m</td>\n",
       "      <td>2002-03-16 00:00:00</td>\n",
       "      <td>NaN</td>\n",
       "      <td>NaN</td>\n",
       "      <td>NaN</td>\n",
       "      <td>NaN</td>\n",
       "      <td>NaN</td>\n",
       "      <td>active in crevice in wall 3m v juniper xing</td>\n",
       "      <td>112</td>\n",
       "      <td>sighting</td>\n",
       "      <td>NaN</td>\n",
       "      <td>NaN</td>\n",
       "      <td>?</td>\n",
       "      <td>NaN</td>\n",
       "      <td>NaN</td>\n",
       "    </tr>\n",
       "    <tr>\n",
       "      <th>1152</th>\n",
       "      <td>sj</td>\n",
       "      <td>NaN</td>\n",
       "      <td>NaN</td>\n",
       "      <td>2002-03-17 00:00:00</td>\n",
       "      <td>NaN</td>\n",
       "      <td>NaN</td>\n",
       "      <td>NaN</td>\n",
       "      <td>NaN</td>\n",
       "      <td>NaN</td>\n",
       "      <td>H4a</td>\n",
       "      <td>194</td>\n",
       "      <td>sighting</td>\n",
       "      <td>NaN</td>\n",
       "      <td>NaN</td>\n",
       "      <td>w85a??</td>\n",
       "      <td>NaN</td>\n",
       "      <td>probably w85a but could only see the \"5\"</td>\n",
       "    </tr>\n",
       "    <tr>\n",
       "      <th>1513</th>\n",
       "      <td>sj</td>\n",
       "      <td>NaN</td>\n",
       "      <td>f</td>\n",
       "      <td>2002-03-20 00:00:00</td>\n",
       "      <td>NaN</td>\n",
       "      <td>NaN</td>\n",
       "      <td>NaN</td>\n",
       "      <td>NaN</td>\n",
       "      <td>NaN</td>\n",
       "      <td>L across from wall</td>\n",
       "      <td>318</td>\n",
       "      <td>sighting</td>\n",
       "      <td>NaN</td>\n",
       "      <td>NaN</td>\n",
       "      <td>w||t</td>\n",
       "      <td>NaN</td>\n",
       "      <td>NaN</td>\n",
       "    </tr>\n",
       "    <tr>\n",
       "      <th>1978</th>\n",
       "      <td>sj</td>\n",
       "      <td>NaN</td>\n",
       "      <td>m</td>\n",
       "      <td>2002-03-19 00:00:00</td>\n",
       "      <td>NaN</td>\n",
       "      <td>NaN</td>\n",
       "      <td>NaN</td>\n",
       "      <td>NaN</td>\n",
       "      <td>NaN</td>\n",
       "      <td>up rt wall @ pool</td>\n",
       "      <td>NaN</td>\n",
       "      <td>sighting</td>\n",
       "      <td>NaN</td>\n",
       "      <td>NaN</td>\n",
       "      <td>???</td>\n",
       "      <td>NaN</td>\n",
       "      <td>~25mm original T; rest regrown</td>\n",
       "    </tr>\n",
       "    <tr>\n",
       "      <th>2122</th>\n",
       "      <td>sv</td>\n",
       "      <td>NaN</td>\n",
       "      <td>?</td>\n",
       "      <td>2002-03-19 00:00:00</td>\n",
       "      <td>NaN</td>\n",
       "      <td>NaN</td>\n",
       "      <td>NaN</td>\n",
       "      <td>NaN</td>\n",
       "      <td>NaN</td>\n",
       "      <td>sb 4m ^ flatR</td>\n",
       "      <td>NaN</td>\n",
       "      <td>sighting</td>\n",
       "      <td>NaN</td>\n",
       "      <td>NaN</td>\n",
       "      <td>NaN</td>\n",
       "      <td>NaN</td>\n",
       "      <td>had moth so didn'tcatch</td>\n",
       "    </tr>\n",
       "  </tbody>\n",
       "</table>\n",
       "</div>"
      ],
      "text/plain": [
       "     species       toes  sex                 date  svl   tl  rtl  autotomized  \\\n",
       "148       sj  2-6-13-20    f  2001-03-23 00:00:00  NaN  NaN  NaN          NaN   \n",
       "980       sj        NaN    m  2002-03-16 00:00:00  NaN  NaN  NaN          NaN   \n",
       "1152      sj        NaN  NaN  2002-03-17 00:00:00  NaN  NaN  NaN          NaN   \n",
       "1513      sj        NaN    f  2002-03-20 00:00:00  NaN  NaN  NaN          NaN   \n",
       "1978      sj        NaN    m  2002-03-19 00:00:00  NaN  NaN  NaN          NaN   \n",
       "2122      sv        NaN    ?  2002-03-19 00:00:00  NaN  NaN  NaN          NaN   \n",
       "\n",
       "     mass                                     location meters new.recap  \\\n",
       "148   NaN                   bottom R wall v cave trail     30  sighting   \n",
       "980   NaN  active in crevice in wall 3m v juniper xing    112  sighting   \n",
       "1152  NaN                                          H4a    194  sighting   \n",
       "1513  NaN                           L across from wall    318  sighting   \n",
       "1978  NaN                            up rt wall @ pool    NaN  sighting   \n",
       "2122  NaN                                sb 4m ^ flatR    NaN  sighting   \n",
       "\n",
       "     painted  sighting paint.mark  \\\n",
       "148      NaN       NaN          ?   \n",
       "980      NaN       NaN          ?   \n",
       "1152     NaN       NaN     w85a??   \n",
       "1513     NaN       NaN       w||t   \n",
       "1978     NaN       NaN        ???   \n",
       "2122     NaN       NaN        NaN   \n",
       "\n",
       "                                                                                                                                                                                          vial  \\\n",
       "148   could read toes 6,13 for certain; toe 2 uncertain and didn't see 20 but this is the only right-sized female who could possible fit! Originally caught in July 1998, sb 20m ^ cave trail.   \n",
       "980                                                                                                                                                                                        NaN   \n",
       "1152                                                                                                                                                                                       NaN   \n",
       "1513                                                                                                                                                                                       NaN   \n",
       "1978                                                                                                                                                                                       NaN   \n",
       "2122                                                                                                                                                                                       NaN   \n",
       "\n",
       "                                          misc  \n",
       "148                  svl extimated to be ~70mm  \n",
       "980                                        NaN  \n",
       "1152  probably w85a but could only see the \"5\"  \n",
       "1513                                       NaN  \n",
       "1978            ~25mm original T; rest regrown  \n",
       "2122                   had moth so didn'tcatch  "
      ]
     },
     "execution_count": 54,
     "metadata": {},
     "output_type": "execute_result"
    }
   ],
   "source": [
    "df.loc[idx_txtvals,'svl']=np.nan\n",
    "df.loc[idx_txtvals]"
   ]
  },
  {
   "cell_type": "markdown",
   "metadata": {},
   "source": [
    "Now we force the remaining svl values to int type."
   ]
  },
  {
   "cell_type": "code",
   "execution_count": 55,
   "metadata": {},
   "outputs": [],
   "source": [
    "df['svl'] = df.svl.astype(int, errors= 'ignore')"
   ]
  },
  {
   "cell_type": "markdown",
   "metadata": {},
   "source": [
    "<a id='autotomized'></a>"
   ]
  },
  {
   "cell_type": "markdown",
   "metadata": {},
   "source": [
    "### 'autotomized' \n",
    "[Back to: Top](#TOC)\n",
    "\n",
    "[Back to: Cleaning](#CleaningData)\n",
    "\n",
    "[Back to: Column-by-Column Cleaning](#ColbyCol)\n",
    "\n",
    "[creating 'rtl_orig'and relabeling 'rtl' and 'autotomized](#rtlRTL_ORIGautotomized)\n",
    "- [copy the values in rtl to a new column, *rtl_orig*](#copyrtl)\n",
    "- [relabel entries in the autotomized column based on the values in the rtl_orig column](#relabelaut) \n",
    "- [relabel entries in the rtl column](#relabelrtl)\n",
    "\n",
    "Here we populate the 'autotomized' column based on the values in 'rtl'.  Most of the source files did not have this category and have NaN values others have float values of 1.0, 2.0 or 3.0 for intact, autotomized with no regrowth or autotomized with regrowth, respectively.  The cleaned data for autotomized will contain  bool type values True, for having experienced auttomy (irrespective of regrowth) and False for having no evidence of havign experienced autotomy."
   ]
  },
  {
   "cell_type": "code",
   "execution_count": 56,
   "metadata": {
    "scrolled": true
   },
   "outputs": [
    {
     "data": {
      "text/plain": [
       "NaN     6510\n",
       " 1.0      61\n",
       " 3.0      17\n",
       " 2.0       9\n",
       "Name: autotomized, dtype: int64"
      ]
     },
     "execution_count": 56,
     "metadata": {},
     "output_type": "execute_result"
    }
   ],
   "source": [
    "df.autotomized.value_counts(dropna=False)"
   ]
  },
  {
   "cell_type": "markdown",
   "metadata": {},
   "source": [
    "We will inspect the rtl values for entries with non NaN values for autotomized to determine if we can depend on rtl values to determine autotomy status.  In order to rely on rtl values, the following conditions must be met:\n",
    "- all entries in which autotomized equals 1.0 must have 0 for rtl\n",
    "- all entries in which autotomized equals 2.0 or 3.0 must have -1 or some value >0 for rtl"
   ]
  },
  {
   "cell_type": "code",
   "execution_count": 57,
   "metadata": {},
   "outputs": [
    {
     "name": "stdout",
     "output_type": "stream",
     "text": [
      "The rtl values associated with [21] need a closer look.\n"
     ]
    },
    {
     "data": {
      "text/html": [
       "<div>\n",
       "<style scoped>\n",
       "    .dataframe tbody tr th:only-of-type {\n",
       "        vertical-align: middle;\n",
       "    }\n",
       "\n",
       "    .dataframe tbody tr th {\n",
       "        vertical-align: top;\n",
       "    }\n",
       "\n",
       "    .dataframe thead th {\n",
       "        text-align: right;\n",
       "    }\n",
       "</style>\n",
       "<table border=\"1\" class=\"dataframe\">\n",
       "  <thead>\n",
       "    <tr style=\"text-align: right;\">\n",
       "      <th></th>\n",
       "      <th>species</th>\n",
       "      <th>toes</th>\n",
       "      <th>sex</th>\n",
       "      <th>date</th>\n",
       "      <th>svl</th>\n",
       "      <th>tl</th>\n",
       "      <th>rtl</th>\n",
       "      <th>autotomized</th>\n",
       "      <th>mass</th>\n",
       "      <th>location</th>\n",
       "      <th>meters</th>\n",
       "      <th>new.recap</th>\n",
       "      <th>painted</th>\n",
       "      <th>sighting</th>\n",
       "      <th>paint.mark</th>\n",
       "      <th>vial</th>\n",
       "      <th>misc</th>\n",
       "    </tr>\n",
       "  </thead>\n",
       "  <tbody>\n",
       "    <tr>\n",
       "      <th>6175</th>\n",
       "      <td>sv</td>\n",
       "      <td>3-7-11-16</td>\n",
       "      <td>f</td>\n",
       "      <td>19vi2010</td>\n",
       "      <td>60</td>\n",
       "      <td>42</td>\n",
       "      <td>21</td>\n",
       "      <td>1.0</td>\n",
       "      <td>8.5</td>\n",
       "      <td>6m^bottom site on R ^fallen T in sb</td>\n",
       "      <td>-14</td>\n",
       "      <td>NEW</td>\n",
       "      <td>yes</td>\n",
       "      <td>NaN</td>\n",
       "      <td>y1a</td>\n",
       "      <td>CA-01-cc</td>\n",
       "      <td>gravid</td>\n",
       "    </tr>\n",
       "  </tbody>\n",
       "</table>\n",
       "</div>"
      ],
      "text/plain": [
       "     species       toes sex      date svl  tl rtl  autotomized mass  \\\n",
       "6175      sv  3-7-11-16   f  19vi2010  60  42  21          1.0  8.5   \n",
       "\n",
       "                                 location meters new.recap painted  sighting  \\\n",
       "6175  6m^bottom site on R ^fallen T in sb    -14       NEW     yes       NaN   \n",
       "\n",
       "     paint.mark      vial    misc  \n",
       "6175        y1a  CA-01-cc  gravid  "
      ]
     },
     "execution_count": 57,
     "metadata": {},
     "output_type": "execute_result"
    }
   ],
   "source": [
    "intact = df.loc[(df.autotomized==1),'rtl'].astype(int,errors = 'ignore').value_counts(dropna=False)\n",
    "values2check = [x for x in intact.index[intact.index!=0]]\n",
    "if len(values2check)>0:\n",
    "    print(\"The rtl values associated with {} need a closer look.\".format(values2check))\n",
    "else:\n",
    "    print(\"Values for 'intact' entries are as expected.  Continue.\")\n",
    "pd.set_option('max_colwidth',1000)\n",
    "# df.loc[(df.autotomized==1)&(df.rtl.isin(['21'])),:]\n",
    "df.loc[(df.autotomized==1)&(df.rtl.astype(int, errors = 'ignore').isin([str(x) for x in values2check])),:]\n",
    "# need to see what broke this line"
   ]
  },
  {
   "cell_type": "markdown",
   "metadata": {},
   "source": [
    "<a id ='outstanding2'></a>\n",
    "\n",
    "[Back to Outstanding Problems](#outstanding)\n",
    "\n",
    "This lizard appears to have been misrecorded and should be listed as autotomized given the amount of regrowth. This should be confirmed in the field notes. If we trust the data as recorded and depend on the rtl values to label autotomized this will be corrected, so for now we will leave this as is."
   ]
  },
  {
   "cell_type": "code",
   "execution_count": 58,
   "metadata": {},
   "outputs": [
    {
     "name": "stdout",
     "output_type": "stream",
     "text": [
      "8 values associated with an rtl value of ['0'] need a closer look.\n"
     ]
    },
    {
     "data": {
      "text/html": [
       "<div>\n",
       "<style scoped>\n",
       "    .dataframe tbody tr th:only-of-type {\n",
       "        vertical-align: middle;\n",
       "    }\n",
       "\n",
       "    .dataframe tbody tr th {\n",
       "        vertical-align: top;\n",
       "    }\n",
       "\n",
       "    .dataframe thead th {\n",
       "        text-align: right;\n",
       "    }\n",
       "</style>\n",
       "<table border=\"1\" class=\"dataframe\">\n",
       "  <thead>\n",
       "    <tr style=\"text-align: right;\">\n",
       "      <th></th>\n",
       "      <th>species</th>\n",
       "      <th>toes</th>\n",
       "      <th>sex</th>\n",
       "      <th>date</th>\n",
       "      <th>svl</th>\n",
       "      <th>tl</th>\n",
       "      <th>rtl</th>\n",
       "      <th>autotomized</th>\n",
       "      <th>mass</th>\n",
       "      <th>location</th>\n",
       "      <th>meters</th>\n",
       "      <th>new.recap</th>\n",
       "      <th>painted</th>\n",
       "      <th>sighting</th>\n",
       "      <th>paint.mark</th>\n",
       "      <th>vial</th>\n",
       "      <th>misc</th>\n",
       "    </tr>\n",
       "  </thead>\n",
       "  <tbody>\n",
       "    <tr>\n",
       "      <th>6151</th>\n",
       "      <td>sj</td>\n",
       "      <td>3-6-15-17</td>\n",
       "      <td>m</td>\n",
       "      <td>18viii2010</td>\n",
       "      <td>52</td>\n",
       "      <td>70</td>\n",
       "      <td>0</td>\n",
       "      <td>2.0</td>\n",
       "      <td>4.5</td>\n",
       "      <td>r outcrop ^ oak R</td>\n",
       "      <td>425</td>\n",
       "      <td>new</td>\n",
       "      <td>yes</td>\n",
       "      <td>NaN</td>\n",
       "      <td>y68c</td>\n",
       "      <td>67-10-cc</td>\n",
       "      <td>Tss</td>\n",
       "    </tr>\n",
       "    <tr>\n",
       "      <th>6166</th>\n",
       "      <td>sj</td>\n",
       "      <td>3-6-12-18</td>\n",
       "      <td>f</td>\n",
       "      <td>26vii2010</td>\n",
       "      <td>66</td>\n",
       "      <td>79</td>\n",
       "      <td>0</td>\n",
       "      <td>2.0</td>\n",
       "      <td>9</td>\n",
       "      <td>339m; rt side 1m up</td>\n",
       "      <td>339</td>\n",
       "      <td>NEW</td>\n",
       "      <td>yes</td>\n",
       "      <td>NaN</td>\n",
       "      <td>y54c</td>\n",
       "      <td>48-10-cc</td>\n",
       "      <td>Bss</td>\n",
       "    </tr>\n",
       "    <tr>\n",
       "      <th>6172</th>\n",
       "      <td>sj</td>\n",
       "      <td>3-6-13-20</td>\n",
       "      <td>f</td>\n",
       "      <td>5viii2010</td>\n",
       "      <td>48</td>\n",
       "      <td>69</td>\n",
       "      <td>0</td>\n",
       "      <td>2.0</td>\n",
       "      <td>3.5</td>\n",
       "      <td>5m up ccc</td>\n",
       "      <td>NaN</td>\n",
       "      <td>new</td>\n",
       "      <td>yes</td>\n",
       "      <td>NaN</td>\n",
       "      <td>&gt;c</td>\n",
       "      <td>59-10-cc</td>\n",
       "      <td>NaN</td>\n",
       "    </tr>\n",
       "    <tr>\n",
       "      <th>6199</th>\n",
       "      <td>sj</td>\n",
       "      <td>3-10-13-(14)-16</td>\n",
       "      <td>m</td>\n",
       "      <td>12vi2010</td>\n",
       "      <td>92</td>\n",
       "      <td>112</td>\n",
       "      <td>0</td>\n",
       "      <td>2.0</td>\n",
       "      <td>18</td>\n",
       "      <td>talus^Rwall v talus left side 4m up</td>\n",
       "      <td>NaN</td>\n",
       "      <td>recap</td>\n",
       "      <td>yes</td>\n",
       "      <td>NaN</td>\n",
       "      <td>w1c</td>\n",
       "      <td>NaN</td>\n",
       "      <td>toe 14 looks like natural toe loss; skinny [pics], spine visible [pics], old puncture wounds on back [pics], possible injury of back rt leg at knee [pics]</td>\n",
       "    </tr>\n",
       "    <tr>\n",
       "      <th>6223</th>\n",
       "      <td>sj</td>\n",
       "      <td>4-7-8-9-11-18</td>\n",
       "      <td>m</td>\n",
       "      <td>26vii2010</td>\n",
       "      <td>96</td>\n",
       "      <td>97</td>\n",
       "      <td>0</td>\n",
       "      <td>2.0</td>\n",
       "      <td>24.5</td>\n",
       "      <td>2m left of stump</td>\n",
       "      <td>364</td>\n",
       "      <td>recap</td>\n",
       "      <td>yes</td>\n",
       "      <td>NaN</td>\n",
       "      <td>y51c</td>\n",
       "      <td>NaN</td>\n",
       "      <td>old mark wXc still visible; not the same as wXc at chute</td>\n",
       "    </tr>\n",
       "    <tr>\n",
       "      <th>6226</th>\n",
       "      <td>sj</td>\n",
       "      <td>3-10-13-14-16</td>\n",
       "      <td>m</td>\n",
       "      <td>26vii2010</td>\n",
       "      <td>91</td>\n",
       "      <td>111</td>\n",
       "      <td>0</td>\n",
       "      <td>2.0</td>\n",
       "      <td>18.5</td>\n",
       "      <td>1m v top R wall v talus in sb</td>\n",
       "      <td>320</td>\n",
       "      <td>recap</td>\n",
       "      <td>yes</td>\n",
       "      <td>NaN</td>\n",
       "      <td>y55c</td>\n",
       "      <td>NaN</td>\n",
       "      <td>1m v top R wall in sb; last mark still visible; injuries to dorsum [pics]; toe 14 may be natural toe loss; lizard is skinny: spine and hip bones visible [pics]</td>\n",
       "    </tr>\n",
       "    <tr>\n",
       "      <th>6229</th>\n",
       "      <td>sj</td>\n",
       "      <td>NaN</td>\n",
       "      <td>f</td>\n",
       "      <td>5viii2010</td>\n",
       "      <td>70</td>\n",
       "      <td>86</td>\n",
       "      <td>0</td>\n",
       "      <td>2.0</td>\n",
       "      <td>11</td>\n",
       "      <td>bottom site</td>\n",
       "      <td>NaN</td>\n",
       "      <td>recap</td>\n",
       "      <td>NaN</td>\n",
       "      <td>NaN</td>\n",
       "      <td>y61c.t</td>\n",
       "      <td>NaN</td>\n",
       "      <td>BSS; toe 19 could be natural toe loss</td>\n",
       "    </tr>\n",
       "    <tr>\n",
       "      <th>6231</th>\n",
       "      <td>sv</td>\n",
       "      <td>3-8-12-16</td>\n",
       "      <td>m</td>\n",
       "      <td>20vi2010</td>\n",
       "      <td>52</td>\n",
       "      <td>58</td>\n",
       "      <td>0</td>\n",
       "      <td>2.0</td>\n",
       "      <td>3.5</td>\n",
       "      <td>5m v wall v wall v juniper xing left side sb</td>\n",
       "      <td>80</td>\n",
       "      <td>recap</td>\n",
       "      <td>yes</td>\n",
       "      <td>NaN</td>\n",
       "      <td>y6a</td>\n",
       "      <td>NaN</td>\n",
       "      <td>NaN</td>\n",
       "    </tr>\n",
       "  </tbody>\n",
       "</table>\n",
       "</div>"
      ],
      "text/plain": [
       "     species             toes sex        date svl   tl rtl  autotomized  mass  \\\n",
       "6151      sj        3-6-15-17   m  18viii2010  52   70   0          2.0   4.5   \n",
       "6166      sj        3-6-12-18   f   26vii2010  66   79   0          2.0     9   \n",
       "6172      sj        3-6-13-20   f   5viii2010  48   69   0          2.0   3.5   \n",
       "6199      sj  3-10-13-(14)-16   m    12vi2010  92  112   0          2.0    18   \n",
       "6223      sj    4-7-8-9-11-18   m   26vii2010  96   97   0          2.0  24.5   \n",
       "6226      sj    3-10-13-14-16   m   26vii2010  91  111   0          2.0  18.5   \n",
       "6229      sj              NaN   f   5viii2010  70   86   0          2.0    11   \n",
       "6231      sv        3-8-12-16   m    20vi2010  52   58   0          2.0   3.5   \n",
       "\n",
       "                                          location meters new.recap painted  \\\n",
       "6151                             r outcrop ^ oak R    425       new     yes   \n",
       "6166                           339m; rt side 1m up    339       NEW     yes   \n",
       "6172                                     5m up ccc    NaN       new     yes   \n",
       "6199           talus^Rwall v talus left side 4m up    NaN     recap     yes   \n",
       "6223                              2m left of stump    364     recap     yes   \n",
       "6226                 1m v top R wall v talus in sb    320     recap     yes   \n",
       "6229                                   bottom site    NaN     recap     NaN   \n",
       "6231  5m v wall v wall v juniper xing left side sb     80     recap     yes   \n",
       "\n",
       "      sighting paint.mark      vial  \\\n",
       "6151       NaN       y68c  67-10-cc   \n",
       "6166       NaN       y54c  48-10-cc   \n",
       "6172       NaN         >c  59-10-cc   \n",
       "6199       NaN        w1c       NaN   \n",
       "6223       NaN       y51c       NaN   \n",
       "6226       NaN       y55c       NaN   \n",
       "6229       NaN     y61c.t       NaN   \n",
       "6231       NaN        y6a       NaN   \n",
       "\n",
       "                                                                                                                                                                 misc  \n",
       "6151                                                                                                                                                              Tss  \n",
       "6166                                                                                                                                                              Bss  \n",
       "6172                                                                                                                                                              NaN  \n",
       "6199       toe 14 looks like natural toe loss; skinny [pics], spine visible [pics], old puncture wounds on back [pics], possible injury of back rt leg at knee [pics]  \n",
       "6223                                                                                                         old mark wXc still visible; not the same as wXc at chute  \n",
       "6226  1m v top R wall in sb; last mark still visible; injuries to dorsum [pics]; toe 14 may be natural toe loss; lizard is skinny: spine and hip bones visible [pics]  \n",
       "6229                                                                                                                            BSS; toe 19 could be natural toe loss  \n",
       "6231                                                                                                                                                              NaN  "
      ]
     },
     "execution_count": 58,
     "metadata": {},
     "output_type": "execute_result"
    }
   ],
   "source": [
    "autotomized = df.loc[(df.autotomized==2),'rtl'].value_counts(dropna=False)\n",
    "aut_values2check = [x for x in autotomized.index[autotomized.index!='-1']]# change to 'isin' aregument with 0 and -1\n",
    "if len(aut_values2check)>0:\n",
    "    print(\"{} values associated with an rtl value of {} need a closer look.\"\\\n",
    "          .format(df.loc[(df.autotomized==2)&(df.rtl.isin(aut_values2check)),:].shape[0],aut_values2check))\n",
    "else:\n",
    "    print(\"Values for 'autotomized' entries are as expected.  Continue.\")\n",
    "pd.set_option('max_colwidth',1000)\n",
    "idx_aut_entries2check = (df.autotomized==2)&(df.rtl.isin([str(x) for x in aut_values2check]))\n",
    "df.loc[idx_aut_entries2check,:]"
   ]
  },
  {
   "cell_type": "markdown",
   "metadata": {},
   "source": [
    "<a id = 'outstanding3'></a>\n",
    "\n",
    "[Back to Outstanding Problems](#outstanding)\n",
    "\n",
    "Some of these cases are very straight forward given that the ratio of svl to tl is very close to 1, but others would be worth checking the original data to confirm. Another option is to use the svl to tl ratio of animals that we are sure are intact to decide how to classify these.  For now we will trust the system of recording used in 2010 and update the rtl values to '-1'."
   ]
  },
  {
   "cell_type": "code",
   "execution_count": 59,
   "metadata": {},
   "outputs": [],
   "source": [
    "df.loc[idx_aut_entries2check,'rtl'] = '-1'"
   ]
  },
  {
   "cell_type": "code",
   "execution_count": 60,
   "metadata": {},
   "outputs": [
    {
     "data": {
      "text/html": [
       "<div>\n",
       "<style scoped>\n",
       "    .dataframe tbody tr th:only-of-type {\n",
       "        vertical-align: middle;\n",
       "    }\n",
       "\n",
       "    .dataframe tbody tr th {\n",
       "        vertical-align: top;\n",
       "    }\n",
       "\n",
       "    .dataframe thead th {\n",
       "        text-align: right;\n",
       "    }\n",
       "</style>\n",
       "<table border=\"1\" class=\"dataframe\">\n",
       "  <thead>\n",
       "    <tr style=\"text-align: right;\">\n",
       "      <th></th>\n",
       "      <th>species</th>\n",
       "      <th>toes</th>\n",
       "      <th>sex</th>\n",
       "      <th>date</th>\n",
       "      <th>svl</th>\n",
       "      <th>tl</th>\n",
       "      <th>rtl</th>\n",
       "      <th>autotomized</th>\n",
       "      <th>mass</th>\n",
       "      <th>location</th>\n",
       "      <th>meters</th>\n",
       "      <th>new.recap</th>\n",
       "      <th>painted</th>\n",
       "      <th>sighting</th>\n",
       "      <th>paint.mark</th>\n",
       "      <th>vial</th>\n",
       "      <th>misc</th>\n",
       "    </tr>\n",
       "  </thead>\n",
       "  <tbody>\n",
       "    <tr>\n",
       "      <th>6151</th>\n",
       "      <td>sj</td>\n",
       "      <td>3-6-15-17</td>\n",
       "      <td>m</td>\n",
       "      <td>18viii2010</td>\n",
       "      <td>52</td>\n",
       "      <td>70</td>\n",
       "      <td>-1</td>\n",
       "      <td>2.0</td>\n",
       "      <td>4.5</td>\n",
       "      <td>r outcrop ^ oak R</td>\n",
       "      <td>425</td>\n",
       "      <td>new</td>\n",
       "      <td>yes</td>\n",
       "      <td>NaN</td>\n",
       "      <td>y68c</td>\n",
       "      <td>67-10-cc</td>\n",
       "      <td>Tss</td>\n",
       "    </tr>\n",
       "    <tr>\n",
       "      <th>6166</th>\n",
       "      <td>sj</td>\n",
       "      <td>3-6-12-18</td>\n",
       "      <td>f</td>\n",
       "      <td>26vii2010</td>\n",
       "      <td>66</td>\n",
       "      <td>79</td>\n",
       "      <td>-1</td>\n",
       "      <td>2.0</td>\n",
       "      <td>9</td>\n",
       "      <td>339m; rt side 1m up</td>\n",
       "      <td>339</td>\n",
       "      <td>NEW</td>\n",
       "      <td>yes</td>\n",
       "      <td>NaN</td>\n",
       "      <td>y54c</td>\n",
       "      <td>48-10-cc</td>\n",
       "      <td>Bss</td>\n",
       "    </tr>\n",
       "    <tr>\n",
       "      <th>6172</th>\n",
       "      <td>sj</td>\n",
       "      <td>3-6-13-20</td>\n",
       "      <td>f</td>\n",
       "      <td>5viii2010</td>\n",
       "      <td>48</td>\n",
       "      <td>69</td>\n",
       "      <td>-1</td>\n",
       "      <td>2.0</td>\n",
       "      <td>3.5</td>\n",
       "      <td>5m up ccc</td>\n",
       "      <td>NaN</td>\n",
       "      <td>new</td>\n",
       "      <td>yes</td>\n",
       "      <td>NaN</td>\n",
       "      <td>&gt;c</td>\n",
       "      <td>59-10-cc</td>\n",
       "      <td>NaN</td>\n",
       "    </tr>\n",
       "    <tr>\n",
       "      <th>6199</th>\n",
       "      <td>sj</td>\n",
       "      <td>3-10-13-(14)-16</td>\n",
       "      <td>m</td>\n",
       "      <td>12vi2010</td>\n",
       "      <td>92</td>\n",
       "      <td>112</td>\n",
       "      <td>-1</td>\n",
       "      <td>2.0</td>\n",
       "      <td>18</td>\n",
       "      <td>talus^Rwall v talus left side 4m up</td>\n",
       "      <td>NaN</td>\n",
       "      <td>recap</td>\n",
       "      <td>yes</td>\n",
       "      <td>NaN</td>\n",
       "      <td>w1c</td>\n",
       "      <td>NaN</td>\n",
       "      <td>toe 14 looks like natural toe loss; skinny [pics], spine visible [pics], old puncture wounds on back [pics], possible injury of back rt leg at knee [pics]</td>\n",
       "    </tr>\n",
       "    <tr>\n",
       "      <th>6223</th>\n",
       "      <td>sj</td>\n",
       "      <td>4-7-8-9-11-18</td>\n",
       "      <td>m</td>\n",
       "      <td>26vii2010</td>\n",
       "      <td>96</td>\n",
       "      <td>97</td>\n",
       "      <td>-1</td>\n",
       "      <td>2.0</td>\n",
       "      <td>24.5</td>\n",
       "      <td>2m left of stump</td>\n",
       "      <td>364</td>\n",
       "      <td>recap</td>\n",
       "      <td>yes</td>\n",
       "      <td>NaN</td>\n",
       "      <td>y51c</td>\n",
       "      <td>NaN</td>\n",
       "      <td>old mark wXc still visible; not the same as wXc at chute</td>\n",
       "    </tr>\n",
       "    <tr>\n",
       "      <th>6226</th>\n",
       "      <td>sj</td>\n",
       "      <td>3-10-13-14-16</td>\n",
       "      <td>m</td>\n",
       "      <td>26vii2010</td>\n",
       "      <td>91</td>\n",
       "      <td>111</td>\n",
       "      <td>-1</td>\n",
       "      <td>2.0</td>\n",
       "      <td>18.5</td>\n",
       "      <td>1m v top R wall v talus in sb</td>\n",
       "      <td>320</td>\n",
       "      <td>recap</td>\n",
       "      <td>yes</td>\n",
       "      <td>NaN</td>\n",
       "      <td>y55c</td>\n",
       "      <td>NaN</td>\n",
       "      <td>1m v top R wall in sb; last mark still visible; injuries to dorsum [pics]; toe 14 may be natural toe loss; lizard is skinny: spine and hip bones visible [pics]</td>\n",
       "    </tr>\n",
       "    <tr>\n",
       "      <th>6229</th>\n",
       "      <td>sj</td>\n",
       "      <td>NaN</td>\n",
       "      <td>f</td>\n",
       "      <td>5viii2010</td>\n",
       "      <td>70</td>\n",
       "      <td>86</td>\n",
       "      <td>-1</td>\n",
       "      <td>2.0</td>\n",
       "      <td>11</td>\n",
       "      <td>bottom site</td>\n",
       "      <td>NaN</td>\n",
       "      <td>recap</td>\n",
       "      <td>NaN</td>\n",
       "      <td>NaN</td>\n",
       "      <td>y61c.t</td>\n",
       "      <td>NaN</td>\n",
       "      <td>BSS; toe 19 could be natural toe loss</td>\n",
       "    </tr>\n",
       "    <tr>\n",
       "      <th>6231</th>\n",
       "      <td>sv</td>\n",
       "      <td>3-8-12-16</td>\n",
       "      <td>m</td>\n",
       "      <td>20vi2010</td>\n",
       "      <td>52</td>\n",
       "      <td>58</td>\n",
       "      <td>-1</td>\n",
       "      <td>2.0</td>\n",
       "      <td>3.5</td>\n",
       "      <td>5m v wall v wall v juniper xing left side sb</td>\n",
       "      <td>80</td>\n",
       "      <td>recap</td>\n",
       "      <td>yes</td>\n",
       "      <td>NaN</td>\n",
       "      <td>y6a</td>\n",
       "      <td>NaN</td>\n",
       "      <td>NaN</td>\n",
       "    </tr>\n",
       "  </tbody>\n",
       "</table>\n",
       "</div>"
      ],
      "text/plain": [
       "     species             toes sex        date svl   tl rtl  autotomized  mass  \\\n",
       "6151      sj        3-6-15-17   m  18viii2010  52   70  -1          2.0   4.5   \n",
       "6166      sj        3-6-12-18   f   26vii2010  66   79  -1          2.0     9   \n",
       "6172      sj        3-6-13-20   f   5viii2010  48   69  -1          2.0   3.5   \n",
       "6199      sj  3-10-13-(14)-16   m    12vi2010  92  112  -1          2.0    18   \n",
       "6223      sj    4-7-8-9-11-18   m   26vii2010  96   97  -1          2.0  24.5   \n",
       "6226      sj    3-10-13-14-16   m   26vii2010  91  111  -1          2.0  18.5   \n",
       "6229      sj              NaN   f   5viii2010  70   86  -1          2.0    11   \n",
       "6231      sv        3-8-12-16   m    20vi2010  52   58  -1          2.0   3.5   \n",
       "\n",
       "                                          location meters new.recap painted  \\\n",
       "6151                             r outcrop ^ oak R    425       new     yes   \n",
       "6166                           339m; rt side 1m up    339       NEW     yes   \n",
       "6172                                     5m up ccc    NaN       new     yes   \n",
       "6199           talus^Rwall v talus left side 4m up    NaN     recap     yes   \n",
       "6223                              2m left of stump    364     recap     yes   \n",
       "6226                 1m v top R wall v talus in sb    320     recap     yes   \n",
       "6229                                   bottom site    NaN     recap     NaN   \n",
       "6231  5m v wall v wall v juniper xing left side sb     80     recap     yes   \n",
       "\n",
       "      sighting paint.mark      vial  \\\n",
       "6151       NaN       y68c  67-10-cc   \n",
       "6166       NaN       y54c  48-10-cc   \n",
       "6172       NaN         >c  59-10-cc   \n",
       "6199       NaN        w1c       NaN   \n",
       "6223       NaN       y51c       NaN   \n",
       "6226       NaN       y55c       NaN   \n",
       "6229       NaN     y61c.t       NaN   \n",
       "6231       NaN        y6a       NaN   \n",
       "\n",
       "                                                                                                                                                                 misc  \n",
       "6151                                                                                                                                                              Tss  \n",
       "6166                                                                                                                                                              Bss  \n",
       "6172                                                                                                                                                              NaN  \n",
       "6199       toe 14 looks like natural toe loss; skinny [pics], spine visible [pics], old puncture wounds on back [pics], possible injury of back rt leg at knee [pics]  \n",
       "6223                                                                                                         old mark wXc still visible; not the same as wXc at chute  \n",
       "6226  1m v top R wall in sb; last mark still visible; injuries to dorsum [pics]; toe 14 may be natural toe loss; lizard is skinny: spine and hip bones visible [pics]  \n",
       "6229                                                                                                                            BSS; toe 19 could be natural toe loss  \n",
       "6231                                                                                                                                                              NaN  "
      ]
     },
     "execution_count": 60,
     "metadata": {},
     "output_type": "execute_result"
    }
   ],
   "source": [
    "df.loc[idx_aut_entries2check]"
   ]
  },
  {
   "cell_type": "code",
   "execution_count": 61,
   "metadata": {},
   "outputs": [
    {
     "name": "stdout",
     "output_type": "stream",
     "text": [
      "Values for 'regrown' entries are as expected.  Continue.\n"
     ]
    },
    {
     "data": {
      "text/html": [
       "<div>\n",
       "<style scoped>\n",
       "    .dataframe tbody tr th:only-of-type {\n",
       "        vertical-align: middle;\n",
       "    }\n",
       "\n",
       "    .dataframe tbody tr th {\n",
       "        vertical-align: top;\n",
       "    }\n",
       "\n",
       "    .dataframe thead th {\n",
       "        text-align: right;\n",
       "    }\n",
       "</style>\n",
       "<table border=\"1\" class=\"dataframe\">\n",
       "  <thead>\n",
       "    <tr style=\"text-align: right;\">\n",
       "      <th></th>\n",
       "      <th>species</th>\n",
       "      <th>toes</th>\n",
       "      <th>sex</th>\n",
       "      <th>date</th>\n",
       "      <th>svl</th>\n",
       "      <th>tl</th>\n",
       "      <th>rtl</th>\n",
       "      <th>autotomized</th>\n",
       "      <th>mass</th>\n",
       "      <th>location</th>\n",
       "      <th>meters</th>\n",
       "      <th>new.recap</th>\n",
       "      <th>painted</th>\n",
       "      <th>sighting</th>\n",
       "      <th>paint.mark</th>\n",
       "      <th>vial</th>\n",
       "      <th>misc</th>\n",
       "    </tr>\n",
       "  </thead>\n",
       "  <tbody>\n",
       "  </tbody>\n",
       "</table>\n",
       "</div>"
      ],
      "text/plain": [
       "Empty DataFrame\n",
       "Columns: [species, toes, sex, date, svl, tl, rtl, autotomized, mass, location, meters, new.recap, painted, sighting, paint.mark, vial, misc]\n",
       "Index: []"
      ]
     },
     "execution_count": 61,
     "metadata": {},
     "output_type": "execute_result"
    }
   ],
   "source": [
    "regrown = df.loc[(df.autotomized==3),'rtl'].value_counts(dropna=False).reset_index()['index']\\\n",
    ".astype(int, errors = 'ignore')\n",
    "values2check = [x for x in regrown<=0]\n",
    "if sum(values2check)>0:\n",
    "    print(\"The values associated with {} need a closer look.\".format(values2check))\n",
    "else:\n",
    "    print(\"Values for 'regrown' entries are as expected.  Continue.\")\n",
    "pd.set_option('max_colwidth',1000)\n",
    "df.loc[(df.autotomized==3)&(df.rtl.isin([str(x) for x in values2check])),:]"
   ]
  },
  {
   "cell_type": "markdown",
   "metadata": {},
   "source": [
    "The entries labeled as a 3.0 in the autotomized column do not appear as though their rtl values will present an issue for calculating new autotomized values.  We will leave these as they are."
   ]
  },
  {
   "cell_type": "markdown",
   "metadata": {},
   "source": [
    "<a id='rtlRTL_ORIGautotomized'></a>"
   ]
  },
  {
   "cell_type": "markdown",
   "metadata": {},
   "source": [
    "### creating 'rtl_orig' and relabeling 'rtl' and 'autotomized'\n",
    "[Back to: Top](#TOC)\n",
    "\n",
    "[Back to: Cleaning](#CleaningData)\n",
    "\n",
    "[Back to: Column-by-Column Cleaning](#ColByCol)\n",
    "\n",
    "[Back to: 'autotomized'](#autotomized)\n",
    "\n",
    "Now we will:\n",
    "- [copy the values in rtl to a new column, *rtl_orig*](#copyrtl)\n",
    "- [relabel entries in the autotomized column based on the values in the rtl_orig column](#relabelaut) \n",
    "- [relabel entries in the rtl column](#relabelrtl)"
   ]
  },
  {
   "cell_type": "markdown",
   "metadata": {},
   "source": [
    "<a id='copyrtl'></a>\n",
    "\n",
    "#### copy the values in rtl to a new column, *rtl_orig*\n",
    "[Back to: 'autotomized'](#autotomized)"
   ]
  },
  {
   "cell_type": "code",
   "execution_count": 62,
   "metadata": {},
   "outputs": [],
   "source": [
    "df['rtl_orig'] = df.rtl"
   ]
  },
  {
   "cell_type": "markdown",
   "metadata": {},
   "source": [
    "<a id='relabelaut'></a>\n",
    "\n",
    "#### relabel entries in the autotomized column based on the values in the rtl_orig column\n",
    "[Back to: 'autotomized'](#autotomized)\n",
    "\n",
    "We will do this using the following logic:\n",
    "    - if rtl_orig !=0 & rtl_orig.notna(), autotomized = True\n",
    "    - if rtl_orig ==0, automized = False\n",
    "    - if rtl_orig.isna(), autotomized = np.nan"
   ]
  },
  {
   "cell_type": "code",
   "execution_count": 63,
   "metadata": {},
   "outputs": [],
   "source": [
    "idx_auttrue = (~df.rtl_orig.isin(['0']))&(df.rtl_orig.notna())\n",
    "df.loc[idx_auttrue,'autotomized'] = True"
   ]
  },
  {
   "cell_type": "code",
   "execution_count": 64,
   "metadata": {},
   "outputs": [],
   "source": [
    "idx_autfalse = (df.rtl_orig.isin(['0']))&(df.rtl_orig.notna())\n",
    "df.loc[idx_autfalse,'autotomized'] = False"
   ]
  },
  {
   "cell_type": "code",
   "execution_count": 65,
   "metadata": {},
   "outputs": [],
   "source": [
    "idx_autnan = df.rtl_orig.isna()\n",
    "df.loc[idx_autnan,'autotomized'] = np.nan"
   ]
  },
  {
   "cell_type": "markdown",
   "metadata": {},
   "source": [
    "<a id='relabelrtl'></a>\n",
    "\n",
    "#### relabel entries in the rtl column\n",
    "[Back to: 'autotomized'](#autotomized)\n",
    "We will do this using the following logic:\n",
    "    - if rtl_orig == -1, rtl = 0"
   ]
  },
  {
   "cell_type": "code",
   "execution_count": 66,
   "metadata": {},
   "outputs": [],
   "source": [
    "idx_rtlneg1 = df.rtl_orig=='-1'\n",
    "df.loc[idx_rtlneg1,'rtl'] = 0"
   ]
  },
  {
   "cell_type": "code",
   "execution_count": 67,
   "metadata": {},
   "outputs": [
    {
     "data": {
      "text/plain": [
       "NaN      3932\n",
       "False    1977\n",
       "True      688\n",
       "Name: autotomized, dtype: int64"
      ]
     },
     "execution_count": 67,
     "metadata": {},
     "output_type": "execute_result"
    }
   ],
   "source": [
    "df.autotomized.value_counts(dropna=False)"
   ]
  },
  {
   "cell_type": "markdown",
   "metadata": {},
   "source": [
    "<a id = 'toes'></a>"
   ]
  },
  {
   "cell_type": "markdown",
   "metadata": {},
   "source": [
    "## toes \n",
    "[Top](#TOC)\n",
    "\n",
    "[Top Cleaning](#CleaningData)"
   ]
  },
  {
   "cell_type": "markdown",
   "metadata": {},
   "source": [
    "First we will rename \"toes\" to \"toes_orig\""
   ]
  },
  {
   "cell_type": "code",
   "execution_count": 68,
   "metadata": {},
   "outputs": [],
   "source": [
    "df = df.rename(columns = {'toes':'toes_orig'},index = str)"
   ]
  },
  {
   "cell_type": "markdown",
   "metadata": {},
   "source": [
    "Next we create a new column, \"toes\"  for the renamed toes"
   ]
  },
  {
   "cell_type": "code",
   "execution_count": 69,
   "metadata": {},
   "outputs": [],
   "source": [
    "df['toes'] = df.toes_orig"
   ]
  },
  {
   "cell_type": "markdown",
   "metadata": {},
   "source": [
    "Now we attempt to identify problem toes name and correct or export for review."
   ]
  },
  {
   "cell_type": "code",
   "execution_count": 70,
   "metadata": {
    "scrolled": false
   },
   "outputs": [],
   "source": [
    "pattern1 = \".( {1,}-.|.- {1,}.)\" # toes entries with any number of spaces on either side of a hyphen\n",
    "pattern2 = \".( {,}\\w{,} {1,}).\" # toes entries with space around or between numbers <- the spaces here should be deleted\n",
    "pattern3 = \".(').\"\n",
    "pattern4 = \"./.\"  # entries with '/' <-- need to replace these with '-'\n",
    "pattern5 = \"(\\?{1,})\"#<-- these needs to be investigated\n",
    "pattern6 = \"^\\d{3,}$\" # entries consist of only a single number comprised of at least three digits \n",
    "#<-- these needs to be investigated by checking raw field notes\n",
    "pattern7 = \".(-{2,}).\" # entries which have at least 2 consecutive '-' <- these should be investigated\n",
    "pattern8 = \"^0\" # entries in which single digit numbers have a leading \"0\" <-- Check raw field notes on this too\n",
    "pattern9 = \"a\\w\" #<--handled hyphens should be inserted  between the [ab] and \\w \n",
    "# entries that contain an 'a' or 'b' followed by any character in the set [a-zA-Z0-9_]\n",
    "pattern10 = \"b\\w\" #<--handled hyphens should be inserted  between the [ab] and \\w \n",
    "pattern11 = \"\\wa\" # entries that contain an 'a' or 'b' preceded by any character in the set [a-zA-Z0-9_]\n",
    "pattern12 = \"\\wb\" # entries that contain an 'a' or 'b' preceded by any character in the set [a-zA-Z0-9_]\n",
    "pattern13 = \"[()]\"\n",
    "# remove space before 'a' at end of toes\n",
    "#investigate '\\d-', \n",
    "#'-(*)-', \n",
    "#' (16) ', \n",
    "#'---', <- may not exist in raw data\n",
    "#'\\d- ', \n",
    "#'- \\d', \n",
    "#transcription errors from excel (toes in date format,\n",
    "#'-\\d\\d\\d\\d' <- may not be in the data set"
   ]
  },
  {
   "cell_type": "markdown",
   "metadata": {},
   "source": [
    "We'll have to change this block if we add or remove toe patterns.\n",
    "This is not ideal and needs to be fixed"
   ]
  },
  {
   "cell_type": "code",
   "execution_count": 71,
   "metadata": {},
   "outputs": [
    {
     "name": "stdout",
     "output_type": "stream",
     "text": [
      "0     01\n",
      "1     02\n",
      "2     03\n",
      "3     04\n",
      "4     05\n",
      "5     06\n",
      "6     07\n",
      "7     08\n",
      "8     09\n",
      "9     10\n",
      "10    11\n",
      "11    12\n",
      "12    13\n",
      "dtype: object\n",
      "0     .( {1,}-.|.- {1,}.)\n",
      "1      .( {,}\\w{,} {1,}).\n",
      "2                   .(').\n",
      "3                     ./.\n",
      "4                (\\?{1,})\n",
      "5                ^\\d{3,}$\n",
      "6               .(-{2,}).\n",
      "7                      ^0\n",
      "8                     a\\w\n",
      "9                     b\\w\n",
      "10                    \\wa\n",
      "11                    \\wb\n",
      "12                   [()]\n",
      "dtype: object\n"
     ]
    },
    {
     "data": {
      "text/html": [
       "<div>\n",
       "<style scoped>\n",
       "    .dataframe tbody tr th:only-of-type {\n",
       "        vertical-align: middle;\n",
       "    }\n",
       "\n",
       "    .dataframe tbody tr th {\n",
       "        vertical-align: top;\n",
       "    }\n",
       "\n",
       "    .dataframe thead th {\n",
       "        text-align: right;\n",
       "    }\n",
       "</style>\n",
       "<table border=\"1\" class=\"dataframe\">\n",
       "  <thead>\n",
       "    <tr style=\"text-align: right;\">\n",
       "      <th></th>\n",
       "      <th>toe_pattern</th>\n",
       "      <th>description</th>\n",
       "    </tr>\n",
       "  </thead>\n",
       "  <tbody>\n",
       "    <tr>\n",
       "      <th>0</th>\n",
       "      <td>01</td>\n",
       "      <td>.( {1,}-.|.- {1,}.)</td>\n",
       "    </tr>\n",
       "    <tr>\n",
       "      <th>1</th>\n",
       "      <td>02</td>\n",
       "      <td>.( {,}\\w{,} {1,}).</td>\n",
       "    </tr>\n",
       "    <tr>\n",
       "      <th>2</th>\n",
       "      <td>03</td>\n",
       "      <td>.(').</td>\n",
       "    </tr>\n",
       "    <tr>\n",
       "      <th>3</th>\n",
       "      <td>04</td>\n",
       "      <td>./.</td>\n",
       "    </tr>\n",
       "    <tr>\n",
       "      <th>4</th>\n",
       "      <td>05</td>\n",
       "      <td>(\\?{1,})</td>\n",
       "    </tr>\n",
       "    <tr>\n",
       "      <th>5</th>\n",
       "      <td>06</td>\n",
       "      <td>^\\d{3,}$</td>\n",
       "    </tr>\n",
       "    <tr>\n",
       "      <th>6</th>\n",
       "      <td>07</td>\n",
       "      <td>.(-{2,}).</td>\n",
       "    </tr>\n",
       "    <tr>\n",
       "      <th>7</th>\n",
       "      <td>08</td>\n",
       "      <td>^0</td>\n",
       "    </tr>\n",
       "    <tr>\n",
       "      <th>8</th>\n",
       "      <td>09</td>\n",
       "      <td>a\\w</td>\n",
       "    </tr>\n",
       "    <tr>\n",
       "      <th>9</th>\n",
       "      <td>10</td>\n",
       "      <td>b\\w</td>\n",
       "    </tr>\n",
       "    <tr>\n",
       "      <th>10</th>\n",
       "      <td>11</td>\n",
       "      <td>\\wa</td>\n",
       "    </tr>\n",
       "    <tr>\n",
       "      <th>11</th>\n",
       "      <td>12</td>\n",
       "      <td>\\wb</td>\n",
       "    </tr>\n",
       "    <tr>\n",
       "      <th>12</th>\n",
       "      <td>13</td>\n",
       "      <td>[()]</td>\n",
       "    </tr>\n",
       "  </tbody>\n",
       "</table>\n",
       "</div>"
      ],
      "text/plain": [
       "   toe_pattern          description\n",
       "0           01  .( {1,}-.|.- {1,}.)\n",
       "1           02   .( {,}\\w{,} {1,}).\n",
       "2           03                .(').\n",
       "3           04                  ./.\n",
       "4           05             (\\?{1,})\n",
       "5           06             ^\\d{3,}$\n",
       "6           07            .(-{2,}).\n",
       "7           08                   ^0\n",
       "8           09                  a\\w\n",
       "9           10                  b\\w\n",
       "10          11                  \\wa\n",
       "11          12                  \\wb\n",
       "12          13                 [()]"
      ]
     },
     "execution_count": 71,
     "metadata": {},
     "output_type": "execute_result"
    }
   ],
   "source": [
    "toe_pattern = pd.Series([*range(1,14)]) \n",
    "toe_pattern = make_str(toe_pattern)\n",
    "print(toe_pattern)\n",
    "\n",
    "toe_pattern_descr = pd.Series([pattern1,pattern2,pattern3,pattern4\n",
    "                               ,pattern5,pattern6,pattern7,pattern8\n",
    "                               ,pattern9,pattern10,pattern11,pattern12,pattern13])\n",
    "toe_pattern_descr = toe_pattern_descr.astype(str)\n",
    "print(toe_pattern_descr)\n",
    "\n",
    "toe_pattern_reference = pd.DataFrame({'toe_pattern': toe_pattern,'description':toe_pattern_descr})\n",
    "toe_pattern_reference"
   ]
  },
  {
   "cell_type": "markdown",
   "metadata": {},
   "source": [
    "We first replace the string 'nan' with a null value"
   ]
  },
  {
   "cell_type": "code",
   "execution_count": 72,
   "metadata": {},
   "outputs": [],
   "source": [
    "df.loc[df.toes=='nan','toes'] = np.nan"
   ]
  },
  {
   "cell_type": "markdown",
   "metadata": {},
   "source": [
    "Let's see how many of these patterns we need to correct"
   ]
  },
  {
   "cell_type": "code",
   "execution_count": 73,
   "metadata": {},
   "outputs": [],
   "source": [
    "df['toe_pattern'] = np.nan"
   ]
  },
  {
   "cell_type": "markdown",
   "metadata": {},
   "source": [
    "Here we use a for-loop to label the patterns \n",
    "(there's probably a better way to do this with pandas map or apply, but I'll have to figure this out, for now this is fast enough, but it could make a difference with a larger data set or with more patterns)"
   ]
  },
  {
   "cell_type": "code",
   "execution_count": 74,
   "metadata": {
    "scrolled": true
   },
   "outputs": [],
   "source": [
    "for i in range(0,toe_pattern_reference.shape[0]):\n",
    "    tmp_pat_num = toe_pattern_reference.iloc[i,0]\n",
    "    tmp_pattern = toe_pattern_reference.iloc[i,1]\n",
    "    df = label_pattern(df,tmp_pat_num,tmp_pattern,'toe_pattern','toes')"
   ]
  },
  {
   "cell_type": "markdown",
   "metadata": {},
   "source": [
    "A quick summary of the number of observations for each pattern in the data set"
   ]
  },
  {
   "cell_type": "code",
   "execution_count": 75,
   "metadata": {},
   "outputs": [
    {
     "data": {
      "text/html": [
       "<div>\n",
       "<style scoped>\n",
       "    .dataframe tbody tr th:only-of-type {\n",
       "        vertical-align: middle;\n",
       "    }\n",
       "\n",
       "    .dataframe tbody tr th {\n",
       "        vertical-align: top;\n",
       "    }\n",
       "\n",
       "    .dataframe thead th {\n",
       "        text-align: right;\n",
       "    }\n",
       "</style>\n",
       "<table border=\"1\" class=\"dataframe\">\n",
       "  <thead>\n",
       "    <tr style=\"text-align: right;\">\n",
       "      <th></th>\n",
       "      <th>toe_pattern</th>\n",
       "      <th>observations</th>\n",
       "      <th>description</th>\n",
       "    </tr>\n",
       "  </thead>\n",
       "  <tbody>\n",
       "    <tr>\n",
       "      <th>0</th>\n",
       "      <td>Not covered by current patterns</td>\n",
       "      <td>6291</td>\n",
       "      <td>NaN</td>\n",
       "    </tr>\n",
       "    <tr>\n",
       "      <th>1</th>\n",
       "      <td>02</td>\n",
       "      <td>260</td>\n",
       "      <td>.( {,}\\w{,} {1,}).</td>\n",
       "    </tr>\n",
       "    <tr>\n",
       "      <th>2</th>\n",
       "      <td>01</td>\n",
       "      <td>39</td>\n",
       "      <td>.( {1,}-.|.- {1,}.)</td>\n",
       "    </tr>\n",
       "    <tr>\n",
       "      <th>3</th>\n",
       "      <td>05</td>\n",
       "      <td>4</td>\n",
       "      <td>(\\?{1,})</td>\n",
       "    </tr>\n",
       "    <tr>\n",
       "      <th>4</th>\n",
       "      <td>13</td>\n",
       "      <td>2</td>\n",
       "      <td>[()]</td>\n",
       "    </tr>\n",
       "    <tr>\n",
       "      <th>5</th>\n",
       "      <td>09</td>\n",
       "      <td>1</td>\n",
       "      <td>a\\w</td>\n",
       "    </tr>\n",
       "  </tbody>\n",
       "</table>\n",
       "</div>"
      ],
      "text/plain": [
       "                       toe_pattern  observations          description\n",
       "0  Not covered by current patterns          6291                  NaN\n",
       "1                               02           260   .( {,}\\w{,} {1,}).\n",
       "2                               01            39  .( {1,}-.|.- {1,}.)\n",
       "3                               05             4             (\\?{1,})\n",
       "4                               13             2                 [()]\n",
       "5                               09             1                  a\\w"
      ]
     },
     "execution_count": 75,
     "metadata": {},
     "output_type": "execute_result"
    }
   ],
   "source": [
    "toe_errors =df.toe_pattern.value_counts(dropna=False).reset_index()\\\n",
    ".rename(columns = {'index':'toe_pattern','toe_pattern':'observations'})\n",
    "toe_errors.loc[toe_errors.toe_pattern.isnull(),'toe_pattern'] = 'Not covered by current patterns'\n",
    "toe_errors_desc = toe_errors.merge(toe_pattern_reference,'left',on='toe_pattern')\n",
    "toe_errors_desc"
   ]
  },
  {
   "cell_type": "markdown",
   "metadata": {},
   "source": [
    "Now let's make sure we've accounted for every row in the data set"
   ]
  },
  {
   "cell_type": "code",
   "execution_count": 76,
   "metadata": {
    "scrolled": true
   },
   "outputs": [
    {
     "name": "stdout",
     "output_type": "stream",
     "text": [
      "\n",
      "There are 6597 rows accounted for in the patterns (including null values) and there 6597 rows in the full data set.  There are 0 rows unaccounted for.\n"
     ]
    }
   ],
   "source": [
    "accountedRows = toe_errors.observations.sum()\n",
    "totalRows = df.shape[0]\n",
    "notAccountedRows = df.shape[0] - toe_errors.observations.sum()\n",
    "print(\"\\nThere are {} rows accounted for in the patterns (including null values) and there {} rows in the full data set.\\\n",
    "  There are {} rows unaccounted for.\".format(accountedRows,totalRows,notAccountedRows))"
   ]
  },
  {
   "cell_type": "markdown",
   "metadata": {},
   "source": [
    "Now we correct these patterns. We'll preserve the original toe data in a column called \"toes_orig\" just in case.  We can drop this later, if we are comfortable with the changes.  The new toes will be labeled \"toes\"."
   ]
  },
  {
   "cell_type": "code",
   "execution_count": 77,
   "metadata": {},
   "outputs": [],
   "source": [
    "corrections_config = {'01':{'action':'replace','pattern_b':\" \",'replacement':\"\\\"\\\"\"},\n",
    "            '02':{'action':'replace','pattern_b':\" \",'replacement':\"-\"},\n",
    "            '03':{'action':'replace','pattern_b':\"\\'\",'replacement':\"\\\"\\\"\"},\n",
    "            '04':{'action':'replace','pattern_b':\"/\",'replacement':\"-\"},\n",
    "            '05':{'action':'save','pattern_b':np.nan,'replacement':np.nan},\n",
    "            '06':{'action':'save','pattern_b':np.nan,'replacement':np.nan},\n",
    "            '07':{'action':'save','pattern_b':np.nan,'replacement':np.nan},\n",
    "            '08':{'action':'replace','pattern_b':\"^0\",'replacement':\"\\\"\\\"\"},\n",
    "            '09':{'action':'replace','pattern_b':'a','replacement':'-a'},\n",
    "            '10':{'action':'replace','pattern_b':'b','replacement':'-b'},          \n",
    "            '11':{'action':'replace','pattern_b':\"a\",'replacement':\"a-\"},\n",
    "            '12':{'action':'replace','pattern_b':\"b\",'replacement':\"b-\"},\n",
    "            '13':{'action':'replace','pattern_b':\"[()]\",'replacement':\"\\\"\\\"\"}}"
   ]
  },
  {
   "cell_type": "code",
   "execution_count": 78,
   "metadata": {},
   "outputs": [
    {
     "data": {
      "text/html": [
       "<div>\n",
       "<style scoped>\n",
       "    .dataframe tbody tr th:only-of-type {\n",
       "        vertical-align: middle;\n",
       "    }\n",
       "\n",
       "    .dataframe tbody tr th {\n",
       "        vertical-align: top;\n",
       "    }\n",
       "\n",
       "    .dataframe thead th {\n",
       "        text-align: right;\n",
       "    }\n",
       "</style>\n",
       "<table border=\"1\" class=\"dataframe\">\n",
       "  <thead>\n",
       "    <tr style=\"text-align: right;\">\n",
       "      <th></th>\n",
       "      <th>toe_pattern</th>\n",
       "      <th>observations</th>\n",
       "      <th>description</th>\n",
       "      <th>action</th>\n",
       "      <th>replacement</th>\n",
       "    </tr>\n",
       "  </thead>\n",
       "  <tbody>\n",
       "    <tr>\n",
       "      <th>0</th>\n",
       "      <td>01</td>\n",
       "      <td>39</td>\n",
       "      <td>.( {1,}-.|.- {1,}.)</td>\n",
       "      <td>replace</td>\n",
       "      <td>\"\"</td>\n",
       "    </tr>\n",
       "    <tr>\n",
       "      <th>1</th>\n",
       "      <td>02</td>\n",
       "      <td>260</td>\n",
       "      <td>.( {,}\\w{,} {1,}).</td>\n",
       "      <td>replace</td>\n",
       "      <td>-</td>\n",
       "    </tr>\n",
       "    <tr>\n",
       "      <th>2</th>\n",
       "      <td>05</td>\n",
       "      <td>4</td>\n",
       "      <td>(\\?{1,})</td>\n",
       "      <td>save</td>\n",
       "      <td>NaN</td>\n",
       "    </tr>\n",
       "    <tr>\n",
       "      <th>3</th>\n",
       "      <td>09</td>\n",
       "      <td>1</td>\n",
       "      <td>a\\w</td>\n",
       "      <td>replace</td>\n",
       "      <td>-a</td>\n",
       "    </tr>\n",
       "    <tr>\n",
       "      <th>4</th>\n",
       "      <td>13</td>\n",
       "      <td>2</td>\n",
       "      <td>[()]</td>\n",
       "      <td>replace</td>\n",
       "      <td>\"\"</td>\n",
       "    </tr>\n",
       "    <tr>\n",
       "      <th>5</th>\n",
       "      <td>Not covered by current patterns</td>\n",
       "      <td>6291</td>\n",
       "      <td>NaN</td>\n",
       "      <td>NaN</td>\n",
       "      <td>NaN</td>\n",
       "    </tr>\n",
       "  </tbody>\n",
       "</table>\n",
       "</div>"
      ],
      "text/plain": [
       "                       toe_pattern  observations          description  \\\n",
       "0                               01            39  .( {1,}-.|.- {1,}.)   \n",
       "1                               02           260   .( {,}\\w{,} {1,}).   \n",
       "2                               05             4             (\\?{1,})   \n",
       "3                               09             1                  a\\w   \n",
       "4                               13             2                 [()]   \n",
       "5  Not covered by current patterns          6291                  NaN   \n",
       "\n",
       "    action replacement  \n",
       "0  replace          \"\"  \n",
       "1  replace           -  \n",
       "2     save         NaN  \n",
       "3  replace          -a  \n",
       "4  replace          \"\"  \n",
       "5      NaN         NaN  "
      ]
     },
     "execution_count": 78,
     "metadata": {},
     "output_type": "execute_result"
    }
   ],
   "source": [
    "toe_errors_desc['action'] = toe_errors_desc.loc[toe_errors_desc.toe_pattern.str.len()==2].toe_pattern\\\n",
    ".map(lambda x: corrections_config[x]['action'],na_action='ignore')\n",
    "\n",
    "toe_errors_desc['replacement'] = toe_errors_desc.loc[toe_errors_desc.toe_pattern.str.len()==2].toe_pattern\\\n",
    ".map(lambda x: corrections_config[x]['replacement'],na_action='ignore')\n",
    "\n",
    "toe_errors_desc = toe_errors_desc.sort_values('toe_pattern').reset_index(drop=True)\n",
    "toe_errors_desc"
   ]
  },
  {
   "cell_type": "code",
   "execution_count": 79,
   "metadata": {},
   "outputs": [
    {
     "name": "stdout",
     "output_type": "stream",
     "text": [
      "Pattern .( {1,}-.|.- {1,}.) successfully replaced with \"\".\n",
      "Pattern .( {,}\\w{,} {1,}). successfully replaced with -.\n",
      "Pattern (\\?{1,}) successfully saved to pattern05.csv.\n",
      "No direction provided for pattern (\\?{1,}).  No action was taken.\n",
      "Pattern a\\w successfully replaced with -a.\n",
      "Pattern [()] successfully replaced with \"\".\n",
      "No direction provided for pattern nan.  No action was taken.\n"
     ]
    }
   ],
   "source": [
    "for i in range(0,toe_errors_desc.shape[0]):\n",
    "    tmp_pat_num = toe_errors_desc.iloc[i,0]\n",
    "    tmp_pattern = toe_errors_desc.iloc[i,2]\n",
    "    action = toe_errors_desc.iloc[i,3]\n",
    "    tmp_replacement = toe_errors_desc.iloc[i,4]\n",
    "    tmp_x = df.loc[df.toe_pattern==tmp_pat_num,:]\n",
    "    \n",
    "    if action =='save':\n",
    "        tmp_filename = 'pattern'+tmp_pat_num+'.csv'\n",
    "        tmp_x.to_csv(tmp_filename)\n",
    "        print(\"Pattern {} successfully saved to {}.\".format(tmp_pattern,tmp_filename))\n",
    "    if action =='replace':\n",
    "        df.loc[df.toe_pattern==tmp_pat_num,'toes'] = replace_pattern(x=df.loc[df.toe_pattern==tmp_pat_num]\n",
    "                                                                     ,pattern = tmp_pat_num\n",
    "                                                                     ,pattern_b = tmp_pattern\n",
    "                                                                     ,source_col = 'toes'\n",
    "                                                                    ,replacement = tmp_replacement)\n",
    "        print(\"Pattern {} successfully replaced with {}.\".format(tmp_pattern,tmp_replacement))\n",
    "    else:\n",
    "        print(\"No direction provided for pattern {}.  No action was taken.\".format(tmp_pattern))"
   ]
  },
  {
   "cell_type": "markdown",
   "metadata": {},
   "source": [
    "Now we confirm that the patterns we expect to have eliminated have indeed been eliminated from the data set"
   ]
  },
  {
   "cell_type": "code",
   "execution_count": 80,
   "metadata": {},
   "outputs": [
    {
     "name": "stdout",
     "output_type": "stream",
     "text": [
      "Post-Correction:\n",
      "toe pattern .( {1,}-.|.- {1,}.):0\n",
      "Post-Correction:\n",
      "toe pattern .( {,}\\w{,} {1,}).:0\n",
      "Post-Correction:\n",
      "toe pattern .(').:0\n",
      "Post-Correction:\n",
      "toe pattern ./.:0\n",
      "Post-Correction:\n",
      "toe pattern (\\?{1,}):4\n",
      "Post-Correction:\n",
      "toe pattern ^\\d{3,}$:0\n",
      "Post-Correction:\n",
      "toe pattern .(-{2,}).:0\n",
      "Post-Correction:\n",
      "toe pattern ^0:0\n",
      "Post-Correction:\n",
      "toe pattern a\\w:0\n",
      "Post-Correction:\n",
      "toe pattern b\\w:0\n",
      "Post-Correction:\n",
      "toe pattern \\wa:0\n",
      "Post-Correction:\n",
      "toe pattern \\wb:0\n",
      "Post-Correction:\n",
      "toe pattern [()]:0\n"
     ]
    }
   ],
   "source": [
    "for i in range(0,toe_pattern_reference.shape[0]):\n",
    "    tmp_pattern = str(toe_pattern_reference.iloc[i,1])\n",
    "    print(report_pattern(df,tmp_pattern,'toes','Post-Correction'))"
   ]
  },
  {
   "cell_type": "markdown",
   "metadata": {},
   "source": [
    "This is as expected since we left toe pattern 4 uncorrected."
   ]
  },
  {
   "cell_type": "markdown",
   "metadata": {},
   "source": [
    "<a id='sex'></a>"
   ]
  },
  {
   "cell_type": "markdown",
   "metadata": {},
   "source": [
    "### sex\n",
    "[Back to: Top](#TOC)\n",
    "\n",
    "[Back to: Cleaning](#CleaningData)\n",
    "\n",
    "[Back to: Column-by-Column Cleaning](#ColbyCol)\n",
    "\n",
    "Next we move on to cleaning the \"sex\" column."
   ]
  },
  {
   "cell_type": "markdown",
   "metadata": {},
   "source": [
    "First we want to get an idea of the types of problems in the sex column.  We start by striping leading and trailing whitespaces.  You can see here that there were none in the data set."
   ]
  },
  {
   "cell_type": "code",
   "execution_count": 81,
   "metadata": {},
   "outputs": [
    {
     "name": "stdout",
     "output_type": "stream",
     "text": [
      "[ 1. nan  2.  3.  5.  4.]\n",
      "[ 1. nan  2.  3.  0.  5.  4.]\n"
     ]
    }
   ],
   "source": [
    "print(df.sex.str.len().unique())# returns unique lengths of sex\n",
    "df.sex=df.sex.str.strip()\n",
    "print(df.sex.str.len().unique())"
   ]
  },
  {
   "cell_type": "markdown",
   "metadata": {},
   "source": [
    "#### Identify non \"m\" or \"f\" values and their frequencies"
   ]
  },
  {
   "cell_type": "code",
   "execution_count": 82,
   "metadata": {
    "scrolled": false
   },
   "outputs": [
    {
     "name": "stdout",
     "output_type": "stream",
     "text": [
      "\n",
      "There are 4027 entries for sex which do not match the patterns ['m', 'f', 'NA']:\n"
     ]
    },
    {
     "data": {
      "text/plain": [
       "juv      128\n",
       "F        112\n",
       "M         88\n",
       "?         17\n",
       "?f         6\n",
       "n          2\n",
       "???        2\n",
       "unm        1\n",
       "?m         1\n",
       "[m]        1\n",
       "adult      1\n",
       "           1\n",
       "Name: sex, dtype: int64"
      ]
     },
     "execution_count": 82,
     "metadata": {},
     "output_type": "execute_result"
    }
   ],
   "source": [
    "patterns_sex=\"m|f|NA\"\n",
    "non_matches=df.sex.loc[df.sex.str.match(patterns_sex)!=True]\n",
    "print(\"\\nThere are {} entries for sex which do not match the patterns {}:\"\\\n",
    "      .format(non_matches.shape[0],patterns_sex.split(\"|\")))\n",
    "non_matches.value_counts()"
   ]
  },
  {
   "cell_type": "markdown",
   "metadata": {},
   "source": [
    "#### Identify values to convert to NA, m, or f"
   ]
  },
  {
   "cell_type": "code",
   "execution_count": 83,
   "metadata": {},
   "outputs": [
    {
     "name": "stdout",
     "output_type": "stream",
     "text": [
      "There are 129 entries that should be converted to 'NaN'\n",
      "There are 89 entries that should be converted to 'm'\n",
      "There are 112 entries that should be converted to 'f'\n"
     ]
    }
   ],
   "source": [
    "sex2NA = ['adult','juv','nan','\\?\\?\\?','\\?']\n",
    "sex2m = ['unm','M']\n",
    "sex2f = ['F']\n",
    "df.loc[df.sex.isin(sex2NA)==True]\n",
    "print(\"There are {} entries that should be converted to 'NaN'\".format(df.sex.isin(sex2NA).sum()))\n",
    "print(\"There are {} entries that should be converted to 'm'\".format(df.sex.isin(sex2m).sum()))\n",
    "print(\"There are {} entries that should be converted to 'f'\".format(df.sex.isin(sex2f).sum()))"
   ]
  },
  {
   "cell_type": "markdown",
   "metadata": {},
   "source": [
    "#### Convert the values to NA, f, or m, respectively."
   ]
  },
  {
   "cell_type": "code",
   "execution_count": 84,
   "metadata": {},
   "outputs": [
    {
     "name": "stdout",
     "output_type": "stream",
     "text": [
      "Now there are 0 entries that should be converted to 'NaN'\n",
      "Now there are 0 entries that should be converted to 'm'\n",
      "Now there are 0 entries that should be converted to 'f'\n"
     ]
    }
   ],
   "source": [
    "df.loc[df.sex.isin(sex2NA),'sex']=np.nan\n",
    "df.loc[df.sex.isin(sex2m),'sex']='m'\n",
    "df.loc[df.sex.isin(sex2f),'sex']='f'\n",
    "print(\"Now there are {} entries that should be converted to 'NaN'\".format(df.sex.isin(sex2NA).sum()))\n",
    "print(\"Now there are {} entries that should be converted to 'm'\".format(df.sex.isin(sex2m).sum()))\n",
    "print(\"Now there are {} entries that should be converted to 'f'\".format(df.sex.isin(sex2f).sum()))"
   ]
  },
  {
   "cell_type": "markdown",
   "metadata": {},
   "source": [
    "#### Set all remaining sex with \"?\" to NaN"
   ]
  },
  {
   "cell_type": "code",
   "execution_count": 85,
   "metadata": {},
   "outputs": [],
   "source": [
    "df.loc[(df.sex.str.contains('\\?')) & (df.sex.notnull()),'sex'] = np.nan"
   ]
  },
  {
   "cell_type": "markdown",
   "metadata": {},
   "source": [
    "<a id = 'species'></a>\n",
    "\n",
    "### Species\n",
    "[Back to: Top](#TOC)\n",
    "\n",
    "[Back to: Cleaning](#CleaningData)\n",
    "\n",
    "[Back to: Column-by-Column Cleaning](#ColbyCol)"
   ]
  },
  {
   "cell_type": "code",
   "execution_count": 86,
   "metadata": {},
   "outputs": [
    {
     "name": "stdout",
     "output_type": "stream",
     "text": [
      "[ 2.  1.  3. nan  4. 30.  5.]\n",
      "[ 2.  1.  3. nan 30.  5.]\n"
     ]
    }
   ],
   "source": [
    "print(df.species.str.len().unique())# returns unique lengths of species\n",
    "df.species=df.species.str.strip()\n",
    "print(df.species.str.len().unique())"
   ]
  },
  {
   "cell_type": "code",
   "execution_count": 87,
   "metadata": {},
   "outputs": [
    {
     "data": {
      "text/plain": [
       "sj                                3286\n",
       "sv                                1161\n",
       "j                                  720\n",
       "Sj                                 446\n",
       "NaN                                252\n",
       "uo                                 226\n",
       "v                                  180\n",
       "Sv                                 164\n",
       "cn                                  59\n",
       "Uo                                  45\n",
       "sc                                  22\n",
       "Ae                                  11\n",
       "as                                   8\n",
       "?                                    3\n",
       "??                                   2\n",
       "cn ex                                2\n",
       "ek                                   2\n",
       "ce                                   1\n",
       "sj?                                  1\n",
       "Snake sighted at root crossing       1\n",
       "c                                    1\n",
       "up                                   1\n",
       "sc?                                  1\n",
       "cn2                                  1\n",
       "Cn                                   1\n",
       "Name: species, dtype: int64"
      ]
     },
     "execution_count": 87,
     "metadata": {},
     "output_type": "execute_result"
    }
   ],
   "source": [
    "df.species.value_counts(dropna = False)"
   ]
  },
  {
   "cell_type": "code",
   "execution_count": 88,
   "metadata": {},
   "outputs": [
    {
     "name": "stdout",
     "output_type": "stream",
     "text": [
      "\n",
      "There are 639 entries for species which do not match the patterns ['j', 'v', 'sj', 'sv', 'NA'] and are unlikely to be definitely 'sv', 'sj':\n"
     ]
    },
    {
     "data": {
      "text/plain": [
       "uo                                226\n",
       "cn                                 59\n",
       "Uo                                 45\n",
       "sc                                 22\n",
       "Ae                                 11\n",
       "as                                  8\n",
       "?                                   3\n",
       "??                                  2\n",
       "ek                                  2\n",
       "cn ex                               2\n",
       "cn2                                 1\n",
       "ce                                  1\n",
       "Cn                                  1\n",
       "up                                  1\n",
       "c                                   1\n",
       "sc?                                 1\n",
       "Snake sighted at root crossing      1\n",
       "Name: species, dtype: int64"
      ]
     },
     "execution_count": 88,
     "metadata": {},
     "output_type": "execute_result"
    }
   ],
   "source": [
    "patterns_species=\"j|v|sj|sv|NA\"\n",
    "idx_notsjsv = (df.species.str.match(patterns_species)!=True)&(df.species.str.contains('j|v',case=False)!=True)\n",
    "non_matches=df.species.loc[idx_notsjsv]\n",
    "print(\"\\nThere are {} entries for species which do not match the patterns {} and are unlikely to be definitely \\\n",
    "'sv', 'sj':\".format(non_matches.shape[0],patterns_species.split(\"|\")))\n",
    "non_matches.value_counts()"
   ]
  },
  {
   "cell_type": "markdown",
   "metadata": {},
   "source": [
    "We will set species for these entries to  'other'."
   ]
  },
  {
   "cell_type": "code",
   "execution_count": 89,
   "metadata": {},
   "outputs": [],
   "source": [
    "df.loc[df.species.isin(non_matches.unique()),'species'] = 'other'"
   ]
  },
  {
   "cell_type": "markdown",
   "metadata": {},
   "source": [
    "<a id ='outstanding4'></a>\n",
    "#### *Sceloporus jarrovii*\n",
    "[Back to Outstanding Problems](#outstanding)"
   ]
  },
  {
   "cell_type": "code",
   "execution_count": 90,
   "metadata": {},
   "outputs": [
    {
     "data": {
      "text/plain": [
       "sj     3286\n",
       "j       720\n",
       "Sj      446\n",
       "sj?       1\n",
       "Name: species, dtype: int64"
      ]
     },
     "execution_count": 90,
     "metadata": {},
     "output_type": "execute_result"
    }
   ],
   "source": [
    "df.loc[df.species.str.contains('j',case=False),'species'].value_counts(dropna=False)"
   ]
  },
  {
   "cell_type": "markdown",
   "metadata": {},
   "source": [
    "The values with '?' should be investigated."
   ]
  },
  {
   "cell_type": "code",
   "execution_count": 91,
   "metadata": {},
   "outputs": [
    {
     "data": {
      "text/html": [
       "<div>\n",
       "<style scoped>\n",
       "    .dataframe tbody tr th:only-of-type {\n",
       "        vertical-align: middle;\n",
       "    }\n",
       "\n",
       "    .dataframe tbody tr th {\n",
       "        vertical-align: top;\n",
       "    }\n",
       "\n",
       "    .dataframe thead th {\n",
       "        text-align: right;\n",
       "    }\n",
       "</style>\n",
       "<table border=\"1\" class=\"dataframe\">\n",
       "  <thead>\n",
       "    <tr style=\"text-align: right;\">\n",
       "      <th></th>\n",
       "      <th>species</th>\n",
       "      <th>toes_orig</th>\n",
       "      <th>sex</th>\n",
       "      <th>date</th>\n",
       "      <th>svl</th>\n",
       "      <th>tl</th>\n",
       "      <th>rtl</th>\n",
       "      <th>autotomized</th>\n",
       "      <th>mass</th>\n",
       "      <th>location</th>\n",
       "      <th>meters</th>\n",
       "      <th>new.recap</th>\n",
       "      <th>painted</th>\n",
       "      <th>sighting</th>\n",
       "      <th>paint.mark</th>\n",
       "      <th>vial</th>\n",
       "      <th>misc</th>\n",
       "      <th>rtl_orig</th>\n",
       "      <th>toes</th>\n",
       "      <th>toe_pattern</th>\n",
       "    </tr>\n",
       "  </thead>\n",
       "  <tbody>\n",
       "    <tr>\n",
       "      <th>4967</th>\n",
       "      <td>sj?</td>\n",
       "      <td>4-10-19</td>\n",
       "      <td>m</td>\n",
       "      <td>2005-07-11 00:00:00</td>\n",
       "      <td>54</td>\n",
       "      <td>61</td>\n",
       "      <td>23</td>\n",
       "      <td>True</td>\n",
       "      <td>6.8</td>\n",
       "      <td>sb</td>\n",
       "      <td>-45</td>\n",
       "      <td>recap</td>\n",
       "      <td>painted</td>\n",
       "      <td>NaN</td>\n",
       "      <td>w27a</td>\n",
       "      <td>NaN</td>\n",
       "      <td>paint almost gone --&gt; repainted</td>\n",
       "      <td>23</td>\n",
       "      <td>4-10-19</td>\n",
       "      <td>NaN</td>\n",
       "    </tr>\n",
       "  </tbody>\n",
       "</table>\n",
       "</div>"
      ],
      "text/plain": [
       "     species toes_orig sex                 date svl  tl rtl autotomized mass  \\\n",
       "4967     sj?   4-10-19   m  2005-07-11 00:00:00  54  61  23        True  6.8   \n",
       "\n",
       "     location meters new.recap  painted  sighting paint.mark vial  \\\n",
       "4967       sb    -45     recap  painted       NaN       w27a  NaN   \n",
       "\n",
       "                                 misc rtl_orig      toes toe_pattern  \n",
       "4967  paint almost gone --> repainted       23   4-10-19         NaN  "
      ]
     },
     "execution_count": 91,
     "metadata": {},
     "output_type": "execute_result"
    }
   ],
   "source": [
    "idx_sjrev = df.species.str.contains('j',case=False)&(df.species.str.contains('\\?'))\n",
    "df.loc[idx_sjrev,'species'].value_counts(dropna=False)\n",
    "df.loc[idx_sjrev,:]"
   ]
  },
  {
   "cell_type": "code",
   "execution_count": 92,
   "metadata": {},
   "outputs": [
    {
     "data": {
      "text/plain": [
       "sj    3286\n",
       "j      720\n",
       "Sj     446\n",
       "Name: species, dtype: int64"
      ]
     },
     "execution_count": 92,
     "metadata": {},
     "output_type": "execute_result"
    }
   ],
   "source": [
    "idx_sj = df.species.str.contains('j',case=False)&(~df.species.str.contains('\\?'))\n",
    "df.loc[idx_sj,'species'].value_counts(dropna=False)"
   ]
  },
  {
   "cell_type": "markdown",
   "metadata": {},
   "source": [
    "We will convert the others should be converted to 'j'."
   ]
  },
  {
   "cell_type": "code",
   "execution_count": 93,
   "metadata": {},
   "outputs": [],
   "source": [
    "df.loc[idx_sj,'species'] = 'j'"
   ]
  },
  {
   "cell_type": "markdown",
   "metadata": {},
   "source": [
    "#### *Sceloporus virgatus*"
   ]
  },
  {
   "cell_type": "code",
   "execution_count": 94,
   "metadata": {},
   "outputs": [
    {
     "data": {
      "text/plain": [
       "sv    1161\n",
       "v      180\n",
       "Sv     164\n",
       "Name: species, dtype: int64"
      ]
     },
     "execution_count": 94,
     "metadata": {},
     "output_type": "execute_result"
    }
   ],
   "source": [
    "idx_sv = df.species.str.contains('v',case=False)\n",
    "df.loc[idx_sv,'species'].value_counts(dropna=False)"
   ]
  },
  {
   "cell_type": "markdown",
   "metadata": {},
   "source": [
    "We will convert these to 'v'."
   ]
  },
  {
   "cell_type": "code",
   "execution_count": 95,
   "metadata": {},
   "outputs": [],
   "source": [
    "df.loc[idx_sv,'species'] = 'v'"
   ]
  },
  {
   "cell_type": "markdown",
   "metadata": {},
   "source": [
    "<a id = 'resumehere'></a>"
   ]
  },
  {
   "cell_type": "markdown",
   "metadata": {},
   "source": [
    "<a id='newrecap'></a>"
   ]
  },
  {
   "cell_type": "markdown",
   "metadata": {},
   "source": [
    "### new.recap\n",
    "[Back to: Top](#TOC)\n",
    "\n",
    "[Back to: Cleaning](#CleaningData)\n",
    "\n",
    "[Back to: Column-by-Column Cleaning](#ColByCol)"
   ]
  },
  {
   "cell_type": "code",
   "execution_count": 97,
   "metadata": {},
   "outputs": [
    {
     "data": {
      "text/plain": [
       "sighting                            2444\n",
       "NaN                                 1254\n",
       "NEW                                  587\n",
       "sighted                              185\n",
       "new                                  107\n",
       "N                                     71\n",
       "missed                                45\n",
       "recap?                                 9\n",
       "?                                      4\n",
       "new?                                   3\n",
       "???                                    2\n",
       "recap                                  2\n",
       "sighing                                1\n",
       "sighted                                1\n",
       "New                                    1\n",
       "collected                              1\n",
       "visual recapture                       1\n",
       "reecap                                 1\n",
       "not caught                             1\n",
       "?sighting                              1\n",
       "r?                                     1\n",
       "didn't catch                           1\n",
       "heard                                  1\n",
       "recap/new                              1\n",
       "recap? - toes suggest a NEW mark       1\n",
       "Dead                                   1\n",
       "recap ?                                1\n",
       "recapq                                 1\n",
       "Name: new.recap, dtype: int64"
      ]
     },
     "execution_count": 97,
     "metadata": {},
     "output_type": "execute_result"
    }
   ],
   "source": [
    "newRecapKeep = ['recap', 'new', 'r', 'n']\n",
    "df.loc[~df['new.recap'].isin(newRecapKeep),'new.recap'].value_counts(dropna=False)"
   ]
  },
  {
   "cell_type": "code",
   "execution_count": null,
   "metadata": {},
   "outputs": [],
   "source": [
    "#try using a dict to do thing more efficiently\n",
    "\n",
    "new = ['new','n']\n",
    "recap = ['recap','r']\n",
    "df.loc[~df['new.recap'].isin(newRecapKeep),'new.recap'] = np.nan\n",
    "df.loc[df['new.recap'].isin(new),'new.recap'] = 'new'\n",
    "df.loc[df['new.recap'].isin(recap),'new.recap'] = 'recap'"
   ]
  },
  {
   "cell_type": "markdown",
   "metadata": {},
   "source": [
    "<a id='CorrectingClass'></a>"
   ]
  },
  {
   "cell_type": "markdown",
   "metadata": {},
   "source": [
    "## Correcting class of columns\n",
    "[Top](#TOC)\n",
    "\n",
    "[Top Cleaning](#CleaningData)"
   ]
  },
  {
   "cell_type": "code",
   "execution_count": null,
   "metadata": {},
   "outputs": [],
   "source": [
    "#We need to add real error handling into these conversion chunks\n",
    "\n",
    "##Convert integer columns to int\n",
    "intCols = ['meters']\n",
    "df[intCols]=df[intCols].astype(int,errors='ignore')\n",
    "\n",
    "##Convert numeric columns to numeric\n",
    "numCols = ['svl','tl','rtl','mass']\n",
    "df[numCols]=df[numCols].apply(pd.to_numeric,errors='coerce')\n",
    "\n",
    "##Convert string columns to str\n",
    "strCols = ['toes','sex','species','vial']\n",
    "df[strCols]=df[strCols].astype(str, errors='ignore')\n",
    "\n",
    "#Convert date to datetime\n",
    "df.loc[df.date==\"NA\"]=np.nan\n",
    "df.date = pd.to_datetime(df.date,errors='coerce')\n",
    "\n",
    "##Convert bool columns to bool\n",
    "# boolCols = ['review_sex','review_species','review_painted','review_new.recap',\\\n",
    "#             'review_rtl','forceMale','forceFemale','forceRecap','forceNew',\\\n",
    "#             'forceSighting','drop_species','drop_morphometrics','autotomized']\n",
    "# df[boolCols]=df[boolCols].astype(bool, errors='ignore')"
   ]
  },
  {
   "cell_type": "code",
   "execution_count": null,
   "metadata": {
    "scrolled": true
   },
   "outputs": [],
   "source": [
    "print(\"\\nAfter applying the above changes, the data types are as follows:\\n{}\".format(df.dtypes))"
   ]
  },
  {
   "cell_type": "markdown",
   "metadata": {},
   "source": [
    "<a id='AddVar1'></a>"
   ]
  },
  {
   "cell_type": "markdown",
   "metadata": {},
   "source": [
    "## Adding variables [*year*](#year) and [*rtl_orig*](#rtlorig)"
   ]
  },
  {
   "cell_type": "markdown",
   "metadata": {},
   "source": [
    "<a id='year'></a>"
   ]
  },
  {
   "cell_type": "markdown",
   "metadata": {},
   "source": [
    "### Year\n",
    "[Back to: Top](#TOC)\n",
    "\n",
    "[Back to: Adding variables](#AddVar1)\n",
    "\n",
    "We will use data contained in the *date* column to create the variable *year*.  TO do this we will define a small function, *myint*, to convert year to an int type."
   ]
  },
  {
   "cell_type": "markdown",
   "metadata": {},
   "source": [
    "<a id='myint'></a>"
   ]
  },
  {
   "cell_type": "code",
   "execution_count": null,
   "metadata": {},
   "outputs": [],
   "source": [
    "def myint(x, verbose = False):\n",
    "    try:\n",
    "        x = str(x).split('.')[0]\n",
    "    except:\n",
    "        x = x\n",
    "        if verbose == True:\n",
    "            print('{} is of type {} and cannot be forced to int.'.format(x,type(x)))\n",
    "    return x\n"
   ]
  },
  {
   "cell_type": "markdown",
   "metadata": {},
   "source": [
    "Here is are a few examples of how [*myint*](#myint) works."
   ]
  },
  {
   "cell_type": "code",
   "execution_count": null,
   "metadata": {},
   "outputs": [],
   "source": [
    "bar = [None, 1.0, \"f\"]\n",
    "print([type(x) for x in bar])\n",
    "[myint(x) for x in bar]"
   ]
  },
  {
   "cell_type": "code",
   "execution_count": null,
   "metadata": {},
   "outputs": [],
   "source": [
    "bar = [None, 2001.0, \"2001.0\"]\n",
    "print([type(x) for x in bar])\n",
    "[myint(x,True) for x in bar]"
   ]
  },
  {
   "cell_type": "markdown",
   "metadata": {},
   "source": [
    "Now we apply [*myint*](#myint) to the 'date' column to create the variable year and inspect the unique values."
   ]
  },
  {
   "cell_type": "code",
   "execution_count": null,
   "metadata": {},
   "outputs": [],
   "source": [
    "df['year'] = df.date.dt.year.apply(myint,verbose=False)\n",
    "df.year.value_counts(dropna=False)"
   ]
  },
  {
   "cell_type": "markdown",
   "metadata": {},
   "source": [
    "Let's inspect the entries with 'nan' values.  Note these 'nan' values are string values and not NaN."
   ]
  },
  {
   "cell_type": "code",
   "execution_count": null,
   "metadata": {},
   "outputs": [],
   "source": [
    "df.loc[df.year=='nan',:]"
   ]
  },
  {
   "cell_type": "markdown",
   "metadata": {},
   "source": [
    "<a id='AddCol'></a>"
   ]
  },
  {
   "cell_type": "markdown",
   "metadata": {},
   "source": [
    "# Adding New Columns\n",
    "[Top](#TOC)\n",
    "\n",
    "We need to add new columns which we will use later in analyses:\n",
    "- [TL_SVL](#TlSvl)\n",
    "- [Mass_SVL](#MassSvl)\n",
    "- [Lizard Number](#LizardNumber)\n",
    "     - [assign lizard numbers](#Assign) \n",
    "     - [QC the lizard numbers](#QcLizNum) \n",
    "- [Days Since Capture](#daysSinceCapture)\n",
    "- [Number of Captures](#capture)"
   ]
  },
  {
   "cell_type": "markdown",
   "metadata": {},
   "source": [
    "<a id= 'TlSvl'></a>"
   ]
  },
  {
   "cell_type": "markdown",
   "metadata": {},
   "source": [
    "## TL_SVL \n",
    "[Top](#TOC)\n",
    "\n",
    "[Top Add Columns](#AddCol)\n",
    "\n"
   ]
  },
  {
   "cell_type": "code",
   "execution_count": null,
   "metadata": {},
   "outputs": [],
   "source": [
    "df['tl_svl']=(df.tl/df.svl)"
   ]
  },
  {
   "cell_type": "markdown",
   "metadata": {},
   "source": [
    "<a id='MassSvl'></a>"
   ]
  },
  {
   "cell_type": "markdown",
   "metadata": {},
   "source": [
    "## Mass_SVL\n",
    "[Top](#TOC)\n",
    "\n",
    "[Top Add Columns](#AddCol)\n",
    "\n"
   ]
  },
  {
   "cell_type": "code",
   "execution_count": null,
   "metadata": {},
   "outputs": [],
   "source": [
    "df['mass_svl']=(df.mass/df.svl)"
   ]
  },
  {
   "cell_type": "markdown",
   "metadata": {},
   "source": [
    "<a id= 'LizardNumber'></a>"
   ]
  },
  {
   "cell_type": "markdown",
   "metadata": {},
   "source": [
    "## Lizard Number\n",
    "[Top](#TOC)\n",
    "\n",
    "[Top Add Columns](#AddCol)\n",
    "\n",
    "Here we use a set of functions to:\n",
    " - [assign lizard numbers](#Assign) to unique individuals (we repeat this step to ensure we have assigned all animals a number) and \n",
    " - [QC the numbers](#QcLizNum) assigned."
   ]
  },
  {
   "cell_type": "markdown",
   "metadata": {},
   "source": [
    "<a id='Assign'></a>"
   ]
  },
  {
   "cell_type": "markdown",
   "metadata": {},
   "source": [
    "### Assign lizard numbers\n",
    "[Top](#TOC)\n",
    "\n",
    "[Top Add Columns](#AddCol)"
   ]
  },
  {
   "cell_type": "markdown",
   "metadata": {},
   "source": [
    "We make a first attempt at assigning lizard numbers.  We use the *lizsort* function to identify the subset of rows from the original dataset which have sufficient information to allow us to make an automated decision about the uniqueness of the individuals identified in those rows.  We name that df *sortable*.  The unsortable data are saved to a path as a file, *unsortable.csv*.  "
   ]
  },
  {
   "cell_type": "code",
   "execution_count": null,
   "metadata": {},
   "outputs": [],
   "source": [
    "sortable = lizsort(df, path = sourceDataBig)  "
   ]
  },
  {
   "cell_type": "markdown",
   "metadata": {},
   "source": [
    "Next we call the *mindate* function on *sortable*.  This identifies the earliest date at which each unique combination of *sortCriteria* are recorded in a new column, *initialCaptureDate*.  The default sortCriteria are of the variables *species*, *toes*, and *sex*.  This also calculates and adds a column for *year_diff*, the difference in years between the initial capture date and the date value in a given row. "
   ]
  },
  {
   "cell_type": "code",
   "execution_count": null,
   "metadata": {},
   "outputs": [],
   "source": [
    "sortable = mindate(sortable)"
   ]
  },
  {
   "cell_type": "markdown",
   "metadata": {},
   "source": [
    "Next we call a the function *smallest*, which is analogous to *mindate*, but groups data in *sortable* into unique combinations of *species*, *toes*, *sex*, and *initialCaptureDate* before assigning the smallest SVL value recorded for each group to a new column for that group, *smallest_svl*.  *smallest* then calculates a new column *svl_diff* which is analogous to *year_diff*."
   ]
  },
  {
   "cell_type": "code",
   "execution_count": null,
   "metadata": {},
   "outputs": [],
   "source": [
    "sortable = smallest(sortable)"
   ]
  },
  {
   "cell_type": "markdown",
   "metadata": {},
   "source": [
    "Next we call the *validate* function on *sortable*, which applies a series of validation tests to the data, sequentially numbers unique combinations of *sortCriteria* and returns a dict containing uniquely numbered individuals and summary data."
   ]
  },
  {
   "cell_type": "code",
   "execution_count": null,
   "metadata": {},
   "outputs": [],
   "source": [
    "tmp_sort = validate(sortable)\n",
    "df_numbered1 = tmp_sort['val_data']"
   ]
  },
  {
   "cell_type": "markdown",
   "metadata": {},
   "source": [
    "### Second attempt to assign lizard numbers\n",
    "\n",
    "[Top](#TOC)\n",
    "\n",
    "[Top Add Columns](#AddCol)\n",
    "\n",
    "Here we make a second attempt at assigning lizard numbers to ensure that all lizards have been assigned.  This second attempt is focused on those rows which were unvalidated during the first attempt *n_val_data*.  Since these are already a subset fo those data which were sortabel, we need only call the *mindate*, *smallest*, and *validate* functions."
   ]
  },
  {
   "cell_type": "code",
   "execution_count": null,
   "metadata": {},
   "outputs": [],
   "source": [
    "n_val = mindate(tmp_sort['n_val_data'])\n",
    "n_val = smallest(n_val)\n",
    "df_numbered2 = validate(n_val)['val_data']"
   ]
  },
  {
   "cell_type": "markdown",
   "metadata": {},
   "source": [
    "Since no rows remain unvalidated, we will not attempt a third validation.  We will simply append *df_numbered1* and *df_numbered2* to create *df_numbered* to create our full numbered dataset."
   ]
  },
  {
   "cell_type": "code",
   "execution_count": null,
   "metadata": {},
   "outputs": [],
   "source": [
    "df_numbered = df_numbered1.append(df_numbered2,ignore_index=True,sort=False)\n",
    "print(\"df:{}\\ndf_numbered1:{}\\ndf_numbered2:{}\\ndf_numbered:{}\".format(df.shape,df_numbered1.shape,df_numbered2.shape,\n",
    "                                                               df_numbered.shape))\n",
    "df_numbered.head()"
   ]
  },
  {
   "cell_type": "markdown",
   "metadata": {},
   "source": [
    "<a id='QcLizNum'></a>"
   ]
  },
  {
   "cell_type": "markdown",
   "metadata": {},
   "source": [
    "### QC of lizard numbers\n",
    "[Top](#TOC)\n",
    "\n",
    "[Top Add Columns](#AddCol)"
   ]
  },
  {
   "cell_type": "markdown",
   "metadata": {},
   "source": [
    "First we display the output data frame."
   ]
  },
  {
   "cell_type": "code",
   "execution_count": null,
   "metadata": {},
   "outputs": [],
   "source": [
    "df_numbered"
   ]
  },
  {
   "cell_type": "markdown",
   "metadata": {},
   "source": [
    "Identify individuals that have same species and toes, but different sex for review"
   ]
  },
  {
   "cell_type": "code",
   "execution_count": null,
   "metadata": {},
   "outputs": [],
   "source": [
    "df_numbered = df_numbered.merge(df_numbered.groupby(['species','toes']).sex.nunique().reset_index()\\\n",
    "                       .rename(columns = {'sex':'sex_count'}),how = 'inner', on = ['species','toes'])\n",
    "df_numbered.loc[df_numbered.sex_count>1,:].to_csv('entries flagged with same species and toes diff sex.csv')\n",
    "print(\"{} rows have the same species and toes but different values for sex\"\\\n",
    "      .format(df_numbered.loc[df_numbered.sex_count>1,:].shape[0]))\n",
    "df_numbered.head()"
   ]
  },
  {
   "cell_type": "code",
   "execution_count": null,
   "metadata": {},
   "outputs": [],
   "source": [
    "print(\"Lizard Numbers in the sample range from {} to {}.\"\\\n",
    "      .format(df_numbered.liznumber.min(),df_numbered.liznumber.max()))"
   ]
  },
  {
   "cell_type": "code",
   "execution_count": null,
   "metadata": {
    "scrolled": true
   },
   "outputs": [],
   "source": [
    "possibleLizNum = set(range(int(df_numbered.liznumber.min()),int(df_numbered.liznumber.max())))\n",
    "actualLizNum = set(pd.Series(df_numbered.liznumber.unique()).dropna().apply(int))\n",
    "print(\"\\nThere are {} entries.  There are {} unique lizard numbers.\\\n",
    "\\n\\nThe liznumber ranges from {} to {}.\"\\\n",
    "  .format(df_numbered.shape[0],len(df_numbered.liznumber.unique())\\\n",
    "          ,df_numbered.liznumber.min(),df_numbered.liznumber.max()))\n",
    "\n",
    "missingLizNum = possibleLizNum - actualLizNum\n",
    "if len(missingLizNum)>0:\n",
    "    print(\"\\n\\nThe following numbers are not assigned to a lizard:\\n{}\"\\\n",
    "      .format(missingLizNum))\n",
    "else:\n",
    "    print(\"\\n\\nThere are no numbers which were not assigned.\")"
   ]
  },
  {
   "cell_type": "markdown",
   "metadata": {},
   "source": [
    "<a id='daysSinceCapture'></a>"
   ]
  },
  {
   "cell_type": "markdown",
   "metadata": {},
   "source": [
    "### Days Since Capture\n",
    "[Top](#TOC)\n",
    "\n",
    "[Top Add Columns](#AddCol)\n",
    "\n",
    "*daysSinceCapture* identifies the number of days since the animal was captured"
   ]
  },
  {
   "cell_type": "markdown",
   "metadata": {},
   "source": [
    "<a id='capture'></a>"
   ]
  },
  {
   "cell_type": "code",
   "execution_count": null,
   "metadata": {},
   "outputs": [],
   "source": [
    "df_numbered.loc[:,'daysSinceCapture'] = (df_numbered.date - df_numbered.initialCaptureDate).dt.days"
   ]
  },
  {
   "cell_type": "markdown",
   "metadata": {},
   "source": [
    "### Capture Number\n",
    "[Top](#TOC)\n",
    "\n",
    "[Top Add Columns](#AddCol)\n",
    "\n",
    "*capture* identifies the number of times an animal has been captured prior to an entry.\n",
    "We will need to [QC capture](#QcCapture) as well."
   ]
  },
  {
   "cell_type": "code",
   "execution_count": null,
   "metadata": {},
   "outputs": [],
   "source": [
    "# need to QC this this seems to be leading to several cases in which recap individuals that \n",
    "# only have one capture\n",
    "df_numbered['capture'] = df_numbered.sort_values(['liznumber','date'])\\\n",
    ".groupby(['liznumber']).daysSinceCapture.cumcount()+1"
   ]
  },
  {
   "cell_type": "code",
   "execution_count": null,
   "metadata": {
    "scrolled": true
   },
   "outputs": [],
   "source": [
    "print(df_numbered.loc[df_numbered.species.isin(['j','v'])].groupby('capture').capture.count())"
   ]
  },
  {
   "cell_type": "markdown",
   "metadata": {},
   "source": [
    "<a id='yearstoolarge'></a>"
   ]
  },
  {
   "cell_type": "markdown",
   "metadata": {},
   "source": [
    "### years too large\n",
    "[Top](#TOC)"
   ]
  },
  {
   "cell_type": "code",
   "execution_count": null,
   "metadata": {
    "scrolled": true
   },
   "outputs": [],
   "source": [
    "yeartoomuch = df_numbered.loc[df_numbered.year_diff>=5,'liznumber']\n",
    "checkyears = df_numbered.loc[df_numbered.liznumber.isin(yeartoomuch)].sort_values(['liznumber'])\n",
    "checkyears.to_csv('check years.csv')\n",
    "checkyears"
   ]
  },
  {
   "cell_type": "code",
   "execution_count": null,
   "metadata": {},
   "outputs": [],
   "source": [
    "jarrovii = go.Histogram(x = df_numbered.loc[df_numbered.species.isin(['j'])].groupby('liznumber')\\\n",
    "                     .year_diff.max(),name = 'S. jarrovii')\n",
    "virgatus = go.Histogram(x = df_numbered.loc[df_numbered.species.isin(['v'])].groupby('liznumber')\\\n",
    "                     .year_diff.max(), name = 'S. virgatus')\n",
    "data = [jarrovii, virgatus]\n",
    "layout = go.Layout(\n",
    "    title = 'Number of Individuals by Years Between First and Last Capture 2000-2017',\n",
    "    titlefont = dict(\n",
    "        size = 20),\n",
    "    xaxis = dict(\n",
    "        dtick = 1,\n",
    "        title = 'Maximum Number of Years Since Initial Capture',\n",
    "        titlefont = dict(\n",
    "            size = 18)),\n",
    "    yaxis = dict(\n",
    "        title = 'Number of Lizards',\n",
    "        titlefont = dict(\n",
    "            size = 18))\n",
    ")\n",
    "fig = go.Figure(\n",
    "        data = data,\n",
    "        layout = layout)\n",
    "py.iplot(fig, filename = 'Frequency of Captures in Crystal Creek 2000 - 2017 (by species)')"
   ]
  },
  {
   "cell_type": "code",
   "execution_count": null,
   "metadata": {},
   "outputs": [],
   "source": [
    "# Freeze work on this figure until we've resolved issues with calculation based on year\n",
    "# ADD HORIZONTAL LINES FOR EACH YEAR\n",
    "j_lizards = go.Scatter(x = df_numbered.loc[df_numbered.species.isin(['j'])].liznumber,\n",
    "                   y = df_numbered.loc[df_numbered.species.isin(['j'])]\\\n",
    "                      .groupby('liznumber').daysSinceCapture.max(), \n",
    "                     mode = 'markers', name='S. jarrovii')\n",
    "v_lizards = go.Scatter(x = df_numbered.loc[df_numbered.species.isin(['v'])].liznumber,\n",
    "                   y = df_numbered.loc[df_numbered.species.isin(['v'])]\\\n",
    "                      .groupby('liznumber').daysSinceCapture.max(), \n",
    "                     mode = 'markers', name='S. virgatus')\n",
    "# year1 = go.Scatter(x=[df_numbered.liznumber.min(),df_numbered.liznumber.max()],y = (365))\n",
    "# year2 = go.Scatter(y = 365*2)\n",
    "# year3 = go.Scatter(y = 365*3)\n",
    "# year4 = go.Scatter(y = 365*4)\n",
    "# year5 = go.Scatter(y = 365*5)\n",
    "# year6 = go.Scatter(y = 365*6)\n",
    "# year7 = go.Scatter(y = 365*7)\n",
    "# year8 = go.Scatter(y = 365*8)\n",
    "\n",
    "# data = [j_lizards, v_lizards, year1, year2, year3, year4, year5, year6, year7, year8]\n",
    "data = [j_lizards, v_lizards]\n",
    "layout = go.Layout(\n",
    "    title = 'Days Since Initial Capture in Crystal Creek 2000 - 2017',\n",
    "        titlefont = dict(\n",
    "            size = 20),\n",
    "    xaxis = dict(\n",
    "            title='Lizard Number',\n",
    "            titlefont=dict(\n",
    "                size=18)),\n",
    "    yaxis = dict(\n",
    "            title='Greatest Number of Days Since<br> Initial Capture',\n",
    "            titlefont=dict(\n",
    "                size=18)))\n",
    "\n",
    "fig = go.Figure(data=data, layout=layout)\n",
    "py.iplot(fig, filename = 'Days Since Initial Capture in Crystal Creek 2000 - 2017')"
   ]
  },
  {
   "cell_type": "code",
   "execution_count": null,
   "metadata": {},
   "outputs": [],
   "source": [
    "dfF = df_numbered.loc[(df_numbered.sex =='f' )& (df_numbered.species.isin(['j','v']))]\n",
    "dfM = df_numbered.loc[(df_numbered.sex =='m') & (df_numbered.species.isin(['j','v']))]"
   ]
  },
  {
   "cell_type": "code",
   "execution_count": null,
   "metadata": {},
   "outputs": [],
   "source": [
    "# Freeze work on this figure until we've resolved issues with calculation based on year\n",
    "females = go.Scatter(\n",
    "    x = dfF.liznumber,\n",
    "    y = dfF.groupby('liznumber').daysSinceCapture.max(),\n",
    "    name = 'females',\n",
    "    mode = 'markers',\n",
    "    marker = dict(\n",
    "        color = 'rgba(152, 0, 0, .8)',\n",
    "        opacity = 0.75,\n",
    "        line = dict(\n",
    "            width = 2,\n",
    "            color = 'rgb(0, 0, 0)'\n",
    "        )\n",
    "    )\n",
    ")\n",
    "\n",
    "males = go.Scatter(\n",
    "    x = dfM.liznumber,\n",
    "    y = dfM.groupby('liznumber').daysSinceCapture.max(),\n",
    "    name = 'males',\n",
    "    mode = 'markers',\n",
    "    marker = dict(\n",
    "        color = 'rgba(255, 182, 193, .9)',\n",
    "        opacity = 0.75,\n",
    "        line = dict(\n",
    "            width = 2,\n",
    "        )\n",
    "    )\n",
    ")\n",
    "\n",
    "data = [females, males]\n",
    "\n",
    "layout = dict(title = 'Days Since Initial Capture in Crystal Creek 2000 - 2017 By Sex',\n",
    "              yaxis = dict(\n",
    "                  title='Greatest Number of Days Since<br> Initial Capture',\n",
    "                  titlefont=dict(\n",
    "                      size=18)\n",
    "              ),\n",
    "              xaxis = dict(zeroline = False)\n",
    "             )\n",
    "\n",
    "fig = dict(data=data, layout=layout)\n",
    "py.iplot(fig, filename='Days Since Initial Capture in Crystal Creek 2000 - 2017 By Sex')"
   ]
  },
  {
   "cell_type": "code",
   "execution_count": null,
   "metadata": {},
   "outputs": [],
   "source": [
    "# Something is wrong with 2006 and 2011 data.  Try grouping data by lizard numbers to address high numbers.\n",
    "# Freeze work on this figure until we've resolved issues with calculation based on year\n",
    "# Capture rate between Males and Females does not appear to be significantly different even before\n",
    "# statistical analysis\n",
    "males = go.Histogram(x = df_numbered.loc[(df_numbered.sex == 'm')& (df_numbered.species.isin(['j','v']))\n",
    "                                                                    ,'year']\n",
    "                     ,opacity= 0.75,name='males')\n",
    "females = go.Histogram(x = df_numbered.loc[(df_numbered.sex == 'f')& (df_numbered.species.isin(['j','v']))\n",
    "                                                                      ,'year']\n",
    "                       , opacity= 0.75, name = 'females')\n",
    "data = [males,females]\n",
    "py.iplot(data, filename = 'Distribution of Sex by Year in Crystal Creek 2000 - 2017')"
   ]
  },
  {
   "cell_type": "code",
   "execution_count": null,
   "metadata": {},
   "outputs": [],
   "source": [
    "df_numbered.head()"
   ]
  },
  {
   "cell_type": "code",
   "execution_count": null,
   "metadata": {},
   "outputs": [],
   "source": [
    "column_order = ['liznumber','date','initialCaptureDate',]"
   ]
  },
  {
   "cell_type": "code",
   "execution_count": null,
   "metadata": {},
   "outputs": [],
   "source": [
    "df.year.value_counts(dropna=False).reset_index()"
   ]
  },
  {
   "cell_type": "markdown",
   "metadata": {},
   "source": [
    "<a id='QcCapture'></a>"
   ]
  },
  {
   "cell_type": "markdown",
   "metadata": {},
   "source": [
    "### QC of Capture number and Recap status\n",
    "[Top](#TOC)\n",
    "\n",
    "[Top Add Columns](#AddCol)\n",
    "\n",
    "[Top Capture Number](#capture)"
   ]
  },
  {
   "cell_type": "code",
   "execution_count": null,
   "metadata": {},
   "outputs": [],
   "source": [
    "recapQuestion=df_numbered\\\n",
    ".loc[(df_numbered.capture==1 )&(df_numbered['new.recap']=='recap')&(df_numbered.species.isin(['j','v'])),:]\n",
    "print(\"There are {} instances in rows for which a lizard appears to have only one capture, \\\n",
    "but is listed as a recap.\\\n",
    "The distribution of these across years in the sample is as follows:\\n{}.\"\\\n",
    "      .format(recapQuestion.shape[0],recapQuestion.year.value_counts()))\n",
    "recapQuestion.to_csv(\"Questionable recaptures.csv\")#These individuals need to be rechecked in the raw notes\n",
    "recapQuestion.head()"
   ]
  },
  {
   "cell_type": "code",
   "execution_count": null,
   "metadata": {},
   "outputs": [],
   "source": [
    "recapQuestion.loc[recapQuestion.svl<54,:]"
   ]
  },
  {
   "cell_type": "markdown",
   "metadata": {},
   "source": [
    "<a id='exportFinal'></a>"
   ]
  },
  {
   "cell_type": "markdown",
   "metadata": {},
   "source": [
    "# Export Cleaned data\n",
    "[Top](#TOC)\n",
    "\n",
    "Now we export the cleaned data to a csv."
   ]
  },
  {
   "cell_type": "code",
   "execution_count": null,
   "metadata": {},
   "outputs": [],
   "source": [
    "df_numbered = df_numbered.rename(index = str, columns = {'new.recap':'newRecap'})\n",
    "qc_drop_cols = df_numbered.columns[df_numbered.columns.str.contains('force|drop')]\n",
    "df_full = df_numbered.drop(qc_drop_cols,1)"
   ]
  },
  {
   "cell_type": "code",
   "execution_count": null,
   "metadata": {
    "scrolled": true
   },
   "outputs": [],
   "source": [
    "timestamp = (pd.to_datetime('now')-pd.Timedelta(hours=4))\n",
    "timestamp = str(timestamp)[:-10].replace(':','hrs')+'min'\n",
    "#path=''C:\\\\Users\\\\Christopher\\\\Google Drive\\\\TailDemography\\\\outputFiles\\\\''\n",
    "# path=outputBig\n",
    "filename = 'cleaned CC data 2000-2017_' + timestamp+ '.csv'\n",
    "# filename = path + '/cleaned CC data 2000-2017' + '.csv'\n",
    "df_full.to_csv(filename,index = False)\n",
    "filename"
   ]
  },
  {
   "cell_type": "code",
   "execution_count": null,
   "metadata": {},
   "outputs": [],
   "source": []
  }
 ],
 "metadata": {
  "kernelspec": {
   "display_name": "Python 3",
   "language": "python",
   "name": "python3"
  },
  "language_info": {
   "codemirror_mode": {
    "name": "ipython",
    "version": 3
   },
   "file_extension": ".py",
   "mimetype": "text/x-python",
   "name": "python",
   "nbconvert_exporter": "python",
   "pygments_lexer": "ipython3",
   "version": "3.6.5"
  }
 },
 "nbformat": 4,
 "nbformat_minor": 2
}
