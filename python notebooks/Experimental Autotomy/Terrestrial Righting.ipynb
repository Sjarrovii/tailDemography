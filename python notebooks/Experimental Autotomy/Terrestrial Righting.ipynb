{
 "cells": [
  {
   "cell_type": "markdown",
   "metadata": {},
   "source": [
    "# Terrestrial Righting\n",
    "\n",
    "### Christopher Agard, George Middendorf"
   ]
  },
  {
   "cell_type": "markdown",
   "metadata": {},
   "source": [
    "# Table of Contents\n",
    "\n",
    "- [Introduction](#Introduction)\n",
    "- [Set Up Python](#Set-Up-Python)\n",
    "- [Get Data](#Get-Data)\n",
    "- [Clean Data](#Clean-Data)\n",
    "- [Analyses](#Analyses)"
   ]
  },
  {
   "cell_type": "markdown",
   "metadata": {},
   "source": [
    "## Introduction\n",
    "\n",
    "The goal of this paper is to analyze terrestrial righting speed in _Sceloporus jarrovii_ and _S. virgatus_.\n",
    "\n",
    "### Plan\n",
    "    - Get raw data from each year:\n",
    "        - 2007\n",
    "        - 2008\n",
    "        - 2010\n",
    "        - 2011\n",
    "        - 2012?\n",
    "        - 2015\n",
    "        - 2016\n",
    "    - Combine and clean data\n",
    "    - Analyze data\n",
    "        \n",
    "[Table of Contents](#Table-of-Contents)"
   ]
  },
  {
   "cell_type": "markdown",
   "metadata": {},
   "source": [
    "## Set Up Python\n",
    "[Table of Contents](#Table-of-Contents)"
   ]
  },
  {
   "cell_type": "code",
   "execution_count": 1,
   "metadata": {},
   "outputs": [],
   "source": [
    "import pandas as pd\n",
    "import numpy as np\n",
    "import scipy.stats as ss\n",
    "import os, glob"
   ]
  },
  {
   "cell_type": "code",
   "execution_count": 2,
   "metadata": {},
   "outputs": [],
   "source": [
    "pd.options.display.max_columns = 50"
   ]
  },
  {
   "cell_type": "markdown",
   "metadata": {},
   "source": [
    "## Get Data\n",
    "[Table of Contents](#Table-of-Contents)"
   ]
  },
  {
   "cell_type": "code",
   "execution_count": 3,
   "metadata": {},
   "outputs": [],
   "source": [
    "# setting locations\n",
    "gandolf = {'dropboxsource':'C:/Users/craga/Dropbox/Papers/Righting Paper/Righting data from drive/',\n",
    "          'googledrivesource':None}\n",
    "\n",
    "source = gandolf"
   ]
  },
  {
   "cell_type": "code",
   "execution_count": 4,
   "metadata": {},
   "outputs": [
    {
     "data": {
      "text/plain": [
       "['C:/Users/craga/Dropbox/Papers/Righting Paper/Righting data from drive\\\\Combined Righting (2008-2011)(d).dta',\n",
       " 'C:/Users/craga/Dropbox/Papers/Righting Paper/Righting data from drive\\\\Combined Righting (2008-2011).dta',\n",
       " 'C:/Users/craga/Dropbox/Papers/Righting Paper/Righting data from drive\\\\Terrestrial Righting Analyses Revisited with combined data including 2012.dta',\n",
       " 'C:/Users/craga/Dropbox/Papers/Righting Paper/Righting data from drive\\\\Terrestrial Righting combined.dta']"
      ]
     },
     "execution_count": 4,
     "metadata": {},
     "output_type": "execute_result"
    }
   ],
   "source": [
    "files = glob.glob(source['dropboxsource']+'*dta')\n",
    "files"
   ]
  },
  {
   "cell_type": "code",
   "execution_count": 7,
   "metadata": {},
   "outputs": [],
   "source": [
    "df07_12 = pd.read_stata('C:/Users/craga/Dropbox/Papers/Righting Paper/Righting data from drive//Terrestrial Righting combined.dta')\n",
    "df2015 = []\n",
    "df2016 = pd.read_excel('C:/Users/craga/Dropbox/AZ 2016 Agard/Schedule, Lizard Tracking, and Data capture sheet.xlsx',sheet_name='Lizard Data')"
   ]
  },
  {
   "cell_type": "markdown",
   "metadata": {},
   "source": [
    "## Clean Data\n",
    "[Table of Contents](#Table-of-Contents)"
   ]
  },
  {
   "cell_type": "code",
   "execution_count": null,
   "metadata": {},
   "outputs": [],
   "source": []
  },
  {
   "cell_type": "markdown",
   "metadata": {},
   "source": [
    "## Analyses\n",
    "[Table of Contents](#Table-of-Contents)"
   ]
  },
  {
   "cell_type": "code",
   "execution_count": null,
   "metadata": {},
   "outputs": [],
   "source": []
  }
 ],
 "metadata": {
  "kernelspec": {
   "display_name": "Python 3",
   "language": "python",
   "name": "python3"
  },
  "language_info": {
   "codemirror_mode": {
    "name": "ipython",
    "version": 3
   },
   "file_extension": ".py",
   "mimetype": "text/x-python",
   "name": "python",
   "nbconvert_exporter": "python",
   "pygments_lexer": "ipython3",
   "version": "3.7.3"
  }
 },
 "nbformat": 4,
 "nbformat_minor": 2
}
