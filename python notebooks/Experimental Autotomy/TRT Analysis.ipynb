{
 "cells": [
  {
   "cell_type": "markdown",
   "metadata": {},
   "source": [
    "# Table of Contents\n",
    "1. [Introduction](#Introduction)\n",
    "2. [Setting Up Environment](#Setting-Up-Environment)\n",
    "2. [Functions](#Functions)\n",
    "3. [Getting Data](#Getting-Data)\n",
    "3. [Descriptive Analysis](#Descriptive-Analysis)\n",
    "    1. [Independent Variables](#Independent-Variables)\n",
    "    2. [Dependent Variables](#Dependent-Variables)\n",
    "4. [Inferential Analysis](#Inferential-Analysis)\n",
    "    1. [_Sceloporus jarrovii_](#Sceloporus-jarrovii)\n",
    "    1. [_Sceloporus virgatus_](#Sceloporus-virgatus)\n",
    "5. [Conclusions](#Conclusions)\n",
    "6. [Discussion](#Discussion)"
   ]
  },
  {
   "cell_type": "markdown",
   "metadata": {},
   "source": [
    "## Introduction \n",
    "\n",
    "[Back to TOC](#Table-of-Contents)"
   ]
  },
  {
   "cell_type": "markdown",
   "metadata": {},
   "source": [
    "## Setting Up Environment\n",
    "\n",
    "[Back to TOC](#Table-of-Contents)"
   ]
  },
  {
   "cell_type": "code",
   "execution_count": 2,
   "metadata": {},
   "outputs": [
    {
     "data": {
      "text/html": [
       "        <script type=\"text/javascript\">\n",
       "        window.PlotlyConfig = {MathJaxConfig: 'local'};\n",
       "        if (window.MathJax) {MathJax.Hub.Config({SVG: {font: \"STIX-Web\"}});}\n",
       "        if (typeof require !== 'undefined') {\n",
       "        require.undef(\"plotly\");\n",
       "        requirejs.config({\n",
       "            paths: {\n",
       "                'plotly': ['https://cdn.plot.ly/plotly-latest.min']\n",
       "            }\n",
       "        });\n",
       "        require(['plotly'], function(Plotly) {\n",
       "            window._Plotly = Plotly;\n",
       "        });\n",
       "        }\n",
       "        </script>\n",
       "        "
      ]
     },
     "metadata": {},
     "output_type": "display_data"
    }
   ],
   "source": [
    "import pandas as pd\n",
    "import numpy as np\n",
    "import scipy.stats as ss\n",
    "import pingouin as pg\n",
    "import os, glob, logging\n",
    "from summary_functions import *\n",
    "import plotly\n",
    "import chart_studio.plotly as py\n",
    "import plotly.figure_factory as ff\n",
    "import plotly.graph_objs as go\n",
    "from plotly.offline import download_plotlyjs, init_notebook_mode, plot, iplot\n",
    "\n",
    "init_notebook_mode(connected=True)\n",
    "pd.options.display.max_columns = 50\n",
    "pd.options.display.max_columns = 100\n",
    "pd.options.display.max_colwidth = 1500\n"
   ]
  },
  {
   "cell_type": "markdown",
   "metadata": {},
   "source": [
    "# Functions\n",
    "\n",
    "[Back to TOC](#Table-of-Contents)"
   ]
  },
  {
   "cell_type": "code",
   "execution_count": 3,
   "metadata": {},
   "outputs": [],
   "source": [
    "def report(row, threshcol,threshold = 0.05):\n",
    "    if row[threshcol]<=threshold:\n",
    "        res = print(\"{} and {} are significantly different (diff = {}) with an effect size of {} (effect type {})\"\\\n",
    "       .format(row['A'], row['B'],row['diff'],row['efsize'],row['eftype']))\n",
    "    else:\n",
    "        res=\"{} and {} are not significantly different (p = {}).\".format(row['A'],row['B'],row[threshcol])\n",
    "    return res\n"
   ]
  },
  {
   "cell_type": "markdown",
   "metadata": {},
   "source": [
    "# Getting Data\n",
    "[Back to TOC](#Table-of-Contents)"
   ]
  },
  {
   "cell_type": "code",
   "execution_count": 4,
   "metadata": {},
   "outputs": [],
   "source": [
    "df = pd.read_csv('TRT 2008-2016 analysis.csv')"
   ]
  },
  {
   "cell_type": "code",
   "execution_count": 5,
   "metadata": {},
   "outputs": [
    {
     "name": "stdout",
     "output_type": "stream",
     "text": [
      "There are 144 rows in the file and 15 columns.\n",
      "['year', 'Treatment', 'paintmark', 'TRTmin', 'Species', 'sex', 'SVL', 'TL', 'RTL', 'RemTL', 'RemMass', 'propRemTL', 'Treatment2', 'Treatment3', 'TRTminLog']\n"
     ]
    }
   ],
   "source": [
    "print('There are {} rows in the file and {} columns.\\n{}'.format(df.shape[0],df.shape[1],[col for col in df.columns]))"
   ]
  },
  {
   "cell_type": "markdown",
   "metadata": {},
   "source": [
    "## Descriptive Analysis \n",
    "1. [Independent Variables](#Independent-Variables)\n",
    "2. [Dependent Variables](#Dependent-Variables)\n",
    "\n",
    "[Back to TOC](#Table-of-Contents)"
   ]
  },
  {
   "cell_type": "markdown",
   "metadata": {},
   "source": [
    "### Independent Variables \n",
    "\n",
    "The independent variables include 'year', 'Treatment', 'paintmark', 'Species', 'sex', 'SVL', 'TL', 'RTL', 'RemTL', 'RemMass', 'propRemTL', and 'Treatment2'.\n",
    "\n",
    "[Back to Descriptive Analysis](#Descriptive-Analysis); [Back to TOC](#Table-of-Contents)"
   ]
  },
  {
   "cell_type": "code",
   "execution_count": 6,
   "metadata": {},
   "outputs": [
    {
     "data": {
      "text/plain": [
       "Species  Treatment2\n",
       "sj       25%           29\n",
       "         50%           10\n",
       "         75%           13\n",
       "         Intact        23\n",
       "sv       25%           26\n",
       "         50%           15\n",
       "         75%           14\n",
       "         Intact        14\n",
       "Name: TRTmin, dtype: int64"
      ]
     },
     "execution_count": 6,
     "metadata": {},
     "output_type": "execute_result"
    }
   ],
   "source": [
    "df.groupby(['Species','Treatment2']).TRTmin.count()"
   ]
  },
  {
   "cell_type": "code",
   "execution_count": 7,
   "metadata": {},
   "outputs": [
    {
     "data": {
      "text/plain": [
       "Species  Treatment3\n",
       "sj       25%           29\n",
       "         >=50%         23\n",
       "         Intact        23\n",
       "sv       25%           26\n",
       "         >=50%         29\n",
       "         Intact        14\n",
       "Name: TRTmin, dtype: int64"
      ]
     },
     "execution_count": 7,
     "metadata": {},
     "output_type": "execute_result"
    }
   ],
   "source": [
    "df.groupby(['Species','Treatment3']).TRTmin.count()"
   ]
  },
  {
   "cell_type": "markdown",
   "metadata": {},
   "source": [
    "We will use Treatment3 as our indipendent variable."
   ]
  },
  {
   "cell_type": "code",
   "execution_count": 8,
   "metadata": {
    "scrolled": true
   },
   "outputs": [
    {
     "name": "stdout",
     "output_type": "stream",
     "text": [
      "\n",
      "\n",
      "Report for 'year':\n",
      "DESCRIBE: \n",
      "            n  minimum  maximum  median  siqr         mean     stdev\n",
      "Species                                                             \n",
      "sj      0  75     2007     2016  2011.0   4.5  2011.440000  4.156532\n",
      "sv      0  69     2008     2016  2012.0   1.5  2012.753623  2.068004\n",
      "REVIEW: \n",
      "Species\n",
      "sj                (Unique types include the following: {<class 'int'>}, Unique values include:{2016, 2015, 2011, 2007}, OK)\n",
      "sv    (Unique types include the following: {<class 'int'>}, Unique values include:{2016, 2008, 2010, 2011, 2012, 2015}, OK)\n",
      "Name: year, dtype: object \n",
      "\n",
      "\n",
      "Report for 'SVL':\n",
      "DESCRIBE: \n",
      "            n  minimum  maximum  median  siqr       mean     stdev\n",
      "Species                                                           \n",
      "sj      0  75     56.0     92.0    76.0  7.25  75.306667  9.122253\n",
      "sv      0  69     40.0     66.0    53.0  3.00  53.550725  5.454454\n",
      "REVIEW: \n",
      "Species\n",
      "sj    (Unique types include the following: {<class 'float'>}, Unique values include:{56.0, 60.0, 61.0, 62.0, 63.0, 65.0, 66.0, 67.0, 68.0, 69.0, 70.0, 71.0, 72.0, 73.0, 74.0, 75.0, 76.0, 77.0, 78.0, 79.0, 80.0, 81.0, 82.0, 83.0, 84.0, 85.0, 86.0, 88.0, 89.0, 90.0, 91.0, 92.0}, OK)\n",
      "sv                                                                (Unique types include the following: {<class 'float'>}, Unique values include:{40.0, 44.0, 46.0, 47.0, 48.0, 49.0, 50.0, 51.0, 52.0, 53.0, 54.0, 55.0, 56.0, 57.0, 58.0, 59.0, 60.0, 61.0, 62.0, 64.0, 65.0, 66.0}, OK)\n",
      "Name: SVL, dtype: object \n",
      "\n",
      "\n",
      "Report for 'TL':\n",
      "DESCRIBE: \n",
      "            n  minimum  maximum  median  siqr       mean      stdev\n",
      "Species                                                            \n",
      "sj      0  75      6.0    129.0    98.0  8.75  96.600000  19.435966\n",
      "sv      0  69     50.0     82.0    68.0  4.50  68.028986   6.363894\n",
      "REVIEW: \n",
      "Species\n",
      "sj    (Unique types include the following: {<class 'float'>}, Unique values include:{128.0, 129.0, 6.0, 40.0, 62.0, 65.0, 67.0, 72.0, 76.0, 80.0, 81.0, 83.0, 86.0, 88.0, 89.0, 90.0, 91.0, 92.0, 93.0, 94.0, 95.0, 96.0, 98.0, 99.0, 100.0, 101.0, 102.0, 103.0, 104.0, 105.0, 106.0, 107.0, 108.0, 109.0, 110.0, 111.0, 112.0, 114.0, 116.0, 118.0, 120.0, 122.0, 123.0, 124.0, 126.0}, OK)\n",
      "sv                                                                                                                                                              (Unique types include the following: {<class 'float'>}, Unique values include:{50.0, 52.0, 60.0, 61.0, 62.0, 63.0, 64.0, 65.0, 66.0, 67.0, 68.0, 69.0, 70.0, 71.0, 72.0, 73.0, 74.0, 75.0, 76.0, 77.0, 78.0, 80.0, 82.0}, OK)\n",
      "Name: TL, dtype: object \n",
      "\n",
      "\n",
      "Report for 'RTL':\n",
      "DESCRIBE: \n",
      "            n  minimum  maximum  median  siqr      mean     stdev\n",
      "Species                                                          \n",
      "sj      0  75        0       49     0.0   0.0  5.266667  13.51309\n",
      "sv      0  69        0        0     0.0   0.0  0.000000   0.00000\n",
      "REVIEW: \n",
      "Species\n",
      "sj    (Unique types include the following: {<class 'int'>}, Unique values include:{0, 34, 4, 40, 42, 10, 46, 47, 49, 23, 25, 26}, OK)\n",
      "sv                                               (Unique types include the following: {<class 'int'>}, Unique values include:{0}, OK)\n",
      "Name: RTL, dtype: object \n",
      "\n",
      "\n",
      "Report for 'RemTL':\n",
      "DESCRIBE: \n",
      "            n  minimum  maximum  median  siqr       mean      stdev\n",
      "Species                                                            \n",
      "sj      0  75      0.0    100.0    26.0  27.5  30.886667  28.584225\n",
      "sv      0  69      0.0     63.0    20.0  11.5  26.057971  19.203924\n",
      "REVIEW: \n",
      "Species\n",
      "sj    (Unique types include the following: {<class 'float'>}, Unique values include:{0.0, 18.0, 20.0, 21.0, 22.0, 23.0, 24.0, 25.0, 26.0, 27.0, 28.0, 29.0, 31.0, 34.0, 47.5, 50.0, 54.0, 56.0, 57.0, 60.0, 63.0, 65.0, 68.0, 71.0, 72.0, 73.0, 77.0, 78.0, 80.0, 82.0, 83.0, 88.0, 100.0}, OK)\n",
      "sv                                   (Unique types include the following: {<class 'float'>}, Unique values include:{0.0, 14.0, 16.0, 17.0, 18.0, 19.0, 20.0, 22.0, 32.0, 33.0, 34.0, 35.0, 38.0, 39.0, 40.0, 41.0, 42.0, 44.0, 48.0, 51.0, 52.0, 54.0, 56.0, 57.0, 59.0, 60.0, 61.0, 63.0}, OK)\n",
      "Name: RemTL, dtype: object \n",
      "\n",
      "\n",
      "Report for 'RemMass':\n",
      "DESCRIBE: \n",
      "            n  minimum  maximum  median  siqr      mean     stdev\n",
      "Species                                                          \n",
      "sj      0  67      0.0     19.0  0.0346   NaN  2.188001  4.915594\n",
      "sv      0  57      0.0      7.8  0.0396   NaN  0.793930  1.909064\n",
      "REVIEW: \n",
      "Species\n",
      "sj                                      (Unique types include the following: {<class 'float'>}, Unique values include:{0.0, nan, 0.174, 0.369, 0.184, nan, nan, nan, 0.35200000000000004, 0.38, 0.5915, nan, nan, nan, 10.3, 13.0, 14.4, 8.8, 14.5, 19.0, 17.3, 15.0, 0.051, nan, 0.0223, 1.25, 0.049, 0.254, 9.2, 0.038, 0.04, 11.5, 0.4043, 0.171, 0.037000000000000005, 0.03, 0.035, 0.099, 1.165, 0.0346, 0.025, 0.02, 0.021, 6.2, 0.016, 0.512, 0.013999999999999999, 0.017, 0.513, 0.0352, 0.008, 0.4542}, OK)\n",
      "sv    (Unique types include the following: {<class 'float'>}, Unique values include:{0.0, 0.0675, nan, nan, 0.0665, nan, 0.1864, 0.2383, 0.1084, 0.1688, nan, nan, 5.5, 4.0, nan, 7.8, 6.0, nan, nan, nan, nan, 0.0072, nan, nan, 0.05, 3.1, 0.038, 0.0098, 0.032, 0.0431, 0.2221, 0.1667, 0.1419, 0.08199999999999999, 0.1273, 0.1847, 0.1202, 0.1756, 0.031, 0.0396, 4.8, 5.8, 0.1789, 0.0543, 0.0432, 0.033, 0.0125, 0.01, 0.0095, 0.011000000000000001, 0.0574, 0.008, 0.009000000000000001, 0.005, 0.0151}, OK)\n",
      "Name: RemMass, dtype: object \n",
      "\n",
      "\n",
      "Report for 'propRemTL':\n",
      "DESCRIBE: \n",
      "            n  minimum   maximum    median      siqr      mean     stdev\n",
      "Species                                                                 \n",
      "sj      0  75      0.0  0.803922  0.262712  0.250000  0.304651  0.272544\n",
      "sv      0  69      0.0  0.857143  0.293333  0.152778  0.378834  0.271710\n",
      "REVIEW: \n",
      "Species\n",
      "sj                                                                                 (Unique types include the following: {<class 'float'>}, Unique values include:{0.0, 0.5, 0.5102040816326531, 0.5084745762711864, 0.5181818181818182, 0.5483870967741935, 0.2621359223300971, 0.26744186046511625, 0.8039215686274509, 0.7857142857142857, 0.25, 0.2826086956521739, 0.7659574468085106, 0.27956989247311825, 0.7623762376237624, 0.2962962962962963, 0.7751937984496124, 0.2530120481927711, 0.25842696629213485, 0.2641509433962264, 0.27884615384615385, 0.2568807339449541, 0.28, 0.7878787878787878, 0.29473684210526313, 0.2307692307692308, 0.2456140350877193, 0.7831325301204819, 0.2637362637362637, 0.2777777777777778, 0.25263157894736843, 0.2727272727272727, 0.2627118644067797, 0.7830188679245284, 0.2432432432432433, 0.2786885245901639, 0.25925925925925924, 0.7634408602150538, 0.7849462365591398, 0.2429906542056075, 0.7586206896551724, 0.7476635514018691}, OK)\n",
      "sv    (Unique types include the following: {<class 'float'>}, Unique values include:{0.0, 0.52, 0.5333333333333333, 0.5238095238095238, 0.6212121212121212, 0.5365853658536586, 0.5256410256410257, 0.5, 0.5671641791044776, 0.5555555555555556, 0.265625, 0.75, 0.7702702702702703, 0.29508196721311475, 0.25, 0.53125, 0.7826086956521741, 0.7536231884057971, 0.2933333333333333, 0.2835820895522388, 0.30303030303030304, 0.7875, 0.7662337662337663, 0.5072463768115942, 0.2898550724637681, 0.26865671641791045, 0.7567567567567568, 0.28, 0.2537313432835821, 0.2352941176470588, 0.2571428571428571, 0.7868852459016393, 0.7820512820512819, 0.24285714285714285, 0.2647058823529412, 0.2463768115942029, 0.26666666666666666, 0.532258064516129, 0.7763157894736842, 0.7846153846153846, 0.29411764705882354, 0.2727272727272727, 0.8076923076923077, 0.2535211267605634, 0.2533333333333333, 0.8571428571428571, 0.5245901639344263, 0.8115942028985508, 0.4444444444444444}, OK)\n",
      "Name: propRemTL, dtype: object \n"
     ]
    },
    {
     "name": "stderr",
     "output_type": "stream",
     "text": [
      "C:\\Users\\craga\\Anaconda3\\lib\\site-packages\\numpy\\lib\\function_base.py:3826: RuntimeWarning:\n",
      "\n",
      "Invalid value encountered in percentile\n",
      "\n"
     ]
    }
   ],
   "source": [
    "IV = ['year', 'SVL', 'TL', 'RTL', 'RemTL', 'RemMass', 'propRemTL']\n",
    "for v in IV:\n",
    "    print(\"\\n\\nReport for '{}':\\nDESCRIBE: \\n{}\\nREVIEW: \\n{} \"\\\n",
    "          .format(v,df.groupby('Species')[v].apply(distribution),df.groupby('Species')[v].apply(review)))"
   ]
  },
  {
   "cell_type": "markdown",
   "metadata": {},
   "source": [
    "### Dependent Variables \n",
    "\n",
    "[Back to Descriptive Analysis](#Descriptive-Analysis); [Back to TOC](#Table-of-Contents)"
   ]
  },
  {
   "cell_type": "code",
   "execution_count": 9,
   "metadata": {
    "scrolled": true
   },
   "outputs": [
    {
     "name": "stdout",
     "output_type": "stream",
     "text": [
      "\n",
      "\n",
      "Report for 'TRTmin':\n",
      "DESCRIBE: \n",
      "            n  minimum  maximum  median    siqr      mean     stdev\n",
      "Species                                                            \n",
      "sj      0  75     0.13     0.71    0.29  0.0675  0.289200  0.120805\n",
      "sv      0  69     0.03     0.51    0.26  0.0700  0.258986  0.100968\n",
      "REVIEW: \n",
      "Species\n",
      "sj                                  (Unique types include the following: {<class 'float'>}, Unique values include:{0.13, 0.32, 0.36, 0.29, 0.31, 0.24, 0.42, 0.19, 0.25, 0.7, 0.34, 0.26, 0.18, 0.43, 0.68, 0.28, 0.2, 0.17, 0.21, 0.15, 0.23, 0.16, 0.46, 0.71, 0.30000000000000004, 0.14, 0.4, 0.41, 0.33}, OK)\n",
      "sv    (Unique types include the following: {<class 'float'>}, Unique values include:{0.19, 0.07, 0.24, 0.25, 0.27, 0.28, 0.4, 0.3, 0.26, 0.43, 0.34, 0.51, 0.18, 0.11, 0.36, 0.2, 0.37, 0.29, 0.15, 0.22, 0.17, 0.09, 0.16, 0.23, 0.21, 0.03, 0.38, 0.30000000000000004, 0.14, 0.31, 0.08, 0.32, 0.49, 0.33}, OK)\n",
      "Name: TRTmin, dtype: object \n",
      "\n",
      "\n",
      "Report for 'TRTminLog':\n",
      "DESCRIBE: \n",
      "            n   minimum   maximum    median      siqr      mean     stdev\n",
      "Species                                                                  \n",
      "sj      0  75 -2.040221 -0.342490 -1.237874  0.253117 -1.317702  0.391983\n",
      "sv      0  69 -3.506558 -0.673345 -1.347074  0.276034 -1.449283  0.497282\n",
      "REVIEW: \n",
      "Species\n",
      "sj                                                                                      (Unique types include the following: {<class 'float'>}, Unique values include:{-0.8675005677047231, -0.35667494393873245, -0.8439700702945291, -0.916290731874155, -0.7765287894989963, -0.342490308946776, -0.8915981192837836, -0.3856624808119846, -1.9661128563728327, -1.3862943611198906, -1.4696759700589417, -1.4271163556401458, -1.6607312068216509, -1.5606477482646683, -1.6094379124341005, -1.3470736479666092, -1.1086626245216111, -1.203972804325936, -1.0216512475319814, -1.7719568419318752, -1.171182981502945, -1.8971199848858813, -1.0788096613719298, -1.2378743560016174, -1.7147984280919266, -1.8325814637483104, -1.1394342831883648, -2.0402208285265546, -1.272965675812887}, OK)\n",
      "sv    (Unique types include the following: {<class 'float'>}, Unique values include:{-0.8439700702945291, -0.916290731874155, -0.9942522733438668, -0.9675840262617056, -0.7133498878774648, -0.6733445532637656, -1.5141277326297755, -1.3862943611198906, -1.9661128563728327, -2.2072749131897207, -1.3093333199837622, -1.4696759700589417, -1.1394342831883648, -1.4271163556401458, -1.6607312068216509, -1.3470736479666092, -1.6094379124341005, -1.5606477482646683, -1.1086626245216111, -2.525728644308256, -1.8971199848858813, -1.7719568419318752, -1.0216512475319814, -1.0788096613719298, -1.171182981502945, -1.7147984280919266, -1.2378743560016174, -1.8325814637483104, -2.407945608651872, -1.203972804325936, -3.5065578973199822, -2.6592600369327783, -1.272965675812887}, OK)\n",
      "Name: TRTminLog, dtype: object \n"
     ]
    }
   ],
   "source": [
    "DV = ['TRTmin','TRTminLog']\n",
    "for v in DV:\n",
    "    print(\"\\n\\nReport for '{}':\\nDESCRIBE: \\n{}\\nREVIEW: \\n{} \"\\\n",
    "          .format(v,df.groupby('Species')[v].apply(distribution),df.groupby('Species')[v].apply(review)))"
   ]
  },
  {
   "cell_type": "markdown",
   "metadata": {},
   "source": [
    "## Inferential Analysis\n",
    "\n",
    "Here we compare the Terrestrial Righting times of\n",
    "\n",
    "1. [_Sceloporus jarrovii_](#Sceloporus-jarrovii)\n",
    "1. [_Sceloporus virgatus_](#Sceloporus-virgatus)\n",
    "\n",
    "For _S. jarrovii_ we will use TRTminLog since TRTmin times were skewed.  For _S. virgatus_ we will use TRTmin.\n",
    "\n",
    "[Back to TOC](#Table-of-Contents)"
   ]
  },
  {
   "cell_type": "markdown",
   "metadata": {},
   "source": [
    "### _Sceloporus jarrovii_\n",
    "\n",
    "[Back to Inferential Analysis](#Inferential-Analysis); [Back to TOC](#Table-of-Contents)"
   ]
  },
  {
   "cell_type": "code",
   "execution_count": 11,
   "metadata": {},
   "outputs": [
    {
     "data": {
      "text/html": [
       "<div>\n",
       "<style scoped>\n",
       "    .dataframe tbody tr th:only-of-type {\n",
       "        vertical-align: middle;\n",
       "    }\n",
       "\n",
       "    .dataframe tbody tr th {\n",
       "        vertical-align: top;\n",
       "    }\n",
       "\n",
       "    .dataframe thead th {\n",
       "        text-align: right;\n",
       "    }\n",
       "</style>\n",
       "<table border=\"1\" class=\"dataframe\">\n",
       "  <thead>\n",
       "    <tr style=\"text-align: right;\">\n",
       "      <th></th>\n",
       "      <th>Source</th>\n",
       "      <th>SS</th>\n",
       "      <th>DF</th>\n",
       "      <th>MS</th>\n",
       "      <th>F</th>\n",
       "      <th>p-unc</th>\n",
       "      <th>np2</th>\n",
       "    </tr>\n",
       "  </thead>\n",
       "  <tbody>\n",
       "    <tr>\n",
       "      <th>0</th>\n",
       "      <td>Treatment3</td>\n",
       "      <td>1.916</td>\n",
       "      <td>2</td>\n",
       "      <td>0.958</td>\n",
       "      <td>7.297</td>\n",
       "      <td>0.00130162</td>\n",
       "      <td>0.169</td>\n",
       "    </tr>\n",
       "    <tr>\n",
       "      <th>1</th>\n",
       "      <td>Within</td>\n",
       "      <td>9.454</td>\n",
       "      <td>72</td>\n",
       "      <td>0.131</td>\n",
       "      <td>-</td>\n",
       "      <td>-</td>\n",
       "      <td>-</td>\n",
       "    </tr>\n",
       "  </tbody>\n",
       "</table>\n",
       "</div>"
      ],
      "text/plain": [
       "       Source     SS  DF     MS      F       p-unc    np2\n",
       "0  Treatment3  1.916   2  0.958  7.297  0.00130162  0.169\n",
       "1      Within  9.454  72  0.131      -           -      -"
      ]
     },
     "execution_count": 11,
     "metadata": {},
     "output_type": "execute_result"
    }
   ],
   "source": [
    "aovSj = pg.anova(data=df.loc[df.Species=='sj'], dv='TRTminLog', between='Treatment3', detailed=True)\n",
    "aovSj"
   ]
  },
  {
   "cell_type": "code",
   "execution_count": 11,
   "metadata": {},
   "outputs": [
    {
     "data": {
      "text/html": [
       "<div>\n",
       "<style scoped>\n",
       "    .dataframe tbody tr th:only-of-type {\n",
       "        vertical-align: middle;\n",
       "    }\n",
       "\n",
       "    .dataframe tbody tr th {\n",
       "        vertical-align: top;\n",
       "    }\n",
       "\n",
       "    .dataframe thead th {\n",
       "        text-align: right;\n",
       "    }\n",
       "</style>\n",
       "<table border=\"1\" class=\"dataframe\">\n",
       "  <thead>\n",
       "    <tr style=\"text-align: right;\">\n",
       "      <th></th>\n",
       "      <th>Source</th>\n",
       "      <th>SS</th>\n",
       "      <th>DF</th>\n",
       "      <th>MS</th>\n",
       "      <th>F</th>\n",
       "      <th>p-unc</th>\n",
       "      <th>np2</th>\n",
       "    </tr>\n",
       "  </thead>\n",
       "  <tbody>\n",
       "    <tr>\n",
       "      <th>0</th>\n",
       "      <td>Treatment3</td>\n",
       "      <td>1.916</td>\n",
       "      <td>2</td>\n",
       "      <td>0.958</td>\n",
       "      <td>7.297</td>\n",
       "      <td>0.00130162</td>\n",
       "      <td>0.169</td>\n",
       "    </tr>\n",
       "    <tr>\n",
       "      <th>1</th>\n",
       "      <td>Within</td>\n",
       "      <td>9.454</td>\n",
       "      <td>72</td>\n",
       "      <td>0.131</td>\n",
       "      <td>-</td>\n",
       "      <td>-</td>\n",
       "      <td>-</td>\n",
       "    </tr>\n",
       "  </tbody>\n",
       "</table>\n",
       "</div>"
      ],
      "text/plain": [
       "       Source     SS  DF     MS      F       p-unc    np2\n",
       "0  Treatment3  1.916   2  0.958  7.297  0.00130162  0.169\n",
       "1      Within  9.454  72  0.131      -           -      -"
      ]
     },
     "execution_count": 11,
     "metadata": {},
     "output_type": "execute_result"
    }
   ],
   "source": [
    "aovSj = pg.anova(data=df.loc[df.Species=='sj'], dv='TRTminLog', between='Treatment3', detailed=True)\n",
    "aovSj"
   ]
  },
  {
   "cell_type": "markdown",
   "metadata": {},
   "source": [
    "#### Post-Hoc Analysis"
   ]
  },
  {
   "cell_type": "code",
   "execution_count": 12,
   "metadata": {},
   "outputs": [
    {
     "name": "stdout",
     "output_type": "stream",
     "text": [
      "25% and Intact are significantly different (diff = 0.38613652697286915) with an effect size of 1.051 (effect type hedges)\n"
     ]
    },
    {
     "data": {
      "text/plain": [
       "0        25% and >=50% are not significantly different (p = 0.1579456314670472).\n",
       "1                                                                           None\n",
       "2    >=50% and Intact are not significantly different (p = 0.14744025845554232).\n",
       "dtype: object"
      ]
     },
     "execution_count": 12,
     "metadata": {},
     "output_type": "execute_result"
    }
   ],
   "source": [
    "pt = pg.pairwise_tukey(dv='TRTminLog', between='Treatment3', data=df.loc[df.Species=='sj'])\n",
    "pt.apply(report,threshcol='p-tukey',axis=1)"
   ]
  },
  {
   "cell_type": "code",
   "execution_count": 11,
   "metadata": {},
   "outputs": [
    {
     "data": {
      "text/html": [
       "\n",
       "        <iframe\n",
       "            width=\"100%\"\n",
       "            height=\"525px\"\n",
       "            src=\"https://plot.ly/~cragard/152.embed\"\n",
       "            frameborder=\"0\"\n",
       "            allowfullscreen\n",
       "        ></iframe>\n",
       "        "
      ],
      "text/plain": [
       "<IPython.lib.display.IFrame at 0x21561c35748>"
      ]
     },
     "execution_count": 11,
     "metadata": {},
     "output_type": "execute_result"
    }
   ],
   "source": [
    "## need to fix the x-axis labels\n",
    "\n",
    "SjI = go.Box(y=df.loc[(df.Species=='sj')&(df.Treatment3=='Intact')].TRTmin, name='Intact')\n",
    "Sj25 = go.Box(y=df.loc[(df.Species=='sj')&(df.Treatment3=='25%')].TRTmin, name='25%')\n",
    "Sj50 = go.Box(y=df.loc[(df.Species=='sj')&(df.Treatment3=='50%')].TRTmin, name='50%')\n",
    "Sj75 = go.Box(y=df.loc[(df.Species=='sj')&(df.Treatment3=='75%')].TRTmin, name='75%')\n",
    "data=[SjI,Sj25,Sj50,Sj75]\n",
    "layout = go.Layout(\n",
    "    title = 'BoxPlot of Terrestrial Righting Times by Treatment',\n",
    "    titlefont = dict(\n",
    "        size = 20),\n",
    "    xaxis= dict(\n",
    "    ),\n",
    "    yaxis = dict(\n",
    "        title = 'Righting Times (s)',\n",
    "        titlefont = dict(\n",
    "            size = 18)))\n",
    "\n",
    "fig = go.Figure(\n",
    "        data = data,\n",
    "        layout = layout)\n",
    "py.iplot(fig, filename = 'BoxPlot of Sceloporus jarrovii Terrestrial Righting Times by Treatment.html')\n",
    "\n"
   ]
  },
  {
   "cell_type": "markdown",
   "metadata": {},
   "source": [
    "### _Sceloporus virgatus_\n",
    "\n",
    "[Back to Inferential Analysis](#Inferential-Analysis); [Back to TOC](#Table-of-Contents)"
   ]
  },
  {
   "cell_type": "code",
   "execution_count": 12,
   "metadata": {},
   "outputs": [
    {
     "data": {
      "text/plain": [
       "array(['Intact', '50%', '25%', '75%'], dtype=object)"
      ]
     },
     "execution_count": 12,
     "metadata": {},
     "output_type": "execute_result"
    }
   ],
   "source": [
    "df.loc[df.Species =='sv'].Treatment3.unique()"
   ]
  },
  {
   "cell_type": "code",
   "execution_count": 13,
   "metadata": {},
   "outputs": [
    {
     "data": {
      "text/html": [
       "<div>\n",
       "<style scoped>\n",
       "    .dataframe tbody tr th:only-of-type {\n",
       "        vertical-align: middle;\n",
       "    }\n",
       "\n",
       "    .dataframe tbody tr th {\n",
       "        vertical-align: top;\n",
       "    }\n",
       "\n",
       "    .dataframe thead th {\n",
       "        text-align: right;\n",
       "    }\n",
       "</style>\n",
       "<table border=\"1\" class=\"dataframe\">\n",
       "  <thead>\n",
       "    <tr style=\"text-align: right;\">\n",
       "      <th></th>\n",
       "      <th>Source</th>\n",
       "      <th>SS</th>\n",
       "      <th>DF</th>\n",
       "      <th>MS</th>\n",
       "      <th>F</th>\n",
       "      <th>p-unc</th>\n",
       "      <th>np2</th>\n",
       "    </tr>\n",
       "  </thead>\n",
       "  <tbody>\n",
       "    <tr>\n",
       "      <th>0</th>\n",
       "      <td>Treatment2</td>\n",
       "      <td>1.418</td>\n",
       "      <td>3</td>\n",
       "      <td>0.473</td>\n",
       "      <td>1.996</td>\n",
       "      <td>0.123288</td>\n",
       "      <td>0.084</td>\n",
       "    </tr>\n",
       "    <tr>\n",
       "      <th>1</th>\n",
       "      <td>Within</td>\n",
       "      <td>15.397</td>\n",
       "      <td>65</td>\n",
       "      <td>0.237</td>\n",
       "      <td>-</td>\n",
       "      <td>-</td>\n",
       "      <td>-</td>\n",
       "    </tr>\n",
       "  </tbody>\n",
       "</table>\n",
       "</div>"
      ],
      "text/plain": [
       "       Source      SS  DF     MS      F     p-unc    np2\n",
       "0  Treatment2   1.418   3  0.473  1.996  0.123288  0.084\n",
       "1      Within  15.397  65  0.237      -         -      -"
      ]
     },
     "execution_count": 13,
     "metadata": {},
     "output_type": "execute_result"
    }
   ],
   "source": [
    "aovSv = pg.anova(data=df.loc[df.Species=='sv'], dv='TRTminLog', between='Treatment3', detailed=True)\n",
    "aovSv"
   ]
  },
  {
   "cell_type": "code",
   "execution_count": 14,
   "metadata": {},
   "outputs": [
    {
     "data": {
      "text/html": [
       "\n",
       "        <iframe\n",
       "            width=\"100%\"\n",
       "            height=\"525px\"\n",
       "            src=\"https://plot.ly/~cragard/159.embed\"\n",
       "            frameborder=\"0\"\n",
       "            allowfullscreen\n",
       "        ></iframe>\n",
       "        "
      ],
      "text/plain": [
       "<IPython.lib.display.IFrame at 0x21560a747b8>"
      ]
     },
     "execution_count": 14,
     "metadata": {},
     "output_type": "execute_result"
    }
   ],
   "source": [
    "## need to fix the x-axis labels\n",
    "\n",
    "SvI = go.Box(y=df.loc[(df.Species=='sv')&(df.Treatment3=='Intact')].TRTmin, name='Intact')\n",
    "Sv25 = go.Box(y=df.loc[(df.Species=='sv')&(df.Treatment3=='25%')].TRTmin, name='25%')\n",
    "Sv50 = go.Box(y=df.loc[(df.Species=='sv')&(df.Treatment3=='50%')].TRTmin, name='50%')\n",
    "Sv75 = go.Box(y=df.loc[(df.Species=='sv')&(df.Treatment3=='75%')].TRTmin, name='75%')\n",
    "data=[SvI,Sv25,Sv50,Sv75]\n",
    "layout = go.Layout(\n",
    "    title = 'BoxPlot of Terrestrial Righting Times by Treatment',\n",
    "    titlefont = dict(\n",
    "        size = 20),\n",
    "    xaxis= dict(\n",
    "    ),\n",
    "    yaxis = dict(\n",
    "        title = 'Righting Times (s)',\n",
    "        titlefont = dict(\n",
    "            size = 18)))\n",
    "\n",
    "fig = go.Figure(\n",
    "        data = data,\n",
    "        layout = layout)\n",
    "py.iplot(fig, filename = 'BoxPlot of Sceloporus virgatus Terrestrial Righting Times by Treatment.html')\n",
    "\n"
   ]
  },
  {
   "cell_type": "markdown",
   "metadata": {},
   "source": [
    "## Conclusion\n",
    "\n",
    "[Back to TOC](#Table-of-Contents)"
   ]
  },
  {
   "cell_type": "markdown",
   "metadata": {},
   "source": [
    "## Discussion\n",
    "\n",
    "[Back to TOC](#Table-of-Contents)"
   ]
  }
 ],
 "metadata": {
  "kernelspec": {
   "display_name": "Python 3",
   "language": "python",
   "name": "python3"
  },
  "language_info": {
   "codemirror_mode": {
    "name": "ipython",
    "version": 3
   },
   "file_extension": ".py",
   "mimetype": "text/x-python",
   "name": "python",
   "nbconvert_exporter": "python",
   "pygments_lexer": "ipython3",
   "version": "3.7.3"
  }
 },
 "nbformat": 4,
 "nbformat_minor": 2
}
