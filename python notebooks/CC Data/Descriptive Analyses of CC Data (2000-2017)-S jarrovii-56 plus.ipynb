{
 "cells": [
  {
   "cell_type": "markdown",
   "metadata": {},
   "source": [
    "# Table of Contents\n",
    "1. [Things to Do](#Things-to-Do)\n",
    "1. [Introduction](#Introduction)\n",
    "1. [Set up Python](#Set-up-Python)\n",
    "2. [Functions](#Functions)\n",
    "3. [Getting Data](#Get-Data)\n",
    "4. [Analyze Data](#Analyze-Data):\n",
    "    - [Population Size](#Population-Size) - noticeable changes\n",
    "    - [Sex Distribution](#Sex-Distribution) - does not change\n",
    "    - [Tail Condition Distribution](#Tail-Condition-Distribution)- noticeable change\n",
    "        - [Severity of Autotomy](#Severity-of-Autotomy)- noticeable change\n",
    "    - [Location](#Location)\n",
    "    - [Morphometrics](#Morphometrics):\n",
    "        - [SVL](#SVL)\n",
    "        - [TL](#TL)\n",
    "        - [RTL](#RTL)\n",
    "        - [Mass](#Mass)- noticeable change (Check Males)\n",
    "    - [Survival and Rates and Likelihood of Recapture](#Survival-and-Rates-and-Likelihood-of-Recapture)\n",
    "    - [Captures](#Captures)\n",
    "    - [Growth](#Growth)\n",
    "        - [SVL Growth](#SVL-Growth)\n",
    "        - [TL Growth](#TL-Growth)\n",
    "        - [RTL Growth](#RTL-Growth)\n",
    "        - [Mass Growth](#Mass-Growth)\n",
    "    - [Correlations to Population](#Correlations-to-Population)\n",
    "5. [Export Files](#Export-Files)"
   ]
  },
  {
   "cell_type": "markdown",
   "metadata": {},
   "source": [
    "# Things to Do\n",
    "\n",
    "Also search for \"to be done\"\n",
    "\n",
    "## [Resume Here](#resume)"
   ]
  },
  {
   "cell_type": "markdown",
   "metadata": {},
   "source": [
    "## Introduction\n",
    "\n",
    "This notebook contains code and output of descriptive analyses for the 2000-2017 CC dataset after cleaning.\n",
    "\n",
    "The objectives of this notebook are to describe the community of the _Sceloporus jarrovii_ and _Sceloporus virgatus_ lizards in the Crystal Creek wash from 2000 until 2017.  The population demographic metrics we examine are: [population size](#Population-Size), [sex distribution](#Sex-Distribution), [tail condition distribution](#Tail-Condition-Distribution), [location](#Location), [morphometrics](#Morphometrics) -- [SVL](#SVL), [TL](#TL), [RTL](#RTL), [mass](#Mass) --,  [survival and rates and likelihood of recapture](#Survival-and-Rates-and-Likelihood-of-Recapture), and [growth](#Growth).\n",
    "\n",
    "We will examine these metrics and interactions among them with particular interest in the impact of environmental factors from year to year.\n"
   ]
  },
  {
   "cell_type": "markdown",
   "metadata": {},
   "source": [
    "##  Set up Python\n",
    "\n",
    "First we will need to set up the python environment, importing the necessary packages and setting the display options.\n",
    "\n",
    "[Top](#Table-of-Contents)"
   ]
  },
  {
   "cell_type": "code",
   "execution_count": 25,
   "metadata": {},
   "outputs": [
    {
     "data": {
      "text/html": [
       "        <script type=\"text/javascript\">\n",
       "        window.PlotlyConfig = {MathJaxConfig: 'local'};\n",
       "        if (window.MathJax) {MathJax.Hub.Config({SVG: {font: \"STIX-Web\"}});}\n",
       "        if (typeof require !== 'undefined') {\n",
       "        require.undef(\"plotly\");\n",
       "        requirejs.config({\n",
       "            paths: {\n",
       "                'plotly': ['https://cdn.plot.ly/plotly-latest.min']\n",
       "            }\n",
       "        });\n",
       "        require(['plotly'], function(Plotly) {\n",
       "            window._Plotly = Plotly;\n",
       "        });\n",
       "        }\n",
       "        </script>\n",
       "        "
      ]
     },
     "metadata": {},
     "output_type": "display_data"
    }
   ],
   "source": [
    "import pandas as pd\n",
    "import numpy as np\n",
    "import pingouin as pg\n",
    "import os, glob, logging\n",
    "from summary_functions import *\n",
    "from scipy import stats\n",
    "from monthlit import *\n",
    "from prettyprint import *\n",
    "\n",
    "\n",
    "import plotly\n",
    "import chart_studio.plotly as py\n",
    "import plotly.figure_factory as ff\n",
    "import plotly.graph_objs as go\n",
    "from plotly.offline import download_plotlyjs, init_notebook_mode, plot, iplot\n",
    "\n",
    "init_notebook_mode(connected=True)\n",
    "# plotly.tools.set_config_file(world_readable=True)\n",
    "\n",
    "\n",
    "# increase print limit\n",
    "pd.options.display.max_rows = 99999\n",
    "pd.options.display.max_columns = 50"
   ]
  },
  {
   "cell_type": "markdown",
   "metadata": {},
   "source": [
    "### Setting File Locations"
   ]
  },
  {
   "cell_type": "code",
   "execution_count": 26,
   "metadata": {},
   "outputs": [],
   "source": [
    "deviceDict = {'dataBig':{'source':'S:/Chris/TailDemography/TailDemography/outputFiles'\n",
    "                         ,'log':'S:/Chris/TailDemography/TailDemography/Scripts and notes/Descriptive/'\n",
    "                         ,'output':'S:/Chris/TailDemography/TailDemography/outputFiles/'},\n",
    "              'silverSurfer':{'source':'C:\\\\Users\\\\craga_eowcrpe\\\\Google Drive\\\\TailDemography\\\\outputFiles'\n",
    "                              ,'log':'C:\\\\Users\\\\craga_eowcrpe\\\\Google Drive\\\\TailDemography\\\\Scripts and notes\\\\Descriptive\\\\'\n",
    "                              ,'output':'C:\\\\Users\\\\craga_eowcrpe\\\\Google Drive\\\\TailDemography\\\\outputFiles\\\\Descriptive\\\\'}\n",
    "              ,'dataPers':{'source':'C:/Users/Christopher/Google Drive/TailDemography/outputFiles'\n",
    "                           ,'log': 'C:\\\\Users\\\\craga_eowcrpe\\\\Google Drive\\\\TailDemography\\\\Scripts and notes\\\\Descriptive\\\\'\n",
    "                           ,'output':'C:/Users/Christopher/Google Drive/TailDemography/outputFiles/Descriptve/'}\n",
    "             ,'gandolf':{'source':'C:/Users/craga/Google Drive/TailDemography/outputFiles'\n",
    "                           ,'log': 'C:/Users/craga/Google Drive/TailDemography/Scripts and notes/Descriptive/'\n",
    "                           ,'output':'C:/Users/craga/Google Drive/TailDemography/outputFiles/Descriptive/'}}"
   ]
  },
  {
   "cell_type": "markdown",
   "metadata": {},
   "source": [
    "### Choose Device"
   ]
  },
  {
   "cell_type": "code",
   "execution_count": 27,
   "metadata": {},
   "outputs": [
    {
     "data": {
      "text/plain": [
       "{'source': 'C:/Users/craga/Google Drive/TailDemography/outputFiles',\n",
       " 'log': 'C:/Users/craga/Google Drive/TailDemography/Scripts and notes/Descriptive/',\n",
       " 'output': 'C:/Users/craga/Google Drive/TailDemography/outputFiles/Descriptive/'}"
      ]
     },
     "execution_count": 27,
     "metadata": {},
     "output_type": "execute_result"
    }
   ],
   "source": [
    "device = deviceDict['gandolf']\n",
    "device"
   ]
  },
  {
   "cell_type": "markdown",
   "metadata": {},
   "source": [
    "# Source Data\n"
   ]
  },
  {
   "cell_type": "markdown",
   "metadata": {},
   "source": [
    "### Logging"
   ]
  },
  {
   "cell_type": "code",
   "execution_count": 28,
   "metadata": {},
   "outputs": [],
   "source": [
    "logging.basicConfig(filename=device['log']+'Desriptive Analyses.log'\n",
    "                    , filemode='a',\n",
    "                    format='%(funcName)s - %(levelname)s - %(message)s - %(asctime)s', level=logging.DEBUG)"
   ]
  },
  {
   "cell_type": "markdown",
   "metadata": {},
   "source": [
    "## Functions\n",
    "\n",
    "This section contains functions that were created for this notebook.\n",
    "\n",
    "- [distribution](#distribution) #delete this we will use scipy stats describe instead\n",
    "- [monthlit](#monthlit)\n",
    "- [description](#description)\n",
    "- [vocab_run](#vocab_run)"
   ]
  },
  {
   "cell_type": "markdown",
   "metadata": {},
   "source": [
    "### distribution\n",
    "[Back to Top](#Table-of-Contents)\n",
    "\n",
    "[Back to Functions](#Functions)\n",
    "\n",
    "*distribution* takes a series or list of numeric objects, *x*, and returns descriptive stats of x including\n",
    "        n, minimum, maximum, median, sIQR, mean, and stdev\n",
    "    \n",
    "Here are a few examples of how *distribution* works."
   ]
  },
  {
   "cell_type": "code",
   "execution_count": 29,
   "metadata": {},
   "outputs": [],
   "source": [
    "foo = [0,1,2,'r']\n",
    "distribution(foo)"
   ]
  },
  {
   "cell_type": "code",
   "execution_count": 30,
   "metadata": {},
   "outputs": [
    {
     "data": {
      "text/html": [
       "<div>\n",
       "<style scoped>\n",
       "    .dataframe tbody tr th:only-of-type {\n",
       "        vertical-align: middle;\n",
       "    }\n",
       "\n",
       "    .dataframe tbody tr th {\n",
       "        vertical-align: top;\n",
       "    }\n",
       "\n",
       "    .dataframe thead th {\n",
       "        text-align: right;\n",
       "    }\n",
       "</style>\n",
       "<table border=\"1\" class=\"dataframe\">\n",
       "  <thead>\n",
       "    <tr style=\"text-align: right;\">\n",
       "      <th></th>\n",
       "      <th>n</th>\n",
       "      <th>minimum</th>\n",
       "      <th>maximum</th>\n",
       "      <th>median</th>\n",
       "      <th>siqr</th>\n",
       "      <th>mean</th>\n",
       "      <th>stdev</th>\n",
       "    </tr>\n",
       "  </thead>\n",
       "  <tbody>\n",
       "    <tr>\n",
       "      <th>0</th>\n",
       "      <td>3</td>\n",
       "      <td>0</td>\n",
       "      <td>2</td>\n",
       "      <td>1.0</td>\n",
       "      <td>0.5</td>\n",
       "      <td>1.0</td>\n",
       "      <td>1.0</td>\n",
       "    </tr>\n",
       "  </tbody>\n",
       "</table>\n",
       "</div>"
      ],
      "text/plain": [
       "   n  minimum  maximum  median  siqr  mean  stdev\n",
       "0  3        0        2     1.0   0.5   1.0    1.0"
      ]
     },
     "execution_count": 30,
     "metadata": {},
     "output_type": "execute_result"
    }
   ],
   "source": [
    "bar = [0,1,2]\n",
    "distribution(bar)"
   ]
  },
  {
   "cell_type": "markdown",
   "metadata": {},
   "source": [
    "[Back to Functions](#Functions)"
   ]
  },
  {
   "cell_type": "markdown",
   "metadata": {},
   "source": [
    "## monthlit\n",
    "[Back to Top](#Table-of-Contents)\n",
    "\n",
    "[Back to Functions](#Functions)"
   ]
  },
  {
   "cell_type": "markdown",
   "metadata": {},
   "source": [
    "Here are a few examples of how _monthlit_ works."
   ]
  },
  {
   "cell_type": "code",
   "execution_count": 31,
   "metadata": {},
   "outputs": [
    {
     "data": {
      "text/html": [
       "<div>\n",
       "<style scoped>\n",
       "    .dataframe tbody tr th:only-of-type {\n",
       "        vertical-align: middle;\n",
       "    }\n",
       "\n",
       "    .dataframe tbody tr th {\n",
       "        vertical-align: top;\n",
       "    }\n",
       "\n",
       "    .dataframe thead th {\n",
       "        text-align: right;\n",
       "    }\n",
       "</style>\n",
       "<table border=\"1\" class=\"dataframe\">\n",
       "  <thead>\n",
       "    <tr style=\"text-align: right;\">\n",
       "      <th></th>\n",
       "      <th>dates</th>\n",
       "    </tr>\n",
       "  </thead>\n",
       "  <tbody>\n",
       "    <tr>\n",
       "      <th>0</th>\n",
       "      <td>2018-12-09</td>\n",
       "    </tr>\n",
       "    <tr>\n",
       "      <th>1</th>\n",
       "      <td>2019-08-05</td>\n",
       "    </tr>\n",
       "    <tr>\n",
       "      <th>2</th>\n",
       "      <td>2017-07-04</td>\n",
       "    </tr>\n",
       "    <tr>\n",
       "      <th>3</th>\n",
       "      <td>NaT</td>\n",
       "    </tr>\n",
       "    <tr>\n",
       "      <th>4</th>\n",
       "      <td>NaT</td>\n",
       "    </tr>\n",
       "  </tbody>\n",
       "</table>\n",
       "</div>"
      ],
      "text/plain": [
       "       dates\n",
       "0 2018-12-09\n",
       "1 2019-08-05\n",
       "2 2017-07-04\n",
       "3        NaT\n",
       "4        NaT"
      ]
     },
     "execution_count": 31,
     "metadata": {},
     "output_type": "execute_result"
    }
   ],
   "source": [
    "dates = pd.DataFrame(data={'dates':['2018-12-9','2019-8-5', '2017/7/4',np.nan,None]})\n",
    "dates.dates = pd.to_datetime(dates.dates)\n",
    "dates"
   ]
  },
  {
   "cell_type": "code",
   "execution_count": 32,
   "metadata": {},
   "outputs": [
    {
     "data": {
      "text/plain": [
       "True"
      ]
     },
     "execution_count": 32,
     "metadata": {},
     "output_type": "execute_result"
    }
   ],
   "source": [
    "np.isnan(np.nan)"
   ]
  },
  {
   "cell_type": "code",
   "execution_count": 33,
   "metadata": {},
   "outputs": [
    {
     "data": {
      "text/plain": [
       "'Dec'"
      ]
     },
     "execution_count": 33,
     "metadata": {},
     "output_type": "execute_result"
    }
   ],
   "source": [
    "monthlit(dates.dates.dt.month[0])"
   ]
  },
  {
   "cell_type": "code",
   "execution_count": 34,
   "metadata": {
    "scrolled": true
   },
   "outputs": [
    {
     "data": {
      "text/plain": [
       "0    Dec\n",
       "1    Aug\n",
       "2    Jul\n",
       "3    NaN\n",
       "4    NaN\n",
       "Name: dates, dtype: object"
      ]
     },
     "execution_count": 34,
     "metadata": {},
     "output_type": "execute_result"
    }
   ],
   "source": [
    "dates.dates.dt.month.apply(monthlit)"
   ]
  },
  {
   "cell_type": "markdown",
   "metadata": {},
   "source": [
    "[Back to Functions](#Functions)"
   ]
  },
  {
   "cell_type": "markdown",
   "metadata": {},
   "source": [
    "## description\n",
    "[Back to Top](#Table-of-Contents)\n",
    "\n",
    "[Back to Functions](#Functions)"
   ]
  },
  {
   "cell_type": "code",
   "execution_count": 35,
   "metadata": {},
   "outputs": [],
   "source": [
    "def description(x,variable,percentage=False):\n",
    "    if percentage:\n",
    "            res = x[variable].describe()\n",
    "            res[['mean','std','min','25%','50%','75%','max']] = res[['mean','std','min','25%','50%','75%','max']]\\\n",
    "            .apply(lambda x:x*100) \n",
    "#Need to Add CI calculation to this function\n",
    "#             meanCI = 'not calculated'\n",
    "    else:\n",
    "        res = x[variable].describe() \n",
    "    res['siqr'] = (res['75%']-res['25%'])/2\n",
    "    res['meanCI'] = 'not calculated'\n",
    "    return res"
   ]
  },
  {
   "cell_type": "markdown",
   "metadata": {},
   "source": [
    "### vocab_run\n",
    "[Back to Top](#Table-of-Contents)\n",
    "\n",
    "[Back to Functions](#Functions)\n",
    "\n",
    "*vocab_run* takes a list, joins its the first the elements with a separator placing a different separator between\n",
    "     the penultimate and final members of the list and returns the result as a string\n",
    "     :param x: a list of strings to be concatenated\n",
    "     :param connector_dict: a dictionary with keys describing the size of the list and values indicating the type of\n",
    "     connectors separate the list elements.\n",
    "    \n",
    "Here are a few examples of how *vocab_run* works."
   ]
  },
  {
   "cell_type": "code",
   "execution_count": 36,
   "metadata": {},
   "outputs": [
    {
     "name": "stdout",
     "output_type": "stream",
     "text": [
      "Could you bring some foo, bar and stuffkins please?\n"
     ]
    }
   ],
   "source": [
    "print(\"Could you bring some {} please?\".format(vocab_run(['foo','bar','stuffkins'])))"
   ]
  },
  {
   "cell_type": "code",
   "execution_count": 37,
   "metadata": {},
   "outputs": [
    {
     "name": "stdout",
     "output_type": "stream",
     "text": [
      "You can either have foo, bar or stuffkins.  You'll have to make a choice.\n"
     ]
    }
   ],
   "source": [
    "print(\"You can either have {}.  You'll have to make a choice.\"\\\n",
    "      .format(vocab_run(['foo','bar','stuffkins'],connector_dict={1: None, 2: ' or ', 'run': ', '})))"
   ]
  },
  {
   "cell_type": "markdown",
   "metadata": {},
   "source": [
    "[Back to Functions](#Functions)"
   ]
  },
  {
   "cell_type": "markdown",
   "metadata": {},
   "source": [
    "We'll display all files in the source folder with the prefix _'cleaned CC data 2000-2017'_. The file names will be saved in a variable, _mysourcefiles_."
   ]
  },
  {
   "cell_type": "markdown",
   "metadata": {},
   "source": [
    "## Get Data\n",
    "[Top](#Table-of-Contents)\n",
    "\n",
    "Here we can set the locations from which we get data and to which we export it."
   ]
  },
  {
   "cell_type": "code",
   "execution_count": 38,
   "metadata": {},
   "outputs": [
    {
     "data": {
      "text/plain": [
       "['cleaned CC data 2000-2017_2019-01-31 01hrs43min.csv']"
      ]
     },
     "execution_count": 38,
     "metadata": {},
     "output_type": "execute_result"
    }
   ],
   "source": [
    "os.chdir(device['source'])\n",
    "mysourcefiles = glob.glob('cleaned CC data 2000-2017_*.csv')\n",
    "mysourcefiles"
   ]
  },
  {
   "cell_type": "code",
   "execution_count": 39,
   "metadata": {},
   "outputs": [
    {
     "data": {
      "text/plain": [
       "Timestamp('2019-01-31 00:00:00')"
      ]
     },
     "execution_count": 39,
     "metadata": {},
     "output_type": "execute_result"
    }
   ],
   "source": [
    "pd.to_datetime(mysourcefiles[0].split(\"_\")[1].split(\".csv\")[0].split(' ')[0])"
   ]
  },
  {
   "cell_type": "markdown",
   "metadata": {},
   "source": [
    "Automate getting the latest file"
   ]
  },
  {
   "cell_type": "code",
   "execution_count": 40,
   "metadata": {},
   "outputs": [
    {
     "data": {
      "text/plain": [
       "['cleaned CC data 2000-2017_2019-01-31 01hrs43min.csv']"
      ]
     },
     "execution_count": 40,
     "metadata": {},
     "output_type": "execute_result"
    }
   ],
   "source": [
    "[latestFile for latestFile in mysourcefiles if \\\n",
    " max({pd.to_datetime(afile.split(\"_\")[1].split(\".csv\")[0].split(' ')[0]) \\\n",
    "      for afile in mysourcefiles}) == pd.to_datetime(latestFile.split(\"_\")\\\n",
    "                                                     [1].split(\".csv\")[0].split(' ')[0])]"
   ]
  },
  {
   "cell_type": "code",
   "execution_count": 41,
   "metadata": {},
   "outputs": [
    {
     "data": {
      "text/plain": [
       "'0143'"
      ]
     },
     "execution_count": 41,
     "metadata": {},
     "output_type": "execute_result"
    }
   ],
   "source": [
    "min({afile.split(' ')[-1].replace('hrs','').replace('min.csv','') for afile in mysourcefiles})"
   ]
  },
  {
   "cell_type": "code",
   "execution_count": 42,
   "metadata": {},
   "outputs": [
    {
     "data": {
      "text/plain": [
       "'cleaned CC data 2000-2017_2019-01-31 01hrs43min.csv'"
      ]
     },
     "execution_count": 42,
     "metadata": {},
     "output_type": "execute_result"
    }
   ],
   "source": [
    "latest = mysourcefiles[-1]\n",
    "latest"
   ]
  },
  {
   "cell_type": "markdown",
   "metadata": {},
   "source": [
    "The most recent file is the one we will use as _df_ in our descriptive analysis."
   ]
  },
  {
   "cell_type": "code",
   "execution_count": 50,
   "metadata": {
    "scrolled": true
   },
   "outputs": [
    {
     "name": "stdout",
     "output_type": "stream",
     "text": [
      "Empty DataFrame\n",
      "Columns: [year, liznumber]\n",
      "Index: []\n"
     ]
    },
    {
     "data": {
      "text/html": [
       "<div>\n",
       "<style scoped>\n",
       "    .dataframe tbody tr th:only-of-type {\n",
       "        vertical-align: middle;\n",
       "    }\n",
       "\n",
       "    .dataframe tbody tr th {\n",
       "        vertical-align: top;\n",
       "    }\n",
       "\n",
       "    .dataframe thead th {\n",
       "        text-align: right;\n",
       "    }\n",
       "</style>\n",
       "<table border=\"1\" class=\"dataframe\">\n",
       "  <thead>\n",
       "    <tr style=\"text-align: right;\">\n",
       "      <th></th>\n",
       "      <th>species</th>\n",
       "      <th>toes_orig</th>\n",
       "      <th>sex</th>\n",
       "      <th>date</th>\n",
       "      <th>svl</th>\n",
       "      <th>tl</th>\n",
       "      <th>rtl</th>\n",
       "      <th>autotomized</th>\n",
       "      <th>mass</th>\n",
       "      <th>location</th>\n",
       "      <th>meters</th>\n",
       "      <th>newRecap</th>\n",
       "      <th>painted</th>\n",
       "      <th>sighting</th>\n",
       "      <th>paint.mark</th>\n",
       "      <th>vial</th>\n",
       "      <th>misc</th>\n",
       "      <th>rtl_orig</th>\n",
       "      <th>toes</th>\n",
       "      <th>toe_pattern</th>\n",
       "      <th>year</th>\n",
       "      <th>tl_svl</th>\n",
       "      <th>mass_svl</th>\n",
       "      <th>initialCaptureDate</th>\n",
       "      <th>year_diff</th>\n",
       "      <th>svl_diff</th>\n",
       "      <th>liznumber</th>\n",
       "      <th>sex_count</th>\n",
       "      <th>daysSinceCapture</th>\n",
       "      <th>capture</th>\n",
       "      <th>month</th>\n",
       "    </tr>\n",
       "  </thead>\n",
       "  <tbody>\n",
       "    <tr>\n",
       "      <th>0</th>\n",
       "      <td>j</td>\n",
       "      <td>2-6-12-15</td>\n",
       "      <td>m</td>\n",
       "      <td>2010-06-19</td>\n",
       "      <td>80.0</td>\n",
       "      <td>110.0</td>\n",
       "      <td>29.0</td>\n",
       "      <td>True</td>\n",
       "      <td>20.0</td>\n",
       "      <td>10m v bottom bowl</td>\n",
       "      <td>-15</td>\n",
       "      <td>?</td>\n",
       "      <td>yes</td>\n",
       "      <td>NaN</td>\n",
       "      <td>y2c</td>\n",
       "      <td>03-10-cc</td>\n",
       "      <td>toe 15 missing at capture; possible recap</td>\n",
       "      <td>29.0</td>\n",
       "      <td>2-6-12-15</td>\n",
       "      <td>NaN</td>\n",
       "      <td>2010</td>\n",
       "      <td>1.375000</td>\n",
       "      <td>0.250000</td>\n",
       "      <td>2010-06-19</td>\n",
       "      <td>0</td>\n",
       "      <td>0.0</td>\n",
       "      <td>893</td>\n",
       "      <td>1</td>\n",
       "      <td>0</td>\n",
       "      <td>1</td>\n",
       "      <td>Jun</td>\n",
       "    </tr>\n",
       "    <tr>\n",
       "      <th>1</th>\n",
       "      <td>j</td>\n",
       "      <td>2-6-12-15</td>\n",
       "      <td>m</td>\n",
       "      <td>2010-10-07</td>\n",
       "      <td>86.0</td>\n",
       "      <td>102.0</td>\n",
       "      <td>28.0</td>\n",
       "      <td>True</td>\n",
       "      <td>17.0</td>\n",
       "      <td>6m v bottoom bowl right side 4 m up</td>\n",
       "      <td>NaN</td>\n",
       "      <td>R</td>\n",
       "      <td>yes</td>\n",
       "      <td>NaN</td>\n",
       "      <td>y22c</td>\n",
       "      <td>NaN</td>\n",
       "      <td>loose scale on ventrum and head</td>\n",
       "      <td>28.0</td>\n",
       "      <td>2-6-12-15</td>\n",
       "      <td>NaN</td>\n",
       "      <td>2010</td>\n",
       "      <td>1.186047</td>\n",
       "      <td>0.197674</td>\n",
       "      <td>2010-06-19</td>\n",
       "      <td>0</td>\n",
       "      <td>6.0</td>\n",
       "      <td>893</td>\n",
       "      <td>1</td>\n",
       "      <td>110</td>\n",
       "      <td>2</td>\n",
       "      <td>Oct</td>\n",
       "    </tr>\n",
       "    <tr>\n",
       "      <th>2</th>\n",
       "      <td>j</td>\n",
       "      <td>2-9-15-17</td>\n",
       "      <td>f</td>\n",
       "      <td>2010-08-13</td>\n",
       "      <td>56.0</td>\n",
       "      <td>77.0</td>\n",
       "      <td>0.0</td>\n",
       "      <td>False</td>\n",
       "      <td>5.5</td>\n",
       "      <td>20m up CCC</td>\n",
       "      <td>240</td>\n",
       "      <td>N</td>\n",
       "      <td>yes</td>\n",
       "      <td>NaN</td>\n",
       "      <td>y62c</td>\n",
       "      <td>61-10-cc</td>\n",
       "      <td>Tss</td>\n",
       "      <td>0.0</td>\n",
       "      <td>2-9-15-17</td>\n",
       "      <td>NaN</td>\n",
       "      <td>2010</td>\n",
       "      <td>1.375000</td>\n",
       "      <td>0.098214</td>\n",
       "      <td>2010-08-13</td>\n",
       "      <td>0</td>\n",
       "      <td>0.0</td>\n",
       "      <td>929</td>\n",
       "      <td>1</td>\n",
       "      <td>0</td>\n",
       "      <td>1</td>\n",
       "      <td>Aug</td>\n",
       "    </tr>\n",
       "    <tr>\n",
       "      <th>4</th>\n",
       "      <td>j</td>\n",
       "      <td>3-6-15-16</td>\n",
       "      <td>f</td>\n",
       "      <td>2010-08-18</td>\n",
       "      <td>72.0</td>\n",
       "      <td>62.0</td>\n",
       "      <td>46.0</td>\n",
       "      <td>True</td>\n",
       "      <td>11.0</td>\n",
       "      <td>halfway between pool and 2 falls 2m up rt side</td>\n",
       "      <td>385</td>\n",
       "      <td>N</td>\n",
       "      <td>yes</td>\n",
       "      <td>NaN</td>\n",
       "      <td>y65c</td>\n",
       "      <td>65-10-cc</td>\n",
       "      <td>NaN</td>\n",
       "      <td>46.0</td>\n",
       "      <td>3-6-15-16</td>\n",
       "      <td>NaN</td>\n",
       "      <td>2010</td>\n",
       "      <td>0.861111</td>\n",
       "      <td>0.152778</td>\n",
       "      <td>2010-08-18</td>\n",
       "      <td>0</td>\n",
       "      <td>0.0</td>\n",
       "      <td>947</td>\n",
       "      <td>1</td>\n",
       "      <td>0</td>\n",
       "      <td>1</td>\n",
       "      <td>Aug</td>\n",
       "    </tr>\n",
       "    <tr>\n",
       "      <th>5</th>\n",
       "      <td>j</td>\n",
       "      <td>3-6-12-17</td>\n",
       "      <td>m</td>\n",
       "      <td>2010-08-18</td>\n",
       "      <td>57.0</td>\n",
       "      <td>82.0</td>\n",
       "      <td>0.0</td>\n",
       "      <td>False</td>\n",
       "      <td>6.0</td>\n",
       "      <td>R outcrop ^ oak R</td>\n",
       "      <td>425</td>\n",
       "      <td>N</td>\n",
       "      <td>yes</td>\n",
       "      <td>NaN</td>\n",
       "      <td>y67c</td>\n",
       "      <td>66-10-cc</td>\n",
       "      <td>NaN</td>\n",
       "      <td>0.0</td>\n",
       "      <td>3-6-12-17</td>\n",
       "      <td>NaN</td>\n",
       "      <td>2010</td>\n",
       "      <td>1.438596</td>\n",
       "      <td>0.105263</td>\n",
       "      <td>2010-08-18</td>\n",
       "      <td>0</td>\n",
       "      <td>0.0</td>\n",
       "      <td>938</td>\n",
       "      <td>1</td>\n",
       "      <td>0</td>\n",
       "      <td>1</td>\n",
       "      <td>Aug</td>\n",
       "    </tr>\n",
       "  </tbody>\n",
       "</table>\n",
       "</div>"
      ],
      "text/plain": [
       "  species  toes_orig sex       date   svl     tl   rtl autotomized  mass  \\\n",
       "0       j  2-6-12-15   m 2010-06-19  80.0  110.0  29.0        True  20.0   \n",
       "1       j  2-6-12-15   m 2010-10-07  86.0  102.0  28.0        True  17.0   \n",
       "2       j  2-9-15-17   f 2010-08-13  56.0   77.0   0.0       False   5.5   \n",
       "4       j  3-6-15-16   f 2010-08-18  72.0   62.0  46.0        True  11.0   \n",
       "5       j  3-6-12-17   m 2010-08-18  57.0   82.0   0.0       False   6.0   \n",
       "\n",
       "                                         location meters newRecap painted  \\\n",
       "0                               10m v bottom bowl    -15        ?     yes   \n",
       "1             6m v bottoom bowl right side 4 m up    NaN        R     yes   \n",
       "2                                      20m up CCC    240        N     yes   \n",
       "4  halfway between pool and 2 falls 2m up rt side    385        N     yes   \n",
       "5                               R outcrop ^ oak R    425        N     yes   \n",
       "\n",
       "   sighting paint.mark      vial                                       misc  \\\n",
       "0       NaN        y2c  03-10-cc  toe 15 missing at capture; possible recap   \n",
       "1       NaN       y22c       NaN            loose scale on ventrum and head   \n",
       "2       NaN       y62c  61-10-cc                                        Tss   \n",
       "4       NaN       y65c  65-10-cc                                        NaN   \n",
       "5       NaN       y67c  66-10-cc                                        NaN   \n",
       "\n",
       "   rtl_orig       toes  toe_pattern  year    tl_svl  mass_svl  \\\n",
       "0      29.0  2-6-12-15          NaN  2010  1.375000  0.250000   \n",
       "1      28.0  2-6-12-15          NaN  2010  1.186047  0.197674   \n",
       "2       0.0  2-9-15-17          NaN  2010  1.375000  0.098214   \n",
       "4      46.0  3-6-15-16          NaN  2010  0.861111  0.152778   \n",
       "5       0.0  3-6-12-17          NaN  2010  1.438596  0.105263   \n",
       "\n",
       "  initialCaptureDate  year_diff  svl_diff  liznumber  sex_count  \\\n",
       "0         2010-06-19          0       0.0        893          1   \n",
       "1         2010-06-19          0       6.0        893          1   \n",
       "2         2010-08-13          0       0.0        929          1   \n",
       "4         2010-08-18          0       0.0        947          1   \n",
       "5         2010-08-18          0       0.0        938          1   \n",
       "\n",
       "   daysSinceCapture  capture month  \n",
       "0                 0        1   Jun  \n",
       "1               110        2   Oct  \n",
       "2                 0        1   Aug  \n",
       "4                 0        1   Aug  \n",
       "5                 0        1   Aug  "
      ]
     },
     "execution_count": 50,
     "metadata": {},
     "output_type": "execute_result"
    }
   ],
   "source": [
    "df=pd.read_csv(latest)\n",
    "origN = df.groupby('year').liznumber.nunique().reset_index()\n",
    "df = df.loc[df.svl>=56]\n",
    "newN = df.groupby('year').liznumber.nunique().reset_index()\n",
    "df.date=pd.to_datetime(df.date)\n",
    "df['month']=df.date.dt.month.apply(monthlit)\n",
    "df.head()"
   ]
  },
  {
   "cell_type": "code",
   "execution_count": 55,
   "metadata": {},
   "outputs": [
    {
     "data": {
      "text/html": [
       "<div>\n",
       "<style scoped>\n",
       "    .dataframe tbody tr th:only-of-type {\n",
       "        vertical-align: middle;\n",
       "    }\n",
       "\n",
       "    .dataframe tbody tr th {\n",
       "        vertical-align: top;\n",
       "    }\n",
       "\n",
       "    .dataframe thead th {\n",
       "        text-align: right;\n",
       "    }\n",
       "</style>\n",
       "<table border=\"1\" class=\"dataframe\">\n",
       "  <thead>\n",
       "    <tr style=\"text-align: right;\">\n",
       "      <th></th>\n",
       "      <th>year</th>\n",
       "      <th>adultLiz</th>\n",
       "      <th>allLiz</th>\n",
       "      <th>comp</th>\n",
       "    </tr>\n",
       "  </thead>\n",
       "  <tbody>\n",
       "    <tr>\n",
       "      <th>0</th>\n",
       "      <td>2000</td>\n",
       "      <td>124</td>\n",
       "      <td>155</td>\n",
       "      <td>31</td>\n",
       "    </tr>\n",
       "    <tr>\n",
       "      <th>1</th>\n",
       "      <td>2001</td>\n",
       "      <td>93</td>\n",
       "      <td>138</td>\n",
       "      <td>45</td>\n",
       "    </tr>\n",
       "    <tr>\n",
       "      <th>2</th>\n",
       "      <td>2002</td>\n",
       "      <td>115</td>\n",
       "      <td>221</td>\n",
       "      <td>106</td>\n",
       "    </tr>\n",
       "    <tr>\n",
       "      <th>3</th>\n",
       "      <td>2003</td>\n",
       "      <td>86</td>\n",
       "      <td>201</td>\n",
       "      <td>115</td>\n",
       "    </tr>\n",
       "    <tr>\n",
       "      <th>4</th>\n",
       "      <td>2004</td>\n",
       "      <td>69</td>\n",
       "      <td>123</td>\n",
       "      <td>54</td>\n",
       "    </tr>\n",
       "    <tr>\n",
       "      <th>5</th>\n",
       "      <td>2005</td>\n",
       "      <td>77</td>\n",
       "      <td>161</td>\n",
       "      <td>84</td>\n",
       "    </tr>\n",
       "    <tr>\n",
       "      <th>6</th>\n",
       "      <td>2006</td>\n",
       "      <td>8</td>\n",
       "      <td>11</td>\n",
       "      <td>3</td>\n",
       "    </tr>\n",
       "    <tr>\n",
       "      <th>7</th>\n",
       "      <td>2007</td>\n",
       "      <td>69</td>\n",
       "      <td>151</td>\n",
       "      <td>82</td>\n",
       "    </tr>\n",
       "    <tr>\n",
       "      <th>8</th>\n",
       "      <td>2008</td>\n",
       "      <td>75</td>\n",
       "      <td>126</td>\n",
       "      <td>51</td>\n",
       "    </tr>\n",
       "    <tr>\n",
       "      <th>9</th>\n",
       "      <td>2009</td>\n",
       "      <td>75</td>\n",
       "      <td>155</td>\n",
       "      <td>80</td>\n",
       "    </tr>\n",
       "    <tr>\n",
       "      <th>10</th>\n",
       "      <td>2010</td>\n",
       "      <td>55</td>\n",
       "      <td>83</td>\n",
       "      <td>28</td>\n",
       "    </tr>\n",
       "    <tr>\n",
       "      <th>11</th>\n",
       "      <td>2011</td>\n",
       "      <td>10</td>\n",
       "      <td>14</td>\n",
       "      <td>4</td>\n",
       "    </tr>\n",
       "    <tr>\n",
       "      <th>12</th>\n",
       "      <td>2012</td>\n",
       "      <td>60</td>\n",
       "      <td>83</td>\n",
       "      <td>23</td>\n",
       "    </tr>\n",
       "    <tr>\n",
       "      <th>13</th>\n",
       "      <td>2013</td>\n",
       "      <td>66</td>\n",
       "      <td>97</td>\n",
       "      <td>31</td>\n",
       "    </tr>\n",
       "    <tr>\n",
       "      <th>14</th>\n",
       "      <td>2014</td>\n",
       "      <td>49</td>\n",
       "      <td>78</td>\n",
       "      <td>29</td>\n",
       "    </tr>\n",
       "    <tr>\n",
       "      <th>15</th>\n",
       "      <td>2015</td>\n",
       "      <td>65</td>\n",
       "      <td>163</td>\n",
       "      <td>98</td>\n",
       "    </tr>\n",
       "    <tr>\n",
       "      <th>16</th>\n",
       "      <td>2016</td>\n",
       "      <td>71</td>\n",
       "      <td>108</td>\n",
       "      <td>37</td>\n",
       "    </tr>\n",
       "    <tr>\n",
       "      <th>17</th>\n",
       "      <td>2017</td>\n",
       "      <td>49</td>\n",
       "      <td>107</td>\n",
       "      <td>58</td>\n",
       "    </tr>\n",
       "  </tbody>\n",
       "</table>\n",
       "</div>"
      ],
      "text/plain": [
       "    year  adultLiz  allLiz  comp\n",
       "0   2000       124     155    31\n",
       "1   2001        93     138    45\n",
       "2   2002       115     221   106\n",
       "3   2003        86     201   115\n",
       "4   2004        69     123    54\n",
       "5   2005        77     161    84\n",
       "6   2006         8      11     3\n",
       "7   2007        69     151    82\n",
       "8   2008        75     126    51\n",
       "9   2009        75     155    80\n",
       "10  2010        55      83    28\n",
       "11  2011        10      14     4\n",
       "12  2012        60      83    23\n",
       "13  2013        66      97    31\n",
       "14  2014        49      78    29\n",
       "15  2015        65     163    98\n",
       "16  2016        71     108    37\n",
       "17  2017        49     107    58"
      ]
     },
     "execution_count": 55,
     "metadata": {},
     "output_type": "execute_result"
    }
   ],
   "source": [
    "compTable = newN.rename(columns = {'liznumber':'adultLiz'})\\\n",
    ".merge(origN.rename(columns = {'liznumber':'allLiz'}), on=['year'])\n",
    "compTable['comp'] = compTable.allLiz - compTable.adultLiz\n",
    "compTable"
   ]
  },
  {
   "cell_type": "markdown",
   "metadata": {},
   "source": [
    "## Analyze Data\n",
    "[Top](#Table-of-Contents)\n",
    "\n",
    "We will first examine the range and distribution of number of variables in our data set:\n",
    "- [Population Size](#Population-Size)\n",
    "- [Species Distribution](#Species-Distribution)\n",
    "- [Sex Distribution](#Sex-Distribution)\n",
    "- [Tail Condition Distribution](#Tail-Condition-Distribution)\n",
    "- [Severity of Autotomy](#Severity-of-Autotomy)\n",
    "- [Location](#Location)\n",
    "- [Morphometrics](#Morphometrics):\n",
    "    - [SVL](#SVL)\n",
    "    - [TL](#TL)\n",
    "    - [RTL](#RTL)\n",
    "    - [Mass](#Mass)\n",
    "- [Survival and Rates and Likelihood of Recapture](#Survival-and-Rates-and-Likelihood-of-Recapture)\n",
    "- [Captures](#Captures)\n",
    "- [Growth](#Growth)\n",
    "    - [SVL Growth](#SVL-Growth)\n",
    "    - [TL Growth](#TL-Growth)\n",
    "    - [RTL Growth](#RTL-Growth)\n",
    "    - [NTL Growth](#NTL-Growth)\n",
    "    - [Mass Growth](#Mass-Growth)\n",
    "We will use first captures of each lizard in a year for these analyses.\n",
    "- [Correlations to Population](#Correlations-to-Population)"
   ]
  },
  {
   "cell_type": "markdown",
   "metadata": {},
   "source": [
    "## Reducing the analyses sample by date range and capture"
   ]
  },
  {
   "cell_type": "code",
   "execution_count": 44,
   "metadata": {},
   "outputs": [
    {
     "data": {
      "text/plain": [
       "array(['v', 'other'], dtype=object)"
      ]
     },
     "execution_count": 44,
     "metadata": {},
     "output_type": "execute_result"
    }
   ],
   "source": [
    "df.loc[~(df.species=='j')].species.unique()"
   ]
  },
  {
   "cell_type": "code",
   "execution_count": 45,
   "metadata": {},
   "outputs": [
    {
     "data": {
      "text/plain": [
       "7"
      ]
     },
     "execution_count": 45,
     "metadata": {},
     "output_type": "execute_result"
    }
   ],
   "source": [
    "df.loc[~(df.sex.isin(['m','f']))].liznumber.nunique()"
   ]
  },
  {
   "cell_type": "code",
   "execution_count": 46,
   "metadata": {},
   "outputs": [
    {
     "data": {
      "text/plain": [
       "array(['m', 'f', nan], dtype=object)"
      ]
     },
     "execution_count": 46,
     "metadata": {},
     "output_type": "execute_result"
    }
   ],
   "source": [
    "sexdict= {'male':'m', 'f`':'f'}\n",
    "df.loc[df.sex.isin(sexdict.keys()),'sex'] = df.loc[df.sex.isin(sexdict.keys()),'sex'].apply(lambda x: sexdict[x])\n",
    "df.sex.unique()"
   ]
  },
  {
   "cell_type": "code",
   "execution_count": 47,
   "metadata": {},
   "outputs": [
    {
     "data": {
      "text/plain": [
       "5"
      ]
     },
     "execution_count": 47,
     "metadata": {},
     "output_type": "execute_result"
    }
   ],
   "source": [
    "df.loc[~(df.sex.isin(['m','f']))].liznumber.nunique()"
   ]
  },
  {
   "cell_type": "code",
   "execution_count": null,
   "metadata": {},
   "outputs": [],
   "source": []
  },
  {
   "cell_type": "code",
   "execution_count": null,
   "metadata": {},
   "outputs": [],
   "source": [
    "monthsExcluded = ['Oct','Dec']\n",
    "idx_exclusion = (df.month.isin(monthsExcluded))&(df.capture==1)&(df.species!='j')\n",
    "print(\"The number of individuals captured for the first time in {} is {}. \\\n",
    "These are excluded for further analyses.\".format(vocab_run(monthsExcluded,{1: None, 2: ' or ', 'run': ', '}),\n",
    "                                                df.loc[idx_exclusion].liznumber.nunique()))\n",
    "df=df.loc[~idx_exclusion]\n",
    "df=df.loc[(df.species=='j')& (df.sex.isin(['m','f']))]"
   ]
  },
  {
   "cell_type": "markdown",
   "metadata": {},
   "source": [
    "Here we create datasets including only the first or last sighting in each year for a given animal."
   ]
  },
  {
   "cell_type": "code",
   "execution_count": null,
   "metadata": {},
   "outputs": [],
   "source": [
    "df_lastInYear = df.loc[~df.duplicated(subset=['liznumber','year'],keep='last')]\n",
    "df_firstInYear = df.loc[~df.duplicated(subset=['liznumber','year'])]"
   ]
  },
  {
   "cell_type": "markdown",
   "metadata": {},
   "source": [
    "### Population Size\n",
    "\n",
    "We will begin by examining the range and distribution of individuals in the population.\n",
    "\n",
    "[Back to Top](#Table-of-Contents)\n",
    "\n",
    "[Back to Analyze Data](#Analyze-Data)"
   ]
  },
  {
   "cell_type": "markdown",
   "metadata": {},
   "source": [
    "Add a column of counts of lizards weighted by the person-hours for the year, or provide argument based on asymptote analysis that we captured all lizards in the site."
   ]
  },
  {
   "cell_type": "code",
   "execution_count": null,
   "metadata": {
    "scrolled": true
   },
   "outputs": [],
   "source": [
    "populationSize = df_firstInYear.groupby(['year']).liznumber.nunique().reset_index()\n",
    "populationSize['percChange'] = -(1-populationSize.liznumber/populationSize.liznumber.shift())\n",
    "populationSize"
   ]
  },
  {
   "cell_type": "markdown",
   "metadata": {},
   "source": [
    " For some reason the first trace dissappears after I add the second one.  Need to fix this"
   ]
  },
  {
   "cell_type": "code",
   "execution_count": null,
   "metadata": {
    "scrolled": false
   },
   "outputs": [],
   "source": [
    "popSize = go.Scatter(x = populationSize.year\n",
    "           , y = populationSize.liznumber\n",
    "          ,name = 'population size')\n",
    "percentChange = go.Scatter(x = populationSize.year\n",
    "           , yaxis = 'y2', y = populationSize.percChange\n",
    "          ,name = 'percent change')\n",
    "data = [popSize]#,percentChange]\n",
    "layout = go.Layout(\n",
    "    title = 'Population Size for Sceloporus jarrovii 2000-2017',\n",
    "    titlefont = dict(\n",
    "        size = 20),\n",
    "    xaxis = dict(\n",
    "        dtick = 1,\n",
    "        title = 'Year',\n",
    "        titlefont = dict(\n",
    "            size = 18),\n",
    "        range = [1999.5,2017.5]),\n",
    "    yaxis = dict(\n",
    "        title = 'Number of Lizards',\n",
    "        titlefont = dict(\n",
    "            size = 18),\n",
    "        rangemode = 'tozero'\n",
    "        ),\n",
    "    yaxis2 = dict(\n",
    "        title = 'Number of Lizards',\n",
    "        titlefont = dict(\n",
    "            size = 18),\n",
    "        rangemode = 'tozero',\n",
    "        side = 'right'\n",
    "        )\n",
    ")\n",
    "fig = go.Figure(\n",
    "        data = data,\n",
    "        layout = layout)\n",
    "#plot(fig, filename = 'Population Size for Sceloporus jarrovii.html')\n",
    "iplot(fig, filename = 'Population Size for Sceloporus jarrovii.html')\n",
    "# pio.to_image(fig, format='html')"
   ]
  },
  {
   "cell_type": "markdown",
   "metadata": {},
   "source": [
    "We see a large decline in the <i>S. jarrovii</i> population size."
   ]
  },
  {
   "cell_type": "code",
   "execution_count": null,
   "metadata": {},
   "outputs": [],
   "source": [
    "description(populationSize,'liznumber')"
   ]
  },
  {
   "cell_type": "markdown",
   "metadata": {},
   "source": [
    "[Back to Top](#Table-of-Contents)\n",
    "\n",
    "[Back to Analyze Data](#Analyze-Data)"
   ]
  },
  {
   "cell_type": "markdown",
   "metadata": {},
   "source": [
    "### Sex Distribution\n",
    "\n",
    "We will begin by examining the range and distribution of _sex_ values.\n",
    "\n",
    "[Back to Top](#Table-of-Contents)\n",
    "\n",
    "[Back to Analyze Data](#Analyze-Data)"
   ]
  },
  {
   "cell_type": "markdown",
   "metadata": {},
   "source": [
    "Maybe aymptote analysis should be extended to examine asymptote by demographic factors as well."
   ]
  },
  {
   "cell_type": "code",
   "execution_count": null,
   "metadata": {},
   "outputs": [],
   "source": [
    "populationSize_sex = df_firstInYear.groupby(['year','sex']).liznumber.nunique().reset_index()\\\n",
    ".merge(df_firstInYear.groupby(['year']).liznumber.nunique().reset_index()\\\n",
    "       .rename(columns={'liznumber':'liznumberYear'}),\n",
    "       on=['year'])\n",
    "populationSize_sex\\\n",
    ".loc[populationSize_sex.sex=='m','propMale'] = populationSize_sex\\\n",
    ".loc[populationSize_sex.sex=='m'].liznumber/populationSize_sex\\\n",
    ".loc[populationSize_sex.sex=='m'].liznumberYear\n",
    "populationSize_sex\\\n",
    ".loc[populationSize_sex.sex=='f','propFemale'] = (populationSize_sex\\\n",
    ".loc[populationSize_sex.sex=='f'].liznumber/populationSize_sex\\\n",
    ".loc[populationSize_sex.sex=='f'].liznumberYear)\n",
    "populationSize_sex.to_csv(device['output']+'population size 56 mm plus.csv',index = False)\n",
    "populationSize_sex"
   ]
  },
  {
   "cell_type": "code",
   "execution_count": null,
   "metadata": {
    "scrolled": false
   },
   "outputs": [],
   "source": [
    "Sjarrovii = go.Scatter(x = populationSize_sex.loc[(populationSize_sex.propMale.notna())].year\n",
    "           , y = populationSize_sex.loc[(populationSize_sex.propMale.notna())].propMale\n",
    "          ,name = '<i>S. jarrovii</i>')\n",
    "data = [Sjarrovii]\n",
    "layout = go.Layout(\n",
    "    title = 'Proportion of Males by Year for <i>Sceloporus jarrovii</i> 2000-2017',\n",
    "    titlefont = dict(\n",
    "        size = 20),\n",
    "    xaxis = dict(\n",
    "        dtick = 1,\n",
    "        title = 'Year',\n",
    "        titlefont = dict(\n",
    "            size = 18),\n",
    "        range = [1999.5,2017.5]),\n",
    "    yaxis = dict(\n",
    "        tickformat = \".2%\",\n",
    "        title = 'Percentage of Males',\n",
    "        titlefont = dict(\n",
    "            size = 18),\n",
    "    range = [0,1])\n",
    "    \n",
    ")\n",
    "fig = go.Figure(\n",
    "        data = data,\n",
    "        layout = layout)\n",
    "# plot(fig, filename = 'Proportion of Males by Species and Year for Sceloporus jarrovii 2000-2017.html')\n",
    "iplot(fig, filename = 'Proportion of Males by Species and Year for Sceloporus jarrovii 2000-2017.html')"
   ]
  },
  {
   "cell_type": "code",
   "execution_count": null,
   "metadata": {},
   "outputs": [],
   "source": [
    "description(populationSize_sex,'propMale',True)[['mean','std','min','25%','50%','75%','max','siqr']]"
   ]
  },
  {
   "cell_type": "markdown",
   "metadata": {},
   "source": [
    "[Back to Top](#Table-of-Contents)\n",
    "\n",
    "[Back to Analyze Data](#Analyze-Data)"
   ]
  },
  {
   "cell_type": "markdown",
   "metadata": {},
   "source": [
    "To be Done\n",
    "\n",
    "There is not much variation in the sex ratio in the population here, suggesting that these drops do not differentially  impact males or females overall.  We should confirm that there isn't a difference in particular age/size groups.  Such a difference might be explained by developmental or social changes which leave certain groups more vulnerable than others."
   ]
  },
  {
   "cell_type": "markdown",
   "metadata": {},
   "source": [
    "### Tail Condition Distribution\n",
    "\n",
    "Here we look at the proportion of individuals in our data who have experienced autotomy.\n",
    "\n",
    "[Back to Top](#Table-of-Contents)\n",
    "\n",
    "[Back to Analyze Data](#Analyze-Data)"
   ]
  },
  {
   "cell_type": "code",
   "execution_count": null,
   "metadata": {},
   "outputs": [],
   "source": [
    "populationSize_aut = df_firstInYear.groupby(['year','autotomized']).liznumber.nunique()\\\n",
    ".reset_index()\\\n",
    ".merge(df_firstInYear.groupby(['year']).liznumber.nunique().reset_index()\\\n",
    "       .rename(columns={'liznumber':'liznumberYear'})\n",
    "       ,on=['year'])\n",
    "populationSize_aut\\\n",
    ".loc[populationSize_aut.autotomized,'propAutotomized'] = populationSize_aut\\\n",
    ".loc[populationSize_aut.autotomized].liznumber/populationSize_aut\\\n",
    ".loc[populationSize_aut.autotomized].liznumberYear\n",
    "populationSize_aut\\\n",
    ".loc[~populationSize_aut.autotomized,'propIntact'] = (populationSize_aut\\\n",
    ".loc[~populationSize_aut.autotomized].liznumber/populationSize_aut\\\n",
    ".loc[~populationSize_aut.autotomized].liznumberYear)\n",
    "populationSize_aut"
   ]
  },
  {
   "cell_type": "code",
   "execution_count": null,
   "metadata": {
    "scrolled": false
   },
   "outputs": [],
   "source": [
    "Sjarrovii = go.Scatter(x = populationSize_aut.loc[(populationSize_aut.propAutotomized.notna())].year\n",
    "           , y = populationSize_aut.loc[(populationSize_aut.propAutotomized.notna())].propAutotomized\n",
    "          ,name = 'Autotomized <i>S. jarrovii</i>')\n",
    "\n",
    "\n",
    "\n",
    "data = [Sjarrovii]\n",
    "layout = go.Layout(\n",
    "    title = 'Proportion Autotomized by Year for <i>Sceloporus jarrovii</i> 2000-2017',\n",
    "    titlefont = dict(\n",
    "        size = 20),\n",
    "    xaxis = dict(\n",
    "        dtick = 1,\n",
    "        title = 'Year',\n",
    "        titlefont = dict(\n",
    "            size = 18),\n",
    "        range = [1999.5,2017.5]),\n",
    "    yaxis = dict(\n",
    "        tickformat=\".2%\",\n",
    "        title = 'Proportion of Autotomized Lizards',\n",
    "        titlefont = dict(\n",
    "            size = 18),\n",
    "    range=[0,1])\n",
    ")\n",
    "fig = go.Figure(\n",
    "        data = data,\n",
    "        layout = layout)\n",
    "iplot(fig, filename = 'Proportion Autotomized by Year for Sceloporus jarrovii 2000-2017.html')\n",
    "# plot(fig, filename = 'Proportion Autotomized by Year for Sceloporus jarrovii 2000-2017.html')"
   ]
  },
  {
   "cell_type": "code",
   "execution_count": null,
   "metadata": {
    "scrolled": false
   },
   "outputs": [],
   "source": [
    "description(populationSize_aut, 'propAutotomized',True)[['mean','std','min','25%','50%','75%','max','siqr']]"
   ]
  },
  {
   "cell_type": "markdown",
   "metadata": {},
   "source": [
    "Proportion of _S. jarrovii_ with evidence of autotomy is also oscillates over the years.  \n",
    "To be done:\n",
    "- does this track with oscillations in the population?"
   ]
  },
  {
   "cell_type": "markdown",
   "metadata": {},
   "source": [
    "### Severity of Autotomy\n",
    "Here we will regress SVL and sex on TL for intact _S. jarrovii_ to estimate what the TL would have been had an animal not autotomized.\n",
    "\n",
    "[Back to Top](#Table-of-Contents)\n",
    "\n",
    "[Back to Analyze Data](#Analyze-Data)"
   ]
  },
  {
   "cell_type": "code",
   "execution_count": null,
   "metadata": {},
   "outputs": [],
   "source": [
    "dfPred = df_firstInYear[['liznumber','svl','sex','tl','autotomized','year']]"
   ]
  },
  {
   "cell_type": "code",
   "execution_count": null,
   "metadata": {},
   "outputs": [],
   "source": [
    "dfPred['tl_svl'] = dfPred.tl/dfPred.svl"
   ]
  },
  {
   "cell_type": "code",
   "execution_count": null,
   "metadata": {},
   "outputs": [],
   "source": [
    "intactRatio = go.Box(y=dfPred.loc[dfPred.autotomized==False].tl_svl, name = 'Intact')\n",
    "autotomizedRatio = go.Box(y=dfPred.loc[dfPred.autotomized].tl_svl, name = 'Autotmized')\n",
    "data = [autotomizedRatio, intactRatio]\n",
    "layout = go.Layout(\n",
    "    title = 'Box Plot of TL/SVL Ratio by Autotomy Status for <i>Sceloporus jarrovii<i/> CC 2000-2017',\n",
    "    titlefont = dict(\n",
    "        size = 20),\n",
    "    xaxis = dict(\n",
    "        dtick = 1,\n",
    "        title = 'Autotomy Status',\n",
    "        titlefont = dict(\n",
    "            size = 18)),\n",
    "    yaxis = dict(\n",
    "        title = 'TL/SVL Ratio',\n",
    "        titlefont = dict(\n",
    "            size = 18))\n",
    ")\n",
    "\n",
    "fig = go.Figure(\n",
    "        data = data,\n",
    "        layout = layout)\n",
    "\n",
    "iplot(fig, filename = 'Box Plot of TL/SVL Ratio by Autotomy Status for <i>Sceloporus jarrovii<i/> CC 2000-2017.html')\n",
    "# plot(fig, filename = 'Box Plot of TL/SVL Ratio by Autotomy Status for <i>Sceloporus jarrovii<i/> CC 2000-2017.html')"
   ]
  },
  {
   "cell_type": "markdown",
   "metadata": {},
   "source": [
    "We will identify the _Sceloporus jarrovii_ with a tl/svl ratio outside of the center 95%.  To do this, we create a boolean column _extremeRatio_ individuals with tl/svl ratios outside of the center 95% have a value of **True** in this column.  We only use individuals without extreme ratios to model tl and svl."
   ]
  },
  {
   "cell_type": "code",
   "execution_count": null,
   "metadata": {},
   "outputs": [],
   "source": [
    "print(dfPred.loc[dfPred.autotomized==False].tl_svl.describe())\n",
    "dfPred.loc[(dfPred.autotomized==False)&\n",
    "                   (dfPred.tl_svl>=dfPred.tl_svl.quantile(.025))&\n",
    "                   (dfPred.tl_svl<=dfPred.tl_svl.quantile(.925)),'extremeRatio']= False\n",
    "dfPred.loc[(dfPred.autotomized==False)&\n",
    "                   (dfPred.tl_svl<dfPred.tl_svl.quantile(.025))|\n",
    "                   (dfPred.tl_svl>dfPred.tl_svl.quantile(.925)),'extremeRatio']= True\n",
    "dfPred.loc[dfPred.extremeRatio.isna()].autotomized.value_counts(dropna=False)\n"
   ]
  },
  {
   "cell_type": "code",
   "execution_count": null,
   "metadata": {},
   "outputs": [],
   "source": [
    "sjM = pg.linear_regression(dfPred.loc[(dfPred.extremeRatio==False)&(dfPred.sex=='m')].svl,\n",
    "                     dfPred.loc[(dfPred.extremeRatio==False)&(dfPred.sex=='m')].tl,\n",
    "                     remove_na=True)\n",
    "sjM"
   ]
  },
  {
   "cell_type": "code",
   "execution_count": null,
   "metadata": {},
   "outputs": [],
   "source": [
    "sjF = pg.linear_regression(dfPred.loc[(dfPred.extremeRatio==False)&(dfPred.sex=='f')].svl,\n",
    "                     dfPred.loc[(dfPred.extremeRatio==False)&(dfPred.sex=='f')].tl,\n",
    "                     remove_na=True)\n",
    "sjF"
   ]
  },
  {
   "cell_type": "markdown",
   "metadata": {},
   "source": [
    "SVL and sex are sufficient to predict TL in males."
   ]
  },
  {
   "cell_type": "code",
   "execution_count": null,
   "metadata": {},
   "outputs": [],
   "source": [
    "femaleIntercept = [thing for thing in sjF.loc[sjF.names=='Intercept','coef']][0]\n",
    "maleIntercept = [thing for thing in sjM.loc[sjM.names=='Intercept','coef']][0]\n",
    "femaleSvl = [thing for thing in sjF.loc[sjF.names=='svl','coef']][0]\n",
    "maleSvl = [thing for thing in sjM.loc[sjM.names=='svl','coef']][0]\n",
    "\n",
    "print(femaleIntercept,maleIntercept,femaleSvl,maleSvl)"
   ]
  },
  {
   "cell_type": "code",
   "execution_count": null,
   "metadata": {},
   "outputs": [],
   "source": [
    "dfPred.loc[dfPred.sex=='f','tlPred'] = dfPred.loc[dfPred.sex=='f'].svl*femaleSvl+femaleIntercept\n",
    "dfPred.loc[dfPred.sex=='m','tlPred'] = dfPred.loc[dfPred.sex=='m'].svl*maleSvl+maleIntercept\n",
    "dfPred['diff'] = dfPred.tlPred - dfPred.tl\n",
    "dfPred['propDiff'] = dfPred['diff']/dfPred.tlPred"
   ]
  },
  {
   "cell_type": "code",
   "execution_count": null,
   "metadata": {},
   "outputs": [],
   "source": [
    "dfPred.groupby(['autotomized','sex']).diff.describe()"
   ]
  },
  {
   "cell_type": "code",
   "execution_count": null,
   "metadata": {},
   "outputs": [],
   "source": [
    "male = go.Scatter(x=dfPred.loc[(dfPred.extremeRatio==False)&(dfPred.sex=='m')].sort_values('svl')['svl'],\n",
    "          y=dfPred.loc[(dfPred.extremeRatio==False)&(dfPred.sex=='m')].sort_values('svl')['tl'],\n",
    "                  name = 'Male',mode='markers',marker=dict(size=5,opacity=0.8))\n",
    "female = go.Scatter(x=dfPred.loc[(dfPred.extremeRatio==False)&(dfPred.sex=='f')].sort_values('svl')['svl'],\n",
    "          y=dfPred.loc[(dfPred.extremeRatio==False)&(dfPred.sex=='f')].sort_values('svl')['tl'],\n",
    "                    name = 'Female',mode='markers',marker=dict(size=5,opacity=0.8))\n",
    "All = go.Scatter(x=dfPred.loc[(dfPred.extremeRatio==False)].sort_values('svl')['svl'],\n",
    "          y=dfPred.loc[(dfPred.extremeRatio==False)].sort_values('svl')['tl'],\n",
    "                    name = 'All',mode='markers',marker=dict(size=20,opacity=0.5,line=dict(width=2)))\n",
    "maleOut = go.Scatter(x=dfPred.loc[(dfPred.extremeRatio!=False)&(dfPred.sex=='m')].sort_values('svl')['svl'],\n",
    "          y=dfPred.loc[(dfPred.extremeRatio!=False)&(dfPred.sex=='m')].sort_values('svl')['tl'],\n",
    "                  name = 'Male Extreme',mode='markers',marker=dict(size=5,opacity=0.8))\n",
    "femaleOut = go.Scatter(x=dfPred.loc[(dfPred.extremeRatio!=False)&(dfPred.sex=='f')].sort_values('svl')['svl'],\n",
    "          y=dfPred.loc[(dfPred.extremeRatio!=False)&(dfPred.sex=='f')].sort_values('svl')['tl'],\n",
    "                    name = 'Female Extreme',mode='markers',marker=dict(size=5,opacity=0.8))\n",
    "AllOut = go.Scatter(x=dfPred.loc[(dfPred.extremeRatio!=False)].sort_values('svl')['svl'],\n",
    "          y=dfPred.loc[(dfPred.extremeRatio!=False)].sort_values('svl')['tl'],\n",
    "                    name = 'All Extreme',mode='markers',marker=dict(size=20,opacity=0.5,line=dict(width=2)))\n",
    "\n",
    "data = [All,male,female,AllOut,maleOut,femaleOut]\n",
    "layout = go.Layout(\n",
    "    title = 'Scatter Plot of SVL vs TL for Intact <i>Sceloporus jarrovii</i> CC 2000-2017',\n",
    "    titlefont = dict(\n",
    "        size = 20),\n",
    "    xaxis = dict(\n",
    "        tickangle=45,\n",
    "        dtick = 1,\n",
    "        title = 'SVL (mm)',\n",
    "        titlefont = dict(\n",
    "            size = 18)),\n",
    "    yaxis = dict(\n",
    "        title = 'TL (mm)',\n",
    "#         tickformat = \".0%\",\n",
    "        titlefont = dict(\n",
    "            size = 18))\n",
    ")\n",
    "\n",
    "fig = go.Figure(\n",
    "        data = data,\n",
    "        layout = layout)\n",
    "# fig.update_xaxes(range=[0,dfPred.loc[(dfPred.autotomized==False)]['count'].describe()['max']+1])\n",
    "# fig.update_yaxes(range=[0,1])\n",
    "\n",
    "iplot(fig, filename = 'Scatter Plot of SVL vs TL for Intact Sceloporus jarrovii CC 2000-2017.html')\n",
    "# plot(fig, filename = 'Scatter Plot of SVL vs TL for Intact Sceloporus jarrovii CC 2000-2017.html')"
   ]
  },
  {
   "cell_type": "code",
   "execution_count": null,
   "metadata": {},
   "outputs": [],
   "source": [
    "dfPred.loc[((dfPred.autotomized==False)&(dfPred.extremeRatio==False))|\n",
    "          (dfPred.autotomized==True)].groupby(['autotomized','sex']).propDiff.describe()"
   ]
  },
  {
   "cell_type": "code",
   "execution_count": null,
   "metadata": {
    "scrolled": true
   },
   "outputs": [],
   "source": [
    "dfPred.loc[((dfPred.autotomized==False)&(dfPred.extremeRatio==False))|\n",
    "          (dfPred.autotomized==True)].groupby(['year','autotomized'])\\\n",
    ".propDiff.describe()[['count','50%']].reset_index()"
   ]
  },
  {
   "cell_type": "code",
   "execution_count": null,
   "metadata": {
    "scrolled": true
   },
   "outputs": [],
   "source": [
    "dfYearlyEst = dfPred.loc[((dfPred.autotomized==False)&(dfPred.extremeRatio==False))|\n",
    "          (dfPred.autotomized==True)].groupby(['year','autotomized','sex'])\\\n",
    ".propDiff.describe()[['count','50%']].reset_index(drop=False).merge(dfPred.loc[((dfPred.autotomized==False)&(dfPred.extremeRatio==False))|\n",
    "          (dfPred.autotomized==True)].groupby(['year','autotomized'])\\\n",
    ".propDiff.describe()[['count','50%']].reset_index().rename(columns = {'count':'count_all',\n",
    "                                                                      '50%':'50%_all'}),\n",
    "                                                                    how = 'left',\n",
    "                                                                    on =['year','autotomized'])\n",
    "dfYearlyEst.loc[dfYearlyEst.autotomized]"
   ]
  },
  {
   "cell_type": "code",
   "execution_count": null,
   "metadata": {
    "scrolled": false
   },
   "outputs": [],
   "source": [
    "male = go.Scatter(x=dfYearlyEst.loc[(dfYearlyEst.autotomized)&(dfYearlyEst.sex=='m')].sort_values('count_all')['count'],\n",
    "          y=dfYearlyEst.loc[(dfYearlyEst.autotomized)&(dfYearlyEst.sex=='m')].sort_values('count_all')['50%'],\n",
    "                  name = 'Male',mode='markers')\n",
    "female = go.Scatter(x=dfYearlyEst.loc[(dfYearlyEst.autotomized)&(dfYearlyEst.sex=='f')].sort_values('count_all')['count'],\n",
    "          y=dfYearlyEst.loc[(dfYearlyEst.autotomized)&(dfYearlyEst.sex=='f')].sort_values('count_all')['50%'],\n",
    "                  name = 'Female',mode='markers')\n",
    "All = go.Scatter(x=dfYearlyEst.loc[(dfYearlyEst.autotomized)].sort_values('count_all')['count_all'],\n",
    "          y=dfYearlyEst.loc[(dfYearlyEst.autotomized)].sort_values('count_all')['50%_all'],\n",
    "                    name = 'All',mode='markers',marker=dict(size=20,opacity=0.5,line=dict(width=2)))\n",
    "medianAll = go.Scatter(x=[0,dfYearlyEst.loc[(dfYearlyEst.autotomized)]['count_all'].describe()['max']+1],\n",
    "                      y=[dfYearlyEst.loc[(dfYearlyEst.autotomized)]['50%_all'].median(),\n",
    "                        dfYearlyEst.loc[(dfYearlyEst.autotomized)]['50%_all'].median()],\n",
    "                         name='medianAll',mode='lines')\n",
    "data = [All,male,female,medianAll]\n",
    "layout = go.Layout(\n",
    "    title = 'Scatter Plot of Population Size vs Median Proportion of Tail Loss for CC 2000-2017',\n",
    "    titlefont = dict(\n",
    "        size = 20),\n",
    "    xaxis = dict(\n",
    "        dtick = 1,\n",
    "        title = 'Population Size',\n",
    "        titlefont = dict(\n",
    "            size = 18)),\n",
    "    yaxis = dict(\n",
    "        title = 'Median Proportion of Tail Lost',\n",
    "        tickformat = \".0%\",\n",
    "        titlefont = dict(\n",
    "            size = 18)),\n",
    "    boxmode= 'group')\n",
    "\n",
    "fig = go.Figure(\n",
    "        data = data,\n",
    "        layout = layout)\n",
    "fig.update_xaxes(range=[0,dfYearlyEst.loc[(dfYearlyEst.autotomized)]['count_all'].describe()['max']+1])\n",
    "fig.update_yaxes(range=[0,1])\n",
    "\n",
    "iplot(fig, filename = 'Scatter Plot of Population Size vs Median Proportion of Tail Loss for CC 2000-2017.html')\n",
    "# plot(fig, filename = 'Scatter Plot of Population Size vs Median Proportion of Tail Loss for CC 2000-2017.html')"
   ]
  },
  {
   "cell_type": "code",
   "execution_count": null,
   "metadata": {
    "scrolled": false
   },
   "outputs": [],
   "source": [
    "male = go.Scatter(x=dfYearlyEst.loc[(dfYearlyEst.autotomized)&(dfYearlyEst.sex=='m')]['year'],\n",
    "          y=dfYearlyEst.loc[(dfYearlyEst.autotomized)&(dfYearlyEst.sex=='m')]['50%'],\n",
    "                  name = 'Male',mode='markers')\n",
    "female = go.Scatter(x=dfYearlyEst.loc[(dfYearlyEst.autotomized)&(dfYearlyEst.sex=='f')]['year'],\n",
    "          y=dfYearlyEst.loc[(dfYearlyEst.autotomized)&(dfYearlyEst.sex=='f')]['50%'],\n",
    "                  name = 'Female',mode='markers')\n",
    "All = go.Scatter(x=dfYearlyEst.loc[(dfYearlyEst.autotomized)]['year'],\n",
    "          y=dfYearlyEst.loc[(dfYearlyEst.autotomized)]['50%_all'],\n",
    "                    name = 'All',mode='lines',marker=dict(size=20,opacity=0.5,line=dict(width=2)))\n",
    "medianAll = go.Scatter(x=[dfYearlyEst.loc[(dfYearlyEst.autotomized)]['year'].describe()['min'],\n",
    "                          dfYearlyEst.loc[(dfYearlyEst.autotomized)]['year'].describe()['max']],\n",
    "                      y=[dfYearlyEst.loc[(dfYearlyEst.autotomized)]['50%_all'].median(),\n",
    "                        dfYearlyEst.loc[(dfYearlyEst.autotomized)]['50%_all'].median()],\n",
    "                         name='medianAll',mode='lines')\n",
    "data = [All,male,female,medianAll]\n",
    "layout = go.Layout(\n",
    "    title = 'Scatter Plot of Median Proportion of Tail Loss for CC 2000-2017 by Year',\n",
    "    titlefont = dict(\n",
    "        size = 20),\n",
    "    xaxis = dict(\n",
    "        dtick = 1,\n",
    "        title = 'Year',\n",
    "        titlefont = dict(\n",
    "            size = 18)),\n",
    "    yaxis = dict(\n",
    "        title = 'Median Proportion of Tail Lost',\n",
    "        tickformat = \".0%\",\n",
    "        titlefont = dict(\n",
    "            size = 18)),\n",
    "    boxmode= 'group')\n",
    "\n",
    "fig = go.Figure(\n",
    "        data = data,\n",
    "        layout = layout)\n",
    "# fig.update_xaxes(range=[0,dfYearlyEst.loc[(dfYearlyEst.autotomized)]['count_all'].describe()['max']+1])\n",
    "# fig.update_yaxes(range=[0,1])\n",
    "\n",
    "iplot(fig, filename = 'Scatter Plot of Median Proportion of Tail Loss for CC 2000-2017 by Year.html')\n",
    "# plot(fig, filename = 'Scatter Plot of Median Proportion of Tail Loss for CC 2000-2017 by Year.html')"
   ]
  },
  {
   "cell_type": "markdown",
   "metadata": {},
   "source": [
    "To be done:\n",
    "\n",
    "- for each sex and all, regress prop tl on relevant count \n",
    "- add these lines to plots with CI\n",
    "- report on stat (what does this tell us?)"
   ]
  },
  {
   "cell_type": "markdown",
   "metadata": {},
   "source": [
    "# resume\n",
    "[TOC](#Table-of-Contents)"
   ]
  },
  {
   "cell_type": "code",
   "execution_count": null,
   "metadata": {
    "scrolled": true
   },
   "outputs": [],
   "source": [
    "male = go.Box(y=dfYearlyEst.loc[(dfYearlyEst.autotomized)&(dfYearlyEst.sex=='m')]['50%'],\n",
    "                  name = 'Male (n = {:.0f})'\\\n",
    "              .format(dfYearlyEst.loc[(dfYearlyEst.autotomized)&(dfYearlyEst.sex=='m')]['count'].sum()))\n",
    "female = go.Box(y=dfYearlyEst.loc[(dfYearlyEst.autotomized)&(dfYearlyEst.sex=='f')]['50%'],\n",
    "                    name = 'Female (n = {:.0f})'\\\n",
    "              .format(dfYearlyEst.loc[(dfYearlyEst.autotomized)&(dfYearlyEst.sex=='f')]['count'].sum()))\n",
    "All = go.Box(y=dfYearlyEst.loc[(dfYearlyEst.autotomized)]['50%'],\n",
    "                    name = 'All (n = {:.0f})'\\\n",
    "              .format(dfYearlyEst.loc[(dfYearlyEst.autotomized)]['count'].sum()))\n",
    "data = [All,male,female,]\n",
    "layout = go.Layout(\n",
    "    title = 'Boxplot Median Proportion of Tail Loss for CC 2000-2017',\n",
    "    titlefont = dict(\n",
    "        size = 20),\n",
    "    xaxis = dict(\n",
    "        dtick = 1,\n",
    "        title = 'Population Size',\n",
    "        titlefont = dict(\n",
    "            size = 18)),\n",
    "    yaxis = dict(\n",
    "        title = 'Median Proportion of Tail Lost',\n",
    "        tickformat = \".0%\",\n",
    "        titlefont = dict(\n",
    "            size = 18)))\n",
    "\n",
    "fig = go.Figure(\n",
    "        data = data,\n",
    "        layout = layout)\n",
    "iplot(fig, filename = 'Boxplot Median Proportion of Tail Loss for CC 2000-2017.html')\n",
    "# plot(fig, filename = 'Boxplot Median Proportion of Tail Loss for CC 2000-2017.html')"
   ]
  },
  {
   "cell_type": "code",
   "execution_count": null,
   "metadata": {},
   "outputs": [],
   "source": [
    "dfPred.loc[(dfPred.autotomized==True)].groupby('sex').propDiff.describe()"
   ]
  },
  {
   "cell_type": "code",
   "execution_count": null,
   "metadata": {},
   "outputs": [],
   "source": [
    "female = go.Box(x=dfPred.loc[(dfPred.autotomized==True)&(dfPred.sex=='f')]['year'], \n",
    "                y = dfPred.loc[(dfPred.autotomized==True)&(dfPred.sex=='f')].propDiff\n",
    "                      ,name='Females')\n",
    "male = go.Box(x=dfPred.loc[(dfPred.autotomized==True)&(dfPred.sex=='m')]['year'], \n",
    "              y = dfPred.loc[(dfPred.autotomized==True)&(dfPred.sex=='m')].propDiff\n",
    "                    ,name='Males')\n",
    "All = go.Box(x=dfPred.loc[(dfPred.autotomized==True)]['year'], \n",
    "              y = dfPred.loc[(dfPred.autotomized==True)].propDiff\n",
    "                    ,name='All')\n",
    "data = [All,male,female]\n",
    "layout = go.Layout(\n",
    "    title = 'Box Plot of Tail Lost at Capture for <i>Sceloporus jarrovii</i> by Year',\n",
    "    titlefont = dict(\n",
    "        size = 20),\n",
    "    xaxis = dict(\n",
    "        dtick = 1,\n",
    "        title = 'Year',\n",
    "        titlefont = dict(\n",
    "            size = 18)),\n",
    "    yaxis = dict(\n",
    "        title = 'propDiff',\n",
    "        tickformat = \".0%\",\n",
    "        titlefont = dict(\n",
    "            size = 18)),\n",
    "    boxmode= 'group')\n",
    "\n",
    "fig = go.Figure(\n",
    "        data = data,\n",
    "        layout = layout)\n",
    "iplot(fig, filename = 'Box Plot of TL/SVL Sceloporus jarrovii by Year.html')\n",
    "# plot(fig, filename = 'Box Plot of TL/SVL Sceloporus jarrovii by Year.html')"
   ]
  },
  {
   "cell_type": "code",
   "execution_count": null,
   "metadata": {},
   "outputs": [],
   "source": [
    "female = go.Box(x=dfPred.loc[(dfPred.autotomized==True)&(dfPred.sex=='f')]['year'], \n",
    "                y = dfPred.loc[(dfPred.autotomized==True)&(dfPred.sex=='f')].propDiff\n",
    "                      ,name='Females')\n",
    "male = go.Box(x=dfPred.loc[(dfPred.autotomized==True)&(dfPred.sex=='m')]['year'], \n",
    "              y = dfPred.loc[(dfPred.autotomized==True)&(dfPred.sex=='m')].propDiff\n",
    "                    ,name='Males')\n",
    "All = go.Box(x=dfPred.loc[(dfPred.autotomized==True)]['year'], \n",
    "              y = dfPred.loc[(dfPred.autotomized==True)].propDiff\n",
    "                    ,name='All')\n",
    "data = [All,male,female]\n",
    "layout = go.Layout(\n",
    "    title = 'Box Plot of Tail Lost at Capture for <i>Sceloporus jarrovii</i> by Year',\n",
    "    titlefont = dict(\n",
    "        size = 20),\n",
    "    xaxis = dict(\n",
    "        dtick = 1,\n",
    "        title = 'Year',\n",
    "        titlefont = dict(\n",
    "            size = 18)),\n",
    "    yaxis = dict(\n",
    "        title = 'propDiff',\n",
    "        tickformat = \".0%\",\n",
    "        titlefont = dict(\n",
    "            size = 18)),\n",
    "    boxmode= 'group')\n",
    "\n",
    "fig = go.Figure(\n",
    "        data = data,\n",
    "        layout = layout)\n",
    "iplot(fig, filename = 'Box Plot of TL/SVL Sceloporus jarrovii by Year.html')\n",
    "# plot(fig, filename = 'Box Plot of TL/SVL Sceloporus jarrovii by Year.html')"
   ]
  },
  {
   "cell_type": "markdown",
   "metadata": {},
   "source": [
    "[Back to Top](#Table-of-Contents)\n",
    "\n",
    "[Back to Analyze Data](#Analyze-Data)"
   ]
  },
  {
   "cell_type": "markdown",
   "metadata": {},
   "source": [
    "### Morphometrics\n",
    "\n",
    "In this section we describe the distributions of various morphometrics.\n",
    "\n",
    "- [SVL](#SVL)\n",
    "- [TL](#TL)\n",
    "- [RTL](#RTL)\n",
    "- [Mass](#SVL)\n",
    "\n",
    "[Back to Top](#Table-of-Contents)\n",
    "\n",
    "[Back to Analyze Data](#Analyze-Data)"
   ]
  },
  {
   "cell_type": "markdown",
   "metadata": {},
   "source": [
    "#### SVL\n",
    "\n",
    "Now we examine the range and distribution of svl values by species.\n",
    "\n",
    "[Back to Morphometrics](#Morphometrics)\n"
   ]
  },
  {
   "cell_type": "markdown",
   "metadata": {},
   "source": [
    "We will use the [distribution](#distribution) function to do this and then plot these values.\n",
    "\n",
    "- [Histogram of SVL](#SVLhist)"
   ]
  },
  {
   "cell_type": "code",
   "execution_count": null,
   "metadata": {
    "scrolled": true
   },
   "outputs": [],
   "source": [
    "print(\"svl values in the data set range from {} to {} for and are distributed across sex \\\n",
    "as displayed here:\"\\\n",
    "      .format(df_firstInYear.svl.min(), df_firstInYear.svl.max()))\n",
    "description(df_firstInYear.groupby('sex'),variable='svl')"
   ]
  },
  {
   "cell_type": "code",
   "execution_count": null,
   "metadata": {
    "scrolled": false
   },
   "outputs": [],
   "source": [
    "SVLbyYear = description(df_firstInYear.groupby(['year','sex']),'svl').reset_index()\n",
    "SVLbyYear"
   ]
  },
  {
   "cell_type": "markdown",
   "metadata": {},
   "source": [
    "Let's plot these values. "
   ]
  },
  {
   "cell_type": "markdown",
   "metadata": {},
   "source": [
    "##### Figures of SVL values\n",
    "\n",
    "[Back to Top](#Table-of-Contents)\n",
    "\n",
    "[Back to Analyze Data](#Analyze-Data)\n"
   ]
  },
  {
   "cell_type": "code",
   "execution_count": null,
   "metadata": {
    "scrolled": false
   },
   "outputs": [],
   "source": [
    "female = go.Box(x=df_firstInYear.loc[(df_firstInYear.sex=='f')]['year'], \n",
    "                y = df_firstInYear.loc[(df_firstInYear.sex=='f')].svl\n",
    "                      ,name='Female Box',yaxis='y1')\n",
    "male = go.Box(x=df_firstInYear.loc[(df_firstInYear.sex=='m')]['year'], \n",
    "              y = df_firstInYear.loc[(df_firstInYear.sex=='m')].svl\n",
    "                    ,name='Males Box',yaxis='y1')\n",
    "female_line = go.Scatter(x=SVLbyYear.loc[(SVLbyYear.sex=='f')]['year'], \n",
    "                y = SVLbyYear.loc[(SVLbyYear.sex=='f')]['50%']\n",
    "                      ,name='Female Median', line = dict(color = 'red'),yaxis='y1')\n",
    "male_line = go.Scatter(x=SVLbyYear.loc[(SVLbyYear.sex=='m')]['year'], \n",
    "              y = SVLbyYear.loc[(SVLbyYear.sex=='m')]['50%']\n",
    "                    ,name='Male Median', line = dict(color = 'blue')\n",
    "                      ,yaxis='y1')\n",
    "female_count = go.Scatter(x=SVLbyYear.loc[(SVLbyYear.sex=='f')]['year'], \n",
    "                y = SVLbyYear.loc[(SVLbyYear.sex=='f')]['count']\n",
    "                      ,name='Females Count',line = dict(color = 'red',dash = 'dash'),\n",
    "                          yaxis = 'y1')\n",
    "male_count = go.Scatter(x=SVLbyYear.loc[(SVLbyYear.sex=='m')]['year'], \n",
    "              y = SVLbyYear.loc[(SVLbyYear.sex=='m')]['count']\n",
    "                    ,name='Male Count',line = dict(color = 'blue',dash = 'dash'),\n",
    "                       yaxis = 'y1')\n",
    "\n",
    "data = [male,female,male_line,female_line,male_count,female_count]\n",
    "layout = go.Layout(\n",
    "    title = 'Box Plot of SVL at Capture for CC 2000-2017',\n",
    "    titlefont = dict(\n",
    "        size = 20),\n",
    "    xaxis = dict(\n",
    "        dtick = 1,\n",
    "        title = 'Year',\n",
    "        titlefont = dict(\n",
    "            size = 18)),\n",
    "    yaxis = dict(\n",
    "        title = 'Median SVL (mm)',\n",
    "        titlefont = dict(\n",
    "            size = 18)),\n",
    "    yaxis2 = dict(\n",
    "        title = 'Count of Lizard',\n",
    "        titlefont = dict(\n",
    "            size = 18),\n",
    "        side = 'right'),\n",
    "    boxmode= 'group')\n",
    "\n",
    "fig = go.Figure(\n",
    "        data = data,\n",
    "        layout = layout)\n",
    "# fig.update_yaxes(title_text=\"<b>secondary</b> yaxis title\", secondary_y=True)\n",
    "iplot(fig, filename = 'Box Plot of Median SVL Sceloporus jarrovii in CC 2000-2017.html')\n",
    "plot(fig, filename = 'Box Plot of Median SVL Sceloporus jarrovii in CC 2000-2017.html')"
   ]
  },
  {
   "cell_type": "markdown",
   "metadata": {},
   "source": []
  },
  {
   "cell_type": "markdown",
   "metadata": {},
   "source": [
    "To be done:\n",
    "- look at correlation between the count and the median svl \n",
    "Outliers will be addressed in the Cleaning notebook, but will be removed for the remained of the analyses here."
   ]
  },
  {
   "cell_type": "markdown",
   "metadata": {},
   "source": [
    "#### TL\n",
    "\n",
    "Now we examine the range and distribution of TL values by species.\n",
    "\n",
    "[Back to Morphometrics](#Morphometrics)\n"
   ]
  },
  {
   "cell_type": "markdown",
   "metadata": {},
   "source": [
    "We will use the [distribution](#distribution) function to do this and then plot these values.\n",
    "\n",
    "- [Histogram of TL](#TLhist)"
   ]
  },
  {
   "cell_type": "code",
   "execution_count": null,
   "metadata": {},
   "outputs": [],
   "source": [
    "TLbyYear = description(df_firstInYear.groupby(['year','autotomized','sex']),'tl').reset_index()\n",
    "TLbyYear"
   ]
  },
  {
   "cell_type": "markdown",
   "metadata": {},
   "source": [
    "##### Histogram of TL (Intact)"
   ]
  },
  {
   "cell_type": "code",
   "execution_count": null,
   "metadata": {
    "scrolled": false
   },
   "outputs": [],
   "source": [
    "femaleBoxIntact = go.Box(x=df_firstInYear.loc[(df_firstInYear.sex=='f')]['year'], \n",
    "                y = df_firstInYear.loc[(df_firstInYear.sex=='f')&~(df_firstInYear.autotomized)].tl\n",
    "                      ,name='Females')\n",
    "maleBoxIntact = go.Box(x=df_firstInYear.loc[(df_firstInYear.sex=='m')]['year'], \n",
    "              y = df_firstInYear.loc[(df_firstInYear.sex=='m')&~(df_firstInYear.autotomized)].tl\n",
    "                    ,name='Males')\n",
    "femaleIntact = go.Scatter(x=TLbyYear.loc[~(TLbyYear.autotomized)&(TLbyYear.sex=='f')]['year'], \n",
    "                      y = TLbyYear.loc[~(TLbyYear.autotomized)&(TLbyYear.sex=='f')]['50%']\n",
    "                      ,name='Intact Females')\n",
    "maleIntact = go.Scatter(x=TLbyYear.loc[~(TLbyYear.autotomized)&(TLbyYear.sex=='m')]['year'], \n",
    "              y = TLbyYear.loc[~(TLbyYear.autotomized)&(TLbyYear.sex=='m')]['50%']\n",
    "                    ,name='Intact Males')\n",
    "female_count = go.Scatter(x=TLbyYear.loc[~(TLbyYear.autotomized)&(TLbyYear.sex=='f')]['year'], \n",
    "                y = TLbyYear.loc[~(TLbyYear.autotomized)&(TLbyYear.sex=='f')]['count']\n",
    "                      ,name='Females Count',line = dict(color = 'red',dash = 'dash'))\n",
    "male_count = go.Scatter(x=TLbyYear.loc[~(TLbyYear.autotomized)&(TLbyYear.sex=='m')]['year'], \n",
    "              y = TLbyYear.loc[~(TLbyYear.autotomized)&(TLbyYear.sex=='m')]['count']\n",
    "                    ,name='Male Count',line = dict(color = 'blue',dash = 'dash'))\n",
    "\n",
    "data = [maleBoxIntact,femaleBoxIntact,maleIntact,femaleIntact,male_count,female_count]\n",
    "layout = go.Layout(\n",
    "    title = 'TL for Intact <i>Sceloporus jarrovii</i> in CC 2000-2017',\n",
    "    titlefont = dict(\n",
    "        size = 20),\n",
    "    xaxis = dict(\n",
    "        dtick = 1,\n",
    "        title = 'Year',\n",
    "        titlefont = dict(\n",
    "            size = 18)),\n",
    "    yaxis = dict(\n",
    "        title = 'TL (mm)',\n",
    "        titlefont = dict(\n",
    "            size = 18)),\n",
    "boxmode='group')\n",
    "\n",
    "fig = go.Figure(\n",
    "        data = data,\n",
    "        layout = layout)\n",
    "#iplot(fig, filename = 'TL for Intact Sceloporus jarrovii in CC 2000-2017.html')\n",
    "plot(fig, filename = 'TL for Intact Sceloporus jarrovii in CC 2000-2017.html')"
   ]
  },
  {
   "cell_type": "markdown",
   "metadata": {},
   "source": [
    "To be done:\n",
    "- look at correlation between the count and the median tl \n",
    "Outliers will be addressed in the Cleaning notebook, but will be removed for the remained of the analyses here."
   ]
  },
  {
   "cell_type": "markdown",
   "metadata": {},
   "source": [
    "##### Histogram of TL (Autotomized)"
   ]
  },
  {
   "cell_type": "code",
   "execution_count": null,
   "metadata": {},
   "outputs": [],
   "source": [
    "femaleBoxAutotomized = go.Box(x=df_firstInYear.loc[(df_firstInYear.sex=='f')]['year'], \n",
    "                y = df_firstInYear.loc[(df_firstInYear.sex=='f')&(df_firstInYear.autotomized)].tl\n",
    "                      ,name='Females')\n",
    "maleBoxAutotomized = go.Box(x=df_firstInYear.loc[(df_firstInYear.sex=='m')]['year'], \n",
    "              y = df_firstInYear.loc[(df_firstInYear.sex=='m')&(df_firstInYear.autotomized)].tl\n",
    "                    ,name='Males')\n",
    "femaleAutotomized = go.Scatter(x=TLbyYear.loc[(TLbyYear.autotomized)&(TLbyYear.sex=='f')]['year'], \n",
    "                      y = TLbyYear.loc[(TLbyYear.autotomized)&(TLbyYear.sex=='f')]['50%']\n",
    "                      ,name='Autotomized Females')\n",
    "maleAutotomized = go.Scatter(x=TLbyYear.loc[(TLbyYear.autotomized)&(TLbyYear.sex=='m')]['year'], \n",
    "              y = TLbyYear.loc[(TLbyYear.autotomized)&(TLbyYear.sex=='m')]['50%']\n",
    "                    ,name='Autotomized Males')\n",
    "female_count = go.Scatter(x=TLbyYear.loc[(TLbyYear.autotomized)&(TLbyYear.sex=='f')]['year'], \n",
    "                y = TLbyYear.loc[(TLbyYear.autotomized)&(TLbyYear.sex=='f')]['count']\n",
    "                      ,name='Females Count',line = dict(color = 'red',dash = 'dash'))\n",
    "male_count = go.Scatter(x=TLbyYear.loc[(TLbyYear.autotomized)&(TLbyYear.sex=='m')]['year'], \n",
    "              y = TLbyYear.loc[(TLbyYear.autotomized)&(TLbyYear.sex=='m')]['count']\n",
    "                    ,name='Male Count',line = dict(color = 'blue',dash = 'dash'))\n",
    "\n",
    "data = [maleBoxAutotomized,femaleBoxAutotomized,maleAutotomized,femaleAutotomized,male_count,female_count]\n",
    "layout = go.Layout(\n",
    "    title = 'TL for Autotomized <i>Sceloporus jarrovii</i> in CC 2000-2017',\n",
    "    titlefont = dict(\n",
    "        size = 20),\n",
    "    xaxis = dict(\n",
    "        dtick = 1,\n",
    "        title = 'Year',\n",
    "        titlefont = dict(\n",
    "            size = 18)),\n",
    "    yaxis = dict(\n",
    "        title = 'TL (mm)',\n",
    "        titlefont = dict(\n",
    "            size = 18)),\n",
    "boxmode='group')\n",
    "\n",
    "fig = go.Figure(\n",
    "        data = data,\n",
    "        layout = layout)\n",
    "#iplot(fig, filename = 'TL for Autotomized Sceloporus jarrovii in CC 2000-2017.html')\n",
    "plot(fig, filename = 'TL for Autotomized Sceloporus jarrovii in CC 2000-2017.html')"
   ]
  },
  {
   "cell_type": "markdown",
   "metadata": {},
   "source": [
    "##### Histogram of TL (Intact vs. Autotomized) 2"
   ]
  },
  {
   "cell_type": "code",
   "execution_count": null,
   "metadata": {},
   "outputs": [],
   "source": [
    "TLbyYear.groupby('year')['year','50%'].apply(lambda x: x[['50%']])"
   ]
  },
  {
   "cell_type": "code",
   "execution_count": null,
   "metadata": {},
   "outputs": [],
   "source": [
    "# BoxAut = go.Box(x=df_firstInYear.loc[(df_firstInYear.autotomized)]['year'], \n",
    "#                 y = df_firstInYear.loc[(df_firstInYear.autotomized)].tl\n",
    "#                       ,name='Autotomized')\n",
    "# BoxIntact = go.Box(x=df_firstInYear.loc[(df_firstInYear.autotomized==False)]['year'], \n",
    "#               y = df_firstInYear.loc[(df_firstInYear.autotomized==False)].tl\n",
    "#                     ,name='Intact')\n",
    "compared = (TLbyYear.loc[~(TLbyYear.autotomized)]['50%'].reset_index(drop=True))\\\n",
    "-(TLbyYear.loc[(TLbyYear.autotomized)]['50%'].reset_index(drop=True))\n",
    "Comparison = go.Scatter(x=TLbyYear.loc[(TLbyYear.autotomized)]['year'], \n",
    "                   y = compared,name='Intact - Autotomized',\n",
    "                       mode = 'markers')\n",
    "# Intact = go.Scatter(x=TLbyYear.loc[~(TLbyYear.autotomized)]['year'], \n",
    "#               y = TLbyYear.loc[~(TLbyYear.autotomized)]['50%']\n",
    "#                     ,name='Intact')\n",
    "data = [Comparison]\n",
    "layout = go.Layout(\n",
    "    title = 'Comparison on Median TL of <i>Sceloporus jarrovii</i> in CC 2000-2017 by Tail Condition',\n",
    "    titlefont = dict(\n",
    "        size = 20),\n",
    "    xaxis = dict(\n",
    "        dtick = 1,\n",
    "        title = 'Year',\n",
    "        titlefont = dict(\n",
    "            size = 18)),\n",
    "    yaxis = dict(\n",
    "        title = 'TL (mm)',\n",
    "        titlefont = dict(\n",
    "            size = 18)))\n",
    "\n",
    "fig = go.Figure(\n",
    "        data = data,\n",
    "        layout = layout)\n",
    "#iplot(fig, filename = 'Comparison on Median TL of Sceloporus jarrovii in CC 2000-2017.html')\n",
    "plot(fig, filename = 'Comparison on Median TL of Sceloporus jarrovii in CC 2000-2017.html')"
   ]
  },
  {
   "cell_type": "markdown",
   "metadata": {},
   "source": [
    "##### Histogram of TL (Intact vs. Autotomized)"
   ]
  },
  {
   "cell_type": "code",
   "execution_count": null,
   "metadata": {},
   "outputs": [],
   "source": [
    "BoxAut = go.Box(x=df_firstInYear.loc[(df_firstInYear.autotomized)]['year'], \n",
    "                y = df_firstInYear.loc[(df_firstInYear.autotomized)].tl\n",
    "                      ,name='Autotomized')\n",
    "BoxIntact = go.Box(x=df_firstInYear.loc[(df_firstInYear.autotomized==False)]['year'], \n",
    "              y = df_firstInYear.loc[(df_firstInYear.autotomized==False)].tl\n",
    "                    ,name='Intact')\n",
    "# Autotomized = go.Scatter(x=TLbyYear.loc[(TLbyYear.autotomized)]['year'], \n",
    "#                    y = TLbyYear.loc[(TLbyYear.autotomized)]['50%']\n",
    "#                       ,name='Autotomized')\n",
    "# Intact = go.Scatter(x=TLbyYear.loc[~(TLbyYear.autotomized)]['year'], \n",
    "#               y = TLbyYear.loc[~(TLbyYear.autotomized)]['50%']\n",
    "#                     ,name='Intact')\n",
    "data = [BoxAut,BoxIntact]\n",
    "layout = go.Layout(\n",
    "    title = 'TL of <i>Sceloporus jarrovii</i> in CC 2000-2017',\n",
    "    titlefont = dict(\n",
    "        size = 20),\n",
    "    xaxis = dict(\n",
    "        dtick = 1,\n",
    "        title = 'Year',\n",
    "        titlefont = dict(\n",
    "            size = 18)),\n",
    "    yaxis = dict(\n",
    "        title = 'TL (mm)',\n",
    "        titlefont = dict(\n",
    "            size = 18)),\n",
    "boxmode='group')\n",
    "\n",
    "fig = go.Figure(\n",
    "        data = data,\n",
    "        layout = layout)\n",
    "iplot(fig, filename = 'TL of Sceloporus jarrovii in CC 2000-2017.html')\n",
    "#plot(fig, filename = 'TL of Sceloporus jarrovii in CC 2000-2017.html')"
   ]
  },
  {
   "cell_type": "markdown",
   "metadata": {},
   "source": [
    "#### RTL\n",
    "\n",
    "Now we examine the range and distribution of RTL values by species.\n",
    "\n",
    "[Back to Morphometrics](#Morphometrics)\n"
   ]
  },
  {
   "cell_type": "markdown",
   "metadata": {},
   "source": [
    "We will use the [distribution](#distribution) function to do this and then plot these values.\n",
    "\n",
    "- [Histogram of RTL](#RTLhist)"
   ]
  },
  {
   "cell_type": "code",
   "execution_count": null,
   "metadata": {},
   "outputs": [],
   "source": [
    "RTLbyYear = description(df_firstInYear.loc[df_firstInYear.autotomized].groupby(['year','sex']),'rtl').reset_index()\n",
    "RTLbyYear"
   ]
  },
  {
   "cell_type": "markdown",
   "metadata": {},
   "source": [
    "##### Histogram of rtl"
   ]
  },
  {
   "cell_type": "code",
   "execution_count": null,
   "metadata": {},
   "outputs": [],
   "source": [
    "femaleAut = go.Scatter(x=RTLbyYear.loc[(RTLbyYear.sex=='f')]['year'], \n",
    "                   y = RTLbyYear.loc[(RTLbyYear.sex=='f')]['50%']\n",
    "                      ,name='Females')\n",
    "maleAut = go.Scatter(x=RTLbyYear.loc[(RTLbyYear.sex=='m')]['year'], \n",
    "              y = RTLbyYear.loc[(RTLbyYear.sex=='m')]['50%']\n",
    "                    ,name='Males')\n",
    "\n",
    "data = [maleAut,femaleAut]\n",
    "layout = go.Layout(\n",
    "    title = 'Median RTL for CC 2000-2017',\n",
    "    titlefont = dict(\n",
    "        size = 20),\n",
    "    xaxis = dict(\n",
    "        dtick = 1,\n",
    "        title = 'Year',\n",
    "        titlefont = dict(\n",
    "            size = 18)),\n",
    "    yaxis = dict(\n",
    "        title = 'Median RTL (mm)',\n",
    "        titlefont = dict(\n",
    "            size = 18)))\n",
    "\n",
    "fig = go.Figure(\n",
    "        data = data,\n",
    "        layout = layout)\n",
    "iplot(fig, filename = 'Median RTL Sceloporus jarrovii in CC 2000-2017.html')\n",
    "#plot(fig, filename = 'Median RTL Sceloporus jarrovii in CC 2000-2017.html')"
   ]
  },
  {
   "cell_type": "markdown",
   "metadata": {},
   "source": [
    "#### Mass\n",
    "\n",
    "Now we examine the range and distribution of mass values by species.\n",
    "\n",
    "[Back to Morphometrics](#Morphometrics)\n"
   ]
  },
  {
   "cell_type": "markdown",
   "metadata": {},
   "source": [
    "We will use the [distribution](#distribution) function to do this and then plot these values.\n",
    "\n",
    "- [Plot of mass](#Plot-of-mass)"
   ]
  },
  {
   "cell_type": "markdown",
   "metadata": {},
   "source": [
    "We probably need to adjust this analysis to consider teh month in which the females were captures since gravidity or nearness to the time of parturition may bias the analysis."
   ]
  },
  {
   "cell_type": "code",
   "execution_count": null,
   "metadata": {},
   "outputs": [],
   "source": [
    "MassbyYear = description(df_firstInYear.loc[df_firstInYear.autotomized].groupby(['year','sex']),'mass').reset_index()\n",
    "MassbyYear"
   ]
  },
  {
   "cell_type": "markdown",
   "metadata": {},
   "source": [
    "##### Plot of mass\n",
    "\n",
    "[Back to Top](#Table-of-Contents)\n",
    "\n",
    "[Back to Analyze Data](#Analyze-Data)"
   ]
  },
  {
   "cell_type": "code",
   "execution_count": null,
   "metadata": {},
   "outputs": [],
   "source": [
    "female = go.Scatter(x=MassbyYear.loc[(MassbyYear.sex=='f')]['year'], \n",
    "                   y = MassbyYear.loc[(MassbyYear.sex=='f')]['50%']\n",
    "                      ,name='Females')\n",
    "male = go.Scatter(x=MassbyYear.loc[(MassbyYear.sex=='m')]['year'], \n",
    "              y = MassbyYear.loc[(MassbyYear.sex=='m')]['50%']\n",
    "                    ,name='Males')\n",
    "\n",
    "data = [male,female]\n",
    "layout = go.Layout(\n",
    "    title = 'Median Mass for CC 2000-2017',\n",
    "    titlefont = dict(\n",
    "        size = 20),\n",
    "    xaxis = dict(\n",
    "        dtick = 1,\n",
    "        title = 'Year',\n",
    "        titlefont = dict(\n",
    "            size = 18)),\n",
    "    yaxis = dict(\n",
    "        title = 'Median Mass (mm)',\n",
    "        titlefont = dict(\n",
    "            size = 18),\n",
    "    range = [0,MassbyYear['50%'].max()+5]),\n",
    ")\n",
    "\n",
    "fig = go.Figure(\n",
    "        data = data,\n",
    "        layout = layout)\n",
    "iplot(fig, filename = 'Median Mass Sceloporus jarrovii in CC 2000-2017.html')\n",
    "#plot(fig, filename = 'Median Mass Sceloporus jarrovii in CC 2000-2017.html')"
   ]
  },
  {
   "cell_type": "markdown",
   "metadata": {},
   "source": [
    "## Captures\n",
    "\n",
    "[Back to Top](#Table-of-Contents)\n",
    "\n",
    "[Back to Analyze Data](#Analyze-Data)"
   ]
  },
  {
   "cell_type": "markdown",
   "metadata": {},
   "source": [
    "Let's take a look at the number of times that lizards have been captured.  To do this, we will group lizards by lizard number and then look at the maximum number of captures for each lizard and finally count the number of lizards that have a given number of captures.  We will use all captures for this"
   ]
  },
  {
   "cell_type": "code",
   "execution_count": null,
   "metadata": {},
   "outputs": [],
   "source": [
    "df_firstInYear.groupby('liznumber').capture.apply(lambda x: x.values)"
   ]
  },
  {
   "cell_type": "code",
   "execution_count": null,
   "metadata": {
    "scrolled": false
   },
   "outputs": [],
   "source": [
    "print(\"The maximum number of captures among lizards in the data set range from {} to {} for and are \\\n",
    "distributed across species and sex as displayed here:\"\\\n",
    "      .format(df_firstInYear.groupby('liznumber').capture.max().min(),\n",
    "              df_firstInYear.groupby('liznumber').capture.max().max()))\n",
    "captureMedYr = description(df_firstInYear.groupby(['year','sex']),variable='capture')[['50%','75%','max']].reset_index()\n",
    "captureMedYr"
   ]
  },
  {
   "cell_type": "code",
   "execution_count": null,
   "metadata": {},
   "outputs": [],
   "source": [
    "female = go.Scatter(x=captureMedYr.loc[(captureMedYr.sex=='f')]['year'], \n",
    "                   y = captureMedYr.loc[(captureMedYr.sex=='f')]['50%']\n",
    "                      ,name='Females')\n",
    "male = go.Scatter(x=captureMedYr.loc[(captureMedYr.sex=='m')]['year'], \n",
    "              y = captureMedYr.loc[(captureMedYr.sex=='m')]['50%']\n",
    "                    ,name='Males')\n",
    "# femaleBox = go.Box(x=df_firstInYear.loc[df_firstInYear.sex=='f']['year'], \n",
    "#                    y = df_firstInYear.loc[df_firstInYear.sex=='f'].groupby('liznumber').capture.apply(lambda x: x.values)\n",
    "#                       ,name='Females')\n",
    "# maleBox = go.Box(x=df_firstInYear.loc[df_firstInYear.sex=='m']['year'], \n",
    "#               y = df_firstInYear.loc[df_firstInYear.sex=='m'].groupby('liznumber').capture.apply(lambda x: x.values)\n",
    "#                     ,name='Males')\n",
    "\n",
    "data = [male,female]#,maleBox,femaleBox]\n",
    "layout = go.Layout(\n",
    "    title = 'Median Years Captured for CC 2000-2017',\n",
    "    titlefont = dict(\n",
    "        size = 20),\n",
    "    xaxis = dict(\n",
    "        dtick = 1,\n",
    "        title = 'Year',\n",
    "        titlefont = dict(\n",
    "            size = 18)),\n",
    "    yaxis = dict(\n",
    "        title = 'Median Years Captured',\n",
    "        titlefont = dict(\n",
    "            size = 18),\n",
    "    range = [0,captureMedYr['50%'].max()+1]),\n",
    ")\n",
    "\n",
    "fig = go.Figure(\n",
    "        data = data,\n",
    "        layout = layout)\n",
    "iplot(fig, filename = 'Median Years Captured Sceloporus jarrovii in CC 2000-2017.html')\n",
    "#plot(fig, filename = 'Median Years Captured  Sceloporus jarrovii in CC 2000-2017.html')"
   ]
  },
  {
   "cell_type": "code",
   "execution_count": null,
   "metadata": {},
   "outputs": [],
   "source": [
    "# female = go.Scatter(x=captureMedYr.loc[(captureMedYr.sex=='f')]['year'], \n",
    "#                    y = captureMedYr.loc[(captureMedYr.sex=='f')]['50%']\n",
    "#                       ,name='Females')\n",
    "# male = go.Scatter(x=captureMedYr.loc[(captureMedYr.sex=='m')]['year'], \n",
    "#               y = captureMedYr.loc[(captureMedYr.sex=='m')]['50%']\n",
    "#                     ,name='Males')\n",
    "femaleBox = go.Box(x=df_firstInYear.loc[df_firstInYear.sex=='f']['year'], \n",
    "                   y = df_firstInYear.loc[df_firstInYear.sex=='f'].groupby('liznumber').capture.apply(lambda x: x.values)\n",
    "                      ,name='Females')\n",
    "maleBox = go.Box(x=df_firstInYear.loc[df_firstInYear.sex=='m']['year'], \n",
    "              y = df_firstInYear.loc[df_firstInYear.sex=='m'].groupby('liznumber').capture.apply(lambda x: x.values)\n",
    "                    ,name='Males')\n",
    "\n",
    "data = [maleBox,femaleBox]\n",
    "layout = go.Layout(\n",
    "    title = 'Median Years Captured for CC 2000-2017',\n",
    "    titlefont = dict(\n",
    "        size = 20),\n",
    "    xaxis = dict(\n",
    "        dtick = 1,\n",
    "        title = 'Year',\n",
    "        titlefont = dict(\n",
    "            size = 18)),\n",
    "    yaxis = dict(\n",
    "        title = 'Median Years Captured',\n",
    "        titlefont = dict(\n",
    "            size = 18))\n",
    ")\n",
    "\n",
    "fig = go.Figure(\n",
    "        data = data,\n",
    "        layout = layout)\n",
    "iplot(fig, filename = 'Box Years Captured Sceloporus jarrovii in CC 2000-2017.html')\n",
    "#plot(fig, filename = 'Box Years Captured  Sceloporus jarrovii in CC 2000-2017.html')"
   ]
  },
  {
   "cell_type": "markdown",
   "metadata": {},
   "source": [
    "In order to interpret these data we need to factor in person-hours for each year."
   ]
  },
  {
   "cell_type": "markdown",
   "metadata": {},
   "source": [
    "## Years\n",
    "\n",
    "[Back to Top](#Table-of-Contents)\n",
    "\n",
    "[Back to Analyze Data](#Analyze-Data)"
   ]
  },
  {
   "cell_type": "markdown",
   "metadata": {},
   "source": [
    "Let's take a look at the number of years over which that lizards have been captured.  To do this, we will group lizards by lizard number and then look at the maximum number of years over which each lizard was captures and finally count the number of lizards that have a given number of years over which they were captured.  We will use all captures for this."
   ]
  },
  {
   "cell_type": "code",
   "execution_count": null,
   "metadata": {},
   "outputs": [],
   "source": [
    "(df_firstInYear.groupby('liznumber').year_diff.max()+1).value_counts(normalize=True).reset_index()\\\n",
    ".rename(columns={'index':'year_diff','year_diff':'proportion'}).sort_values('year_diff')"
   ]
  },
  {
   "cell_type": "code",
   "execution_count": null,
   "metadata": {
    "scrolled": true
   },
   "outputs": [],
   "source": [
    "print(\"The number of years over which each lizard was captured among lizards in the data set range from {} to {}\\\n",
    "for and are distributed across species and sex as displayed here:\"\\\n",
    "      .format(df_firstInYear.groupby('liznumber').year_diff.max().min()+1, \n",
    "              df_firstInYear.groupby('liznumber').year_diff.max().max()+1))\n",
    "description(df_firstInYear.groupby('sex'),variable='year_diff')"
   ]
  },
  {
   "cell_type": "code",
   "execution_count": null,
   "metadata": {},
   "outputs": [],
   "source": [
    "Males = go.Histogram(x = df_firstInYear.loc[(df_firstInYear.sex=='m')].groupby('liznumber').capture.max(),\n",
    "                     name='Males')\n",
    "Females = go.Histogram(x = df_firstInYear.loc[(df_firstInYear.sex=='f')].groupby('liznumber').capture.max(),\n",
    "                       name='Females')\n",
    "\n",
    "data = [Males,Females]\n",
    "layout = go.Layout(\n",
    "    title = 'Histogram of Maximum Number of Captures by Sex for CC 2000-2017',\n",
    "    titlefont = dict(\n",
    "        size = 20),\n",
    "    xaxis = dict(\n",
    "        dtick = 1,\n",
    "        title = 'Maximum Number of Captures',\n",
    "        titlefont = dict(\n",
    "            size = 18)),\n",
    "    yaxis = dict(\n",
    "        title = 'Number of Unique Lizards',\n",
    "        titlefont = dict(\n",
    "            size = 18)))\n",
    "\n",
    "fig = go.Figure(\n",
    "        data = data,\n",
    "        layout = layout)\n",
    "iplot(fig, filename = 'Histogram of Maximum Number of Captures by Sex for CC 2000-2017.html')\n",
    "#plot(fig, filename = 'Histogram of Maximum Number of Captures by Sex for CC 2000-2017.html')"
   ]
  },
  {
   "cell_type": "markdown",
   "metadata": {},
   "source": [
    "### Maximum Number of Captures based on Tail condition\n",
    " - match for species, sex, size and location"
   ]
  },
  {
   "cell_type": "code",
   "execution_count": null,
   "metadata": {},
   "outputs": [],
   "source": [
    "intactFemale = go.Histogram(x = df_firstInYear.loc[(~df_firstInYear.autotomized)&\n",
    "                                                   (df_firstInYear.sex=='f')].groupby('liznumber').capture.max()\n",
    "                      ,name='intact females')\n",
    "intactMale = go.Histogram(x = df_firstInYear.loc[(~df_firstInYear.autotomized)&\n",
    "                                                 (df_firstInYear.sex=='m')].groupby('liznumber').capture.max()\n",
    "                      ,name='intact males')\n",
    "autotomizedFemale = go.Histogram(x = df_firstInYear.loc[(df_firstInYear.autotomized)&\n",
    "                                                        (df_firstInYear.sex=='f')].groupby('liznumber').capture.max()\n",
    "                           ,name='autotomized females')\n",
    "autotomizedMale = go.Histogram(x = df_firstInYear.loc[(df_firstInYear.autotomized)&\n",
    "                                                      (df_firstInYear.sex=='m')].groupby('liznumber').capture.max()\n",
    "                           ,name='autotomized males')\n",
    "\n",
    "data = [intactFemale,intactMale,autotomizedFemale,autotomizedMale]\n",
    "layout = go.Layout(\n",
    "    title = 'Maximum Number of Captures by Tail Condition 2000-2017',\n",
    "    titlefont = dict(\n",
    "        size = 20),\n",
    "    xaxis = dict(\n",
    "        dtick = 1,\n",
    "        title = 'Maximum Number of Captures',\n",
    "        titlefont = dict(\n",
    "            size = 18)),\n",
    "    yaxis = dict(\n",
    "        title = 'Number of Lizards',\n",
    "        titlefont = dict(\n",
    "            size = 18)))\n",
    "\n",
    "fig = go.Figure(\n",
    "        data = data,\n",
    "        layout = layout)\n",
    "py.iplot(fig, filename = 'Histogram of Maximum Captures by Tail Condition in Crystal Creek 2000 - 2017')"
   ]
  },
  {
   "cell_type": "markdown",
   "metadata": {},
   "source": [
    "## Growth\n",
    "\n",
    "- [SVL Growth](#SVL-Growth)\n",
    "- [TL Growth](#TL-Growth)\n",
    "- [RTL Growth](#RTL-Growth)\n",
    "- [Mass Growth](#Mass-Growth)\n",
    "\n",
    "[Back to Top](#Table-of-Contents)\n",
    "\n",
    "[Back to Analyze Data](#Analyze-Data)"
   ]
  },
  {
   "cell_type": "markdown",
   "metadata": {},
   "source": [
    "Let's take a look at the number of times that lizards have been captured.  To do this, we will group lizards by lizard number and then look at the maximum number of captures for each lizard and finally count the number of lizards that have a given number of captures."
   ]
  },
  {
   "cell_type": "markdown",
   "metadata": {},
   "source": [
    "### SVL Growth\n",
    "\n",
    "[Back to Top](#Table-of-Contents)\n",
    "\n",
    "[Back to Analyze Data](#Analyze-Data)"
   ]
  },
  {
   "cell_type": "markdown",
   "metadata": {},
   "source": [
    "What is the body size growth rate?"
   ]
  },
  {
   "cell_type": "code",
   "execution_count": null,
   "metadata": {},
   "outputs": [],
   "source": [
    "df_firstInYear['svl_growth'] = df_firstInYear.loc[df_firstInYear.year_diff>0]\\\n",
    ".apply(lambda x: x.svl_diff/x.year_diff, axis=1)\n",
    "df_firstInYear.loc[df_firstInYear.svl_growth.notna()]\n",
    "                                                                         "
   ]
  },
  {
   "cell_type": "code",
   "execution_count": null,
   "metadata": {
    "scrolled": true
   },
   "outputs": [],
   "source": [
    "print(\"svl_growth values in the data set range from {} to {} for and are distributed across sex \\\n",
    "as displayed here:\"\\\n",
    "      .format(df_firstInYear.svl_growth.min(), df_firstInYear.svl_growth.max()))\n",
    "description(df_firstInYear.groupby('sex'),variable='svl_growth')"
   ]
  },
  {
   "cell_type": "code",
   "execution_count": null,
   "metadata": {
    "scrolled": false
   },
   "outputs": [],
   "source": [
    "svl_growthbyYear = description(df_firstInYear.groupby(['year','sex']),'svl_growth').reset_index()\n",
    "svl_growthbyYear"
   ]
  },
  {
   "cell_type": "markdown",
   "metadata": {},
   "source": [
    "Let's plot these values. "
   ]
  },
  {
   "cell_type": "markdown",
   "metadata": {},
   "source": [
    "##### Figures of SVL values\n",
    "\n",
    "[Back to Top](#Table-of-Contents)\n",
    "\n",
    "[Back to Analyze Data](#Analyze-Data)\n"
   ]
  },
  {
   "cell_type": "code",
   "execution_count": null,
   "metadata": {
    "scrolled": false
   },
   "outputs": [],
   "source": [
    "female = go.Box(x=df_firstInYear.loc[(df_firstInYear.sex=='f')]['year'], \n",
    "                y = df_firstInYear.loc[(df_firstInYear.sex=='f')].svl_growth\n",
    "                      ,name='Female Box',yaxis='y1')\n",
    "male = go.Box(x=df_firstInYear.loc[(df_firstInYear.sex=='m')]['year'], \n",
    "              y = df_firstInYear.loc[(df_firstInYear.sex=='m')].svl_growth\n",
    "                    ,name='Males Box',yaxis='y1')\n",
    "female_line = go.Scatter(x=svl_growthbyYear.loc[(svl_growthbyYear.sex=='f')]['year'], \n",
    "                y = svl_growthbyYear.loc[(svl_growthbyYear.sex=='f')]['50%']\n",
    "                      ,name='Female Median', line = dict(color = 'red'),yaxis='y1')\n",
    "male_line = go.Scatter(x=svl_growthbyYear.loc[(svl_growthbyYear.sex=='m')]['year'], \n",
    "              y = svl_growthbyYear.loc[(svl_growthbyYear.sex=='m')]['50%']\n",
    "                    ,name='Male Median', line = dict(color = 'blue')\n",
    "                      ,yaxis='y1')\n",
    "female_count = go.Scatter(x=svl_growthbyYear.loc[(svl_growthbyYear.sex=='f')]['year'], \n",
    "                y = svl_growthbyYear.loc[(svl_growthbyYear.sex=='f')]['count']\n",
    "                      ,name='Females Count',line = dict(color = 'red',dash = 'dash'),\n",
    "                          yaxis = 'y1')\n",
    "male_count = go.Scatter(x=svl_growthbyYear.loc[(svl_growthbyYear.sex=='m')]['year'], \n",
    "              y = svl_growthbyYear.loc[(svl_growthbyYear.sex=='m')]['count']\n",
    "                    ,name='Male Count',line = dict(color = 'blue',dash = 'dash'),\n",
    "                       yaxis = 'y1')\n",
    "\n",
    "data = [male,female,male_line,female_line]\n",
    "layout = go.Layout(\n",
    "    title = 'Box Plot of SVL Growth for CC 2000-2017',\n",
    "    titlefont = dict(\n",
    "        size = 20),\n",
    "    xaxis = dict(\n",
    "        dtick = 1,\n",
    "        title = 'Year',\n",
    "        titlefont = dict(\n",
    "            size = 18)),\n",
    "    yaxis = dict(\n",
    "        title = 'Median SVL Growth (mm)',\n",
    "        titlefont = dict(\n",
    "            size = 18)),\n",
    "    yaxis2 = dict(\n",
    "        title = 'Count of Lizard',\n",
    "        titlefont = dict(\n",
    "            size = 18),\n",
    "        side = 'right'),\n",
    "    boxmode= 'group')\n",
    "\n",
    "fig = go.Figure(\n",
    "        data = data,\n",
    "        layout = layout)\n",
    "# fig.update_yaxes(title_text=\"<b>secondary</b> yaxis title\", secondary_y=True)\n",
    "iplot(fig, filename = 'Box Plot of Median SVL Growth Sceloporus jarrovii in CC 2000-2017.html')\n",
    "# plot(fig, filename = 'Box Plot of Median SVL Growth Sceloporus jarrovii in CC 2000-2017.html')"
   ]
  },
  {
   "cell_type": "code",
   "execution_count": null,
   "metadata": {},
   "outputs": [],
   "source": [
    "popVar = 'liznumberYear'\n",
    "summerPred = df_reg_season.loc[(df_reg_season.source=='portal')&\n",
    "                                               (df_reg_season.season.isin(['summer']))]\\\n",
    "                             [['popinYearplus1','TMIN 50%']].dropna()\n",
    "\n",
    "sjWsumm = pg.linear_regression(summerPred[['TMIN 50%']],\n",
    "                     summerPred['popinYearplus1'],\n",
    "                     remove_na=True)\n",
    "\n",
    "sjWsumm"
   ]
  },
  {
   "cell_type": "markdown",
   "metadata": {},
   "source": [
    "turn this into a function and then groupby and apply"
   ]
  },
  {
   "cell_type": "markdown",
   "metadata": {},
   "source": [
    "df['svl_growth_ann']=df.groupby('liznumber').apply(lambda x: (x['svl'].max()-x['svl'].min())/(x['year_diff'].max()+1))"
   ]
  },
  {
   "cell_type": "markdown",
   "metadata": {},
   "source": [
    "### TL Growth\n",
    "\n",
    "[Back to Top](#Table-of-Contents)\n",
    "\n",
    "[Back to Analyze Data](#Analyze-Data)"
   ]
  },
  {
   "cell_type": "markdown",
   "metadata": {},
   "source": [
    "What is the tail size growth rate?"
   ]
  },
  {
   "cell_type": "markdown",
   "metadata": {},
   "source": [
    "df['tl_growth_ann']=df.groupby('liznumber').apply(lambda x: (x['tl'].max()-x['tl'].min())/(x['year_diff'].max()+1))"
   ]
  },
  {
   "cell_type": "markdown",
   "metadata": {},
   "source": [
    "### RTL Growth\n",
    "\n",
    "[Back to Top](#Table-of-Contents)\n",
    "\n",
    "[Back to Analyze Data](#Analyze-Data)"
   ]
  },
  {
   "cell_type": "markdown",
   "metadata": {},
   "source": [
    "What is the regrown tail size growth rate?"
   ]
  },
  {
   "cell_type": "markdown",
   "metadata": {},
   "source": [
    "df['rtl_growth_ann']=df.groupby('liznumber').apply(lambda x: (x['rtl'].max()-x['rtl'].min())/(x['year_diff'].max()+1))"
   ]
  },
  {
   "cell_type": "markdown",
   "metadata": {},
   "source": [
    "### NTL Growth\n",
    "\n",
    "[Back to Top](#Table-of-Contents)\n",
    "\n",
    "[Back to Analyze Data](#Analyze-Data)"
   ]
  },
  {
   "cell_type": "markdown",
   "metadata": {},
   "source": [
    "### Mass Growth\n",
    "\n",
    "[Back to Top](#Table-of-Contents)\n",
    "\n",
    "[Back to Analyze Data](#Analyze-Data)"
   ]
  },
  {
   "cell_type": "markdown",
   "metadata": {},
   "source": [
    "What is the body size growth rate in terms of MAss?"
   ]
  },
  {
   "cell_type": "markdown",
   "metadata": {},
   "source": [
    "df['mass_growth_ann']=df.groupby('liznumber').apply(lambda x: (x['mass'].max()-x['mass'].min())/(x['year_diff'].max()+1))"
   ]
  },
  {
   "cell_type": "markdown",
   "metadata": {},
   "source": [
    "tmp = df.groupby('liznumber').mass_growth_ann.nunique().reset_index()\n",
    "check = tmp.loc[tmp.mass_growth_ann>1,'liznumber']\n",
    "print(len(check))\n",
    "check"
   ]
  },
  {
   "cell_type": "markdown",
   "metadata": {},
   "source": [
    "## Correlations to Population\n",
    "\n",
    "[Back to Top](#Table-of-Contents)\n",
    "\n",
    "[Back to Analyze Data](#Analyze-Data)"
   ]
  },
  {
   "cell_type": "code",
   "execution_count": null,
   "metadata": {},
   "outputs": [],
   "source": []
  },
  {
   "cell_type": "code",
   "execution_count": null,
   "metadata": {},
   "outputs": [],
   "source": [
    "def candidate(m,dv,placement=(1,1)):\n",
    "    assert(dv in m.columns)\n",
    "    return m[dv].sort_values().reset_index().iloc[placement[0]:placement[1]+1,:]\n",
    "\n",
    "from functools import reduce\n",
    "\n",
    "def topcorr(corrdf,lowestrank,dvs):\n",
    "    candidates = [candidate(corrdf,dv,(1,lowestrank)) for dv in dvs]\n",
    "    merger =  reduce(lambda x, y: pd.merge(x, y, on = 'index', how = 'outer'), candidates).fillna('--')\n",
    "    return merger"
   ]
  },
  {
   "cell_type": "markdown",
   "metadata": {},
   "source": [
    "I need to create a df with with values to be correlated:\n",
    "- count\n",
    "- prop Male\n",
    "- SVL\n",
    "- TL\n",
    "- RTL\n",
    "- Mass\n",
    "- TL Severity\n",
    "- Sex Distr\n"
   ]
  },
  {
   "cell_type": "code",
   "execution_count": null,
   "metadata": {},
   "outputs": [],
   "source": [
    "dfCorrPrep = populationSize_sex.loc[populationSize_sex.sex=='f',\n",
    "                                    ['year', 'sex', 'liznumber', \n",
    "                                     'liznumberYear','propFemale']]\\\n",
    ".merge(populationSize_aut.loc[populationSize_aut.propAutotomized.notna(),\n",
    "                              ['year','liznumberYear', 'propAutotomized']], \n",
    "                         how = 'left', on = ['year','liznumberYear'])\\\n",
    ".merge(dfYearlyEst.loc[dfYearlyEst.autotomized,['year', 'sex', \n",
    "                                                'count_all', '50%_all']],\n",
    "       on = ['year','sex'])\\\n",
    ".rename(columns = {'count_all':'nAutotomized', \n",
    "                   '50%_all':'medianPropTailAutotomized',\n",
    "                                             'liznumber':'numberFemale'})\n",
    "dfCorrPrep = dfCorrPrep[['liznumberYear', \n",
    "                         'propFemale', 'propAutotomized', \n",
    "                         'medianPropTailAutotomized']]\n",
    "dfCorrPrep"
   ]
  },
  {
   "cell_type": "code",
   "execution_count": null,
   "metadata": {},
   "outputs": [],
   "source": [
    "#Dropping proportion of Females, but will put it back once I can order the y-axis\n",
    "dfCorr = dfCorrPrep.corr()\n",
    "dfCorr = topcorr(dfCorr,2,dfCorr.columns.tolist()) \n",
    "dfCorr = dfCorr.set_index('index')\n",
    "dfCorr"
   ]
  },
  {
   "cell_type": "code",
   "execution_count": null,
   "metadata": {},
   "outputs": [],
   "source": [
    "testx = dfCorr.columns\n",
    "testy = dfCorr.index\n",
    "testz = dfCorr.values\n",
    "test = go.Figure(go.Heatmap(x=testx,y=testy,z=testz))\n",
    "#plot(test, filename = 'population correlation matrix.html')\n",
    "iplot(test, filename = 'population correlation matrix.html')"
   ]
  },
  {
   "cell_type": "markdown",
   "metadata": {},
   "source": [
    "## Export Files\n",
    "[Back to Top](#Table-of-Contents)\n",
    "\n",
    "[Back to Analyze Data](#Analyze-Data)"
   ]
  },
  {
   "cell_type": "code",
   "execution_count": null,
   "metadata": {},
   "outputs": [],
   "source": []
  }
 ],
 "metadata": {
  "kernelspec": {
   "display_name": "Python 3",
   "language": "python",
   "name": "python3"
  },
  "language_info": {
   "codemirror_mode": {
    "name": "ipython",
    "version": 3
   },
   "file_extension": ".py",
   "mimetype": "text/x-python",
   "name": "python",
   "nbconvert_exporter": "python",
   "pygments_lexer": "ipython3",
   "version": "3.7.3"
  }
 },
 "nbformat": 4,
 "nbformat_minor": 2
}
