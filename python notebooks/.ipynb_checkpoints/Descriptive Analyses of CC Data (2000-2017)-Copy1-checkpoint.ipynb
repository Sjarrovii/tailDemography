{
 "cells": [
  {
   "cell_type": "markdown",
   "metadata": {},
   "source": [
    "<a id='TOC'></a>"
   ]
  },
  {
   "cell_type": "markdown",
   "metadata": {},
   "source": [
    "# Table of Contents\n",
    "1. [Introduction](#Introduction)\n",
    "1. [Set up Python](#Setup)\n",
    "2. [Functions](#Functions)\n",
    "3. [Getting Data](#Get-Data)\n",
    "4. [Analyze Data](#Analyze-Data):\n",
    "    - [Population Size](#Population-Size)\n",
    "    - [Species Distribution](#Species-Distribution)\n",
    "    - [Sex Distribution](#Sex-Distribution)\n",
    "    - [Tail Condition Distribution](#Tail-Condition-Distribution)\n",
    "    - [Location](#Location)\n",
    "    - [Morphometrics](#Morphometrics):\n",
    "        - [SVL](#SVL)\n",
    "        - [TL](#TL)\n",
    "        - [RTL](#RTL)\n",
    "        - [Mass](#Mass)\n",
    "    - [Survival and Rates and Likelihood of Recapture](#Survival-and-Rates-and-Likelihood-of-Recapture)\n",
    "    - [Captures](#Captures)\n",
    "    - [Growth](#Growth)\n",
    "        - [SVL Growth](#SVL-Growth)\n",
    "5. [Export Files](#Export-Files)"
   ]
  },
  {
   "cell_type": "markdown",
   "metadata": {},
   "source": [
    "## [Resume Here](#resume)"
   ]
  },
  {
   "cell_type": "markdown",
   "metadata": {},
   "source": [
    "## Introduction\n",
    "\n",
    "This notebook contains code and output of descriptive analyses for the 2000-2017 CC dataset after cleaning.\n",
    "\n",
    "The objectives of this notebook are to describe the community of the _Sceloporus jarrovii_ and _Sceloporus virgatus_ lizards in the Crystal Creek wash from 2000 until 2017.  The population demographic metrics we examine are: [population size](#Population-Size), [sex distribution](#Sex-Distribution), [tail condition distribution](#Tail-Condition-Distribution), [location](#Location), [morphometrics](#Morphometrics) -- [SVL](#SVL), [TL](#TL), [RTL](#RTL), [mass](#Mass) --,  [survival and rates and likelihood of recapture](#Survival-and-Rates-and-Likelihood-of-Recapture), and [growth](#Growth).\n",
    "\n",
    "We will examine these metrics and interactions among them with particular interest in the impact of environmental factors from year to year.\n"
   ]
  },
  {
   "cell_type": "markdown",
   "metadata": {},
   "source": [
    "##  Set up Python\n",
    "\n",
    "[Top](#TOC)"
   ]
  },
  {
   "cell_type": "code",
   "execution_count": 8,
   "metadata": {},
   "outputs": [
    {
     "data": {
      "text/html": [
       "<script>requirejs.config({paths: { 'plotly': ['https://cdn.plot.ly/plotly-latest.min']},});if(!window.Plotly) {{require(['plotly'],function(plotly) {window.Plotly=plotly;});}}</script>"
      ],
      "text/vnd.plotly.v1+html": [
       "<script>requirejs.config({paths: { 'plotly': ['https://cdn.plot.ly/plotly-latest.min']},});if(!window.Plotly) {{require(['plotly'],function(plotly) {window.Plotly=plotly;});}}</script>"
      ]
     },
     "metadata": {},
     "output_type": "display_data"
    }
   ],
   "source": [
    "import pandas as pd\n",
    "import numpy as np\n",
    "import os, glob\n",
    "from summary_functions import *\n",
    "from scipy import stats\n",
    "from monthlit import *\n",
    "\n",
    "\n",
    "import plotly\n",
    "import plotly.plotly as py\n",
    "import plotly.figure_factory as ff\n",
    "import plotly.graph_objs as go\n",
    "from plotly.offline import download_plotlyjs, init_notebook_mode, plot, iplot\n",
    "\n",
    "init_notebook_mode(connected=True)\n",
    "plotly.tools.set_config_file(world_readable=True)\n",
    "\n",
    "# increase print limit\n",
    "pd.options.display.max_rows = 99999\n",
    "pd.options.display.max_columns = 50"
   ]
  },
  {
   "cell_type": "markdown",
   "metadata": {},
   "source": [
    "## Functions\n",
    "\n",
    "This section contains functions that were created for this notebook.\n",
    "\n",
    "- [distribution](#distribution)\n",
    "- [monthlit](#monthlit)"
   ]
  },
  {
   "cell_type": "markdown",
   "metadata": {},
   "source": [
    "### distribution\n",
    "[Back to Top](#TOC)\n",
    "\n",
    "[Back to Functions](#Functions)\n",
    "\n",
    "*distribution* takes a series or list of numeric objects, *x*, and returns descriptive stats of x including\n",
    "        n, minimum, maximum, median, sIQR, mean, and stdev\n",
    "    \n",
    "Here are a few examples of how *distribution* works."
   ]
  },
  {
   "cell_type": "code",
   "execution_count": 2,
   "metadata": {},
   "outputs": [
    {
     "name": "stderr",
     "output_type": "stream",
     "text": [
      "ERROR:root:x must contain only numeric, or NoneType variables:\n",
      " x:\n",
      "0    0\n",
      "1    1\n",
      "2    2\n",
      "3    r\n",
      "dtype: object\n",
      " the following value in x is non-numeric:\n",
      "['r']\n"
     ]
    }
   ],
   "source": [
    "foo = [0,1,2,'r']\n",
    "distribution(foo)"
   ]
  },
  {
   "cell_type": "code",
   "execution_count": 9,
   "metadata": {},
   "outputs": [
    {
     "data": {
      "text/html": [
       "<div>\n",
       "<style scoped>\n",
       "    .dataframe tbody tr th:only-of-type {\n",
       "        vertical-align: middle;\n",
       "    }\n",
       "\n",
       "    .dataframe tbody tr th {\n",
       "        vertical-align: top;\n",
       "    }\n",
       "\n",
       "    .dataframe thead th {\n",
       "        text-align: right;\n",
       "    }\n",
       "</style>\n",
       "<table border=\"1\" class=\"dataframe\">\n",
       "  <thead>\n",
       "    <tr style=\"text-align: right;\">\n",
       "      <th></th>\n",
       "      <th>n</th>\n",
       "      <th>minimum</th>\n",
       "      <th>maximum</th>\n",
       "      <th>median</th>\n",
       "      <th>siqr</th>\n",
       "      <th>mean</th>\n",
       "      <th>stdev</th>\n",
       "    </tr>\n",
       "  </thead>\n",
       "  <tbody>\n",
       "    <tr>\n",
       "      <th>0</th>\n",
       "      <td>3</td>\n",
       "      <td>0</td>\n",
       "      <td>2</td>\n",
       "      <td>1.0</td>\n",
       "      <td>0.5</td>\n",
       "      <td>1.0</td>\n",
       "      <td>1.0</td>\n",
       "    </tr>\n",
       "  </tbody>\n",
       "</table>\n",
       "</div>"
      ],
      "text/plain": [
       "   n  minimum  maximum  median  siqr  mean  stdev\n",
       "0  3        0        2     1.0   0.5   1.0    1.0"
      ]
     },
     "execution_count": 9,
     "metadata": {},
     "output_type": "execute_result"
    }
   ],
   "source": [
    "bar = [0,1,2]\n",
    "distribution(bar)"
   ]
  },
  {
   "cell_type": "markdown",
   "metadata": {},
   "source": [
    "[Back to Functions](#Functions)"
   ]
  },
  {
   "cell_type": "markdown",
   "metadata": {},
   "source": [
    "## monthlit\n",
    "[Back to Top](#TOC)\n",
    "\n",
    "[Back to Functions](#Functions)"
   ]
  },
  {
   "cell_type": "markdown",
   "metadata": {},
   "source": [
    "Here are a few examples of how _monthlit_ works."
   ]
  },
  {
   "cell_type": "code",
   "execution_count": 4,
   "metadata": {},
   "outputs": [
    {
     "data": {
      "text/html": [
       "<div>\n",
       "<style scoped>\n",
       "    .dataframe tbody tr th:only-of-type {\n",
       "        vertical-align: middle;\n",
       "    }\n",
       "\n",
       "    .dataframe tbody tr th {\n",
       "        vertical-align: top;\n",
       "    }\n",
       "\n",
       "    .dataframe thead th {\n",
       "        text-align: right;\n",
       "    }\n",
       "</style>\n",
       "<table border=\"1\" class=\"dataframe\">\n",
       "  <thead>\n",
       "    <tr style=\"text-align: right;\">\n",
       "      <th></th>\n",
       "      <th>dates</th>\n",
       "    </tr>\n",
       "  </thead>\n",
       "  <tbody>\n",
       "    <tr>\n",
       "      <th>0</th>\n",
       "      <td>2018-12-09</td>\n",
       "    </tr>\n",
       "    <tr>\n",
       "      <th>1</th>\n",
       "      <td>2019-08-05</td>\n",
       "    </tr>\n",
       "    <tr>\n",
       "      <th>2</th>\n",
       "      <td>2017-07-04</td>\n",
       "    </tr>\n",
       "    <tr>\n",
       "      <th>3</th>\n",
       "      <td>NaT</td>\n",
       "    </tr>\n",
       "    <tr>\n",
       "      <th>4</th>\n",
       "      <td>NaT</td>\n",
       "    </tr>\n",
       "  </tbody>\n",
       "</table>\n",
       "</div>"
      ],
      "text/plain": [
       "       dates\n",
       "0 2018-12-09\n",
       "1 2019-08-05\n",
       "2 2017-07-04\n",
       "3        NaT\n",
       "4        NaT"
      ]
     },
     "execution_count": 4,
     "metadata": {},
     "output_type": "execute_result"
    }
   ],
   "source": [
    "dates = pd.DataFrame(data={'dates':['2018-12-9','2019-8-5', '2017/7/4',np.nan,None]})\n",
    "dates.dates = pd.to_datetime(dates.dates)\n",
    "dates"
   ]
  },
  {
   "cell_type": "code",
   "execution_count": 5,
   "metadata": {},
   "outputs": [
    {
     "data": {
      "text/plain": [
       "True"
      ]
     },
     "execution_count": 5,
     "metadata": {},
     "output_type": "execute_result"
    }
   ],
   "source": [
    "np.isnan(np.nan)"
   ]
  },
  {
   "cell_type": "code",
   "execution_count": 10,
   "metadata": {},
   "outputs": [
    {
     "data": {
      "text/plain": [
       "'Dec'"
      ]
     },
     "execution_count": 10,
     "metadata": {},
     "output_type": "execute_result"
    }
   ],
   "source": [
    "monthlit(dates.dates.dt.month[0])"
   ]
  },
  {
   "cell_type": "code",
   "execution_count": 11,
   "metadata": {},
   "outputs": [
    {
     "data": {
      "text/plain": [
       "0    Dec\n",
       "1    Aug\n",
       "2    Jul\n",
       "3    NaN\n",
       "4    NaN\n",
       "Name: dates, dtype: object"
      ]
     },
     "execution_count": 11,
     "metadata": {},
     "output_type": "execute_result"
    }
   ],
   "source": [
    "dates.dates.dt.month.apply(monthlit)"
   ]
  },
  {
   "cell_type": "markdown",
   "metadata": {},
   "source": [
    "[Back to Functions](#Functions)"
   ]
  },
  {
   "cell_type": "markdown",
   "metadata": {},
   "source": [
    "## Get Data\n",
    "[Top](#TOC)\n",
    "\n",
    "Here we can set the locations from which we get data and to which we export it."
   ]
  },
  {
   "cell_type": "code",
   "execution_count": 12,
   "metadata": {},
   "outputs": [],
   "source": [
    "# Source Data\n",
    "sourceDataPers = 'C:/Users/Christopher/Google Drive/TailDemography/outputFiles'\n",
    "sourceDataBig = 'S:/Chris/TailDemography/TailDemography/outputFiles'\n",
    "\n",
    "#Output Data paths\n",
    "outputPers = 'C:/Users/Christopher/Google Drive/TailDemography/outputFiles'\n",
    "outputBig = 'S:/Chris/TailDemography/TailDemography/outputFiles'"
   ]
  },
  {
   "cell_type": "markdown",
   "metadata": {},
   "source": [
    "We'll display all files in the source folder with the prefix _'cleaned CC data 2000-2017'_. The file names will be saved in a variable, _mysourcefiles_."
   ]
  },
  {
   "cell_type": "code",
   "execution_count": 18,
   "metadata": {},
   "outputs": [
    {
     "data": {
      "text/plain": [
       "['cleaned CC data 2000-2017.csv',\n",
       " 'cleaned CC data 2000-2017.csv.gsheet',\n",
       " 'cleaned CC data 2000-2017_.csv',\n",
       " 'cleaned CC data 2000-2017_2019-01-31 01hrs43min.csv',\n",
       " 'cleaned CC data 2000-2017_2019-03-10 14hrs42min.csv',\n",
       " 'cleaned CC data 2000-2017_2019-03-12 21hrs48min.csv',\n",
       " 'cleaned CC data 2000-2017_2019-03-12 22hrs52min.csv',\n",
       " 'cleaned CC data 2000-2017_2019-03-12 22hrs55min.csv',\n",
       " 'cleaned CC data 2000-2017_2019-04-25 00hrs58min.csv',\n",
       " 'cleaned CC data 2000-2017_2019-04-25 01hrs00min.csv',\n",
       " 'cleaned CC data 2000-2017_2019-05-02 00hrs17min.csv',\n",
       " 'cleaned CC data 2000-2017_2019-05-02 01hrs03min.csv',\n",
       " 'cleaned CC data 2000-2017_2019-05-02 01hrs08min.csv',\n",
       " 'cleaned CC data 2000-2017_2019-05-04 00hrs33min.csv',\n",
       " 'cleaned CC data 2000-2017_forloop.csv']"
      ]
     },
     "execution_count": 18,
     "metadata": {},
     "output_type": "execute_result"
    }
   ],
   "source": [
    "os.chdir(sourceDataBig)\n",
    "mysourcefiles = glob.glob('cleaned CC data 2000-2017*')\n",
    "mysourcefiles"
   ]
  },
  {
   "cell_type": "code",
   "execution_count": 19,
   "metadata": {},
   "outputs": [
    {
     "data": {
      "text/plain": [
       "'cleaned CC data 2000-2017_2019-05-04 00hrs33min.csv'"
      ]
     },
     "execution_count": 19,
     "metadata": {},
     "output_type": "execute_result"
    }
   ],
   "source": [
    "latest = 'cleaned CC data 2000-2017_2019-05-04 00hrs33min.csv'\n",
    "latest"
   ]
  },
  {
   "cell_type": "markdown",
   "metadata": {},
   "source": [
    "The most recent file is the one we will use as _df_ in our descriptive analysis."
   ]
  },
  {
   "cell_type": "code",
   "execution_count": 20,
   "metadata": {},
   "outputs": [
    {
     "data": {
      "text/html": [
       "<div>\n",
       "<style scoped>\n",
       "    .dataframe tbody tr th:only-of-type {\n",
       "        vertical-align: middle;\n",
       "    }\n",
       "\n",
       "    .dataframe tbody tr th {\n",
       "        vertical-align: top;\n",
       "    }\n",
       "\n",
       "    .dataframe thead th {\n",
       "        text-align: right;\n",
       "    }\n",
       "</style>\n",
       "<table border=\"1\" class=\"dataframe\">\n",
       "  <thead>\n",
       "    <tr style=\"text-align: right;\">\n",
       "      <th></th>\n",
       "      <th>species</th>\n",
       "      <th>toes_orig</th>\n",
       "      <th>sex</th>\n",
       "      <th>date</th>\n",
       "      <th>svl</th>\n",
       "      <th>tl</th>\n",
       "      <th>rtl</th>\n",
       "      <th>autotomized</th>\n",
       "      <th>mass</th>\n",
       "      <th>location</th>\n",
       "      <th>meters</th>\n",
       "      <th>newRecap</th>\n",
       "      <th>painted</th>\n",
       "      <th>sighting</th>\n",
       "      <th>paint.mark</th>\n",
       "      <th>vial</th>\n",
       "      <th>misc</th>\n",
       "      <th>rtl_orig</th>\n",
       "      <th>toes</th>\n",
       "      <th>toe_pattern</th>\n",
       "      <th>description</th>\n",
       "      <th>action</th>\n",
       "      <th>pattern_b</th>\n",
       "      <th>replacement</th>\n",
       "      <th>year</th>\n",
       "      <th>tl_svl</th>\n",
       "      <th>mass_svl</th>\n",
       "      <th>all_meters</th>\n",
       "      <th>initialCaptureDate</th>\n",
       "      <th>year_diff</th>\n",
       "      <th>smallest_svl</th>\n",
       "      <th>svl_diff</th>\n",
       "      <th>liznumber</th>\n",
       "      <th>sex_count</th>\n",
       "      <th>daysSinceCapture</th>\n",
       "      <th>capture</th>\n",
       "    </tr>\n",
       "  </thead>\n",
       "  <tbody>\n",
       "    <tr>\n",
       "      <th>0</th>\n",
       "      <td>j</td>\n",
       "      <td>3-7-11-19</td>\n",
       "      <td>m</td>\n",
       "      <td>2002-07-14</td>\n",
       "      <td>63.0</td>\n",
       "      <td>92.0</td>\n",
       "      <td>0.0</td>\n",
       "      <td>False</td>\n",
       "      <td>10.0</td>\n",
       "      <td>halfway up to site</td>\n",
       "      <td>-200</td>\n",
       "      <td>N</td>\n",
       "      <td>NaN</td>\n",
       "      <td>NaN</td>\n",
       "      <td>b101t</td>\n",
       "      <td>toes in vial 58-02</td>\n",
       "      <td>NaN</td>\n",
       "      <td>0.0</td>\n",
       "      <td>3-7-11-19</td>\n",
       "      <td>NaN</td>\n",
       "      <td>NaN</td>\n",
       "      <td>NaN</td>\n",
       "      <td>NaN</td>\n",
       "      <td>NaN</td>\n",
       "      <td>2002</td>\n",
       "      <td>1.460317</td>\n",
       "      <td>0.158730</td>\n",
       "      <td>['-200']</td>\n",
       "      <td>2002-07-14</td>\n",
       "      <td>0</td>\n",
       "      <td>63.0</td>\n",
       "      <td>0.0</td>\n",
       "      <td>375</td>\n",
       "      <td>1</td>\n",
       "      <td>0</td>\n",
       "      <td>1</td>\n",
       "    </tr>\n",
       "    <tr>\n",
       "      <th>1</th>\n",
       "      <td>j</td>\n",
       "      <td>3-7-11-18</td>\n",
       "      <td>m</td>\n",
       "      <td>2002-07-14</td>\n",
       "      <td>66.0</td>\n",
       "      <td>92.0</td>\n",
       "      <td>0.0</td>\n",
       "      <td>False</td>\n",
       "      <td>10.8</td>\n",
       "      <td>left downstream 100m v 1 falls</td>\n",
       "      <td>-100</td>\n",
       "      <td>N</td>\n",
       "      <td>NaN</td>\n",
       "      <td>NaN</td>\n",
       "      <td>b102t</td>\n",
       "      <td>toes in vial 59-02</td>\n",
       "      <td>NaN</td>\n",
       "      <td>0.0</td>\n",
       "      <td>3-7-11-18</td>\n",
       "      <td>NaN</td>\n",
       "      <td>NaN</td>\n",
       "      <td>NaN</td>\n",
       "      <td>NaN</td>\n",
       "      <td>NaN</td>\n",
       "      <td>2002</td>\n",
       "      <td>1.393939</td>\n",
       "      <td>0.163636</td>\n",
       "      <td>['-100' '87']</td>\n",
       "      <td>2002-07-14</td>\n",
       "      <td>0</td>\n",
       "      <td>66.0</td>\n",
       "      <td>0.0</td>\n",
       "      <td>374</td>\n",
       "      <td>1</td>\n",
       "      <td>0</td>\n",
       "      <td>1</td>\n",
       "    </tr>\n",
       "    <tr>\n",
       "      <th>2</th>\n",
       "      <td>j</td>\n",
       "      <td>3-7-12-16</td>\n",
       "      <td>m</td>\n",
       "      <td>2002-07-14</td>\n",
       "      <td>68.0</td>\n",
       "      <td>103.0</td>\n",
       "      <td>0.0</td>\n",
       "      <td>False</td>\n",
       "      <td>10.3</td>\n",
       "      <td>90m v 1 falls</td>\n",
       "      <td>-90</td>\n",
       "      <td>N</td>\n",
       "      <td>NaN</td>\n",
       "      <td>NaN</td>\n",
       "      <td>b103t</td>\n",
       "      <td>toes in vial 60-02</td>\n",
       "      <td>NaN</td>\n",
       "      <td>0.0</td>\n",
       "      <td>3-7-12-16</td>\n",
       "      <td>NaN</td>\n",
       "      <td>NaN</td>\n",
       "      <td>NaN</td>\n",
       "      <td>NaN</td>\n",
       "      <td>NaN</td>\n",
       "      <td>2002</td>\n",
       "      <td>1.514706</td>\n",
       "      <td>0.151471</td>\n",
       "      <td>['-90']</td>\n",
       "      <td>2002-07-14</td>\n",
       "      <td>0</td>\n",
       "      <td>68.0</td>\n",
       "      <td>0.0</td>\n",
       "      <td>376</td>\n",
       "      <td>1</td>\n",
       "      <td>0</td>\n",
       "      <td>1</td>\n",
       "    </tr>\n",
       "    <tr>\n",
       "      <th>3</th>\n",
       "      <td>j</td>\n",
       "      <td>10</td>\n",
       "      <td>m</td>\n",
       "      <td>2002-07-14</td>\n",
       "      <td>85.0</td>\n",
       "      <td>118.0</td>\n",
       "      <td>0.0</td>\n",
       "      <td>False</td>\n",
       "      <td>19.5</td>\n",
       "      <td>sb - trail intersection v 1 falls</td>\n",
       "      <td>-20</td>\n",
       "      <td>R</td>\n",
       "      <td>toe loss may be natural</td>\n",
       "      <td>NaN</td>\n",
       "      <td>b104t</td>\n",
       "      <td>NaN</td>\n",
       "      <td>NaN</td>\n",
       "      <td>0.0</td>\n",
       "      <td>10</td>\n",
       "      <td>NaN</td>\n",
       "      <td>NaN</td>\n",
       "      <td>NaN</td>\n",
       "      <td>NaN</td>\n",
       "      <td>NaN</td>\n",
       "      <td>2002</td>\n",
       "      <td>1.388235</td>\n",
       "      <td>0.229412</td>\n",
       "      <td>['-20' '-12' '-35']</td>\n",
       "      <td>2002-07-14</td>\n",
       "      <td>0</td>\n",
       "      <td>85.0</td>\n",
       "      <td>0.0</td>\n",
       "      <td>830</td>\n",
       "      <td>2</td>\n",
       "      <td>0</td>\n",
       "      <td>1</td>\n",
       "    </tr>\n",
       "    <tr>\n",
       "      <th>4</th>\n",
       "      <td>v</td>\n",
       "      <td>10-16</td>\n",
       "      <td>f</td>\n",
       "      <td>2002-07-03</td>\n",
       "      <td>63.0</td>\n",
       "      <td>49.0</td>\n",
       "      <td>21.0</td>\n",
       "      <td>True</td>\n",
       "      <td>11.6</td>\n",
       "      <td>left side @ base juniper 8 m ^ sb; 15m v 1 falls</td>\n",
       "      <td>-15</td>\n",
       "      <td>N</td>\n",
       "      <td>painted; gravid; &lt;5 mites in pockets</td>\n",
       "      <td>NaN</td>\n",
       "      <td>w1a</td>\n",
       "      <td>toes in vial 34-02 (10-16)</td>\n",
       "      <td>NaN</td>\n",
       "      <td>21.0</td>\n",
       "      <td>10-16</td>\n",
       "      <td>NaN</td>\n",
       "      <td>NaN</td>\n",
       "      <td>NaN</td>\n",
       "      <td>NaN</td>\n",
       "      <td>NaN</td>\n",
       "      <td>2002</td>\n",
       "      <td>0.777778</td>\n",
       "      <td>0.184127</td>\n",
       "      <td>['-15']</td>\n",
       "      <td>2002-07-03</td>\n",
       "      <td>0</td>\n",
       "      <td>63.0</td>\n",
       "      <td>0.0</td>\n",
       "      <td>1414</td>\n",
       "      <td>1</td>\n",
       "      <td>0</td>\n",
       "      <td>1</td>\n",
       "    </tr>\n",
       "  </tbody>\n",
       "</table>\n",
       "</div>"
      ],
      "text/plain": [
       "  species   toes_orig sex        date   svl     tl   rtl autotomized  mass  \\\n",
       "0       j   3-7-11-19   m  2002-07-14  63.0   92.0   0.0       False  10.0   \n",
       "1       j   3-7-11-18   m  2002-07-14  66.0   92.0   0.0       False  10.8   \n",
       "2       j   3-7-12-16   m  2002-07-14  68.0  103.0   0.0       False  10.3   \n",
       "3       j          10   m  2002-07-14  85.0  118.0   0.0       False  19.5   \n",
       "4       v       10-16   f  2002-07-03  63.0   49.0  21.0        True  11.6   \n",
       "\n",
       "                                           location meters newRecap  \\\n",
       "0                                halfway up to site   -200        N   \n",
       "1                    left downstream 100m v 1 falls   -100        N   \n",
       "2                                     90m v 1 falls    -90        N   \n",
       "3                 sb - trail intersection v 1 falls    -20        R   \n",
       "4  left side @ base juniper 8 m ^ sb; 15m v 1 falls    -15        N   \n",
       "\n",
       "                                painted  sighting paint.mark  \\\n",
       "0                                   NaN       NaN      b101t   \n",
       "1                                   NaN       NaN      b102t   \n",
       "2                                   NaN       NaN      b103t   \n",
       "3               toe loss may be natural       NaN      b104t   \n",
       "4  painted; gravid; <5 mites in pockets       NaN        w1a   \n",
       "\n",
       "                         vial misc  rtl_orig        toes  toe_pattern  \\\n",
       "0          toes in vial 58-02  NaN       0.0   3-7-11-19          NaN   \n",
       "1          toes in vial 59-02  NaN       0.0   3-7-11-18          NaN   \n",
       "2          toes in vial 60-02  NaN       0.0   3-7-12-16          NaN   \n",
       "3                         NaN  NaN       0.0          10          NaN   \n",
       "4  toes in vial 34-02 (10-16)  NaN      21.0       10-16          NaN   \n",
       "\n",
       "  description action pattern_b replacement  year    tl_svl  mass_svl  \\\n",
       "0         NaN    NaN       NaN         NaN  2002  1.460317  0.158730   \n",
       "1         NaN    NaN       NaN         NaN  2002  1.393939  0.163636   \n",
       "2         NaN    NaN       NaN         NaN  2002  1.514706  0.151471   \n",
       "3         NaN    NaN       NaN         NaN  2002  1.388235  0.229412   \n",
       "4         NaN    NaN       NaN         NaN  2002  0.777778  0.184127   \n",
       "\n",
       "            all_meters initialCaptureDate  year_diff  smallest_svl  svl_diff  \\\n",
       "0             ['-200']         2002-07-14          0          63.0       0.0   \n",
       "1        ['-100' '87']         2002-07-14          0          66.0       0.0   \n",
       "2              ['-90']         2002-07-14          0          68.0       0.0   \n",
       "3  ['-20' '-12' '-35']         2002-07-14          0          85.0       0.0   \n",
       "4              ['-15']         2002-07-03          0          63.0       0.0   \n",
       "\n",
       "   liznumber  sex_count  daysSinceCapture  capture  \n",
       "0        375          1                 0        1  \n",
       "1        374          1                 0        1  \n",
       "2        376          1                 0        1  \n",
       "3        830          2                 0        1  \n",
       "4       1414          1                 0        1  "
      ]
     },
     "execution_count": 20,
     "metadata": {},
     "output_type": "execute_result"
    }
   ],
   "source": [
    "df=pd.read_csv(latest)\n",
    "df.head()"
   ]
  },
  {
   "cell_type": "markdown",
   "metadata": {},
   "source": [
    "## Analyze Data\n",
    "[Top](#TOC)\n",
    "\n",
    "We will first examine the range and distribution of number of variables in our data set:\n",
    "- [Population Size](#Population-Size)\n",
    "- [Species Distribution](#Species-Distribution)\n",
    "- [Sex Distribution](#Sex-Distribution)\n",
    "- [Tail Condition Distribution](#Tail-Condition-Distribution)\n",
    "- [Location](#Location)\n",
    "- [Morphometrics](#Morphometrics):\n",
    "    - [SVL](#SVL)\n",
    "    - [TL](#TL)\n",
    "    - [RTL](#RTL)\n",
    "    - [Mass](#Mass)\n",
    "- [Survival and Rates and Likelihood of Recapture](#Survival-and-Rates-and-Likelihood-of-Recapture)\n",
    "- [Captures](#Captures)\n",
    "- [Growth](#Growth)\n",
    "    - [SVL Growth](#SVL-Growth)"
   ]
  },
  {
   "cell_type": "markdown",
   "metadata": {},
   "source": [
    "### Species Distribution\n",
    "\n",
    "We will begin by examining the range and distribution of _species_ values.\n",
    "\n",
    "[Back to Top](#Table-of-Contents)\n",
    "\n",
    "[Back to Analyze Data](#Analyze-Data)"
   ]
  },
  {
   "cell_type": "code",
   "execution_count": null,
   "metadata": {},
   "outputs": [],
   "source": [
    "df.species.value_counts(dropna=False)"
   ]
  },
  {
   "cell_type": "markdown",
   "metadata": {},
   "source": [
    "These values should only be _'j', 'v', and 'other'_ any other values will be removed in the cleaning notebook and excluded from further analyses here."
   ]
  },
  {
   "cell_type": "code",
   "execution_count": null,
   "metadata": {},
   "outputs": [],
   "source": [
    "df = df.loc[df.species.isin(['j','v'])]\n",
    "df.species.value_counts(dropna=False)"
   ]
  },
  {
   "cell_type": "markdown",
   "metadata": {},
   "source": [
    "### Sex Distribution\n",
    "\n",
    "We will begin by examining the range and distribution of _sex_ values.\n",
    "\n",
    "[Back to Top](#Table-of-Contents)\n",
    "\n",
    "[Back to Analyze Data](#Analyze-Data)"
   ]
  },
  {
   "cell_type": "code",
   "execution_count": null,
   "metadata": {},
   "outputs": [],
   "source": [
    "df.sex.value_counts(dropna=False)"
   ]
  },
  {
   "cell_type": "markdown",
   "metadata": {},
   "source": [
    "These values should only be _'m' and 'f'_.  Any other values will be removed in the cleaning notebook and excluded from further analyses here."
   ]
  },
  {
   "cell_type": "code",
   "execution_count": null,
   "metadata": {},
   "outputs": [],
   "source": [
    "df = df.loc[df.sex.isin(['m','f'])]\n",
    "df.sex.value_counts(dropna=False)"
   ]
  },
  {
   "cell_type": "markdown",
   "metadata": {},
   "source": [
    "<a id = 'Autotomy'></a>"
   ]
  },
  {
   "cell_type": "markdown",
   "metadata": {},
   "source": [
    "### Tail Condition Distribution\n",
    "\n",
    "Here we look at the proportion of individuals in our data who have experienced autotomy.\n",
    "\n",
    "[Back to Top](#Table-of-Contents)\n",
    "\n",
    "[Back to Analyze Data](#Analyze-Data)"
   ]
  },
  {
   "cell_type": "code",
   "execution_count": null,
   "metadata": {},
   "outputs": [],
   "source": [
    "#need to get rid of duplicate lizard numbers in each year (in case of a change in autotomy status)\n",
    "jarrovii_aut = go.Bar(y = df.loc[(df.species=='j')&(df.autotomized==False)]\\\n",
    "                            .groupby(['year']).liznumber.nunique()\n",
    "                     ,name = 'S. jarrovii (Intact)',x=df.year.unique())\n",
    "jarrovii_int = go.Histogram(y = df.loc[(df.species=='j')&(df.autotomized==False)]\\\n",
    "                            .groupby(['year']).liznumber.nunique()\n",
    "                     ,name = 'S. jarrovii (Intact)',x=df.year.unique())\n",
    "virgatus_aut = go.Histogram(y = df.loc[(df.species=='v')&(df.autotomized==True)]\\\n",
    "                            .groupby(['year']).liznumber.nunique()\n",
    "                     ,name = 'S. virgatus (Autotomized)',x=df.year.unique())\n",
    "virgatus_int = go.Histogram(y = df.loc[(df.species=='v')&(df.autotomized==False)]\\\n",
    "                            .groupby(['year']).liznumber.nunique()\n",
    "                     ,name = 'S. virgatus (Intact)',x=df.year.unique())\n",
    "data = [jarrovii_aut, jarrovii_int, virgatus_aut, virgatus_int]\n",
    "layout = go.Layout(\n",
    "    title = 'Distribution of Autotomy for Sceloporus jarrovii and S. virgatus 2000-2017',\n",
    "    titlefont = dict(\n",
    "        size = 20),\n",
    "    xaxis = dict(\n",
    "        dtick = 1,\n",
    "        title = 'Year',\n",
    "        titlefont = dict(\n",
    "            size = 18)),\n",
    "    yaxis = dict(\n",
    "        title = 'Number of Lizards',\n",
    "        titlefont = dict(\n",
    "            size = 18))\n",
    ")\n",
    "fig = go.Figure(\n",
    "        data = data,\n",
    "        layout = layout)\n",
    "py.iplot(fig, filename = 'Distribution of Autotomy for Sceloporus jarrovii and S. virgatus 2000-2017')"
   ]
  },
  {
   "cell_type": "markdown",
   "metadata": {},
   "source": [
    "Let's look at how this distribution changes throughout the years."
   ]
  },
  {
   "cell_type": "markdown",
   "metadata": {},
   "source": [
    "<a id = 'resume'></a>\n",
    "\n",
    "[Back to Top](#TOC)"
   ]
  },
  {
   "cell_type": "markdown",
   "metadata": {},
   "source": [
    "### Morphometrics\n",
    "\n",
    "In this section we describe the distributions of various morphometrics.\n",
    "\n",
    "- [SVL](#SVL)\n",
    "- [TL](#TL)\n",
    "- [RTL](#RTL)\n",
    "- [Mass](#SVL)\n",
    "\n",
    "[Back to Top](#Table-of-Contents)\n",
    "\n",
    "[Back to Analyze Data](#Analyze-Data)"
   ]
  },
  {
   "cell_type": "markdown",
   "metadata": {},
   "source": [
    "#### SVL\n",
    "\n",
    "Now we examine the range and distribution of svl values by species.\n",
    "\n",
    "[Back to Morphometrics](#Morphometrics)\n"
   ]
  },
  {
   "cell_type": "markdown",
   "metadata": {},
   "source": [
    "We will use the [distribution](#distribution) function to do this and then plot these values.\n",
    "\n",
    "- [Histogram of SVL](#SVLhist)"
   ]
  },
  {
   "cell_type": "code",
   "execution_count": null,
   "metadata": {
    "scrolled": true
   },
   "outputs": [],
   "source": [
    "print(\"svl values in the data set range from {} to {} for and are distributed across species and sex \\\n",
    "as displayed here:\"\\\n",
    "      .format(df.svl.min(), df.svl.max()))\n",
    "df.groupby(['species','sex']).svl.apply(distribution)"
   ]
  },
  {
   "cell_type": "markdown",
   "metadata": {},
   "source": [
    "Let's plot these values. "
   ]
  },
  {
   "cell_type": "markdown",
   "metadata": {},
   "source": [
    "##### Histogram of SVL values\n",
    "\n",
    "[Back to Top](#Table-of-Contents)\n",
    "\n",
    "[Back to Analyze Data](#Analyze-Data)\n"
   ]
  },
  {
   "cell_type": "code",
   "execution_count": null,
   "metadata": {},
   "outputs": [],
   "source": [
    "femaleSj = go.Histogram(x = df.loc[(df.species=='j')&(df.sex=='f')].svl,name='Sj females')\n",
    "maleSj = go.Histogram(x = df.loc[(df.species=='j')&(df.sex=='m')].svl,name='Sj males')\n",
    "femaleSv = go.Histogram(x = df.loc[(df.species=='v')&(df.sex=='f')].svl,name='Sv females')\n",
    "maleSv = go.Histogram(x = df.loc[(df.species=='v')&(df.sex=='m')].svl,name='Sv males')\n",
    "\n",
    "data = [maleSj,maleSv,femaleSj,femaleSv]\n",
    "layout = go.Layout(\n",
    "    title = 'Histogram of SVL at Capture for CC 2000-2017',\n",
    "    titlefont = dict(\n",
    "        size = 20),\n",
    "    xaxis = dict(\n",
    "        dtick = 1,\n",
    "        title = 'SVL at time of capture',\n",
    "        titlefont = dict(\n",
    "            size = 18)),\n",
    "    yaxis = dict(\n",
    "        title = 'Number of Lizards',\n",
    "        titlefont = dict(\n",
    "            size = 18)))\n",
    "\n",
    "fig = go.Figure(\n",
    "        data = data,\n",
    "        layout = layout)\n",
    "py.iplot(fig, filename = 'Histogram of SVL at Capture for CC 2000-2017')"
   ]
  },
  {
   "cell_type": "markdown",
   "metadata": {},
   "source": [
    " Outliers will be addressed in the Cleaning notebook, but will be removed for the remained of the analyses here."
   ]
  },
  {
   "cell_type": "code",
   "execution_count": null,
   "metadata": {
    "scrolled": true
   },
   "outputs": [],
   "source": [
    "df.loc[(df.species=='v')&(df.svl==79)] = None\n",
    "print(\"svl values in the data set range from {} to {} for and are distributed across species and sex \\\n",
    "as displayed here:\"\\\n",
    "      .format(df.svl.min(), df.svl.max()))\n",
    "df.groupby(['species','sex']).svl.apply(distribution)"
   ]
  },
  {
   "cell_type": "markdown",
   "metadata": {},
   "source": [
    "#### TL\n",
    "\n",
    "Now we examine the range and distribution of TL values by species.\n",
    "\n",
    "[Back to Morphometrics](#Morphometrics)\n"
   ]
  },
  {
   "cell_type": "markdown",
   "metadata": {},
   "source": [
    "We will use the [distribution](#distribution) function to do this and then plot these values.\n",
    "\n",
    "- [Histogram of TL](#TLhist)"
   ]
  },
  {
   "cell_type": "code",
   "execution_count": null,
   "metadata": {},
   "outputs": [],
   "source": [
    "print(\"tl values among intact lizards in the data set range from {} to {} for and are \\\n",
    "distributed across species and sex as displayed here:\"\\\n",
    "      .format(df.tl.min(), df.tl.max()))\n",
    "df.loc[df.autotomized==False].groupby(['species','sex']).tl.apply(distribution)"
   ]
  },
  {
   "cell_type": "code",
   "execution_count": null,
   "metadata": {
    "scrolled": true
   },
   "outputs": [],
   "source": [
    "print(\"tl values among autotomized lizards in the data set range from {} to {} for and are \\\n",
    "distributed across species and sex as displayed here:\"\\\n",
    "      .format(df.tl.min(), df.tl.max()))\n",
    "df.loc[df.autotomized==True].groupby(['species','sex']).tl.apply(distribution)"
   ]
  },
  {
   "cell_type": "markdown",
   "metadata": {},
   "source": [
    "#### RTL\n",
    "\n",
    "Now we examine the range and distribution of RTL values by species.\n",
    "\n",
    "[Back to Morphometrics](#Morphometrics)\n"
   ]
  },
  {
   "cell_type": "markdown",
   "metadata": {},
   "source": [
    "We will use the [distribution](#distribution) function to do this and then plot these values.\n",
    "\n",
    "- [Histogram of RTL](#RTLhist)"
   ]
  },
  {
   "cell_type": "code",
   "execution_count": null,
   "metadata": {
    "scrolled": true
   },
   "outputs": [],
   "source": [
    "print(\"rtl values among autotomized lizards in the data set range from {} to {} for and are \\\n",
    "distributed across species and sex as displayed here:\"\\\n",
    "      .format(df.rtl.min(), df.rtl.max()))\n",
    "df.loc[df.autotomized==True].groupby(['species','sex']).rtl.apply(distribution)"
   ]
  },
  {
   "cell_type": "markdown",
   "metadata": {},
   "source": [
    "## Captures\n",
    "\n",
    "[Back to Top](#Table-of-Contents)\n",
    "\n",
    "[Back to Analyze Data](#Analyze-Data)"
   ]
  },
  {
   "cell_type": "markdown",
   "metadata": {},
   "source": [
    "Let's take a look at the number of times that lizards have been captured.  To do this, we will group lizards by lizard number and then look at the maximum number of captures for each lizard and finally count the number of lizards that have a given number of captures."
   ]
  },
  {
   "cell_type": "code",
   "execution_count": null,
   "metadata": {},
   "outputs": [],
   "source": [
    "df.groupby(['species','liznumber']).capture.max().reset_index().rename(columns={'capture':'numCaptures'})"
   ]
  },
  {
   "cell_type": "code",
   "execution_count": null,
   "metadata": {},
   "outputs": [],
   "source": [
    "Sj = go.Histogram(x = df.loc[(df.species=='j')].groupby('liznumber').capture.max(),name='Sj')\n",
    "Sv = go.Histogram(x = df.loc[(df.species=='v')].groupby('liznumber').capture.max(),name='Sv')\n",
    "\n",
    "data = [Sj,Sv]\n",
    "layout = go.Layout(\n",
    "    title = 'Histogram of Maximum Number of Captures for CC 2000-2017',\n",
    "    titlefont = dict(\n",
    "        size = 20),\n",
    "    xaxis = dict(\n",
    "        dtick = 1,\n",
    "        title = 'Maximum Number of Captures',\n",
    "        titlefont = dict(\n",
    "            size = 18)),\n",
    "    yaxis = dict(\n",
    "        title = 'Number of Unique Lizards',\n",
    "        titlefont = dict(\n",
    "            size = 18)))\n",
    "\n",
    "fig = go.Figure(\n",
    "        data = data,\n",
    "        layout = layout)\n",
    "py.iplot(fig, filename = 'Histogram of Maximum Number of Captures for CC 2000-2017')"
   ]
  },
  {
   "cell_type": "markdown",
   "metadata": {},
   "source": [
    "## Reducing the analyses sample by date range and capture"
   ]
  },
  {
   "cell_type": "code",
   "execution_count": null,
   "metadata": {},
   "outputs": [],
   "source": [
    "# convert date to pandas datetime\n",
    "#df.date=pd.to_datetime(df.date)\n",
    "# limiting months to between May and August\n",
    "# df = df.loc[(df.date.dt.month>=5) & (df.date.dt.month<=8)]\n",
    "# limit to first captures\n",
    "df_first = df.sort_values(by=['liznumber','date'])\n",
    "df_first = df_first.loc[~df_first.duplicated(subset='liznumber')]"
   ]
  },
  {
   "cell_type": "markdown",
   "metadata": {},
   "source": [
    "### Number of lizards (*Sj*) by year and sex"
   ]
  },
  {
   "cell_type": "code",
   "execution_count": null,
   "metadata": {},
   "outputs": [],
   "source": [
    "df.groupby('year').sex.value_counts()"
   ]
  },
  {
   "cell_type": "markdown",
   "metadata": {
    "scrolled": true
   },
   "source": [
    "Pull out all individuals that we've recaught for Sj and writes to csv"
   ]
  },
  {
   "cell_type": "code",
   "execution_count": null,
   "metadata": {
    "scrolled": true
   },
   "outputs": [],
   "source": [
    "multicapToes=df.loc[(df.species=='j')& (df.toes!=\"\")& (df.toes!='NA')]\\\n",
    ".toes.value_counts()[df.loc[df.species=='j']\\\n",
    "                     .toes.value_counts()>1].index.tolist()\n",
    "# df.loc[df.toes.isin(multicapToes)].sort_values(by=['toes','date']).to_csv('multicaps.csv')"
   ]
  },
  {
   "cell_type": "markdown",
   "metadata": {},
   "source": [
    "### Maximum Number of Captures"
   ]
  },
  {
   "cell_type": "code",
   "execution_count": null,
   "metadata": {},
   "outputs": [],
   "source": [
    "dfF = df.loc[df.sex =='f']\n",
    "dfM = df.loc[df.sex =='m']\n",
    "\n",
    "females = go.Histogram(x = dfF.groupby('liznumber').capture.max(),name='females')\n",
    "males = go.Histogram(x = dfM.groupby('liznumber').capture.max(),name='males')\n",
    "\n",
    "data = [males,females]\n",
    "layout = go.Layout(\n",
    "    title = 'Maximum Number of Captures per Individual 2000-2017',\n",
    "    titlefont = dict(\n",
    "        size = 20),\n",
    "    xaxis = dict(\n",
    "        dtick = 1,\n",
    "        title = 'Maximum Number of Captures',\n",
    "        titlefont = dict(\n",
    "            size = 18)),\n",
    "    yaxis = dict(\n",
    "        title = 'Number of Lizards',\n",
    "        titlefont = dict(\n",
    "            size = 18)))\n",
    "\n",
    "fig = go.Figure(\n",
    "        data = data,\n",
    "        layout = layout)\n",
    "py.iplot(fig, filename = 'Histogram of Maximum Captures per Individual in Crystal Creek 2000 - 2017')"
   ]
  },
  {
   "cell_type": "code",
   "execution_count": null,
   "metadata": {},
   "outputs": [],
   "source": [
    "df.capture.value_counts()"
   ]
  },
  {
   "cell_type": "markdown",
   "metadata": {},
   "source": [
    "## Growth\n",
    "\n",
    "[Back to Top](#Table-of-Contents)\n",
    "\n",
    "[Back to Analyze Data](#Analyze-Data)"
   ]
  },
  {
   "cell_type": "markdown",
   "metadata": {},
   "source": [
    "Let's take a look at the number of times that lizards have been captured.  To do this, we will group lizards by lizard number and then look at the maximum number of captures for each lizard and finally count the number of lizards that have a given number of captures."
   ]
  },
  {
   "cell_type": "markdown",
   "metadata": {},
   "source": [
    "### SVL Growth\n",
    "\n",
    "[Back to Top](#Table-of-Contents)\n",
    "\n",
    "[Back to Analyze Data](#Analyze-Data)"
   ]
  },
  {
   "cell_type": "markdown",
   "metadata": {},
   "source": [
    "What is the body size growth rate?"
   ]
  },
  {
   "cell_type": "code",
   "execution_count": null,
   "metadata": {},
   "outputs": [],
   "source": [
    "df.capture.value_counts()"
   ]
  },
  {
   "cell_type": "markdown",
   "metadata": {},
   "source": [
    "## Export Files\n",
    "[Back to Top](#Table-of-Contents)\n",
    "\n",
    "[Back to Analyze Data](#Analyze-Data)"
   ]
  },
  {
   "cell_type": "code",
   "execution_count": null,
   "metadata": {},
   "outputs": [],
   "source": []
  }
 ],
 "metadata": {
  "kernelspec": {
   "display_name": "Python 3",
   "language": "python",
   "name": "python3"
  },
  "language_info": {
   "codemirror_mode": {
    "name": "ipython",
    "version": 3
   },
   "file_extension": ".py",
   "mimetype": "text/x-python",
   "name": "python",
   "nbconvert_exporter": "python",
   "pygments_lexer": "ipython3",
   "version": "3.6.5"
  }
 },
 "nbformat": 4,
 "nbformat_minor": 2
}
