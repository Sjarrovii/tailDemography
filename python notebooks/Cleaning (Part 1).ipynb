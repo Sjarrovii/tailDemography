{
 "cells": [
  {
   "cell_type": "markdown",
   "metadata": {},
   "source": [
    "<a id='TOC'></a>"
   ]
  },
  {
   "cell_type": "markdown",
   "metadata": {},
   "source": [
    "# Cleaning Data (Part 1)\n",
    "The purpose of this notebook is to read in raw excel data for multiple years, append them into a single dataframe."
   ]
  },
  {
   "cell_type": "markdown",
   "metadata": {},
   "source": [
    "# Table of Contents\n",
    "1. [Setting up Python](#SettingUp)\n",
    "    \n",
    "    a. [Setting the Location](#SettingLoc)\n",
    "    \n",
    "    b. [Importing Necessary Packages](#ImportingPackages)\n",
    "    \n",
    "    c. [Preparing for a Save](#PreparingSave)\n",
    "    \n",
    "\n",
    "2. [Handling Columns](#HandlingColumns)\n",
    "    \n",
    "    a. [Find Unique Column Names](#FindUniqueCol)\n",
    "    \n",
    "    b. [Eliminate Unnecessary Columns](#DropCol)\n",
    "    \n",
    "    c. [Combine Synonyms](#CombineCol)\n",
    "\n",
    "3. [Reading and Appending Data](#ReadingAppendingData)\n",
    "\n",
    "4. [Exporting Data](#ExportingData)"
   ]
  },
  {
   "cell_type": "markdown",
   "metadata": {},
   "source": [
    "<a id='SettingUp'></a>"
   ]
  },
  {
   "cell_type": "markdown",
   "metadata": {},
   "source": [
    "# Setting up Python\n",
    "[Top](#TOC)\n",
    "\n",
    "[Setting the Location](#SettingLoc)\n",
    "    \n",
    "[Importing Necessary Packages](#ImportingPackages)\n",
    "    \n",
    "[Getting Data](#GettingData)\n",
    "    \n",
    "[Preparing for a Save](#PreparingSave)"
   ]
  },
  {
   "cell_type": "markdown",
   "metadata": {},
   "source": [
    "<a id='ImportingPackages'></a>"
   ]
  },
  {
   "cell_type": "markdown",
   "metadata": {},
   "source": [
    "## Importing Necessary Packages\n",
    "\n",
    "[Top](#TOC)\n",
    "\n",
    "[Setting Up Python](#SettingUp)\n",
    "\n",
    "Here we import necessary packages. \n",
    "This chunk may take a while."
   ]
  },
  {
   "cell_type": "code",
   "execution_count": 1,
   "metadata": {},
   "outputs": [],
   "source": [
    "import pandas as pd\n",
    "import numpy as np\n",
    "import glob,os\n",
    "from liz_number import lizsort,mindate,smallest,validate\n",
    "from liz_toes import make_str,label_pattern, replace_pattern,report_pattern\n",
    "\n",
    "import plotly\n",
    "import plotly.plotly as py\n",
    "import plotly.graph_objs as go\n",
    "\n",
    "plotly.tools.set_config_file(world_readable=True)\n",
    "\n",
    "# increase print limit\n",
    "pd.options.display.max_rows = 99999"
   ]
  },
  {
   "cell_type": "markdown",
   "metadata": {},
   "source": [
    "<a id='functions'></a>"
   ]
  },
  {
   "cell_type": "markdown",
   "metadata": {},
   "source": [
    "## Functions\n",
    "[Top](#TOC)\n",
    "\n",
    "[Setting Up Python](#SettingUp)"
   ]
  },
  {
   "cell_type": "code",
   "execution_count": 2,
   "metadata": {},
   "outputs": [],
   "source": [
    "def xlcolshape(file):\n",
    "    \"\"\"xlcolshape takes a file name as a string and returns the shape of the excel file\"\"\"\n",
    "    return pd.read_excel(file).shape"
   ]
  },
  {
   "cell_type": "code",
   "execution_count": 3,
   "metadata": {},
   "outputs": [],
   "source": [
    "def xlsheets(file):\n",
    "    \"\"\"The function takes a string, *file*, and returns the number and names of sheets in that file.\\\n",
    "    The function relies on the pandas package.\"\"\"\n",
    "    tmp = pd.ExcelFile(file)\n",
    "    res = {'file_name':file,'num_sheets':len(tmp.sheet_names),'names': tmp.sheet_names}\n",
    "    return res"
   ]
  },
  {
   "cell_type": "code",
   "execution_count": 4,
   "metadata": {},
   "outputs": [],
   "source": [
    "def xluniquecol2(file, header = 0):\n",
    "    tmp = []\n",
    "    for sheet in pd.ExcelFile(file).sheet_names:\n",
    "        if (('species' in pd.read_excel(file,sheet_name=sheet, header = header).columns)\\\n",
    "            or('Species' in pd.read_excel(file,sheet_name=sheet, header = header).columns)):\n",
    "            try:\n",
    "                tmp = list(set(tmp+list(pd.read_excel(file,sheet_name=sheet).columns)))\n",
    "                print(\"Doing stuff you asked me to do for file \\'{}\\',sheet \\'{}\\' programmer person.\"\\\n",
    "                      .format(file,sheet))\n",
    "                res = tmp\n",
    "            except:\n",
    "                print(\"This didn't work for file {}, sheet {}\".format(file,sheet))\n",
    "        else:\n",
    "            print(\"Check columns for file {}.\".format(file))\n",
    "            res = None\n",
    "    return res\n",
    "            "
   ]
  },
  {
   "cell_type": "code",
   "execution_count": 5,
   "metadata": {},
   "outputs": [],
   "source": [
    "def colmatchtodict(x,series, dictsource, key= None):\n",
    "    \"\"\"This takes a string, x, and a looks for values in a series that match that contain that string.\n",
    "    Those values which match are returned as values in a python dict for the key, key.\"\"\"\n",
    "    \n",
    "    assert isinstance(series,pd.Series)\n",
    "    if key is None:\n",
    "        key = x\n",
    "    tmp = series[series.astype(str).str.contains(x,case = False)].tolist()\n",
    "    dictsource[key] = tmp\n",
    "    return dictsource\n",
    "    "
   ]
  },
  {
   "cell_type": "code",
   "execution_count": 6,
   "metadata": {},
   "outputs": [],
   "source": [
    "def findsyn (name,dictionary, verbose = True):\n",
    "    \"\"\"\n",
    "    *findsyn* checks searches the values of the dict *dictionary* for the string, *name* and returns \n",
    "    the key for the key,value pair to which *name* belongs.\n",
    "    \"\"\"\n",
    "    tmp = pd.DataFrame({'preferredcol':list(dictionary.keys()),'synonymns':list(dictionary.values())})\n",
    "    try:\n",
    "        res = list(tmp.preferredcol[tmp.synonymns.apply(lambda x:name in x)])[0]\n",
    "    except:\n",
    "        res = None\n",
    "        if verbose == True:\n",
    "            print(\"No value matching \\\"{}\\\" was found in the dictionary.\".format(name))\n",
    "    return res"
   ]
  },
  {
   "cell_type": "code",
   "execution_count": 7,
   "metadata": {},
   "outputs": [],
   "source": [
    "def readnclean(x,dictionary,dtype=None):\n",
    "    \"\"\"\n",
    "    This function reads an excel file, renames columns deemed synonymous according to a dict,\n",
    "    *dictionary*, and drops unnecessary columns before returning the cleaner dataframe.\n",
    "    \"\"\"\n",
    "    tmp = pd.read_excel(x,dtype=dtype)\n",
    "    tmp.columns = pd.Series(tmp.columns).map(lambda x:dictionary[x])\n",
    "    dropidx =[None==col for col in list(tmp.columns)]\n",
    "    tmp=tmp.drop(columns=tmp.columns[dropidx])\n",
    "    \n",
    "    return tmp"
   ]
  },
  {
   "cell_type": "code",
   "execution_count": 8,
   "metadata": {},
   "outputs": [],
   "source": [
    "def namefile(name, tzadjust=5,tzdirection = '-', adjprecision='minutes', filetype = 'csv'):\n",
    "    \"\"\"takes a filename and filetype, and adds a timestamp adjusted relative to gmt to a precision \n",
    "    and returns a string that concatenates them.\"\"\"\n",
    "    assert isinstance(name,str),\"'name' must be of type str.\"\n",
    "    assert isinstance(tzadjust,int),\"'tzadjust' must be of type int\"\n",
    "    assert adjprecision in ['date','hour','minutes','seconds', 'max'], \"'adjprecision' must be either \\\n",
    "    'date', hour','minutes','seconds', or 'max'\"\n",
    "    precision= {'max':None,'seconds':-7,'minutes':-9, 'hours':-14,'date':-20}\n",
    "    if tzdirection== '-':\n",
    "        timestamp = (pd.to_datetime('now')-pd.Timedelta(hours=tzadjust))\n",
    "    else:\n",
    "        timestamp = (pd.to_datetime('now')+pd.Timedelta(hours=int(tzadjust[1:])))\n",
    "    timestamp = str(timestamp).replace(':','hrs',1).replace(':','min',1)\n",
    "    timestamp = timestamp[:precision[adjprecision]]\n",
    "    filename = name+'_' + timestamp+ '.' +filetype\n",
    "    return filename\n"
   ]
  },
  {
   "cell_type": "markdown",
   "metadata": {},
   "source": [
    "<a id='PreparingSave'></a>"
   ]
  },
  {
   "cell_type": "markdown",
   "metadata": {},
   "source": [
    "## Preparing for a Save\n",
    "[Top](#TOC)\n",
    "\n",
    "[Setting up Python](#SettingUp)"
   ]
  },
  {
   "cell_type": "markdown",
   "metadata": {},
   "source": [
    "<a id='SettingLoc'></a>"
   ]
  },
  {
   "cell_type": "markdown",
   "metadata": {},
   "source": [
    "## Setting the Location\n",
    "[Top](#TOC)\n",
    "\n",
    "[Setting Up Python](#SettingUp)\n",
    "\n",
    "These chunks identify the locations from which we can get data and to which we can save data."
   ]
  },
  {
   "cell_type": "markdown",
   "metadata": {},
   "source": [
    "### Source Data\n",
    "Raw data can be found in the following locations:"
   ]
  },
  {
   "cell_type": "code",
   "execution_count": 9,
   "metadata": {},
   "outputs": [],
   "source": [
    "# sourceDataPers = 'C:/Users/Christopher/Google Drive/TailDemography/outputFiles'\n",
    "sourceDataBig = 'S:/Chris/TailDemography/TailDemography/Raw Data'\n",
    "# sourceBlack = 'C:/Users/test/Desktop'"
   ]
  },
  {
   "cell_type": "markdown",
   "metadata": {},
   "source": [
    "Now we change the working directory to the source path."
   ]
  },
  {
   "cell_type": "code",
   "execution_count": 10,
   "metadata": {},
   "outputs": [],
   "source": [
    "os.chdir(sourceDataBig)"
   ]
  },
  {
   "cell_type": "markdown",
   "metadata": {},
   "source": [
    "### Output Data\n",
    "The cleaned data will be saved to one of these locations:"
   ]
  },
  {
   "cell_type": "code",
   "execution_count": 11,
   "metadata": {},
   "outputs": [],
   "source": [
    "# outputPers = 'C:/Users/Christopher/Google Drive/TailDemography/outputFiles'\n",
    "outputBig = 'S:/Chris/TailDemography/TailDemography/Cleaned Combined Data'\n",
    "# outputBlack = 'C:/Users/test/Desktop'"
   ]
  },
  {
   "cell_type": "markdown",
   "metadata": {},
   "source": [
    "<a id='HandlingColumns'></a>"
   ]
  },
  {
   "cell_type": "markdown",
   "metadata": {},
   "source": [
    "# Handling Columns\n",
    "[Top](#TOC)\n",
    "\n",
    "We don't have to look in the multiple-sheet file.  It's clear that we'll have to identify a common set of columns prior to combining these files.  Let's define a few functions to help us do this.\n",
    "\n",
    "We will want to do the following:\n",
    "1. [Find Unique Column Names](#FindUniqueCol)\n",
    "2. [Eliminate Unnecessary Columns](#DropCol)\n",
    "3. [Combine Synonyms](#CombineCol)"
   ]
  },
  {
   "cell_type": "markdown",
   "metadata": {},
   "source": [
    "Here we use search the source path to locate and eventually read the raw data into our notebook."
   ]
  },
  {
   "cell_type": "code",
   "execution_count": 12,
   "metadata": {},
   "outputs": [
    {
     "data": {
      "text/plain": [
       "['CC 2000-03-modified from CC-SJ 00-03 final.xls',\n",
       " 'CC 2004.xlsx',\n",
       " 'CC 2015 - captures.xls',\n",
       " 'CC 2016 - captures.xls',\n",
       " 'CC 2017 Lizards - 3viii17 captures and obs.xls',\n",
       " 'xCC2005x.xls',\n",
       " 'xCC2006x.xls',\n",
       " 'xCC2007x.xls',\n",
       " 'xCC2008x.xls',\n",
       " 'xCC2009x.xls',\n",
       " 'xCC2010x.xlsx',\n",
       " 'xCC2011x.xls',\n",
       " 'xCC2012x.xls',\n",
       " 'xCC2013x.xls',\n",
       " 'xCC2014x.xlsx']"
      ]
     },
     "execution_count": 12,
     "metadata": {},
     "output_type": "execute_result"
    }
   ],
   "source": [
    "rawfiles = glob.glob('*.xls*')\n",
    "rawfiles"
   ]
  },
  {
   "cell_type": "markdown",
   "metadata": {},
   "source": [
    "Let's inspect these data.  We will begin by looking at the number of columns and rows. In each file. To do this first we use the function, *xlsheets*, defined in the [Functions](#functions) section."
   ]
  },
  {
   "cell_type": "markdown",
   "metadata": {},
   "source": [
    "You can see that when we call *xlsheets* on the first file in our list of files, it returns the total number of sheets and names of each sheet."
   ]
  },
  {
   "cell_type": "code",
   "execution_count": 13,
   "metadata": {
    "scrolled": true
   },
   "outputs": [
    {
     "data": {
      "text/plain": [
       "{'file_name': 'CC 2000-03-modified from CC-SJ 00-03 final.xls',\n",
       " 'num_sheets': 4,\n",
       " 'names': ['2000', '2001', '2002', '2003']}"
      ]
     },
     "execution_count": 13,
     "metadata": {},
     "output_type": "execute_result"
    }
   ],
   "source": [
    "xlsheets(rawfiles[0])"
   ]
  },
  {
   "cell_type": "markdown",
   "metadata": {},
   "source": [
    "We will apply this to all of the files in raw files to inspect the data at the highest level."
   ]
  },
  {
   "cell_type": "code",
   "execution_count": 14,
   "metadata": {
    "scrolled": true
   },
   "outputs": [
    {
     "data": {
      "text/plain": [
       "0     {'file_name': 'CC 2000-03-modified from CC-SJ ...\n",
       "1     {'file_name': 'CC 2004.xlsx', 'num_sheets': 1,...\n",
       "2     {'file_name': 'CC 2015 - captures.xls', 'num_s...\n",
       "3     {'file_name': 'CC 2016 - captures.xls', 'num_s...\n",
       "4     {'file_name': 'CC 2017 Lizards - 3viii17 captu...\n",
       "5     {'file_name': 'xCC2005x.xls', 'num_sheets': 1,...\n",
       "6     {'file_name': 'xCC2006x.xls', 'num_sheets': 1,...\n",
       "7     {'file_name': 'xCC2007x.xls', 'num_sheets': 2,...\n",
       "8     {'file_name': 'xCC2008x.xls', 'num_sheets': 1,...\n",
       "9     {'file_name': 'xCC2009x.xls', 'num_sheets': 1,...\n",
       "10    {'file_name': 'xCC2010x.xlsx', 'num_sheets': 1...\n",
       "11    {'file_name': 'xCC2011x.xls', 'num_sheets': 1,...\n",
       "12    {'file_name': 'xCC2012x.xls', 'num_sheets': 1,...\n",
       "13    {'file_name': 'xCC2013x.xls', 'num_sheets': 1,...\n",
       "14    {'file_name': 'xCC2014x.xlsx', 'num_sheets': 1...\n",
       "dtype: object"
      ]
     },
     "execution_count": 14,
     "metadata": {},
     "output_type": "execute_result"
    }
   ],
   "source": [
    "filelayout = pd.Series(rawfiles).apply(xlsheets)\n",
    "filelayout"
   ]
  },
  {
   "cell_type": "code",
   "execution_count": 15,
   "metadata": {},
   "outputs": [
    {
     "data": {
      "text/html": [
       "<div>\n",
       "<style scoped>\n",
       "    .dataframe tbody tr th:only-of-type {\n",
       "        vertical-align: middle;\n",
       "    }\n",
       "\n",
       "    .dataframe tbody tr th {\n",
       "        vertical-align: top;\n",
       "    }\n",
       "\n",
       "    .dataframe thead th {\n",
       "        text-align: right;\n",
       "    }\n",
       "</style>\n",
       "<table border=\"1\" class=\"dataframe\">\n",
       "  <thead>\n",
       "    <tr style=\"text-align: right;\">\n",
       "      <th></th>\n",
       "      <th>file_name</th>\n",
       "      <th>num_sheets</th>\n",
       "      <th>sheetnames</th>\n",
       "    </tr>\n",
       "  </thead>\n",
       "  <tbody>\n",
       "    <tr>\n",
       "      <th>0</th>\n",
       "      <td>CC 2000-03-modified from CC-SJ 00-03 final.xls</td>\n",
       "      <td>4</td>\n",
       "      <td>[2000, 2001, 2002, 2003]</td>\n",
       "    </tr>\n",
       "    <tr>\n",
       "      <th>1</th>\n",
       "      <td>CC 2004.xlsx</td>\n",
       "      <td>1</td>\n",
       "      <td>[2004 ]</td>\n",
       "    </tr>\n",
       "    <tr>\n",
       "      <th>2</th>\n",
       "      <td>CC 2015 - captures.xls</td>\n",
       "      <td>1</td>\n",
       "      <td>[2015]</td>\n",
       "    </tr>\n",
       "    <tr>\n",
       "      <th>3</th>\n",
       "      <td>CC 2016 - captures.xls</td>\n",
       "      <td>1</td>\n",
       "      <td>[2016]</td>\n",
       "    </tr>\n",
       "    <tr>\n",
       "      <th>4</th>\n",
       "      <td>CC 2017 Lizards - 3viii17 captures and obs.xls</td>\n",
       "      <td>1</td>\n",
       "      <td>[2017]</td>\n",
       "    </tr>\n",
       "    <tr>\n",
       "      <th>5</th>\n",
       "      <td>xCC2005x.xls</td>\n",
       "      <td>1</td>\n",
       "      <td>[2005]</td>\n",
       "    </tr>\n",
       "    <tr>\n",
       "      <th>6</th>\n",
       "      <td>xCC2006x.xls</td>\n",
       "      <td>1</td>\n",
       "      <td>[2006]</td>\n",
       "    </tr>\n",
       "    <tr>\n",
       "      <th>7</th>\n",
       "      <td>xCC2007x.xls</td>\n",
       "      <td>2</td>\n",
       "      <td>[Sheet1, 2007]</td>\n",
       "    </tr>\n",
       "    <tr>\n",
       "      <th>8</th>\n",
       "      <td>xCC2008x.xls</td>\n",
       "      <td>1</td>\n",
       "      <td>[2008]</td>\n",
       "    </tr>\n",
       "    <tr>\n",
       "      <th>9</th>\n",
       "      <td>xCC2009x.xls</td>\n",
       "      <td>1</td>\n",
       "      <td>[2009]</td>\n",
       "    </tr>\n",
       "    <tr>\n",
       "      <th>10</th>\n",
       "      <td>xCC2010x.xlsx</td>\n",
       "      <td>1</td>\n",
       "      <td>[Sheet1]</td>\n",
       "    </tr>\n",
       "    <tr>\n",
       "      <th>11</th>\n",
       "      <td>xCC2011x.xls</td>\n",
       "      <td>1</td>\n",
       "      <td>[Sheet1]</td>\n",
       "    </tr>\n",
       "    <tr>\n",
       "      <th>12</th>\n",
       "      <td>xCC2012x.xls</td>\n",
       "      <td>1</td>\n",
       "      <td>[data]</td>\n",
       "    </tr>\n",
       "    <tr>\n",
       "      <th>13</th>\n",
       "      <td>xCC2013x.xls</td>\n",
       "      <td>1</td>\n",
       "      <td>[CC 2013 data]</td>\n",
       "    </tr>\n",
       "    <tr>\n",
       "      <th>14</th>\n",
       "      <td>xCC2014x.xlsx</td>\n",
       "      <td>1</td>\n",
       "      <td>[2014]</td>\n",
       "    </tr>\n",
       "  </tbody>\n",
       "</table>\n",
       "</div>"
      ],
      "text/plain": [
       "                                         file_name  num_sheets  \\\n",
       "0   CC 2000-03-modified from CC-SJ 00-03 final.xls           4   \n",
       "1                                     CC 2004.xlsx           1   \n",
       "2                           CC 2015 - captures.xls           1   \n",
       "3                           CC 2016 - captures.xls           1   \n",
       "4   CC 2017 Lizards - 3viii17 captures and obs.xls           1   \n",
       "5                                     xCC2005x.xls           1   \n",
       "6                                     xCC2006x.xls           1   \n",
       "7                                     xCC2007x.xls           2   \n",
       "8                                     xCC2008x.xls           1   \n",
       "9                                     xCC2009x.xls           1   \n",
       "10                                   xCC2010x.xlsx           1   \n",
       "11                                    xCC2011x.xls           1   \n",
       "12                                    xCC2012x.xls           1   \n",
       "13                                    xCC2013x.xls           1   \n",
       "14                                   xCC2014x.xlsx           1   \n",
       "\n",
       "                  sheetnames  \n",
       "0   [2000, 2001, 2002, 2003]  \n",
       "1                    [2004 ]  \n",
       "2                     [2015]  \n",
       "3                     [2016]  \n",
       "4                     [2017]  \n",
       "5                     [2005]  \n",
       "6                     [2006]  \n",
       "7             [Sheet1, 2007]  \n",
       "8                     [2008]  \n",
       "9                     [2009]  \n",
       "10                  [Sheet1]  \n",
       "11                  [Sheet1]  \n",
       "12                    [data]  \n",
       "13            [CC 2013 data]  \n",
       "14                    [2014]  "
      ]
     },
     "execution_count": 15,
     "metadata": {},
     "output_type": "execute_result"
    }
   ],
   "source": [
    "filelayout = pd.DataFrame([list(file.values()) for file in filelayout])\n",
    "filelayout.columns = ['file_name','num_sheets','sheetnames']\n",
    "filelayout"
   ]
  },
  {
   "cell_type": "markdown",
   "metadata": {},
   "source": [
    "We will need to treat the 1st and 8th files in the source data differently when we read in the data.  Let's group the file names accordingly."
   ]
  },
  {
   "cell_type": "code",
   "execution_count": 16,
   "metadata": {},
   "outputs": [],
   "source": [
    "rawfiles_ms = [rawfiles[0],rawfiles[7]]\n",
    "rawfiles_ss = list(set(rawfiles)- set(rawfiles_ms))"
   ]
  },
  {
   "cell_type": "markdown",
   "metadata": {},
   "source": [
    "The names of files with multiple sheets are now in the variable *rawfiles_ms*."
   ]
  },
  {
   "cell_type": "code",
   "execution_count": 17,
   "metadata": {},
   "outputs": [
    {
     "data": {
      "text/plain": [
       "['CC 2000-03-modified from CC-SJ 00-03 final.xls', 'xCC2007x.xls']"
      ]
     },
     "execution_count": 17,
     "metadata": {},
     "output_type": "execute_result"
    }
   ],
   "source": [
    "rawfiles_ms"
   ]
  },
  {
   "cell_type": "markdown",
   "metadata": {},
   "source": [
    "The names of files with a single sheet are now in the variable *rawfiles_ss*."
   ]
  },
  {
   "cell_type": "code",
   "execution_count": 18,
   "metadata": {},
   "outputs": [
    {
     "data": {
      "text/plain": [
       "['xCC2012x.xls',\n",
       " 'CC 2017 Lizards - 3viii17 captures and obs.xls',\n",
       " 'CC 2016 - captures.xls',\n",
       " 'xCC2005x.xls',\n",
       " 'xCC2006x.xls',\n",
       " 'xCC2008x.xls',\n",
       " 'xCC2014x.xlsx',\n",
       " 'xCC2011x.xls',\n",
       " 'xCC2009x.xls',\n",
       " 'xCC2010x.xlsx',\n",
       " 'xCC2013x.xls',\n",
       " 'CC 2004.xlsx',\n",
       " 'CC 2015 - captures.xls']"
      ]
     },
     "execution_count": 18,
     "metadata": {},
     "output_type": "execute_result"
    }
   ],
   "source": [
    "rawfiles_ss"
   ]
  },
  {
   "cell_type": "markdown",
   "metadata": {},
   "source": [
    "Now let's take a look at the number of columns in each file. We'll start with the single sheet files, since this is the easiest.  We will use the function, *xlcolshape* to make this easier. \n",
    "When we call this function on the first of the single-sheet files, we can see that it returns a tuple in the format ('number of rows', 'number of columns'). The code for *xlcolshape* can be found in [Functions](#functions)."
   ]
  },
  {
   "cell_type": "code",
   "execution_count": 19,
   "metadata": {},
   "outputs": [
    {
     "data": {
      "text/plain": [
       "(85, 19)"
      ]
     },
     "execution_count": 19,
     "metadata": {},
     "output_type": "execute_result"
    }
   ],
   "source": [
    "xlcolshape(rawfiles_ss[0])"
   ]
  },
  {
   "cell_type": "markdown",
   "metadata": {},
   "source": [
    "We will apply this funtion to the list of single-sheet files for our inspection."
   ]
  },
  {
   "cell_type": "code",
   "execution_count": 20,
   "metadata": {
    "scrolled": false
   },
   "outputs": [
    {
     "data": {
      "text/plain": [
       "0      (85, 19)\n",
       "1     (798, 21)\n",
       "2     (103, 21)\n",
       "3     (202, 16)\n",
       "4     (163, 16)\n",
       "5     (134, 20)\n",
       "6      (97, 19)\n",
       "7      (64, 19)\n",
       "8     (162, 16)\n",
       "9      (99, 41)\n",
       "10    (106, 19)\n",
       "11    (479, 16)\n",
       "12    (241, 19)\n",
       "dtype: object"
      ]
     },
     "execution_count": 20,
     "metadata": {},
     "output_type": "execute_result"
    }
   ],
   "source": [
    "pd.Series(rawfiles_ss).apply(xlcolshape)"
   ]
  },
  {
   "cell_type": "markdown",
   "metadata": {},
   "source": [
    "<a id='FindUniqueCol'></a>"
   ]
  },
  {
   "cell_type": "markdown",
   "metadata": {},
   "source": [
    "## Finding Unique Columns\n",
    "[Top](#TOC)\n",
    "\n",
    "[Handling Columns](#HandlingColumns)\n",
    "\n",
    "We'll use the function, *xluniqucol2* to extract column names and convert them to an approved set.  We'll use that function to allow us to only add unique names to a list of column names. \n",
    "\n",
    "Here is an example of how xluniquecol2 works for a file with one sheet.  You can find the code for *xluniquecol2* in [Functions](#functions)."
   ]
  },
  {
   "cell_type": "code",
   "execution_count": 21,
   "metadata": {},
   "outputs": [
    {
     "name": "stdout",
     "output_type": "stream",
     "text": [
      "Doing stuff you asked me to do for file 'xCC2012x.xls',sheet 'data' programmer person.\n"
     ]
    },
    {
     "data": {
      "text/plain": [
       "['Species',\n",
       " 'Meters',\n",
       " 'Toes',\n",
       " 'Vial',\n",
       " 'Time',\n",
       " 'New/Recap',\n",
       " 'TL',\n",
       " 'RTL',\n",
       " 'Mass',\n",
       " 'Unnamed: 16',\n",
       " 'Misc.',\n",
       " 'SVL',\n",
       " 'Sex',\n",
       " 'Mark',\n",
       " 'Painted',\n",
       " 'Location',\n",
       " 'Date',\n",
       " 'Spotted',\n",
       " 'Paint Mark']"
      ]
     },
     "execution_count": 21,
     "metadata": {},
     "output_type": "execute_result"
    }
   ],
   "source": [
    "xluniquecol2(rawfiles_ss[0])"
   ]
  },
  {
   "cell_type": "markdown",
   "metadata": {},
   "source": [
    "Here is an example of how xluniquecol2 works for a file with multiple sheets."
   ]
  },
  {
   "cell_type": "code",
   "execution_count": 22,
   "metadata": {},
   "outputs": [
    {
     "name": "stdout",
     "output_type": "stream",
     "text": [
      "Check columns for file CC 2000-03-modified from CC-SJ 00-03 final.xls.\n",
      "Doing stuff you asked me to do for file 'CC 2000-03-modified from CC-SJ 00-03 final.xls',sheet '2001' programmer person.\n",
      "Doing stuff you asked me to do for file 'CC 2000-03-modified from CC-SJ 00-03 final.xls',sheet '2002' programmer person.\n",
      "Doing stuff you asked me to do for file 'CC 2000-03-modified from CC-SJ 00-03 final.xls',sheet '2003' programmer person.\n"
     ]
    },
    {
     "data": {
      "text/plain": [
       "['species',\n",
       " 'mass',\n",
       " 'location',\n",
       " 'NEW/recap',\n",
       " 'VIAL',\n",
       " 'TL',\n",
       " 'RTL',\n",
       " 'Unnamed: 16',\n",
       " 'misc',\n",
       " 'paint mark',\n",
       " 'meters',\n",
       " 'SVL',\n",
       " 'TOES',\n",
       " 'sex',\n",
       " 'TIME',\n",
       " 'painted or not',\n",
       " 'date']"
      ]
     },
     "execution_count": 22,
     "metadata": {},
     "output_type": "execute_result"
    }
   ],
   "source": [
    "xluniquecol2(rawfiles_ms[0])"
   ]
  },
  {
   "cell_type": "markdown",
   "metadata": {},
   "source": [
    "Now we will create an empty set, *uniquecols2*, that will eventually contain the unique column names in all of the files.\n",
    "\n",
    "We will append the unique column names from each file to *uniquecols2*."
   ]
  },
  {
   "cell_type": "code",
   "execution_count": 23,
   "metadata": {
    "scrolled": true
   },
   "outputs": [
    {
     "name": "stdout",
     "output_type": "stream",
     "text": [
      "Doing stuff you asked me to do for file 'xCC2012x.xls',sheet 'data' programmer person.\n",
      "Doing stuff you asked me to do for file 'CC 2017 Lizards - 3viii17 captures and obs.xls',sheet '2017' programmer person.\n",
      "Doing stuff you asked me to do for file 'CC 2016 - captures.xls',sheet '2016' programmer person.\n",
      "Doing stuff you asked me to do for file 'xCC2005x.xls',sheet '2005' programmer person.\n",
      "Doing stuff you asked me to do for file 'xCC2006x.xls',sheet '2006' programmer person.\n",
      "Doing stuff you asked me to do for file 'xCC2008x.xls',sheet '2008' programmer person.\n",
      "Doing stuff you asked me to do for file 'xCC2014x.xlsx',sheet '2014' programmer person.\n",
      "Doing stuff you asked me to do for file 'xCC2011x.xls',sheet 'Sheet1' programmer person.\n",
      "Doing stuff you asked me to do for file 'xCC2009x.xls',sheet '2009' programmer person.\n",
      "Doing stuff you asked me to do for file 'xCC2010x.xlsx',sheet 'Sheet1' programmer person.\n",
      "Doing stuff you asked me to do for file 'xCC2013x.xls',sheet 'CC 2013 data' programmer person.\n",
      "Doing stuff you asked me to do for file 'CC 2004.xlsx',sheet '2004 ' programmer person.\n",
      "Doing stuff you asked me to do for file 'CC 2015 - captures.xls',sheet '2015' programmer person.\n"
     ]
    },
    {
     "data": {
      "text/plain": [
       "[1,\n",
       " ' painted or not',\n",
       " 'Vial',\n",
       " 'location',\n",
       " 'Toe 16',\n",
       " 'Toe 14',\n",
       " 'Toe 1',\n",
       " 'VIAL',\n",
       " 'Mass',\n",
       " 'RTL',\n",
       " 'Marked',\n",
       " 'Toe 6',\n",
       " 'Toe 18',\n",
       " 'Toe 19',\n",
       " 'SVL (mm)',\n",
       " 'Location',\n",
       " 'Spotted',\n",
       " 'Species',\n",
       " 'Meters',\n",
       " 'Toe 5',\n",
       " 'painted',\n",
       " 'Toe 7',\n",
       " 'Tail condition (1=intact; 2=autotomized; 3=regrown)',\n",
       " 'Unnamed: 16',\n",
       " '2015 or earlier',\n",
       " 'Toe 20',\n",
       " 'SVL',\n",
       " 'Toe 2',\n",
       " 'sex',\n",
       " 'Collectors',\n",
       " 'Mark',\n",
       " 'Toe 12',\n",
       " 'Year',\n",
       " 'painted or not',\n",
       " '1st Capture (year)',\n",
       " 'Toe 11',\n",
       " 'species',\n",
       " 'mass (g)',\n",
       " 'Years Alive (known)',\n",
       " 'Toes',\n",
       " 'Unnamed: 17',\n",
       " 'NEW/recap',\n",
       " 'misc/notes',\n",
       " 'New/Recap',\n",
       " 'TL',\n",
       " 'Toe 8',\n",
       " 'paint mark',\n",
       " 'meters',\n",
       " 'TOES',\n",
       " 'TIME',\n",
       " 'Toe 3',\n",
       " 'Sex',\n",
       " 'TL (mm)',\n",
       " 'Painted',\n",
       " 'Toe 9',\n",
       " 'Toe 13',\n",
       " 'mass',\n",
       " 'Time',\n",
       " 'RTL (mm)',\n",
       " 'Toe 10',\n",
       " 'misc',\n",
       " 'Misc.',\n",
       " 'Toe 15',\n",
       " 'Toe 4',\n",
       " 'Unnamed: 19',\n",
       " 'Date',\n",
       " 'date',\n",
       " 'Toe 17',\n",
       " 'Paint Mark']"
      ]
     },
     "execution_count": 23,
     "metadata": {},
     "output_type": "execute_result"
    }
   ],
   "source": [
    "tmp = pd.Series(rawfiles_ss).apply(xluniquecol2)\n",
    "uniquecols2 = list()\n",
    "for u in tmp:\n",
    "    uniquecols2 = uniquecols2+u\n",
    "uniquecols2 = list(set(uniquecols2))\n",
    "uniquecols2"
   ]
  },
  {
   "cell_type": "markdown",
   "metadata": {},
   "source": [
    "<a id='DropCol'></a>"
   ]
  },
  {
   "cell_type": "markdown",
   "metadata": {},
   "source": [
    "## Eliminate Unnecessary Columns\n",
    "[Top](#TOC)\n",
    "\n",
    "[Cleaning Data](#CleaningData)\n",
    "\n",
    "[Handling Columns](#HandlingColumns)\n",
    "\n",
    "Now we will try to identify unnecessary columns and eliminate them. Much of this will be done manually."
   ]
  },
  {
   "cell_type": "code",
   "execution_count": 24,
   "metadata": {},
   "outputs": [],
   "source": [
    "keepCol = ['species', 'date', 'sex', 'svl', 'tl', 'rtl', 'mass',\n",
    "       'paint.mark', 'location', 'meters', 'new.recap', 'painted', 'misc',\n",
    "       'vial', 'autotomized', 'sighting', 'toes']"
   ]
  },
  {
   "cell_type": "code",
   "execution_count": 25,
   "metadata": {},
   "outputs": [
    {
     "data": {
      "text/plain": [
       "{'autotomized', 'new.recap', 'paint.mark', 'sighting'}"
      ]
     },
     "execution_count": 25,
     "metadata": {},
     "output_type": "execute_result"
    }
   ],
   "source": [
    "set(pd.Series(keepCol).str.lower())-set(pd.Series(uniquecols2).str.lower())"
   ]
  },
  {
   "cell_type": "code",
   "execution_count": 26,
   "metadata": {},
   "outputs": [
    {
     "data": {
      "text/plain": [
       "{' painted or not',\n",
       " '1st capture (year)',\n",
       " '2015 or earlier',\n",
       " 'collectors',\n",
       " 'mark',\n",
       " 'marked',\n",
       " 'mass (g)',\n",
       " 'misc.',\n",
       " 'misc/notes',\n",
       " nan,\n",
       " 'new/recap',\n",
       " 'paint mark',\n",
       " 'painted or not',\n",
       " 'rtl (mm)',\n",
       " 'spotted',\n",
       " 'svl (mm)',\n",
       " 'tail condition (1=intact; 2=autotomized; 3=regrown)',\n",
       " 'time',\n",
       " 'tl (mm)',\n",
       " 'toe 1',\n",
       " 'toe 10',\n",
       " 'toe 11',\n",
       " 'toe 12',\n",
       " 'toe 13',\n",
       " 'toe 14',\n",
       " 'toe 15',\n",
       " 'toe 16',\n",
       " 'toe 17',\n",
       " 'toe 18',\n",
       " 'toe 19',\n",
       " 'toe 2',\n",
       " 'toe 20',\n",
       " 'toe 3',\n",
       " 'toe 4',\n",
       " 'toe 5',\n",
       " 'toe 6',\n",
       " 'toe 7',\n",
       " 'toe 8',\n",
       " 'toe 9',\n",
       " 'unnamed: 16',\n",
       " 'unnamed: 17',\n",
       " 'unnamed: 19',\n",
       " 'year',\n",
       " 'years alive (known)'}"
      ]
     },
     "execution_count": 26,
     "metadata": {},
     "output_type": "execute_result"
    }
   ],
   "source": [
    "set(pd.Series(uniquecols2).str.lower())-set(pd.Series(keepCol).str.lower())"
   ]
  },
  {
   "cell_type": "markdown",
   "metadata": {},
   "source": [
    "Since data for years 2000-2003 are contained in the same Excel file we will have to treat this file differently than the others."
   ]
  },
  {
   "cell_type": "markdown",
   "metadata": {},
   "source": [
    "<a id='CombineCol'></a>"
   ]
  },
  {
   "cell_type": "markdown",
   "metadata": {},
   "source": [
    "## Combining Synonymous Columns\n",
    "[Top](#TOC)\n",
    "\n",
    "[Cleaning Data](#CleaningData)\n",
    "\n",
    "[Handling Columns](#HandlingColumns)"
   ]
  },
  {
   "cell_type": "markdown",
   "metadata": {},
   "source": [
    "Once we have identified the columns we need to keep, we'll need to apply this list to the files as they are read into python by doing the following:\n",
    "\n",
    "We will use a function, *colmatchtodict*,  to identify potential synonyms. Here's an example of how *colmatchtodict* works.  The code for this function can be found in [Functions](#functions)."
   ]
  },
  {
   "cell_type": "code",
   "execution_count": 27,
   "metadata": {},
   "outputs": [],
   "source": [
    "coldict = {}"
   ]
  },
  {
   "cell_type": "code",
   "execution_count": 28,
   "metadata": {},
   "outputs": [
    {
     "data": {
      "text/plain": [
       "{'toes': ['Toes', 'TOES']}"
      ]
     },
     "execution_count": 28,
     "metadata": {},
     "output_type": "execute_result"
    }
   ],
   "source": [
    "colmatchtodict('toes',pd.Series(uniquecols2),coldict, key = 'toes')"
   ]
  },
  {
   "cell_type": "markdown",
   "metadata": {},
   "source": [
    "Now let's see what happened when we apply this funtion to our, keepCol."
   ]
  },
  {
   "cell_type": "code",
   "execution_count": 29,
   "metadata": {},
   "outputs": [],
   "source": [
    "coldict = {}"
   ]
  },
  {
   "cell_type": "code",
   "execution_count": 30,
   "metadata": {},
   "outputs": [
    {
     "data": {
      "text/plain": [
       "{'species': ['Species', 'species'],\n",
       " 'date': ['Date', 'date'],\n",
       " 'sex': ['sex', 'Sex'],\n",
       " 'svl': ['SVL (mm)', 'SVL'],\n",
       " 'tl': ['RTL', 'TL', 'TL (mm)', 'RTL (mm)'],\n",
       " 'rtl': ['RTL', 'RTL (mm)'],\n",
       " 'mass': ['Mass', 'mass (g)', 'mass'],\n",
       " 'paint.mark': ['paint mark', 'Paint Mark'],\n",
       " 'location': ['location', 'Location'],\n",
       " 'meters': ['Meters', 'meters'],\n",
       " 'new.recap': ['NEW/recap', 'New/Recap'],\n",
       " 'painted': [' painted or not', 'painted', 'painted or not', 'Painted'],\n",
       " 'misc': ['misc/notes', 'misc', 'Misc.'],\n",
       " 'vial': ['Vial', 'VIAL'],\n",
       " 'autotomized': ['Tail condition (1=intact; 2=autotomized; 3=regrown)'],\n",
       " 'sighting': [],\n",
       " 'toes': ['Toes', 'TOES']}"
      ]
     },
     "execution_count": 30,
     "metadata": {},
     "output_type": "execute_result"
    }
   ],
   "source": [
    "pd.Series(keepCol).apply(lambda x: colmatchtodict(x=x,series=pd.Series(uniquecols2),dictsource=coldict))\n",
    "coldict"
   ]
  },
  {
   "cell_type": "markdown",
   "metadata": {},
   "source": [
    "We will manually adjust the values for 'tl'."
   ]
  },
  {
   "cell_type": "code",
   "execution_count": 31,
   "metadata": {},
   "outputs": [],
   "source": [
    "coldict['tl']=['TL (mm)', 'TL', 'tl']"
   ]
  },
  {
   "cell_type": "markdown",
   "metadata": {},
   "source": [
    "Now we need to use this dict to relabel the columns we wish to keep.\n",
    "\n",
    "We will use the function, *findsyn* to identify potential synonymous to the columnlabels in *keepcols* among the column labels in *uniquecols2*. \n",
    "\n",
    "Here is are a few examples of how *findsyn* works.  The code can be found in [Functions](#functions)."
   ]
  },
  {
   "cell_type": "code",
   "execution_count": 32,
   "metadata": {},
   "outputs": [],
   "source": [
    "findsyn('RTi',coldict,verbose=False)"
   ]
  },
  {
   "cell_type": "code",
   "execution_count": 33,
   "metadata": {},
   "outputs": [
    {
     "name": "stdout",
     "output_type": "stream",
     "text": [
      "No value matching \"RTi\" was found in the dictionary.\n"
     ]
    }
   ],
   "source": [
    "findsyn('RTi',coldict,verbose=True)"
   ]
  },
  {
   "cell_type": "code",
   "execution_count": 34,
   "metadata": {},
   "outputs": [
    {
     "data": {
      "text/plain": [
       "'rtl'"
      ]
     },
     "execution_count": 34,
     "metadata": {},
     "output_type": "execute_result"
    }
   ],
   "source": [
    "findsyn('RTL',coldict,verbose=True)"
   ]
  },
  {
   "cell_type": "markdown",
   "metadata": {},
   "source": [
    "Now we apply *findsyn* to *uniquecol* and create a column of synonyms."
   ]
  },
  {
   "cell_type": "code",
   "execution_count": 35,
   "metadata": {},
   "outputs": [
    {
     "data": {
      "text/html": [
       "<div>\n",
       "<style scoped>\n",
       "    .dataframe tbody tr th:only-of-type {\n",
       "        vertical-align: middle;\n",
       "    }\n",
       "\n",
       "    .dataframe tbody tr th {\n",
       "        vertical-align: top;\n",
       "    }\n",
       "\n",
       "    .dataframe thead th {\n",
       "        text-align: right;\n",
       "    }\n",
       "</style>\n",
       "<table border=\"1\" class=\"dataframe\">\n",
       "  <thead>\n",
       "    <tr style=\"text-align: right;\">\n",
       "      <th></th>\n",
       "      <th>uniquecols2</th>\n",
       "      <th>preferredcol</th>\n",
       "    </tr>\n",
       "  </thead>\n",
       "  <tbody>\n",
       "    <tr>\n",
       "      <th>0</th>\n",
       "      <td>1</td>\n",
       "      <td>None</td>\n",
       "    </tr>\n",
       "    <tr>\n",
       "      <th>1</th>\n",
       "      <td>painted or not</td>\n",
       "      <td>painted</td>\n",
       "    </tr>\n",
       "    <tr>\n",
       "      <th>2</th>\n",
       "      <td>Vial</td>\n",
       "      <td>vial</td>\n",
       "    </tr>\n",
       "    <tr>\n",
       "      <th>3</th>\n",
       "      <td>location</td>\n",
       "      <td>location</td>\n",
       "    </tr>\n",
       "    <tr>\n",
       "      <th>4</th>\n",
       "      <td>Toe 16</td>\n",
       "      <td>None</td>\n",
       "    </tr>\n",
       "    <tr>\n",
       "      <th>5</th>\n",
       "      <td>Toe 14</td>\n",
       "      <td>None</td>\n",
       "    </tr>\n",
       "    <tr>\n",
       "      <th>6</th>\n",
       "      <td>Toe 1</td>\n",
       "      <td>None</td>\n",
       "    </tr>\n",
       "    <tr>\n",
       "      <th>7</th>\n",
       "      <td>VIAL</td>\n",
       "      <td>vial</td>\n",
       "    </tr>\n",
       "    <tr>\n",
       "      <th>8</th>\n",
       "      <td>Mass</td>\n",
       "      <td>mass</td>\n",
       "    </tr>\n",
       "    <tr>\n",
       "      <th>9</th>\n",
       "      <td>RTL</td>\n",
       "      <td>rtl</td>\n",
       "    </tr>\n",
       "    <tr>\n",
       "      <th>10</th>\n",
       "      <td>Marked</td>\n",
       "      <td>None</td>\n",
       "    </tr>\n",
       "    <tr>\n",
       "      <th>11</th>\n",
       "      <td>Toe 6</td>\n",
       "      <td>None</td>\n",
       "    </tr>\n",
       "    <tr>\n",
       "      <th>12</th>\n",
       "      <td>Toe 18</td>\n",
       "      <td>None</td>\n",
       "    </tr>\n",
       "    <tr>\n",
       "      <th>13</th>\n",
       "      <td>Toe 19</td>\n",
       "      <td>None</td>\n",
       "    </tr>\n",
       "    <tr>\n",
       "      <th>14</th>\n",
       "      <td>SVL (mm)</td>\n",
       "      <td>svl</td>\n",
       "    </tr>\n",
       "    <tr>\n",
       "      <th>15</th>\n",
       "      <td>Location</td>\n",
       "      <td>location</td>\n",
       "    </tr>\n",
       "    <tr>\n",
       "      <th>16</th>\n",
       "      <td>Spotted</td>\n",
       "      <td>None</td>\n",
       "    </tr>\n",
       "    <tr>\n",
       "      <th>17</th>\n",
       "      <td>Species</td>\n",
       "      <td>species</td>\n",
       "    </tr>\n",
       "    <tr>\n",
       "      <th>18</th>\n",
       "      <td>Meters</td>\n",
       "      <td>meters</td>\n",
       "    </tr>\n",
       "    <tr>\n",
       "      <th>19</th>\n",
       "      <td>Toe 5</td>\n",
       "      <td>None</td>\n",
       "    </tr>\n",
       "    <tr>\n",
       "      <th>20</th>\n",
       "      <td>painted</td>\n",
       "      <td>painted</td>\n",
       "    </tr>\n",
       "    <tr>\n",
       "      <th>21</th>\n",
       "      <td>Toe 7</td>\n",
       "      <td>None</td>\n",
       "    </tr>\n",
       "    <tr>\n",
       "      <th>22</th>\n",
       "      <td>Tail condition (1=intact; 2=autotomized; 3=reg...</td>\n",
       "      <td>autotomized</td>\n",
       "    </tr>\n",
       "    <tr>\n",
       "      <th>23</th>\n",
       "      <td>Unnamed: 16</td>\n",
       "      <td>None</td>\n",
       "    </tr>\n",
       "    <tr>\n",
       "      <th>24</th>\n",
       "      <td>2015 or earlier</td>\n",
       "      <td>None</td>\n",
       "    </tr>\n",
       "    <tr>\n",
       "      <th>25</th>\n",
       "      <td>Toe 20</td>\n",
       "      <td>None</td>\n",
       "    </tr>\n",
       "    <tr>\n",
       "      <th>26</th>\n",
       "      <td>SVL</td>\n",
       "      <td>svl</td>\n",
       "    </tr>\n",
       "    <tr>\n",
       "      <th>27</th>\n",
       "      <td>Toe 2</td>\n",
       "      <td>None</td>\n",
       "    </tr>\n",
       "    <tr>\n",
       "      <th>28</th>\n",
       "      <td>sex</td>\n",
       "      <td>sex</td>\n",
       "    </tr>\n",
       "    <tr>\n",
       "      <th>29</th>\n",
       "      <td>Collectors</td>\n",
       "      <td>None</td>\n",
       "    </tr>\n",
       "    <tr>\n",
       "      <th>30</th>\n",
       "      <td>Mark</td>\n",
       "      <td>None</td>\n",
       "    </tr>\n",
       "    <tr>\n",
       "      <th>31</th>\n",
       "      <td>Toe 12</td>\n",
       "      <td>None</td>\n",
       "    </tr>\n",
       "    <tr>\n",
       "      <th>32</th>\n",
       "      <td>Year</td>\n",
       "      <td>None</td>\n",
       "    </tr>\n",
       "    <tr>\n",
       "      <th>33</th>\n",
       "      <td>painted or not</td>\n",
       "      <td>painted</td>\n",
       "    </tr>\n",
       "    <tr>\n",
       "      <th>34</th>\n",
       "      <td>1st Capture (year)</td>\n",
       "      <td>None</td>\n",
       "    </tr>\n",
       "    <tr>\n",
       "      <th>35</th>\n",
       "      <td>Toe 11</td>\n",
       "      <td>None</td>\n",
       "    </tr>\n",
       "    <tr>\n",
       "      <th>36</th>\n",
       "      <td>species</td>\n",
       "      <td>species</td>\n",
       "    </tr>\n",
       "    <tr>\n",
       "      <th>37</th>\n",
       "      <td>mass (g)</td>\n",
       "      <td>mass</td>\n",
       "    </tr>\n",
       "    <tr>\n",
       "      <th>38</th>\n",
       "      <td>Years Alive (known)</td>\n",
       "      <td>None</td>\n",
       "    </tr>\n",
       "    <tr>\n",
       "      <th>39</th>\n",
       "      <td>Toes</td>\n",
       "      <td>toes</td>\n",
       "    </tr>\n",
       "    <tr>\n",
       "      <th>40</th>\n",
       "      <td>Unnamed: 17</td>\n",
       "      <td>None</td>\n",
       "    </tr>\n",
       "    <tr>\n",
       "      <th>41</th>\n",
       "      <td>NEW/recap</td>\n",
       "      <td>new.recap</td>\n",
       "    </tr>\n",
       "    <tr>\n",
       "      <th>42</th>\n",
       "      <td>misc/notes</td>\n",
       "      <td>misc</td>\n",
       "    </tr>\n",
       "    <tr>\n",
       "      <th>43</th>\n",
       "      <td>New/Recap</td>\n",
       "      <td>new.recap</td>\n",
       "    </tr>\n",
       "    <tr>\n",
       "      <th>44</th>\n",
       "      <td>TL</td>\n",
       "      <td>tl</td>\n",
       "    </tr>\n",
       "    <tr>\n",
       "      <th>45</th>\n",
       "      <td>Toe 8</td>\n",
       "      <td>None</td>\n",
       "    </tr>\n",
       "    <tr>\n",
       "      <th>46</th>\n",
       "      <td>paint mark</td>\n",
       "      <td>paint.mark</td>\n",
       "    </tr>\n",
       "    <tr>\n",
       "      <th>47</th>\n",
       "      <td>meters</td>\n",
       "      <td>meters</td>\n",
       "    </tr>\n",
       "    <tr>\n",
       "      <th>48</th>\n",
       "      <td>TOES</td>\n",
       "      <td>toes</td>\n",
       "    </tr>\n",
       "    <tr>\n",
       "      <th>49</th>\n",
       "      <td>TIME</td>\n",
       "      <td>None</td>\n",
       "    </tr>\n",
       "    <tr>\n",
       "      <th>50</th>\n",
       "      <td>Toe 3</td>\n",
       "      <td>None</td>\n",
       "    </tr>\n",
       "    <tr>\n",
       "      <th>51</th>\n",
       "      <td>Sex</td>\n",
       "      <td>sex</td>\n",
       "    </tr>\n",
       "    <tr>\n",
       "      <th>52</th>\n",
       "      <td>TL (mm)</td>\n",
       "      <td>tl</td>\n",
       "    </tr>\n",
       "    <tr>\n",
       "      <th>53</th>\n",
       "      <td>Painted</td>\n",
       "      <td>painted</td>\n",
       "    </tr>\n",
       "    <tr>\n",
       "      <th>54</th>\n",
       "      <td>Toe 9</td>\n",
       "      <td>None</td>\n",
       "    </tr>\n",
       "    <tr>\n",
       "      <th>55</th>\n",
       "      <td>Toe 13</td>\n",
       "      <td>None</td>\n",
       "    </tr>\n",
       "    <tr>\n",
       "      <th>56</th>\n",
       "      <td>mass</td>\n",
       "      <td>mass</td>\n",
       "    </tr>\n",
       "    <tr>\n",
       "      <th>57</th>\n",
       "      <td>Time</td>\n",
       "      <td>None</td>\n",
       "    </tr>\n",
       "    <tr>\n",
       "      <th>58</th>\n",
       "      <td>RTL (mm)</td>\n",
       "      <td>rtl</td>\n",
       "    </tr>\n",
       "    <tr>\n",
       "      <th>59</th>\n",
       "      <td>Toe 10</td>\n",
       "      <td>None</td>\n",
       "    </tr>\n",
       "    <tr>\n",
       "      <th>60</th>\n",
       "      <td>misc</td>\n",
       "      <td>misc</td>\n",
       "    </tr>\n",
       "    <tr>\n",
       "      <th>61</th>\n",
       "      <td>Misc.</td>\n",
       "      <td>misc</td>\n",
       "    </tr>\n",
       "    <tr>\n",
       "      <th>62</th>\n",
       "      <td>Toe 15</td>\n",
       "      <td>None</td>\n",
       "    </tr>\n",
       "    <tr>\n",
       "      <th>63</th>\n",
       "      <td>Toe 4</td>\n",
       "      <td>None</td>\n",
       "    </tr>\n",
       "    <tr>\n",
       "      <th>64</th>\n",
       "      <td>Unnamed: 19</td>\n",
       "      <td>None</td>\n",
       "    </tr>\n",
       "    <tr>\n",
       "      <th>65</th>\n",
       "      <td>Date</td>\n",
       "      <td>date</td>\n",
       "    </tr>\n",
       "    <tr>\n",
       "      <th>66</th>\n",
       "      <td>date</td>\n",
       "      <td>date</td>\n",
       "    </tr>\n",
       "    <tr>\n",
       "      <th>67</th>\n",
       "      <td>Toe 17</td>\n",
       "      <td>None</td>\n",
       "    </tr>\n",
       "    <tr>\n",
       "      <th>68</th>\n",
       "      <td>Paint Mark</td>\n",
       "      <td>paint.mark</td>\n",
       "    </tr>\n",
       "  </tbody>\n",
       "</table>\n",
       "</div>"
      ],
      "text/plain": [
       "                                          uniquecols2 preferredcol\n",
       "0                                                   1         None\n",
       "1                                      painted or not      painted\n",
       "2                                                Vial         vial\n",
       "3                                            location     location\n",
       "4                                              Toe 16         None\n",
       "5                                              Toe 14         None\n",
       "6                                               Toe 1         None\n",
       "7                                                VIAL         vial\n",
       "8                                                Mass         mass\n",
       "9                                                 RTL          rtl\n",
       "10                                             Marked         None\n",
       "11                                              Toe 6         None\n",
       "12                                             Toe 18         None\n",
       "13                                             Toe 19         None\n",
       "14                                           SVL (mm)          svl\n",
       "15                                           Location     location\n",
       "16                                            Spotted         None\n",
       "17                                            Species      species\n",
       "18                                             Meters       meters\n",
       "19                                              Toe 5         None\n",
       "20                                            painted      painted\n",
       "21                                              Toe 7         None\n",
       "22  Tail condition (1=intact; 2=autotomized; 3=reg...  autotomized\n",
       "23                                        Unnamed: 16         None\n",
       "24                                    2015 or earlier         None\n",
       "25                                             Toe 20         None\n",
       "26                                                SVL          svl\n",
       "27                                              Toe 2         None\n",
       "28                                                sex          sex\n",
       "29                                         Collectors         None\n",
       "30                                               Mark         None\n",
       "31                                             Toe 12         None\n",
       "32                                               Year         None\n",
       "33                                     painted or not      painted\n",
       "34                                 1st Capture (year)         None\n",
       "35                                             Toe 11         None\n",
       "36                                            species      species\n",
       "37                                           mass (g)         mass\n",
       "38                                Years Alive (known)         None\n",
       "39                                               Toes         toes\n",
       "40                                        Unnamed: 17         None\n",
       "41                                          NEW/recap    new.recap\n",
       "42                                         misc/notes         misc\n",
       "43                                          New/Recap    new.recap\n",
       "44                                                 TL           tl\n",
       "45                                              Toe 8         None\n",
       "46                                         paint mark   paint.mark\n",
       "47                                             meters       meters\n",
       "48                                               TOES         toes\n",
       "49                                               TIME         None\n",
       "50                                              Toe 3         None\n",
       "51                                                Sex          sex\n",
       "52                                            TL (mm)           tl\n",
       "53                                            Painted      painted\n",
       "54                                              Toe 9         None\n",
       "55                                             Toe 13         None\n",
       "56                                               mass         mass\n",
       "57                                               Time         None\n",
       "58                                           RTL (mm)          rtl\n",
       "59                                             Toe 10         None\n",
       "60                                               misc         misc\n",
       "61                                              Misc.         misc\n",
       "62                                             Toe 15         None\n",
       "63                                              Toe 4         None\n",
       "64                                        Unnamed: 19         None\n",
       "65                                               Date         date\n",
       "66                                               date         date\n",
       "67                                             Toe 17         None\n",
       "68                                         Paint Mark   paint.mark"
      ]
     },
     "execution_count": 35,
     "metadata": {},
     "output_type": "execute_result"
    }
   ],
   "source": [
    "uniquecols2df = pd.DataFrame({'uniquecols2':uniquecols2})\n",
    "uniquecols2df['preferredcol'] = uniquecols2df.uniquecols2.apply(lambda x: findsyn(x,coldict,False))\n",
    "uniquecols2df"
   ]
  },
  {
   "cell_type": "markdown",
   "metadata": {},
   "source": [
    "Now we will turn this dataframe back into a dict so that we can easily use it to rename columns"
   ]
  },
  {
   "cell_type": "code",
   "execution_count": 36,
   "metadata": {},
   "outputs": [
    {
     "data": {
      "text/plain": [
       "{1: None,\n",
       " ' painted or not': 'painted',\n",
       " 'Vial': 'vial',\n",
       " 'location': 'location',\n",
       " 'Toe 16': None,\n",
       " 'Toe 14': None,\n",
       " 'Toe 1': None,\n",
       " 'VIAL': 'vial',\n",
       " 'Mass': 'mass',\n",
       " 'RTL': 'rtl',\n",
       " 'Marked': None,\n",
       " 'Toe 6': None,\n",
       " 'Toe 18': None,\n",
       " 'Toe 19': None,\n",
       " 'SVL (mm)': 'svl',\n",
       " 'Location': 'location',\n",
       " 'Spotted': None,\n",
       " 'Species': 'species',\n",
       " 'Meters': 'meters',\n",
       " 'Toe 5': None,\n",
       " 'painted': 'painted',\n",
       " 'Toe 7': None,\n",
       " 'Tail condition (1=intact; 2=autotomized; 3=regrown)': 'autotomized',\n",
       " 'Unnamed: 16': None,\n",
       " '2015 or earlier': None,\n",
       " 'Toe 20': None,\n",
       " 'SVL': 'svl',\n",
       " 'Toe 2': None,\n",
       " 'sex': 'sex',\n",
       " 'Collectors': None,\n",
       " 'Mark': None,\n",
       " 'Toe 12': None,\n",
       " 'Year': None,\n",
       " 'painted or not': 'painted',\n",
       " '1st Capture (year)': None,\n",
       " 'Toe 11': None,\n",
       " 'species': 'species',\n",
       " 'mass (g)': 'mass',\n",
       " 'Years Alive (known)': None,\n",
       " 'Toes': 'toes',\n",
       " 'Unnamed: 17': None,\n",
       " 'NEW/recap': 'new.recap',\n",
       " 'misc/notes': 'misc',\n",
       " 'New/Recap': 'new.recap',\n",
       " 'TL': 'tl',\n",
       " 'Toe 8': None,\n",
       " 'paint mark': 'paint.mark',\n",
       " 'meters': 'meters',\n",
       " 'TOES': 'toes',\n",
       " 'TIME': None,\n",
       " 'Toe 3': None,\n",
       " 'Sex': 'sex',\n",
       " 'TL (mm)': 'tl',\n",
       " 'Painted': 'painted',\n",
       " 'Toe 9': None,\n",
       " 'Toe 13': None,\n",
       " 'mass': 'mass',\n",
       " 'Time': None,\n",
       " 'RTL (mm)': 'rtl',\n",
       " 'Toe 10': None,\n",
       " 'misc': 'misc',\n",
       " 'Misc.': 'misc',\n",
       " 'Toe 15': None,\n",
       " 'Toe 4': None,\n",
       " 'Unnamed: 19': None,\n",
       " 'Date': 'date',\n",
       " 'date': 'date',\n",
       " 'Toe 17': None,\n",
       " 'Paint Mark': 'paint.mark'}"
      ]
     },
     "execution_count": 36,
     "metadata": {},
     "output_type": "execute_result"
    }
   ],
   "source": [
    "uniquecols2df.index = uniquecols2df.uniquecols2\n",
    "uniquecols2dict = pd.Series(uniquecols2df.preferredcol).to_dict()\n",
    "uniquecols2dict"
   ]
  },
  {
   "cell_type": "markdown",
   "metadata": {},
   "source": [
    "We'll use the dict, *uniquecols2dict* to rename the synonymous columns in our file....once we read them in,\n",
    "that is."
   ]
  },
  {
   "cell_type": "markdown",
   "metadata": {},
   "source": [
    "<a id='ReadingAppendingData'></a>"
   ]
  },
  {
   "cell_type": "markdown",
   "metadata": {},
   "source": [
    "# Reading and Appending Data\n",
    "[Top](#TOC)"
   ]
  },
  {
   "cell_type": "markdown",
   "metadata": {},
   "source": [
    "Now we use the function *readnclean* to actually read in the source files, drop unnecessary columns and renaming columns according to a dictionary.\n",
    "\n",
    "Here is an example of how *readnclean* works.  The code can be found in [Functions](#functions)."
   ]
  },
  {
   "cell_type": "code",
   "execution_count": 37,
   "metadata": {},
   "outputs": [
    {
     "data": {
      "text/html": [
       "<div>\n",
       "<style scoped>\n",
       "    .dataframe tbody tr th:only-of-type {\n",
       "        vertical-align: middle;\n",
       "    }\n",
       "\n",
       "    .dataframe tbody tr th {\n",
       "        vertical-align: top;\n",
       "    }\n",
       "\n",
       "    .dataframe thead th {\n",
       "        text-align: right;\n",
       "    }\n",
       "</style>\n",
       "<table border=\"1\" class=\"dataframe\">\n",
       "  <thead>\n",
       "    <tr style=\"text-align: right;\">\n",
       "      <th></th>\n",
       "      <th>species</th>\n",
       "      <th>toes</th>\n",
       "      <th>date</th>\n",
       "      <th>sex</th>\n",
       "      <th>svl</th>\n",
       "      <th>tl</th>\n",
       "      <th>rtl</th>\n",
       "      <th>mass</th>\n",
       "      <th>paint.mark</th>\n",
       "      <th>location</th>\n",
       "      <th>meters</th>\n",
       "      <th>new.recap</th>\n",
       "      <th>painted</th>\n",
       "      <th>misc</th>\n",
       "      <th>vial</th>\n",
       "    </tr>\n",
       "  </thead>\n",
       "  <tbody>\n",
       "    <tr>\n",
       "      <th>0</th>\n",
       "      <td>sv</td>\n",
       "      <td>2</td>\n",
       "      <td>2012-06-02 00:00:00</td>\n",
       "      <td>m</td>\n",
       "      <td>53</td>\n",
       "      <td>72</td>\n",
       "      <td>0</td>\n",
       "      <td>4.4</td>\n",
       "      <td>w19b</td>\n",
       "      <td>pine at top of site</td>\n",
       "      <td>nan</td>\n",
       "      <td>???</td>\n",
       "      <td>yes</td>\n",
       "      <td>actually caught on way down; toe #2 may be nat...</td>\n",
       "      <td>nan</td>\n",
       "    </tr>\n",
       "    <tr>\n",
       "      <th>1</th>\n",
       "      <td>sv</td>\n",
       "      <td>nan</td>\n",
       "      <td>2012-05-29 00:00:00</td>\n",
       "      <td>nan</td>\n",
       "      <td>nan</td>\n",
       "      <td>nan</td>\n",
       "      <td>nan</td>\n",
       "      <td>nan</td>\n",
       "      <td>???</td>\n",
       "      <td>1falls</td>\n",
       "      <td>nan</td>\n",
       "      <td>didn't catch</td>\n",
       "      <td>nan</td>\n",
       "      <td>nan</td>\n",
       "      <td>nan</td>\n",
       "    </tr>\n",
       "    <tr>\n",
       "      <th>2</th>\n",
       "      <td>sc</td>\n",
       "      <td>11</td>\n",
       "      <td>2012-06-01 00:00:00</td>\n",
       "      <td>F</td>\n",
       "      <td>98</td>\n",
       "      <td>129</td>\n",
       "      <td>0</td>\n",
       "      <td>35</td>\n",
       "      <td>.t</td>\n",
       "      <td>bottom site Rt side</td>\n",
       "      <td>nan</td>\n",
       "      <td>new</td>\n",
       "      <td>yes</td>\n",
       "      <td>BRIA CAUGHT IT!!!!!! :)</td>\n",
       "      <td>12-41</td>\n",
       "    </tr>\n",
       "    <tr>\n",
       "      <th>3</th>\n",
       "      <td>cn ex</td>\n",
       "      <td>1-7</td>\n",
       "      <td>2012-05-27 00:00:00</td>\n",
       "      <td>f</td>\n",
       "      <td>89</td>\n",
       "      <td>165</td>\n",
       "      <td>75</td>\n",
       "      <td>19</td>\n",
       "      <td>w.a</td>\n",
       "      <td>sb at CCC</td>\n",
       "      <td>nan</td>\n",
       "      <td>new</td>\n",
       "      <td>yes</td>\n",
       "      <td>nan</td>\n",
       "      <td>12-27</td>\n",
       "    </tr>\n",
       "    <tr>\n",
       "      <th>4</th>\n",
       "      <td>sj</td>\n",
       "      <td>5-11-16</td>\n",
       "      <td>2012-05-24 00:00:00</td>\n",
       "      <td>F</td>\n",
       "      <td>62</td>\n",
       "      <td>85</td>\n",
       "      <td>0</td>\n",
       "      <td>8.4</td>\n",
       "      <td>w1c</td>\n",
       "      <td>5m^bottom site</td>\n",
       "      <td>nan</td>\n",
       "      <td>new</td>\n",
       "      <td>yes</td>\n",
       "      <td>nan</td>\n",
       "      <td>12-01</td>\n",
       "    </tr>\n",
       "  </tbody>\n",
       "</table>\n",
       "</div>"
      ],
      "text/plain": [
       "  species      toes                 date  sex  svl   tl  rtl mass paint.mark  \\\n",
       "0      sv         2  2012-06-02 00:00:00    m   53   72    0  4.4       w19b   \n",
       "1      sv       nan  2012-05-29 00:00:00  nan  nan  nan  nan  nan        ???   \n",
       "2      sc        11  2012-06-01 00:00:00    F   98  129    0   35         .t   \n",
       "3   cn ex       1-7  2012-05-27 00:00:00    f   89  165   75   19        w.a   \n",
       "4      sj   5-11-16  2012-05-24 00:00:00    F   62   85    0  8.4        w1c   \n",
       "\n",
       "              location meters     new.recap painted  \\\n",
       "0  pine at top of site    nan           ???     yes   \n",
       "1               1falls    nan  didn't catch     nan   \n",
       "2  bottom site Rt side    nan           new     yes   \n",
       "3            sb at CCC    nan           new     yes   \n",
       "4       5m^bottom site    nan           new     yes   \n",
       "\n",
       "                                                misc   vial  \n",
       "0  actually caught on way down; toe #2 may be nat...    nan  \n",
       "1                                                nan    nan  \n",
       "2                            BRIA CAUGHT IT!!!!!! :)  12-41  \n",
       "3                                                nan  12-27  \n",
       "4                                                nan  12-01  "
      ]
     },
     "execution_count": 37,
     "metadata": {},
     "output_type": "execute_result"
    }
   ],
   "source": [
    "readnclean(rawfiles_ss[0],uniquecols2dict,dtype=str).head()"
   ]
  },
  {
   "cell_type": "markdown",
   "metadata": {},
   "source": [
    "We'll create a df, *df*, with no data, but columns from our desired columns, *i.e.* the keys for coldict, as a placeholder to which we can append new data."
   ]
  },
  {
   "cell_type": "code",
   "execution_count": 38,
   "metadata": {},
   "outputs": [
    {
     "data": {
      "text/html": [
       "<div>\n",
       "<style scoped>\n",
       "    .dataframe tbody tr th:only-of-type {\n",
       "        vertical-align: middle;\n",
       "    }\n",
       "\n",
       "    .dataframe tbody tr th {\n",
       "        vertical-align: top;\n",
       "    }\n",
       "\n",
       "    .dataframe thead th {\n",
       "        text-align: right;\n",
       "    }\n",
       "</style>\n",
       "<table border=\"1\" class=\"dataframe\">\n",
       "  <thead>\n",
       "    <tr style=\"text-align: right;\">\n",
       "      <th></th>\n",
       "      <th>species</th>\n",
       "      <th>date</th>\n",
       "      <th>sex</th>\n",
       "      <th>svl</th>\n",
       "      <th>tl</th>\n",
       "      <th>rtl</th>\n",
       "      <th>mass</th>\n",
       "      <th>paint.mark</th>\n",
       "      <th>location</th>\n",
       "      <th>meters</th>\n",
       "      <th>new.recap</th>\n",
       "      <th>painted</th>\n",
       "      <th>misc</th>\n",
       "      <th>vial</th>\n",
       "      <th>autotomized</th>\n",
       "      <th>sighting</th>\n",
       "      <th>toes</th>\n",
       "    </tr>\n",
       "  </thead>\n",
       "  <tbody>\n",
       "  </tbody>\n",
       "</table>\n",
       "</div>"
      ],
      "text/plain": [
       "Empty DataFrame\n",
       "Columns: [species, date, sex, svl, tl, rtl, mass, paint.mark, location, meters, new.recap, painted, misc, vial, autotomized, sighting, toes]\n",
       "Index: []"
      ]
     },
     "execution_count": 38,
     "metadata": {},
     "output_type": "execute_result"
    }
   ],
   "source": [
    "df = pd.DataFrame(columns=coldict.keys())\n",
    "df"
   ]
  },
  {
   "cell_type": "markdown",
   "metadata": {},
   "source": [
    "Now we will read in all of the raw_ss files clean the column names and concatenate them into one large df."
   ]
  },
  {
   "cell_type": "code",
   "execution_count": 39,
   "metadata": {},
   "outputs": [
    {
     "name": "stdout",
     "output_type": "stream",
     "text": [
      "85\n",
      "883\n",
      "986\n",
      "1188\n",
      "1351\n",
      "1485\n",
      "1582\n",
      "1646\n",
      "1808\n",
      "1907\n",
      "2013\n",
      "2492\n",
      "2733\n",
      "\n",
      "\n",
      "Final df has 17 columns and 2733 rows.\n"
     ]
    },
    {
     "data": {
      "text/html": [
       "<div>\n",
       "<style scoped>\n",
       "    .dataframe tbody tr th:only-of-type {\n",
       "        vertical-align: middle;\n",
       "    }\n",
       "\n",
       "    .dataframe tbody tr th {\n",
       "        vertical-align: top;\n",
       "    }\n",
       "\n",
       "    .dataframe thead th {\n",
       "        text-align: right;\n",
       "    }\n",
       "</style>\n",
       "<table border=\"1\" class=\"dataframe\">\n",
       "  <thead>\n",
       "    <tr style=\"text-align: right;\">\n",
       "      <th></th>\n",
       "      <th>autotomized</th>\n",
       "      <th>date</th>\n",
       "      <th>location</th>\n",
       "      <th>mass</th>\n",
       "      <th>meters</th>\n",
       "      <th>misc</th>\n",
       "      <th>new.recap</th>\n",
       "      <th>paint.mark</th>\n",
       "      <th>painted</th>\n",
       "      <th>rtl</th>\n",
       "      <th>sex</th>\n",
       "      <th>sighting</th>\n",
       "      <th>species</th>\n",
       "      <th>svl</th>\n",
       "      <th>tl</th>\n",
       "      <th>toes</th>\n",
       "      <th>vial</th>\n",
       "    </tr>\n",
       "  </thead>\n",
       "  <tbody>\n",
       "    <tr>\n",
       "      <th>0.0</th>\n",
       "      <td>NaN</td>\n",
       "      <td>2012-06-02 00:00:00</td>\n",
       "      <td>pine at top of site</td>\n",
       "      <td>4.4</td>\n",
       "      <td>NaN</td>\n",
       "      <td>actually caught on way down; toe #2 may be nat...</td>\n",
       "      <td>???</td>\n",
       "      <td>w19b</td>\n",
       "      <td>yes</td>\n",
       "      <td>0</td>\n",
       "      <td>m</td>\n",
       "      <td>NaN</td>\n",
       "      <td>sv</td>\n",
       "      <td>53</td>\n",
       "      <td>72</td>\n",
       "      <td>2</td>\n",
       "      <td>NaN</td>\n",
       "    </tr>\n",
       "    <tr>\n",
       "      <th>1.0</th>\n",
       "      <td>NaN</td>\n",
       "      <td>2012-05-29 00:00:00</td>\n",
       "      <td>1falls</td>\n",
       "      <td>NaN</td>\n",
       "      <td>NaN</td>\n",
       "      <td>NaN</td>\n",
       "      <td>didn't catch</td>\n",
       "      <td>???</td>\n",
       "      <td>NaN</td>\n",
       "      <td>NaN</td>\n",
       "      <td>NaN</td>\n",
       "      <td>NaN</td>\n",
       "      <td>sv</td>\n",
       "      <td>NaN</td>\n",
       "      <td>NaN</td>\n",
       "      <td>NaN</td>\n",
       "      <td>NaN</td>\n",
       "    </tr>\n",
       "    <tr>\n",
       "      <th>2.0</th>\n",
       "      <td>NaN</td>\n",
       "      <td>2012-06-01 00:00:00</td>\n",
       "      <td>bottom site Rt side</td>\n",
       "      <td>35</td>\n",
       "      <td>NaN</td>\n",
       "      <td>BRIA CAUGHT IT!!!!!! :)</td>\n",
       "      <td>new</td>\n",
       "      <td>.t</td>\n",
       "      <td>yes</td>\n",
       "      <td>0</td>\n",
       "      <td>F</td>\n",
       "      <td>NaN</td>\n",
       "      <td>sc</td>\n",
       "      <td>98</td>\n",
       "      <td>129</td>\n",
       "      <td>11</td>\n",
       "      <td>12-41</td>\n",
       "    </tr>\n",
       "    <tr>\n",
       "      <th>3.0</th>\n",
       "      <td>NaN</td>\n",
       "      <td>2012-05-27 00:00:00</td>\n",
       "      <td>sb at CCC</td>\n",
       "      <td>19</td>\n",
       "      <td>NaN</td>\n",
       "      <td>NaN</td>\n",
       "      <td>new</td>\n",
       "      <td>w.a</td>\n",
       "      <td>yes</td>\n",
       "      <td>75</td>\n",
       "      <td>f</td>\n",
       "      <td>NaN</td>\n",
       "      <td>cn ex</td>\n",
       "      <td>89</td>\n",
       "      <td>165</td>\n",
       "      <td>1-7</td>\n",
       "      <td>12-27</td>\n",
       "    </tr>\n",
       "    <tr>\n",
       "      <th>4.0</th>\n",
       "      <td>NaN</td>\n",
       "      <td>2012-05-24 00:00:00</td>\n",
       "      <td>5m^bottom site</td>\n",
       "      <td>8.4</td>\n",
       "      <td>NaN</td>\n",
       "      <td>NaN</td>\n",
       "      <td>new</td>\n",
       "      <td>w1c</td>\n",
       "      <td>yes</td>\n",
       "      <td>0</td>\n",
       "      <td>F</td>\n",
       "      <td>NaN</td>\n",
       "      <td>sj</td>\n",
       "      <td>62</td>\n",
       "      <td>85</td>\n",
       "      <td>5-11-16</td>\n",
       "      <td>12-01</td>\n",
       "    </tr>\n",
       "  </tbody>\n",
       "</table>\n",
       "</div>"
      ],
      "text/plain": [
       "    autotomized                 date             location mass meters  \\\n",
       "0.0         NaN  2012-06-02 00:00:00  pine at top of site  4.4    NaN   \n",
       "1.0         NaN  2012-05-29 00:00:00               1falls  NaN    NaN   \n",
       "2.0         NaN  2012-06-01 00:00:00  bottom site Rt side   35    NaN   \n",
       "3.0         NaN  2012-05-27 00:00:00            sb at CCC   19    NaN   \n",
       "4.0         NaN  2012-05-24 00:00:00       5m^bottom site  8.4    NaN   \n",
       "\n",
       "                                                  misc     new.recap  \\\n",
       "0.0  actually caught on way down; toe #2 may be nat...           ???   \n",
       "1.0                                                NaN  didn't catch   \n",
       "2.0                            BRIA CAUGHT IT!!!!!! :)           new   \n",
       "3.0                                                NaN           new   \n",
       "4.0                                                NaN           new   \n",
       "\n",
       "    paint.mark painted  rtl  sex sighting species  svl   tl      toes   vial  \n",
       "0.0       w19b     yes    0    m      NaN      sv   53   72         2    NaN  \n",
       "1.0        ???     NaN  NaN  NaN      NaN      sv  NaN  NaN       NaN    NaN  \n",
       "2.0         .t     yes    0    F      NaN      sc   98  129        11  12-41  \n",
       "3.0        w.a     yes   75    f      NaN   cn ex   89  165       1-7  12-27  \n",
       "4.0        w1c     yes    0    F      NaN      sj   62   85   5-11-16  12-01  "
      ]
     },
     "execution_count": 39,
     "metadata": {},
     "output_type": "execute_result"
    }
   ],
   "source": [
    "for file in rawfiles_ss:\n",
    "    df = pd.concat([df,readnclean(file,uniquecols2dict)],sort=True)\n",
    "    print(df.shape[0])\n",
    "print(\"\\n\\nFinal df has {} columns and {} rows.\".format(df.shape[1],df.shape[0]))\n",
    "df.head()"
   ]
  },
  {
   "cell_type": "markdown",
   "metadata": {},
   "source": [
    "For the *rawdata_ms* files we will apply a similar logic"
   ]
  },
  {
   "cell_type": "markdown",
   "metadata": {},
   "source": [
    "<a id='ExportingData'></a>"
   ]
  },
  {
   "cell_type": "markdown",
   "metadata": {},
   "source": [
    "# Exporting Data\n",
    "[Top](#TOC)"
   ]
  },
  {
   "cell_type": "markdown",
   "metadata": {},
   "source": [
    "Here we call the function, *namefile*, to create a timestamped name for file to be exported.  You can find the code for *namefile* in [Functions](#functions)."
   ]
  },
  {
   "cell_type": "code",
   "execution_count": 40,
   "metadata": {},
   "outputs": [
    {
     "name": "stdout",
     "output_type": "stream",
     "text": [
      "'Appended and Trimmed CC Data 2000-2017_2018-12-22 22hrs33min.csv' has been saved to 'S:/Chris/TailDemography/TailDemography/Cleaned Combined Data' and the corresponding drive google drive location.\n"
     ]
    }
   ],
   "source": [
    "filename = namefile('Appended and Trimmed CC Data 2000-2017')\n",
    "os.chdir(outputBig)\n",
    "df.to_csv(filename,index = False)\n",
    "print(\"\\'{}\\' has been saved to \\'{}\\' and the corresponding drive google drive location.\"\\\n",
    "      .format(filename, outputBig))"
   ]
  }
 ],
 "metadata": {
  "kernelspec": {
   "display_name": "Python 3",
   "language": "python",
   "name": "python3"
  },
  "language_info": {
   "codemirror_mode": {
    "name": "ipython",
    "version": 3
   },
   "file_extension": ".py",
   "mimetype": "text/x-python",
   "name": "python",
   "nbconvert_exporter": "python",
   "pygments_lexer": "ipython3",
   "version": "3.6.5"
  }
 },
 "nbformat": 4,
 "nbformat_minor": 2
}
