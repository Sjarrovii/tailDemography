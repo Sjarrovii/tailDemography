{
 "cells": [
  {
   "cell_type": "markdown",
   "metadata": {},
   "source": [
    "<a id='TOC'></a>"
   ]
  },
  {
   "cell_type": "markdown",
   "metadata": {},
   "source": [
    "# Cleaning Data (Part 1)\n",
    "The purpose of this notebook is to read in raw excel data for multiple years, append them into a single dataframe."
   ]
  },
  {
   "cell_type": "markdown",
   "metadata": {},
   "source": [
    "# [Resume Here](#ResumeHere)"
   ]
  },
  {
   "cell_type": "markdown",
   "metadata": {},
   "source": [
    "# Table of Contents\n",
    "1. [Setting up Python](#SettingUp)\n",
    "    \n",
    "    a. [Setting the Location](#SettingLoc)\n",
    "    \n",
    "    b. [Importing Necessary Packages](#ImportingPackages)\n",
    "    \n",
    "    c. [Preparing for a Save](#PreparingSave)\n",
    "    \n",
    "\n",
    "2. [Reading in Data](#ReadingData)\n",
    "\n",
    "3. [Cleaning Data](#CleaningData)\n",
    "\n",
    "4. [Appending Data](#AppendingData)\n",
    "\n",
    "5. [Exporting Data](#ExportingData)"
   ]
  },
  {
   "cell_type": "markdown",
   "metadata": {},
   "source": [
    "<a id='SettingUp'></a>"
   ]
  },
  {
   "cell_type": "markdown",
   "metadata": {},
   "source": [
    "# Setting up Python\n",
    "[Top](#TOC)\n",
    "\n",
    "[Setting the Location](#SettingLoc)\n",
    "    \n",
    "[Importing Necessary Packages](#ImportingPackages)\n",
    "    \n",
    "[Getting Data](#GettingData)\n",
    "    \n",
    "[Preparing for a Save](#PreparingSave)"
   ]
  },
  {
   "cell_type": "markdown",
   "metadata": {},
   "source": [
    "<a id='ImportingPackages'></a>"
   ]
  },
  {
   "cell_type": "markdown",
   "metadata": {},
   "source": [
    "## Importing Necessary Packages\n",
    "\n",
    "[Top](#TOC)\n",
    "\n",
    "[Setting Up Python](#SettingUp)\n",
    "\n",
    "Here we import necessary packages. \n",
    "This chunk may take a while."
   ]
  },
  {
   "cell_type": "code",
   "execution_count": 1,
   "metadata": {},
   "outputs": [],
   "source": [
    "import pandas as pd\n",
    "import numpy as np\n",
    "import glob,os\n",
    "from liz_number import lizsort,mindate,smallest,validate\n",
    "from liz_toes import make_str,label_pattern, replace_pattern,report_pattern\n",
    "\n",
    "import plotly\n",
    "import plotly.plotly as py\n",
    "import plotly.graph_objs as go\n",
    "\n",
    "plotly.tools.set_config_file(world_readable=True)\n",
    "\n",
    "# increase print limit\n",
    "pd.options.display.max_rows = 99999"
   ]
  },
  {
   "cell_type": "markdown",
   "metadata": {},
   "source": [
    "<a id='PreparingSave'></a>"
   ]
  },
  {
   "cell_type": "markdown",
   "metadata": {},
   "source": [
    "## Preparing for a Save\n",
    "[Top](#TOC)\n",
    "\n",
    "[Setting up Python](#SettingUp)"
   ]
  },
  {
   "cell_type": "markdown",
   "metadata": {},
   "source": [
    "<a id='SettingLoc'></a>"
   ]
  },
  {
   "cell_type": "markdown",
   "metadata": {},
   "source": [
    "## Setting the Location\n",
    "[Top](#TOC)\n",
    "\n",
    "[Setting Up Python](#SettingUp)\n",
    "\n",
    "These chunks identify the locations from which we can get data and to which we can save data."
   ]
  },
  {
   "cell_type": "markdown",
   "metadata": {},
   "source": [
    "### Source Data\n",
    "Raw data can be found in the following locations:"
   ]
  },
  {
   "cell_type": "code",
   "execution_count": 2,
   "metadata": {},
   "outputs": [],
   "source": [
    "# sourceDataPers = 'C:/Users/Christopher/Google Drive/TailDemography/outputFiles'\n",
    "sourceDataBig = 'S:/Chris/TailDemography/TailDemography/Raw Data'\n",
    "# sourceBlack = 'C:/Users/test/Desktop'"
   ]
  },
  {
   "cell_type": "markdown",
   "metadata": {},
   "source": [
    "Now we change the working directory to the source path."
   ]
  },
  {
   "cell_type": "code",
   "execution_count": 3,
   "metadata": {},
   "outputs": [],
   "source": [
    "os.chdir(sourceDataBig)"
   ]
  },
  {
   "cell_type": "markdown",
   "metadata": {},
   "source": [
    "### Output Data\n",
    "The cleaned data will be saved to one of these locations:"
   ]
  },
  {
   "cell_type": "code",
   "execution_count": 4,
   "metadata": {},
   "outputs": [],
   "source": [
    "# outputPers = 'C:/Users/Christopher/Google Drive/TailDemography/outputFiles'\n",
    "outputBig = 'S:/Chris/TailDemography/TailDemography/Cleaned Combined Data'\n",
    "# outputBlack = 'C:/Users/test/Desktop'"
   ]
  },
  {
   "cell_type": "markdown",
   "metadata": {},
   "source": [
    "<a id='ReadingData'></a>"
   ]
  },
  {
   "cell_type": "markdown",
   "metadata": {},
   "source": [
    "# Reading in Data\n",
    "[Top](#TOC)"
   ]
  },
  {
   "cell_type": "markdown",
   "metadata": {},
   "source": [
    "Here we use search the source path to locate and eventually read the raw data into our notebook."
   ]
  },
  {
   "cell_type": "code",
   "execution_count": 5,
   "metadata": {},
   "outputs": [
    {
     "data": {
      "text/plain": [
       "['CC 2000-03-modified from CC-SJ 00-03 final.xls',\n",
       " 'CC 2004.xlsx',\n",
       " 'CC 2015 - captures.xls',\n",
       " 'CC 2016 - captures.xls',\n",
       " 'CC 2017 Lizards - 3viii17 captures and obs.xls',\n",
       " 'xCC2005x.xls',\n",
       " 'xCC2006x.xls',\n",
       " 'xCC2007x.xls',\n",
       " 'xCC2008x.xls',\n",
       " 'xCC2009x.xls',\n",
       " 'xCC2010x.xlsx',\n",
       " 'xCC2011x.xls',\n",
       " 'xCC2012x.xls',\n",
       " 'xCC2013x.xls',\n",
       " 'xCC2014x.xlsx']"
      ]
     },
     "execution_count": 5,
     "metadata": {},
     "output_type": "execute_result"
    }
   ],
   "source": [
    "rawfiles = glob.glob('*.xls*')\n",
    "rawfiles"
   ]
  },
  {
   "cell_type": "markdown",
   "metadata": {},
   "source": [
    "Let's inspect these data.  We will begin by looking at the number of columns and rows. In each file. To do this first we define a function, *xlsheets*, which we define below."
   ]
  },
  {
   "cell_type": "code",
   "execution_count": 6,
   "metadata": {},
   "outputs": [],
   "source": [
    "def xlsheets(file):\n",
    "    \"\"\"The function takes a string, *file*, and returns the number and names of sheets in that file.\\\n",
    "    The function relies on the pandas package.\"\"\"\n",
    "    tmp = pd.ExcelFile(file)\n",
    "    res = {'num_sheets':len(tmp.sheet_names),'names': tmp.sheet_names}\n",
    "    return res"
   ]
  },
  {
   "cell_type": "markdown",
   "metadata": {},
   "source": [
    "You can see that when we call *xlsheets* on the first file in our list of files, it returns the total number of sheets and names of each sheet."
   ]
  },
  {
   "cell_type": "code",
   "execution_count": 7,
   "metadata": {},
   "outputs": [
    {
     "data": {
      "text/plain": [
       "{'num_sheets': 4, 'names': ['2000', '2001', '2002', '2003']}"
      ]
     },
     "execution_count": 7,
     "metadata": {},
     "output_type": "execute_result"
    }
   ],
   "source": [
    "xlsheets(rawfiles[0])"
   ]
  },
  {
   "cell_type": "markdown",
   "metadata": {},
   "source": [
    "<a id='ResumeHere'></a>"
   ]
  },
  {
   "cell_type": "markdown",
   "metadata": {},
   "source": [
    "We will apply this to all of the files in raw files to inspect the data at the highest level."
   ]
  },
  {
   "cell_type": "code",
   "execution_count": 44,
   "metadata": {
    "scrolled": true
   },
   "outputs": [
    {
     "data": {
      "text/plain": [
       "0     {'num_sheets': 4, 'names': ['2000', '2001', '2...\n",
       "1                 {'num_sheets': 1, 'names': ['2004 ']}\n",
       "2                  {'num_sheets': 1, 'names': ['2015']}\n",
       "3                  {'num_sheets': 1, 'names': ['2016']}\n",
       "4                  {'num_sheets': 1, 'names': ['2017']}\n",
       "5                  {'num_sheets': 1, 'names': ['2005']}\n",
       "6                  {'num_sheets': 1, 'names': ['2006']}\n",
       "7        {'num_sheets': 2, 'names': ['Sheet1', '2007']}\n",
       "8                  {'num_sheets': 1, 'names': ['2008']}\n",
       "9                  {'num_sheets': 1, 'names': ['2009']}\n",
       "10               {'num_sheets': 1, 'names': ['Sheet1']}\n",
       "11               {'num_sheets': 1, 'names': ['Sheet1']}\n",
       "12                 {'num_sheets': 1, 'names': ['data']}\n",
       "13         {'num_sheets': 1, 'names': ['CC 2013 data']}\n",
       "14                 {'num_sheets': 1, 'names': ['2014']}\n",
       "dtype: object"
      ]
     },
     "execution_count": 44,
     "metadata": {},
     "output_type": "execute_result"
    }
   ],
   "source": [
    "filelayout = pd.Series(rawfiles).apply(xlsheets)\n",
    "filelayout"
   ]
  },
  {
   "cell_type": "code",
   "execution_count": 80,
   "metadata": {},
   "outputs": [
    {
     "data": {
      "text/html": [
       "<div>\n",
       "<style scoped>\n",
       "    .dataframe tbody tr th:only-of-type {\n",
       "        vertical-align: middle;\n",
       "    }\n",
       "\n",
       "    .dataframe tbody tr th {\n",
       "        vertical-align: top;\n",
       "    }\n",
       "\n",
       "    .dataframe thead th {\n",
       "        text-align: right;\n",
       "    }\n",
       "</style>\n",
       "<table border=\"1\" class=\"dataframe\">\n",
       "  <thead>\n",
       "    <tr style=\"text-align: right;\">\n",
       "      <th></th>\n",
       "      <th>num_sheets</th>\n",
       "      <th>sheetnames</th>\n",
       "    </tr>\n",
       "  </thead>\n",
       "  <tbody>\n",
       "    <tr>\n",
       "      <th>0</th>\n",
       "      <td>4</td>\n",
       "      <td>[2000, 2001, 2002, 2003]</td>\n",
       "    </tr>\n",
       "    <tr>\n",
       "      <th>1</th>\n",
       "      <td>1</td>\n",
       "      <td>[2004 ]</td>\n",
       "    </tr>\n",
       "    <tr>\n",
       "      <th>2</th>\n",
       "      <td>1</td>\n",
       "      <td>[2015]</td>\n",
       "    </tr>\n",
       "    <tr>\n",
       "      <th>3</th>\n",
       "      <td>1</td>\n",
       "      <td>[2016]</td>\n",
       "    </tr>\n",
       "    <tr>\n",
       "      <th>4</th>\n",
       "      <td>1</td>\n",
       "      <td>[2017]</td>\n",
       "    </tr>\n",
       "    <tr>\n",
       "      <th>5</th>\n",
       "      <td>1</td>\n",
       "      <td>[2005]</td>\n",
       "    </tr>\n",
       "    <tr>\n",
       "      <th>6</th>\n",
       "      <td>1</td>\n",
       "      <td>[2006]</td>\n",
       "    </tr>\n",
       "    <tr>\n",
       "      <th>7</th>\n",
       "      <td>2</td>\n",
       "      <td>[Sheet1, 2007]</td>\n",
       "    </tr>\n",
       "    <tr>\n",
       "      <th>8</th>\n",
       "      <td>1</td>\n",
       "      <td>[2008]</td>\n",
       "    </tr>\n",
       "    <tr>\n",
       "      <th>9</th>\n",
       "      <td>1</td>\n",
       "      <td>[2009]</td>\n",
       "    </tr>\n",
       "    <tr>\n",
       "      <th>10</th>\n",
       "      <td>1</td>\n",
       "      <td>[Sheet1]</td>\n",
       "    </tr>\n",
       "    <tr>\n",
       "      <th>11</th>\n",
       "      <td>1</td>\n",
       "      <td>[Sheet1]</td>\n",
       "    </tr>\n",
       "    <tr>\n",
       "      <th>12</th>\n",
       "      <td>1</td>\n",
       "      <td>[data]</td>\n",
       "    </tr>\n",
       "    <tr>\n",
       "      <th>13</th>\n",
       "      <td>1</td>\n",
       "      <td>[CC 2013 data]</td>\n",
       "    </tr>\n",
       "    <tr>\n",
       "      <th>14</th>\n",
       "      <td>1</td>\n",
       "      <td>[2014]</td>\n",
       "    </tr>\n",
       "  </tbody>\n",
       "</table>\n",
       "</div>"
      ],
      "text/plain": [
       "    num_sheets                sheetnames\n",
       "0            4  [2000, 2001, 2002, 2003]\n",
       "1            1                   [2004 ]\n",
       "2            1                    [2015]\n",
       "3            1                    [2016]\n",
       "4            1                    [2017]\n",
       "5            1                    [2005]\n",
       "6            1                    [2006]\n",
       "7            2            [Sheet1, 2007]\n",
       "8            1                    [2008]\n",
       "9            1                    [2009]\n",
       "10           1                  [Sheet1]\n",
       "11           1                  [Sheet1]\n",
       "12           1                    [data]\n",
       "13           1            [CC 2013 data]\n",
       "14           1                    [2014]"
      ]
     },
     "execution_count": 80,
     "metadata": {},
     "output_type": "execute_result"
    }
   ],
   "source": [
    "filelayout = pd.DataFrame([list(file.values()) for file in filelayout])\n",
    "filelayout.columns = ['num_sheets','sheetnames']\n",
    "filelayout"
   ]
  },
  {
   "cell_type": "code",
   "execution_count": 90,
   "metadata": {},
   "outputs": [
    {
     "data": {
      "text/plain": [
       "0    NaN\n",
       "1    NaN\n",
       "2    NaN\n",
       "3    NaN\n",
       "4    NaN\n",
       "5    NaN\n",
       "6    NaN\n",
       "7    NaN\n",
       "8    NaN\n",
       "9    NaN\n",
       "10   NaN\n",
       "11   NaN\n",
       "12   NaN\n",
       "13   NaN\n",
       "14   NaN\n",
       "Name: sheetnames, dtype: float64"
      ]
     },
     "execution_count": 90,
     "metadata": {},
     "output_type": "execute_result"
    }
   ],
   "source": [
    "filelayout.sheetnames.str.split(',')"
   ]
  },
  {
   "cell_type": "markdown",
   "metadata": {},
   "source": [
    "We will need to treat the 1st and 8th files in the source data differently when we read in the data.  Let's group the file names accordingly."
   ]
  },
  {
   "cell_type": "code",
   "execution_count": 9,
   "metadata": {},
   "outputs": [],
   "source": [
    "rawfiles_ms = [rawfiles[0],rawfiles[7]]\n",
    "rawfiles_ss = list(set(rawfiles)- set(rawfiles_ms))"
   ]
  },
  {
   "cell_type": "markdown",
   "metadata": {},
   "source": [
    "The names of files with multiple sheets are now in the variable *rawfiles_ms*."
   ]
  },
  {
   "cell_type": "code",
   "execution_count": 10,
   "metadata": {},
   "outputs": [
    {
     "data": {
      "text/plain": [
       "['CC 2000-03-modified from CC-SJ 00-03 final.xls', 'xCC2007x.xls']"
      ]
     },
     "execution_count": 10,
     "metadata": {},
     "output_type": "execute_result"
    }
   ],
   "source": [
    "rawfiles_ms"
   ]
  },
  {
   "cell_type": "markdown",
   "metadata": {},
   "source": [
    "The names of files with a single sheet are now in the variable *rawfiles_ss*."
   ]
  },
  {
   "cell_type": "code",
   "execution_count": 11,
   "metadata": {},
   "outputs": [
    {
     "data": {
      "text/plain": [
       "['xCC2011x.xls',\n",
       " 'CC 2016 - captures.xls',\n",
       " 'xCC2012x.xls',\n",
       " 'xCC2010x.xlsx',\n",
       " 'xCC2013x.xls',\n",
       " 'xCC2008x.xls',\n",
       " 'CC 2015 - captures.xls',\n",
       " 'CC 2017 Lizards - 3viii17 captures and obs.xls',\n",
       " 'xCC2006x.xls',\n",
       " 'xCC2014x.xlsx',\n",
       " 'CC 2004.xlsx',\n",
       " 'xCC2005x.xls',\n",
       " 'xCC2009x.xls']"
      ]
     },
     "execution_count": 11,
     "metadata": {},
     "output_type": "execute_result"
    }
   ],
   "source": [
    "rawfiles_ss"
   ]
  },
  {
   "cell_type": "markdown",
   "metadata": {},
   "source": [
    "Now let's take a look at the number of columns in each file. We'll start with the single sheet files, since this is the easiest.  We will define another function, *xlcolshape* to make this easier."
   ]
  },
  {
   "cell_type": "code",
   "execution_count": 12,
   "metadata": {},
   "outputs": [],
   "source": [
    "def xlcolshape(file):\n",
    "    \"\"\"xlcolshape takes a file name as a string and returns the shape of the excel file\"\"\"\n",
    "    return pd.read_excel(file).shape"
   ]
  },
  {
   "cell_type": "markdown",
   "metadata": {},
   "source": [
    "When we call this function on the first of the single-sheet files, we can see that it returns a tuple in the format ('number of rows', 'number of columns')."
   ]
  },
  {
   "cell_type": "code",
   "execution_count": 13,
   "metadata": {},
   "outputs": [
    {
     "data": {
      "text/plain": [
       "(64, 19)"
      ]
     },
     "execution_count": 13,
     "metadata": {},
     "output_type": "execute_result"
    }
   ],
   "source": [
    "xlcolshape(rawfiles_ss[0])"
   ]
  },
  {
   "cell_type": "markdown",
   "metadata": {},
   "source": [
    "We will apply this funtion to the list of single-sheet files for our inspection."
   ]
  },
  {
   "cell_type": "code",
   "execution_count": 14,
   "metadata": {
    "scrolled": false
   },
   "outputs": [
    {
     "data": {
      "text/plain": [
       "0      (64, 19)\n",
       "1     (103, 21)\n",
       "2      (85, 19)\n",
       "3      (99, 41)\n",
       "4     (106, 19)\n",
       "5     (134, 20)\n",
       "6     (241, 19)\n",
       "7     (798, 21)\n",
       "8     (163, 16)\n",
       "9      (97, 19)\n",
       "10    (479, 16)\n",
       "11    (202, 16)\n",
       "12    (162, 16)\n",
       "dtype: object"
      ]
     },
     "execution_count": 14,
     "metadata": {},
     "output_type": "execute_result"
    }
   ],
   "source": [
    "pd.Series(rawfiles_ss).apply(xlcolshape)"
   ]
  },
  {
   "cell_type": "markdown",
   "metadata": {},
   "source": [
    "<a id='CleaningData'></a>"
   ]
  },
  {
   "cell_type": "markdown",
   "metadata": {},
   "source": [
    "# Cleaning Data\n",
    "[Top](#TOC)"
   ]
  },
  {
   "cell_type": "markdown",
   "metadata": {},
   "source": [
    "<a id='HandlingColumns'></a>"
   ]
  },
  {
   "cell_type": "markdown",
   "metadata": {},
   "source": [
    "## Handling Columns\n",
    "[Top](#TOC)\n",
    "\n",
    "We don't have to look in the multiple-sheet file.  It's clear that we'll have to identify a common set of columns prior to combining these files.  Let's define a few functions to help us do this.\n",
    "\n",
    "We will want to do the following:\n",
    "1. [build a list of unique column names](#FindUniqueCol)\n",
    "2. [eliminate unnecessary columns](#DropCol)\n",
    "3. [combine synonyms ](#CombineCol)"
   ]
  },
  {
   "cell_type": "markdown",
   "metadata": {},
   "source": [
    "<a id='FindUniqueCol'></a>"
   ]
  },
  {
   "cell_type": "markdown",
   "metadata": {},
   "source": [
    "### Finding Unique Columns\n",
    "[Top](#TOC)\n",
    "\n",
    "[Cleaning Data](#CleaningData)\n",
    "\n",
    "[Handling Columns](#HandlingColumns)\n",
    "\n",
    "We'll define a function to extract column names and convert them to a set we'll use that function to allow us to only add unique names to a list of column names."
   ]
  },
  {
   "cell_type": "code",
   "execution_count": 15,
   "metadata": {},
   "outputs": [],
   "source": [
    "def xluniquecol(file,sheet=0):\n",
    "    \"\"\"xluniquecol takes a string filename of an excel file and extracts the column names as a set.\"\"\"\n",
    "    return list(pd.read_excel(file,sheet_name=sheet).columns)\n"
   ]
  },
  {
   "cell_type": "markdown",
   "metadata": {},
   "source": [
    "Here is an example of how xluniquecol works."
   ]
  },
  {
   "cell_type": "code",
   "execution_count": 16,
   "metadata": {},
   "outputs": [
    {
     "data": {
      "text/plain": [
       "['Species',\n",
       " 'Toes',\n",
       " 'Date',\n",
       " 'Sex',\n",
       " 'SVL',\n",
       " 'TL',\n",
       " 'RTL',\n",
       " 'Mass',\n",
       " 'Paint Mark',\n",
       " 'Location',\n",
       " 'Meters',\n",
       " 'New/Recap',\n",
       " 'Painted',\n",
       " 'Misc.',\n",
       " 'Vial',\n",
       " 'Time',\n",
       " 'Unnamed: 16',\n",
       " 'Spotted',\n",
       " 'Mark']"
      ]
     },
     "execution_count": 16,
     "metadata": {},
     "output_type": "execute_result"
    }
   ],
   "source": [
    "xluniquecol(rawfiles_ss[0])"
   ]
  },
  {
   "cell_type": "markdown",
   "metadata": {},
   "source": [
    "Now we will create an empty set, *uniquecols*, that will eventually contain the unique column names in all of the files.\n",
    "\n",
    "We will append the unique column names from each file to *uniquecols*."
   ]
  },
  {
   "cell_type": "code",
   "execution_count": 17,
   "metadata": {},
   "outputs": [
    {
     "data": {
      "text/plain": [
       "['TIME',\n",
       " 1,\n",
       " 'painted or not',\n",
       " 'paint mark',\n",
       " 'misc/notes',\n",
       " 'Toe 18',\n",
       " '2015 or earlier',\n",
       " 'TL (mm)',\n",
       " 'Misc.',\n",
       " 'RTL',\n",
       " 'Mark',\n",
       " 'Tail condition (1=intact; 2=autotomized; 3=regrown)',\n",
       " 'Toe 9',\n",
       " 'TOES',\n",
       " 'Toes',\n",
       " 'Unnamed: 16',\n",
       " 'Toe 15',\n",
       " 'Years Alive (known)',\n",
       " 'painted',\n",
       " 'mass (g)',\n",
       " 'Painted',\n",
       " 'misc',\n",
       " 'Unnamed: 19',\n",
       " 'Toe 11',\n",
       " 'Toe 4',\n",
       " ' painted or not',\n",
       " 'meters',\n",
       " 'Collectors',\n",
       " 'date',\n",
       " 'Date',\n",
       " 'Meters',\n",
       " 'SVL',\n",
       " 'Toe 1',\n",
       " 'Toe 3',\n",
       " 'Toe 2',\n",
       " 'Mass',\n",
       " 'RTL (mm)',\n",
       " 'Toe 5',\n",
       " 'Toe 12',\n",
       " 'Toe 13',\n",
       " '1st Capture (year)',\n",
       " 'Toe 14',\n",
       " 'Sex',\n",
       " 'mass',\n",
       " 'SVL (mm)',\n",
       " 'Vial',\n",
       " 'NEW/recap',\n",
       " 'VIAL',\n",
       " 'sex',\n",
       " 'Location',\n",
       " 'Time',\n",
       " 'TL',\n",
       " 'Spotted',\n",
       " 'Toe 19',\n",
       " 'Paint Mark',\n",
       " 'Toe 16',\n",
       " 'Year',\n",
       " 'Toe 7',\n",
       " 'New/Recap',\n",
       " 'species',\n",
       " 'Species',\n",
       " 'Toe 6',\n",
       " 'Toe 10',\n",
       " 'Marked',\n",
       " 'Toe 17',\n",
       " 'location',\n",
       " 'Toe 8',\n",
       " 'Toe 20',\n",
       " 'Unnamed: 17']"
      ]
     },
     "execution_count": 17,
     "metadata": {},
     "output_type": "execute_result"
    }
   ],
   "source": [
    "tmp = pd.Series(rawfiles_ss).apply(xluniquecol)\n",
    "uniquecols = list()\n",
    "for u in tmp:\n",
    "    uniquecols = uniquecols+u\n",
    "uniquecols = list(set(uniquecols))\n",
    "uniquecols"
   ]
  },
  {
   "cell_type": "markdown",
   "metadata": {},
   "source": [
    "<a id='DropCol'></a>"
   ]
  },
  {
   "cell_type": "markdown",
   "metadata": {},
   "source": [
    "### Eliminate Unnecessary Columns\n",
    "[Top](#TOC)\n",
    "\n",
    "[Cleaning Data](#CleaningData)\n",
    "\n",
    "[Handling Columns](#HandlingColumns)\n",
    "\n",
    "Now we will try to identify unnecessary columns and eliminate them. Much of this will be done manually."
   ]
  },
  {
   "cell_type": "code",
   "execution_count": 18,
   "metadata": {},
   "outputs": [],
   "source": [
    "keepCol = ['species', 'date', 'sex', 'svl', 'tl', 'rtl', 'mass',\n",
    "       'paint.mark', 'location', 'meters', 'new.recap', 'painted', 'misc',\n",
    "       'vial', 'autotomized', 'sighting', 'toes']"
   ]
  },
  {
   "cell_type": "code",
   "execution_count": 19,
   "metadata": {},
   "outputs": [
    {
     "data": {
      "text/plain": [
       "{'autotomized', 'new.recap', 'paint.mark', 'sighting'}"
      ]
     },
     "execution_count": 19,
     "metadata": {},
     "output_type": "execute_result"
    }
   ],
   "source": [
    "set(pd.Series(keepCol).str.lower())-set(pd.Series(uniquecols).str.lower())"
   ]
  },
  {
   "cell_type": "code",
   "execution_count": 20,
   "metadata": {},
   "outputs": [
    {
     "data": {
      "text/plain": [
       "{' painted or not',\n",
       " '1st capture (year)',\n",
       " '2015 or earlier',\n",
       " 'collectors',\n",
       " 'mark',\n",
       " 'marked',\n",
       " 'mass (g)',\n",
       " 'misc.',\n",
       " 'misc/notes',\n",
       " nan,\n",
       " 'new/recap',\n",
       " 'paint mark',\n",
       " 'painted or not',\n",
       " 'rtl (mm)',\n",
       " 'spotted',\n",
       " 'svl (mm)',\n",
       " 'tail condition (1=intact; 2=autotomized; 3=regrown)',\n",
       " 'time',\n",
       " 'tl (mm)',\n",
       " 'toe 1',\n",
       " 'toe 10',\n",
       " 'toe 11',\n",
       " 'toe 12',\n",
       " 'toe 13',\n",
       " 'toe 14',\n",
       " 'toe 15',\n",
       " 'toe 16',\n",
       " 'toe 17',\n",
       " 'toe 18',\n",
       " 'toe 19',\n",
       " 'toe 2',\n",
       " 'toe 20',\n",
       " 'toe 3',\n",
       " 'toe 4',\n",
       " 'toe 5',\n",
       " 'toe 6',\n",
       " 'toe 7',\n",
       " 'toe 8',\n",
       " 'toe 9',\n",
       " 'unnamed: 16',\n",
       " 'unnamed: 17',\n",
       " 'unnamed: 19',\n",
       " 'year',\n",
       " 'years alive (known)'}"
      ]
     },
     "execution_count": 20,
     "metadata": {},
     "output_type": "execute_result"
    }
   ],
   "source": [
    "set(pd.Series(uniquecols).str.lower())-set(pd.Series(keepCol).str.lower())"
   ]
  },
  {
   "cell_type": "markdown",
   "metadata": {},
   "source": [
    "Since data for years 2000-2003 are contained in the same Excel file we will have to treat this file differently than the others."
   ]
  },
  {
   "cell_type": "markdown",
   "metadata": {},
   "source": [
    "<a id='CombineCol'></a>"
   ]
  },
  {
   "cell_type": "markdown",
   "metadata": {},
   "source": [
    "### Combining Synonymous Columns\n",
    "[Top](#TOC)\n",
    "\n",
    "[Cleaning Data](#CleaningData)\n",
    "\n",
    "[Handling Columns](#HandlingColumns)"
   ]
  },
  {
   "cell_type": "markdown",
   "metadata": {},
   "source": [
    "Once we have identified the columns we need to keep, we'll need to apply this list to the files as they are read into python by doing the following:"
   ]
  },
  {
   "cell_type": "markdown",
   "metadata": {},
   "source": [
    "Let's define a function to identify potential synonyms. One approach is to take a column name that we want to keep and search through a list of names to identify any that contain enough of that name to be considered potentially synonymous.  Let's try to return these potential matches as values in a dictionary and return the desired name as the key for those values."
   ]
  },
  {
   "cell_type": "code",
   "execution_count": 21,
   "metadata": {},
   "outputs": [],
   "source": [
    "def colmatchtodict(x,series, dictsource, key= None):\n",
    "    \"\"\"This takes a string, x, and a looks for values in a series that match that contain that string.\n",
    "    Those values which match are returned as values in a python dict for the key, key.\"\"\"\n",
    "    \n",
    "    assert isinstance(series,pd.Series)\n",
    "    if key is None:\n",
    "        key = x\n",
    "    tmp = series[series.astype(str).str.contains(x,case = False)].tolist()\n",
    "    dictsource[key] = tmp\n",
    "    return dictsource\n",
    "    "
   ]
  },
  {
   "cell_type": "code",
   "execution_count": 22,
   "metadata": {},
   "outputs": [],
   "source": [
    "coldict = {}"
   ]
  },
  {
   "cell_type": "code",
   "execution_count": 23,
   "metadata": {},
   "outputs": [
    {
     "data": {
      "text/plain": [
       "{'toes': ['TOES', 'Toes']}"
      ]
     },
     "execution_count": 23,
     "metadata": {},
     "output_type": "execute_result"
    }
   ],
   "source": [
    "colmatchtodict('toes',pd.Series(uniquecols),coldict, key = 'toes')"
   ]
  },
  {
   "cell_type": "markdown",
   "metadata": {},
   "source": [
    "Now let's see what happened when we apply this funtion to our, keepCol."
   ]
  },
  {
   "cell_type": "code",
   "execution_count": 24,
   "metadata": {},
   "outputs": [],
   "source": [
    "coldict = {}"
   ]
  },
  {
   "cell_type": "code",
   "execution_count": 25,
   "metadata": {},
   "outputs": [
    {
     "data": {
      "text/plain": [
       "{'species': ['species', 'Species'],\n",
       " 'date': ['date', 'Date'],\n",
       " 'sex': ['Sex', 'sex'],\n",
       " 'svl': ['SVL', 'SVL (mm)'],\n",
       " 'tl': ['TL (mm)', 'RTL', 'RTL (mm)', 'TL'],\n",
       " 'rtl': ['RTL', 'RTL (mm)'],\n",
       " 'mass': ['mass (g)', 'Mass', 'mass'],\n",
       " 'paint.mark': ['paint mark', 'Paint Mark'],\n",
       " 'location': ['Location', 'location'],\n",
       " 'meters': ['meters', 'Meters'],\n",
       " 'new.recap': ['NEW/recap', 'New/Recap'],\n",
       " 'painted': ['painted or not', 'painted', 'Painted', ' painted or not'],\n",
       " 'misc': ['misc/notes', 'Misc.', 'misc'],\n",
       " 'vial': ['Vial', 'VIAL'],\n",
       " 'autotomized': ['Tail condition (1=intact; 2=autotomized; 3=regrown)'],\n",
       " 'sighting': [],\n",
       " 'toes': ['TOES', 'Toes']}"
      ]
     },
     "execution_count": 25,
     "metadata": {},
     "output_type": "execute_result"
    }
   ],
   "source": [
    "pd.Series(keepCol).apply(lambda x: colmatchtodict(x=x,series=pd.Series(uniquecols),dictsource=coldict))\n",
    "coldict"
   ]
  },
  {
   "cell_type": "markdown",
   "metadata": {},
   "source": [
    "We will manually adjust the values for 'tl'."
   ]
  },
  {
   "cell_type": "code",
   "execution_count": 26,
   "metadata": {},
   "outputs": [],
   "source": [
    "coldict['tl']=['TL (mm)', 'TL', 'tl']"
   ]
  },
  {
   "cell_type": "markdown",
   "metadata": {},
   "source": [
    "Now we need to use this dict to relabel the columns we wish to keep."
   ]
  },
  {
   "cell_type": "markdown",
   "metadata": {},
   "source": [
    "We need a function that will take a value in *uniquecols*"
   ]
  },
  {
   "cell_type": "code",
   "execution_count": 27,
   "metadata": {},
   "outputs": [],
   "source": [
    "def findsyn (name,dictionary, verbose = True):\n",
    "    \"\"\"\n",
    "    *findsyn* checks searches the values of the dict *dictionary* for the string, *name* and returns \n",
    "    the key for the key,value pair to which *name* belongs.\n",
    "    \"\"\"\n",
    "    tmp = pd.DataFrame({'preferredcol':list(dictionary.keys()),'synonymns':list(dictionary.values())})\n",
    "    try:\n",
    "        res = list(tmp.preferredcol[tmp.synonymns.apply(lambda x:name in x)])[0]\n",
    "    except:\n",
    "        res = None\n",
    "        if verbose == True:\n",
    "            print(\"No value matching \\\"{}\\\" was found in the dictionary.\".format(name))\n",
    "    return res"
   ]
  },
  {
   "cell_type": "markdown",
   "metadata": {},
   "source": [
    "Here is are a few examples of how *findsyn* works."
   ]
  },
  {
   "cell_type": "code",
   "execution_count": 28,
   "metadata": {},
   "outputs": [],
   "source": [
    "findsyn('RTi',coldict,verbose=False)"
   ]
  },
  {
   "cell_type": "code",
   "execution_count": 29,
   "metadata": {},
   "outputs": [
    {
     "name": "stdout",
     "output_type": "stream",
     "text": [
      "No value matching \"RTi\" was found in the dictionary.\n"
     ]
    }
   ],
   "source": [
    "findsyn('RTi',coldict,verbose=True)"
   ]
  },
  {
   "cell_type": "code",
   "execution_count": 30,
   "metadata": {},
   "outputs": [
    {
     "data": {
      "text/plain": [
       "'rtl'"
      ]
     },
     "execution_count": 30,
     "metadata": {},
     "output_type": "execute_result"
    }
   ],
   "source": [
    "findsyn('RTL',coldict,verbose=True)"
   ]
  },
  {
   "cell_type": "markdown",
   "metadata": {},
   "source": [
    "Now we apply *findsyn* to *uniquecol* and create a column of synonyms."
   ]
  },
  {
   "cell_type": "code",
   "execution_count": 31,
   "metadata": {},
   "outputs": [
    {
     "data": {
      "text/html": [
       "<div>\n",
       "<style scoped>\n",
       "    .dataframe tbody tr th:only-of-type {\n",
       "        vertical-align: middle;\n",
       "    }\n",
       "\n",
       "    .dataframe tbody tr th {\n",
       "        vertical-align: top;\n",
       "    }\n",
       "\n",
       "    .dataframe thead th {\n",
       "        text-align: right;\n",
       "    }\n",
       "</style>\n",
       "<table border=\"1\" class=\"dataframe\">\n",
       "  <thead>\n",
       "    <tr style=\"text-align: right;\">\n",
       "      <th></th>\n",
       "      <th>uniquecols</th>\n",
       "      <th>preferredcol</th>\n",
       "    </tr>\n",
       "  </thead>\n",
       "  <tbody>\n",
       "    <tr>\n",
       "      <th>0</th>\n",
       "      <td>TIME</td>\n",
       "      <td>None</td>\n",
       "    </tr>\n",
       "    <tr>\n",
       "      <th>1</th>\n",
       "      <td>1</td>\n",
       "      <td>None</td>\n",
       "    </tr>\n",
       "    <tr>\n",
       "      <th>2</th>\n",
       "      <td>painted or not</td>\n",
       "      <td>painted</td>\n",
       "    </tr>\n",
       "    <tr>\n",
       "      <th>3</th>\n",
       "      <td>paint mark</td>\n",
       "      <td>paint.mark</td>\n",
       "    </tr>\n",
       "    <tr>\n",
       "      <th>4</th>\n",
       "      <td>misc/notes</td>\n",
       "      <td>misc</td>\n",
       "    </tr>\n",
       "    <tr>\n",
       "      <th>5</th>\n",
       "      <td>Toe 18</td>\n",
       "      <td>None</td>\n",
       "    </tr>\n",
       "    <tr>\n",
       "      <th>6</th>\n",
       "      <td>2015 or earlier</td>\n",
       "      <td>None</td>\n",
       "    </tr>\n",
       "    <tr>\n",
       "      <th>7</th>\n",
       "      <td>TL (mm)</td>\n",
       "      <td>tl</td>\n",
       "    </tr>\n",
       "    <tr>\n",
       "      <th>8</th>\n",
       "      <td>Misc.</td>\n",
       "      <td>misc</td>\n",
       "    </tr>\n",
       "    <tr>\n",
       "      <th>9</th>\n",
       "      <td>RTL</td>\n",
       "      <td>rtl</td>\n",
       "    </tr>\n",
       "    <tr>\n",
       "      <th>10</th>\n",
       "      <td>Mark</td>\n",
       "      <td>None</td>\n",
       "    </tr>\n",
       "    <tr>\n",
       "      <th>11</th>\n",
       "      <td>Tail condition (1=intact; 2=autotomized; 3=reg...</td>\n",
       "      <td>autotomized</td>\n",
       "    </tr>\n",
       "    <tr>\n",
       "      <th>12</th>\n",
       "      <td>Toe 9</td>\n",
       "      <td>None</td>\n",
       "    </tr>\n",
       "    <tr>\n",
       "      <th>13</th>\n",
       "      <td>TOES</td>\n",
       "      <td>toes</td>\n",
       "    </tr>\n",
       "    <tr>\n",
       "      <th>14</th>\n",
       "      <td>Toes</td>\n",
       "      <td>toes</td>\n",
       "    </tr>\n",
       "    <tr>\n",
       "      <th>15</th>\n",
       "      <td>Unnamed: 16</td>\n",
       "      <td>None</td>\n",
       "    </tr>\n",
       "    <tr>\n",
       "      <th>16</th>\n",
       "      <td>Toe 15</td>\n",
       "      <td>None</td>\n",
       "    </tr>\n",
       "    <tr>\n",
       "      <th>17</th>\n",
       "      <td>Years Alive (known)</td>\n",
       "      <td>None</td>\n",
       "    </tr>\n",
       "    <tr>\n",
       "      <th>18</th>\n",
       "      <td>painted</td>\n",
       "      <td>painted</td>\n",
       "    </tr>\n",
       "    <tr>\n",
       "      <th>19</th>\n",
       "      <td>mass (g)</td>\n",
       "      <td>mass</td>\n",
       "    </tr>\n",
       "    <tr>\n",
       "      <th>20</th>\n",
       "      <td>Painted</td>\n",
       "      <td>painted</td>\n",
       "    </tr>\n",
       "    <tr>\n",
       "      <th>21</th>\n",
       "      <td>misc</td>\n",
       "      <td>misc</td>\n",
       "    </tr>\n",
       "    <tr>\n",
       "      <th>22</th>\n",
       "      <td>Unnamed: 19</td>\n",
       "      <td>None</td>\n",
       "    </tr>\n",
       "    <tr>\n",
       "      <th>23</th>\n",
       "      <td>Toe 11</td>\n",
       "      <td>None</td>\n",
       "    </tr>\n",
       "    <tr>\n",
       "      <th>24</th>\n",
       "      <td>Toe 4</td>\n",
       "      <td>None</td>\n",
       "    </tr>\n",
       "    <tr>\n",
       "      <th>25</th>\n",
       "      <td>painted or not</td>\n",
       "      <td>painted</td>\n",
       "    </tr>\n",
       "    <tr>\n",
       "      <th>26</th>\n",
       "      <td>meters</td>\n",
       "      <td>meters</td>\n",
       "    </tr>\n",
       "    <tr>\n",
       "      <th>27</th>\n",
       "      <td>Collectors</td>\n",
       "      <td>None</td>\n",
       "    </tr>\n",
       "    <tr>\n",
       "      <th>28</th>\n",
       "      <td>date</td>\n",
       "      <td>date</td>\n",
       "    </tr>\n",
       "    <tr>\n",
       "      <th>29</th>\n",
       "      <td>Date</td>\n",
       "      <td>date</td>\n",
       "    </tr>\n",
       "    <tr>\n",
       "      <th>30</th>\n",
       "      <td>Meters</td>\n",
       "      <td>meters</td>\n",
       "    </tr>\n",
       "    <tr>\n",
       "      <th>31</th>\n",
       "      <td>SVL</td>\n",
       "      <td>svl</td>\n",
       "    </tr>\n",
       "    <tr>\n",
       "      <th>32</th>\n",
       "      <td>Toe 1</td>\n",
       "      <td>None</td>\n",
       "    </tr>\n",
       "    <tr>\n",
       "      <th>33</th>\n",
       "      <td>Toe 3</td>\n",
       "      <td>None</td>\n",
       "    </tr>\n",
       "    <tr>\n",
       "      <th>34</th>\n",
       "      <td>Toe 2</td>\n",
       "      <td>None</td>\n",
       "    </tr>\n",
       "    <tr>\n",
       "      <th>35</th>\n",
       "      <td>Mass</td>\n",
       "      <td>mass</td>\n",
       "    </tr>\n",
       "    <tr>\n",
       "      <th>36</th>\n",
       "      <td>RTL (mm)</td>\n",
       "      <td>rtl</td>\n",
       "    </tr>\n",
       "    <tr>\n",
       "      <th>37</th>\n",
       "      <td>Toe 5</td>\n",
       "      <td>None</td>\n",
       "    </tr>\n",
       "    <tr>\n",
       "      <th>38</th>\n",
       "      <td>Toe 12</td>\n",
       "      <td>None</td>\n",
       "    </tr>\n",
       "    <tr>\n",
       "      <th>39</th>\n",
       "      <td>Toe 13</td>\n",
       "      <td>None</td>\n",
       "    </tr>\n",
       "    <tr>\n",
       "      <th>40</th>\n",
       "      <td>1st Capture (year)</td>\n",
       "      <td>None</td>\n",
       "    </tr>\n",
       "    <tr>\n",
       "      <th>41</th>\n",
       "      <td>Toe 14</td>\n",
       "      <td>None</td>\n",
       "    </tr>\n",
       "    <tr>\n",
       "      <th>42</th>\n",
       "      <td>Sex</td>\n",
       "      <td>sex</td>\n",
       "    </tr>\n",
       "    <tr>\n",
       "      <th>43</th>\n",
       "      <td>mass</td>\n",
       "      <td>mass</td>\n",
       "    </tr>\n",
       "    <tr>\n",
       "      <th>44</th>\n",
       "      <td>SVL (mm)</td>\n",
       "      <td>svl</td>\n",
       "    </tr>\n",
       "    <tr>\n",
       "      <th>45</th>\n",
       "      <td>Vial</td>\n",
       "      <td>vial</td>\n",
       "    </tr>\n",
       "    <tr>\n",
       "      <th>46</th>\n",
       "      <td>NEW/recap</td>\n",
       "      <td>new.recap</td>\n",
       "    </tr>\n",
       "    <tr>\n",
       "      <th>47</th>\n",
       "      <td>VIAL</td>\n",
       "      <td>vial</td>\n",
       "    </tr>\n",
       "    <tr>\n",
       "      <th>48</th>\n",
       "      <td>sex</td>\n",
       "      <td>sex</td>\n",
       "    </tr>\n",
       "    <tr>\n",
       "      <th>49</th>\n",
       "      <td>Location</td>\n",
       "      <td>location</td>\n",
       "    </tr>\n",
       "    <tr>\n",
       "      <th>50</th>\n",
       "      <td>Time</td>\n",
       "      <td>None</td>\n",
       "    </tr>\n",
       "    <tr>\n",
       "      <th>51</th>\n",
       "      <td>TL</td>\n",
       "      <td>tl</td>\n",
       "    </tr>\n",
       "    <tr>\n",
       "      <th>52</th>\n",
       "      <td>Spotted</td>\n",
       "      <td>None</td>\n",
       "    </tr>\n",
       "    <tr>\n",
       "      <th>53</th>\n",
       "      <td>Toe 19</td>\n",
       "      <td>None</td>\n",
       "    </tr>\n",
       "    <tr>\n",
       "      <th>54</th>\n",
       "      <td>Paint Mark</td>\n",
       "      <td>paint.mark</td>\n",
       "    </tr>\n",
       "    <tr>\n",
       "      <th>55</th>\n",
       "      <td>Toe 16</td>\n",
       "      <td>None</td>\n",
       "    </tr>\n",
       "    <tr>\n",
       "      <th>56</th>\n",
       "      <td>Year</td>\n",
       "      <td>None</td>\n",
       "    </tr>\n",
       "    <tr>\n",
       "      <th>57</th>\n",
       "      <td>Toe 7</td>\n",
       "      <td>None</td>\n",
       "    </tr>\n",
       "    <tr>\n",
       "      <th>58</th>\n",
       "      <td>New/Recap</td>\n",
       "      <td>new.recap</td>\n",
       "    </tr>\n",
       "    <tr>\n",
       "      <th>59</th>\n",
       "      <td>species</td>\n",
       "      <td>species</td>\n",
       "    </tr>\n",
       "    <tr>\n",
       "      <th>60</th>\n",
       "      <td>Species</td>\n",
       "      <td>species</td>\n",
       "    </tr>\n",
       "    <tr>\n",
       "      <th>61</th>\n",
       "      <td>Toe 6</td>\n",
       "      <td>None</td>\n",
       "    </tr>\n",
       "    <tr>\n",
       "      <th>62</th>\n",
       "      <td>Toe 10</td>\n",
       "      <td>None</td>\n",
       "    </tr>\n",
       "    <tr>\n",
       "      <th>63</th>\n",
       "      <td>Marked</td>\n",
       "      <td>None</td>\n",
       "    </tr>\n",
       "    <tr>\n",
       "      <th>64</th>\n",
       "      <td>Toe 17</td>\n",
       "      <td>None</td>\n",
       "    </tr>\n",
       "    <tr>\n",
       "      <th>65</th>\n",
       "      <td>location</td>\n",
       "      <td>location</td>\n",
       "    </tr>\n",
       "    <tr>\n",
       "      <th>66</th>\n",
       "      <td>Toe 8</td>\n",
       "      <td>None</td>\n",
       "    </tr>\n",
       "    <tr>\n",
       "      <th>67</th>\n",
       "      <td>Toe 20</td>\n",
       "      <td>None</td>\n",
       "    </tr>\n",
       "    <tr>\n",
       "      <th>68</th>\n",
       "      <td>Unnamed: 17</td>\n",
       "      <td>None</td>\n",
       "    </tr>\n",
       "  </tbody>\n",
       "</table>\n",
       "</div>"
      ],
      "text/plain": [
       "                                           uniquecols preferredcol\n",
       "0                                                TIME         None\n",
       "1                                                   1         None\n",
       "2                                      painted or not      painted\n",
       "3                                          paint mark   paint.mark\n",
       "4                                          misc/notes         misc\n",
       "5                                              Toe 18         None\n",
       "6                                     2015 or earlier         None\n",
       "7                                             TL (mm)           tl\n",
       "8                                               Misc.         misc\n",
       "9                                                 RTL          rtl\n",
       "10                                               Mark         None\n",
       "11  Tail condition (1=intact; 2=autotomized; 3=reg...  autotomized\n",
       "12                                              Toe 9         None\n",
       "13                                               TOES         toes\n",
       "14                                               Toes         toes\n",
       "15                                        Unnamed: 16         None\n",
       "16                                             Toe 15         None\n",
       "17                                Years Alive (known)         None\n",
       "18                                            painted      painted\n",
       "19                                           mass (g)         mass\n",
       "20                                            Painted      painted\n",
       "21                                               misc         misc\n",
       "22                                        Unnamed: 19         None\n",
       "23                                             Toe 11         None\n",
       "24                                              Toe 4         None\n",
       "25                                     painted or not      painted\n",
       "26                                             meters       meters\n",
       "27                                         Collectors         None\n",
       "28                                               date         date\n",
       "29                                               Date         date\n",
       "30                                             Meters       meters\n",
       "31                                                SVL          svl\n",
       "32                                              Toe 1         None\n",
       "33                                              Toe 3         None\n",
       "34                                              Toe 2         None\n",
       "35                                               Mass         mass\n",
       "36                                           RTL (mm)          rtl\n",
       "37                                              Toe 5         None\n",
       "38                                             Toe 12         None\n",
       "39                                             Toe 13         None\n",
       "40                                 1st Capture (year)         None\n",
       "41                                             Toe 14         None\n",
       "42                                                Sex          sex\n",
       "43                                               mass         mass\n",
       "44                                           SVL (mm)          svl\n",
       "45                                               Vial         vial\n",
       "46                                          NEW/recap    new.recap\n",
       "47                                               VIAL         vial\n",
       "48                                                sex          sex\n",
       "49                                           Location     location\n",
       "50                                               Time         None\n",
       "51                                                 TL           tl\n",
       "52                                            Spotted         None\n",
       "53                                             Toe 19         None\n",
       "54                                         Paint Mark   paint.mark\n",
       "55                                             Toe 16         None\n",
       "56                                               Year         None\n",
       "57                                              Toe 7         None\n",
       "58                                          New/Recap    new.recap\n",
       "59                                            species      species\n",
       "60                                            Species      species\n",
       "61                                              Toe 6         None\n",
       "62                                             Toe 10         None\n",
       "63                                             Marked         None\n",
       "64                                             Toe 17         None\n",
       "65                                           location     location\n",
       "66                                              Toe 8         None\n",
       "67                                             Toe 20         None\n",
       "68                                        Unnamed: 17         None"
      ]
     },
     "execution_count": 31,
     "metadata": {},
     "output_type": "execute_result"
    }
   ],
   "source": [
    "uniquecolsdf = pd.DataFrame({'uniquecols':uniquecols})\n",
    "uniquecolsdf['preferredcol'] = uniquecolsdf.uniquecols.apply(lambda x: findsyn(x,coldict,False))\n",
    "uniquecolsdf"
   ]
  },
  {
   "cell_type": "markdown",
   "metadata": {},
   "source": [
    "Now we will turn this dataframe back into a dict so that we can easily use it to rename columns"
   ]
  },
  {
   "cell_type": "code",
   "execution_count": 32,
   "metadata": {},
   "outputs": [
    {
     "data": {
      "text/plain": [
       "{'TIME': None,\n",
       " 1: None,\n",
       " 'painted or not': 'painted',\n",
       " 'paint mark': 'paint.mark',\n",
       " 'misc/notes': 'misc',\n",
       " 'Toe 18': None,\n",
       " '2015 or earlier': None,\n",
       " 'TL (mm)': 'tl',\n",
       " 'Misc.': 'misc',\n",
       " 'RTL': 'rtl',\n",
       " 'Mark': None,\n",
       " 'Tail condition (1=intact; 2=autotomized; 3=regrown)': 'autotomized',\n",
       " 'Toe 9': None,\n",
       " 'TOES': 'toes',\n",
       " 'Toes': 'toes',\n",
       " 'Unnamed: 16': None,\n",
       " 'Toe 15': None,\n",
       " 'Years Alive (known)': None,\n",
       " 'painted': 'painted',\n",
       " 'mass (g)': 'mass',\n",
       " 'Painted': 'painted',\n",
       " 'misc': 'misc',\n",
       " 'Unnamed: 19': None,\n",
       " 'Toe 11': None,\n",
       " 'Toe 4': None,\n",
       " ' painted or not': 'painted',\n",
       " 'meters': 'meters',\n",
       " 'Collectors': None,\n",
       " 'date': 'date',\n",
       " 'Date': 'date',\n",
       " 'Meters': 'meters',\n",
       " 'SVL': 'svl',\n",
       " 'Toe 1': None,\n",
       " 'Toe 3': None,\n",
       " 'Toe 2': None,\n",
       " 'Mass': 'mass',\n",
       " 'RTL (mm)': 'rtl',\n",
       " 'Toe 5': None,\n",
       " 'Toe 12': None,\n",
       " 'Toe 13': None,\n",
       " '1st Capture (year)': None,\n",
       " 'Toe 14': None,\n",
       " 'Sex': 'sex',\n",
       " 'mass': 'mass',\n",
       " 'SVL (mm)': 'svl',\n",
       " 'Vial': 'vial',\n",
       " 'NEW/recap': 'new.recap',\n",
       " 'VIAL': 'vial',\n",
       " 'sex': 'sex',\n",
       " 'Location': 'location',\n",
       " 'Time': None,\n",
       " 'TL': 'tl',\n",
       " 'Spotted': None,\n",
       " 'Toe 19': None,\n",
       " 'Paint Mark': 'paint.mark',\n",
       " 'Toe 16': None,\n",
       " 'Year': None,\n",
       " 'Toe 7': None,\n",
       " 'New/Recap': 'new.recap',\n",
       " 'species': 'species',\n",
       " 'Species': 'species',\n",
       " 'Toe 6': None,\n",
       " 'Toe 10': None,\n",
       " 'Marked': None,\n",
       " 'Toe 17': None,\n",
       " 'location': 'location',\n",
       " 'Toe 8': None,\n",
       " 'Toe 20': None,\n",
       " 'Unnamed: 17': None}"
      ]
     },
     "execution_count": 32,
     "metadata": {},
     "output_type": "execute_result"
    }
   ],
   "source": [
    "uniquecolsdf.index = uniquecolsdf.uniquecols\n",
    "uniquecolsdict = pd.Series(uniquecolsdf.preferredcol).to_dict()\n",
    "uniquecolsdict"
   ]
  },
  {
   "cell_type": "markdown",
   "metadata": {},
   "source": [
    "We'll use the dict, *uniquecolsdict* to rename the synonymous columns in our file....once we read them in,\n",
    "that is."
   ]
  },
  {
   "cell_type": "markdown",
   "metadata": {},
   "source": [
    "<a id='AppendingData'></a>"
   ]
  },
  {
   "cell_type": "markdown",
   "metadata": {},
   "source": [
    "# Appending Data\n",
    "[Top](#TOC)"
   ]
  },
  {
   "cell_type": "code",
   "execution_count": 38,
   "metadata": {},
   "outputs": [],
   "source": [
    "def readnclean(x,dictionary,dtype=None):\n",
    "    \"\"\"\n",
    "    This function reads an excel file, renames columns deemed synonymous according to a dict,\n",
    "    *dictionary*, and drops unnecessary columns before returning the cleaner dataframe.\n",
    "    \"\"\"\n",
    "    tmp = pd.read_excel(x,dtype=dtype)\n",
    "    tmp.columns = pd.Series(tmp.columns).map(lambda x:dictionary[x])\n",
    "    dropidx =[None==col for col in list(tmp.columns)]\n",
    "    tmp=tmp.drop(columns=tmp.columns[dropidx])\n",
    "    \n",
    "    return tmp"
   ]
  },
  {
   "cell_type": "markdown",
   "metadata": {},
   "source": [
    "Here is an example of how *readnclean* works."
   ]
  },
  {
   "cell_type": "code",
   "execution_count": 39,
   "metadata": {},
   "outputs": [
    {
     "data": {
      "text/html": [
       "<div>\n",
       "<style scoped>\n",
       "    .dataframe tbody tr th:only-of-type {\n",
       "        vertical-align: middle;\n",
       "    }\n",
       "\n",
       "    .dataframe tbody tr th {\n",
       "        vertical-align: top;\n",
       "    }\n",
       "\n",
       "    .dataframe thead th {\n",
       "        text-align: right;\n",
       "    }\n",
       "</style>\n",
       "<table border=\"1\" class=\"dataframe\">\n",
       "  <thead>\n",
       "    <tr style=\"text-align: right;\">\n",
       "      <th></th>\n",
       "      <th>species</th>\n",
       "      <th>toes</th>\n",
       "      <th>date</th>\n",
       "      <th>sex</th>\n",
       "      <th>svl</th>\n",
       "      <th>tl</th>\n",
       "      <th>rtl</th>\n",
       "      <th>mass</th>\n",
       "      <th>paint.mark</th>\n",
       "      <th>location</th>\n",
       "      <th>meters</th>\n",
       "      <th>new.recap</th>\n",
       "      <th>painted</th>\n",
       "      <th>misc</th>\n",
       "      <th>vial</th>\n",
       "    </tr>\n",
       "  </thead>\n",
       "  <tbody>\n",
       "    <tr>\n",
       "      <th>0</th>\n",
       "      <td>sj</td>\n",
       "      <td>4 - 6 - 12</td>\n",
       "      <td>2011-06-20 00:00:00</td>\n",
       "      <td>M</td>\n",
       "      <td>68</td>\n",
       "      <td>101</td>\n",
       "      <td>0</td>\n",
       "      <td>9.2</td>\n",
       "      <td>g20b</td>\n",
       "      <td>15m up CCC</td>\n",
       "      <td>255</td>\n",
       "      <td>new</td>\n",
       "      <td>yes</td>\n",
       "      <td>recently shed</td>\n",
       "      <td>08 - 11</td>\n",
       "    </tr>\n",
       "    <tr>\n",
       "      <th>1</th>\n",
       "      <td>sj</td>\n",
       "      <td>4 - 6 - 13</td>\n",
       "      <td>2011-06-28 00:00:00</td>\n",
       "      <td>M</td>\n",
       "      <td>77</td>\n",
       "      <td>106</td>\n",
       "      <td>0</td>\n",
       "      <td>13.8</td>\n",
       "      <td>g40b</td>\n",
       "      <td>big juniper right 8m ^ juniper Xing</td>\n",
       "      <td>203</td>\n",
       "      <td>new</td>\n",
       "      <td>yes</td>\n",
       "      <td>nan</td>\n",
       "      <td>21 - 11</td>\n",
       "    </tr>\n",
       "    <tr>\n",
       "      <th>2</th>\n",
       "      <td>Uo</td>\n",
       "      <td>6 - 15</td>\n",
       "      <td>2011-06-20 00:00:00</td>\n",
       "      <td>M</td>\n",
       "      <td>49</td>\n",
       "      <td>83</td>\n",
       "      <td>0</td>\n",
       "      <td>4</td>\n",
       "      <td>g.t</td>\n",
       "      <td>opp oak R</td>\n",
       "      <td>418</td>\n",
       "      <td>new</td>\n",
       "      <td>yes</td>\n",
       "      <td>nan</td>\n",
       "      <td>09 - 11</td>\n",
       "    </tr>\n",
       "    <tr>\n",
       "      <th>3</th>\n",
       "      <td>uo</td>\n",
       "      <td>6 - 16</td>\n",
       "      <td>2011-06-28 00:00:00</td>\n",
       "      <td>F</td>\n",
       "      <td>49</td>\n",
       "      <td>72</td>\n",
       "      <td>0</td>\n",
       "      <td>4.2</td>\n",
       "      <td>g.b</td>\n",
       "      <td>CC/CCC</td>\n",
       "      <td>240</td>\n",
       "      <td>new</td>\n",
       "      <td>yes</td>\n",
       "      <td>Orange throat; gravid</td>\n",
       "      <td>22 - 11</td>\n",
       "    </tr>\n",
       "    <tr>\n",
       "      <th>4</th>\n",
       "      <td>Uo</td>\n",
       "      <td>6 - 17</td>\n",
       "      <td>2011-07-02 00:00:00</td>\n",
       "      <td>F</td>\n",
       "      <td>48</td>\n",
       "      <td>69</td>\n",
       "      <td>0</td>\n",
       "      <td>4</td>\n",
       "      <td>g.c</td>\n",
       "      <td>H4b</td>\n",
       "      <td>200</td>\n",
       "      <td>new</td>\n",
       "      <td>yes</td>\n",
       "      <td>nan</td>\n",
       "      <td>27-11</td>\n",
       "    </tr>\n",
       "  </tbody>\n",
       "</table>\n",
       "</div>"
      ],
      "text/plain": [
       "  species        toes                 date sex svl   tl rtl  mass paint.mark  \\\n",
       "0      sj  4 - 6 - 12  2011-06-20 00:00:00   M  68  101   0   9.2       g20b   \n",
       "1      sj  4 - 6 - 13  2011-06-28 00:00:00   M  77  106   0  13.8       g40b   \n",
       "2      Uo      6 - 15  2011-06-20 00:00:00   M  49   83   0     4        g.t   \n",
       "3      uo      6 - 16  2011-06-28 00:00:00   F  49   72   0   4.2        g.b   \n",
       "4      Uo      6 - 17  2011-07-02 00:00:00   F  48   69   0     4        g.c   \n",
       "\n",
       "                              location meters new.recap painted  \\\n",
       "0                           15m up CCC    255       new     yes   \n",
       "1  big juniper right 8m ^ juniper Xing    203       new     yes   \n",
       "2                            opp oak R    418       new     yes   \n",
       "3                               CC/CCC    240       new     yes   \n",
       "4                                  H4b    200       new     yes   \n",
       "\n",
       "                    misc     vial  \n",
       "0          recently shed  08 - 11  \n",
       "1                    nan  21 - 11  \n",
       "2                    nan  09 - 11  \n",
       "3  Orange throat; gravid  22 - 11  \n",
       "4                    nan    27-11  "
      ]
     },
     "execution_count": 39,
     "metadata": {},
     "output_type": "execute_result"
    }
   ],
   "source": [
    "readnclean(rawfiles_ss[0],uniquecolsdict,dtype=str).head()"
   ]
  },
  {
   "cell_type": "markdown",
   "metadata": {},
   "source": [
    "We'll create a df, *df*, with no data, but columns from our desired columns, *i.e.* the keys for coldict, as a placeholder to which we can append new data."
   ]
  },
  {
   "cell_type": "code",
   "execution_count": 40,
   "metadata": {},
   "outputs": [
    {
     "data": {
      "text/html": [
       "<div>\n",
       "<style scoped>\n",
       "    .dataframe tbody tr th:only-of-type {\n",
       "        vertical-align: middle;\n",
       "    }\n",
       "\n",
       "    .dataframe tbody tr th {\n",
       "        vertical-align: top;\n",
       "    }\n",
       "\n",
       "    .dataframe thead th {\n",
       "        text-align: right;\n",
       "    }\n",
       "</style>\n",
       "<table border=\"1\" class=\"dataframe\">\n",
       "  <thead>\n",
       "    <tr style=\"text-align: right;\">\n",
       "      <th></th>\n",
       "      <th>species</th>\n",
       "      <th>date</th>\n",
       "      <th>sex</th>\n",
       "      <th>svl</th>\n",
       "      <th>tl</th>\n",
       "      <th>rtl</th>\n",
       "      <th>mass</th>\n",
       "      <th>paint.mark</th>\n",
       "      <th>location</th>\n",
       "      <th>meters</th>\n",
       "      <th>new.recap</th>\n",
       "      <th>painted</th>\n",
       "      <th>misc</th>\n",
       "      <th>vial</th>\n",
       "      <th>autotomized</th>\n",
       "      <th>sighting</th>\n",
       "      <th>toes</th>\n",
       "    </tr>\n",
       "  </thead>\n",
       "  <tbody>\n",
       "  </tbody>\n",
       "</table>\n",
       "</div>"
      ],
      "text/plain": [
       "Empty DataFrame\n",
       "Columns: [species, date, sex, svl, tl, rtl, mass, paint.mark, location, meters, new.recap, painted, misc, vial, autotomized, sighting, toes]\n",
       "Index: []"
      ]
     },
     "execution_count": 40,
     "metadata": {},
     "output_type": "execute_result"
    }
   ],
   "source": [
    "df = pd.DataFrame(columns=coldict.keys())\n",
    "df"
   ]
  },
  {
   "cell_type": "markdown",
   "metadata": {},
   "source": [
    "Now we will read in all of the raw_ss files clean the column names and concatenate them into one large df."
   ]
  },
  {
   "cell_type": "code",
   "execution_count": 43,
   "metadata": {},
   "outputs": [
    {
     "name": "stdout",
     "output_type": "stream",
     "text": [
      "5530\n",
      "5633\n",
      "5718\n",
      "5817\n",
      "5923\n",
      "6057\n",
      "6298\n",
      "7096\n",
      "7259\n",
      "7356\n",
      "7835\n",
      "8037\n",
      "8199\n",
      "\n",
      "\n",
      "Final df has 17 columns and 8199 rows.\n"
     ]
    },
    {
     "data": {
      "text/html": [
       "<div>\n",
       "<style scoped>\n",
       "    .dataframe tbody tr th:only-of-type {\n",
       "        vertical-align: middle;\n",
       "    }\n",
       "\n",
       "    .dataframe tbody tr th {\n",
       "        vertical-align: top;\n",
       "    }\n",
       "\n",
       "    .dataframe thead th {\n",
       "        text-align: right;\n",
       "    }\n",
       "</style>\n",
       "<table border=\"1\" class=\"dataframe\">\n",
       "  <thead>\n",
       "    <tr style=\"text-align: right;\">\n",
       "      <th></th>\n",
       "      <th>autotomized</th>\n",
       "      <th>date</th>\n",
       "      <th>location</th>\n",
       "      <th>mass</th>\n",
       "      <th>meters</th>\n",
       "      <th>misc</th>\n",
       "      <th>new.recap</th>\n",
       "      <th>paint.mark</th>\n",
       "      <th>painted</th>\n",
       "      <th>rtl</th>\n",
       "      <th>sex</th>\n",
       "      <th>sighting</th>\n",
       "      <th>species</th>\n",
       "      <th>svl</th>\n",
       "      <th>tl</th>\n",
       "      <th>toes</th>\n",
       "      <th>vial</th>\n",
       "    </tr>\n",
       "  </thead>\n",
       "  <tbody>\n",
       "    <tr>\n",
       "      <th>0.0</th>\n",
       "      <td>NaN</td>\n",
       "      <td>2011-06-20 00:00:00</td>\n",
       "      <td>15m up CCC</td>\n",
       "      <td>9.2</td>\n",
       "      <td>255</td>\n",
       "      <td>recently shed</td>\n",
       "      <td>new</td>\n",
       "      <td>g20b</td>\n",
       "      <td>yes</td>\n",
       "      <td>0</td>\n",
       "      <td>M</td>\n",
       "      <td>NaN</td>\n",
       "      <td>sj</td>\n",
       "      <td>68</td>\n",
       "      <td>101</td>\n",
       "      <td>4 - 6 - 12</td>\n",
       "      <td>08 - 11</td>\n",
       "    </tr>\n",
       "    <tr>\n",
       "      <th>1.0</th>\n",
       "      <td>NaN</td>\n",
       "      <td>2011-06-28 00:00:00</td>\n",
       "      <td>big juniper right 8m ^ juniper Xing</td>\n",
       "      <td>13.8</td>\n",
       "      <td>203</td>\n",
       "      <td>NaN</td>\n",
       "      <td>new</td>\n",
       "      <td>g40b</td>\n",
       "      <td>yes</td>\n",
       "      <td>0</td>\n",
       "      <td>M</td>\n",
       "      <td>NaN</td>\n",
       "      <td>sj</td>\n",
       "      <td>77</td>\n",
       "      <td>106</td>\n",
       "      <td>4 - 6 - 13</td>\n",
       "      <td>21 - 11</td>\n",
       "    </tr>\n",
       "    <tr>\n",
       "      <th>2.0</th>\n",
       "      <td>NaN</td>\n",
       "      <td>2011-06-20 00:00:00</td>\n",
       "      <td>opp oak R</td>\n",
       "      <td>4</td>\n",
       "      <td>418</td>\n",
       "      <td>NaN</td>\n",
       "      <td>new</td>\n",
       "      <td>g.t</td>\n",
       "      <td>yes</td>\n",
       "      <td>0</td>\n",
       "      <td>M</td>\n",
       "      <td>NaN</td>\n",
       "      <td>Uo</td>\n",
       "      <td>49</td>\n",
       "      <td>83</td>\n",
       "      <td>6 - 15</td>\n",
       "      <td>09 - 11</td>\n",
       "    </tr>\n",
       "    <tr>\n",
       "      <th>3.0</th>\n",
       "      <td>NaN</td>\n",
       "      <td>2011-06-28 00:00:00</td>\n",
       "      <td>CC/CCC</td>\n",
       "      <td>4.2</td>\n",
       "      <td>240</td>\n",
       "      <td>Orange throat; gravid</td>\n",
       "      <td>new</td>\n",
       "      <td>g.b</td>\n",
       "      <td>yes</td>\n",
       "      <td>0</td>\n",
       "      <td>F</td>\n",
       "      <td>NaN</td>\n",
       "      <td>uo</td>\n",
       "      <td>49</td>\n",
       "      <td>72</td>\n",
       "      <td>6 - 16</td>\n",
       "      <td>22 - 11</td>\n",
       "    </tr>\n",
       "    <tr>\n",
       "      <th>4.0</th>\n",
       "      <td>NaN</td>\n",
       "      <td>2011-07-02 00:00:00</td>\n",
       "      <td>H4b</td>\n",
       "      <td>4</td>\n",
       "      <td>200</td>\n",
       "      <td>NaN</td>\n",
       "      <td>new</td>\n",
       "      <td>g.c</td>\n",
       "      <td>yes</td>\n",
       "      <td>0</td>\n",
       "      <td>F</td>\n",
       "      <td>NaN</td>\n",
       "      <td>Uo</td>\n",
       "      <td>48</td>\n",
       "      <td>69</td>\n",
       "      <td>6 - 17</td>\n",
       "      <td>27-11</td>\n",
       "    </tr>\n",
       "  </tbody>\n",
       "</table>\n",
       "</div>"
      ],
      "text/plain": [
       "    autotomized                 date                             location  \\\n",
       "0.0         NaN  2011-06-20 00:00:00                           15m up CCC   \n",
       "1.0         NaN  2011-06-28 00:00:00  big juniper right 8m ^ juniper Xing   \n",
       "2.0         NaN  2011-06-20 00:00:00                            opp oak R   \n",
       "3.0         NaN  2011-06-28 00:00:00                               CC/CCC   \n",
       "4.0         NaN  2011-07-02 00:00:00                                  H4b   \n",
       "\n",
       "     mass meters                   misc new.recap paint.mark painted rtl sex  \\\n",
       "0.0   9.2    255          recently shed       new       g20b     yes   0   M   \n",
       "1.0  13.8    203                    NaN       new       g40b     yes   0   M   \n",
       "2.0     4    418                    NaN       new        g.t     yes   0   M   \n",
       "3.0   4.2    240  Orange throat; gravid       new        g.b     yes   0   F   \n",
       "4.0     4    200                    NaN       new        g.c     yes   0   F   \n",
       "\n",
       "    sighting species svl   tl        toes     vial  \n",
       "0.0      NaN      sj  68  101  4 - 6 - 12  08 - 11  \n",
       "1.0      NaN      sj  77  106  4 - 6 - 13  21 - 11  \n",
       "2.0      NaN      Uo  49   83      6 - 15  09 - 11  \n",
       "3.0      NaN      uo  49   72      6 - 16  22 - 11  \n",
       "4.0      NaN      Uo  48   69      6 - 17    27-11  "
      ]
     },
     "execution_count": 43,
     "metadata": {},
     "output_type": "execute_result"
    }
   ],
   "source": [
    "for file in rawfiles_ss:\n",
    "    df = pd.concat([df,readnclean(file,uniquecolsdict)],sort=True)\n",
    "    print(df.shape[0])\n",
    "print(\"\\n\\nFinal df has {} columns and {} rows.\".format(df.shape[1],df.shape[0]))\n",
    "df.head()"
   ]
  },
  {
   "cell_type": "markdown",
   "metadata": {},
   "source": [
    "For the *rawdata_ms* files we will apply a similar logic"
   ]
  },
  {
   "cell_type": "markdown",
   "metadata": {},
   "source": [
    "<a id='ExportingData'></a>"
   ]
  },
  {
   "cell_type": "markdown",
   "metadata": {},
   "source": [
    "# Exporting Data\n",
    "[Top](#TOC)"
   ]
  },
  {
   "cell_type": "code",
   "execution_count": null,
   "metadata": {},
   "outputs": [],
   "source": []
  }
 ],
 "metadata": {
  "kernelspec": {
   "display_name": "Python 3",
   "language": "python",
   "name": "python3"
  },
  "language_info": {
   "codemirror_mode": {
    "name": "ipython",
    "version": 3
   },
   "file_extension": ".py",
   "mimetype": "text/x-python",
   "name": "python",
   "nbconvert_exporter": "python",
   "pygments_lexer": "ipython3",
   "version": "3.6.5"
  }
 },
 "nbformat": 4,
 "nbformat_minor": 2
}
